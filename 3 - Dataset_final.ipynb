{
 "cells": [
  {
   "cell_type": "markdown",
   "metadata": {},
   "source": [
    "# Predicting the IMDb rating of Arrow (American TV Serie) through scripts\n",
    "## From the site: https://subslikescript.com/ \n",
    "## by: Anna Luiza Gomes"
   ]
  },
  {
   "cell_type": "markdown",
   "metadata": {},
   "source": [
    "# Obs:\n",
    "## 1. O primeiro jupyter notebook se refere ao webscraping dos scripts e a associacao a topicos de forma nao supervisionada usando LDA (este arquivo), o segundo se refere ao webscraping da pagina da serie no Wikipedia para obter a informacao de quantos users viram a serie e seus diretores e por último, a montagem do dataset final com o objetivo de obter o rating do IMBd de cada episodio."
   ]
  },
  {
   "cell_type": "markdown",
   "metadata": {},
   "source": [
    "## 2. Como próximo passo pretendo refinar o modelo LDA e aplicar Lemmatização e Stemização na etapa de pré-processamento dos dados, pois ainda nao consegui devido a erros que nao consegui solucionar. Também pretendo entender e melhorar o algoritmo de CART que no desenvolvimento final deu erro.  "
   ]
  },
  {
   "cell_type": "markdown",
   "metadata": {},
   "source": [
    "## 3. Irei continuar o estudo de LDA e aprimorar o paper com mais base teórica e trabalhos de referencia...como mudei muito de caminho ao longo do desenvolvimento certos artigos nao seriam mais relevantes ao trabalho, por isso a parte textual nao esta muito desenvolvida."
   ]
  },
  {
   "cell_type": "markdown",
   "metadata": {},
   "source": [
    "## 4. Estou fazendo este trabalho no github, se quiser posso disponibilizar o link tambem. Como nao está pronto, o repositorio esta fechado, mas ai pode me mandar um email (annalgs@id.uff.br) ou mensagem (992043770) que encaminho o link."
   ]
  },
  {
   "cell_type": "code",
   "execution_count": 28,
   "metadata": {},
   "outputs": [],
   "source": [
    "# Imports\n",
    "import pandas as pd\n",
    "import numpy as np\n",
    "import matplotlib.pyplot as plt\n",
    "from sklearn.model_selection import train_test_split\n",
    "from sklearn.model_selection import KFold\n",
    "from sklearn.model_selection import cross_val_score\n",
    "from sklearn.model_selection import GridSearchCV # para o grid search\n",
    "from sklearn.metrics import classification_report\n",
    "from sklearn.metrics import confusion_matrix\n",
    "from sklearn.cluster import KMeans"
   ]
  },
  {
   "cell_type": "code",
   "execution_count": 2,
   "metadata": {},
   "outputs": [],
   "source": [
    "# configuração para não exibir os warnings\n",
    "\n",
    "import warnings\n",
    "warnings.filterwarnings(\"ignore\")\n",
    "\n",
    "# ignorando future warnings\n",
    "from warnings import simplefilter\n",
    "simplefilter(action='ignore', category=FutureWarning)"
   ]
  },
  {
   "cell_type": "code",
   "execution_count": 3,
   "metadata": {},
   "outputs": [],
   "source": [
    "scripts = pd.read_csv('Data/scripts.csv', sep=\";\")"
   ]
  },
  {
   "cell_type": "code",
   "execution_count": 4,
   "metadata": {},
   "outputs": [],
   "source": [
    "scripts.drop('Unnamed: 0', axis=1, inplace=True)"
   ]
  },
  {
   "cell_type": "code",
   "execution_count": 5,
   "metadata": {},
   "outputs": [
    {
     "data": {
      "text/html": [
       "<div>\n",
       "<style scoped>\n",
       "    .dataframe tbody tr th:only-of-type {\n",
       "        vertical-align: middle;\n",
       "    }\n",
       "\n",
       "    .dataframe tbody tr th {\n",
       "        vertical-align: top;\n",
       "    }\n",
       "\n",
       "    .dataframe thead th {\n",
       "        text-align: right;\n",
       "    }\n",
       "</style>\n",
       "<table border=\"1\" class=\"dataframe\">\n",
       "  <thead>\n",
       "    <tr style=\"text-align: right;\">\n",
       "      <th></th>\n",
       "      <th>nome_ep</th>\n",
       "      <th>Episodios</th>\n",
       "      <th>text_processed</th>\n",
       "      <th>0</th>\n",
       "      <th>1</th>\n",
       "      <th>2</th>\n",
       "      <th>nota_imdb</th>\n",
       "      <th>qtd_reviews</th>\n",
       "      <th>Topic</th>\n",
       "    </tr>\n",
       "  </thead>\n",
       "  <tbody>\n",
       "    <tr>\n",
       "      <th>0</th>\n",
       "      <td>/series/Arrow-2193021/season-1/episode-1-Pilot</td>\n",
       "      <td>The name of the islandthey found me on is Lian...</td>\n",
       "      <td>the name of the islandthey found me on is lian...</td>\n",
       "      <td>0.287473</td>\n",
       "      <td>0.652349</td>\n",
       "      <td>0.060177</td>\n",
       "      <td>8.5</td>\n",
       "      <td>7572</td>\n",
       "      <td>1</td>\n",
       "    </tr>\n",
       "    <tr>\n",
       "      <th>1</th>\n",
       "      <td>/series/Arrow-2193021/season-1/episode-2-Honor...</td>\n",
       "      <td>[PANTING][GRUNTS][SPEAKING IN FOREIGN LANGUAGE...</td>\n",
       "      <td>[panting][grunts][speaking in foreign language...</td>\n",
       "      <td>0.735218</td>\n",
       "      <td>0.034977</td>\n",
       "      <td>0.229805</td>\n",
       "      <td>8.2</td>\n",
       "      <td>5731</td>\n",
       "      <td>0</td>\n",
       "    </tr>\n",
       "    <tr>\n",
       "      <th>2</th>\n",
       "      <td>/series/Arrow-2193021/season-1/episode-3-Lone_...</td>\n",
       "      <td>My name is Oliver Queen.To my family, I am the...</td>\n",
       "      <td>my name is oliver queen to my family  i am the...</td>\n",
       "      <td>0.025055</td>\n",
       "      <td>0.160141</td>\n",
       "      <td>0.814804</td>\n",
       "      <td>8.4</td>\n",
       "      <td>5367</td>\n",
       "      <td>2</td>\n",
       "    </tr>\n",
       "    <tr>\n",
       "      <th>3</th>\n",
       "      <td>/series/Arrow-2193021/season-1/episode-4-An_In...</td>\n",
       "      <td>My name is Oliver Queen.For 5 years, I was str...</td>\n",
       "      <td>my name is oliver queen for 5 years  i was str...</td>\n",
       "      <td>0.100796</td>\n",
       "      <td>0.415217</td>\n",
       "      <td>0.483987</td>\n",
       "      <td>8.3</td>\n",
       "      <td>5071</td>\n",
       "      <td>2</td>\n",
       "    </tr>\n",
       "    <tr>\n",
       "      <th>4</th>\n",
       "      <td>/series/Arrow-2193021/season-1/episode-5-Damaged</td>\n",
       "      <td>OLIVER:My name is Oliver Queen.For five years,...</td>\n",
       "      <td>oliver:my name is oliver queen for five years ...</td>\n",
       "      <td>0.755971</td>\n",
       "      <td>0.149650</td>\n",
       "      <td>0.094378</td>\n",
       "      <td>8.6</td>\n",
       "      <td>5011</td>\n",
       "      <td>0</td>\n",
       "    </tr>\n",
       "  </tbody>\n",
       "</table>\n",
       "</div>"
      ],
      "text/plain": [
       "                                             nome_ep  \\\n",
       "0     /series/Arrow-2193021/season-1/episode-1-Pilot   \n",
       "1  /series/Arrow-2193021/season-1/episode-2-Honor...   \n",
       "2  /series/Arrow-2193021/season-1/episode-3-Lone_...   \n",
       "3  /series/Arrow-2193021/season-1/episode-4-An_In...   \n",
       "4   /series/Arrow-2193021/season-1/episode-5-Damaged   \n",
       "\n",
       "                                           Episodios  \\\n",
       "0  The name of the islandthey found me on is Lian...   \n",
       "1  [PANTING][GRUNTS][SPEAKING IN FOREIGN LANGUAGE...   \n",
       "2  My name is Oliver Queen.To my family, I am the...   \n",
       "3  My name is Oliver Queen.For 5 years, I was str...   \n",
       "4  OLIVER:My name is Oliver Queen.For five years,...   \n",
       "\n",
       "                                      text_processed         0         1  \\\n",
       "0  the name of the islandthey found me on is lian...  0.287473  0.652349   \n",
       "1  [panting][grunts][speaking in foreign language...  0.735218  0.034977   \n",
       "2  my name is oliver queen to my family  i am the...  0.025055  0.160141   \n",
       "3  my name is oliver queen for 5 years  i was str...  0.100796  0.415217   \n",
       "4  oliver:my name is oliver queen for five years ...  0.755971  0.149650   \n",
       "\n",
       "          2  nota_imdb  qtd_reviews  Topic  \n",
       "0  0.060177        8.5         7572      1  \n",
       "1  0.229805        8.2         5731      0  \n",
       "2  0.814804        8.4         5367      2  \n",
       "3  0.483987        8.3         5071      2  \n",
       "4  0.094378        8.6         5011      0  "
      ]
     },
     "execution_count": 5,
     "metadata": {},
     "output_type": "execute_result"
    }
   ],
   "source": [
    "scripts.head()"
   ]
  },
  {
   "cell_type": "code",
   "execution_count": 6,
   "metadata": {},
   "outputs": [
    {
     "data": {
      "text/plain": [
       "(165, 9)"
      ]
     },
     "execution_count": 6,
     "metadata": {},
     "output_type": "execute_result"
    }
   ],
   "source": [
    "scripts.shape"
   ]
  },
  {
   "cell_type": "code",
   "execution_count": 7,
   "metadata": {},
   "outputs": [],
   "source": [
    "wiki = pd.read_csv('Data/wikipedia.csv', sep=\";\")"
   ]
  },
  {
   "cell_type": "code",
   "execution_count": 8,
   "metadata": {},
   "outputs": [],
   "source": [
    "wiki.drop('Unnamed: 0', axis=1, inplace=True)"
   ]
  },
  {
   "cell_type": "code",
   "execution_count": 9,
   "metadata": {},
   "outputs": [
    {
     "data": {
      "text/html": [
       "<div>\n",
       "<style scoped>\n",
       "    .dataframe tbody tr th:only-of-type {\n",
       "        vertical-align: middle;\n",
       "    }\n",
       "\n",
       "    .dataframe tbody tr th {\n",
       "        vertical-align: top;\n",
       "    }\n",
       "\n",
       "    .dataframe thead th {\n",
       "        text-align: right;\n",
       "    }\n",
       "</style>\n",
       "<table border=\"1\" class=\"dataframe\">\n",
       "  <thead>\n",
       "    <tr style=\"text-align: right;\">\n",
       "      <th></th>\n",
       "      <th>No.overall</th>\n",
       "      <th>No. inseason</th>\n",
       "      <th>Title</th>\n",
       "      <th>Directed by</th>\n",
       "      <th>Written by</th>\n",
       "      <th>Original air date</th>\n",
       "      <th>Prod.code</th>\n",
       "      <th>U.S. viewers(millions)</th>\n",
       "    </tr>\n",
       "  </thead>\n",
       "  <tbody>\n",
       "    <tr>\n",
       "      <th>40</th>\n",
       "      <td>41</td>\n",
       "      <td>18</td>\n",
       "      <td>\"Deathstroke\"</td>\n",
       "      <td>Guy Bee</td>\n",
       "      <td>Marc Guggenheim &amp; Drew Z. Greenberg</td>\n",
       "      <td>April 2, 2014</td>\n",
       "      <td>2J7468</td>\n",
       "      <td>2.32[49]</td>\n",
       "    </tr>\n",
       "    <tr>\n",
       "      <th>49</th>\n",
       "      <td>50</td>\n",
       "      <td>4</td>\n",
       "      <td>\"The Magician\"</td>\n",
       "      <td>John Behring</td>\n",
       "      <td>Marc Guggenheim &amp; Wendy Mericle</td>\n",
       "      <td>October 29, 2014</td>\n",
       "      <td>3J5154</td>\n",
       "      <td>2.49[58]</td>\n",
       "    </tr>\n",
       "    <tr>\n",
       "      <th>149</th>\n",
       "      <td>150</td>\n",
       "      <td>12</td>\n",
       "      <td>\"Emerald Archer\"</td>\n",
       "      <td>Glen Winter</td>\n",
       "      <td>Marc Guggenheim &amp; Emilio Ortega Aldrich</td>\n",
       "      <td>February 4, 2019</td>\n",
       "      <td>T27.13662</td>\n",
       "      <td>1.07[159]</td>\n",
       "    </tr>\n",
       "    <tr>\n",
       "      <th>150</th>\n",
       "      <td>151</td>\n",
       "      <td>13</td>\n",
       "      <td>\"Star City Slayer\"</td>\n",
       "      <td>Gregory Smith</td>\n",
       "      <td>Beth Schwartz &amp; Jill Blankenship</td>\n",
       "      <td>February 11, 2019</td>\n",
       "      <td>T27.13663</td>\n",
       "      <td>1.09[160]</td>\n",
       "    </tr>\n",
       "    <tr>\n",
       "      <th>151</th>\n",
       "      <td>152</td>\n",
       "      <td>14</td>\n",
       "      <td>\"Brothers &amp; Sisters\"</td>\n",
       "      <td>Marcus Stokes</td>\n",
       "      <td>Rebecca Bellotto &amp; Jeane Wong</td>\n",
       "      <td>March 4, 2019</td>\n",
       "      <td>T27.13664</td>\n",
       "      <td>0.89[161]</td>\n",
       "    </tr>\n",
       "  </tbody>\n",
       "</table>\n",
       "</div>"
      ],
      "text/plain": [
       "     No.overall  No. inseason                 Title    Directed by  \\\n",
       "40           41            18         \"Deathstroke\"        Guy Bee   \n",
       "49           50             4        \"The Magician\"   John Behring   \n",
       "149         150            12      \"Emerald Archer\"    Glen Winter   \n",
       "150         151            13    \"Star City Slayer\"  Gregory Smith   \n",
       "151         152            14  \"Brothers & Sisters\"  Marcus Stokes   \n",
       "\n",
       "                                  Written by  Original air date  Prod.code  \\\n",
       "40       Marc Guggenheim & Drew Z. Greenberg      April 2, 2014     2J7468   \n",
       "49           Marc Guggenheim & Wendy Mericle   October 29, 2014     3J5154   \n",
       "149  Marc Guggenheim & Emilio Ortega Aldrich   February 4, 2019  T27.13662   \n",
       "150         Beth Schwartz & Jill Blankenship  February 11, 2019  T27.13663   \n",
       "151            Rebecca Bellotto & Jeane Wong      March 4, 2019  T27.13664   \n",
       "\n",
       "    U.S. viewers(millions)  \n",
       "40                2.32[49]  \n",
       "49                2.49[58]  \n",
       "149              1.07[159]  \n",
       "150              1.09[160]  \n",
       "151              0.89[161]  "
      ]
     },
     "execution_count": 9,
     "metadata": {},
     "output_type": "execute_result"
    }
   ],
   "source": [
    "# the script is missing the episodes 12,13,14 from season 7 and episode 4 from season 3\n",
    "# plus episode 18 from season 2 which is in portuguese\n",
    "wiki.loc[[40,49,149,150,151]]  "
   ]
  },
  {
   "cell_type": "code",
   "execution_count": 10,
   "metadata": {},
   "outputs": [],
   "source": [
    "wiki = wiki.drop(wiki.index[[40,49,149,150,151]]) #removing line 40"
   ]
  },
  {
   "cell_type": "code",
   "execution_count": 11,
   "metadata": {},
   "outputs": [],
   "source": [
    "wiki = wiki.reset_index(drop=True)"
   ]
  },
  {
   "cell_type": "code",
   "execution_count": 12,
   "metadata": {},
   "outputs": [
    {
     "data": {
      "text/plain": [
       "(165, 8)"
      ]
     },
     "execution_count": 12,
     "metadata": {},
     "output_type": "execute_result"
    }
   ],
   "source": [
    "wiki.shape"
   ]
  },
  {
   "cell_type": "code",
   "execution_count": 13,
   "metadata": {},
   "outputs": [],
   "source": [
    "dataset = pd.concat([wiki, scripts], axis=1) "
   ]
  },
  {
   "cell_type": "code",
   "execution_count": 14,
   "metadata": {},
   "outputs": [
    {
     "data": {
      "text/plain": [
       "Index(['No.overall', 'No. inseason', 'Title', 'Directed by', 'Written by',\n",
       "       'Original air date', 'Prod.code', 'U.S. viewers(millions)', 'nome_ep',\n",
       "       'Episodios', 'text_processed', '0', '1', '2', 'nota_imdb',\n",
       "       'qtd_reviews', 'Topic'],\n",
       "      dtype='object')"
      ]
     },
     "execution_count": 14,
     "metadata": {},
     "output_type": "execute_result"
    }
   ],
   "source": [
    "dataset.columns"
   ]
  },
  {
   "cell_type": "code",
   "execution_count": 15,
   "metadata": {},
   "outputs": [],
   "source": [
    "dataset[['viewers(millions)','residual']] = dataset['U.S. viewers(millions)'].str.split('[',expand=True)"
   ]
  },
  {
   "cell_type": "code",
   "execution_count": 16,
   "metadata": {},
   "outputs": [],
   "source": [
    "dataset.drop(['U.S. viewers(millions)','residual','Title','text_processed','nome_ep','Topic','Episodios', 'No.overall', 'No. inseason', 'Written by', 'Prod.code', 'Original air date'], axis = 1 ,inplace = True)"
   ]
  },
  {
   "cell_type": "code",
   "execution_count": 17,
   "metadata": {},
   "outputs": [],
   "source": [
    "dataset = dataset[[ 'Directed by', 'qtd_reviews', '0','1','2', 'viewers(millions)',  'nota_imdb']]"
   ]
  },
  {
   "cell_type": "code",
   "execution_count": 18,
   "metadata": {},
   "outputs": [],
   "source": [
    "dataset.columns = ['Directed_by',  'qtd_reviews', '0','1','2','viewers(millions)',  'nota_imdb']"
   ]
  },
  {
   "cell_type": "code",
   "execution_count": 19,
   "metadata": {},
   "outputs": [
    {
     "data": {
      "text/html": [
       "<div>\n",
       "<style scoped>\n",
       "    .dataframe tbody tr th:only-of-type {\n",
       "        vertical-align: middle;\n",
       "    }\n",
       "\n",
       "    .dataframe tbody tr th {\n",
       "        vertical-align: top;\n",
       "    }\n",
       "\n",
       "    .dataframe thead th {\n",
       "        text-align: right;\n",
       "    }\n",
       "</style>\n",
       "<table border=\"1\" class=\"dataframe\">\n",
       "  <thead>\n",
       "    <tr style=\"text-align: right;\">\n",
       "      <th></th>\n",
       "      <th>Directed_by</th>\n",
       "      <th>qtd_reviews</th>\n",
       "      <th>0</th>\n",
       "      <th>1</th>\n",
       "      <th>2</th>\n",
       "      <th>viewers(millions)</th>\n",
       "      <th>nota_imdb</th>\n",
       "    </tr>\n",
       "  </thead>\n",
       "  <tbody>\n",
       "    <tr>\n",
       "      <th>0</th>\n",
       "      <td>David Nutter</td>\n",
       "      <td>7572</td>\n",
       "      <td>0.287473</td>\n",
       "      <td>0.652349</td>\n",
       "      <td>0.060177</td>\n",
       "      <td>4.14</td>\n",
       "      <td>8.5</td>\n",
       "    </tr>\n",
       "    <tr>\n",
       "      <th>1</th>\n",
       "      <td>David Barrett</td>\n",
       "      <td>5731</td>\n",
       "      <td>0.735218</td>\n",
       "      <td>0.034977</td>\n",
       "      <td>0.229805</td>\n",
       "      <td>3.55</td>\n",
       "      <td>8.2</td>\n",
       "    </tr>\n",
       "    <tr>\n",
       "      <th>2</th>\n",
       "      <td>Guy Bee</td>\n",
       "      <td>5367</td>\n",
       "      <td>0.025055</td>\n",
       "      <td>0.160141</td>\n",
       "      <td>0.814804</td>\n",
       "      <td>3.51</td>\n",
       "      <td>8.4</td>\n",
       "    </tr>\n",
       "    <tr>\n",
       "      <th>3</th>\n",
       "      <td>Vince Misiano</td>\n",
       "      <td>5071</td>\n",
       "      <td>0.100796</td>\n",
       "      <td>0.415217</td>\n",
       "      <td>0.483987</td>\n",
       "      <td>3.05</td>\n",
       "      <td>8.3</td>\n",
       "    </tr>\n",
       "    <tr>\n",
       "      <th>4</th>\n",
       "      <td>Michael Schultz</td>\n",
       "      <td>5011</td>\n",
       "      <td>0.755971</td>\n",
       "      <td>0.149650</td>\n",
       "      <td>0.094378</td>\n",
       "      <td>3.75</td>\n",
       "      <td>8.6</td>\n",
       "    </tr>\n",
       "  </tbody>\n",
       "</table>\n",
       "</div>"
      ],
      "text/plain": [
       "       Directed_by  qtd_reviews         0         1         2  \\\n",
       "0     David Nutter         7572  0.287473  0.652349  0.060177   \n",
       "1    David Barrett         5731  0.735218  0.034977  0.229805   \n",
       "2          Guy Bee         5367  0.025055  0.160141  0.814804   \n",
       "3    Vince Misiano         5071  0.100796  0.415217  0.483987   \n",
       "4  Michael Schultz         5011  0.755971  0.149650  0.094378   \n",
       "\n",
       "  viewers(millions)  nota_imdb  \n",
       "0              4.14        8.5  \n",
       "1              3.55        8.2  \n",
       "2              3.51        8.4  \n",
       "3              3.05        8.3  \n",
       "4              3.75        8.6  "
      ]
     },
     "execution_count": 19,
     "metadata": {},
     "output_type": "execute_result"
    }
   ],
   "source": [
    "dataset.head()"
   ]
  },
  {
   "cell_type": "code",
   "execution_count": 20,
   "metadata": {},
   "outputs": [],
   "source": [
    "dataset[\"viewers(millions)\"] = pd.to_numeric(dataset[\"viewers(millions)\"])"
   ]
  },
  {
   "cell_type": "code",
   "execution_count": 21,
   "metadata": {},
   "outputs": [
    {
     "name": "stdout",
     "output_type": "stream",
     "text": [
      "<class 'pandas.core.frame.DataFrame'>\n",
      "RangeIndex: 165 entries, 0 to 164\n",
      "Data columns (total 7 columns):\n",
      " #   Column             Non-Null Count  Dtype  \n",
      "---  ------             --------------  -----  \n",
      " 0   Directed_by        165 non-null    object \n",
      " 1   qtd_reviews        165 non-null    int64  \n",
      " 2   0                  165 non-null    float64\n",
      " 3   1                  165 non-null    float64\n",
      " 4   2                  165 non-null    float64\n",
      " 5   viewers(millions)  165 non-null    float64\n",
      " 6   nota_imdb          165 non-null    float64\n",
      "dtypes: float64(5), int64(1), object(1)\n",
      "memory usage: 9.1+ KB\n"
     ]
    }
   ],
   "source": [
    "dataset.info()"
   ]
  },
  {
   "cell_type": "markdown",
   "metadata": {},
   "source": [
    "## Splitting the dataset in test and train for clusterization"
   ]
  },
  {
   "cell_type": "code",
   "execution_count": 22,
   "metadata": {},
   "outputs": [],
   "source": [
    "from sklearn.preprocessing import OrdinalEncoder\n",
    "\n",
    "# definindo a transformação ordinal encoding\n",
    "encoder = OrdinalEncoder()\n",
    "\n",
    "# transformando os dados\n",
    "dataset[[\"Directed_by\"]] = encoder.fit_transform(dataset[[\"Directed_by\"]])"
   ]
  },
  {
   "cell_type": "code",
   "execution_count": 23,
   "metadata": {},
   "outputs": [
    {
     "data": {
      "text/html": [
       "<div>\n",
       "<style scoped>\n",
       "    .dataframe tbody tr th:only-of-type {\n",
       "        vertical-align: middle;\n",
       "    }\n",
       "\n",
       "    .dataframe tbody tr th {\n",
       "        vertical-align: top;\n",
       "    }\n",
       "\n",
       "    .dataframe thead th {\n",
       "        text-align: right;\n",
       "    }\n",
       "</style>\n",
       "<table border=\"1\" class=\"dataframe\">\n",
       "  <thead>\n",
       "    <tr style=\"text-align: right;\">\n",
       "      <th></th>\n",
       "      <th>Directed_by</th>\n",
       "      <th>qtd_reviews</th>\n",
       "      <th>0</th>\n",
       "      <th>1</th>\n",
       "      <th>2</th>\n",
       "      <th>viewers(millions)</th>\n",
       "      <th>nota_imdb</th>\n",
       "    </tr>\n",
       "  </thead>\n",
       "  <tbody>\n",
       "    <tr>\n",
       "      <th>0</th>\n",
       "      <td>9.0</td>\n",
       "      <td>7572</td>\n",
       "      <td>0.287473</td>\n",
       "      <td>0.652349</td>\n",
       "      <td>0.060177</td>\n",
       "      <td>4.14</td>\n",
       "      <td>8.5</td>\n",
       "    </tr>\n",
       "    <tr>\n",
       "      <th>1</th>\n",
       "      <td>7.0</td>\n",
       "      <td>5731</td>\n",
       "      <td>0.735218</td>\n",
       "      <td>0.034977</td>\n",
       "      <td>0.229805</td>\n",
       "      <td>3.55</td>\n",
       "      <td>8.2</td>\n",
       "    </tr>\n",
       "    <tr>\n",
       "      <th>2</th>\n",
       "      <td>18.0</td>\n",
       "      <td>5367</td>\n",
       "      <td>0.025055</td>\n",
       "      <td>0.160141</td>\n",
       "      <td>0.814804</td>\n",
       "      <td>3.51</td>\n",
       "      <td>8.4</td>\n",
       "    </tr>\n",
       "    <tr>\n",
       "      <th>3</th>\n",
       "      <td>49.0</td>\n",
       "      <td>5071</td>\n",
       "      <td>0.100796</td>\n",
       "      <td>0.415217</td>\n",
       "      <td>0.483987</td>\n",
       "      <td>3.05</td>\n",
       "      <td>8.3</td>\n",
       "    </tr>\n",
       "    <tr>\n",
       "      <th>4</th>\n",
       "      <td>40.0</td>\n",
       "      <td>5011</td>\n",
       "      <td>0.755971</td>\n",
       "      <td>0.149650</td>\n",
       "      <td>0.094378</td>\n",
       "      <td>3.75</td>\n",
       "      <td>8.6</td>\n",
       "    </tr>\n",
       "  </tbody>\n",
       "</table>\n",
       "</div>"
      ],
      "text/plain": [
       "   Directed_by  qtd_reviews         0         1         2  viewers(millions)  \\\n",
       "0          9.0         7572  0.287473  0.652349  0.060177               4.14   \n",
       "1          7.0         5731  0.735218  0.034977  0.229805               3.55   \n",
       "2         18.0         5367  0.025055  0.160141  0.814804               3.51   \n",
       "3         49.0         5071  0.100796  0.415217  0.483987               3.05   \n",
       "4         40.0         5011  0.755971  0.149650  0.094378               3.75   \n",
       "\n",
       "   nota_imdb  \n",
       "0        8.5  \n",
       "1        8.2  \n",
       "2        8.4  \n",
       "3        8.3  \n",
       "4        8.6  "
      ]
     },
     "execution_count": 23,
     "metadata": {},
     "output_type": "execute_result"
    }
   ],
   "source": [
    "dataset.head()"
   ]
  },
  {
   "cell_type": "code",
   "execution_count": 24,
   "metadata": {},
   "outputs": [],
   "source": [
    "# separando os atributos e a classe do dataset\n",
    "array = dataset.values\n",
    "X = array[:,0:6]\n",
    "Y = array[:,6]\n",
    "\n",
    "# definindo o tamanho do conjunto de teste\n",
    "test_size = 0.20 \n",
    "\n",
    "# A semente (seed) pode ser qualquer número, e garante que os resultados possam ser reproduzidos de forma idêntica toda vez que o script for rodado. \n",
    "# Isto é muito importante quando trabalhamos com modelos ou métodos que utilizam de algum tipo de aleatoriedade.\n",
    "seed = 7\n",
    "\n",
    "# particionando em conjuntos de treino e teste\n",
    "X_train, X_test, Y_train, Y_test = train_test_split(X, Y, test_size=test_size, random_state=seed)"
   ]
  },
  {
   "cell_type": "code",
   "execution_count": 25,
   "metadata": {},
   "outputs": [
    {
     "data": {
      "text/plain": [
       "array([[9.00000000e+00, 7.57200000e+03, 2.87473172e-01, 6.52349412e-01,\n",
       "        6.01773895e-02, 4.14000000e+00],\n",
       "       [7.00000000e+00, 5.73100000e+03, 7.35218167e-01, 3.49773057e-02,\n",
       "        2.29804546e-01, 3.55000000e+00],\n",
       "       [1.80000000e+01, 5.36700000e+03, 2.50554122e-02, 1.60140887e-01,\n",
       "        8.14803720e-01, 3.51000000e+00],\n",
       "       [4.90000000e+01, 5.07100000e+03, 1.00796103e-01, 4.15216684e-01,\n",
       "        4.83987212e-01, 3.05000000e+00],\n",
       "       [4.00000000e+01, 5.01100000e+03, 7.55971313e-01, 1.49650171e-01,\n",
       "        9.43784639e-02, 3.75000000e+00],\n",
       "       [2.40000000e+01, 4.74900000e+03, 2.03703698e-02, 7.01274037e-01,\n",
       "        2.78355628e-01, 3.83000000e+00],\n",
       "       [8.00000000e+00, 4.66400000e+03, 1.33426283e-02, 3.97993140e-02,\n",
       "        9.46858108e-01, 3.74000000e+00],\n",
       "       [2.80000000e+01, 4.53900000e+03, 4.07098681e-02, 4.37651187e-01,\n",
       "        5.21638989e-01, 3.35000000e+00],\n",
       "       [2.50000000e+01, 4.35300000e+03, 2.40394890e-01, 7.57118165e-01,\n",
       "        0.00000000e+00, 3.11000000e+00],\n",
       "       [1.40000000e+01, 4.45400000e+03, 1.85105354e-02, 9.48825181e-01,\n",
       "        3.26642729e-02, 3.06000000e+00],\n",
       "       [4.10000000e+01, 4.25500000e+03, 2.06435826e-02, 6.66649163e-01,\n",
       "        3.12707245e-01, 3.14000000e+00],\n",
       "       [5.00000000e+01, 4.29500000e+03, 1.30102217e-01, 8.44426394e-01,\n",
       "        2.54713725e-02, 2.97000000e+00],\n",
       "       [1.80000000e+01, 4.39300000e+03, 3.56591865e-02, 9.39488828e-01,\n",
       "        2.48519722e-02, 2.96000000e+00],\n",
       "       [2.40000000e+01, 4.67800000e+03, 9.20646071e-01, 7.43752643e-02,\n",
       "        0.00000000e+00, 3.29000000e+00],\n",
       "       [1.40000000e+01, 4.18300000e+03, 3.50219935e-01, 4.86645490e-01,\n",
       "        1.63134590e-01, 3.15000000e+00],\n",
       "       [1.50000000e+01, 4.36400000e+03, 3.45577419e-01, 5.41421950e-01,\n",
       "        1.13000631e-01, 3.17000000e+00],\n",
       "       [1.80000000e+01, 4.19300000e+03, 1.96144521e-01, 6.87597871e-01,\n",
       "        1.16257571e-01, 3.02000000e+00],\n",
       "       [4.10000000e+01, 4.08600000e+03, 9.99753654e-01, 0.00000000e+00,\n",
       "        0.00000000e+00, 2.65000000e+00],\n",
       "       [3.90000000e+01, 4.02300000e+03, 8.30500796e-02, 8.79070580e-01,\n",
       "        3.78793739e-02, 2.92000000e+00],\n",
       "       [2.80000000e+01, 4.09000000e+03, 1.63971752e-01, 8.35729241e-01,\n",
       "        0.00000000e+00, 3.10000000e+00],\n",
       "       [4.00000000e+01, 4.36700000e+03, 2.90687591e-01, 6.81939721e-01,\n",
       "        2.73726899e-02, 2.89000000e+00],\n",
       "       [2.40000000e+01, 4.89700000e+03, 1.66356992e-02, 9.39873636e-01,\n",
       "        4.34906445e-02, 2.62000000e+00],\n",
       "       [7.00000000e+00, 7.37500000e+03, 2.88970649e-01, 7.05887139e-01,\n",
       "        0.00000000e+00, 2.77000000e+00],\n",
       "       [2.40000000e+01, 5.47100000e+03, 4.39646542e-02, 3.31906863e-02,\n",
       "        9.22844648e-01, 2.74000000e+00],\n",
       "       [4.10000000e+01, 4.42700000e+03, 1.65777449e-02, 5.43801844e-01,\n",
       "        4.39620376e-01, 3.06000000e+00],\n",
       "       [1.50000000e+01, 4.53400000e+03, 5.44969812e-02, 9.29603338e-01,\n",
       "        1.58996861e-02, 2.89000000e+00],\n",
       "       [1.40000000e+01, 4.40400000e+03, 2.71490306e-01, 5.16530216e-01,\n",
       "        2.11979493e-01, 2.37000000e+00],\n",
       "       [5.00000000e+01, 4.44700000e+03, 9.80320722e-02, 8.35896015e-01,\n",
       "        6.60719126e-02, 2.80000000e+00],\n",
       "       [1.80000000e+01, 4.12200000e+03, 2.26059034e-02, 9.23748374e-01,\n",
       "        5.36456779e-02, 3.09000000e+00],\n",
       "       [5.00000000e+00, 4.23900000e+03, 5.14002852e-02, 6.37059987e-01,\n",
       "        3.11539769e-01, 2.66000000e+00],\n",
       "       [4.00000000e+01, 4.95000000e+03, 3.04792821e-01, 4.77988213e-01,\n",
       "        2.17218950e-01, 3.24000000e+00],\n",
       "       [2.40000000e+01, 5.72000000e+03, 2.04217240e-01, 7.79144287e-01,\n",
       "        1.66385323e-02, 3.02000000e+00],\n",
       "       [4.40000000e+01, 3.92100000e+03, 4.09949958e-01, 5.17772734e-01,\n",
       "        7.22773522e-02, 2.52000000e+00],\n",
       "       [1.50000000e+01, 3.93300000e+03, 4.08234000e-01, 5.46750426e-01,\n",
       "        4.50155623e-02, 2.49000000e+00],\n",
       "       [1.80000000e+01, 3.97700000e+03, 2.96587981e-02, 6.79521203e-01,\n",
       "        2.90819973e-01, 2.95000000e+00],\n",
       "       [5.00000000e+01, 4.26400000e+03, 2.89973706e-01, 7.03457177e-01,\n",
       "        0.00000000e+00, 2.86000000e+00],\n",
       "       [4.10000000e+01, 4.26700000e+03, 8.40664506e-02, 9.13155854e-01,\n",
       "        0.00000000e+00, 2.45000000e+00],\n",
       "       [1.50000000e+01, 4.95100000e+03, 5.72745323e-01, 3.85067344e-01,\n",
       "        4.21873815e-02, 2.21000000e+00],\n",
       "       [3.30000000e+01, 4.09100000e+03, 3.55204940e-02, 7.41690457e-01,\n",
       "        2.22789019e-01, 2.42000000e+00],\n",
       "       [2.40000000e+01, 3.84600000e+03, 5.11933804e-01, 7.03118443e-02,\n",
       "        4.17754382e-01, 2.62000000e+00],\n",
       "       [2.10000000e+01, 4.42700000e+03, 2.16367230e-01, 7.22625792e-01,\n",
       "        6.10070117e-02, 2.26000000e+00],\n",
       "       [1.20000000e+01, 6.13600000e+03, 2.28107974e-01, 1.86438099e-01,\n",
       "        5.85453928e-01, 2.19000000e+00],\n",
       "       [4.00000000e+01, 4.67100000e+03, 4.20408286e-02, 9.22264576e-01,\n",
       "        3.56946103e-02, 2.31000000e+00],\n",
       "       [4.10000000e+01, 5.01600000e+03, 2.83046924e-02, 9.26129580e-01,\n",
       "        4.55656685e-02, 2.33000000e+00],\n",
       "       [2.40000000e+01, 7.07000000e+03, 1.13891950e-02, 6.81351662e-01,\n",
       "        3.07259172e-01, 2.37000000e+00],\n",
       "       [1.50000000e+01, 5.73900000e+03, 8.49231556e-02, 8.17265213e-01,\n",
       "        9.78116095e-02, 2.83000000e+00],\n",
       "       [5.00000000e+01, 4.20400000e+03, 2.92806197e-02, 9.69651341e-01,\n",
       "        0.00000000e+00, 2.32000000e+00],\n",
       "       [4.60000000e+01, 3.89700000e+03, 6.85286745e-02, 8.83421421e-01,\n",
       "        4.80499081e-02, 2.55000000e+00],\n",
       "       [4.00000000e+01, 4.34700000e+03, 5.49224555e-01, 3.58824402e-01,\n",
       "        9.19510499e-02, 2.73000000e+00],\n",
       "       [4.30000000e+01, 3.70800000e+03, 6.55995667e-01, 2.61977702e-01,\n",
       "        8.20266381e-02, 2.60000000e+00],\n",
       "       [4.40000000e+01, 3.87000000e+03, 6.03990495e-01, 8.69885311e-02,\n",
       "        3.09020936e-01, 2.64000000e+00],\n",
       "       [2.10000000e+01, 5.73300000e+03, 1.89890489e-01, 1.26426592e-01,\n",
       "        6.83682919e-01, 3.92000000e+00],\n",
       "       [4.80000000e+01, 1.13470000e+04, 2.54778206e-01, 3.91672075e-01,\n",
       "        3.53549749e-01, 3.06000000e+00],\n",
       "       [1.50000000e+01, 4.20300000e+03, 4.51192223e-02, 9.39268529e-01,\n",
       "        1.56122083e-02, 3.06000000e+00],\n",
       "       [4.10000000e+01, 3.68400000e+03, 7.30070472e-02, 8.79720509e-01,\n",
       "        4.72724512e-02, 2.91000000e+00],\n",
       "       [2.10000000e+01, 3.93700000e+03, 1.64674997e-01, 6.29952312e-01,\n",
       "        2.05372721e-01, 2.94000000e+00],\n",
       "       [4.00000000e+01, 3.74800000e+03, 9.45691168e-02, 5.86887062e-01,\n",
       "        3.18543822e-01, 2.67000000e+00],\n",
       "       [1.10000000e+01, 3.80600000e+03, 6.05198264e-01, 3.87400478e-01,\n",
       "        0.00000000e+00, 2.91000000e+00],\n",
       "       [1.70000000e+01, 4.56100000e+03, 1.66255727e-01, 6.12058699e-01,\n",
       "        2.21685588e-01, 3.07000000e+00],\n",
       "       [1.10000000e+01, 3.69200000e+03, 1.37364659e-02, 7.51872063e-01,\n",
       "        2.34391481e-01, 2.56000000e+00],\n",
       "       [2.10000000e+01, 3.63500000e+03, 9.49845672e-01, 4.71259169e-02,\n",
       "        0.00000000e+00, 2.86000000e+00],\n",
       "       [1.30000000e+01, 4.15900000e+03, 2.09685400e-01, 7.36079931e-01,\n",
       "        5.42346910e-02, 2.48000000e+00],\n",
       "       [1.20000000e+01, 4.59900000e+03, 2.69234199e-02, 9.36341405e-01,\n",
       "        3.67352180e-02, 2.47000000e+00],\n",
       "       [2.00000000e+00, 4.35500000e+03, 7.74547577e-01, 1.65620133e-01,\n",
       "        5.98322973e-02, 2.72000000e+00],\n",
       "       [4.80000000e+01, 3.85500000e+03, 6.49592161e-01, 3.49787444e-01,\n",
       "        0.00000000e+00, 2.39000000e+00],\n",
       "       [5.00000000e+01, 4.13900000e+03, 4.41275865e-01, 5.48591971e-01,\n",
       "        1.01321731e-02, 2.54000000e+00],\n",
       "       [2.40000000e+01, 5.09900000e+03, 5.57430863e-01, 3.17759067e-01,\n",
       "        1.24810070e-01, 2.83000000e+00],\n",
       "       [4.80000000e+01, 5.01400000e+03, 2.25335546e-02, 8.36519599e-01,\n",
       "        1.40946880e-01, 2.67000000e+00],\n",
       "       [2.40000000e+01, 3.47900000e+03, 1.85841665e-01, 7.87736893e-01,\n",
       "        2.64214370e-02, 2.50000000e+00],\n",
       "       [5.00000000e+01, 3.35500000e+03, 1.89366527e-02, 9.17915046e-01,\n",
       "        6.31482676e-02, 2.40000000e+00],\n",
       "       [3.50000000e+01, 3.28900000e+03, 3.21016073e-01, 5.69127500e-01,\n",
       "        1.09856486e-01, 2.64000000e+00],\n",
       "       [2.30000000e+01, 4.40100000e+03, 2.64449418e-02, 9.51176822e-01,\n",
       "        2.23781969e-02, 2.60000000e+00],\n",
       "       [2.00000000e+00, 3.29500000e+03, 9.80125129e-01, 1.90060623e-02,\n",
       "        0.00000000e+00, 2.30000000e+00],\n",
       "       [2.00000000e+01, 3.08100000e+03, 9.65370178e-01, 2.48961039e-02,\n",
       "        0.00000000e+00, 2.69000000e+00],\n",
       "       [4.80000000e+01, 4.43200000e+03, 7.38991618e-01, 2.60832101e-01,\n",
       "        0.00000000e+00, 3.66000000e+00],\n",
       "       [2.40000000e+01, 3.82900000e+03, 9.69805121e-01, 3.00156400e-02,\n",
       "        0.00000000e+00, 2.82000000e+00],\n",
       "       [2.10000000e+01, 3.07800000e+03, 9.99524474e-01, 0.00000000e+00,\n",
       "        0.00000000e+00, 2.83000000e+00],\n",
       "       [6.00000000e+00, 2.95200000e+03, 2.73192257e-01, 7.16458976e-01,\n",
       "        1.03487559e-02, 2.78000000e+00],\n",
       "       [3.00000000e+01, 2.96700000e+03, 7.93782398e-02, 2.12519109e-01,\n",
       "        7.08102643e-01, 2.48000000e+00],\n",
       "       [1.60000000e+01, 3.13000000e+03, 2.18611792e-01, 7.80654311e-01,\n",
       "        0.00000000e+00, 2.44000000e+00],\n",
       "       [2.00000000e+01, 2.88500000e+03, 8.72715488e-02, 8.98280799e-01,\n",
       "        1.44476769e-02, 2.44000000e+00],\n",
       "       [1.70000000e+01, 3.22600000e+03, 9.86529469e-01, 0.00000000e+00,\n",
       "        0.00000000e+00, 2.70000000e+00],\n",
       "       [2.60000000e+01, 3.89600000e+03, 5.78081794e-02, 2.90336072e-01,\n",
       "        6.51855767e-01, 2.09000000e+00],\n",
       "       [4.00000000e+01, 3.38500000e+03, 1.56878475e-02, 5.68162322e-01,\n",
       "        4.16149825e-01, 2.34000000e+00],\n",
       "       [4.40000000e+01, 4.49400000e+03, 9.98898387e-01, 0.00000000e+00,\n",
       "        0.00000000e+00, 2.24000000e+00],\n",
       "       [3.40000000e+01, 3.62000000e+03, 9.98856962e-01, 0.00000000e+00,\n",
       "        0.00000000e+00, 2.27000000e+00],\n",
       "       [1.70000000e+01, 3.22800000e+03, 9.99575675e-01, 0.00000000e+00,\n",
       "        0.00000000e+00, 2.07000000e+00],\n",
       "       [3.10000000e+01, 3.03000000e+03, 1.35138690e-01, 8.47321689e-01,\n",
       "        1.75396111e-02, 2.16000000e+00],\n",
       "       [1.50000000e+01, 3.01700000e+03, 7.57596791e-01, 2.37346858e-01,\n",
       "        0.00000000e+00, 1.94000000e+00],\n",
       "       [2.40000000e+01, 5.27400000e+03, 9.90787566e-01, 0.00000000e+00,\n",
       "        0.00000000e+00, 2.19000000e+00],\n",
       "       [2.00000000e+01, 3.65000000e+03, 9.97013927e-01, 0.00000000e+00,\n",
       "        0.00000000e+00, 1.87000000e+00],\n",
       "       [2.00000000e+01, 2.97000000e+03, 7.00620651e-01, 2.77647853e-01,\n",
       "        2.17314586e-02, 1.94000000e+00],\n",
       "       [1.70000000e+01, 2.73600000e+03, 2.65877277e-01, 6.75878108e-01,\n",
       "        5.82445450e-02, 1.79000000e+00],\n",
       "       [1.10000000e+01, 2.60800000e+03, 3.42294246e-01, 6.44554377e-01,\n",
       "        1.31513206e-02, 1.87000000e+00],\n",
       "       [3.40000000e+01, 2.84800000e+03, 1.17553495e-01, 2.35338807e-01,\n",
       "        6.47107720e-01, 1.61000000e+00],\n",
       "       [2.40000000e+01, 2.58900000e+03, 2.08107427e-01, 7.88280189e-01,\n",
       "        0.00000000e+00, 1.95000000e+00],\n",
       "       [1.60000000e+01, 2.53600000e+03, 8.21262777e-01, 1.75191656e-01,\n",
       "        0.00000000e+00, 1.86000000e+00],\n",
       "       [2.00000000e+01, 4.39500000e+03, 9.78925645e-01, 2.05824133e-02,\n",
       "        0.00000000e+00, 3.55000000e+00],\n",
       "       [2.00000000e+00, 3.65600000e+03, 1.46034330e-01, 6.83627367e-01,\n",
       "        1.70338318e-01, 1.94000000e+00],\n",
       "       [1.70000000e+01, 2.67900000e+03, 1.84479188e-02, 9.66831505e-01,\n",
       "        1.47205796e-02, 1.68000000e+00],\n",
       "       [3.70000000e+01, 2.41300000e+03, 4.80784118e-01, 4.45676118e-01,\n",
       "        7.35397637e-02, 1.91000000e+00],\n",
       "       [4.00000000e+00, 2.32000000e+03, 1.02835827e-01, 4.22711998e-01,\n",
       "        4.74452168e-01, 1.61000000e+00],\n",
       "       [3.20000000e+01, 2.69800000e+03, 7.39877999e-01, 2.01659009e-01,\n",
       "        5.84630147e-02, 1.66000000e+00],\n",
       "       [3.80000000e+01, 2.27400000e+03, 1.70806512e-01, 3.02289188e-01,\n",
       "        5.26904285e-01, 1.54000000e+00],\n",
       "       [4.00000000e+01, 2.48600000e+03, 1.12221897e-01, 8.59884441e-01,\n",
       "        2.78936476e-02, 1.60000000e+00],\n",
       "       [2.90000000e+01, 2.93200000e+03, 1.42956987e-01, 8.56408060e-01,\n",
       "        0.00000000e+00, 1.53000000e+00],\n",
       "       [3.10000000e+01, 3.95600000e+03, 2.54405171e-01, 7.38802671e-01,\n",
       "        0.00000000e+00, 1.38000000e+00],\n",
       "       [1.90000000e+01, 2.51600000e+03, 1.21477805e-02, 3.34108174e-01,\n",
       "        6.53744042e-01, 1.55000000e+00],\n",
       "       [2.20000000e+01, 2.32200000e+03, 8.05312097e-02, 9.09145832e-01,\n",
       "        1.03229452e-02, 1.36000000e+00],\n",
       "       [5.00000000e+01, 2.96100000e+03, 1.56866144e-02, 9.81975555e-01,\n",
       "        0.00000000e+00, 1.36000000e+00],\n",
       "       [3.40000000e+01, 2.23900000e+03, 3.19599241e-01, 6.74921155e-01,\n",
       "        0.00000000e+00, 1.65000000e+00],\n",
       "       [3.60000000e+01, 2.97700000e+03, 7.60599196e-01, 2.39004865e-01,\n",
       "        0.00000000e+00, 1.44000000e+00],\n",
       "       [2.10000000e+01, 7.34200000e+03, 5.49784839e-01, 3.73342842e-01,\n",
       "        7.68723264e-02, 1.72000000e+00],\n",
       "       [2.00000000e+01, 2.70000000e+03, 6.56842664e-02, 9.29497838e-01,\n",
       "        0.00000000e+00, 1.52000000e+00],\n",
       "       [3.40000000e+01, 2.23100000e+03, 1.07603945e-01, 8.89370501e-01,\n",
       "        0.00000000e+00, 1.51000000e+00],\n",
       "       [3.10000000e+01, 2.11900000e+03, 3.13029349e-01, 6.72976136e-01,\n",
       "        1.39945177e-02, 1.34000000e+00],\n",
       "       [1.70000000e+01, 2.47300000e+03, 1.72486994e-02, 9.78277326e-01,\n",
       "        0.00000000e+00, 1.33000000e+00],\n",
       "       [2.20000000e+01, 2.50200000e+03, 2.27597192e-01, 7.04957008e-01,\n",
       "        6.74457699e-02, 1.29000000e+00],\n",
       "       [2.00000000e+00, 2.15000000e+03, 1.62401497e-01, 4.73066598e-01,\n",
       "        3.64531904e-01, 1.28000000e+00],\n",
       "       [1.60000000e+01, 1.94300000e+03, 6.79959208e-02, 9.26796913e-01,\n",
       "        0.00000000e+00, 1.09000000e+00],\n",
       "       [2.00000000e+01, 3.26800000e+03, 6.27384335e-02, 9.36024845e-01,\n",
       "        0.00000000e+00, 2.52000000e+00],\n",
       "       [3.40000000e+01, 2.21500000e+03, 5.02423272e-02, 8.82143676e-01,\n",
       "        6.76140711e-02, 1.30000000e+00],\n",
       "       [2.00000000e+01, 1.89100000e+03, 4.65724409e-01, 4.98530209e-01,\n",
       "        3.57453525e-02, 1.38000000e+00],\n",
       "       [5.00000000e+01, 1.83300000e+03, 9.69303191e-01, 2.47833896e-02,\n",
       "        0.00000000e+00, 1.38000000e+00],\n",
       "       [3.60000000e+01, 1.78100000e+03, 5.61191857e-01, 3.96381497e-01,\n",
       "        4.24266532e-02, 1.24000000e+00],\n",
       "       [1.90000000e+01, 1.92000000e+03, 3.66312936e-02, 9.56823170e-01,\n",
       "        0.00000000e+00, 1.30000000e+00],\n",
       "       [2.90000000e+01, 1.89800000e+03, 3.96612078e-01, 5.88394701e-01,\n",
       "        1.49931796e-02, 1.11000000e+00],\n",
       "       [3.20000000e+01, 1.82900000e+03, 7.21155033e-02, 9.23110783e-01,\n",
       "        0.00000000e+00, 1.28000000e+00],\n",
       "       [2.20000000e+01, 1.81100000e+03, 2.84033924e-01, 2.70212591e-01,\n",
       "        4.45753515e-01, 1.12000000e+00],\n",
       "       [3.70000000e+01, 1.88200000e+03, 1.27519548e-01, 8.59959960e-01,\n",
       "        1.25204967e-02, 8.70000000e-01],\n",
       "       [4.00000000e+00, 2.21100000e+03, 9.92005408e-01, 0.00000000e+00,\n",
       "        0.00000000e+00, 1.06000000e+00],\n",
       "       [1.60000000e+01, 2.04100000e+03, 8.96438658e-01, 1.02593802e-01,\n",
       "        0.00000000e+00, 9.60000000e-01],\n",
       "       [0.00000000e+00, 1.75800000e+03, 5.18110752e-01, 4.28652346e-01,\n",
       "        5.32369055e-02, 8.70000000e-01],\n",
       "       [1.00000000e+00, 2.06500000e+03, 3.59111093e-02, 9.61543679e-01,\n",
       "        0.00000000e+00, 1.10000000e+00],\n",
       "       [4.70000000e+01, 1.89600000e+03, 1.81517839e-01, 7.98470914e-01,\n",
       "        2.00112350e-02, 1.00000000e+00],\n",
       "       [2.00000000e+01, 2.27000000e+03, 3.83152217e-01, 5.42317808e-01,\n",
       "        7.45299533e-02, 1.35000000e+00],\n",
       "       [2.00000000e+01, 3.14400000e+03, 1.36970088e-01, 6.17751658e-01,\n",
       "        2.45278254e-01, 1.43000000e+00],\n",
       "       [3.40000000e+01, 2.11400000e+03, 9.87264574e-01, 0.00000000e+00,\n",
       "        0.00000000e+00, 1.18000000e+00],\n",
       "       [1.60000000e+01, 2.03800000e+03, 1.26765981e-01, 7.32373357e-01,\n",
       "        1.40860677e-01, 1.15000000e+00],\n",
       "       [4.00000000e+00, 1.94000000e+03, 3.12570073e-02, 9.50188160e-01,\n",
       "        1.85548421e-02, 1.08000000e+00],\n",
       "       [3.70000000e+01, 2.03900000e+03, 9.99091387e-01, 0.00000000e+00,\n",
       "        0.00000000e+00, 1.26000000e+00],\n",
       "       [3.20000000e+01, 1.88700000e+03, 9.77964640e-01, 1.57425050e-02,\n",
       "        0.00000000e+00, 1.03000000e+00],\n",
       "       [2.00000000e+01, 3.12500000e+03, 9.88631070e-01, 1.10174231e-02,\n",
       "        0.00000000e+00, 1.31000000e+00],\n",
       "       [0.00000000e+00, 1.91200000e+03, 3.55778262e-02, 9.56423044e-01,\n",
       "        0.00000000e+00, 1.35000000e+00],\n",
       "       [2.00000000e+01, 2.69200000e+03, 2.74917614e-02, 9.48843658e-01,\n",
       "        2.36645434e-02, 2.06000000e+00],\n",
       "       [1.00000000e+00, 1.69600000e+03, 9.81311202e-01, 0.00000000e+00,\n",
       "        0.00000000e+00, 1.22000000e+00],\n",
       "       [1.00000000e+01, 1.57600000e+03, 4.27049577e-01, 3.23425055e-01,\n",
       "        2.49525368e-01, 1.18000000e+00],\n",
       "       [4.50000000e+01, 1.44700000e+03, 1.32391555e-02, 9.86403167e-01,\n",
       "        0.00000000e+00, 1.02000000e+00],\n",
       "       [2.00000000e+01, 1.65200000e+03, 5.64207017e-01, 4.35587406e-01,\n",
       "        0.00000000e+00, 1.00000000e+00],\n",
       "       [4.20000000e+01, 1.47900000e+03, 9.97292221e-01, 0.00000000e+00,\n",
       "        0.00000000e+00, 1.01000000e+00],\n",
       "       [3.20000000e+01, 1.58600000e+03, 9.96007681e-01, 0.00000000e+00,\n",
       "        0.00000000e+00, 7.10000000e-01],\n",
       "       [3.00000000e+00, 1.37000000e+03, 5.16667724e-01, 4.83039379e-01,\n",
       "        0.00000000e+00, 7.10000000e-01],\n",
       "       [4.70000000e+01, 1.60900000e+03, 1.86711550e-02, 9.10494626e-01,\n",
       "        7.08341971e-02, 6.40000000e-01],\n",
       "       [1.60000000e+01, 1.44500000e+03, 3.01207185e-01, 6.01579189e-01,\n",
       "        9.72136408e-02, 6.30000000e-01],\n",
       "       [2.00000000e+01, 2.13900000e+03, 4.17552106e-02, 9.58020031e-01,\n",
       "        0.00000000e+00, 9.50000000e-01],\n",
       "       [2.00000000e+01, 2.60000000e+03, 9.99467134e-01, 0.00000000e+00,\n",
       "        0.00000000e+00, 8.40000000e-01],\n",
       "       [2.00000000e+00, 1.92900000e+03, 9.99553323e-01, 0.00000000e+00,\n",
       "        0.00000000e+00, 7.70000000e-01],\n",
       "       [2.70000000e+01, 2.02400000e+03, 1.97688729e-01, 3.70897315e-02,\n",
       "        7.65221536e-01, 7.60000000e-01],\n",
       "       [3.20000000e+01, 1.93000000e+03, 4.53957379e-01, 5.34625530e-01,\n",
       "        1.14170527e-02, 6.20000000e-01],\n",
       "       [3.40000000e+01, 1.68500000e+03, 4.28335853e-02, 9.13634539e-01,\n",
       "        4.35318425e-02, 7.40000000e-01],\n",
       "       [1.00000000e+01, 1.82200000e+03, 2.26347655e-01, 7.70606399e-01,\n",
       "        0.00000000e+00, 7.90000000e-01],\n",
       "       [2.00000000e+01, 1.68600000e+03, 4.37374897e-02, 9.45267200e-01,\n",
       "        1.09952725e-02, 8.30000000e-01],\n",
       "       [1.50000000e+01, 2.48200000e+03, 1.00158870e-01, 8.99041891e-01,\n",
       "        0.00000000e+00, 1.41000000e+00],\n",
       "       [4.70000000e+01, 1.86800000e+03, 1.31415740e-01, 7.62695193e-01,\n",
       "        1.05889022e-01, 8.90000000e-01],\n",
       "       [2.00000000e+01, 2.87400000e+03, 9.99546289e-01, 0.00000000e+00,\n",
       "        0.00000000e+00, 7.30000000e-01]])"
      ]
     },
     "execution_count": 25,
     "metadata": {},
     "output_type": "execute_result"
    }
   ],
   "source": [
    "X"
   ]
  },
  {
   "cell_type": "code",
   "execution_count": 29,
   "metadata": {},
   "outputs": [
    {
     "data": {
      "image/png": "[encoded data removed]",
      "text/plain": [
       "<Figure size 432x288 with 1 Axes>"
      ]
     },
     "metadata": {
      "needs_background": "light"
     },
     "output_type": "display_data"
    }
   ],
   "source": [
    "# Cria um array para armazenar os erros\n",
    "distortions = []\n",
    "\n",
    "# Cria modelos com k variando de 1 a 11, usando os mesmos parâmetros do modelo anterior\n",
    "for i in range(1, 11):\n",
    "    modelo = KMeans(\n",
    "        n_clusters=i, init='random',\n",
    "        n_init=10, max_iter=300,\n",
    "        tol=1e-04, random_state=0\n",
    "    )\n",
    "    modelo.fit(X)\n",
    "    distortions.append(modelo.inertia_) # inertia_ : Soma das distâncias quadráticas dos pontos ao centróide de cluster mais próximo.\n",
    "\n",
    "# Configura e exibe o gráfico\n",
    "plt.plot(range(1, 11), distortions, marker='o')\n",
    "plt.xlabel('Número de clusters')\n",
    "plt.ylabel('Distorção')\n",
    "plt.show()"
   ]
  },
  {
   "cell_type": "markdown",
   "metadata": {},
   "source": [
    "### Ideal number of clusters = 3"
   ]
  },
  {
   "cell_type": "code",
   "execution_count": 30,
   "metadata": {},
   "outputs": [
    {
     "data": {
      "image/png": "[encoded data removed]",
      "text/plain": [
       "<Figure size 432x288 with 1 Axes>"
      ]
     },
     "metadata": {
      "needs_background": "light"
     },
     "output_type": "display_data"
    }
   ],
   "source": [
    "# Criação do modelo\n",
    "modelo = KMeans(\n",
    "    n_clusters=3,   # número de clusters\n",
    "    init='random',  # método de inicializaçãp\n",
    "    n_init=10,      # número de execuções com diferentes centróides aleatórios para escolher o modelo final\n",
    "    max_iter=300,   # número máximo de iterações para cada execução única\n",
    "    tol=1e-04,      # = 0,0001 - controla a tolerância com relação às alterações no erro quadrático dentro do cluster para declarar convergência\n",
    "    random_state=0  # semente\n",
    ")\n",
    "\n",
    "# Predição dos clusters\n",
    "y_km = modelo.fit_predict(X)\n",
    "\n",
    "# Plotagem dos 3 clusters\n",
    "plt.scatter(\n",
    "    X[y_km == 0, 0], X[y_km == 0, 1],\n",
    "    s=50, c='lightgreen',\n",
    "    marker='s', edgecolor='black',\n",
    "    label='cluster 1'\n",
    ")\n",
    "\n",
    "plt.scatter(\n",
    "    X[y_km == 1, 0], X[y_km == 1, 1],\n",
    "    s=50, c='orange',\n",
    "    marker='o', edgecolor='black',\n",
    "    label='cluster 2'\n",
    ")\n",
    "\n",
    "plt.scatter(\n",
    "    X[y_km == 2, 0], X[y_km == 2, 1],\n",
    "    s=50, c='lightblue',\n",
    "    marker='v', edgecolor='black',\n",
    "    label='cluster 3'\n",
    ")\n",
    "\n",
    "# Plotagem dos centróides\n",
    "plt.scatter(\n",
    "    modelo.cluster_centers_[:, 0], modelo.cluster_centers_[:, 1],\n",
    "    s=250, marker='*',\n",
    "    c='red', edgecolor='black',\n",
    "    label='centróides'\n",
    ")\n",
    "\n",
    "# Legenda do gráfico\n",
    "plt.legend(scatterpoints=1)\n",
    "\n",
    "# Exibição do gráfico com clusters e centróides\n",
    "plt.grid()\n",
    "plt.show()"
   ]
  },
  {
   "cell_type": "code",
   "execution_count": null,
   "metadata": {},
   "outputs": [],
   "source": []
  },
  {
   "cell_type": "code",
   "execution_count": null,
   "metadata": {},
   "outputs": [],
   "source": []
  },
  {
   "cell_type": "code",
   "execution_count": null,
   "metadata": {},
   "outputs": [],
   "source": []
  },
  {
   "cell_type": "code",
   "execution_count": 31,
   "metadata": {},
   "outputs": [],
   "source": [
    "# Imports\n",
    "#import warnings\n",
    "\n",
    "import pandas as pd\n",
    "import numpy as np\n",
    "import matplotlib.pyplot as plt\n",
    "from sklearn import datasets\n",
    "from sklearn import metrics\n",
    "from sklearn.model_selection import cross_validate\n",
    "from sklearn.model_selection import KFold\n",
    "from sklearn.model_selection import cross_val_score\n",
    "from sklearn.model_selection import train_test_split\n",
    "from sklearn.model_selection import KFold\n",
    "from sklearn.model_selection import cross_val_score\n",
    "from sklearn.linear_model import LinearRegression\n",
    "from sklearn.linear_model import Ridge\n",
    "from sklearn.linear_model import Lasso\n",
    "from sklearn.linear_model import ElasticNet\n",
    "from sklearn.neighbors import KNeighborsRegressor\n",
    "from sklearn.tree import DecisionTreeRegressor\n",
    "from sklearn.svm import SVR\n",
    "from sklearn.model_selection import GridSearchCV\n",
    "from sklearn.preprocessing import StandardScaler\n",
    "from sklearn.pipeline import Pipeline"
   ]
  },
  {
   "cell_type": "code",
   "execution_count": 32,
   "metadata": {},
   "outputs": [],
   "source": [
    "# definindo o tamanho do conjunto de teste\n",
    "test_size = 0.20 \n",
    "\n",
    "# A semente (seed) pode ser qualquer número, e garante que os resultados possam ser reproduzidos de forma idêntica toda vez que o script for rodado. \n",
    "# Isto é muito importante quando trabalhamos com modelos ou métodos que utilizam de algum tipo de aleatoriedade.\n",
    "seed = 7\n",
    "\n",
    "# definindo a métrica de avaliação dos algoritmos\n",
    "scoring = 'neg_mean_squared_error' \n",
    "# scoring = 'r2'\n",
    "\n",
    "# particionando em conjuntos de treino e teste\n",
    "X_train, X_test, Y_train, Y_test = train_test_split(X, Y, test_size=test_size, random_state=seed)\n",
    "\n",
    "kfold = KFold(n_splits=10)"
   ]
  },
  {
   "cell_type": "code",
   "execution_count": 35,
   "metadata": {},
   "outputs": [
    {
     "name": "stdout",
     "output_type": "stream",
     "text": [
      "0.7507252747252748\n"
     ]
    }
   ],
   "source": [
    "model = DecisionTreeRegressor(random_state=seed)\n",
    "results = cross_val_score(model, X_train, Y_train, cv=kfold, scoring=scoring)\n",
    "print(abs(results.mean()))"
   ]
  },
  {
   "cell_type": "code",
   "execution_count": 34,
   "metadata": {},
   "outputs": [
    {
     "name": "stdout",
     "output_type": "stream",
     "text": [
      "0.369637294038608\n"
     ]
    }
   ],
   "source": [
    "model = SVR()\n",
    "results = cross_val_score(model, X_train, Y_train, cv=kfold, scoring=scoring)\n",
    "print(abs(results.mean()))"
   ]
  },
  {
   "cell_type": "code",
   "execution_count": 36,
   "metadata": {},
   "outputs": [
    {
     "name": "stdout",
     "output_type": "stream",
     "text": [
      "0.4209138461538461\n"
     ]
    }
   ],
   "source": [
    "model = KNeighborsRegressor()\n",
    "results = cross_val_score(model, X_train, Y_train, cv=kfold, scoring=scoring)\n",
    "print(abs(results.mean()))"
   ]
  },
  {
   "cell_type": "code",
   "execution_count": 38,
   "metadata": {},
   "outputs": [
    {
     "name": "stdout",
     "output_type": "stream",
     "text": [
      "0.36596167340800206\n"
     ]
    }
   ],
   "source": [
    "model = ElasticNet()\n",
    "results = cross_val_score(model, X_train, Y_train, cv=kfold, scoring=scoring)\n",
    "print(abs(results.mean()))"
   ]
  },
  {
   "cell_type": "code",
   "execution_count": 39,
   "metadata": {},
   "outputs": [
    {
     "name": "stdout",
     "output_type": "stream",
     "text": [
      "0.3656951063089046\n"
     ]
    }
   ],
   "source": [
    "model = Lasso()\n",
    "results = cross_val_score(model, X_train, Y_train, cv=kfold, scoring=scoring)\n",
    "print(abs(results.mean()))"
   ]
  },
  {
   "cell_type": "code",
   "execution_count": 40,
   "metadata": {},
   "outputs": [
    {
     "name": "stdout",
     "output_type": "stream",
     "text": [
      "0.3630818976130649\n"
     ]
    }
   ],
   "source": [
    "model = Ridge()\n",
    "results = cross_val_score(model, X_train, Y_train, cv=kfold, scoring=scoring)\n",
    "print(abs(results.mean()))"
   ]
  },
  {
   "cell_type": "code",
   "execution_count": 41,
   "metadata": {},
   "outputs": [
    {
     "name": "stdout",
     "output_type": "stream",
     "text": [
      "0.3777440864821123\n"
     ]
    }
   ],
   "source": [
    "model = LinearRegression()\n",
    "results = cross_val_score(model, X_train, Y_train, cv=kfold, scoring=scoring)\n",
    "print(abs(results.mean())) "
   ]
  },
  {
   "cell_type": "code",
   "execution_count": 42,
   "metadata": {},
   "outputs": [
    {
     "name": "stdout",
     "output_type": "stream",
     "text": [
      "LR: MSE 0.37 (0.34) - RMSE 0.61\n",
      "Ridge: MSE 0.37 (0.35) - RMSE 0.61\n",
      "Lasso: MSE 0.38 (0.32) - RMSE 0.62\n",
      "ElasticNet: MSE 0.38 (0.32) - RMSE 0.62\n",
      "KNN: MSE 0.45 (0.28) - RMSE 0.67\n",
      "CART: MSE 0.78 (0.50) - RMSE 0.88\n",
      "SVM: MSE 0.39 (0.33) - RMSE 0.63\n"
     ]
    },
    {
     "data": {
      "image/png": "[encoded data removed]",
      "text/plain": [
       "<Figure size 432x288 with 1 Axes>"
      ]
     },
     "metadata": {
      "needs_background": "light"
     },
     "output_type": "display_data"
    }
   ],
   "source": [
    "# Lista de modelos a avaliar\n",
    "models = []\n",
    "models.append(('LR', LinearRegression()))\n",
    "models.append(('Ridge', Ridge()))\n",
    "models.append(('Lasso', Lasso()))\n",
    "models.append(('ElasticNet', ElasticNet()))\n",
    "models.append(('KNN', KNeighborsRegressor()))\n",
    "models.append(('CART', DecisionTreeRegressor(random_state=seed)))\n",
    "models.append(('SVM', SVR()))\n",
    "\n",
    "\n",
    "# Treinamento e avaliação de cada modelo\n",
    "results = []\n",
    "names = []  \n",
    "for name, model in models:\n",
    "  kfold = KFold(n_splits=10)\n",
    "  cv_results = cross_val_score(model, X, Y, cv=kfold, scoring=scoring)\n",
    "  results.append(abs(cv_results))\n",
    "  names.append(name)\n",
    "  # imprime MSE, desvio padrão do MSE e RMSE\n",
    "  msg = \"%s: MSE %0.2f (%0.2f) - RMSE %0.2f\" % (name, abs(cv_results.mean()), cv_results.std(), np.sqrt(abs(cv_results.mean())))\n",
    "  print(msg)\n",
    "\n",
    "# Comparação dos algoritmos em boxplot\n",
    "fig = plt.figure()\n",
    "fig.suptitle('Comparação dos Algoritmos')\n",
    "ax = fig.add_subplot(111)\n",
    "plt.boxplot(results)\n",
    "ax.set_xticklabels(names)\n",
    "plt.show()"
   ]
  },
  {
   "cell_type": "code",
   "execution_count": 43,
   "metadata": {},
   "outputs": [
    {
     "name": "stdout",
     "output_type": "stream",
     "text": [
      "ScaledLR: 0.377744 (0.257419)\n",
      "ScaledRidge: 0.363898 (0.276477)\n",
      "ScaledLasso: 0.425020 (0.221469)\n",
      "ScaledElasticNet: 0.425020 (0.221469)\n",
      "ScaledKNN: 0.373515 (0.198759)\n",
      "ScaledCART: 0.750725 (0.572466)\n",
      "ScaledSVM: 0.350500 (0.245394)\n"
     ]
    },
    {
     "data": {
      "image/png": "[encoded data removed]",
      "text/plain": [
       "<Figure size 432x288 with 1 Axes>"
      ]
     },
     "metadata": {
      "needs_background": "light"
     },
     "output_type": "display_data"
    }
   ],
   "source": [
    "# Pipelines para padronização do dataset e aplicação do modelo\n",
    "pipelines = []\n",
    "pipelines.append(('ScaledLR', Pipeline([('Scaler', StandardScaler()),('LR', LinearRegression())])))\n",
    "pipelines.append(('ScaledRidge', Pipeline([('Scaler', StandardScaler()),('Ridge', Ridge())])))\n",
    "pipelines.append(('ScaledLasso', Pipeline([('Scaler', StandardScaler()),('Lasso', Lasso())])))\n",
    "pipelines.append(('ScaledElasticNet', Pipeline([('Scaler', StandardScaler()),('ElasticNet', ElasticNet())])))\n",
    "pipelines.append(('ScaledKNN', Pipeline([('Scaler', StandardScaler()),('KNN', KNeighborsRegressor())])))\n",
    "pipelines.append(('ScaledCART', Pipeline([('Scaler', StandardScaler()),('CART', DecisionTreeRegressor(random_state=seed))])))\n",
    "pipelines.append(('ScaledSVM', Pipeline([('Scaler', StandardScaler()),('SVM', SVR())])))\n",
    "results = []\n",
    "names = []\n",
    "\n",
    "# Aplicação dos pipelines\n",
    "for name, model in pipelines:\n",
    "  kfold = KFold(n_splits=10)\n",
    "  cv_results = cross_val_score(model, X_train, Y_train, cv=kfold, scoring=scoring)\n",
    "  results.append(abs(cv_results))\n",
    "  names.append(name)\n",
    "  msg = \"%s: %f (%f)\" % (name, abs(cv_results.mean()), cv_results.std())\n",
    "  print(msg)\n",
    "\n",
    "# boxplot de comparação dos algoritmos\n",
    "fig = plt.figure() \n",
    "fig.suptitle('Comparação do MSE dos Algoritmos - StandardScaler') \n",
    "ax = fig.add_subplot(111) \n",
    "plt.boxplot(results) \n",
    "ax.set_xticklabels(names) \n",
    "plt.show()"
   ]
  },
  {
   "cell_type": "code",
   "execution_count": 44,
   "metadata": {},
   "outputs": [],
   "source": [
    "# padronização dos dados\n",
    "scaler = StandardScaler().fit(X_train)\n",
    "rescaledX = scaler.transform(X_train)"
   ]
  },
  {
   "cell_type": "code",
   "execution_count": 45,
   "metadata": {},
   "outputs": [
    {
     "name": "stdout",
     "output_type": "stream",
     "text": [
      "Melhor Ridge: 0.359907 usando {'alpha': 0.01}\n",
      "Melhor Lasso: 0.363126 usando {'alpha': 0.01}\n",
      "Melhor ElasticNet: 0.363232 usando {'alpha': 0.01}\n"
     ]
    }
   ],
   "source": [
    "alphas = [1e-15, 1e-10, 1e-8, 1e-4, 1e-3,1e-2, 1, 5, 10, 20, 50, 100]\n",
    "\n",
    "# ----- Ridge\n",
    "param_grid = dict(alpha=alphas)\n",
    "model = Ridge()\n",
    "\n",
    "# busca exaustiva de hiperparâmetros com GridSearchCV\n",
    "grid = GridSearchCV(estimator=model, param_grid=param_grid, scoring=scoring, cv=kfold)\n",
    "grid_result = grid.fit(rescaledX, Y_train)\n",
    "\n",
    "# imprime o melhor resultado\n",
    "print(\"Melhor Ridge: %f usando %s\" % (abs(grid_result.best_score_), grid_result.best_params_)) \n",
    "\n",
    "# ----- Lasso\n",
    "param_grid = dict(alpha=alphas)\n",
    "model = Lasso()\n",
    "\n",
    "# busca exaustiva de hiperparâmetros com GridSearchCV\n",
    "grid = GridSearchCV(estimator=model, param_grid=param_grid, scoring=scoring, cv=kfold)\n",
    "grid_result = grid.fit(rescaledX, Y_train)\n",
    "\n",
    "# imprime o melhor resultado\n",
    "print(\"Melhor Lasso: %f usando %s\" % (abs(grid_result.best_score_), grid_result.best_params_)) \n",
    "\n",
    "# ----- ElasticNet\n",
    "param_grid = dict(alpha=alphas)\n",
    "model = ElasticNet()\n",
    "\n",
    "# busca exaustiva de hiperparâmetros com GridSearchCV\n",
    "grid = GridSearchCV(estimator=model, param_grid=param_grid, scoring=scoring, cv=kfold)\n",
    "grid_result = grid.fit(rescaledX, Y_train)\n",
    "\n",
    "# imprime o melhor resultado\n",
    "print(\"Melhor ElasticNet: %f usando %s\" % (abs(grid_result.best_score_), grid_result.best_params_)) "
   ]
  },
  {
   "cell_type": "code",
   "execution_count": 46,
   "metadata": {},
   "outputs": [
    {
     "name": "stdout",
     "output_type": "stream",
     "text": [
      "Melhor KNN: 0.366160 usando {'metric': 'euclidean', 'n_neighbors': 5}\n",
      "Melhor CART: 0.366821 usando {'criterion': 'mse', 'max_depth': 3, 'min_samples_leaf': 40}\n",
      "Melhor SVM: 0.347882 usando {'C': 1.0, 'kernel': 'rbf'}\n"
     ]
    }
   ],
   "source": [
    "# ----- KNN\n",
    "k = [1,3,5,7,9,11,13,15,17,19,21]\n",
    "distancias = [\"euclidean\", \"manhattan\", \"minkowski\"]\n",
    "param_grid = dict(n_neighbors=k, metric=distancias)\n",
    "model = KNeighborsRegressor()\n",
    "\n",
    "# busca exaustiva de hiperparâmetros com GridSearchCV\n",
    "grid = GridSearchCV(estimator=model, param_grid=param_grid, scoring=scoring, cv=kfold)\n",
    "grid_result = grid.fit(rescaledX, Y_train)\n",
    "\n",
    "# imprime o melhor resultado\n",
    "print(\"Melhor KNN: %f usando %s\" % (abs(grid_result.best_score_), grid_result.best_params_)) \n",
    "\n",
    "# ----- CART\n",
    "criterios = ['mse', 'mae']\n",
    "max_depth = [3,5,10,20,30,40,50]\n",
    "min_samples_leaf = [3,5,10,20,30,40,50]\n",
    "param_grid = dict(criterion=criterios, min_samples_leaf=min_samples_leaf, max_depth=max_depth)\n",
    "model = DecisionTreeRegressor(random_state=seed)\n",
    "\n",
    "# busca exaustiva de hiperparâmetros com GridSearchCV\n",
    "grid = GridSearchCV(estimator=model, param_grid=param_grid, scoring=scoring, cv=kfold)\n",
    "grid_result = grid.fit(rescaledX, Y_train)\n",
    "\n",
    "# imprime o melhor resultado\n",
    "print(\"Melhor CART: %f usando %s\" % (abs(grid_result.best_score_), grid_result.best_params_)) \n",
    "\n",
    "# ----- SVM\n",
    "c_values = [0.1, 0.5, 1.0, 1.5, 2.0]\n",
    "kernel_values = ['linear', 'poly', 'rbf', 'sigmoid']\n",
    "param_grid = dict(C=c_values, kernel=kernel_values)\n",
    "model = SVR()\n",
    "\n",
    "# busca exaustiva de hiperparâmetros com GridSearchCV\n",
    "grid = GridSearchCV(estimator=model, param_grid=param_grid, scoring=scoring, cv=kfold)\n",
    "grid_result = grid.fit(rescaledX, Y_train)\n",
    "\n",
    "# imprime o melhor resultado\n",
    "print(\"Melhor SVM: %f usando %s\" % (abs(grid_result.best_score_), grid_result.best_params_)) "
   ]
  },
  {
   "cell_type": "markdown",
   "metadata": {},
   "source": [
    "# Modelo final\n"
   ]
  },
  {
   "cell_type": "code",
   "execution_count": 50,
   "metadata": {},
   "outputs": [
    {
     "ename": "ValueError",
     "evalue": "Number of labels=132 does not match number of samples=165",
     "output_type": "error",
     "traceback": [
      "\u001b[0;31m---------------------------------------------------------------------------\u001b[0m",
      "\u001b[0;31mValueError\u001b[0m                                Traceback (most recent call last)",
      "\u001b[0;32m<ipython-input-50-dbf6c5aa29d8>\u001b[0m in \u001b[0;36m<module>\u001b[0;34m\u001b[0m\n\u001b[1;32m      8\u001b[0m \u001b[0;31m# criando e treinando um modelo com a melhor configuração até o momento\u001b[0m\u001b[0;34m\u001b[0m\u001b[0;34m\u001b[0m\u001b[0;34m\u001b[0m\u001b[0m\n\u001b[1;32m      9\u001b[0m \u001b[0mmodel\u001b[0m \u001b[0;34m=\u001b[0m \u001b[0mDecisionTreeRegressor\u001b[0m\u001b[0;34m(\u001b[0m\u001b[0mrandom_state\u001b[0m\u001b[0;34m=\u001b[0m\u001b[0mseed\u001b[0m\u001b[0;34m)\u001b[0m\u001b[0;34m\u001b[0m\u001b[0;34m\u001b[0m\u001b[0m\n\u001b[0;32m---> 10\u001b[0;31m \u001b[0mmodel\u001b[0m\u001b[0;34m.\u001b[0m\u001b[0mfit\u001b[0m\u001b[0;34m(\u001b[0m\u001b[0mX\u001b[0m\u001b[0;34m,\u001b[0m \u001b[0mY_train\u001b[0m\u001b[0;34m)\u001b[0m\u001b[0;34m\u001b[0m\u001b[0;34m\u001b[0m\u001b[0m\n\u001b[0m\u001b[1;32m     11\u001b[0m \u001b[0;34m\u001b[0m\u001b[0m\n\u001b[1;32m     12\u001b[0m \u001b[0;31m# padronização dos dados de teste\u001b[0m\u001b[0;34m\u001b[0m\u001b[0;34m\u001b[0m\u001b[0;34m\u001b[0m\u001b[0m\n",
      "\u001b[0;32m~/anaconda3/lib/python3.8/site-packages/sklearn/tree/_classes.py\u001b[0m in \u001b[0;36mfit\u001b[0;34m(self, X, y, sample_weight, check_input, X_idx_sorted)\u001b[0m\n\u001b[1;32m   1240\u001b[0m         \"\"\"\n\u001b[1;32m   1241\u001b[0m \u001b[0;34m\u001b[0m\u001b[0m\n\u001b[0;32m-> 1242\u001b[0;31m         super().fit(\n\u001b[0m\u001b[1;32m   1243\u001b[0m             \u001b[0mX\u001b[0m\u001b[0;34m,\u001b[0m \u001b[0my\u001b[0m\u001b[0;34m,\u001b[0m\u001b[0;34m\u001b[0m\u001b[0;34m\u001b[0m\u001b[0m\n\u001b[1;32m   1244\u001b[0m             \u001b[0msample_weight\u001b[0m\u001b[0;34m=\u001b[0m\u001b[0msample_weight\u001b[0m\u001b[0;34m,\u001b[0m\u001b[0;34m\u001b[0m\u001b[0;34m\u001b[0m\u001b[0m\n",
      "\u001b[0;32m~/anaconda3/lib/python3.8/site-packages/sklearn/tree/_classes.py\u001b[0m in \u001b[0;36mfit\u001b[0;34m(self, X, y, sample_weight, check_input, X_idx_sorted)\u001b[0m\n\u001b[1;32m    270\u001b[0m \u001b[0;34m\u001b[0m\u001b[0m\n\u001b[1;32m    271\u001b[0m         \u001b[0;32mif\u001b[0m \u001b[0mlen\u001b[0m\u001b[0;34m(\u001b[0m\u001b[0my\u001b[0m\u001b[0;34m)\u001b[0m \u001b[0;34m!=\u001b[0m \u001b[0mn_samples\u001b[0m\u001b[0;34m:\u001b[0m\u001b[0;34m\u001b[0m\u001b[0;34m\u001b[0m\u001b[0m\n\u001b[0;32m--> 272\u001b[0;31m             raise ValueError(\"Number of labels=%d does not match \"\n\u001b[0m\u001b[1;32m    273\u001b[0m                              \"number of samples=%d\" % (len(y), n_samples))\n\u001b[1;32m    274\u001b[0m         \u001b[0;32mif\u001b[0m \u001b[0;32mnot\u001b[0m \u001b[0;36m0\u001b[0m \u001b[0;34m<=\u001b[0m \u001b[0mself\u001b[0m\u001b[0;34m.\u001b[0m\u001b[0mmin_weight_fraction_leaf\u001b[0m \u001b[0;34m<=\u001b[0m \u001b[0;36m0.5\u001b[0m\u001b[0;34m:\u001b[0m\u001b[0;34m\u001b[0m\u001b[0;34m\u001b[0m\u001b[0m\n",
      "\u001b[0;31mValueError\u001b[0m: Number of labels=132 does not match number of samples=165"
     ]
    }
   ],
   "source": [
    "from sklearn.metrics import mean_squared_error\n",
    "from sklearn.metrics import r2_score\n",
    "\n",
    "# padronização os dados de treino\n",
    "# scaler = StandardScaler().fit(X_train)\n",
    "# rescaledX = scaler.transform(X_train)\n",
    "\n",
    "# criando e treinando um modelo com a melhor configuração até o momento\n",
    "model = DecisionTreeRegressor(random_state=seed,criterion= 'mse', max_depth= 3, min_samples_leaf= 40)\n",
    "model.fit(X, Y_train)\n",
    "\n",
    "# padronização dos dados de teste\n",
    "# rescaledTestX = scaler.transform(X_test)\n",
    "\n",
    "# predições\n",
    "predictions = model.predict(X_test)\n",
    "\n",
    "# estimando o MSE e R2 no conjunto de teste\n",
    "print(mean_squared_error(Y_test, predictions))\n",
    "print(r2_score(Y_test, predictions))"
   ]
  },
  {
   "cell_type": "code",
   "execution_count": 47,
   "metadata": {},
   "outputs": [
    {
     "name": "stdout",
     "output_type": "stream",
     "text": [
      "0.7507252747252748\n"
     ]
    }
   ],
   "source": [
    "model = DecisionTreeRegressor(random_state=seed)\n",
    "results = cross_val_score(model, X_train, Y_train, cv=kfold, scoring=scoring)\n",
    "print(abs(results.mean()))"
   ]
  }
 ],
 "metadata": {
  "kernelspec": {
   "display_name": "Python 3",
   "language": "python",
   "name": "python3"
  },
  "language_info": {
   "codemirror_mode": {
    "name": "ipython",
    "version": 3
   },
   "file_extension": ".py",
   "mimetype": "text/x-python",
   "name": "python",
   "nbconvert_exporter": "python",
   "pygments_lexer": "ipython3",
   "version": "3.8.5"
  }
 },
 "nbformat": 4,
 "nbformat_minor": 4
}
