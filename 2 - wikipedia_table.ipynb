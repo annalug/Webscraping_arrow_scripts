{
 "cells": [
  {
   "cell_type": "code",
   "execution_count": 2,
   "metadata": {},
   "outputs": [],
   "source": [
    "import pandas as pd"
   ]
  },
  {
   "cell_type": "code",
   "execution_count": 3,
   "metadata": {},
   "outputs": [],
   "source": [
    "url = 'https://en.wikipedia.org/wiki/List_of_Arrow_episodes'"
   ]
  },
  {
   "cell_type": "code",
   "execution_count": 4,
   "metadata": {},
   "outputs": [],
   "source": [
    "dfs = pd.read_html(url)"
   ]
  },
  {
   "cell_type": "code",
   "execution_count": 24,
   "metadata": {},
   "outputs": [],
   "source": [
    "df1 = dfs[1]\n",
    "df2 = dfs[2]\n",
    "df3 = dfs[3]\n",
    "df4 = dfs[4]\n",
    "df5 = dfs[5]\n",
    "df6 = dfs[6]\n",
    "df7 = dfs[7]\n",
    "df8 = dfs[8]"
   ]
  },
  {
   "cell_type": "code",
   "execution_count": 25,
   "metadata": {},
   "outputs": [
    {
     "data": {
      "text/html": [
       "<div>\n",
       "<style scoped>\n",
       "    .dataframe tbody tr th:only-of-type {\n",
       "        vertical-align: middle;\n",
       "    }\n",
       "\n",
       "    .dataframe tbody tr th {\n",
       "        vertical-align: top;\n",
       "    }\n",
       "\n",
       "    .dataframe thead th {\n",
       "        text-align: right;\n",
       "    }\n",
       "</style>\n",
       "<table border=\"1\" class=\"dataframe\">\n",
       "  <thead>\n",
       "    <tr style=\"text-align: right;\">\n",
       "      <th></th>\n",
       "      <th>No.overall</th>\n",
       "      <th>No. inseason</th>\n",
       "      <th>Title</th>\n",
       "      <th>Directed by</th>\n",
       "      <th>Written by</th>\n",
       "      <th>Original air date</th>\n",
       "      <th>Prod.code</th>\n",
       "      <th>U.S. viewers(millions)</th>\n",
       "    </tr>\n",
       "  </thead>\n",
       "  <tbody>\n",
       "    <tr>\n",
       "      <th>5</th>\n",
       "      <td>166</td>\n",
       "      <td>6</td>\n",
       "      <td>\"Reset\"</td>\n",
       "      <td>David Ramsey</td>\n",
       "      <td>Onalee Hunter Hughes &amp; Maya Houston</td>\n",
       "      <td>November 26, 2019</td>\n",
       "      <td>T27.13956</td>\n",
       "      <td>0.79[175]</td>\n",
       "    </tr>\n",
       "    <tr>\n",
       "      <th>6</th>\n",
       "      <td>167</td>\n",
       "      <td>7</td>\n",
       "      <td>\"Purgatory\"</td>\n",
       "      <td>James Bamford</td>\n",
       "      <td>Rebecca Bellotto &amp; Rebecca Rosenberg</td>\n",
       "      <td>December 3, 2019</td>\n",
       "      <td>T27.13957</td>\n",
       "      <td>0.83[176]</td>\n",
       "    </tr>\n",
       "    <tr>\n",
       "      <th>7</th>\n",
       "      <td>168</td>\n",
       "      <td>8</td>\n",
       "      <td>\"Crisis on Infinite Earths: Part Four\"</td>\n",
       "      <td>Glen Winter</td>\n",
       "      <td>Marv Wolfman &amp; Marc Guggenheim</td>\n",
       "      <td>January 14, 2020</td>\n",
       "      <td>T27.13958</td>\n",
       "      <td>1.41[177]</td>\n",
       "    </tr>\n",
       "    <tr>\n",
       "      <th>8</th>\n",
       "      <td>169</td>\n",
       "      <td>9</td>\n",
       "      <td>\"Green Arrow &amp; The Canaries\"\"Livin' in the Fut...</td>\n",
       "      <td>Tara Miele</td>\n",
       "      <td>Beth Schwartz &amp; Marc Guggenheim &amp; Jill Blanken...</td>\n",
       "      <td>January 21, 2020</td>\n",
       "      <td>T27.13959</td>\n",
       "      <td>0.89[179]</td>\n",
       "    </tr>\n",
       "    <tr>\n",
       "      <th>9</th>\n",
       "      <td>170</td>\n",
       "      <td>10</td>\n",
       "      <td>\"Fadeout\"</td>\n",
       "      <td>James Bamford</td>\n",
       "      <td>Marc Guggenheim &amp; Beth Schwartz</td>\n",
       "      <td>January 28, 2020</td>\n",
       "      <td>T27.13960</td>\n",
       "      <td>0.73[180]</td>\n",
       "    </tr>\n",
       "  </tbody>\n",
       "</table>\n",
       "</div>"
      ],
      "text/plain": [
       "   No.overall  No. inseason  \\\n",
       "5         166             6   \n",
       "6         167             7   \n",
       "7         168             8   \n",
       "8         169             9   \n",
       "9         170            10   \n",
       "\n",
       "                                               Title    Directed by  \\\n",
       "5                                            \"Reset\"   David Ramsey   \n",
       "6                                        \"Purgatory\"  James Bamford   \n",
       "7             \"Crisis on Infinite Earths: Part Four\"    Glen Winter   \n",
       "8  \"Green Arrow & The Canaries\"\"Livin' in the Fut...     Tara Miele   \n",
       "9                                          \"Fadeout\"  James Bamford   \n",
       "\n",
       "                                          Written by  Original air date  \\\n",
       "5                Onalee Hunter Hughes & Maya Houston  November 26, 2019   \n",
       "6               Rebecca Bellotto & Rebecca Rosenberg   December 3, 2019   \n",
       "7                     Marv Wolfman & Marc Guggenheim   January 14, 2020   \n",
       "8  Beth Schwartz & Marc Guggenheim & Jill Blanken...   January 21, 2020   \n",
       "9                    Marc Guggenheim & Beth Schwartz   January 28, 2020   \n",
       "\n",
       "   Prod.code U.S. viewers(millions)  \n",
       "5  T27.13956              0.79[175]  \n",
       "6  T27.13957              0.83[176]  \n",
       "7  T27.13958              1.41[177]  \n",
       "8  T27.13959              0.89[179]  \n",
       "9  T27.13960              0.73[180]  "
      ]
     },
     "execution_count": 25,
     "metadata": {},
     "output_type": "execute_result"
    }
   ],
   "source": [
    "df8.tail()"
   ]
  },
  {
   "cell_type": "code",
   "execution_count": 27,
   "metadata": {},
   "outputs": [],
   "source": [
    "mydfs = [df1,df2,df3,df4,df5,df6,df7,df8]"
   ]
  },
  {
   "cell_type": "code",
   "execution_count": 28,
   "metadata": {},
   "outputs": [],
   "source": [
    "dataset = pd.concat(mydfs)"
   ]
  },
  {
   "cell_type": "code",
   "execution_count": 33,
   "metadata": {},
   "outputs": [
    {
     "name": "stdout",
     "output_type": "stream",
     "text": [
      "<class 'pandas.core.frame.DataFrame'>\n",
      "Int64Index: 170 entries, 0 to 9\n",
      "Data columns (total 8 columns):\n",
      " #   Column                  Non-Null Count  Dtype \n",
      "---  ------                  --------------  ----- \n",
      " 0   No.overall              170 non-null    int64 \n",
      " 1   No. inseason            170 non-null    int64 \n",
      " 2   Title                   170 non-null    object\n",
      " 3   Directed by             170 non-null    object\n",
      " 4   Written by              170 non-null    object\n",
      " 5   Original air date       170 non-null    object\n",
      " 6   Prod.code               170 non-null    object\n",
      " 7   U.S. viewers(millions)  170 non-null    object\n",
      "dtypes: int64(2), object(6)\n",
      "memory usage: 12.0+ KB\n"
     ]
    }
   ],
   "source": [
    "dataset.info()"
   ]
  },
  {
   "cell_type": "code",
   "execution_count": 34,
   "metadata": {},
   "outputs": [],
   "source": [
    "dataset.to_csv('Data/wikipedia.csv',  sep=';')"
   ]
  }
 ],
 "metadata": {
  "kernelspec": {
   "display_name": "Python 3",
   "language": "python",
   "name": "python3"
  },
  "language_info": {
   "codemirror_mode": {
    "name": "ipython",
    "version": 3
   },
   "file_extension": ".py",
   "mimetype": "text/x-python",
   "name": "python",
   "nbconvert_exporter": "python",
   "pygments_lexer": "ipython3",
   "version": "3.8.5"
  }
 },
 "nbformat": 4,
 "nbformat_minor": 4
}
