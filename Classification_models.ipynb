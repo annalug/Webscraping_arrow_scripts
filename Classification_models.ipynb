{
 "cells": [
  {
   "cell_type": "markdown",
   "metadata": {},
   "source": [
    "# Predicting the IMDb rating of Arrow (American TV Serie) through scripts\n",
    "## From the site: https://subslikescript.com/ \n",
    "## by: Anna Luiza Gomes"
   ]
  },
  {
   "cell_type": "code",
   "execution_count": 6,
   "metadata": {},
   "outputs": [],
   "source": [
    "# Imports\n",
    "import pandas as pd\n",
    "import numpy as np\n",
    "import matplotlib.pyplot as plt\n",
    "from sklearn.model_selection import train_test_split\n",
    "from sklearn.model_selection import KFold\n",
    "from sklearn.model_selection import cross_val_score\n",
    "from sklearn.model_selection import GridSearchCV # para o grid search\n",
    "from sklearn.metrics import classification_report\n",
    "from sklearn.metrics import confusion_matrix\n",
    "from sklearn.metrics import accuracy_score\n",
    "from sklearn.preprocessing import StandardScaler # para padronização\n",
    "from sklearn.preprocessing import MinMaxScaler # para normalização\n",
    "from sklearn.tree import DecisionTreeClassifier\n",
    "from sklearn.neighbors import KNeighborsClassifier\n",
    "from sklearn.naive_bayes import GaussianNB\n",
    "from sklearn.svm import SVC\n",
    "from sklearn.pipeline import Pipeline # para o pipeline"
   ]
  },
  {
   "cell_type": "code",
   "execution_count": 7,
   "metadata": {},
   "outputs": [],
   "source": [
    "# configuração para não exibir os warnings\n",
    "\n",
    "import warnings\n",
    "warnings.filterwarnings(\"ignore\")\n",
    "\n",
    "# ignorando future warnings\n",
    "from warnings import simplefilter\n",
    "simplefilter(action='ignore', category=FutureWarning)"
   ]
  },
  {
   "cell_type": "code",
   "execution_count": 14,
   "metadata": {},
   "outputs": [],
   "source": [
    "dataset = pd.read_csv('Data/dataset.csv', sep=\";\")"
   ]
  },
  {
   "cell_type": "code",
   "execution_count": 16,
   "metadata": {},
   "outputs": [],
   "source": [
    "dataset.drop('Unnamed: 0', axis=1, inplace=True)"
   ]
  },
  {
   "cell_type": "code",
   "execution_count": 18,
   "metadata": {},
   "outputs": [
    {
     "data": {
      "text/html": [
       "<div>\n",
       "<style scoped>\n",
       "    .dataframe tbody tr th:only-of-type {\n",
       "        vertical-align: middle;\n",
       "    }\n",
       "\n",
       "    .dataframe tbody tr th {\n",
       "        vertical-align: top;\n",
       "    }\n",
       "\n",
       "    .dataframe thead th {\n",
       "        text-align: right;\n",
       "    }\n",
       "</style>\n",
       "<table border=\"1\" class=\"dataframe\">\n",
       "  <thead>\n",
       "    <tr style=\"text-align: right;\">\n",
       "      <th></th>\n",
       "      <th>nome_ep</th>\n",
       "      <th>Episodios</th>\n",
       "      <th>text_processed</th>\n",
       "      <th>0</th>\n",
       "      <th>1</th>\n",
       "      <th>2</th>\n",
       "      <th>nota_imdb</th>\n",
       "      <th>qtd_reviews</th>\n",
       "      <th>Topic</th>\n",
       "    </tr>\n",
       "  </thead>\n",
       "  <tbody>\n",
       "    <tr>\n",
       "      <th>0</th>\n",
       "      <td>/series/Arrow-2193021/season-1/episode-1-Pilot</td>\n",
       "      <td>The name of the islandthey found me on is Lian...</td>\n",
       "      <td>the name of the islandthey found me on is lian...</td>\n",
       "      <td>0.352093</td>\n",
       "      <td>0.646065</td>\n",
       "      <td>NaN</td>\n",
       "      <td>8.5</td>\n",
       "      <td>7572.0</td>\n",
       "      <td>1.0</td>\n",
       "    </tr>\n",
       "    <tr>\n",
       "      <th>1</th>\n",
       "      <td>/series/Arrow-2193021/season-1/episode-2-Honor...</td>\n",
       "      <td>[PANTING][GRUNTS][SPEAKING IN FOREIGN LANGUAGE...</td>\n",
       "      <td>[panting][grunts][speaking in foreign language...</td>\n",
       "      <td>0.027911</td>\n",
       "      <td>0.970653</td>\n",
       "      <td>NaN</td>\n",
       "      <td>8.2</td>\n",
       "      <td>5731.0</td>\n",
       "      <td>1.0</td>\n",
       "    </tr>\n",
       "    <tr>\n",
       "      <th>2</th>\n",
       "      <td>/series/Arrow-2193021/season-1/episode-3-Lone_...</td>\n",
       "      <td>My name is Oliver Queen.To my family, I am the...</td>\n",
       "      <td>my name is oliver queen to my family  i am the...</td>\n",
       "      <td>0.349652</td>\n",
       "      <td>0.648876</td>\n",
       "      <td>NaN</td>\n",
       "      <td>8.4</td>\n",
       "      <td>5367.0</td>\n",
       "      <td>1.0</td>\n",
       "    </tr>\n",
       "    <tr>\n",
       "      <th>3</th>\n",
       "      <td>/series/Arrow-2193021/season-1/episode-4-An_In...</td>\n",
       "      <td>My name is Oliver Queen.For 5 years, I was str...</td>\n",
       "      <td>my name is oliver queen for 5 years  i was str...</td>\n",
       "      <td>0.197529</td>\n",
       "      <td>0.197696</td>\n",
       "      <td>0.604775</td>\n",
       "      <td>8.3</td>\n",
       "      <td>5071.0</td>\n",
       "      <td>2.0</td>\n",
       "    </tr>\n",
       "    <tr>\n",
       "      <th>4</th>\n",
       "      <td>/series/Arrow-2193021/season-1/episode-5-Damaged</td>\n",
       "      <td>OLIVER:My name is Oliver Queen.For five years,...</td>\n",
       "      <td>oliver:my name is oliver queen for five years ...</td>\n",
       "      <td>0.020486</td>\n",
       "      <td>0.971107</td>\n",
       "      <td>NaN</td>\n",
       "      <td>8.6</td>\n",
       "      <td>5011.0</td>\n",
       "      <td>1.0</td>\n",
       "    </tr>\n",
       "  </tbody>\n",
       "</table>\n",
       "</div>"
      ],
      "text/plain": [
       "                                             nome_ep  \\\n",
       "0     /series/Arrow-2193021/season-1/episode-1-Pilot   \n",
       "1  /series/Arrow-2193021/season-1/episode-2-Honor...   \n",
       "2  /series/Arrow-2193021/season-1/episode-3-Lone_...   \n",
       "3  /series/Arrow-2193021/season-1/episode-4-An_In...   \n",
       "4   /series/Arrow-2193021/season-1/episode-5-Damaged   \n",
       "\n",
       "                                           Episodios  \\\n",
       "0  The name of the islandthey found me on is Lian...   \n",
       "1  [PANTING][GRUNTS][SPEAKING IN FOREIGN LANGUAGE...   \n",
       "2  My name is Oliver Queen.To my family, I am the...   \n",
       "3  My name is Oliver Queen.For 5 years, I was str...   \n",
       "4  OLIVER:My name is Oliver Queen.For five years,...   \n",
       "\n",
       "                                      text_processed         0         1  \\\n",
       "0  the name of the islandthey found me on is lian...  0.352093  0.646065   \n",
       "1  [panting][grunts][speaking in foreign language...  0.027911  0.970653   \n",
       "2  my name is oliver queen to my family  i am the...  0.349652  0.648876   \n",
       "3  my name is oliver queen for 5 years  i was str...  0.197529  0.197696   \n",
       "4  oliver:my name is oliver queen for five years ...  0.020486  0.971107   \n",
       "\n",
       "          2  nota_imdb  qtd_reviews  Topic  \n",
       "0       NaN        8.5       7572.0    1.0  \n",
       "1       NaN        8.2       5731.0    1.0  \n",
       "2       NaN        8.4       5367.0    1.0  \n",
       "3  0.604775        8.3       5071.0    2.0  \n",
       "4       NaN        8.6       5011.0    1.0  "
      ]
     },
     "execution_count": 18,
     "metadata": {},
     "output_type": "execute_result"
    }
   ],
   "source": [
    "dataset.head()"
   ]
  },
  {
   "cell_type": "code",
   "execution_count": 17,
   "metadata": {},
   "outputs": [
    {
     "data": {
      "text/plain": [
       "Index(['nome_ep', 'Episodios', 'text_processed', '0', '1', '2', 'nota_imdb',\n",
       "       'qtd_reviews', 'Topic'],\n",
       "      dtype='object')"
      ]
     },
     "execution_count": 17,
     "metadata": {},
     "output_type": "execute_result"
    }
   ],
   "source": [
    "dataset.columns"
   ]
  },
  {
   "cell_type": "markdown",
   "metadata": {},
   "source": [
    "## Splitting the dataset in test and train"
   ]
  },
  {
   "cell_type": "code",
   "execution_count": 24,
   "metadata": {},
   "outputs": [],
   "source": [
    "# separando os atributos e a classe do dataset\n",
    "array = dataset.values\n",
    "X = array[:,3:6]\n",
    "Y = array[:,6]\n",
    "\n",
    "# definindo o tamanho do conjunto de teste\n",
    "test_size = 0.20 \n",
    "\n",
    "# A semente (seed) pode ser qualquer número, e garante que os resultados possam ser reproduzidos de forma idêntica toda vez que o script for rodado. \n",
    "# Isto é muito importante quando trabalhamos com modelos ou métodos que utilizam de algum tipo de aleatoriedade.\n",
    "seed = 7\n",
    "\n",
    "# particionando em conjuntos de treino e teste\n",
    "X_train, X_test, Y_train, Y_test = train_test_split(X, Y, test_size=test_size, random_state=seed)"
   ]
  },
  {
   "cell_type": "code",
   "execution_count": 26,
   "metadata": {},
   "outputs": [
    {
     "data": {
      "text/plain": [
       "array([8.5, 8.2, 8.4, 8.3, 8.6, 7.9, 8.2, 8.1, 8.4, 7.8, 8.1, 8.4, 8.6,\n",
       "       8.8, 8.0, 8.7, 8.1, 8.3, 8.2, 8.5, 8.8, 9.1, 9.5, 8.7, 8.5, 8.7,\n",
       "       8.6, 8.8, 8.4, 8.5, 9.1, 9.3, 8.3, 8.6, 8.6, 8.7, 8.8, 9.2, 8.5,\n",
       "       8.2, 9.0, 9.3, 9.0, 9.2, 9.5, 8.9, 8.5, 8.2, 8.4, 8.1, 8.0, 9.2,\n",
       "       9.6, 8.5, 8.0, 8.5, 8.3, 8.4, 8.8, 8.3, 8.4, 8.9, 9.0, 8.7, 8.5,\n",
       "       8.8, 8.2, 8.3, 8.0, 8.0, 8.2, 8.8, 7.9, 8.0, 9.0, 8.8, 7.9, 7.8,\n",
       "       8.1, 8.3, 7.7, 8.1, 6.1, 6.6, 7.1, 6.6, 7.4, 7.1, 7.0, 5.5, 8.3,\n",
       "       8.2, 8.1, 8.1, 8.6, 8.3, 8.3, 9.1, 9.2, 7.8, 8.2, 8.1, 7.4, 7.8,\n",
       "       8.5, 9.0, 9.2, 8.5, 7.9, 7.7, 8.2, 9.1, 9.7, 7.9, 8.0, 7.8, 7.4,\n",
       "       8.7, 8.4, 7.8, 8.7, 7.3, 7.5, 7.7, 7.9, 8.2, 7.3, 8.1, 8.0, 7.9,\n",
       "       8.7, 8.0, 8.0, 8.9, 8.5, 8.8, 9.1, 8.0, 8.3, 8.2, 8.6, 8.3, 9.4,\n",
       "       8.4, 9.0, 7.4, 7.8, 7.6, 7.7, 8.1, 7.4, 7.7, 8.5, 8.2, 8.7, 9.1,\n",
       "       8.4, 8.7, 8.8, 8.6, 9.0, 8.9, 8.7, 7.1, 9.4, nan], dtype=object)"
      ]
     },
     "execution_count": 26,
     "metadata": {},
     "output_type": "execute_result"
    }
   ],
   "source": [
    "Y"
   ]
  },
  {
   "cell_type": "code",
   "execution_count": 28,
   "metadata": {},
   "outputs": [],
   "source": [
    "# definindo a métrica de avaliação dos algoritmos\n",
    "scoring = 'accuracy'\n",
    "# scoring = 'roc_auc'\n",
    "\n",
    "kfold = KFold(n_splits=10)"
   ]
  },
  {
   "cell_type": "markdown",
   "metadata": {},
   "source": [
    "## KNN\n"
   ]
  },
  {
   "cell_type": "code",
   "execution_count": 29,
   "metadata": {},
   "outputs": [
    {
     "name": "stdout",
     "output_type": "stream",
     "text": [
      "nan\n"
     ]
    }
   ],
   "source": [
    "model = KNeighborsClassifier()\n",
    "results = cross_val_score(model, X_train, Y_train, cv=kfold, scoring=scoring)\n",
    "print(results.mean())"
   ]
  },
  {
   "cell_type": "code",
   "execution_count": 30,
   "metadata": {},
   "outputs": [
    {
     "name": "stdout",
     "output_type": "stream",
     "text": [
      "<bound method BaseEstimator.get_params of KNeighborsClassifier(metric='manhattan')>\n",
      "nan\n"
     ]
    }
   ],
   "source": [
    "# criação de outro modelo alterando o tipo de distância\n",
    "model = KNeighborsClassifier(metric = 'manhattan')\n",
    "print(model.get_params)\n",
    "results = cross_val_score(model, X_train, Y_train, cv=kfold, scoring=scoring)\n",
    "print(results.mean())"
   ]
  },
  {
   "cell_type": "markdown",
   "metadata": {},
   "source": [
    "## Decision Tree"
   ]
  },
  {
   "cell_type": "code",
   "execution_count": null,
   "metadata": {},
   "outputs": [],
   "source": [
    "model = DecisionTreeClassifier(random_state=7)\n",
    "results = cross_val_score(model, X_train, Y_train, cv=kfold, scoring=scoring)\n",
    "print(results.mean())"
   ]
  },
  {
   "cell_type": "code",
   "execution_count": null,
   "metadata": {},
   "outputs": [],
   "source": [
    "# criando o modelo já com os parâmetros desejados\n",
    "model = DecisionTreeClassifier(max_depth = None, # profundidade máxima - inteiro ou \"None\" (sem limite). Valores muito altos podem causar overviffing e muito baixos, underfitting.\n",
    "                             criterion = 'entropy',\n",
    "                             random_state=7) # critério de medição de qualidade de um particionamento {“gini”, “entropy”}, default=”gini”.\n",
    "\n",
    "# imprimindo os parâmetros do modelo\n",
    "print(model.get_params)\n",
    "\n",
    "results = cross_val_score(model, X_train, Y_train, cv=kfold, scoring=scoring)\n",
    "print(results.mean())"
   ]
  },
  {
   "cell_type": "markdown",
   "metadata": {},
   "source": [
    "## Naive Bayes"
   ]
  },
  {
   "cell_type": "code",
   "execution_count": null,
   "metadata": {},
   "outputs": [],
   "source": [
    "model = GaussianNB()\n",
    "results = cross_val_score(model, X_train, Y_train, cv=kfold, scoring=scoring)\n",
    "print(results.mean())"
   ]
  },
  {
   "cell_type": "markdown",
   "metadata": {},
   "source": [
    "## Suport Vector Machine"
   ]
  },
  {
   "cell_type": "code",
   "execution_count": null,
   "metadata": {},
   "outputs": [],
   "source": [
    "model = SVC(gamma='auto', kernel = 'linear')\n",
    "results = cross_val_score(model, X_train, Y_train, cv=kfold, scoring=scoring)\n",
    "print(results.mean())"
   ]
  },
  {
   "cell_type": "code",
   "execution_count": null,
   "metadata": {},
   "outputs": [],
   "source": []
  },
  {
   "cell_type": "markdown",
   "metadata": {},
   "source": [
    "## Comparing model performance"
   ]
  },
  {
   "cell_type": "code",
   "execution_count": null,
   "metadata": {},
   "outputs": [],
   "source": [
    "# repetindo o código acima\n",
    "\n",
    "# separando os atributos e a classe do dataset\n",
    "array = dataset.values\n",
    "X = array[:,0:8]\n",
    "Y = array[:,8]\n",
    "\n",
    "# definindo o tamanho do conjunto de teste\n",
    "test_size = 0.20 \n",
    "\n",
    "# A semente (seed) pode ser qualquer número, e garante que os resultados possam ser reproduzidos de forma idêntica toda vez que o script for rodado. \n",
    "# Isto é muito importante quando trabalhamos com modelos ou métodos que utilizam de algum tipo de aleatoriedade.\n",
    "seed = 7\n",
    "\n",
    "# particionando em conjuntos de treino e teste\n",
    "X_train, X_test, Y_train, Y_test = train_test_split(X, Y, test_size=test_size, random_state=seed)"
   ]
  },
  {
   "cell_type": "code",
   "execution_count": null,
   "metadata": {},
   "outputs": [],
   "source": [
    "np.random.seed(7) # definindo uma seed global\n",
    "\n",
    "# preparando os modelos\n",
    "models = []\n",
    "models.append(('KNN', KNeighborsClassifier()))\n",
    "models.append(('CART', DecisionTreeClassifier()))\n",
    "models.append(('NB', GaussianNB()))\n",
    "models.append(('SVM', SVC(gamma='auto')))\n",
    "\n",
    "# avaliando um modelo por vez\n",
    "results = []\n",
    "names = []\n",
    "scoring = 'accuracy'\n",
    "folds = 10\n",
    "\n",
    "for name, model in models:\n",
    "  kfold = KFold(n_splits=folds)\n",
    "  cv_results = cross_val_score(model, X_train, Y_train, cv=kfold, scoring=scoring)\n",
    "  results.append(cv_results)\n",
    "  names.append(name)\n",
    "  msg = \"%s: %f (%f)\" % (name, cv_results.mean(), cv_results.std()) \n",
    "  print(msg)\n",
    "\n",
    "# boxplot de comparação dos algoritmos\n",
    "fig = plt.figure() \n",
    "fig.suptitle('Comparação da Acurácia dos Algoritmos') \n",
    "ax = fig.add_subplot(111) \n",
    "plt.boxplot(results) \n",
    "ax.set_xticklabels(names) \n",
    "plt.show()"
   ]
  },
  {
   "cell_type": "markdown",
   "metadata": {},
   "source": [
    "## Comparing model performance with pipeline"
   ]
  },
  {
   "cell_type": "code",
   "execution_count": null,
   "metadata": {},
   "outputs": [],
   "source": [
    "np.random.seed(7) # definindo uma seed global\n",
    "\n",
    "# Pipelines para padronização do dataset e aplicação do modelo\n",
    "pipelines = []\n",
    "pipelines.append(('ScaledKNN', Pipeline([('Scaler', StandardScaler()),('KNN', KNeighborsClassifier())])))\n",
    "pipelines.append(('ScaledCART', Pipeline([('Scaler', StandardScaler()),('CART', DecisionTreeClassifier())])))\n",
    "pipelines.append(('ScaledNB', Pipeline([('Scaler', StandardScaler()),('NB', GaussianNB())])))\n",
    "pipelines.append(('ScaledSVM', Pipeline([('Scaler', StandardScaler()),('SVM', SVC(gamma='auto'))])))\n",
    "\n",
    "results = []\n",
    "names = []\n",
    "\n",
    "# Aplicação dos pipelines\n",
    "for name, model in pipelines:\n",
    "  kfold = KFold(n_splits=folds)\n",
    "  cv_results = cross_val_score(model, X_train, Y_train, cv=kfold, scoring=scoring)\n",
    "  results.append(cv_results)\n",
    "  names.append(name)\n",
    "  msg = \"%s: %f (%f)\" % (name, cv_results.mean(), cv_results.std())\n",
    "  print(msg)\n",
    "\n",
    "# boxplot de comparação dos algoritmos\n",
    "fig = plt.figure() \n",
    "fig.suptitle('Comparação da Acurácia dos Algoritmos - StandardScaler') \n",
    "ax = fig.add_subplot(111) \n",
    "plt.boxplot(results) \n",
    "ax.set_xticklabels(names) \n",
    "plt.show()"
   ]
  },
  {
   "cell_type": "code",
   "execution_count": null,
   "metadata": {},
   "outputs": [],
   "source": [
    "np.random.seed(7) # definindo uma seed global\n",
    "\n",
    "# Pipelines para madronização do dataset e aplicação do modelo\n",
    "pipelines = []\n",
    "pipelines.append(('NormKNN', Pipeline([('MinMaxScaler', MinMaxScaler()),('KNN', KNeighborsClassifier())])))\n",
    "pipelines.append(('NormCART', Pipeline([('MinMaxScaler', MinMaxScaler()),('CART', DecisionTreeClassifier())])))\n",
    "pipelines.append(('NormNB', Pipeline([('MinMaxScaler', MinMaxScaler()),('NB', GaussianNB())])))\n",
    "pipelines.append(('NormSVM', Pipeline([('MinMaxScaler', MinMaxScaler()),('SVM', SVC(gamma='auto'))])))\n",
    "\n",
    "results = []\n",
    "names = []\n",
    "\n",
    "# Aplicação dos pipelines\n",
    "for name, model in pipelines:\n",
    "  kfold = KFold(n_splits=folds)\n",
    "  cv_results = cross_val_score(model, X_train, Y_train, cv=kfold, scoring=scoring)\n",
    "  results.append(cv_results)\n",
    "  names.append(name)\n",
    "  msg = \"%s: %f (%f)\" % (name, cv_results.mean(), cv_results.std())\n",
    "  print(msg)\n",
    "\n",
    "# boxplot de comparação dos algoritmos\n",
    "fig = plt.figure() \n",
    "fig.suptitle('Comparação da Acurácia dos Algoritmos - MinMaxScaler') \n",
    "ax = fig.add_subplot(111) \n",
    "plt.boxplot(results) \n",
    "ax.set_xticklabels(names) \n",
    "plt.show()"
   ]
  },
  {
   "cell_type": "markdown",
   "metadata": {},
   "source": [
    "## Tuning the parameters with GridSearch"
   ]
  },
  {
   "cell_type": "code",
   "execution_count": null,
   "metadata": {},
   "outputs": [],
   "source": [
    "# Tuning do KNN\n",
    "\n",
    "# padronização dos dados\n",
    "scaler = StandardScaler().fit(X_train)\n",
    "rescaledX = scaler.transform(X_train)\n",
    "\n",
    "# hiperparâmetros que serão avaliados\n",
    "k = [1,3,5,7,9,11,13,15,17,19,21]\n",
    "distancias = [\"euclidean\", \"manhattan\", \"minkowski\"]\n",
    "param_grid = dict(n_neighbors=k, metric=distancias)\n",
    "\n",
    "# modelo\n",
    "model = KNeighborsClassifier()\n",
    "kfold = KFold(n_splits=10)\n",
    "\n",
    "# busca exaustiva de hiperparâmetros com GridSearchCV\n",
    "grid = GridSearchCV(estimator=model, param_grid=param_grid, scoring=scoring, cv=kfold)\n",
    "grid_result = grid.fit(rescaledX, Y_train)\n",
    "\n",
    "# imprime o melhor resultado\n",
    "print(\"Melhor: %f usando %s\" % (grid_result.best_score_, grid_result.best_params_)) \n",
    "\n",
    "# imprime todos os resultados\n",
    "means = grid_result.cv_results_['mean_test_score']\n",
    "stds = grid_result.cv_results_['std_test_score']\n",
    "params = grid_result.cv_results_['params']\n",
    "for mean, stdev, param in zip(means, stds, params):\n",
    "    print(\"%f (%f): %r\" % (mean, stdev, param))"
   ]
  },
  {
   "cell_type": "markdown",
   "metadata": {},
   "source": [
    "## The predictions"
   ]
  },
  {
   "cell_type": "code",
   "execution_count": null,
   "metadata": {},
   "outputs": [],
   "source": [
    "# https://www.mikulskibartosz.name/how-to-set-the-global-random_state-in-scikit-learn/\n",
    "np.random.seed(7) # definindo uma seed global \n",
    "\n",
    "# padronização os dados de treino\n",
    "scaler = StandardScaler().fit(X_train)\n",
    "rescaledX = scaler.transform(X_train)\n",
    "\n",
    "# criando um modelo com a melhor configuração até o momento\n",
    "model = SVC(C=0.1, kernel='linear')\n",
    "model.fit(rescaledX, Y_train)\n",
    "\n",
    "# padronização dos dados de teste\n",
    "rescaledTestX = scaler.transform(X_test)\n",
    "\n",
    "# predição\n",
    "predictions = model.predict(rescaledTestX)\n",
    "\n",
    "# estimando a acurácia no conjunto de teste\n",
    "print(accuracy_score(Y_test, predictions))\n",
    "print(confusion_matrix(Y_test, predictions))\n",
    "print(classification_report(Y_test, predictions))"
   ]
  }
 ],
 "metadata": {
  "kernelspec": {
   "display_name": "Python 3",
   "language": "python",
   "name": "python3"
  },
  "language_info": {
   "codemirror_mode": {
    "name": "ipython",
    "version": 3
   },
   "file_extension": ".py",
   "mimetype": "text/x-python",
   "name": "python",
   "nbconvert_exporter": "python",
   "pygments_lexer": "ipython3",
   "version": "3.8.5"
  }
 },
 "nbformat": 4,
 "nbformat_minor": 4
}
