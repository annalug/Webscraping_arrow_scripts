{
 "cells": [
  {
   "cell_type": "code",
   "execution_count": 1,
   "metadata": {
    "id": "f0xzEC0SU3HZ"
   },
   "outputs": [],
   "source": [
    "#Web Scrapping dos scripts dos episodios da serie de tv americana Arrow"
   ]
  },
  {
   "cell_type": "code",
   "execution_count": 2,
   "metadata": {
    "id": "2n4oMFqlU3He"
   },
   "outputs": [],
   "source": [
    "import requests\n",
    "import pandas as pd\n",
    "from bs4 import BeautifulSoup\n",
    "import urllib.request\n",
    "import re"
   ]
  },
  {
   "cell_type": "code",
   "execution_count": 3,
   "metadata": {
    "colab": {
     "base_uri": "https://localhost:8080/"
    },
    "id": "BudYbebxU3Hf",
    "outputId": "e6a087fa-a928-48fe-9f4b-38dae0da4635"
   },
   "outputs": [
    {
     "name": "stdout",
     "output_type": "stream",
     "text": [
      "/\n",
      "/movies\n",
      "/series\n",
      "/\n",
      "/series\n",
      "/series/Arrow-2193021/season-1/episode-1-Pilot\n",
      "/series/Arrow-2193021/season-1/episode-2-Honor_Thy_Father\n",
      "/series/Arrow-2193021/season-1/episode-3-Lone_Gunmen\n",
      "/series/Arrow-2193021/season-1/episode-4-An_Innocent_Man\n",
      "/series/Arrow-2193021/season-1/episode-5-Damaged\n",
      "/series/Arrow-2193021/season-1/episode-6-Legacies\n",
      "/series/Arrow-2193021/season-1/episode-7-Muse_of_Fire\n",
      "/series/Arrow-2193021/season-1/episode-8-Vendetta\n",
      "/series/Arrow-2193021/season-1/episode-9-Years_End\n",
      "/series/Arrow-2193021/season-1/episode-10-Burned\n",
      "/series/Arrow-2193021/season-1/episode-11-Trust_But_Verify\n",
      "/series/Arrow-2193021/season-1/episode-12-Vertigo\n",
      "/series/Arrow-2193021/season-1/episode-13-Betrayal\n",
      "/series/Arrow-2193021/season-1/episode-14-The_Odyssey\n",
      "/series/Arrow-2193021/season-1/episode-15-Dodger\n",
      "/series/Arrow-2193021/season-1/episode-16-Dead_to_Rights\n",
      "/series/Arrow-2193021/season-1/episode-17-The_Huntress_Returns\n",
      "/series/Arrow-2193021/season-1/episode-18-Salvation\n",
      "/series/Arrow-2193021/season-1/episode-19-Unfinished_Business\n",
      "/series/Arrow-2193021/season-1/episode-20-Home_Invasion\n",
      "/series/Arrow-2193021/season-1/episode-21-The_Undertaking\n",
      "/series/Arrow-2193021/season-1/episode-22-Darkness_on_the_Edge_of_Town\n",
      "/series/Arrow-2193021/season-1/episode-23-Sacrifice\n",
      "/series/Arrow-2193021/season-2/episode-1-City_of_Heroes\n",
      "/series/Arrow-2193021/season-2/episode-2-Identity\n",
      "/series/Arrow-2193021/season-2/episode-3-Broken_Dolls\n",
      "/series/Arrow-2193021/season-2/episode-4-Crucible\n",
      "/series/Arrow-2193021/season-2/episode-5-League_of_Assassins\n",
      "/series/Arrow-2193021/season-2/episode-6-Keep_Your_Enemies_Closer\n",
      "/series/Arrow-2193021/season-2/episode-7-State_v_Queen\n",
      "/series/Arrow-2193021/season-2/episode-8-The_Scientist\n",
      "/series/Arrow-2193021/season-2/episode-9-Three_Ghosts\n",
      "/series/Arrow-2193021/season-2/episode-10-Blast_Radius\n",
      "/series/Arrow-2193021/season-2/episode-11-Blind_Spot\n",
      "/series/Arrow-2193021/season-2/episode-12-Tremors\n",
      "/series/Arrow-2193021/season-2/episode-13-Heir_to_the_Demon\n",
      "/series/Arrow-2193021/season-2/episode-14-Time_of_Death\n",
      "/series/Arrow-2193021/season-2/episode-15-The_Promise\n",
      "/series/Arrow-2193021/season-2/episode-16-Suicide_Squad\n",
      "/series/Arrow-2193021/season-2/episode-17-Birds_of_Prey\n",
      "/series/Arrow-2193021/season-2/episode-18-Deathstroke\n",
      "/series/Arrow-2193021/season-2/episode-19-The_Man_Under_the_Hood\n",
      "/series/Arrow-2193021/season-2/episode-20-Seeing_Red\n",
      "/series/Arrow-2193021/season-2/episode-21-City_of_Blood\n",
      "/series/Arrow-2193021/season-2/episode-22-Streets_of_Fire\n",
      "/series/Arrow-2193021/season-2/episode-23-Unthinkable\n",
      "/series/Arrow-2193021/season-3/episode-1-The_Calm\n",
      "/series/Arrow-2193021/season-3/episode-2-Sara\n",
      "/series/Arrow-2193021/season-3/episode-3-Corto_Maltese\n",
      "/series/Arrow-2193021/season-3/episode-5-The_Secret_Origin_of_Felicity_Smoak\n",
      "/series/Arrow-2193021/season-3/episode-6-Guilty\n",
      "/series/Arrow-2193021/season-3/episode-7-Draw_Back_Your_Bow\n",
      "/series/Arrow-2193021/season-3/episode-8-The_Brave_and_the_Bold\n",
      "/series/Arrow-2193021/season-3/episode-9-The_Climb\n",
      "/series/Arrow-2193021/season-3/episode-10-Left_Behind\n",
      "/series/Arrow-2193021/season-3/episode-11-Midnight_City\n",
      "/series/Arrow-2193021/season-3/episode-12-Uprising\n",
      "/series/Arrow-2193021/season-3/episode-13-Canaries\n",
      "/series/Arrow-2193021/season-3/episode-14-The_Return\n",
      "/series/Arrow-2193021/season-3/episode-15-Nanda_Parbat\n",
      "/series/Arrow-2193021/season-3/episode-16-The_Offer\n",
      "/series/Arrow-2193021/season-3/episode-17-Suicidal_Tendencies\n",
      "/series/Arrow-2193021/season-3/episode-18-Public_Enemy\n",
      "/series/Arrow-2193021/season-3/episode-19-Broken_Arrow\n",
      "/series/Arrow-2193021/season-3/episode-20-The_Fallen\n",
      "/series/Arrow-2193021/season-3/episode-21-Al_Sah-Him\n",
      "/series/Arrow-2193021/season-3/episode-22-This_Is_Your_Sword\n",
      "/series/Arrow-2193021/season-3/episode-23-My_Name_Is_Oliver_Queen\n",
      "/series/Arrow-2193021/season-4/episode-1-Green_Arrow\n",
      "/series/Arrow-2193021/season-4/episode-2-The_Candidate\n",
      "/series/Arrow-2193021/season-4/episode-3-Restoration\n",
      "/series/Arrow-2193021/season-4/episode-4-Beyond_Redemption\n",
      "/series/Arrow-2193021/season-4/episode-5-Haunted\n",
      "/series/Arrow-2193021/season-4/episode-6-Lost_Souls\n",
      "/series/Arrow-2193021/season-4/episode-7-Brotherhood\n",
      "/series/Arrow-2193021/season-4/episode-8-Legends_of_Yesterday\n",
      "/series/Arrow-2193021/season-4/episode-9-Dark_Waters\n",
      "/series/Arrow-2193021/season-4/episode-10-Blood_Debts\n",
      "/series/Arrow-2193021/season-4/episode-11-AWOL\n",
      "/series/Arrow-2193021/season-4/episode-12-Unchained\n",
      "/series/Arrow-2193021/season-4/episode-13-Sins_of_the_Father\n",
      "/series/Arrow-2193021/season-4/episode-14-Code_of_Silence\n",
      "/series/Arrow-2193021/season-4/episode-15-Taken\n",
      "/series/Arrow-2193021/season-4/episode-16-Broken_Hearts\n",
      "/series/Arrow-2193021/season-4/episode-17-Beacon_of_Hope\n",
      "/series/Arrow-2193021/season-4/episode-18-Eleven-Fifty-Nine\n",
      "/series/Arrow-2193021/season-4/episode-19-Canary_Cry\n",
      "/series/Arrow-2193021/season-4/episode-20-Genesis\n",
      "/series/Arrow-2193021/season-4/episode-21-Monument_Point\n",
      "/series/Arrow-2193021/season-4/episode-22-Lost_in_the_Flood\n",
      "/series/Arrow-2193021/season-4/episode-23-Schism\n",
      "/series/Arrow-2193021/season-5/episode-1-Legacy\n",
      "/series/Arrow-2193021/season-5/episode-2-The_Recruits\n",
      "/series/Arrow-2193021/season-5/episode-3-A_Matter_of_Trust\n",
      "/series/Arrow-2193021/season-5/episode-4-Penance\n",
      "/series/Arrow-2193021/season-5/episode-5-Human_Target\n",
      "/series/Arrow-2193021/season-5/episode-6-So_It_Begins\n",
      "/series/Arrow-2193021/season-5/episode-7-Vigilante\n",
      "/series/Arrow-2193021/season-5/episode-8-Invasion\n",
      "/series/Arrow-2193021/season-5/episode-9-What_We_Leave_Behind\n",
      "/series/Arrow-2193021/season-5/episode-10-Who_Are_You\n",
      "/series/Arrow-2193021/season-5/episode-11-Second_Chances\n",
      "/series/Arrow-2193021/season-5/episode-12-Bratva\n",
      "/series/Arrow-2193021/season-5/episode-13-Spectre_of_the_Gun\n",
      "/series/Arrow-2193021/season-5/episode-14-The_Sin-Eater\n",
      "/series/Arrow-2193021/season-5/episode-15-Fighting_Fire_with_Fire\n",
      "/series/Arrow-2193021/season-5/episode-16-Checkmate\n",
      "/series/Arrow-2193021/season-5/episode-17-Kapiushon\n",
      "/series/Arrow-2193021/season-5/episode-18-Disbanded\n",
      "/series/Arrow-2193021/season-5/episode-19-Dangerous_Liaisons\n",
      "/series/Arrow-2193021/season-5/episode-20-Underneath\n",
      "/series/Arrow-2193021/season-5/episode-21-Honor_Thy_Fathers\n",
      "/series/Arrow-2193021/season-5/episode-22-Missing\n",
      "/series/Arrow-2193021/season-5/episode-23-Lian_Yu\n",
      "/series/Arrow-2193021/season-6/episode-1-Fallout\n",
      "/series/Arrow-2193021/season-6/episode-2-Tribute\n",
      "/series/Arrow-2193021/season-6/episode-3-Next_of_Kin\n",
      "/series/Arrow-2193021/season-6/episode-4-Reversal\n",
      "/series/Arrow-2193021/season-6/episode-5-Deathstroke_Returns\n",
      "/series/Arrow-2193021/season-6/episode-6-Promises_Kept\n",
      "/series/Arrow-2193021/season-6/episode-7-Thanksgiving\n",
      "/series/Arrow-2193021/season-6/episode-8-Crisis_on_Earth-X_Part_2\n",
      "/series/Arrow-2193021/season-6/episode-9-Irreconcilable_Differences\n",
      "/series/Arrow-2193021/season-6/episode-10-Divided\n",
      "/series/Arrow-2193021/season-6/episode-11-We_Fall\n",
      "/series/Arrow-2193021/season-6/episode-12-All_for_Nothing\n",
      "/series/Arrow-2193021/season-6/episode-13-The_Devils_Greatest_Trick\n",
      "/series/Arrow-2193021/season-6/episode-14-Collision_Course\n",
      "/series/Arrow-2193021/season-6/episode-15-Doppelgnger\n",
      "/series/Arrow-2193021/season-6/episode-16-The_Thanatos_Guild\n",
      "/series/Arrow-2193021/season-6/episode-17-Brothers_in_Arms\n",
      "/series/Arrow-2193021/season-6/episode-18-Fundamentals\n",
      "/series/Arrow-2193021/season-6/episode-19-The_Dragon\n",
      "/series/Arrow-2193021/season-6/episode-20-Shifting_Allegiances\n",
      "/series/Arrow-2193021/season-6/episode-21-Docket_No_11-19-41-73\n",
      "/series/Arrow-2193021/season-6/episode-22-The_Ties_That_Bind\n",
      "/series/Arrow-2193021/season-6/episode-23-Life_Sentence\n",
      "/series/Arrow-2193021/season-7/episode-1-Inmate_4587\n",
      "/series/Arrow-2193021/season-7/episode-2-The_Longbow_Hunters\n",
      "/series/Arrow-2193021/season-7/episode-3-Crossing_Lines\n",
      "/series/Arrow-2193021/season-7/episode-4-Level_Two\n",
      "/series/Arrow-2193021/season-7/episode-5-The_Demon\n",
      "/series/Arrow-2193021/season-7/episode-6-Episode_76\n",
      "/series/Arrow-2193021/season-7/episode-7-The_Slabside_Redemption\n",
      "/series/Arrow-2193021/season-7/episode-8-Episode_78\n",
      "/series/Arrow-2193021/season-7/episode-9-Elseworlds_Part_2\n",
      "/series/Arrow-2193021/season-7/episode-10-Episode_710\n",
      "/series/Arrow-2193021/season-7/episode-11-Past_Sins\n",
      "/series/Arrow-2193021/season-7/episode-15-Training_Day\n",
      "/series/Arrow-2193021/season-7/episode-16-Star_City_2040\n",
      "/series/Arrow-2193021/season-7/episode-17-Inheritance\n",
      "/series/Arrow-2193021/season-7/episode-18-Lost_Canary\n",
      "/series/Arrow-2193021/season-7/episode-19-Spartan\n",
      "/series/Arrow-2193021/season-7/episode-20-Confessions\n",
      "/series/Arrow-2193021/season-7/episode-21-Episode_721\n",
      "/series/Arrow-2193021/season-7/episode-22-Episode_722\n",
      "/series/Arrow-2193021/season-8/episode-1-Starling_City\n",
      "/series/Arrow-2193021/season-8/episode-2-Welcome_to_Hong_Kong\n",
      "/series/Arrow-2193021/season-8/episode-3-Leap_of_Faith\n",
      "/series/Arrow-2193021/season-8/episode-4-Present_Tense\n",
      "/series/Arrow-2193021/season-8/episode-5-Prochnost\n",
      "/series/Arrow-2193021/season-8/episode-6-Reset\n",
      "/series/Arrow-2193021/season-8/episode-7-Purgatory\n",
      "/series/Arrow-2193021/season-8/episode-8-Crisis_on_Infinite_Earths\n",
      "/series/Arrow-2193021/season-8/episode-9-Green_Arrow__the_Canaries\n",
      "/series/Arrow-2193021/season-8/episode-10-Fadeout\n",
      "/dmca\n"
     ]
    }
   ],
   "source": [
    "parser = 'html.parser'  # or 'lxml' (preferred) or 'html5lib', if installed\n",
    "resp = urllib.request.urlopen(\"https://subslikescript.com/series/Arrow-2193021\")    #dataset esta sem 4 episodios da temporada 7\n",
    "soup = BeautifulSoup(resp, parser, from_encoding=resp.info().get_param('charset'))\n",
    "\n",
    "for link in soup.find_all('a', href=True):\n",
    "    \n",
    "    print(link['href'])"
   ]
  },
  {
   "cell_type": "code",
   "execution_count": 4,
   "metadata": {
    "id": "0K6KOQCzU3Hg"
   },
   "outputs": [],
   "source": [
    "href_tags = soup.find_all('a',href=True)   \n",
    "hrefs = [tag.get('href') for tag in href_tags]"
   ]
  },
  {
   "cell_type": "code",
   "execution_count": 5,
   "metadata": {
    "colab": {
     "base_uri": "https://localhost:8080/",
     "height": 35
    },
    "id": "Vo4izhmuU3Hg",
    "outputId": "d3f6a86c-cd5e-42a3-c6e0-469ee3652147"
   },
   "outputs": [
    {
     "data": {
      "text/plain": [
       "'/series/Arrow-2193021/season-1/episode-1-Pilot'"
      ]
     },
     "execution_count": 5,
     "metadata": {},
     "output_type": "execute_result"
    }
   ],
   "source": [
    "hrefs[5]"
   ]
  },
  {
   "cell_type": "code",
   "execution_count": 6,
   "metadata": {
    "colab": {
     "base_uri": "https://localhost:8080/"
    },
    "id": "pXzlFjAtEwvQ",
    "outputId": "a1ea63bf-899d-44d8-da0c-92bf74e257e7"
   },
   "outputs": [
    {
     "data": {
      "text/plain": [
       "172"
      ]
     },
     "execution_count": 6,
     "metadata": {},
     "output_type": "execute_result"
    }
   ],
   "source": [
    "len(hrefs)"
   ]
  },
  {
   "cell_type": "code",
   "execution_count": 7,
   "metadata": {
    "colab": {
     "base_uri": "https://localhost:8080/",
     "height": 35
    },
    "id": "eIDuBOTVE6ma",
    "outputId": "8403c215-4c86-4b59-cf79-a939134224d6"
   },
   "outputs": [
    {
     "data": {
      "text/plain": [
       "'/series/Arrow-2193021/season-8/episode-10-Fadeout'"
      ]
     },
     "execution_count": 7,
     "metadata": {},
     "output_type": "execute_result"
    }
   ],
   "source": [
    "hrefs[170]"
   ]
  },
  {
   "cell_type": "code",
   "execution_count": 8,
   "metadata": {},
   "outputs": [],
   "source": [
    "lista=[]\n",
    "\n",
    "for i in range(5,171):\n",
    "    lista.append(hrefs[i])\n",
    "      "
   ]
  },
  {
   "cell_type": "code",
   "execution_count": 9,
   "metadata": {},
   "outputs": [
    {
     "data": {
      "text/plain": [
       "'/series/Arrow-2193021/season-8/episode-10-Fadeout'"
      ]
     },
     "execution_count": 9,
     "metadata": {},
     "output_type": "execute_result"
    }
   ],
   "source": [
    "lista[165]"
   ]
  },
  {
   "cell_type": "code",
   "execution_count": 10,
   "metadata": {},
   "outputs": [],
   "source": [
    "df_lista = pd.DataFrame(lista)"
   ]
  },
  {
   "cell_type": "code",
   "execution_count": 11,
   "metadata": {},
   "outputs": [
    {
     "data": {
      "text/html": [
       "<div>\n",
       "<style scoped>\n",
       "    .dataframe tbody tr th:only-of-type {\n",
       "        vertical-align: middle;\n",
       "    }\n",
       "\n",
       "    .dataframe tbody tr th {\n",
       "        vertical-align: top;\n",
       "    }\n",
       "\n",
       "    .dataframe thead th {\n",
       "        text-align: right;\n",
       "    }\n",
       "</style>\n",
       "<table border=\"1\" class=\"dataframe\">\n",
       "  <thead>\n",
       "    <tr style=\"text-align: right;\">\n",
       "      <th></th>\n",
       "      <th>0</th>\n",
       "    </tr>\n",
       "  </thead>\n",
       "  <tbody>\n",
       "    <tr>\n",
       "      <th>0</th>\n",
       "      <td>/series/Arrow-2193021/season-1/episode-1-Pilot</td>\n",
       "    </tr>\n",
       "    <tr>\n",
       "      <th>1</th>\n",
       "      <td>/series/Arrow-2193021/season-1/episode-2-Honor...</td>\n",
       "    </tr>\n",
       "    <tr>\n",
       "      <th>2</th>\n",
       "      <td>/series/Arrow-2193021/season-1/episode-3-Lone_...</td>\n",
       "    </tr>\n",
       "    <tr>\n",
       "      <th>3</th>\n",
       "      <td>/series/Arrow-2193021/season-1/episode-4-An_In...</td>\n",
       "    </tr>\n",
       "    <tr>\n",
       "      <th>4</th>\n",
       "      <td>/series/Arrow-2193021/season-1/episode-5-Damaged</td>\n",
       "    </tr>\n",
       "    <tr>\n",
       "      <th>...</th>\n",
       "      <td>...</td>\n",
       "    </tr>\n",
       "    <tr>\n",
       "      <th>161</th>\n",
       "      <td>/series/Arrow-2193021/season-8/episode-6-Reset</td>\n",
       "    </tr>\n",
       "    <tr>\n",
       "      <th>162</th>\n",
       "      <td>/series/Arrow-2193021/season-8/episode-7-Purga...</td>\n",
       "    </tr>\n",
       "    <tr>\n",
       "      <th>163</th>\n",
       "      <td>/series/Arrow-2193021/season-8/episode-8-Crisi...</td>\n",
       "    </tr>\n",
       "    <tr>\n",
       "      <th>164</th>\n",
       "      <td>/series/Arrow-2193021/season-8/episode-9-Green...</td>\n",
       "    </tr>\n",
       "    <tr>\n",
       "      <th>165</th>\n",
       "      <td>/series/Arrow-2193021/season-8/episode-10-Fadeout</td>\n",
       "    </tr>\n",
       "  </tbody>\n",
       "</table>\n",
       "<p>166 rows × 1 columns</p>\n",
       "</div>"
      ],
      "text/plain": [
       "                                                     0\n",
       "0       /series/Arrow-2193021/season-1/episode-1-Pilot\n",
       "1    /series/Arrow-2193021/season-1/episode-2-Honor...\n",
       "2    /series/Arrow-2193021/season-1/episode-3-Lone_...\n",
       "3    /series/Arrow-2193021/season-1/episode-4-An_In...\n",
       "4     /series/Arrow-2193021/season-1/episode-5-Damaged\n",
       "..                                                 ...\n",
       "161     /series/Arrow-2193021/season-8/episode-6-Reset\n",
       "162  /series/Arrow-2193021/season-8/episode-7-Purga...\n",
       "163  /series/Arrow-2193021/season-8/episode-8-Crisi...\n",
       "164  /series/Arrow-2193021/season-8/episode-9-Green...\n",
       "165  /series/Arrow-2193021/season-8/episode-10-Fadeout\n",
       "\n",
       "[166 rows x 1 columns]"
      ]
     },
     "execution_count": 11,
     "metadata": {},
     "output_type": "execute_result"
    }
   ],
   "source": [
    "df_lista"
   ]
  },
  {
   "cell_type": "code",
   "execution_count": null,
   "metadata": {
    "id": "vLRmU3IykrUI"
   },
   "outputs": [],
   "source": [
    "eps = []\n",
    "\n",
    "for i in  range(5,171):\n",
    "  url_base= 'https://subslikescript.com'\n",
    "  url_final = url_base + hrefs[i]\n",
    "  page = requests.get(url_final)\n",
    "  soup = BeautifulSoup(page.content, \"lxml\")\n",
    "  results = soup.find_all(\"div\", {\"class\": \"full-script\"})\n",
    "  eps.append(results)\n"
   ]
  },
  {
   "cell_type": "code",
   "execution_count": null,
   "metadata": {
    "colab": {
     "base_uri": "https://localhost:8080/"
    },
    "id": "RGC2H80GU3Hi",
    "outputId": "9723e6b6-8b3e-411b-d335-73b57ef0878f"
   },
   "outputs": [],
   "source": [
    "len(eps)"
   ]
  },
  {
   "cell_type": "code",
   "execution_count": null,
   "metadata": {},
   "outputs": [],
   "source": [
    "type(eps)"
   ]
  },
  {
   "cell_type": "code",
   "execution_count": null,
   "metadata": {
    "colab": {
     "base_uri": "https://localhost:8080/"
    },
    "id": "c2Jj6pCuU3Hi",
    "outputId": "d927dbc5-1629-4240-f07b-640937a9c025"
   },
   "outputs": [],
   "source": [
    "type(eps[165])"
   ]
  },
  {
   "cell_type": "code",
   "execution_count": null,
   "metadata": {
    "id": "UWowL8_57Sik"
   },
   "outputs": [],
   "source": [
    "chars = ['<script async=\"\" src=\"https://pagead2.googlesyndication.com/pagead/js/adsbygoogle.js\"></script>\\n<!-- subslikescript native automated \\'subslikescript article\\' -->\\n<ins class=\"adsbygoogle\" data-ad-client=\"ca-pub-6250492176235895\" data-ad-format=\"fluid\" data-ad-layout=\"in-article\" data-ad-slot=\"8633658590\" style=\"display:block; text-align:center;\"></ins>\\n<script>\\r\\n      \\r\\n</script> ','<script async=\"\" src=\"https://pagead2.googlesyndication.com/pagead/js/adsbygoogle.js\"></script>\\n<!-- subslikescript square adaptive -->\\n<ins class=\"adsbygoogle\" data-ad-client=\"ca-pub-6250492176235895\" data-ad-format=\"auto\" data-ad-slot=\"8838522786\" data-full-width-responsive=\"true\" style=\"display:block\"></ins>\\n<script>\\r\\n      \\r\\n</script> ','OpenSubtitles recommends using Nord VPN from 3.49 USD/month ----&gt; osdb.link/vpn ','Greg, move your head!','OpenSubtitles recommends using Nord VPN from 3.49 USD/month ----&gt; osdb.link/vpn','<script async=\"\" src=\"https://pagead2.googlesyndication.com/pagead/js/adsbygoogle.js\"></script>\\n<!-- subslikescript square adaptive -->\\n<ins class=\"adsbygoogle\" data-ad-client=\"ca-pub-6250492176235895\" data-ad-format=\"auto\" data-ad-slot=\"8838522786\" data-full-width-responsive=\"true\" style=\"display:block\"></ins>\\n<script>\\r\\n      \\r\\n</script>','<script async=\"\" src=\"https://pagead2.googlesyndication.com/pagead/js/adsbygoogle.js\"></script>\\n<!-- subslikescript native automated \\'subslikescript article\\' -->\\n<ins class=\"adsbygoogle\" data-ad-client=\"ca-pub-6250492176235895\" data-ad-format=\"fluid\" data-ad-layout=\"in-article\" data-ad-slot=\"8633658590\" style=\"display:block; text-align:center;\"></ins>\\n<script>\\r\\n      \\r\\n</script>','(adsbygoogle = window.adsbygoogle || []).push({});','[<div class=\"full-script\">','<br/><br/>','<br/>', '</div>]','<script async=\"\" src=\"https://pagead2.googlesyndication.com/pagead/js/adsbygoogle.js\"></script>\\n<!-- subslikescript square adaptive -->\\n<ins class=\"adsbygoogle\" data-ad-client=\"ca-pub-6250492176235895\" data-ad-format=\"auto\" data-ad-slot=\"8838522786\" data-full-width-responsive=\"true\" style=\"display:block\"></ins>\\n<script>\\r\\n     \\r\\n</script>','<script async=\"\" src=\"https://pagead2.googlesyndication.com/pagead/js/adsbygoogle.js\"></script>\\n<!-- subslikescript native automated \\'subslikescript article\\' -->\\n<ins class=\"adsbygoogle\" data-ad-client=\"ca-pub-6250492176235895\" data-ad-format=\"fluid\" data-ad-layout=\"in-article\" data-ad-slot=\"8633658590\" style=\"display:block; text-align:center;\"></ins>\\n<script>\\r\\n     \\r\\n</script>' ]"
   ]
  },
  {
   "cell_type": "code",
   "execution_count": null,
   "metadata": {},
   "outputs": [],
   "source": [
    "intro ='OLIVER:My name is Oliver Queen.For five years, I was strandedon an island with only one goal:Survive.Oliver Queen is alive.OLIVER:Now, I will fulfill my father\\'s dying wish......to use the list of names he left me......and bring down thosewho are poisoning my city.To do this,I must become someone else.I must become something else.'"
   ]
  },
  {
   "cell_type": "code",
   "execution_count": null,
   "metadata": {},
   "outputs": [],
   "source": [
    "intro2 = 'My name is Oliver Queen.After five years in hell,I have come home with only one goal:To save my city.Now others have joined my crusade.To them, I\\'m Oliver Queen.To the rest of Starling City......I am someone else.I am something else.'"
   ]
  },
  {
   "cell_type": "code",
   "execution_count": null,
   "metadata": {
    "id": "jI66aI2tqAO-"
   },
   "outputs": [],
   "source": [
    "txt=[]\n",
    "for i in range(len(eps)):\n",
    "  txt.append(str(eps[i]))\n",
    "  for c in chars:\n",
    "    txt[i] = txt[i].replace(c,'')\n",
    "    txt[i] = txt[i].replace(intro,'')\n",
    "    txt[i] = txt[i].replace(intro2,'')\n",
    "    txt[i] = txt[i].replace('1','I')\n",
    "    txt[i] = txt[i].replace('\\\\','') #nao remove"
   ]
  },
  {
   "cell_type": "code",
   "execution_count": null,
   "metadata": {
    "colab": {
     "base_uri": "https://localhost:8080/",
     "height": 1000
    },
    "id": "kUyttTKuvpzN",
    "outputId": "2952f8cc-2efe-4d7b-a6aa-68e42f567802"
   },
   "outputs": [],
   "source": [
    "len(txt)"
   ]
  },
  {
   "cell_type": "code",
   "execution_count": null,
   "metadata": {
    "jupyter": {
     "outputs_hidden": true
    }
   },
   "outputs": [],
   "source": [
    "txt[40]   #em pt????"
   ]
  },
  {
   "cell_type": "markdown",
   "metadata": {},
   "source": [
    "## Criando o dataframe"
   ]
  },
  {
   "cell_type": "code",
   "execution_count": null,
   "metadata": {},
   "outputs": [],
   "source": [
    "df = pd.DataFrame(txt,columns=['Episodios'])"
   ]
  },
  {
   "cell_type": "code",
   "execution_count": null,
   "metadata": {},
   "outputs": [],
   "source": [
    "df.shape"
   ]
  },
  {
   "cell_type": "code",
   "execution_count": null,
   "metadata": {},
   "outputs": [],
   "source": [
    "print(df.loc[[40]])   #em pt"
   ]
  },
  {
   "cell_type": "code",
   "execution_count": null,
   "metadata": {},
   "outputs": [],
   "source": [
    "df.head()"
   ]
  },
  {
   "cell_type": "code",
   "execution_count": null,
   "metadata": {},
   "outputs": [],
   "source": [
    "# Remove punctuation\n",
    "df['text_processed'] = \\\n",
    "df['Episodios'].map(lambda x: re.sub('[,\\.!?]', ' ', x))"
   ]
  },
  {
   "cell_type": "code",
   "execution_count": null,
   "metadata": {},
   "outputs": [],
   "source": [
    "# Convert the titles to lowercase\n",
    "df['text_processed'] = \\\n",
    "df['text_processed'].map(lambda x: x.lower())     "
   ]
  },
  {
   "cell_type": "code",
   "execution_count": null,
   "metadata": {},
   "outputs": [],
   "source": [
    "df['text_processed'].head()"
   ]
  },
  {
   "cell_type": "markdown",
   "metadata": {},
   "source": [
    "## Primeiro datatset com script cru, script processado e nome do episódio"
   ]
  },
  {
   "cell_type": "code",
   "execution_count": null,
   "metadata": {},
   "outputs": [],
   "source": [
    "df_parcial = pd.concat([df_lista, df], axis=1) "
   ]
  },
  {
   "cell_type": "code",
   "execution_count": null,
   "metadata": {},
   "outputs": [],
   "source": [
    "df_parcial.columns = ['nome_ep', 'Episodios','text_processed']"
   ]
  },
  {
   "cell_type": "code",
   "execution_count": null,
   "metadata": {},
   "outputs": [],
   "source": [
    "df_parcial.head()"
   ]
  },
  {
   "cell_type": "code",
   "execution_count": null,
   "metadata": {},
   "outputs": [],
   "source": [
    "df_parcial.loc[40]       # script em portugues"
   ]
  },
  {
   "cell_type": "code",
   "execution_count": null,
   "metadata": {},
   "outputs": [],
   "source": [
    "df_parcial = df_parcial.drop(df_parcial.index[[40]]) #removendo a linha 40"
   ]
  },
  {
   "cell_type": "markdown",
   "metadata": {},
   "source": [
    "## Nuvem de palavras"
   ]
  },
  {
   "cell_type": "code",
   "execution_count": null,
   "metadata": {},
   "outputs": [],
   "source": [
    "# Import the wordcloud library\n",
    "from wordcloud import WordCloud\n",
    "\n",
    "# Join the different processed texts together.\n",
    "long_string = ','.join(list(df_parcial['text_processed'].values))\n",
    "\n",
    "# Create a WordCloud object\n",
    "wordcloud = WordCloud(background_color=\"white\", max_words=1000, contour_width=3, contour_color='steelblue')\n",
    "\n",
    "# Generate a word cloud\n",
    "wordcloud.generate(long_string)\n",
    "\n",
    "# Visualize the word cloud\n",
    "wordcloud.to_image()"
   ]
  },
  {
   "cell_type": "code",
   "execution_count": null,
   "metadata": {
    "jupyter": {
     "outputs_hidden": true
    }
   },
   "outputs": [],
   "source": [
    "df_parcial['text_processed'].values #todo o dataset"
   ]
  },
  {
   "cell_type": "markdown",
   "metadata": {},
   "source": [
    "## Tokenizacao e remocao de stopwords"
   ]
  },
  {
   "cell_type": "code",
   "execution_count": null,
   "metadata": {},
   "outputs": [],
   "source": [
    "import gensim\n",
    "from gensim.utils import simple_preprocess\n",
    "import nltk\n",
    "nltk.download('stopwords')\n",
    "from nltk.corpus import stopwords\n",
    "\n",
    "stop_words = stopwords.words('english')\n",
    "stop_words.extend(['from', 'subject', 're', 'edu', 'use', 'one', 'yeah', 'get','go','got','right','gonna','need','oh','well','ok','let','back','going','hey'])\n",
    "print(stopwords.words() [620:680])\n"
   ]
  },
  {
   "cell_type": "code",
   "execution_count": null,
   "metadata": {},
   "outputs": [],
   "source": [
    "def sent_to_words(sentences):\n",
    "    for sentence in sentences:\n",
    "        # deacc=True removes punctuations\n",
    "        yield(gensim.utils.simple_preprocess(str(sentence), deacc=True))\n",
    "\n",
    "def remove_stopwords(texts):\n",
    "    return [[word for word in simple_preprocess(str(doc)) \n",
    "             if word not in stop_words] for doc in texts]\n",
    "\n",
    "\n",
    "data = df_parcial.text_processed.values.tolist()   \n",
    "data_words = list(sent_to_words(data))\n",
    "\n",
    "# remove stop words\n",
    "data_words = remove_stopwords(data_words)\n",
    "\n",
    "\n",
    "print(data_words[:1][0][:30])  #????"
   ]
  },
  {
   "cell_type": "code",
   "execution_count": null,
   "metadata": {},
   "outputs": [],
   "source": [
    "# from nltk.stem import PorterStemmer            \n",
    "\n",
    "# ps=PorterStemmer()\n",
    "\n",
    "# for i in range(len(data_words)):\n",
    "#     data_words[i]=ps.stem(str(data_words[i]))\n",
    "    "
   ]
  },
  {
   "cell_type": "code",
   "execution_count": null,
   "metadata": {},
   "outputs": [],
   "source": [
    "len(data_words)"
   ]
  },
  {
   "cell_type": "code",
   "execution_count": null,
   "metadata": {},
   "outputs": [],
   "source": [
    "import gensim.corpora as corpora\n",
    "\n",
    "# Create Dictionary\n",
    "id2word = corpora.Dictionary(data_words)\n",
    "\n",
    "# Create Corpus\n",
    "texts = data_words\n",
    "\n",
    "# Term Document Frequency\n",
    "corpus = [id2word.doc2bow(text) for text in texts]\n",
    "\n",
    "# View\n",
    "print(corpus[:1][0][:30])"
   ]
  },
  {
   "cell_type": "markdown",
   "metadata": {},
   "source": [
    "## Treinamento do modelo"
   ]
  },
  {
   "cell_type": "code",
   "execution_count": null,
   "metadata": {},
   "outputs": [],
   "source": [
    "from pprint import pprint\n",
    "\n",
    "# number of topics\n",
    "num_topics = 3\n",
    "\n",
    "# Build LDA model\n",
    "lda_model = gensim.models.LdaMulticore(corpus=corpus,\n",
    "                                       id2word=id2word,\n",
    "                                       num_topics=num_topics)\n",
    "\n",
    "# Print the Keyword in the 10 topics\n",
    "pprint(lda_model.print_topics())\n",
    "doc_lda = lda_model[corpus]"
   ]
  },
  {
   "cell_type": "code",
   "execution_count": null,
   "metadata": {},
   "outputs": [],
   "source": [
    "type(doc_lda)"
   ]
  },
  {
   "cell_type": "code",
   "execution_count": null,
   "metadata": {},
   "outputs": [],
   "source": [
    "import pickle \n",
    "import pyLDAvis\n",
    "import pyLDAvis.gensim_models\n",
    "import os\n",
    "\n",
    "\n",
    "# Visualize the topics\n",
    "pyLDAvis.enable_notebook()\n",
    "\n",
    "LDAvis_data_filepath = os.path.join('/home/annagomes/Documents/mono/prepared_'+str(num_topics))\n",
    "\n",
    "# # this is a bit time consuming - make the if statement True\n",
    "# # if you want to execute visualization prep yourself\n",
    "if 1 == 1:\n",
    "    LDAvis_prepared = pyLDAvis.gensim_models.prepare(lda_model, corpus, id2word)\n",
    "    with open(LDAvis_data_filepath, 'wb') as f:\n",
    "        pickle.dump(LDAvis_prepared, f)\n",
    "\n",
    "# load the pre-prepared pyLDAvis data from disk\n",
    "with open(LDAvis_data_filepath, 'rb') as f:\n",
    "    LDAvis_prepared = pickle.load(f)\n",
    "\n",
    "pyLDAvis.save_html(LDAvis_prepared, '/home/annagomes/Documents/mono/prepared_'+ str(num_topics) +'.html')\n",
    "\n",
    "LDAvis_prepared"
   ]
  },
  {
   "cell_type": "code",
   "execution_count": null,
   "metadata": {},
   "outputs": [],
   "source": [
    "topic_scores = [[topic_score[1] for topic_score in sent] for sent in doc_lda]\n",
    "\n",
    "#topicos\n",
    "#1\n",
    "#2\n",
    "#3"
   ]
  },
  {
   "cell_type": "markdown",
   "metadata": {},
   "source": [
    "## Dataframe com os scores de cada topico, onde cada linha é o index do txt (script)\n"
   ]
  },
  {
   "cell_type": "code",
   "execution_count": null,
   "metadata": {},
   "outputs": [],
   "source": [
    "df_topics = pd.DataFrame(topic_scores)"
   ]
  },
  {
   "cell_type": "code",
   "execution_count": null,
   "metadata": {},
   "outputs": [],
   "source": [
    "df_topics.head()"
   ]
  },
  {
   "cell_type": "code",
   "execution_count": null,
   "metadata": {},
   "outputs": [],
   "source": [
    "len(df_topics)"
   ]
  },
  {
   "cell_type": "code",
   "execution_count": null,
   "metadata": {},
   "outputs": [],
   "source": [
    "df_topics.loc[4,:]   #scores dos topicos do script 4 "
   ]
  },
  {
   "cell_type": "markdown",
   "metadata": {},
   "source": [
    "## Dataset final"
   ]
  },
  {
   "cell_type": "code",
   "execution_count": null,
   "metadata": {},
   "outputs": [],
   "source": [
    "df_concat = pd.concat([df_parcial, df_topics], axis=1) "
   ]
  },
  {
   "cell_type": "code",
   "execution_count": null,
   "metadata": {},
   "outputs": [],
   "source": [
    "df_concat.head()"
   ]
  },
  {
   "cell_type": "code",
   "execution_count": null,
   "metadata": {},
   "outputs": [],
   "source": [
    "df_concat.to_csv('scripts.csv')"
   ]
  },
  {
   "cell_type": "markdown",
   "metadata": {},
   "source": [
    "## Lista com os topicos predominantes"
   ]
  },
  {
   "cell_type": "code",
   "execution_count": null,
   "metadata": {},
   "outputs": [],
   "source": [
    "max_topics = [max(sent, key=lambda x: x[1])[0] for sent in doc_lda]"
   ]
  },
  {
   "cell_type": "code",
   "execution_count": null,
   "metadata": {},
   "outputs": [],
   "source": [
    "len(max_topics)"
   ]
  }
 ],
 "metadata": {
  "colab": {
   "collapsed_sections": [],
   "name": "Webscrap_arrow.ipynb",
   "provenance": []
  },
  "kernelspec": {
   "display_name": "Python 3",
   "language": "python",
   "name": "python3"
  },
  "language_info": {
   "codemirror_mode": {
    "name": "ipython",
    "version": 3
   },
   "file_extension": ".py",
   "mimetype": "text/x-python",
   "name": "python",
   "nbconvert_exporter": "python",
   "pygments_lexer": "ipython3",
   "version": "3.8.5"
  }
 },
 "nbformat": 4,
 "nbformat_minor": 4
}
