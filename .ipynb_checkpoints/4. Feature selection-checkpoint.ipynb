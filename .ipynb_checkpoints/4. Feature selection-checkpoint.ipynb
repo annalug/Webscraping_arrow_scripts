{
 "cells": [
  {
   "cell_type": "code",
   "execution_count": 2,
   "id": "c5b49234",
   "metadata": {},
   "outputs": [],
   "source": [
    "# configuração para não exibir os warnings\n",
    "\n",
    "import warnings\n",
    "warnings.filterwarnings(\"ignore\")\n",
    "\n",
    "# ignorando future warnings\n",
    "from warnings import simplefilter\n",
    "simplefilter(action='ignore', category=FutureWarning)"
   ]
  },
  {
   "cell_type": "code",
   "execution_count": 3,
   "id": "a6634cf3",
   "metadata": {},
   "outputs": [],
   "source": [
    "import pandas as pd"
   ]
  },
  {
   "cell_type": "code",
   "execution_count": 4,
   "id": "bb2f8573",
   "metadata": {},
   "outputs": [],
   "source": [
    "scripts = pd.read_csv('Data/scripts.csv', sep=\";\")\n",
    "scripts.drop('Unnamed: 0', axis=1, inplace=True)\n",
    "\n",
    "\n",
    "wiki = pd.read_csv('Data/wikipedia.csv', sep=\";\")\n",
    "wiki.drop('Unnamed: 0', axis=1, inplace=True)\n",
    "wiki = wiki.drop(wiki.index[[40,49,149,150,151]]) #removing line 40\n",
    "wiki = wiki.reset_index(drop=True)\n",
    "dataset = pd.concat([wiki, scripts], axis=1) \n",
    "dataset[['viewers(millions)','residual']] = dataset['U.S. viewers(millions)'].str.split('[',expand=True)\n",
    "dataset.drop(['U.S. viewers(millions)','residual','Title','text_processed','nome_ep','Topic','Episodios', 'No.overall', 'No. inseason', 'Written by', 'Prod.code', 'Original air date'], axis = 1 ,inplace = True)\n",
    "dataset = dataset[[ 'Directed by', 'qtd_reviews', '0','1','2', 'viewers(millions)',  'nota_imdb']]\n",
    "dataset.columns = ['Directed_by',  'qtd_reviews', '0','1','2','viewers(millions)',  'nota_imdb']\n",
    "dataset[\"viewers(millions)\"] = pd.to_numeric(dataset[\"viewers(millions)\"])\n",
    "columns_dataset = ['Directed_by','reviews', 'Cluster 0', 'Cluster 1', 'Cluster 2', 'viewers(millions)', 'IMDB rating'  ]\n",
    "dataset.columns = columns_dataset"
   ]
  },
  {
   "cell_type": "code",
   "execution_count": 5,
   "id": "9c6847ae",
   "metadata": {},
   "outputs": [
    {
     "name": "stdout",
     "output_type": "stream",
     "text": [
      "<class 'pandas.core.frame.DataFrame'>\n",
      "RangeIndex: 165 entries, 0 to 164\n",
      "Data columns (total 7 columns):\n",
      " #   Column             Non-Null Count  Dtype  \n",
      "---  ------             --------------  -----  \n",
      " 0   Directed_by        165 non-null    object \n",
      " 1   reviews            165 non-null    int64  \n",
      " 2   Cluster 0          165 non-null    float64\n",
      " 3   Cluster 1          165 non-null    float64\n",
      " 4   Cluster 2          165 non-null    float64\n",
      " 5   viewers(millions)  165 non-null    float64\n",
      " 6   IMDB rating        165 non-null    float64\n",
      "dtypes: float64(5), int64(1), object(1)\n",
      "memory usage: 9.1+ KB\n"
     ]
    }
   ],
   "source": [
    "dataset.info()"
   ]
  },
  {
   "cell_type": "code",
   "execution_count": null,
   "id": "ad3ba4d9",
   "metadata": {},
   "outputs": [],
   "source": []
  },
  {
   "cell_type": "code",
   "execution_count": null,
   "id": "4511c41d",
   "metadata": {},
   "outputs": [],
   "source": []
  },
  {
   "cell_type": "code",
   "execution_count": null,
   "id": "00b9b7b9",
   "metadata": {},
   "outputs": [],
   "source": []
  },
  {
   "cell_type": "code",
   "execution_count": null,
   "id": "538abef4",
   "metadata": {},
   "outputs": [],
   "source": []
  }
 ],
 "metadata": {
  "kernelspec": {
   "display_name": "Python 3",
   "language": "python",
   "name": "python3"
  },
  "language_info": {
   "codemirror_mode": {
    "name": "ipython",
    "version": 3
   },
   "file_extension": ".py",
   "mimetype": "text/x-python",
   "name": "python",
   "nbconvert_exporter": "python",
   "pygments_lexer": "ipython3",
   "version": "3.8.8"
  }
 },
 "nbformat": 4,
 "nbformat_minor": 5
}
