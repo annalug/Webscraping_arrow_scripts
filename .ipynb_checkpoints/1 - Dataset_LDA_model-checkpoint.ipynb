{
 "cells": [
  {
   "cell_type": "markdown",
   "metadata": {
    "id": "f0xzEC0SU3HZ"
   },
   "source": [
    "# Web Scrapping of Arrow (American TV Serie) scripts\n",
    "## From the site: https://subslikescript.com/ \n",
    "## by: Anna Luiza Gomes"
   ]
  },
  {
   "cell_type": "markdown",
   "metadata": {
    "id": "Ef1vKOqq8Jd9"
   },
   "source": [
    "## Pre-processing the data (scripts)"
   ]
  },
  {
   "cell_type": "code",
   "execution_count": 162,
   "metadata": {
    "id": "2n4oMFqlU3He"
   },
   "outputs": [
    {
     "name": "stderr",
     "output_type": "stream",
     "text": [
      "/home/anna/anaconda3/lib/python3.8/site-packages/ipykernel/ipkernel.py:287: DeprecationWarning: `should_run_async` will not call `transform_cell` automatically in the future. Please pass the result to `transformed_cell` argument and any exception that happen during thetransform in `preprocessing_exc_tuple` in IPython 7.17 and above.\n",
      "  and should_run_async(code)\n"
     ]
    }
   ],
   "source": [
    "import requests\n",
    "import pandas as pd\n",
    "from bs4 import BeautifulSoup\n",
    "import urllib.request\n",
    "import re"
   ]
  },
  {
   "cell_type": "code",
   "execution_count": 163,
   "metadata": {
    "colab": {
     "base_uri": "https://localhost:8080/"
    },
    "id": "BudYbebxU3Hf",
    "outputId": "e6a087fa-a928-48fe-9f4b-38dae0da4635"
   },
   "outputs": [
    {
     "name": "stderr",
     "output_type": "stream",
     "text": [
      "/home/anna/anaconda3/lib/python3.8/site-packages/ipykernel/ipkernel.py:287: DeprecationWarning: `should_run_async` will not call `transform_cell` automatically in the future. Please pass the result to `transformed_cell` argument and any exception that happen during thetransform in `preprocessing_exc_tuple` in IPython 7.17 and above.\n",
      "  and should_run_async(code)\n"
     ]
    },
    {
     "name": "stdout",
     "output_type": "stream",
     "text": [
      "/\n",
      "/movies\n",
      "/series\n",
      "/\n",
      "/series\n",
      "/series/Arrow-2193021/season-1/episode-1-Pilot\n",
      "/series/Arrow-2193021/season-1/episode-2-Honor_Thy_Father\n",
      "/series/Arrow-2193021/season-1/episode-3-Lone_Gunmen\n",
      "/series/Arrow-2193021/season-1/episode-4-An_Innocent_Man\n",
      "/series/Arrow-2193021/season-1/episode-5-Damaged\n",
      "/series/Arrow-2193021/season-1/episode-6-Legacies\n",
      "/series/Arrow-2193021/season-1/episode-7-Muse_of_Fire\n",
      "/series/Arrow-2193021/season-1/episode-8-Vendetta\n",
      "/series/Arrow-2193021/season-1/episode-9-Years_End\n",
      "/series/Arrow-2193021/season-1/episode-10-Burned\n",
      "/series/Arrow-2193021/season-1/episode-11-Trust_But_Verify\n",
      "/series/Arrow-2193021/season-1/episode-12-Vertigo\n",
      "/series/Arrow-2193021/season-1/episode-13-Betrayal\n",
      "/series/Arrow-2193021/season-1/episode-14-The_Odyssey\n",
      "/series/Arrow-2193021/season-1/episode-15-Dodger\n",
      "/series/Arrow-2193021/season-1/episode-16-Dead_to_Rights\n",
      "/series/Arrow-2193021/season-1/episode-17-The_Huntress_Returns\n",
      "/series/Arrow-2193021/season-1/episode-18-Salvation\n",
      "/series/Arrow-2193021/season-1/episode-19-Unfinished_Business\n",
      "/series/Arrow-2193021/season-1/episode-20-Home_Invasion\n",
      "/series/Arrow-2193021/season-1/episode-21-The_Undertaking\n",
      "/series/Arrow-2193021/season-1/episode-22-Darkness_on_the_Edge_of_Town\n",
      "/series/Arrow-2193021/season-1/episode-23-Sacrifice\n",
      "/series/Arrow-2193021/season-2/episode-1-City_of_Heroes\n",
      "/series/Arrow-2193021/season-2/episode-2-Identity\n",
      "/series/Arrow-2193021/season-2/episode-3-Broken_Dolls\n",
      "/series/Arrow-2193021/season-2/episode-4-Crucible\n",
      "/series/Arrow-2193021/season-2/episode-5-League_of_Assassins\n",
      "/series/Arrow-2193021/season-2/episode-6-Keep_Your_Enemies_Closer\n",
      "/series/Arrow-2193021/season-2/episode-7-State_v_Queen\n",
      "/series/Arrow-2193021/season-2/episode-8-The_Scientist\n",
      "/series/Arrow-2193021/season-2/episode-9-Three_Ghosts\n",
      "/series/Arrow-2193021/season-2/episode-10-Blast_Radius\n",
      "/series/Arrow-2193021/season-2/episode-11-Blind_Spot\n",
      "/series/Arrow-2193021/season-2/episode-12-Tremors\n",
      "/series/Arrow-2193021/season-2/episode-13-Heir_to_the_Demon\n",
      "/series/Arrow-2193021/season-2/episode-14-Time_of_Death\n",
      "/series/Arrow-2193021/season-2/episode-15-The_Promise\n",
      "/series/Arrow-2193021/season-2/episode-16-Suicide_Squad\n",
      "/series/Arrow-2193021/season-2/episode-17-Birds_of_Prey\n",
      "/series/Arrow-2193021/season-2/episode-18-Deathstroke\n",
      "/series/Arrow-2193021/season-2/episode-19-The_Man_Under_the_Hood\n",
      "/series/Arrow-2193021/season-2/episode-20-Seeing_Red\n",
      "/series/Arrow-2193021/season-2/episode-21-City_of_Blood\n",
      "/series/Arrow-2193021/season-2/episode-22-Streets_of_Fire\n",
      "/series/Arrow-2193021/season-2/episode-23-Unthinkable\n",
      "/series/Arrow-2193021/season-3/episode-1-The_Calm\n",
      "/series/Arrow-2193021/season-3/episode-2-Sara\n",
      "/series/Arrow-2193021/season-3/episode-3-Corto_Maltese\n",
      "/series/Arrow-2193021/season-3/episode-5-The_Secret_Origin_of_Felicity_Smoak\n",
      "/series/Arrow-2193021/season-3/episode-6-Guilty\n",
      "/series/Arrow-2193021/season-3/episode-7-Draw_Back_Your_Bow\n",
      "/series/Arrow-2193021/season-3/episode-8-The_Brave_and_the_Bold\n",
      "/series/Arrow-2193021/season-3/episode-9-The_Climb\n",
      "/series/Arrow-2193021/season-3/episode-10-Left_Behind\n",
      "/series/Arrow-2193021/season-3/episode-11-Midnight_City\n",
      "/series/Arrow-2193021/season-3/episode-12-Uprising\n",
      "/series/Arrow-2193021/season-3/episode-13-Canaries\n",
      "/series/Arrow-2193021/season-3/episode-14-The_Return\n",
      "/series/Arrow-2193021/season-3/episode-15-Nanda_Parbat\n",
      "/series/Arrow-2193021/season-3/episode-16-The_Offer\n",
      "/series/Arrow-2193021/season-3/episode-17-Suicidal_Tendencies\n",
      "/series/Arrow-2193021/season-3/episode-18-Public_Enemy\n",
      "/series/Arrow-2193021/season-3/episode-19-Broken_Arrow\n",
      "/series/Arrow-2193021/season-3/episode-20-The_Fallen\n",
      "/series/Arrow-2193021/season-3/episode-21-Al_Sah-Him\n",
      "/series/Arrow-2193021/season-3/episode-22-This_Is_Your_Sword\n",
      "/series/Arrow-2193021/season-3/episode-23-My_Name_Is_Oliver_Queen\n",
      "/series/Arrow-2193021/season-4/episode-1-Green_Arrow\n",
      "/series/Arrow-2193021/season-4/episode-2-The_Candidate\n",
      "/series/Arrow-2193021/season-4/episode-3-Restoration\n",
      "/series/Arrow-2193021/season-4/episode-4-Beyond_Redemption\n",
      "/series/Arrow-2193021/season-4/episode-5-Haunted\n",
      "/series/Arrow-2193021/season-4/episode-6-Lost_Souls\n",
      "/series/Arrow-2193021/season-4/episode-7-Brotherhood\n",
      "/series/Arrow-2193021/season-4/episode-8-Legends_of_Yesterday\n",
      "/series/Arrow-2193021/season-4/episode-9-Dark_Waters\n",
      "/series/Arrow-2193021/season-4/episode-10-Blood_Debts\n",
      "/series/Arrow-2193021/season-4/episode-11-AWOL\n",
      "/series/Arrow-2193021/season-4/episode-12-Unchained\n",
      "/series/Arrow-2193021/season-4/episode-13-Sins_of_the_Father\n",
      "/series/Arrow-2193021/season-4/episode-14-Code_of_Silence\n",
      "/series/Arrow-2193021/season-4/episode-15-Taken\n",
      "/series/Arrow-2193021/season-4/episode-16-Broken_Hearts\n",
      "/series/Arrow-2193021/season-4/episode-17-Beacon_of_Hope\n",
      "/series/Arrow-2193021/season-4/episode-18-Eleven-Fifty-Nine\n",
      "/series/Arrow-2193021/season-4/episode-19-Canary_Cry\n",
      "/series/Arrow-2193021/season-4/episode-20-Genesis\n",
      "/series/Arrow-2193021/season-4/episode-21-Monument_Point\n",
      "/series/Arrow-2193021/season-4/episode-22-Lost_in_the_Flood\n",
      "/series/Arrow-2193021/season-4/episode-23-Schism\n",
      "/series/Arrow-2193021/season-5/episode-1-Legacy\n",
      "/series/Arrow-2193021/season-5/episode-2-The_Recruits\n",
      "/series/Arrow-2193021/season-5/episode-3-A_Matter_of_Trust\n",
      "/series/Arrow-2193021/season-5/episode-4-Penance\n",
      "/series/Arrow-2193021/season-5/episode-5-Human_Target\n",
      "/series/Arrow-2193021/season-5/episode-6-So_It_Begins\n",
      "/series/Arrow-2193021/season-5/episode-7-Vigilante\n",
      "/series/Arrow-2193021/season-5/episode-8-Invasion\n",
      "/series/Arrow-2193021/season-5/episode-9-What_We_Leave_Behind\n",
      "/series/Arrow-2193021/season-5/episode-10-Who_Are_You\n",
      "/series/Arrow-2193021/season-5/episode-11-Second_Chances\n",
      "/series/Arrow-2193021/season-5/episode-12-Bratva\n",
      "/series/Arrow-2193021/season-5/episode-13-Spectre_of_the_Gun\n",
      "/series/Arrow-2193021/season-5/episode-14-The_Sin-Eater\n",
      "/series/Arrow-2193021/season-5/episode-15-Fighting_Fire_with_Fire\n",
      "/series/Arrow-2193021/season-5/episode-16-Checkmate\n",
      "/series/Arrow-2193021/season-5/episode-17-Kapiushon\n",
      "/series/Arrow-2193021/season-5/episode-18-Disbanded\n",
      "/series/Arrow-2193021/season-5/episode-19-Dangerous_Liaisons\n",
      "/series/Arrow-2193021/season-5/episode-20-Underneath\n",
      "/series/Arrow-2193021/season-5/episode-21-Honor_Thy_Fathers\n",
      "/series/Arrow-2193021/season-5/episode-22-Missing\n",
      "/series/Arrow-2193021/season-5/episode-23-Lian_Yu\n",
      "/series/Arrow-2193021/season-6/episode-1-Fallout\n",
      "/series/Arrow-2193021/season-6/episode-2-Tribute\n",
      "/series/Arrow-2193021/season-6/episode-3-Next_of_Kin\n",
      "/series/Arrow-2193021/season-6/episode-4-Reversal\n",
      "/series/Arrow-2193021/season-6/episode-5-Deathstroke_Returns\n",
      "/series/Arrow-2193021/season-6/episode-6-Promises_Kept\n",
      "/series/Arrow-2193021/season-6/episode-7-Thanksgiving\n",
      "/series/Arrow-2193021/season-6/episode-8-Crisis_on_Earth-X_Part_2\n",
      "/series/Arrow-2193021/season-6/episode-9-Irreconcilable_Differences\n",
      "/series/Arrow-2193021/season-6/episode-10-Divided\n",
      "/series/Arrow-2193021/season-6/episode-11-We_Fall\n",
      "/series/Arrow-2193021/season-6/episode-12-All_for_Nothing\n",
      "/series/Arrow-2193021/season-6/episode-13-The_Devils_Greatest_Trick\n",
      "/series/Arrow-2193021/season-6/episode-14-Collision_Course\n",
      "/series/Arrow-2193021/season-6/episode-15-Doppelgnger\n",
      "/series/Arrow-2193021/season-6/episode-16-The_Thanatos_Guild\n",
      "/series/Arrow-2193021/season-6/episode-17-Brothers_in_Arms\n",
      "/series/Arrow-2193021/season-6/episode-18-Fundamentals\n",
      "/series/Arrow-2193021/season-6/episode-19-The_Dragon\n",
      "/series/Arrow-2193021/season-6/episode-20-Shifting_Allegiances\n",
      "/series/Arrow-2193021/season-6/episode-21-Docket_No_11-19-41-73\n",
      "/series/Arrow-2193021/season-6/episode-22-The_Ties_That_Bind\n",
      "/series/Arrow-2193021/season-6/episode-23-Life_Sentence\n",
      "/series/Arrow-2193021/season-7/episode-1-Inmate_4587\n",
      "/series/Arrow-2193021/season-7/episode-2-The_Longbow_Hunters\n",
      "/series/Arrow-2193021/season-7/episode-3-Crossing_Lines\n",
      "/series/Arrow-2193021/season-7/episode-4-Level_Two\n",
      "/series/Arrow-2193021/season-7/episode-5-The_Demon\n",
      "/series/Arrow-2193021/season-7/episode-6-Episode_76\n",
      "/series/Arrow-2193021/season-7/episode-7-The_Slabside_Redemption\n",
      "/series/Arrow-2193021/season-7/episode-8-Episode_78\n",
      "/series/Arrow-2193021/season-7/episode-9-Elseworlds_Part_2\n",
      "/series/Arrow-2193021/season-7/episode-10-Episode_710\n",
      "/series/Arrow-2193021/season-7/episode-11-Past_Sins\n",
      "/series/Arrow-2193021/season-7/episode-15-Training_Day\n",
      "/series/Arrow-2193021/season-7/episode-16-Star_City_2040\n",
      "/series/Arrow-2193021/season-7/episode-17-Inheritance\n",
      "/series/Arrow-2193021/season-7/episode-18-Lost_Canary\n",
      "/series/Arrow-2193021/season-7/episode-19-Spartan\n",
      "/series/Arrow-2193021/season-7/episode-20-Confessions\n",
      "/series/Arrow-2193021/season-7/episode-21-Episode_721\n",
      "/series/Arrow-2193021/season-7/episode-22-Episode_722\n",
      "/series/Arrow-2193021/season-8/episode-1-Starling_City\n",
      "/series/Arrow-2193021/season-8/episode-2-Welcome_to_Hong_Kong\n",
      "/series/Arrow-2193021/season-8/episode-3-Leap_of_Faith\n",
      "/series/Arrow-2193021/season-8/episode-4-Present_Tense\n",
      "/series/Arrow-2193021/season-8/episode-5-Prochnost\n",
      "/series/Arrow-2193021/season-8/episode-6-Reset\n",
      "/series/Arrow-2193021/season-8/episode-7-Purgatory\n",
      "/series/Arrow-2193021/season-8/episode-8-Crisis_on_Infinite_Earths\n",
      "/series/Arrow-2193021/season-8/episode-9-Green_Arrow__the_Canaries\n",
      "/series/Arrow-2193021/season-8/episode-10-Fadeout\n",
      "/dmca\n"
     ]
    }
   ],
   "source": [
    "parser = 'html.parser'  # or 'lxml' (preferred) or 'html5lib', if installed\n",
    "resp = urllib.request.urlopen(\"https://subslikescript.com/series/Arrow-2193021\")    #missing 4 episodes from season 7 \n",
    "soup = BeautifulSoup(resp, parser, from_encoding=resp.info().get_param('charset'))\n",
    "\n",
    "for link in soup.find_all('a', href=True):\n",
    "    \n",
    "    print(link['href'])"
   ]
  },
  {
   "cell_type": "code",
   "execution_count": 164,
   "metadata": {
    "id": "0K6KOQCzU3Hg"
   },
   "outputs": [
    {
     "name": "stderr",
     "output_type": "stream",
     "text": [
      "/home/anna/anaconda3/lib/python3.8/site-packages/ipykernel/ipkernel.py:287: DeprecationWarning: `should_run_async` will not call `transform_cell` automatically in the future. Please pass the result to `transformed_cell` argument and any exception that happen during thetransform in `preprocessing_exc_tuple` in IPython 7.17 and above.\n",
      "  and should_run_async(code)\n"
     ]
    }
   ],
   "source": [
    "href_tags = soup.find_all('a',href=True)   \n",
    "hrefs = [tag.get('href') for tag in href_tags]"
   ]
  },
  {
   "cell_type": "code",
   "execution_count": 165,
   "metadata": {
    "id": "i43-rb0z8JeD",
    "outputId": "5bd5d10d-9d8b-4505-bbef-22744a1e2131"
   },
   "outputs": [
    {
     "name": "stdout",
     "output_type": "stream",
     "text": [
      "0 /\n",
      "1 /movies\n",
      "2 /series\n",
      "3 /\n",
      "4 /series\n",
      "5 /series/Arrow-2193021/season-1/episode-1-Pilot\n",
      "6 /series/Arrow-2193021/season-1/episode-2-Honor_Thy_Father\n",
      "7 /series/Arrow-2193021/season-1/episode-3-Lone_Gunmen\n",
      "8 /series/Arrow-2193021/season-1/episode-4-An_Innocent_Man\n",
      "9 /series/Arrow-2193021/season-1/episode-5-Damaged\n",
      "10 /series/Arrow-2193021/season-1/episode-6-Legacies\n",
      "11 /series/Arrow-2193021/season-1/episode-7-Muse_of_Fire\n",
      "12 /series/Arrow-2193021/season-1/episode-8-Vendetta\n",
      "13 /series/Arrow-2193021/season-1/episode-9-Years_End\n",
      "14 /series/Arrow-2193021/season-1/episode-10-Burned\n",
      "15 /series/Arrow-2193021/season-1/episode-11-Trust_But_Verify\n",
      "16 /series/Arrow-2193021/season-1/episode-12-Vertigo\n",
      "17 /series/Arrow-2193021/season-1/episode-13-Betrayal\n",
      "18 /series/Arrow-2193021/season-1/episode-14-The_Odyssey\n",
      "19 /series/Arrow-2193021/season-1/episode-15-Dodger\n",
      "20 /series/Arrow-2193021/season-1/episode-16-Dead_to_Rights\n",
      "21 /series/Arrow-2193021/season-1/episode-17-The_Huntress_Returns\n",
      "22 /series/Arrow-2193021/season-1/episode-18-Salvation\n",
      "23 /series/Arrow-2193021/season-1/episode-19-Unfinished_Business\n",
      "24 /series/Arrow-2193021/season-1/episode-20-Home_Invasion\n",
      "25 /series/Arrow-2193021/season-1/episode-21-The_Undertaking\n",
      "26 /series/Arrow-2193021/season-1/episode-22-Darkness_on_the_Edge_of_Town\n",
      "27 /series/Arrow-2193021/season-1/episode-23-Sacrifice\n",
      "28 /series/Arrow-2193021/season-2/episode-1-City_of_Heroes\n",
      "29 /series/Arrow-2193021/season-2/episode-2-Identity\n",
      "30 /series/Arrow-2193021/season-2/episode-3-Broken_Dolls\n",
      "31 /series/Arrow-2193021/season-2/episode-4-Crucible\n",
      "32 /series/Arrow-2193021/season-2/episode-5-League_of_Assassins\n",
      "33 /series/Arrow-2193021/season-2/episode-6-Keep_Your_Enemies_Closer\n",
      "34 /series/Arrow-2193021/season-2/episode-7-State_v_Queen\n",
      "35 /series/Arrow-2193021/season-2/episode-8-The_Scientist\n",
      "36 /series/Arrow-2193021/season-2/episode-9-Three_Ghosts\n",
      "37 /series/Arrow-2193021/season-2/episode-10-Blast_Radius\n",
      "38 /series/Arrow-2193021/season-2/episode-11-Blind_Spot\n",
      "39 /series/Arrow-2193021/season-2/episode-12-Tremors\n",
      "40 /series/Arrow-2193021/season-2/episode-13-Heir_to_the_Demon\n",
      "41 /series/Arrow-2193021/season-2/episode-14-Time_of_Death\n",
      "42 /series/Arrow-2193021/season-2/episode-15-The_Promise\n",
      "43 /series/Arrow-2193021/season-2/episode-16-Suicide_Squad\n",
      "44 /series/Arrow-2193021/season-2/episode-17-Birds_of_Prey\n",
      "45 /series/Arrow-2193021/season-2/episode-18-Deathstroke\n",
      "46 /series/Arrow-2193021/season-2/episode-19-The_Man_Under_the_Hood\n",
      "47 /series/Arrow-2193021/season-2/episode-20-Seeing_Red\n",
      "48 /series/Arrow-2193021/season-2/episode-21-City_of_Blood\n",
      "49 /series/Arrow-2193021/season-2/episode-22-Streets_of_Fire\n",
      "50 /series/Arrow-2193021/season-2/episode-23-Unthinkable\n",
      "51 /series/Arrow-2193021/season-3/episode-1-The_Calm\n",
      "52 /series/Arrow-2193021/season-3/episode-2-Sara\n",
      "53 /series/Arrow-2193021/season-3/episode-3-Corto_Maltese\n",
      "54 /series/Arrow-2193021/season-3/episode-5-The_Secret_Origin_of_Felicity_Smoak\n",
      "55 /series/Arrow-2193021/season-3/episode-6-Guilty\n",
      "56 /series/Arrow-2193021/season-3/episode-7-Draw_Back_Your_Bow\n",
      "57 /series/Arrow-2193021/season-3/episode-8-The_Brave_and_the_Bold\n",
      "58 /series/Arrow-2193021/season-3/episode-9-The_Climb\n",
      "59 /series/Arrow-2193021/season-3/episode-10-Left_Behind\n",
      "60 /series/Arrow-2193021/season-3/episode-11-Midnight_City\n",
      "61 /series/Arrow-2193021/season-3/episode-12-Uprising\n",
      "62 /series/Arrow-2193021/season-3/episode-13-Canaries\n",
      "63 /series/Arrow-2193021/season-3/episode-14-The_Return\n",
      "64 /series/Arrow-2193021/season-3/episode-15-Nanda_Parbat\n",
      "65 /series/Arrow-2193021/season-3/episode-16-The_Offer\n",
      "66 /series/Arrow-2193021/season-3/episode-17-Suicidal_Tendencies\n",
      "67 /series/Arrow-2193021/season-3/episode-18-Public_Enemy\n",
      "68 /series/Arrow-2193021/season-3/episode-19-Broken_Arrow\n",
      "69 /series/Arrow-2193021/season-3/episode-20-The_Fallen\n",
      "70 /series/Arrow-2193021/season-3/episode-21-Al_Sah-Him\n",
      "71 /series/Arrow-2193021/season-3/episode-22-This_Is_Your_Sword\n",
      "72 /series/Arrow-2193021/season-3/episode-23-My_Name_Is_Oliver_Queen\n",
      "73 /series/Arrow-2193021/season-4/episode-1-Green_Arrow\n",
      "74 /series/Arrow-2193021/season-4/episode-2-The_Candidate\n",
      "75 /series/Arrow-2193021/season-4/episode-3-Restoration\n",
      "76 /series/Arrow-2193021/season-4/episode-4-Beyond_Redemption\n",
      "77 /series/Arrow-2193021/season-4/episode-5-Haunted\n",
      "78 /series/Arrow-2193021/season-4/episode-6-Lost_Souls\n",
      "79 /series/Arrow-2193021/season-4/episode-7-Brotherhood\n",
      "80 /series/Arrow-2193021/season-4/episode-8-Legends_of_Yesterday\n",
      "81 /series/Arrow-2193021/season-4/episode-9-Dark_Waters\n",
      "82 /series/Arrow-2193021/season-4/episode-10-Blood_Debts\n",
      "83 /series/Arrow-2193021/season-4/episode-11-AWOL\n",
      "84 /series/Arrow-2193021/season-4/episode-12-Unchained\n",
      "85 /series/Arrow-2193021/season-4/episode-13-Sins_of_the_Father\n",
      "86 /series/Arrow-2193021/season-4/episode-14-Code_of_Silence\n",
      "87 /series/Arrow-2193021/season-4/episode-15-Taken\n",
      "88 /series/Arrow-2193021/season-4/episode-16-Broken_Hearts\n",
      "89 /series/Arrow-2193021/season-4/episode-17-Beacon_of_Hope\n",
      "90 /series/Arrow-2193021/season-4/episode-18-Eleven-Fifty-Nine\n",
      "91 /series/Arrow-2193021/season-4/episode-19-Canary_Cry\n",
      "92 /series/Arrow-2193021/season-4/episode-20-Genesis\n",
      "93 /series/Arrow-2193021/season-4/episode-21-Monument_Point\n",
      "94 /series/Arrow-2193021/season-4/episode-22-Lost_in_the_Flood\n",
      "95 /series/Arrow-2193021/season-4/episode-23-Schism\n",
      "96 /series/Arrow-2193021/season-5/episode-1-Legacy\n",
      "97 /series/Arrow-2193021/season-5/episode-2-The_Recruits\n",
      "98 /series/Arrow-2193021/season-5/episode-3-A_Matter_of_Trust\n",
      "99 /series/Arrow-2193021/season-5/episode-4-Penance\n",
      "100 /series/Arrow-2193021/season-5/episode-5-Human_Target\n",
      "101 /series/Arrow-2193021/season-5/episode-6-So_It_Begins\n",
      "102 /series/Arrow-2193021/season-5/episode-7-Vigilante\n",
      "103 /series/Arrow-2193021/season-5/episode-8-Invasion\n",
      "104 /series/Arrow-2193021/season-5/episode-9-What_We_Leave_Behind\n",
      "105 /series/Arrow-2193021/season-5/episode-10-Who_Are_You\n",
      "106 /series/Arrow-2193021/season-5/episode-11-Second_Chances\n",
      "107 /series/Arrow-2193021/season-5/episode-12-Bratva\n",
      "108 /series/Arrow-2193021/season-5/episode-13-Spectre_of_the_Gun\n",
      "109 /series/Arrow-2193021/season-5/episode-14-The_Sin-Eater\n",
      "110 /series/Arrow-2193021/season-5/episode-15-Fighting_Fire_with_Fire\n",
      "111 /series/Arrow-2193021/season-5/episode-16-Checkmate\n",
      "112 /series/Arrow-2193021/season-5/episode-17-Kapiushon\n",
      "113 /series/Arrow-2193021/season-5/episode-18-Disbanded\n",
      "114 /series/Arrow-2193021/season-5/episode-19-Dangerous_Liaisons\n",
      "115 /series/Arrow-2193021/season-5/episode-20-Underneath\n",
      "116 /series/Arrow-2193021/season-5/episode-21-Honor_Thy_Fathers\n",
      "117 /series/Arrow-2193021/season-5/episode-22-Missing\n",
      "118 /series/Arrow-2193021/season-5/episode-23-Lian_Yu\n",
      "119 /series/Arrow-2193021/season-6/episode-1-Fallout\n",
      "120 /series/Arrow-2193021/season-6/episode-2-Tribute\n",
      "121 /series/Arrow-2193021/season-6/episode-3-Next_of_Kin\n",
      "122 /series/Arrow-2193021/season-6/episode-4-Reversal\n",
      "123 /series/Arrow-2193021/season-6/episode-5-Deathstroke_Returns\n",
      "124 /series/Arrow-2193021/season-6/episode-6-Promises_Kept\n",
      "125 /series/Arrow-2193021/season-6/episode-7-Thanksgiving\n",
      "126 /series/Arrow-2193021/season-6/episode-8-Crisis_on_Earth-X_Part_2\n",
      "127 /series/Arrow-2193021/season-6/episode-9-Irreconcilable_Differences\n",
      "128 /series/Arrow-2193021/season-6/episode-10-Divided\n",
      "129 /series/Arrow-2193021/season-6/episode-11-We_Fall\n",
      "130 /series/Arrow-2193021/season-6/episode-12-All_for_Nothing\n",
      "131 /series/Arrow-2193021/season-6/episode-13-The_Devils_Greatest_Trick\n",
      "132 /series/Arrow-2193021/season-6/episode-14-Collision_Course\n",
      "133 /series/Arrow-2193021/season-6/episode-15-Doppelgnger\n",
      "134 /series/Arrow-2193021/season-6/episode-16-The_Thanatos_Guild\n",
      "135 /series/Arrow-2193021/season-6/episode-17-Brothers_in_Arms\n",
      "136 /series/Arrow-2193021/season-6/episode-18-Fundamentals\n",
      "137 /series/Arrow-2193021/season-6/episode-19-The_Dragon\n",
      "138 /series/Arrow-2193021/season-6/episode-20-Shifting_Allegiances\n",
      "139 /series/Arrow-2193021/season-6/episode-21-Docket_No_11-19-41-73\n",
      "140 /series/Arrow-2193021/season-6/episode-22-The_Ties_That_Bind\n",
      "141 /series/Arrow-2193021/season-6/episode-23-Life_Sentence\n",
      "142 /series/Arrow-2193021/season-7/episode-1-Inmate_4587\n",
      "143 /series/Arrow-2193021/season-7/episode-2-The_Longbow_Hunters\n",
      "144 /series/Arrow-2193021/season-7/episode-3-Crossing_Lines\n",
      "145 /series/Arrow-2193021/season-7/episode-4-Level_Two\n",
      "146 /series/Arrow-2193021/season-7/episode-5-The_Demon\n",
      "147 /series/Arrow-2193021/season-7/episode-6-Episode_76\n",
      "148 /series/Arrow-2193021/season-7/episode-7-The_Slabside_Redemption\n",
      "149 /series/Arrow-2193021/season-7/episode-8-Episode_78\n",
      "150 /series/Arrow-2193021/season-7/episode-9-Elseworlds_Part_2\n",
      "151 /series/Arrow-2193021/season-7/episode-10-Episode_710\n",
      "152 /series/Arrow-2193021/season-7/episode-11-Past_Sins\n",
      "153 /series/Arrow-2193021/season-7/episode-15-Training_Day\n",
      "154 /series/Arrow-2193021/season-7/episode-16-Star_City_2040\n",
      "155 /series/Arrow-2193021/season-7/episode-17-Inheritance\n",
      "156 /series/Arrow-2193021/season-7/episode-18-Lost_Canary\n",
      "157 /series/Arrow-2193021/season-7/episode-19-Spartan\n",
      "158 /series/Arrow-2193021/season-7/episode-20-Confessions\n",
      "159 /series/Arrow-2193021/season-7/episode-21-Episode_721\n",
      "160 /series/Arrow-2193021/season-7/episode-22-Episode_722\n",
      "161 /series/Arrow-2193021/season-8/episode-1-Starling_City\n",
      "162 /series/Arrow-2193021/season-8/episode-2-Welcome_to_Hong_Kong\n",
      "163 /series/Arrow-2193021/season-8/episode-3-Leap_of_Faith\n",
      "164 /series/Arrow-2193021/season-8/episode-4-Present_Tense\n",
      "165 /series/Arrow-2193021/season-8/episode-5-Prochnost\n",
      "166 /series/Arrow-2193021/season-8/episode-6-Reset\n",
      "167 /series/Arrow-2193021/season-8/episode-7-Purgatory\n",
      "168 /series/Arrow-2193021/season-8/episode-8-Crisis_on_Infinite_Earths\n",
      "169 /series/Arrow-2193021/season-8/episode-9-Green_Arrow__the_Canaries\n",
      "170 /series/Arrow-2193021/season-8/episode-10-Fadeout\n",
      "171 /dmca\n"
     ]
    },
    {
     "name": "stderr",
     "output_type": "stream",
     "text": [
      "/home/anna/anaconda3/lib/python3.8/site-packages/ipykernel/ipkernel.py:287: DeprecationWarning: `should_run_async` will not call `transform_cell` automatically in the future. Please pass the result to `transformed_cell` argument and any exception that happen during thetransform in `preprocessing_exc_tuple` in IPython 7.17 and above.\n",
      "  and should_run_async(code)\n"
     ]
    }
   ],
   "source": [
    "for count, value in enumerate(hrefs):\n",
    "     print(count, value)"
   ]
  },
  {
   "cell_type": "code",
   "execution_count": 166,
   "metadata": {
    "colab": {
     "base_uri": "https://localhost:8080/",
     "height": 35
    },
    "id": "eIDuBOTVE6ma",
    "outputId": "8403c215-4c86-4b59-cf79-a939134224d6"
   },
   "outputs": [
    {
     "name": "stderr",
     "output_type": "stream",
     "text": [
      "/home/anna/anaconda3/lib/python3.8/site-packages/ipykernel/ipkernel.py:287: DeprecationWarning: `should_run_async` will not call `transform_cell` automatically in the future. Please pass the result to `transformed_cell` argument and any exception that happen during thetransform in `preprocessing_exc_tuple` in IPython 7.17 and above.\n",
      "  and should_run_async(code)\n"
     ]
    },
    {
     "data": {
      "text/plain": [
       "'/series/Arrow-2193021/season-8/episode-10-Fadeout'"
      ]
     },
     "execution_count": 166,
     "metadata": {},
     "output_type": "execute_result"
    }
   ],
   "source": [
    "hrefs[170] #the last with episode name"
   ]
  },
  {
   "cell_type": "code",
   "execution_count": 167,
   "metadata": {
    "colab": {
     "base_uri": "https://localhost:8080/"
    },
    "id": "pXzlFjAtEwvQ",
    "outputId": "a1ea63bf-899d-44d8-da0c-92bf74e257e7"
   },
   "outputs": [
    {
     "name": "stderr",
     "output_type": "stream",
     "text": [
      "/home/anna/anaconda3/lib/python3.8/site-packages/ipykernel/ipkernel.py:287: DeprecationWarning: `should_run_async` will not call `transform_cell` automatically in the future. Please pass the result to `transformed_cell` argument and any exception that happen during thetransform in `preprocessing_exc_tuple` in IPython 7.17 and above.\n",
      "  and should_run_async(code)\n"
     ]
    },
    {
     "data": {
      "text/plain": [
       "172"
      ]
     },
     "execution_count": 167,
     "metadata": {},
     "output_type": "execute_result"
    }
   ],
   "source": [
    "len(hrefs)"
   ]
  },
  {
   "cell_type": "markdown",
   "metadata": {
    "id": "ad1hBscC8JeH"
   },
   "source": [
    "## List with the episode's names"
   ]
  },
  {
   "cell_type": "code",
   "execution_count": 168,
   "metadata": {
    "id": "XPKHB4SR8JeI"
   },
   "outputs": [
    {
     "name": "stderr",
     "output_type": "stream",
     "text": [
      "/home/anna/anaconda3/lib/python3.8/site-packages/ipykernel/ipkernel.py:287: DeprecationWarning: `should_run_async` will not call `transform_cell` automatically in the future. Please pass the result to `transformed_cell` argument and any exception that happen during thetransform in `preprocessing_exc_tuple` in IPython 7.17 and above.\n",
      "  and should_run_async(code)\n"
     ]
    }
   ],
   "source": [
    "lista=[]   #list with the episode's names\n",
    "\n",
    "for i in range(5,171):\n",
    "    lista.append(hrefs[i])\n",
    "      "
   ]
  },
  {
   "cell_type": "code",
   "execution_count": 169,
   "metadata": {
    "id": "4I6W6bIM8JeJ",
    "outputId": "add9e7b3-0dae-41ef-f4d8-66c81a8eddbe"
   },
   "outputs": [
    {
     "name": "stderr",
     "output_type": "stream",
     "text": [
      "/home/anna/anaconda3/lib/python3.8/site-packages/ipykernel/ipkernel.py:287: DeprecationWarning: `should_run_async` will not call `transform_cell` automatically in the future. Please pass the result to `transformed_cell` argument and any exception that happen during thetransform in `preprocessing_exc_tuple` in IPython 7.17 and above.\n",
      "  and should_run_async(code)\n"
     ]
    },
    {
     "data": {
      "text/plain": [
       "'/series/Arrow-2193021/season-1/episode-1-Pilot'"
      ]
     },
     "execution_count": 169,
     "metadata": {},
     "output_type": "execute_result"
    }
   ],
   "source": [
    "lista[0]  #first episode"
   ]
  },
  {
   "cell_type": "code",
   "execution_count": 170,
   "metadata": {
    "id": "TF8CNQ9R8JeK",
    "outputId": "ba198049-055f-4f9c-99c3-6a2e326dfd9f"
   },
   "outputs": [
    {
     "name": "stderr",
     "output_type": "stream",
     "text": [
      "/home/anna/anaconda3/lib/python3.8/site-packages/ipykernel/ipkernel.py:287: DeprecationWarning: `should_run_async` will not call `transform_cell` automatically in the future. Please pass the result to `transformed_cell` argument and any exception that happen during thetransform in `preprocessing_exc_tuple` in IPython 7.17 and above.\n",
      "  and should_run_async(code)\n"
     ]
    },
    {
     "data": {
      "text/plain": [
       "'/series/Arrow-2193021/season-8/episode-10-Fadeout'"
      ]
     },
     "execution_count": 170,
     "metadata": {},
     "output_type": "execute_result"
    }
   ],
   "source": [
    "lista[165] #last episode"
   ]
  },
  {
   "cell_type": "code",
   "execution_count": 171,
   "metadata": {
    "id": "tSz8aMzQ8JeL",
    "outputId": "ff9fac58-3776-476d-deaf-e494a723f599"
   },
   "outputs": [
    {
     "name": "stderr",
     "output_type": "stream",
     "text": [
      "/home/anna/anaconda3/lib/python3.8/site-packages/ipykernel/ipkernel.py:287: DeprecationWarning: `should_run_async` will not call `transform_cell` automatically in the future. Please pass the result to `transformed_cell` argument and any exception that happen during thetransform in `preprocessing_exc_tuple` in IPython 7.17 and above.\n",
      "  and should_run_async(code)\n"
     ]
    },
    {
     "data": {
      "text/plain": [
       "'/series/Arrow-2193021/season-2/episode-18-Deathstroke'"
      ]
     },
     "execution_count": 171,
     "metadata": {},
     "output_type": "execute_result"
    }
   ],
   "source": [
    "lista[40]   #episode in portuguese"
   ]
  },
  {
   "cell_type": "code",
   "execution_count": 172,
   "metadata": {
    "id": "fCZ8nmH48JeM",
    "outputId": "59ff95d2-347b-407c-c097-55ea4a27d23e"
   },
   "outputs": [
    {
     "name": "stderr",
     "output_type": "stream",
     "text": [
      "/home/anna/anaconda3/lib/python3.8/site-packages/ipykernel/ipkernel.py:287: DeprecationWarning: `should_run_async` will not call `transform_cell` automatically in the future. Please pass the result to `transformed_cell` argument and any exception that happen during thetransform in `preprocessing_exc_tuple` in IPython 7.17 and above.\n",
      "  and should_run_async(code)\n"
     ]
    },
    {
     "data": {
      "text/plain": [
       "166"
      ]
     },
     "execution_count": 172,
     "metadata": {},
     "output_type": "execute_result"
    }
   ],
   "source": [
    "len(lista)        #its missing 4 episodes from : season 7 (12,13,14) and season 3 (episode 4)"
   ]
  },
  {
   "cell_type": "code",
   "execution_count": 173,
   "metadata": {
    "id": "CqIPGkwO8JeM"
   },
   "outputs": [
    {
     "name": "stderr",
     "output_type": "stream",
     "text": [
      "/home/anna/anaconda3/lib/python3.8/site-packages/ipykernel/ipkernel.py:287: DeprecationWarning: `should_run_async` will not call `transform_cell` automatically in the future. Please pass the result to `transformed_cell` argument and any exception that happen during thetransform in `preprocessing_exc_tuple` in IPython 7.17 and above.\n",
      "  and should_run_async(code)\n"
     ]
    }
   ],
   "source": [
    "df_lista = pd.DataFrame(lista) #puting the episode's name in a list"
   ]
  },
  {
   "cell_type": "code",
   "execution_count": 174,
   "metadata": {
    "id": "Qxl9joAR8JeN",
    "outputId": "e5989d54-53e2-476a-857f-408e8d27d079"
   },
   "outputs": [
    {
     "name": "stderr",
     "output_type": "stream",
     "text": [
      "/home/anna/anaconda3/lib/python3.8/site-packages/ipykernel/ipkernel.py:287: DeprecationWarning: `should_run_async` will not call `transform_cell` automatically in the future. Please pass the result to `transformed_cell` argument and any exception that happen during thetransform in `preprocessing_exc_tuple` in IPython 7.17 and above.\n",
      "  and should_run_async(code)\n"
     ]
    },
    {
     "data": {
      "text/html": [
       "<div>\n",
       "<style scoped>\n",
       "    .dataframe tbody tr th:only-of-type {\n",
       "        vertical-align: middle;\n",
       "    }\n",
       "\n",
       "    .dataframe tbody tr th {\n",
       "        vertical-align: top;\n",
       "    }\n",
       "\n",
       "    .dataframe thead th {\n",
       "        text-align: right;\n",
       "    }\n",
       "</style>\n",
       "<table border=\"1\" class=\"dataframe\">\n",
       "  <thead>\n",
       "    <tr style=\"text-align: right;\">\n",
       "      <th></th>\n",
       "      <th>0</th>\n",
       "    </tr>\n",
       "  </thead>\n",
       "  <tbody>\n",
       "    <tr>\n",
       "      <th>0</th>\n",
       "      <td>/series/Arrow-2193021/season-1/episode-1-Pilot</td>\n",
       "    </tr>\n",
       "    <tr>\n",
       "      <th>1</th>\n",
       "      <td>/series/Arrow-2193021/season-1/episode-2-Honor...</td>\n",
       "    </tr>\n",
       "    <tr>\n",
       "      <th>2</th>\n",
       "      <td>/series/Arrow-2193021/season-1/episode-3-Lone_...</td>\n",
       "    </tr>\n",
       "    <tr>\n",
       "      <th>3</th>\n",
       "      <td>/series/Arrow-2193021/season-1/episode-4-An_In...</td>\n",
       "    </tr>\n",
       "    <tr>\n",
       "      <th>4</th>\n",
       "      <td>/series/Arrow-2193021/season-1/episode-5-Damaged</td>\n",
       "    </tr>\n",
       "  </tbody>\n",
       "</table>\n",
       "</div>"
      ],
      "text/plain": [
       "                                                   0\n",
       "0     /series/Arrow-2193021/season-1/episode-1-Pilot\n",
       "1  /series/Arrow-2193021/season-1/episode-2-Honor...\n",
       "2  /series/Arrow-2193021/season-1/episode-3-Lone_...\n",
       "3  /series/Arrow-2193021/season-1/episode-4-An_In...\n",
       "4   /series/Arrow-2193021/season-1/episode-5-Damaged"
      ]
     },
     "execution_count": 174,
     "metadata": {},
     "output_type": "execute_result"
    }
   ],
   "source": [
    "df_lista.head()"
   ]
  },
  {
   "cell_type": "markdown",
   "metadata": {
    "id": "tU7GKlsG8JeO"
   },
   "source": [
    "## List with the scripts"
   ]
  },
  {
   "cell_type": "code",
   "execution_count": 175,
   "metadata": {
    "id": "vLRmU3IykrUI"
   },
   "outputs": [
    {
     "name": "stderr",
     "output_type": "stream",
     "text": [
      "/home/anna/anaconda3/lib/python3.8/site-packages/ipykernel/ipkernel.py:287: DeprecationWarning: `should_run_async` will not call `transform_cell` automatically in the future. Please pass the result to `transformed_cell` argument and any exception that happen during thetransform in `preprocessing_exc_tuple` in IPython 7.17 and above.\n",
      "  and should_run_async(code)\n"
     ]
    }
   ],
   "source": [
    "eps = []    #list with the scripts\n",
    "\n",
    "for i in  range(5,171):\n",
    "  url_base= 'https://subslikescript.com'\n",
    "  url_final = url_base + hrefs[i]\n",
    "  page = requests.get(url_final)\n",
    "  soup = BeautifulSoup(page.content, \"lxml\")\n",
    "  results = soup.find_all(\"div\", {\"class\": \"full-script\"})\n",
    "  eps.append(results)\n"
   ]
  },
  {
   "cell_type": "code",
   "execution_count": 176,
   "metadata": {
    "colab": {
     "base_uri": "https://localhost:8080/"
    },
    "id": "RGC2H80GU3Hi",
    "outputId": "9723e6b6-8b3e-411b-d335-73b57ef0878f"
   },
   "outputs": [
    {
     "name": "stderr",
     "output_type": "stream",
     "text": [
      "/home/anna/anaconda3/lib/python3.8/site-packages/ipykernel/ipkernel.py:287: DeprecationWarning: `should_run_async` will not call `transform_cell` automatically in the future. Please pass the result to `transformed_cell` argument and any exception that happen during thetransform in `preprocessing_exc_tuple` in IPython 7.17 and above.\n",
      "  and should_run_async(code)\n"
     ]
    },
    {
     "data": {
      "text/plain": [
       "166"
      ]
     },
     "execution_count": 176,
     "metadata": {},
     "output_type": "execute_result"
    }
   ],
   "source": [
    "len(eps)"
   ]
  },
  {
   "cell_type": "code",
   "execution_count": 177,
   "metadata": {
    "id": "AtDiVzrQ8JeP",
    "outputId": "66c3963f-b667-4367-b055-322861ae7474"
   },
   "outputs": [
    {
     "name": "stderr",
     "output_type": "stream",
     "text": [
      "/home/anna/anaconda3/lib/python3.8/site-packages/ipykernel/ipkernel.py:287: DeprecationWarning: `should_run_async` will not call `transform_cell` automatically in the future. Please pass the result to `transformed_cell` argument and any exception that happen during thetransform in `preprocessing_exc_tuple` in IPython 7.17 and above.\n",
      "  and should_run_async(code)\n"
     ]
    },
    {
     "data": {
      "text/plain": [
       "list"
      ]
     },
     "execution_count": 177,
     "metadata": {},
     "output_type": "execute_result"
    }
   ],
   "source": [
    "type(eps)"
   ]
  },
  {
   "cell_type": "code",
   "execution_count": 178,
   "metadata": {
    "id": "UWowL8_57Sik"
   },
   "outputs": [
    {
     "name": "stderr",
     "output_type": "stream",
     "text": [
      "/home/anna/anaconda3/lib/python3.8/site-packages/ipykernel/ipkernel.py:287: DeprecationWarning: `should_run_async` will not call `transform_cell` automatically in the future. Please pass the result to `transformed_cell` argument and any exception that happen during thetransform in `preprocessing_exc_tuple` in IPython 7.17 and above.\n",
      "  and should_run_async(code)\n"
     ]
    }
   ],
   "source": [
    "chars = ['<script async=\"\" src=\"https://pagead2.googlesyndication.com/pagead/js/adsbygoogle.js\"></script>\\n<!-- subslikescript native automated \\'subslikescript article\\' -->\\n<ins class=\"adsbygoogle\" data-ad-client=\"ca-pub-6250492176235895\" data-ad-format=\"fluid\" data-ad-layout=\"in-article\" data-ad-slot=\"8633658590\" style=\"display:block; text-align:center;\"></ins>\\n<script>\\r\\n      \\r\\n</script> ','<script async=\"\" src=\"https://pagead2.googlesyndication.com/pagead/js/adsbygoogle.js\"></script>\\n<!-- subslikescript square adaptive -->\\n<ins class=\"adsbygoogle\" data-ad-client=\"ca-pub-6250492176235895\" data-ad-format=\"auto\" data-ad-slot=\"8838522786\" data-full-width-responsive=\"true\" style=\"display:block\"></ins>\\n<script>\\r\\n      \\r\\n</script> ','OpenSubtitles recommends using Nord VPN from 3.49 USD/month ----&gt; osdb.link/vpn ','Greg, move your head!','OpenSubtitles recommends using Nord VPN from 3.49 USD/month ----&gt; osdb.link/vpn','<script async=\"\" src=\"https://pagead2.googlesyndication.com/pagead/js/adsbygoogle.js\"></script>\\n<!-- subslikescript square adaptive -->\\n<ins class=\"adsbygoogle\" data-ad-client=\"ca-pub-6250492176235895\" data-ad-format=\"auto\" data-ad-slot=\"8838522786\" data-full-width-responsive=\"true\" style=\"display:block\"></ins>\\n<script>\\r\\n      \\r\\n</script>','<script async=\"\" src=\"https://pagead2.googlesyndication.com/pagead/js/adsbygoogle.js\"></script>\\n<!-- subslikescript native automated \\'subslikescript article\\' -->\\n<ins class=\"adsbygoogle\" data-ad-client=\"ca-pub-6250492176235895\" data-ad-format=\"fluid\" data-ad-layout=\"in-article\" data-ad-slot=\"8633658590\" style=\"display:block; text-align:center;\"></ins>\\n<script>\\r\\n      \\r\\n</script>','(adsbygoogle = window.adsbygoogle || []).push({});','[<div class=\"full-script\">','<br/><br/>','<br/>', '</div>]','<script async=\"\" src=\"https://pagead2.googlesyndication.com/pagead/js/adsbygoogle.js\"></script>\\n<!-- subslikescript square adaptive -->\\n<ins class=\"adsbygoogle\" data-ad-client=\"ca-pub-6250492176235895\" data-ad-format=\"auto\" data-ad-slot=\"8838522786\" data-full-width-responsive=\"true\" style=\"display:block\"></ins>\\n<script>\\r\\n     \\r\\n</script>','<script async=\"\" src=\"https://pagead2.googlesyndication.com/pagead/js/adsbygoogle.js\"></script>\\n<!-- subslikescript native automated \\'subslikescript article\\' -->\\n<ins class=\"adsbygoogle\" data-ad-client=\"ca-pub-6250492176235895\" data-ad-format=\"fluid\" data-ad-layout=\"in-article\" data-ad-slot=\"8633658590\" style=\"display:block; text-align:center;\"></ins>\\n<script>\\r\\n     \\r\\n</script>', 'OLIVER:My name is Oliver Queen.For five years, I was strandedon an island with only one goal:Survive.Oliver Queen is alive.OLIVER:Now, I will fulfill my father\\'s dying wish......to use the list of names he left me......and bring down thosewho are poisoning my city.To do this,I must become someone else.I must become something else.','My name is Oliver Queen.After five years in hell,I have come home with only one goal:To save my city.Now others have joined my crusade.To them, I\\'m Oliver Queen.To the rest of Starling City......I am someone else.I am something else.']"
   ]
  },
  {
   "cell_type": "code",
   "execution_count": 179,
   "metadata": {
    "id": "jI66aI2tqAO-"
   },
   "outputs": [
    {
     "name": "stderr",
     "output_type": "stream",
     "text": [
      "/home/anna/anaconda3/lib/python3.8/site-packages/ipykernel/ipkernel.py:287: DeprecationWarning: `should_run_async` will not call `transform_cell` automatically in the future. Please pass the result to `transformed_cell` argument and any exception that happen during thetransform in `preprocessing_exc_tuple` in IPython 7.17 and above.\n",
      "  and should_run_async(code)\n"
     ]
    }
   ],
   "source": [
    "txt=[]\n",
    "for i in range(len(eps)):\n",
    "  txt.append(str(eps[i]))\n",
    "  for c in chars:\n",
    "    txt[i] = txt[i].replace(c,'')\n",
    "    txt[i] = txt[i].replace('1','I')\n",
    "    txt[i] = txt[i].replace('\\\\','') #does not work!"
   ]
  },
  {
   "cell_type": "code",
   "execution_count": 180,
   "metadata": {
    "colab": {
     "base_uri": "https://localhost:8080/",
     "height": 1000
    },
    "id": "kUyttTKuvpzN",
    "outputId": "2952f8cc-2efe-4d7b-a6aa-68e42f567802"
   },
   "outputs": [
    {
     "name": "stderr",
     "output_type": "stream",
     "text": [
      "/home/anna/anaconda3/lib/python3.8/site-packages/ipykernel/ipkernel.py:287: DeprecationWarning: `should_run_async` will not call `transform_cell` automatically in the future. Please pass the result to `transformed_cell` argument and any exception that happen during thetransform in `preprocessing_exc_tuple` in IPython 7.17 and above.\n",
      "  and should_run_async(code)\n"
     ]
    },
    {
     "data": {
      "text/plain": [
       "166"
      ]
     },
     "execution_count": 180,
     "metadata": {},
     "output_type": "execute_result"
    }
   ],
   "source": [
    "len(txt)"
   ]
  },
  {
   "cell_type": "code",
   "execution_count": 181,
   "metadata": {
    "id": "GnJZzPEh8JeT"
   },
   "outputs": [
    {
     "name": "stderr",
     "output_type": "stream",
     "text": [
      "/home/anna/anaconda3/lib/python3.8/site-packages/ipykernel/ipkernel.py:287: DeprecationWarning: `should_run_async` will not call `transform_cell` automatically in the future. Please pass the result to `transformed_cell` argument and any exception that happen during thetransform in `preprocessing_exc_tuple` in IPython 7.17 and above.\n",
      "  and should_run_async(code)\n"
     ]
    }
   ],
   "source": [
    "# txt[40]   # in portuguese..."
   ]
  },
  {
   "cell_type": "markdown",
   "metadata": {
    "id": "TCG0Ptul8JeT"
   },
   "source": [
    "## Creating the dataframe with the scripts"
   ]
  },
  {
   "cell_type": "code",
   "execution_count": 182,
   "metadata": {
    "id": "THYAAJw78JeT"
   },
   "outputs": [
    {
     "name": "stderr",
     "output_type": "stream",
     "text": [
      "/home/anna/anaconda3/lib/python3.8/site-packages/ipykernel/ipkernel.py:287: DeprecationWarning: `should_run_async` will not call `transform_cell` automatically in the future. Please pass the result to `transformed_cell` argument and any exception that happen during thetransform in `preprocessing_exc_tuple` in IPython 7.17 and above.\n",
      "  and should_run_async(code)\n"
     ]
    }
   ],
   "source": [
    "df_ep = pd.DataFrame(txt,columns=['Episodios'])"
   ]
  },
  {
   "cell_type": "code",
   "execution_count": 183,
   "metadata": {
    "id": "d-q1Xg118JeU",
    "outputId": "5278b3d3-f8c8-4be7-c7b2-393be60e26b1"
   },
   "outputs": [
    {
     "name": "stderr",
     "output_type": "stream",
     "text": [
      "/home/anna/anaconda3/lib/python3.8/site-packages/ipykernel/ipkernel.py:287: DeprecationWarning: `should_run_async` will not call `transform_cell` automatically in the future. Please pass the result to `transformed_cell` argument and any exception that happen during thetransform in `preprocessing_exc_tuple` in IPython 7.17 and above.\n",
      "  and should_run_async(code)\n"
     ]
    },
    {
     "data": {
      "text/plain": [
       "(166, 1)"
      ]
     },
     "execution_count": 183,
     "metadata": {},
     "output_type": "execute_result"
    }
   ],
   "source": [
    "df_ep.shape"
   ]
  },
  {
   "cell_type": "code",
   "execution_count": 184,
   "metadata": {
    "id": "EzycWYj78JeU",
    "outputId": "7058800b-362f-4379-dcc5-51f324938130"
   },
   "outputs": [
    {
     "name": "stderr",
     "output_type": "stream",
     "text": [
      "/home/anna/anaconda3/lib/python3.8/site-packages/ipykernel/ipkernel.py:287: DeprecationWarning: `should_run_async` will not call `transform_cell` automatically in the future. Please pass the result to `transformed_cell` argument and any exception that happen during thetransform in `preprocessing_exc_tuple` in IPython 7.17 and above.\n",
      "  and should_run_async(code)\n"
     ]
    },
    {
     "data": {
      "text/html": [
       "<div>\n",
       "<style scoped>\n",
       "    .dataframe tbody tr th:only-of-type {\n",
       "        vertical-align: middle;\n",
       "    }\n",
       "\n",
       "    .dataframe tbody tr th {\n",
       "        vertical-align: top;\n",
       "    }\n",
       "\n",
       "    .dataframe thead th {\n",
       "        text-align: right;\n",
       "    }\n",
       "</style>\n",
       "<table border=\"1\" class=\"dataframe\">\n",
       "  <thead>\n",
       "    <tr style=\"text-align: right;\">\n",
       "      <th></th>\n",
       "      <th>Episodios</th>\n",
       "    </tr>\n",
       "  </thead>\n",
       "  <tbody>\n",
       "    <tr>\n",
       "      <th>0</th>\n",
       "      <td>The name of the islandthey found me on is Lian...</td>\n",
       "    </tr>\n",
       "    <tr>\n",
       "      <th>1</th>\n",
       "      <td>[PANTING][GRUNTS][SPEAKING IN FOREIGN LANGUAGE...</td>\n",
       "    </tr>\n",
       "    <tr>\n",
       "      <th>2</th>\n",
       "      <td>My name is Oliver Queen.To my family, I am the...</td>\n",
       "    </tr>\n",
       "    <tr>\n",
       "      <th>3</th>\n",
       "      <td>My name is Oliver Queen.For 5 years, I was str...</td>\n",
       "    </tr>\n",
       "    <tr>\n",
       "      <th>4</th>\n",
       "      <td>OLIVER:My name is Oliver Queen.For five years,...</td>\n",
       "    </tr>\n",
       "  </tbody>\n",
       "</table>\n",
       "</div>"
      ],
      "text/plain": [
       "                                           Episodios\n",
       "0  The name of the islandthey found me on is Lian...\n",
       "1  [PANTING][GRUNTS][SPEAKING IN FOREIGN LANGUAGE...\n",
       "2  My name is Oliver Queen.To my family, I am the...\n",
       "3  My name is Oliver Queen.For 5 years, I was str...\n",
       "4  OLIVER:My name is Oliver Queen.For five years,..."
      ]
     },
     "execution_count": 184,
     "metadata": {},
     "output_type": "execute_result"
    }
   ],
   "source": [
    "df_ep.head()"
   ]
  },
  {
   "cell_type": "code",
   "execution_count": 185,
   "metadata": {
    "id": "H3fTQjWp8JeV"
   },
   "outputs": [
    {
     "name": "stderr",
     "output_type": "stream",
     "text": [
      "/home/anna/anaconda3/lib/python3.8/site-packages/ipykernel/ipkernel.py:287: DeprecationWarning: `should_run_async` will not call `transform_cell` automatically in the future. Please pass the result to `transformed_cell` argument and any exception that happen during thetransform in `preprocessing_exc_tuple` in IPython 7.17 and above.\n",
      "  and should_run_async(code)\n",
      "<>:3: DeprecationWarning: invalid escape sequence \\.\n",
      "<>:3: DeprecationWarning: invalid escape sequence \\.\n",
      "<ipython-input-185-f244758e463c>:3: DeprecationWarning: invalid escape sequence \\.\n",
      "  df_ep['Episodios'].map(lambda x: re.sub('[,\\.!?]', ' ', x))\n"
     ]
    }
   ],
   "source": [
    "# Removing punctuation\n",
    "df_ep['text_processed'] = \\\n",
    "df_ep['Episodios'].map(lambda x: re.sub('[,\\.!?]', ' ', x))"
   ]
  },
  {
   "cell_type": "code",
   "execution_count": 186,
   "metadata": {
    "id": "oIqRqaPG8JeV"
   },
   "outputs": [
    {
     "name": "stderr",
     "output_type": "stream",
     "text": [
      "/home/anna/anaconda3/lib/python3.8/site-packages/ipykernel/ipkernel.py:287: DeprecationWarning: `should_run_async` will not call `transform_cell` automatically in the future. Please pass the result to `transformed_cell` argument and any exception that happen during thetransform in `preprocessing_exc_tuple` in IPython 7.17 and above.\n",
      "  and should_run_async(code)\n"
     ]
    }
   ],
   "source": [
    "# Convert the titles to lowercase\n",
    "df_ep['text_processed'] = \\\n",
    "df_ep['text_processed'].map(lambda x: x.lower())     "
   ]
  },
  {
   "cell_type": "code",
   "execution_count": 187,
   "metadata": {
    "id": "98T7yREv8JeW",
    "outputId": "eb1f45d4-92c7-48cd-a795-4315cfac5e94"
   },
   "outputs": [
    {
     "name": "stderr",
     "output_type": "stream",
     "text": [
      "/home/anna/anaconda3/lib/python3.8/site-packages/ipykernel/ipkernel.py:287: DeprecationWarning: `should_run_async` will not call `transform_cell` automatically in the future. Please pass the result to `transformed_cell` argument and any exception that happen during thetransform in `preprocessing_exc_tuple` in IPython 7.17 and above.\n",
      "  and should_run_async(code)\n"
     ]
    },
    {
     "data": {
      "text/plain": [
       "0    the name of the islandthey found me on is lian...\n",
       "1    [panting][grunts][speaking in foreign language...\n",
       "2    my name is oliver queen to my family  i am the...\n",
       "3    my name is oliver queen for 5 years  i was str...\n",
       "4    oliver:my name is oliver queen for five years ...\n",
       "Name: text_processed, dtype: object"
      ]
     },
     "execution_count": 187,
     "metadata": {},
     "output_type": "execute_result"
    }
   ],
   "source": [
    "df_ep['text_processed'].head()"
   ]
  },
  {
   "cell_type": "markdown",
   "metadata": {
    "id": "5kP7fC8H8JeW"
   },
   "source": [
    "## First dataset with the raw script, the processed script and the episode name\n"
   ]
  },
  {
   "cell_type": "code",
   "execution_count": 188,
   "metadata": {
    "id": "1CAVBXuk8JeW"
   },
   "outputs": [
    {
     "name": "stderr",
     "output_type": "stream",
     "text": [
      "/home/anna/anaconda3/lib/python3.8/site-packages/ipykernel/ipkernel.py:287: DeprecationWarning: `should_run_async` will not call `transform_cell` automatically in the future. Please pass the result to `transformed_cell` argument and any exception that happen during thetransform in `preprocessing_exc_tuple` in IPython 7.17 and above.\n",
      "  and should_run_async(code)\n"
     ]
    }
   ],
   "source": [
    "df_parcial = pd.concat([df_lista, df_ep], axis=1) "
   ]
  },
  {
   "cell_type": "code",
   "execution_count": 189,
   "metadata": {
    "id": "qQTgSs0p8JeX"
   },
   "outputs": [
    {
     "name": "stderr",
     "output_type": "stream",
     "text": [
      "/home/anna/anaconda3/lib/python3.8/site-packages/ipykernel/ipkernel.py:287: DeprecationWarning: `should_run_async` will not call `transform_cell` automatically in the future. Please pass the result to `transformed_cell` argument and any exception that happen during thetransform in `preprocessing_exc_tuple` in IPython 7.17 and above.\n",
      "  and should_run_async(code)\n"
     ]
    }
   ],
   "source": [
    "df_parcial.columns = ['nome_ep', 'Episodios','text_processed']"
   ]
  },
  {
   "cell_type": "code",
   "execution_count": 190,
   "metadata": {
    "id": "xM7lOyTG8JeX"
   },
   "outputs": [
    {
     "name": "stderr",
     "output_type": "stream",
     "text": [
      "/home/anna/anaconda3/lib/python3.8/site-packages/ipykernel/ipkernel.py:287: DeprecationWarning: `should_run_async` will not call `transform_cell` automatically in the future. Please pass the result to `transformed_cell` argument and any exception that happen during thetransform in `preprocessing_exc_tuple` in IPython 7.17 and above.\n",
      "  and should_run_async(code)\n"
     ]
    }
   ],
   "source": [
    "df_parcial = df_parcial.drop(df_parcial.index[[40]]) #removing line 40"
   ]
  },
  {
   "cell_type": "code",
   "execution_count": 191,
   "metadata": {
    "id": "BDCUUE-E8JeX"
   },
   "outputs": [
    {
     "name": "stderr",
     "output_type": "stream",
     "text": [
      "/home/anna/anaconda3/lib/python3.8/site-packages/ipykernel/ipkernel.py:287: DeprecationWarning: `should_run_async` will not call `transform_cell` automatically in the future. Please pass the result to `transformed_cell` argument and any exception that happen during thetransform in `preprocessing_exc_tuple` in IPython 7.17 and above.\n",
      "  and should_run_async(code)\n"
     ]
    }
   ],
   "source": [
    "df_parcial = df_parcial.reset_index(drop=True)  #reseting the index"
   ]
  },
  {
   "cell_type": "code",
   "execution_count": 192,
   "metadata": {
    "id": "apm8PaB98JeX",
    "outputId": "a124386a-5821-416f-e482-7dd3f93c77d5"
   },
   "outputs": [
    {
     "name": "stderr",
     "output_type": "stream",
     "text": [
      "/home/anna/anaconda3/lib/python3.8/site-packages/ipykernel/ipkernel.py:287: DeprecationWarning: `should_run_async` will not call `transform_cell` automatically in the future. Please pass the result to `transformed_cell` argument and any exception that happen during thetransform in `preprocessing_exc_tuple` in IPython 7.17 and above.\n",
      "  and should_run_async(code)\n"
     ]
    },
    {
     "data": {
      "text/html": [
       "<div>\n",
       "<style scoped>\n",
       "    .dataframe tbody tr th:only-of-type {\n",
       "        vertical-align: middle;\n",
       "    }\n",
       "\n",
       "    .dataframe tbody tr th {\n",
       "        vertical-align: top;\n",
       "    }\n",
       "\n",
       "    .dataframe thead th {\n",
       "        text-align: right;\n",
       "    }\n",
       "</style>\n",
       "<table border=\"1\" class=\"dataframe\">\n",
       "  <thead>\n",
       "    <tr style=\"text-align: right;\">\n",
       "      <th></th>\n",
       "      <th>nome_ep</th>\n",
       "      <th>Episodios</th>\n",
       "      <th>text_processed</th>\n",
       "    </tr>\n",
       "  </thead>\n",
       "  <tbody>\n",
       "    <tr>\n",
       "      <th>160</th>\n",
       "      <td>/series/Arrow-2193021/season-8/episode-6-Reset</td>\n",
       "      <td>PREVIOUSLY ON \"ARROW\"...THIS PLACE LOOKSEXACTL...</td>\n",
       "      <td>previously on \"arrow\"   this place looksexactl...</td>\n",
       "    </tr>\n",
       "    <tr>\n",
       "      <th>161</th>\n",
       "      <td>/series/Arrow-2193021/season-8/episode-7-Purga...</td>\n",
       "      <td>Previously on \"Arrow\"...-I need your help, roy...</td>\n",
       "      <td>previously on \"arrow\"   -i need your help  roy...</td>\n",
       "    </tr>\n",
       "    <tr>\n",
       "      <th>162</th>\n",
       "      <td>/series/Arrow-2193021/season-8/episode-8-Crisi...</td>\n",
       "      <td>Previously on Crisison Infinite Earths...There...</td>\n",
       "      <td>previously on crisison infinite earths   there...</td>\n",
       "    </tr>\n",
       "    <tr>\n",
       "      <th>163</th>\n",
       "      <td>/series/Arrow-2193021/season-8/episode-9-Green...</td>\n",
       "      <td>bianca!bianca bertinelli?who the hell are you...</td>\n",
       "      <td>bianca bianca bertinelli who the hell are you...</td>\n",
       "    </tr>\n",
       "    <tr>\n",
       "      <th>164</th>\n",
       "      <td>/series/Arrow-2193021/season-8/episode-10-Fadeout</td>\n",
       "      <td>[Oliver]My name is Oliver Queen.[gunshot][Oliv...</td>\n",
       "      <td>[oliver]my name is oliver queen [gunshot][oliv...</td>\n",
       "    </tr>\n",
       "  </tbody>\n",
       "</table>\n",
       "</div>"
      ],
      "text/plain": [
       "                                               nome_ep  \\\n",
       "160     /series/Arrow-2193021/season-8/episode-6-Reset   \n",
       "161  /series/Arrow-2193021/season-8/episode-7-Purga...   \n",
       "162  /series/Arrow-2193021/season-8/episode-8-Crisi...   \n",
       "163  /series/Arrow-2193021/season-8/episode-9-Green...   \n",
       "164  /series/Arrow-2193021/season-8/episode-10-Fadeout   \n",
       "\n",
       "                                             Episodios  \\\n",
       "160  PREVIOUSLY ON \"ARROW\"...THIS PLACE LOOKSEXACTL...   \n",
       "161  Previously on \"Arrow\"...-I need your help, roy...   \n",
       "162  Previously on Crisison Infinite Earths...There...   \n",
       "163   bianca!bianca bertinelli?who the hell are you...   \n",
       "164  [Oliver]My name is Oliver Queen.[gunshot][Oliv...   \n",
       "\n",
       "                                        text_processed  \n",
       "160  previously on \"arrow\"   this place looksexactl...  \n",
       "161  previously on \"arrow\"   -i need your help  roy...  \n",
       "162  previously on crisison infinite earths   there...  \n",
       "163   bianca bianca bertinelli who the hell are you...  \n",
       "164  [oliver]my name is oliver queen [gunshot][oliv...  "
      ]
     },
     "execution_count": 192,
     "metadata": {},
     "output_type": "execute_result"
    }
   ],
   "source": [
    "df_parcial.tail()"
   ]
  },
  {
   "cell_type": "code",
   "execution_count": 193,
   "metadata": {
    "id": "zIbPG2_f8JeY",
    "outputId": "334e8e1b-7448-4b2d-a798-10507a5cacb3"
   },
   "outputs": [
    {
     "name": "stderr",
     "output_type": "stream",
     "text": [
      "/home/anna/anaconda3/lib/python3.8/site-packages/ipykernel/ipkernel.py:287: DeprecationWarning: `should_run_async` will not call `transform_cell` automatically in the future. Please pass the result to `transformed_cell` argument and any exception that happen during thetransform in `preprocessing_exc_tuple` in IPython 7.17 and above.\n",
      "  and should_run_async(code)\n"
     ]
    },
    {
     "data": {
      "text/plain": [
       "(165, 3)"
      ]
     },
     "execution_count": 193,
     "metadata": {},
     "output_type": "execute_result"
    }
   ],
   "source": [
    "df_parcial.shape"
   ]
  },
  {
   "cell_type": "code",
   "execution_count": 194,
   "metadata": {
    "id": "6ubeKTbr8JeY",
    "outputId": "3ca32944-8786-4126-f9d2-a3a09f781f5a"
   },
   "outputs": [
    {
     "name": "stderr",
     "output_type": "stream",
     "text": [
      "/home/anna/anaconda3/lib/python3.8/site-packages/ipykernel/ipkernel.py:287: DeprecationWarning: `should_run_async` will not call `transform_cell` automatically in the future. Please pass the result to `transformed_cell` argument and any exception that happen during thetransform in `preprocessing_exc_tuple` in IPython 7.17 and above.\n",
      "  and should_run_async(code)\n"
     ]
    },
    {
     "data": {
      "text/plain": [
       "nome_ep           0\n",
       "Episodios         0\n",
       "text_processed    0\n",
       "dtype: int64"
      ]
     },
     "execution_count": 194,
     "metadata": {},
     "output_type": "execute_result"
    }
   ],
   "source": [
    "df_parcial.isnull().sum()"
   ]
  },
  {
   "cell_type": "markdown",
   "metadata": {
    "id": "hOAtCwYM8JeZ"
   },
   "source": [
    "----------------------------------------------------------------------------"
   ]
  },
  {
   "cell_type": "markdown",
   "metadata": {
    "id": "79m0dKva8JeZ"
   },
   "source": [
    "# Wordcloud"
   ]
  },
  {
   "cell_type": "code",
   "execution_count": 195,
   "metadata": {
    "id": "Oauz0Xqd8JeZ",
    "outputId": "468ae34b-8deb-4535-fd5b-7ed7b639e4f6"
   },
   "outputs": [
    {
     "name": "stderr",
     "output_type": "stream",
     "text": [
      "/home/anna/anaconda3/lib/python3.8/site-packages/ipykernel/ipkernel.py:287: DeprecationWarning: `should_run_async` will not call `transform_cell` automatically in the future. Please pass the result to `transformed_cell` argument and any exception that happen during thetransform in `preprocessing_exc_tuple` in IPython 7.17 and above.\n",
      "  and should_run_async(code)\n"
     ]
    },
    {
     "data": {
      "image/png": "[encoded data removed]",
      "text/plain": [
       "<PIL.Image.Image image mode=RGB size=400x200 at 0x7F30155BE250>"
      ]
     },
     "execution_count": 195,
     "metadata": {},
     "output_type": "execute_result"
    }
   ],
   "source": [
    "# Import the wordcloud library\n",
    "from wordcloud import WordCloud\n",
    "\n",
    "# Join the different processed texts together.\n",
    "long_string = ','.join(list(df_parcial['text_processed'].values))\n",
    "\n",
    "# Create a WordCloud object\n",
    "wordcloud = WordCloud(background_color=\"white\", max_words=1000, contour_width=3, contour_color='steelblue')\n",
    "\n",
    "# Generate a word cloud\n",
    "wordcloud.generate(long_string)\n",
    "\n",
    "# Visualize the word cloud\n",
    "wordcloud.to_image()"
   ]
  },
  {
   "cell_type": "code",
   "execution_count": 196,
   "metadata": {
    "id": "5bz9C2r38JeZ"
   },
   "outputs": [
    {
     "name": "stderr",
     "output_type": "stream",
     "text": [
      "/home/anna/anaconda3/lib/python3.8/site-packages/ipykernel/ipkernel.py:287: DeprecationWarning: `should_run_async` will not call `transform_cell` automatically in the future. Please pass the result to `transformed_cell` argument and any exception that happen during thetransform in `preprocessing_exc_tuple` in IPython 7.17 and above.\n",
      "  and should_run_async(code)\n"
     ]
    }
   ],
   "source": [
    "# df_parcial['text_processed'].values #todo o dataset"
   ]
  },
  {
   "cell_type": "markdown",
   "metadata": {
    "id": "arNBBjNQ8Jea"
   },
   "source": [
    "# Tokenization and remotion of stopwords (english) "
   ]
  },
  {
   "cell_type": "code",
   "execution_count": 267,
   "metadata": {
    "id": "LKY7Dlux8Jea",
    "outputId": "5fe9eb44-8da7-4a08-93de-ed6988f4b681"
   },
   "outputs": [
    {
     "name": "stdout",
     "output_type": "stream",
     "text": [
      "['your', 'yours', 'yourself', 'yourselves', 'he', 'him', 'his', 'himself', 'she', \"she's\", 'her', 'hers', 'herself', 'it', \"it's\", 'its', 'itself', 'they', 'them', 'their', 'theirs', 'themselves', 'what', 'which', 'who', 'whom', 'this', 'that', \"that'll\", 'these', 'those', 'am', 'is', 'are', 'was', 'were', 'be', 'been', 'being', 'have', 'has', 'had', 'having', 'do', 'does', 'did', 'doing', 'a', 'an', 'the', 'and', 'but', 'if', 'or', 'because', 'as', 'until', 'while', 'of', 'at']\n"
     ]
    },
    {
     "name": "stderr",
     "output_type": "stream",
     "text": [
      "/home/anna/anaconda3/lib/python3.8/site-packages/ipykernel/ipkernel.py:287: DeprecationWarning: `should_run_async` will not call `transform_cell` automatically in the future. Please pass the result to `transformed_cell` argument and any exception that happen during thetransform in `preprocessing_exc_tuple` in IPython 7.17 and above.\n",
      "  and should_run_async(code)\n",
      "[nltk_data] Downloading package stopwords to /home/anna/nltk_data...\n",
      "[nltk_data]   Package stopwords is already up-to-date!\n"
     ]
    }
   ],
   "source": [
    "import gensim\n",
    "from gensim.utils import simple_preprocess\n",
    "import nltk\n",
    "nltk.download('stopwords')\n",
    "from nltk.corpus import stopwords\n",
    "\n",
    "stop_words = stopwords.words('english')\n",
    "stop_words.extend(['from', 'subject','still','work','yes','life','sure','told','said','even','people','year','city','okay','never','good','sorry', 'wa','thought','say','find','mr','uh','two','ha','guy','thing','re','queen','something','thank','maybe','edu','arrow','really', 'look', 'tell', 'mean', 'make','way','see','take',  'use','time','man','data', 'ad', 'would', 'think','script', 'could' ,'like','want', 'come',  'one', 'yeah', 'get','go','got','right','know','gonna','need','oh','well','ok','let','back','going','hey'])\n",
    "print(stopwords.words() [620:680])\n",
    "\n",
    "\n"
   ]
  },
  {
   "cell_type": "code",
   "execution_count": 268,
   "metadata": {
    "id": "DKyrgehD8Jea",
    "outputId": "889d0855-821e-4078-aaec-c78349f21075"
   },
   "outputs": [
    {
     "name": "stderr",
     "output_type": "stream",
     "text": [
      "/home/anna/anaconda3/lib/python3.8/site-packages/ipykernel/ipkernel.py:287: DeprecationWarning: `should_run_async` will not call `transform_cell` automatically in the future. Please pass the result to `transformed_cell` argument and any exception that happen during thetransform in `preprocessing_exc_tuple` in IPython 7.17 and above.\n",
      "  and should_run_async(code)\n",
      "<>:16: DeprecationWarning: invalid escape sequence \\w\n",
      "<>:16: DeprecationWarning: invalid escape sequence \\w\n",
      "<ipython-input-268-50d67940c6f0>:16: DeprecationWarning: invalid escape sequence \\w\n",
      "  lemma_list_of_words[i] = re.sub(\"[^\\w]\", \" \",  str(lemma_list_of_words[i])).split()\n"
     ]
    },
    {
     "name": "stdout",
     "output_type": "stream",
     "text": [
      "['name', 'islandthey', 'found', 'lian', 'yu', 'mandarin', 'purgatory', 'stranded', 'five', 'dreamt', 'rescueevery', 'cold', 'black', 'night', 'since', 'five', 'goal', 'survive', 'survive', 'day', 'return', 'home', 'island', 'held', 'many', 'danger', 'live', 'myselfmore', 'forge', 'weapon']\n"
     ]
    }
   ],
   "source": [
    "def sent_to_words(sentences):\n",
    "    for sentence in sentences:\n",
    "        # deacc=True removes punctuations\n",
    "        yield(gensim.utils.simple_preprocess(str(sentence), deacc=True))\n",
    "\n",
    "def remove_stopwords(texts):\n",
    "    return [[word for word in simple_preprocess(str(doc)) \n",
    "             if word not in stop_words] for doc in texts]\n",
    "\n",
    "def Lemmatize(list1):\n",
    "    lemma_list_of_words = []\n",
    "    for i in range(len(list1)):\n",
    "        l1 = list1[i]\n",
    "        l2 = ' '.join([lemmatizer.lemmatize(word) for word in l1])\n",
    "        lemma_list_of_words.append(l2)\n",
    "        lemma_list_of_words[i] = re.sub(\"[^\\w]\", \" \",  str(lemma_list_of_words[i])).split()\n",
    "        \n",
    "    return lemma_list_of_words\n",
    "\n",
    "\n",
    "\n",
    "data = df_parcial.text_processed.values.tolist()   \n",
    "data_words = list(sent_to_words(data))\n",
    "data_words = Lemmatize(data_words)\n",
    "\n",
    "# remove stop words\n",
    "data_words = remove_stopwords(data_words)\n",
    "\n",
    "print(data_words[:1][0][:30]) "
   ]
  },
  {
   "cell_type": "code",
   "execution_count": 269,
   "metadata": {},
   "outputs": [
    {
     "name": "stderr",
     "output_type": "stream",
     "text": [
      "/home/anna/anaconda3/lib/python3.8/site-packages/ipykernel/ipkernel.py:287: DeprecationWarning: `should_run_async` will not call `transform_cell` automatically in the future. Please pass the result to `transformed_cell` argument and any exception that happen during thetransform in `preprocessing_exc_tuple` in IPython 7.17 and above.\n",
      "  and should_run_async(code)\n"
     ]
    },
    {
     "data": {
      "text/plain": [
       "['name',\n",
       " 'islandthey',\n",
       " 'found',\n",
       " 'lian',\n",
       " 'yu',\n",
       " 'mandarin',\n",
       " 'purgatory',\n",
       " 'stranded',\n",
       " 'five',\n",
       " 'dreamt',\n",
       " 'rescueevery',\n",
       " 'cold',\n",
       " 'black',\n",
       " 'night',\n",
       " 'since',\n",
       " 'five',\n",
       " 'goal',\n",
       " 'survive',\n",
       " 'survive',\n",
       " 'day',\n",
       " 'return',\n",
       " 'home',\n",
       " 'island',\n",
       " 'held',\n",
       " 'many',\n",
       " 'danger',\n",
       " 'live',\n",
       " 'myselfmore',\n",
       " 'forge',\n",
       " 'weapon',\n",
       " 'returning',\n",
       " 'boy',\n",
       " 'shipwrecked',\n",
       " 'async',\n",
       " 'src',\n",
       " 'http',\n",
       " 'pagead',\n",
       " 'com',\n",
       " 'pagead',\n",
       " 'adsbygoogle',\n",
       " 'subslikescript',\n",
       " 'native',\n",
       " 'automated',\n",
       " 'subslikescript',\n",
       " 'article',\n",
       " 'class',\n",
       " 'adsbygoogle',\n",
       " 'client',\n",
       " 'ca',\n",
       " 'pub',\n",
       " 'format',\n",
       " 'fluid',\n",
       " 'layout',\n",
       " 'article',\n",
       " 'slot',\n",
       " 'style',\n",
       " 'display',\n",
       " 'block',\n",
       " 'text',\n",
       " 'align',\n",
       " 'center',\n",
       " 'bring',\n",
       " 'justiceto',\n",
       " 'poisoned',\n",
       " 'name',\n",
       " 'oliver',\n",
       " 'oliver',\n",
       " 'alive',\n",
       " 'starling',\n",
       " 'residentwas',\n",
       " 'found',\n",
       " 'fisherman',\n",
       " 'north',\n",
       " 'china',\n",
       " 'seafive',\n",
       " 'day',\n",
       " 'ago',\n",
       " 'five',\n",
       " 'waspresumed',\n",
       " 'dead',\n",
       " 'following',\n",
       " 'accident',\n",
       " 'sea',\n",
       " 'whichclaimed',\n",
       " 'gambit',\n",
       " 'atabloid',\n",
       " 'presence',\n",
       " 'fixture',\n",
       " 'club',\n",
       " 'scene',\n",
       " 'disappearance',\n",
       " 'acquitted',\n",
       " 'assault',\n",
       " 'stemming',\n",
       " 'highly',\n",
       " 'altercation',\n",
       " 'paparazzo',\n",
       " 'son',\n",
       " 'starling',\n",
       " 'citybillionaire',\n",
       " 'robert',\n",
       " 'also',\n",
       " 'board',\n",
       " 'nowofficially',\n",
       " 'confirmed',\n",
       " 'deceased',\n",
       " 'twenty',\n",
       " 'percent',\n",
       " 'body',\n",
       " 'scovered',\n",
       " 'scar',\n",
       " 'tissue',\n",
       " 'async',\n",
       " 'src',\n",
       " 'http',\n",
       " 'pagead',\n",
       " 'com',\n",
       " 'pagead',\n",
       " 'adsbygoogle',\n",
       " 'subslikescript',\n",
       " 'square',\n",
       " 'adaptive',\n",
       " 'class',\n",
       " 'adsbygoogle',\n",
       " 'client',\n",
       " 'ca',\n",
       " 'pub',\n",
       " 'format',\n",
       " 'auto',\n",
       " 'slot',\n",
       " 'full',\n",
       " 'width',\n",
       " 'responsive',\n",
       " 'true',\n",
       " 'style',\n",
       " 'display',\n",
       " 'block',\n",
       " 'second',\n",
       " 'degree',\n",
       " 'burnson',\n",
       " 'arm',\n",
       " 'ray',\n",
       " 'show',\n",
       " 'least',\n",
       " 'fracturesthat',\n",
       " 'properly',\n",
       " 'healed',\n",
       " 'anything',\n",
       " 'aboutwhat',\n",
       " 'happened',\n",
       " 'barely',\n",
       " 'anything',\n",
       " 'moira',\n",
       " 'prepare',\n",
       " 'oliver',\n",
       " 'lostmight',\n",
       " 'found',\n",
       " 'oliver',\n",
       " 'mom',\n",
       " 'beautiful',\n",
       " 'boy',\n",
       " 'room',\n",
       " 'exactly',\n",
       " 'left',\n",
       " 'heart',\n",
       " 'change',\n",
       " 'oliver',\n",
       " 'damn',\n",
       " 'walter',\n",
       " 'walter',\n",
       " 'steele',\n",
       " 'remember',\n",
       " 'walter',\n",
       " 'father',\n",
       " 'friendfrom',\n",
       " 'company',\n",
       " 'raisa',\n",
       " 'welcome',\n",
       " 'home',\n",
       " 'oliver',\n",
       " 'merlyn',\n",
       " 'phoned',\n",
       " 'join',\n",
       " 'dinner',\n",
       " 'wonderful',\n",
       " 'oliver',\n",
       " 'hear',\n",
       " 'si',\n",
       " 'knew',\n",
       " 'knew',\n",
       " 'alive',\n",
       " 'missed',\n",
       " 'much',\n",
       " 'whole',\n",
       " 'laurel',\n",
       " 'lawyer',\n",
       " 'miracle',\n",
       " 'worker',\n",
       " 'win',\n",
       " 'win',\n",
       " 'class',\n",
       " 'actionagainst',\n",
       " 'swindled',\n",
       " 'hundred',\n",
       " 'peopleout',\n",
       " 'saving',\n",
       " 'fit',\n",
       " 'calleda',\n",
       " 'legal',\n",
       " 'aid',\n",
       " 'office',\n",
       " 'bankrupt',\n",
       " 'process',\n",
       " 'legal',\n",
       " 'aid',\n",
       " 'office',\n",
       " 'hunt',\n",
       " 'army',\n",
       " 'lawyersand',\n",
       " 'ready',\n",
       " 'bury',\n",
       " 'army',\n",
       " 'love',\n",
       " 'odds',\n",
       " 'hate',\n",
       " 'news',\n",
       " 'detail',\n",
       " 'castaway',\n",
       " 'storyyou',\n",
       " 'heard',\n",
       " 'son',\n",
       " 'wealthy',\n",
       " 'billionairewill',\n",
       " 'soon',\n",
       " 'become',\n",
       " 'legendary',\n",
       " 'stow',\n",
       " 'jessica',\n",
       " 'detailsand',\n",
       " 'complete',\n",
       " 'castaway',\n",
       " 'story',\n",
       " 'gambit',\n",
       " 'last',\n",
       " 'heardfrom',\n",
       " 'five',\n",
       " 'ago',\n",
       " 'reportedly',\n",
       " 'confirmed',\n",
       " 'survivor',\n",
       " 'accidentthat',\n",
       " 'took',\n",
       " 'seven',\n",
       " 'including',\n",
       " 'local',\n",
       " 'resident',\n",
       " 'sara',\n",
       " 'lance',\n",
       " 'survived',\n",
       " 'sister',\n",
       " 'laurel',\n",
       " 'five',\n",
       " 'everything',\n",
       " 'familiaris',\n",
       " 'unrecognizable',\n",
       " 'face',\n",
       " 'mirroris',\n",
       " 'stranger',\n",
       " 'storm',\n",
       " 'category',\n",
       " 'captain',\n",
       " 'recommending',\n",
       " 'head',\n",
       " 'inform',\n",
       " 'crew',\n",
       " 'trouble',\n",
       " 'ollie',\n",
       " 'keep',\n",
       " 'bottle',\n",
       " 'openeron',\n",
       " 'minute',\n",
       " 'sara',\n",
       " 'son',\n",
       " 'finish',\n",
       " 'either',\n",
       " 'yacht',\n",
       " 'suck',\n",
       " 'tommy',\n",
       " 'merlyn',\n",
       " 'missed',\n",
       " 'buddy',\n",
       " 'else',\n",
       " 'miss',\n",
       " 'super',\n",
       " 'bowl',\n",
       " 'winner',\n",
       " 'giant',\n",
       " 'steelers',\n",
       " 'saint',\n",
       " 'packer',\n",
       " 'giant',\n",
       " 'black',\n",
       " 'president',\n",
       " 'new',\n",
       " 'lost',\n",
       " 'dead',\n",
       " 'cold',\n",
       " 'tomorrow',\n",
       " 'lot',\n",
       " 'catch',\n",
       " 'great',\n",
       " 'idea',\n",
       " 'hoping',\n",
       " 'swingby',\n",
       " 'office',\n",
       " 'plenty',\n",
       " 'consolidatedisn',\n",
       " 'anywhere',\n",
       " 'oliver',\n",
       " 'dude',\n",
       " 'speak',\n",
       " 'russian',\n",
       " 'took',\n",
       " 'russian',\n",
       " 'college',\n",
       " 'realize',\n",
       " 'wanted',\n",
       " 'sleepwith',\n",
       " 'mother',\n",
       " 'walter',\n",
       " 'anything',\n",
       " 'oliver',\n",
       " 'walter',\n",
       " 'marriedand',\n",
       " 'either',\n",
       " 'anything',\n",
       " 'disrespect',\n",
       " 'father',\n",
       " 'believed',\n",
       " 'robert',\n",
       " 'gone',\n",
       " 'fine',\n",
       " 'may',\n",
       " 'excused',\n",
       " 'forget',\n",
       " 'tomorrow',\n",
       " 'buddy',\n",
       " 'sara',\n",
       " 'three',\n",
       " 'getting',\n",
       " 'closer',\n",
       " 'scientific',\n",
       " 'science',\n",
       " 'ivy',\n",
       " 'league',\n",
       " 'drop',\n",
       " 'happen',\n",
       " 'lot',\n",
       " 'science',\n",
       " 'fermentation',\n",
       " 'biology',\n",
       " 'laurel',\n",
       " 'kill',\n",
       " 'kill',\n",
       " 'sister',\n",
       " 'close',\n",
       " 'sara',\n",
       " 'fine',\n",
       " 'sara',\n",
       " 'sara',\n",
       " 'aah',\n",
       " 'sara',\n",
       " 'oliver',\n",
       " 'oliver',\n",
       " 'sara',\n",
       " 'dad',\n",
       " 'sara',\n",
       " 'gone',\n",
       " 'oliver',\n",
       " 'wake',\n",
       " 'oliver',\n",
       " 'oliver',\n",
       " 'oliver',\n",
       " 'sweetheart',\n",
       " 'home',\n",
       " 'home',\n",
       " 'roxies',\n",
       " 'daddy',\n",
       " 'acl',\n",
       " 'tear',\n",
       " 'ollie',\n",
       " 'called',\n",
       " 'speedy',\n",
       " 'worst',\n",
       " 'nickname',\n",
       " 'ever',\n",
       " 'always',\n",
       " 'chasing',\n",
       " 'kid',\n",
       " 'fit',\n",
       " 'pretty',\n",
       " 'doe',\n",
       " 'school',\n",
       " 'speedy',\n",
       " 'froma',\n",
       " 'deserted',\n",
       " 'island',\n",
       " 'souvenir',\n",
       " 'hozen',\n",
       " 'buddhism',\n",
       " 'symbolizes',\n",
       " 'reconnecting',\n",
       " 'kept',\n",
       " 'hope',\n",
       " 'dayit',\n",
       " 'reconnect',\n",
       " 'rock',\n",
       " 'sweet',\n",
       " 'shirt',\n",
       " 'friend',\n",
       " 'castawayand',\n",
       " 'crappy',\n",
       " 'shirt',\n",
       " 'himget',\n",
       " 'much',\n",
       " 'trouble',\n",
       " 'slow',\n",
       " 'ahem',\n",
       " 'awaits',\n",
       " 'noticedhow',\n",
       " 'hot',\n",
       " 'sister',\n",
       " 'gotten',\n",
       " 'funeral',\n",
       " 'blew',\n",
       " 'lucky',\n",
       " 'fish',\n",
       " 'barrel',\n",
       " 'sad',\n",
       " 'huggy',\n",
       " 'counting',\n",
       " 'another',\n",
       " 'target',\n",
       " 'rich',\n",
       " 'environmentfor',\n",
       " 'welcome',\n",
       " 'home',\n",
       " 'bash',\n",
       " 'came',\n",
       " 'dead',\n",
       " 'call',\n",
       " 'party',\n",
       " 'care',\n",
       " 'everything',\n",
       " 'gone',\n",
       " 'crap',\n",
       " 'dad',\n",
       " 'sold',\n",
       " 'factory',\n",
       " 'wanna',\n",
       " 'drive',\n",
       " 'throughthis',\n",
       " 'neighborhood',\n",
       " 'anyway',\n",
       " 'reason',\n",
       " 'miss',\n",
       " 'steak',\n",
       " 'palm',\n",
       " 'drink',\n",
       " 'station',\n",
       " 'meaningless',\n",
       " 'sex',\n",
       " 'laurel',\n",
       " 'everyone',\n",
       " 'happy',\n",
       " 'alive',\n",
       " 'wanna',\n",
       " 'seethe',\n",
       " 'person',\n",
       " 'laurel',\n",
       " 'thisfrom',\n",
       " 'hunt',\n",
       " 'lawyer',\n",
       " 'filed',\n",
       " 'change',\n",
       " 'venue',\n",
       " 'front',\n",
       " 'judge',\n",
       " 'grell',\n",
       " 'hunt',\n",
       " 'funded',\n",
       " 'grell',\n",
       " 'election',\n",
       " 'campaign',\n",
       " 'mm',\n",
       " 'hm',\n",
       " 'grell',\n",
       " 'pocket',\n",
       " 'fun',\n",
       " 'friend',\n",
       " 'lot',\n",
       " 'adam',\n",
       " 'hunt',\n",
       " 'smarter',\n",
       " 'richer',\n",
       " 'willingto',\n",
       " 'commit',\n",
       " 'felony',\n",
       " 'outside',\n",
       " 'law',\n",
       " 'justice',\n",
       " 'dad',\n",
       " 'favorite',\n",
       " 'jingle',\n",
       " 'hello',\n",
       " 'laurel',\n",
       " 'went',\n",
       " 'law',\n",
       " 'school',\n",
       " 'everyone',\n",
       " 'proud',\n",
       " 'adam',\n",
       " 'hunt',\n",
       " 'heavy',\n",
       " 'hitter',\n",
       " 'wannaget',\n",
       " 'ring',\n",
       " 'five',\n",
       " 'wanna',\n",
       " 'talk',\n",
       " 'aboutadam',\n",
       " 'hunt',\n",
       " 'ollie',\n",
       " 'apologize',\n",
       " 'fault',\n",
       " 'wanted',\n",
       " 'ask',\n",
       " 'blame',\n",
       " 'falling',\n",
       " 'spell',\n",
       " 'possibly',\n",
       " 'blame',\n",
       " 'herfor',\n",
       " 'meant',\n",
       " 'sister',\n",
       " 'angrybecause',\n",
       " 'dead',\n",
       " 'grievebecause',\n",
       " 'angry',\n",
       " 'happens',\n",
       " 'sisterdies',\n",
       " 'screwing',\n",
       " 'boyfriend',\n",
       " 'buried',\n",
       " 'empty',\n",
       " 'coffin',\n",
       " 'bodywas',\n",
       " 'bottom',\n",
       " 'ocean',\n",
       " 'left',\n",
       " 'late',\n",
       " 'thisbut',\n",
       " 'hoped',\n",
       " 'rot',\n",
       " 'hella',\n",
       " 'whole',\n",
       " 'lot',\n",
       " 'longer',\n",
       " 'five',\n",
       " 'wasgonna',\n",
       " 'tommy',\n",
       " 'took',\n",
       " 'care',\n",
       " 'call',\n",
       " 'lost',\n",
       " 'sick',\n",
       " 'fishlet',\n",
       " 'leggy',\n",
       " 'model',\n",
       " 'eat',\n",
       " 'sushi',\n",
       " 'hell',\n",
       " 'son',\n",
       " 'drink',\n",
       " 'hell',\n",
       " 'anybody',\n",
       " 'making',\n",
       " 'build',\n",
       " 'failed',\n",
       " 'father',\n",
       " 'survive',\n",
       " 'accident',\n",
       " 'ask',\n",
       " 'question',\n",
       " 'give',\n",
       " 'answer',\n",
       " 'island',\n",
       " 'anything',\n",
       " 'kill',\n",
       " 'delusional',\n",
       " 'zip',\n",
       " 'cuffed',\n",
       " 'chair',\n",
       " 'anymore',\n",
       " 'killed',\n",
       " 'nobody',\n",
       " 'secret',\n",
       " 'story',\n",
       " 'green',\n",
       " 'hood',\n",
       " 'flew',\n",
       " 'single',\n",
       " 'handedly',\n",
       " 'took',\n",
       " 'outthree',\n",
       " 'armed',\n",
       " 'kidnapper',\n",
       " 'ask',\n",
       " 'hood',\n",
       " 'saw',\n",
       " 'movement',\n",
       " 'everything',\n",
       " 'blurry',\n",
       " 'kind',\n",
       " 'funny',\n",
       " 'day',\n",
       " 'backand',\n",
       " 'somebody',\n",
       " 'gunning',\n",
       " 'popular',\n",
       " 'able',\n",
       " 'identify',\n",
       " 'men',\n",
       " 'scrubbed',\n",
       " 'identity',\n",
       " 'untraceable',\n",
       " 'weapon',\n",
       " 'pro',\n",
       " 'figured',\n",
       " 'pay',\n",
       " 'king',\n",
       " 'ransomto',\n",
       " 'boy',\n",
       " 'ransom',\n",
       " 'parent',\n",
       " 'anythingto',\n",
       " 'keep',\n",
       " 'child',\n",
       " 'safe',\n",
       " 'tone',\n",
       " 'appropriate',\n",
       " 'detective',\n",
       " 'oliver',\n",
       " 'anything',\n",
       " 'else',\n",
       " 'touch',\n",
       " 'gentleman',\n",
       " 'coming',\n",
       " 'luck',\n",
       " 'seems',\n",
       " 'run',\n",
       " 'doe',\n",
       " 'different',\n",
       " 'read',\n",
       " 'book',\n",
       " 'missed',\n",
       " 'raisa',\n",
       " 'kitchen',\n",
       " 'island',\n",
       " 'friend',\n",
       " 'either',\n",
       " 'seem',\n",
       " 'different',\n",
       " 'boy',\n",
       " 'heart',\n",
       " 'hope',\n",
       " 'wanna',\n",
       " 'personyou',\n",
       " 'always',\n",
       " 'oliver',\n",
       " 'wanna',\n",
       " 'introduce',\n",
       " 'someone',\n",
       " 'john',\n",
       " 'diggle',\n",
       " 'accompany',\n",
       " 'babysitter',\n",
       " 'darling',\n",
       " 'oliver',\n",
       " 'grown',\n",
       " 'hedoesn',\n",
       " 'feel',\n",
       " 'armed',\n",
       " 'protection',\n",
       " 'understandbut',\n",
       " 'call',\n",
       " 'diggle',\n",
       " 'dig',\n",
       " 'ex',\n",
       " 'military',\n",
       " 'sir',\n",
       " 'th',\n",
       " 'airborne',\n",
       " 'kandahar',\n",
       " 'retired',\n",
       " 'private',\n",
       " 'sectora',\n",
       " 'little',\n",
       " 'four',\n",
       " 'confusion',\n",
       " 'ability',\n",
       " 'keep',\n",
       " 'harmwill',\n",
       " 'outweigh',\n",
       " 'comfort',\n",
       " 'agreement',\n",
       " 'sir',\n",
       " 'sir',\n",
       " 'abduction',\n",
       " 'unexpected',\n",
       " 'forced',\n",
       " 'move',\n",
       " 'plan',\n",
       " 'police',\n",
       " 'true',\n",
       " 'green',\n",
       " 'hoodwas',\n",
       " 'warehouse',\n",
       " 'beginning',\n",
       " 'suit',\n",
       " 'alleges',\n",
       " 'huntcommitted',\n",
       " 'act',\n",
       " 'fraud',\n",
       " 'theft',\n",
       " 'underprivileged',\n",
       " 'laurel',\n",
       " 'lance',\n",
       " 'attorney',\n",
       " 'adam',\n",
       " 'hunt',\n",
       " 'crime',\n",
       " 'deeper',\n",
       " 'thanfraud',\n",
       " 'theft',\n",
       " 'able',\n",
       " 'bully',\n",
       " 'bribe',\n",
       " 'kill',\n",
       " 'anyone',\n",
       " 'gotten',\n",
       " 'met',\n",
       " 'yet',\n",
       " 'remind',\n",
       " 'grell',\n",
       " 'put',\n",
       " 'bench',\n",
       " 'turn',\n",
       " 'cautionary',\n",
       " 'tale',\n",
       " 'hunt',\n",
       " 'attorney',\n",
       " 'laurel',\n",
       " 'lance',\n",
       " 'problemanymore',\n",
       " 'fix',\n",
       " 'situation',\n",
       " 'car',\n",
       " 'missed',\n",
       " 'transfer',\n",
       " 'millioninto',\n",
       " 'starling',\n",
       " 'bank',\n",
       " 'account',\n",
       " 'ii',\n",
       " 'tomorrow',\n",
       " 'night',\n",
       " 'dead',\n",
       " 'wearing',\n",
       " 'hood',\n",
       " 'green',\n",
       " 'hood',\n",
       " 'bow',\n",
       " 'believe',\n",
       " 'maniac',\n",
       " 'put',\n",
       " 'menin',\n",
       " 'hospital',\n",
       " 'thanks',\n",
       " 'statement',\n",
       " 'put',\n",
       " 'apb',\n",
       " 'robin',\n",
       " 'hood',\n",
       " 'pal',\n",
       " 'grocerwho',\n",
       " 'taken',\n",
       " 'register',\n",
       " 'front',\n",
       " 'line',\n",
       " 'first',\n",
       " 'coordinate',\n",
       " 'drakon',\n",
       " 'new',\n",
       " 'head',\n",
       " 'security',\n",
       " 'thanks',\n",
       " 'telling',\n",
       " 'truth',\n",
       " 'first',\n",
       " 'timefor',\n",
       " 'everything',\n",
       " 'hooded',\n",
       " 'comeslooking',\n",
       " 'trouble',\n",
       " 'put',\n",
       " 'seatbelt',\n",
       " 'sir',\n",
       " 'miss',\n",
       " 'party',\n",
       " 'everybody',\n",
       " 'hour',\n",
       " 'lady',\n",
       " 'please',\n",
       " 'give',\n",
       " 'mana',\n",
       " 'proper',\n",
       " 'homecoming',\n",
       " 'much',\n",
       " 'everybody',\n",
       " 'ollie',\n",
       " 'ollie',\n",
       " 'ollie',\n",
       " 'missed',\n",
       " 'tequila',\n",
       " 'hell',\n",
       " 'across',\n",
       " 'street',\n",
       " 'party',\n",
       " 'guythey',\n",
       " 'rescued',\n",
       " 'island',\n",
       " 'oliver',\n",
       " 'bye',\n",
       " 'doe',\n",
       " 'wipe',\n",
       " 'rough',\n",
       " 'estimate',\n",
       " 'sex',\n",
       " 'day',\n",
       " 'wing',\n",
       " 'highly',\n",
       " 'recommend',\n",
       " 'carmen',\n",
       " 'golden',\n",
       " 'chick',\n",
       " 'twilight',\n",
       " 'twilight',\n",
       " 'better',\n",
       " 'knowing',\n",
       " 'minute',\n",
       " 'ollie',\n",
       " 'party',\n",
       " 'sick',\n",
       " 'believe',\n",
       " 'somebody',\n",
       " 'miss',\n",
       " 'anymore',\n",
       " 'ollie',\n",
       " 'love',\n",
       " 'comeback',\n",
       " 'judge',\n",
       " 'especially',\n",
       " 'beeneasy',\n",
       " 'away',\n",
       " 'away',\n",
       " 'died',\n",
       " 'brother',\n",
       " 'father',\n",
       " 'died',\n",
       " 'went',\n",
       " 'funeral',\n",
       " 'mom',\n",
       " 'walter',\n",
       " 'act',\n",
       " 'cool',\n",
       " 'forget',\n",
       " 'last',\n",
       " 'five',\n",
       " 'kind',\n",
       " 'permanently',\n",
       " 'turned',\n",
       " 'outa',\n",
       " 'major',\n",
       " 'disappointment',\n",
       " 'best',\n",
       " 'dowith',\n",
       " 'bounce',\n",
       " 'fun',\n",
       " 'dip',\n",
       " 'must',\n",
       " 'dropped',\n",
       " 'tommy',\n",
       " 'made',\n",
       " 'point',\n",
       " 'havetoo',\n",
       " 'many',\n",
       " 'leave',\n",
       " 'left',\n",
       " 'place',\n",
       " 'quieterthat',\n",
       " 'saying',\n",
       " 'thatyou',\n",
       " 'died',\n",
       " 'wrong',\n",
       " 'trade',\n",
       " 'place',\n",
       " 'sara',\n",
       " 'beenafraid',\n",
       " 'ask',\n",
       " 'died',\n",
       " 'suffer',\n",
       " 'aah',\n",
       " 'sara',\n",
       " 'aah',\n",
       " 'every',\n",
       " 'day',\n",
       " 'guess',\n",
       " 'thingin',\n",
       " 'common',\n",
       " 'believe',\n",
       " 'someone',\n",
       " 'talk',\n",
       " 'happened',\n",
       " 'wrong',\n",
       " 'asked',\n",
       " 'somebody',\n",
       " 'laurel',\n",
       " 'always',\n",
       " 'saw',\n",
       " 'best',\n",
       " 'looking',\n",
       " 'wonderingif',\n",
       " 'island',\n",
       " 'changed',\n",
       " 'somehow',\n",
       " 'made',\n",
       " 'better',\n",
       " 'person',\n",
       " 'stay',\n",
       " 'away',\n",
       " 'otherwise',\n",
       " 'hurt',\n",
       " 'worse',\n",
       " 'gotta',\n",
       " 'roll',\n",
       " 'five',\n",
       " 'debaucheryto',\n",
       " 'catch',\n",
       " 'oliver',\n",
       " 'wrong',\n",
       " 'island',\n",
       " 'change',\n",
       " 'least',\n",
       " 'honest',\n",
       " 'help',\n",
       " 'sir',\n",
       " 'second',\n",
       " 'believe',\n",
       " 'full',\n",
       " 'crap',\n",
       " 'party',\n",
       " 'locked',\n",
       " 'cover',\n",
       " 'elevator',\n",
       " 'hang',\n",
       " 'ready',\n",
       " 'stay',\n",
       " 'corner',\n",
       " 'stay',\n",
       " 'alert',\n",
       " 'past',\n",
       " 'getting',\n",
       " 'clear',\n",
       " 'missed',\n",
       " 'unit',\n",
       " 'converge',\n",
       " 'unit',\n",
       " 'converge',\n",
       " 'lay',\n",
       " 'weaponsor',\n",
       " 'open',\n",
       " 'fire',\n",
       " 'repeat',\n",
       " 'lay',\n",
       " 'weapon',\n",
       " 'saw',\n",
       " 'move',\n",
       " 'search',\n",
       " 'building',\n",
       " ...]"
      ]
     },
     "execution_count": 269,
     "metadata": {},
     "output_type": "execute_result"
    }
   ],
   "source": [
    "data_words[0]"
   ]
  },
  {
   "cell_type": "code",
   "execution_count": 270,
   "metadata": {
    "id": "OL6EEK4B8Jeb",
    "outputId": "dc56cf6f-64db-44da-ce38-7b7c367d429f"
   },
   "outputs": [
    {
     "name": "stderr",
     "output_type": "stream",
     "text": [
      "/home/anna/anaconda3/lib/python3.8/site-packages/ipykernel/ipkernel.py:287: DeprecationWarning: `should_run_async` will not call `transform_cell` automatically in the future. Please pass the result to `transformed_cell` argument and any exception that happen during thetransform in `preprocessing_exc_tuple` in IPython 7.17 and above.\n",
      "  and should_run_async(code)\n"
     ]
    },
    {
     "name": "stdout",
     "output_type": "stream",
     "text": [
      "[(0, 3), (1, 2), (2, 1), (3, 2), (4, 1), (5, 1), (6, 2), (7, 1), (8, 1), (9, 2), (10, 1), (11, 1), (12, 1), (13, 2), (14, 1), (15, 5), (16, 1), (17, 4), (18, 2), (19, 1), (20, 1), (21, 2), (22, 1), (23, 1), (24, 1), (25, 4), (26, 1), (27, 1), (28, 1), (29, 4)]\n"
     ]
    }
   ],
   "source": [
    "import gensim.corpora as corpora\n",
    "\n",
    "# Create Dictionary\n",
    "id2word = corpora.Dictionary(data_words)\n",
    "\n",
    "# Create Corpus\n",
    "texts = data_words\n",
    "\n",
    "# Term Document Frequency\n",
    "corpus = [id2word.doc2bow(text) for text in texts]\n",
    "\n",
    "# View\n",
    "print(corpus[:1][0][:30])\n"
   ]
  },
  {
   "cell_type": "markdown",
   "metadata": {
    "id": "ZFwVudto8Jec"
   },
   "source": [
    "# Model training"
   ]
  },
  {
   "cell_type": "code",
   "execution_count": 271,
   "metadata": {
    "id": "hbLmDPow8Jec",
    "outputId": "4ae9fed3-3b93-4a33-b113-35fb81f97ac0"
   },
   "outputs": [
    {
     "name": "stderr",
     "output_type": "stream",
     "text": [
      "/home/anna/anaconda3/lib/python3.8/site-packages/ipykernel/ipkernel.py:287: DeprecationWarning: `should_run_async` will not call `transform_cell` automatically in the future. Please pass the result to `transformed_cell` argument and any exception that happen during thetransform in `preprocessing_exc_tuple` in IPython 7.17 and above.\n",
      "  and should_run_async(code)\n"
     ]
    },
    {
     "name": "stdout",
     "output_type": "stream",
     "text": [
      "[(0,\n",
      "  '0.009*\"oliver\" + 0.004*\"felicity\" + 0.003*\"help\" + 0.003*\"laurel\" + '\n",
      "  '0.003*\"please\" + 0.003*\"thea\" + 0.002*\"john\" + 0.002*\"father\" + '\n",
      "  '0.002*\"kill\" + 0.002*\"give\"'),\n",
      " (1,\n",
      "  '0.007*\"oliver\" + 0.004*\"felicity\" + 0.003*\"help\" + 0.003*\"thea\" + '\n",
      "  '0.002*\"father\" + 0.002*\"laurel\" + 0.002*\"stop\" + 0.002*\"friend\" + '\n",
      "  '0.002*\"someone\" + 0.002*\"give\"'),\n",
      " (2,\n",
      "  '0.009*\"oliver\" + 0.004*\"laurel\" + 0.003*\"felicity\" + 0.003*\"help\" + '\n",
      "  '0.003*\"thea\" + 0.003*\"father\" + 0.002*\"kill\" + 0.002*\"friend\" + '\n",
      "  '0.002*\"john\" + 0.002*\"last\"')]\n"
     ]
    }
   ],
   "source": [
    "from pprint import pprint\n",
    "\n",
    "# number of topics\n",
    "num_topics = 3\n",
    "\n",
    "# Build LDA model\n",
    "lda_model = gensim.models.LdaMulticore(corpus=corpus,\n",
    "                                       id2word=id2word,\n",
    "                                       num_topics=num_topics)\n",
    "\n",
    "# Print the Keyword in the 10 topics\n",
    "pprint(lda_model.print_topics())\n",
    "doc_lda = lda_model[corpus]"
   ]
  },
  {
   "cell_type": "code",
   "execution_count": 272,
   "metadata": {
    "id": "nhxtXWpp8Jec",
    "outputId": "d0ce177b-cbce-4520-bfc8-21a38ae06e74"
   },
   "outputs": [
    {
     "name": "stderr",
     "output_type": "stream",
     "text": [
      "/home/anna/anaconda3/lib/python3.8/site-packages/ipykernel/ipkernel.py:287: DeprecationWarning: `should_run_async` will not call `transform_cell` automatically in the future. Please pass the result to `transformed_cell` argument and any exception that happen during thetransform in `preprocessing_exc_tuple` in IPython 7.17 and above.\n",
      "  and should_run_async(code)\n"
     ]
    },
    {
     "data": {
      "text/html": [
       "\n",
       "<link rel=\"stylesheet\" type=\"text/css\" href=\"https://cdn.jsdelivr.net/gh/bmabey/pyLDAvis@3.3.1/pyLDAvis/js/ldavis.v1.0.0.css\">\n",
       "\n",
       "\n",
       "<div id=\"ldavis_el160951398444354419208261267737\"></div>\n",
       "<script type=\"text/javascript\">\n",
       "\n",
       "var ldavis_el160951398444354419208261267737_data = {\"mdsDat\": {\"x\": [0.0024061441931905437, -0.002578105678075744, 0.00017196148488520102], \"y\": [-0.0012955780273359698, -0.001052540848790708, 0.0023481188761266783], \"topics\": [1, 2, 3], \"cluster\": [1, 1, 1], \"Freq\": [24.82157603276237, 24.41773639048615, 50.76068757675147]}, \"tinfo\": {\"Term\": [\"oliver\", \"felicity\", \"give\", \"please\", \"help\", \"green\", \"stop\", \"hell\", \"made\", \"someone\", \"little\", \"away\", \"home\", \"thea\", \"pagead\", \"new\", \"sara\", \"enough\", \"john\", \"adsbygoogle\", \"anything\", \"minute\", \"block\", \"much\", \"mom\", \"long\", \"diaz\", \"heh\", \"last\", \"always\", \"worldwho\", \"somber\", \"byrne\", \"harkness\", \"tender\", \"tarallo\", \"fence\", \"wilcott\", \"pleading\", \"walczak\", \"lightning\", \"bart\", \"beenmy\", \"marriageerased\", \"scrambler\", \"macgregor\", \"suggeststhe\", \"mannheim\", \"dramatic\", \"possesstrue\", \"klaus\", \"ofweapons\", \"onewith\", \"passthat\", \"gt\", \"addressor\", \"rushing\", \"printed\", \"tstart\", \"clacking\", \"straight\", \"byrd\", \"inspire\", \"please\", \"boomerang\", \"markos\", \"guard\", \"whoa\", \"music\", \"barry\", \"made\", \"human\", \"darhk\", \"bank\", \"central\", \"format\", \"diaz\", \"laugh\", \"took\", \"prison\", \"oliver\", \"roy\", \"give\", \"help\", \"home\", \"hell\", \"new\", \"might\", \"felicity\", \"pagead\", \"lead\", \"green\", \"girl\", \"adsbygoogle\", \"john\", \"little\", \"blood\", \"subslikescript\", \"first\", \"every\", \"thea\", \"mother\", \"place\", \"com\", \"family\", \"kill\", \"sara\", \"fine\", \"laurel\", \"last\", \"father\", \"stop\", \"much\", \"friend\", \"anything\", \"keep\", \"someone\", \"gravano\", \"treasury\", \"myron\", \"bamford\", \"reston\", \"achoo\", \"shaped\", \"character\", \"finance\", \"aimost\", \"castaway\", \"jesse\", \"couture\", \"eise\", \"apartmentis\", \"packet\", \"bionumeric\", \"giri\", \"burnett\", \"kreisberg\", \"basicaiiy\", \"heiena\", \"ciose\", \"iistened\", \"butter\", \"truiy\", \"ieft\", \"rickards\", \"giades\", \"spotthat\", \"wouid\", \"kiii\", \"amell\", \"waiter\", \"chattering\", \"toid\", \"feiicity\", \"reaiiy\", \"carrie\", \"enough\", \"couid\", \"peopie\", \"oiiver\", \"laurei\", \"iike\", \"wiii\", \"action\", \"bee\", \"stiii\", \"savage\", \"felicity\", \"away\", \"aii\", \"stop\", \"death\", \"block\", \"give\", \"green\", \"someone\", \"found\", \"always\", \"woman\", \"three\", \"mom\", \"past\", \"money\", \"diggle\", \"head\", \"minute\", \"oliver\", \"heh\", \"point\", \"long\", \"sara\", \"much\", \"hell\", \"actually\", \"anything\", \"father\", \"love\", \"thea\", \"little\", \"friend\", \"help\", \"son\", \"last\", \"else\", \"put\", \"done\", \"wait\", \"laurel\", \"john\", \"pagead\", \"better\", \"home\", \"kill\", \"fine\", \"keep\", \"adsbygoogle\", \"dead\", \"persuasively\", \"vanch\", \"endangerthe\", \"george\", \"faust\", \"nanite\", \"chef\", \"masked\", \"happenedafter\", \"certainlyhope\", \"outall\", \"thatsince\", \"herinvolvement\", \"vasquez\", \"grand\", \"cayden\", \"alena\", \"warmer\", \"isall\", \"mourn\", \"investigated\", \"intern\", \"flynn\", \"convincethe\", \"iskilling\", \"unfixable\", \"thatwe\", \"reed\", \"ballardwill\", \"guyand\", \"another\", \"daughter\", \"laurel\", \"slade\", \"mia\", \"bianca\", \"jj\", \"mirakuru\", \"alpha\", \"captain\", \"safe\", \"run\", \"second\", \"church\", \"dy\", \"cool\", \"clearly\", \"care\", \"call\", \"black\", \"understand\", \"lot\", \"already\", \"promise\", \"rene\", \"kill\", \"team\", \"believe\", \"day\", \"night\", \"oliver\", \"doe\", \"better\", \"father\", \"phone\", \"vigilante\", \"name\", \"friend\", \"everything\", \"family\", \"killed\", \"keep\", \"thea\", \"dead\", \"last\", \"john\", \"help\", \"dad\", \"first\", \"much\", \"move\", \"fine\", \"felicity\", \"love\", \"adsbygoogle\", \"stop\", \"little\", \"please\", \"someone\", \"pagead\"], \"Freq\": [2476.0, 960.0, 527.0, 581.0, 830.0, 491.0, 570.0, 435.0, 444.0, 537.0, 556.0, 384.0, 477.0, 783.0, 512.0, 449.0, 480.0, 290.0, 629.0, 516.0, 494.0, 287.0, 290.0, 562.0, 336.0, 418.0, 420.0, 463.0, 605.0, 365.0, 1.682875975071655, 1.628292354215729, 2.257775452570945, 13.7223489580837, 2.5278868987732235, 0.9548032350396447, 2.5382018971506706, 0.9274053701442938, 1.6056202658541487, 2.287149709284991, 4.6587085049043715, 0.9183070028107913, 1.2464229353831746, 0.6279410624495095, 1.559536801937465, 1.2832698517509324, 0.6267785448581985, 0.9432810195157304, 8.426417814468481, 0.6127208968346097, 1.5135050815411826, 0.6228046951565224, 1.5402936105270724, 0.6094862684950058, 0.6100911936972571, 0.9084254387060204, 0.6111500925848633, 1.1911367612833235, 0.6090912139581997, 1.5012526635639685, 19.264907362761406, 4.850852603904995, 3.0359940495227655, 194.66128723532375, 7.630096358498629, 2.347207741934237, 31.87313432566902, 42.790851761785284, 29.530021299980298, 40.14203433100313, 137.974210380751, 20.557270381161217, 90.35017570313188, 22.69154497855458, 25.793815762903705, 79.16358155550628, 125.40173042232963, 11.636212424189376, 90.7233905244414, 55.62701143365673, 652.9801769796524, 119.96347536844604, 152.04689746763327, 232.29599646292542, 138.25847585222098, 126.84414912324226, 130.65252278334847, 114.48055183185124, 259.117090424291, 144.7946941766704, 43.689711232362114, 135.8952004964045, 55.97549469549495, 141.91457557324512, 167.8191103568211, 149.38960726579543, 58.40464363433252, 108.22596150762325, 137.85950144750302, 91.59772488297693, 192.92028656565265, 88.50343181717277, 113.20303828216635, 82.27591559876464, 114.88968007955486, 156.85766187785435, 122.8312829639028, 128.52469018841364, 203.0934934776063, 144.38983812680388, 162.0541374987192, 133.29320450010354, 131.45799639094722, 141.45818350371033, 121.73281410779413, 126.23960363679963, 126.40173649396738, 1.6927357714159719, 1.2870331518570848, 1.928446115945912, 3.59071380631401, 5.419231527652015, 1.9469991913618614, 1.2723030119496186, 13.34791791510958, 1.5780627305726096, 4.521822932630361, 4.730430146122943, 2.5411770906206224, 0.9510184138785713, 10.215478438114596, 0.9344142377239089, 0.9224050057204426, 0.9084683749061029, 6.844448203838177, 1.2581687971768092, 8.292276618778608, 2.5390203104984086, 8.64027047517793, 3.7330162211467215, 1.5732562142180964, 0.9294464032309009, 3.0799081777199593, 10.76073711376782, 0.9292932449019002, 10.38793173759119, 0.6078924019257554, 34.34147889060279, 12.51224566159726, 4.978723046413915, 25.595423090891025, 7.924861897699654, 17.455706933166564, 10.330640031361334, 44.55579682247819, 3.075768175328268, 96.51634462273961, 31.06593345182108, 34.76340787418467, 71.24879977407419, 27.856124474491924, 60.35400035785506, 29.874352585741516, 18.927616370653386, 20.052354149688025, 13.656433317967512, 11.663960155897716, 274.05194025526106, 115.95842998788764, 70.74413705730072, 161.82183550470637, 70.39745239700248, 86.63683066853869, 148.95235182919822, 138.5804350777079, 150.52787167818667, 103.32287950220987, 104.50733361658125, 63.97975342230398, 52.021810095695365, 96.1872582106257, 59.750429352181264, 68.45858218918796, 73.11825098545928, 82.76718892859317, 82.1008594033699, 528.0686023812108, 122.90099277725184, 77.41270432359154, 111.83162006533702, 124.25112573592853, 141.55952919768785, 114.2451248909859, 104.47393590488335, 126.32350804189701, 171.8750026389419, 118.38174938058796, 179.21798981680925, 137.1685548977759, 153.72266246138113, 184.50276944348678, 115.07751456970736, 141.64852344757338, 108.44938265652212, 111.57205626628104, 107.84556297093992, 111.68527193924456, 168.7516161467789, 134.0727718754451, 117.9490960759564, 118.43425399858116, 114.00228067110457, 126.91838354010714, 116.64330274494715, 117.67094759841277, 115.51438714345142, 113.75055857849341, 3.1075118671570396, 8.600532264708358, 2.429943726032724, 3.6013642184476526, 5.375421451826868, 2.9654762698304156, 4.135557494694972, 14.745921625504645, 2.3613077449710604, 1.763786822956732, 3.524125853194821, 2.346310856346074, 2.33930272289189, 7.595708954906057, 12.221652698926231, 133.2227494208689, 19.125227429889296, 2.31867843342195, 2.3257697662474786, 4.056288149319007, 2.8894000032401115, 3.454699343478575, 1.7268429364096127, 1.1528966505043903, 2.2983295904144216, 1.148824997127482, 19.468534422910476, 2.864974660290353, 1.7179764144084493, 2.8593284116913735, 188.83721141317116, 182.10254486871796, 570.454782552457, 153.7772698904764, 80.39075012202764, 19.898286909026265, 36.08770201063966, 51.4615112516847, 17.00792567033082, 90.56654697332873, 164.34104183482614, 141.87881847759073, 190.85298624537054, 49.06901828215558, 22.963429294386128, 55.18472027633164, 51.90050236831685, 184.22271256390295, 279.2125667696585, 114.71927816288165, 136.64114179725962, 220.6533058399607, 170.11235766743619, 130.92425397021904, 175.16586486556884, 364.0374890465482, 194.26705333146592, 189.90593722523826, 283.2970710837692, 261.2443631098981, 1295.5813946360815, 260.4044468776795, 289.64725206220487, 404.39720359849593, 170.81553613673125, 164.7636795630507, 272.99281655714196, 353.46930565074183, 270.2173587660916, 243.21515734796384, 252.41181014656237, 290.7309182196349, 411.6960534268957, 275.6204390276982, 319.302200545513, 327.31928981419645, 413.7112251309662, 252.43336766911025, 272.32965133113714, 289.724383533767, 240.06243429620974, 269.17363692302285, 427.16222312475594, 242.72624445449622, 259.1966052546381, 275.3301103787083, 270.42605833090147, 275.4368468252802, 260.98014129277067, 250.1301764351716], \"Total\": [2476.0, 960.0, 527.0, 581.0, 830.0, 491.0, 570.0, 435.0, 444.0, 537.0, 556.0, 384.0, 477.0, 783.0, 512.0, 449.0, 480.0, 290.0, 629.0, 516.0, 494.0, 287.0, 290.0, 562.0, 336.0, 418.0, 420.0, 463.0, 605.0, 365.0, 4.025305531631883, 4.069126979969445, 5.654523678592733, 34.37448055982419, 6.441085885788606, 2.455248827912667, 6.537236981949758, 2.4063471442207063, 4.170006522545436, 5.975900401972182, 12.206323148194237, 2.409313933981712, 3.2745533991479476, 1.6512148172886998, 4.12824029159253, 3.398235337368343, 1.6606714306027417, 2.5274146833504263, 22.692670029577926, 1.6512907703401658, 4.084774102226744, 1.681312088099284, 4.159863740886523, 1.6472389674463894, 1.6503339637295449, 2.4578854898604465, 1.653974799413369, 3.223888917565975, 1.6490283736100837, 4.069899621443273, 52.424681943670834, 13.332149414239279, 8.313963656235831, 581.0201824929829, 21.375507716611775, 6.483370413105066, 93.98465750565404, 127.4277870315102, 87.50773878677185, 120.70612342840789, 444.8491223950173, 61.305169608537426, 287.00771087441814, 68.25590951261958, 78.2963865949126, 255.1487257542145, 420.4319876105344, 34.45903154823808, 299.57525070801296, 179.2563759231652, 2476.630173996945, 408.7644307187128, 527.5691214550585, 830.5099910373784, 477.2806066226734, 435.42706565909054, 449.6031594692558, 394.51477048631966, 960.3312538043081, 512.8739666877984, 140.62979907776156, 491.13645722019066, 185.6684361337895, 516.6255679713347, 629.2111720464627, 556.9842204944728, 196.10376602219503, 392.97466419397557, 517.9237133278014, 328.51645052634774, 783.8343298093575, 316.47921850903816, 426.5215056558077, 291.4778874396327, 439.2194240248502, 647.8135344645098, 480.0361508505476, 514.3416298563836, 942.2998921768421, 605.3405621198904, 738.326343736157, 570.4451503835182, 562.7419091224021, 648.6501516158332, 494.8370179052497, 534.6414694548473, 537.9097494649247, 4.124942657586695, 3.2146144278169277, 4.894379790442951, 9.169886936769181, 13.843808246754485, 5.001930963612413, 3.270047269503922, 34.401554071706514, 4.089751752423157, 11.722819674471346, 12.349234600133059, 6.637324249215437, 2.486608831430445, 26.74054472586085, 2.458651963661665, 2.4271668266391564, 2.3926186245315826, 18.14525132681782, 3.3440713155927853, 22.117523985567125, 6.786666071879793, 23.110559334788107, 9.997745699833086, 4.214669566616369, 2.493386925628757, 8.275175084103157, 28.98873616761697, 2.506868869089516, 28.025895405548646, 1.6420058853264574, 93.66331183423478, 34.14986791805507, 13.499618622459417, 70.97048910077427, 21.607615185845845, 49.33629942569988, 28.876589742461537, 130.8893360260766, 8.320736927106081, 290.9277435962818, 91.10228417707975, 102.50690975954555, 218.46549487680338, 81.6895310825218, 184.37448019399392, 89.46797963119471, 55.14465901198564, 58.68300972401158, 39.104356641098235, 33.10468099519663, 960.3312538043081, 384.656895410829, 226.3935458950557, 570.4451503835182, 231.59395769553873, 290.65199386394767, 527.5691214550585, 491.13645722019066, 537.9097494649247, 356.6093919259983, 365.6931942063869, 213.02304134451634, 169.4191779902933, 336.0756799401237, 197.904217161889, 231.32614342151726, 249.8780380443634, 288.26484697590763, 287.8940671011051, 2476.630173996945, 463.802936898982, 271.4947576028835, 418.769966889085, 480.0361508505476, 562.7419091224021, 435.42706565909054, 390.7538561941923, 494.8370179052497, 738.326343736157, 462.2203246226153, 783.8343298093575, 556.9842204944728, 648.6501516158332, 830.5099910373784, 449.0615032391338, 605.3405621198904, 421.5943018658451, 441.89613968502806, 429.9982940133409, 456.56474885892294, 942.2998921768421, 629.2111720464627, 512.8739666877984, 518.9671677280014, 477.2806066226734, 647.8135344645098, 514.3416298563836, 534.6414694548473, 516.6255679713347, 506.4379649731982, 4.704452289246969, 13.131683577242539, 3.7465150927999176, 5.599890359168591, 8.38378066928124, 4.646151743160573, 6.500771337900936, 23.19489477626923, 3.7233787234689046, 2.786831945731672, 5.574488953069853, 3.714984502778667, 3.71418526719516, 12.060327763130124, 19.40967664961015, 211.74893617544893, 30.47616130898207, 3.6959525733113896, 3.7102290150998862, 6.472008703884162, 4.620233610372807, 5.535875793233918, 2.7717949942027564, 1.850846965628506, 3.6940326082981167, 1.84944157105778, 31.349047854856053, 4.613647401148706, 2.7691678297385844, 4.609201799027391, 304.9635763842933, 295.6960454596681, 942.2998921768421, 253.1319243873267, 131.65562090169925, 32.180072111787496, 58.82602691298105, 84.24241077125194, 27.56076163904668, 149.58205857853994, 276.40821003945564, 239.317999741964, 324.7646342304338, 81.23449398778818, 37.559246502701285, 91.95510096258525, 86.49216011070897, 316.2501220553231, 486.230298308279, 194.83004763238523, 233.89233327276878, 384.33794529060737, 294.97072609675774, 225.25694217807205, 304.17464291350285, 647.8135344645098, 338.99226878748595, 331.13540341314035, 502.59736208356026, 462.99916415798765, 2476.630173996945, 463.0136688356074, 518.9671677280014, 738.326343736157, 299.2051317975871, 288.39467223889017, 491.074519721078, 648.6501516158332, 487.6618672783917, 439.2194240248502, 457.59704013951944, 534.6414694548473, 783.8343298093575, 506.4379649731982, 605.3405621198904, 629.2111720464627, 830.5099910373784, 465.57173801199065, 517.9237133278014, 562.7419091224021, 444.52240616402617, 514.3416298563836, 960.3312538043081, 462.2203246226153, 516.6255679713347, 570.4451503835182, 556.9842204944728, 581.0201824929829, 537.9097494649247, 512.8739666877984], \"Category\": [\"Default\", \"Default\", \"Default\", \"Default\", \"Default\", \"Default\", \"Default\", \"Default\", \"Default\", \"Default\", \"Default\", \"Default\", \"Default\", \"Default\", \"Default\", \"Default\", \"Default\", \"Default\", \"Default\", \"Default\", \"Default\", \"Default\", \"Default\", \"Default\", \"Default\", \"Default\", \"Default\", \"Default\", \"Default\", \"Default\", \"Topic1\", \"Topic1\", \"Topic1\", \"Topic1\", \"Topic1\", \"Topic1\", \"Topic1\", \"Topic1\", \"Topic1\", \"Topic1\", \"Topic1\", \"Topic1\", \"Topic1\", \"Topic1\", \"Topic1\", \"Topic1\", \"Topic1\", \"Topic1\", \"Topic1\", \"Topic1\", \"Topic1\", \"Topic1\", \"Topic1\", \"Topic1\", \"Topic1\", \"Topic1\", \"Topic1\", \"Topic1\", \"Topic1\", \"Topic1\", \"Topic1\", \"Topic1\", \"Topic1\", \"Topic1\", \"Topic1\", \"Topic1\", \"Topic1\", \"Topic1\", \"Topic1\", \"Topic1\", \"Topic1\", \"Topic1\", \"Topic1\", \"Topic1\", \"Topic1\", \"Topic1\", \"Topic1\", \"Topic1\", \"Topic1\", \"Topic1\", \"Topic1\", \"Topic1\", \"Topic1\", \"Topic1\", \"Topic1\", \"Topic1\", \"Topic1\", \"Topic1\", \"Topic1\", \"Topic1\", \"Topic1\", \"Topic1\", \"Topic1\", \"Topic1\", \"Topic1\", \"Topic1\", \"Topic1\", \"Topic1\", \"Topic1\", \"Topic1\", \"Topic1\", \"Topic1\", \"Topic1\", \"Topic1\", \"Topic1\", \"Topic1\", \"Topic1\", \"Topic1\", \"Topic1\", \"Topic1\", \"Topic1\", \"Topic1\", \"Topic1\", \"Topic1\", \"Topic1\", \"Topic1\", \"Topic1\", \"Topic2\", \"Topic2\", \"Topic2\", \"Topic2\", \"Topic2\", \"Topic2\", \"Topic2\", \"Topic2\", \"Topic2\", \"Topic2\", \"Topic2\", \"Topic2\", \"Topic2\", \"Topic2\", \"Topic2\", \"Topic2\", \"Topic2\", \"Topic2\", \"Topic2\", \"Topic2\", \"Topic2\", \"Topic2\", \"Topic2\", \"Topic2\", \"Topic2\", \"Topic2\", \"Topic2\", \"Topic2\", \"Topic2\", \"Topic2\", \"Topic2\", \"Topic2\", \"Topic2\", \"Topic2\", \"Topic2\", \"Topic2\", \"Topic2\", \"Topic2\", \"Topic2\", \"Topic2\", \"Topic2\", \"Topic2\", \"Topic2\", \"Topic2\", \"Topic2\", \"Topic2\", \"Topic2\", \"Topic2\", \"Topic2\", \"Topic2\", \"Topic2\", \"Topic2\", \"Topic2\", \"Topic2\", \"Topic2\", \"Topic2\", \"Topic2\", \"Topic2\", \"Topic2\", \"Topic2\", \"Topic2\", \"Topic2\", \"Topic2\", \"Topic2\", \"Topic2\", \"Topic2\", \"Topic2\", \"Topic2\", \"Topic2\", \"Topic2\", \"Topic2\", \"Topic2\", \"Topic2\", \"Topic2\", \"Topic2\", \"Topic2\", \"Topic2\", \"Topic2\", \"Topic2\", \"Topic2\", \"Topic2\", \"Topic2\", \"Topic2\", \"Topic2\", \"Topic2\", \"Topic2\", \"Topic2\", \"Topic2\", \"Topic2\", \"Topic2\", \"Topic2\", \"Topic2\", \"Topic2\", \"Topic2\", \"Topic2\", \"Topic2\", \"Topic2\", \"Topic2\", \"Topic2\", \"Topic2\", \"Topic3\", \"Topic3\", \"Topic3\", \"Topic3\", \"Topic3\", \"Topic3\", \"Topic3\", \"Topic3\", \"Topic3\", \"Topic3\", \"Topic3\", \"Topic3\", \"Topic3\", \"Topic3\", \"Topic3\", \"Topic3\", \"Topic3\", \"Topic3\", \"Topic3\", \"Topic3\", \"Topic3\", \"Topic3\", \"Topic3\", \"Topic3\", \"Topic3\", \"Topic3\", \"Topic3\", \"Topic3\", \"Topic3\", \"Topic3\", \"Topic3\", \"Topic3\", \"Topic3\", \"Topic3\", \"Topic3\", \"Topic3\", \"Topic3\", \"Topic3\", \"Topic3\", \"Topic3\", \"Topic3\", \"Topic3\", \"Topic3\", \"Topic3\", \"Topic3\", \"Topic3\", \"Topic3\", \"Topic3\", \"Topic3\", \"Topic3\", \"Topic3\", \"Topic3\", \"Topic3\", \"Topic3\", \"Topic3\", \"Topic3\", \"Topic3\", \"Topic3\", \"Topic3\", \"Topic3\", \"Topic3\", \"Topic3\", \"Topic3\", \"Topic3\", \"Topic3\", \"Topic3\", \"Topic3\", \"Topic3\", \"Topic3\", \"Topic3\", \"Topic3\", \"Topic3\", \"Topic3\", \"Topic3\", \"Topic3\", \"Topic3\", \"Topic3\", \"Topic3\", \"Topic3\", \"Topic3\", \"Topic3\", \"Topic3\", \"Topic3\", \"Topic3\", \"Topic3\", \"Topic3\", \"Topic3\", \"Topic3\", \"Topic3\", \"Topic3\"], \"logprob\": [30.0, 29.0, 28.0, 27.0, 26.0, 25.0, 24.0, 23.0, 22.0, 21.0, 20.0, 19.0, 18.0, 17.0, 16.0, 15.0, 14.0, 13.0, 12.0, 11.0, 10.0, 9.0, 8.0, 7.0, 6.0, 5.0, 4.0, 3.0, 2.0, 1.0, -10.6692, -10.7022, -10.3753, -8.5707, -10.2623, -11.236, -10.2583, -11.2651, -10.7162, -10.3624, -9.651, -11.2749, -10.9694, -11.655, -10.7453, -10.9403, -11.6569, -11.2481, -9.0583, -11.6796, -10.7753, -11.6632, -10.7577, -11.6849, -11.6839, -11.2858, -11.6821, -11.0148, -11.6855, -10.7834, -8.2314, -9.6106, -10.0792, -5.9185, -9.1576, -10.3365, -7.728, -7.4334, -7.8043, -7.4973, -6.2627, -8.1665, -6.686, -8.0677, -7.9396, -6.8182, -6.3582, -8.7356, -6.6819, -7.1711, -4.7082, -6.4025, -6.1655, -5.7417, -6.2606, -6.3468, -6.3172, -6.4493, -5.6324, -6.2144, -7.4126, -6.2778, -7.1648, -6.2345, -6.0668, -6.1832, -7.1223, -6.5055, -6.2635, -6.6723, -5.9274, -6.7067, -6.4605, -6.7796, -6.4457, -6.1344, -6.3789, -6.3336, -5.8761, -6.2172, -6.1018, -6.2972, -6.311, -6.2377, -6.3879, -6.3515, -6.3503, -10.647, -10.921, -10.5166, -9.895, -9.4834, -10.507, -10.9325, -8.582, -10.7171, -9.6644, -9.6193, -10.2407, -11.2235, -8.8494, -11.2412, -11.2541, -11.2693, -9.2499, -10.9437, -9.058, -10.2415, -9.0169, -9.8561, -10.7202, -11.2465, -10.0484, -8.7974, -11.2466, -8.8327, -11.6711, -7.637, -8.6466, -9.5681, -7.9309, -9.1033, -8.3136, -8.8382, -7.3766, -10.0498, -6.6036, -7.7372, -7.6248, -6.9071, -7.8463, -7.0731, -7.7763, -8.2327, -8.175, -8.5591, -8.7168, -5.56, -6.4201, -6.9142, -6.0868, -6.9192, -6.7116, -6.1697, -6.2419, -6.1592, -6.5355, -6.5241, -7.0147, -7.2217, -6.607, -7.0831, -6.9471, -6.8812, -6.7573, -6.7654, -4.9041, -6.3619, -6.8242, -6.4563, -6.351, -6.2206, -6.435, -6.5244, -6.3345, -6.0265, -6.3994, -5.9847, -6.2521, -6.1382, -5.9557, -6.4277, -6.22, -6.487, -6.4586, -6.4926, -6.4576, -6.0449, -6.2749, -6.4031, -6.399, -6.4371, -6.3298, -6.4142, -6.4054, -6.4239, -6.4393, -10.7713, -9.7533, -11.0173, -10.6238, -10.2233, -10.8181, -10.4855, -9.2142, -11.0459, -11.3377, -10.6455, -11.0523, -11.0553, -9.8775, -9.4019, -7.0131, -8.9541, -11.0641, -11.0611, -10.5049, -10.8441, -10.6654, -11.3588, -11.7629, -11.0729, -11.7664, -8.9363, -10.8526, -11.364, -10.8545, -6.6642, -6.7006, -5.5587, -6.8696, -7.5182, -8.9145, -8.3192, -7.9643, -9.0714, -7.399, -6.8032, -6.9502, -6.6536, -8.0119, -8.7712, -7.8944, -7.9558, -6.689, -6.2732, -7.1626, -6.9878, -6.5085, -6.7687, -7.0305, -6.7394, -6.0079, -6.6359, -6.6586, -6.2586, -6.3397, -4.7384, -6.3429, -6.2365, -5.9027, -6.7645, -6.8006, -6.2957, -6.0373, -6.3059, -6.4112, -6.3741, -6.2327, -5.8848, -6.2861, -6.139, -6.1142, -5.88, -6.374, -6.2981, -6.2362, -6.4242, -6.3098, -5.848, -6.4132, -6.3475, -6.2872, -6.3051, -6.2868, -6.3407, -6.3831], \"loglift\": [30.0, 29.0, 28.0, 27.0, 26.0, 25.0, 24.0, 23.0, 22.0, 21.0, 20.0, 19.0, 18.0, 17.0, 16.0, 15.0, 14.0, 13.0, 12.0, 11.0, 10.0, 9.0, 8.0, 7.0, 6.0, 5.0, 4.0, 3.0, 2.0, 1.0, 0.5214, 0.4776, 0.4754, 0.4752, 0.4581, 0.449, 0.4474, 0.44, 0.439, 0.433, 0.4302, 0.4289, 0.4276, 0.4266, 0.42, 0.4196, 0.4191, 0.4079, 0.4028, 0.4021, 0.4006, 0.4004, 0.3999, 0.3992, 0.3983, 0.3981, 0.3979, 0.3978, 0.3975, 0.3961, 0.3924, 0.3824, 0.3861, 0.2999, 0.3633, 0.3774, 0.3121, 0.3022, 0.3071, 0.2925, 0.2228, 0.3008, 0.2376, 0.2922, 0.2831, 0.2231, 0.1837, 0.3078, 0.1989, 0.2233, 0.0603, 0.1675, 0.1494, 0.1194, 0.1545, 0.1601, 0.1576, 0.1562, 0.0835, 0.1287, 0.2244, 0.1086, 0.1944, 0.1014, 0.0719, 0.0775, 0.1822, 0.1039, 0.0699, 0.1163, -0.0085, 0.1192, 0.067, 0.1286, 0.0524, -0.0248, 0.0304, 0.0067, -0.1412, -0.0398, -0.123, -0.0604, -0.0607, -0.1294, -0.0089, -0.05, -0.0548, 0.5192, 0.4945, 0.4785, 0.4723, 0.472, 0.4663, 0.4659, 0.4631, 0.4576, 0.4572, 0.4503, 0.4498, 0.4487, 0.4476, 0.4424, 0.4424, 0.4415, 0.4349, 0.4323, 0.4288, 0.4267, 0.426, 0.4247, 0.4244, 0.4231, 0.4215, 0.4189, 0.4175, 0.4174, 0.4162, 0.4065, 0.4058, 0.4124, 0.39, 0.4068, 0.3709, 0.3819, 0.3323, 0.4147, 0.3065, 0.334, 0.3285, 0.2894, 0.334, 0.2931, 0.313, 0.3405, 0.3361, 0.3578, 0.3667, 0.1559, 0.2107, 0.2467, 0.1499, 0.219, 0.1995, 0.1452, 0.1446, 0.1363, 0.1711, 0.1573, 0.207, 0.2291, 0.1588, 0.2123, 0.1923, 0.181, 0.162, 0.1552, -0.1356, 0.0818, 0.1551, 0.0895, 0.0583, 0.0298, 0.0719, 0.0907, 0.0445, -0.0478, 0.0477, -0.0657, 0.0085, -0.0299, -0.0945, 0.0483, -0.0426, 0.0521, 0.0335, 0.0268, 0.0018, -0.31, -0.1362, -0.0599, -0.0676, -0.022, -0.2202, -0.0739, -0.1038, -0.0881, -0.0835, 0.2634, 0.2548, 0.2451, 0.2366, 0.2336, 0.229, 0.2257, 0.2251, 0.2226, 0.2206, 0.2195, 0.2185, 0.2157, 0.2157, 0.2155, 0.2147, 0.2121, 0.2118, 0.211, 0.2108, 0.2087, 0.2065, 0.2048, 0.2047, 0.2035, 0.2019, 0.2017, 0.2016, 0.2006, 0.2006, 0.1987, 0.1933, 0.1762, 0.1796, 0.1848, 0.1973, 0.1894, 0.1852, 0.1953, 0.1763, 0.1581, 0.1552, 0.1465, 0.1739, 0.186, 0.1674, 0.1673, 0.1377, 0.1233, 0.1484, 0.1405, 0.1231, 0.1276, 0.1354, 0.1262, 0.1017, 0.1213, 0.122, 0.1048, 0.1058, 0.0301, 0.1025, 0.0949, 0.0761, 0.1175, 0.1182, 0.0909, 0.071, 0.0877, 0.087, 0.0831, 0.0688, 0.0341, 0.0697, 0.0384, 0.0245, -0.0188, 0.0659, 0.0352, 0.0142, 0.0619, 0.0305, -0.1321, 0.0339, -0.0117, -0.0504, -0.0445, -0.0684, -0.0452, -0.04]}, \"token.table\": {\"Topic\": [1, 2, 3, 1, 2, 3, 1, 2, 3, 1, 2, 3, 1, 2, 3, 1, 2, 3, 1, 2, 3, 1, 2, 3, 1, 2, 3, 1, 2, 3, 1, 2, 3, 1, 2, 3, 1, 2, 3, 1, 2, 3, 1, 2, 3, 1, 2, 3, 1, 3, 1, 2, 3, 1, 2, 3, 1, 2, 3, 1, 2, 3, 1, 2, 3, 1, 2, 3, 1, 2, 3, 1, 2, 3, 1, 2, 3, 1, 2, 3, 1, 2, 3, 1, 2, 3, 1, 2, 3, 1, 2, 3, 1, 2, 3, 1, 2, 3, 1, 2, 3, 1, 2, 3, 1, 2, 3, 1, 2, 3, 1, 2, 3, 1, 2, 3, 1, 2, 3, 1, 2, 3, 1, 2, 3, 1, 2, 3, 2, 3, 1, 2, 3, 1, 2, 3, 1, 2, 3, 1, 2, 3, 1, 2, 3, 1, 2, 3, 1, 2, 3, 1, 2, 3, 3, 1, 2, 3, 1, 2, 3, 2, 3, 1, 2, 3, 1, 2, 3, 1, 2, 3, 1, 2, 3, 1, 2, 3, 1, 2, 3, 1, 2, 3, 1, 2, 3, 1, 2, 3, 1, 2, 3, 1, 2, 3, 1, 2, 3, 1, 2, 3, 1, 2, 3, 1, 2, 3, 1, 2, 3, 1, 2, 3, 1, 2, 3, 1, 2, 3, 1, 2, 3, 1, 2, 3, 1, 2, 3, 1, 2, 3, 1, 2, 3, 1, 2, 3, 1, 2, 3, 1, 2, 3, 1, 2, 3, 1, 2, 3, 1, 2, 3, 1, 2, 3, 1, 2, 3, 1, 2, 3, 1, 2, 3, 1, 2, 3, 1, 2, 3, 1, 2, 3, 1, 2, 3, 1, 2, 3, 1, 3, 1, 2, 3, 1, 2, 3, 1, 2, 3, 1, 2, 3, 1, 2, 3, 1, 2, 3, 1, 2, 3, 1, 2, 3, 1, 2, 3, 1, 2, 3, 1, 2, 3, 1, 2, 3, 1, 2, 3, 1, 2, 3, 1, 2, 3, 1, 2, 3, 1, 2, 3, 1, 2, 3, 1, 2, 3, 1, 2, 3, 1, 2, 3, 1, 2, 3, 1, 2, 3, 1, 2, 3, 1, 2, 3, 1, 2, 3, 1, 2, 3, 1, 2, 3, 1, 2, 3, 1, 2, 3, 1, 2, 3, 1, 2, 3, 1, 2, 3, 1, 2, 3, 1, 2, 3, 1, 2, 3, 1, 2, 3, 1, 2, 3, 1, 2, 3, 1, 2, 3, 1, 2, 3, 1, 3, 1, 2, 3, 1, 3, 1, 2, 3, 1, 2, 3, 1, 2, 3, 1, 2, 3, 1, 2, 3, 1, 2, 3, 1, 2, 3, 1, 2, 3, 1, 2, 3, 1, 2, 3, 1, 2, 3, 1, 2, 3, 1, 2, 3, 1, 2, 3, 1, 2, 3, 1, 2, 3, 1, 2, 3, 1, 3, 1, 2, 3, 1, 2, 3, 1, 2, 3, 1, 2, 3, 1, 2, 3, 1, 2, 3, 1, 3, 1, 2, 3, 1, 2, 3, 1, 2, 3, 1, 2, 3, 1, 2, 3, 1, 2, 3, 1, 2, 3, 1, 2, 3, 1, 3, 1, 2, 3, 1, 2, 3, 1, 2, 3, 1, 2, 3, 1, 2, 3, 1, 2, 3, 1, 2, 3, 1, 2, 3, 2, 3, 1, 2, 3, 1, 2, 3, 1, 3, 1, 2, 3, 1, 2, 3, 1, 2, 3, 1, 2, 3, 1, 2, 3, 1, 2, 3, 1, 2, 3, 1, 2, 3, 1, 2, 3, 1, 2, 3, 2, 3, 1, 2, 3, 1, 2, 3, 1, 2, 3, 1, 2, 3, 1, 3, 1, 2, 3, 1, 2, 3, 1, 2, 3, 1, 2, 3, 1, 2, 3, 1, 2, 3, 1, 2, 3, 1, 2, 3, 1, 2, 3, 1, 2, 3, 1, 2, 3, 1, 3, 1, 2, 3, 3, 1, 2, 3, 1, 2, 3, 1, 2, 3, 1, 2, 3, 1, 2, 3, 1, 2, 3, 1, 2, 3, 1, 2, 3, 1, 2, 3, 1, 2, 3, 1, 2, 3, 1, 2, 3, 1, 2, 3], \"Freq\": [0.19992279127295198, 0.39984558254590397, 0.39984558254590397, 0.18134122468372701, 0.3445483268990813, 0.47148718417769026, 0.22520571097388425, 0.26615220387822686, 0.5067128496912395, 0.40685377904109676, 0.40685377904109676, 0.40685377904109676, 0.27486057369866557, 0.2245339897820085, 0.5013302013236224, 0.1899347431924255, 0.3136131806200514, 0.4991308367614903, 0.1706074183121129, 0.42651854578028225, 0.42651854578028225, 0.1968751884192073, 0.1968751884192073, 0.6234380966608231, 0.18141733764411846, 0.18141733764411846, 0.6168189479900028, 0.22375101717161708, 0.2000198486837183, 0.5763283775632562, 0.22696621461639, 0.28712593415326443, 0.48674682170743877, 0.14815233347944992, 0.3703808336986248, 0.4444570004383498, 0.16395400589411235, 0.2164192877802283, 0.6197461422797447, 0.24654582334290984, 0.25462929296071013, 0.49915424889916993, 0.40672694418721317, 0.40672694418721317, 0.40672694418721317, 0.25477250289594333, 0.3015674524074431, 0.444552020359248, 0.3611193186851381, 0.7222386373702762, 0.21810519734768488, 0.43621039469536976, 0.43621039469536976, 0.3369671602683371, 0.2197611914793503, 0.4395223829587006, 0.33138335375109973, 0.28167585068843476, 0.3810908568137647, 0.415055915252757, 0.415055915252757, 0.415055915252757, 0.1473477535816075, 0.44204326074482253, 0.44204326074482253, 0.18744778176397933, 0.3408141486617806, 0.4771398081264928, 0.3053851558078742, 0.3053851558078742, 0.3053851558078742, 0.2174337121850102, 0.21139388684653768, 0.573783407154888, 0.21388636295808366, 0.2273746921536385, 0.5588022095301285, 0.1864507941174629, 0.1864507941174629, 0.6215026470582097, 0.41795210893494406, 0.41795210893494406, 0.41795210893494406, 0.23097053327681868, 0.1796437481041923, 0.5902580294852032, 0.26148108942811904, 0.2993270365821889, 0.44038920324735836, 0.2957617855917951, 0.23966903315197188, 0.4640400429112647, 0.3742601161133064, 0.2339125725708165, 0.3742601161133064, 0.2990366848150592, 0.2990366848150592, 0.2990366848150592, 0.40106089821892776, 0.40106089821892776, 0.40106089821892776, 0.3750333006814187, 0.22501998040885124, 0.4500399608177025, 0.3536991113100704, 0.1768495556550352, 0.3536991113100704, 0.23651343900228916, 0.1892107512018313, 0.5738021694055537, 0.19387351849268197, 0.20055881223380892, 0.6083617304425537, 0.18339913870405966, 0.23399200455345542, 0.5818179572680513, 0.24036332569110463, 0.36054498853665695, 0.48072665138220927, 0.2429300355155352, 0.404883392525892, 0.404883392525892, 0.18418038222249083, 0.18418038222249083, 0.6281023291177251, 0.332071518632373, 0.2682116112030705, 0.408703407547536, 0.3588303921704378, 0.7176607843408755, 0.17441072538448743, 0.37788990499972275, 0.4360268134612186, 0.1851199202501633, 0.3702398405003266, 0.4165198205628674, 0.15382789949398445, 0.15382789949398445, 0.6153115979759378, 0.20927070712788062, 0.18465062393636525, 0.6031920381921265, 0.2000450961693685, 0.400090192338737, 0.400090192338737, 0.49141261112743545, 0.24570630556371773, 0.49141261112743545, 0.1965496060942425, 0.1965496060942425, 0.6012105598176829, 0.28132494276082204, 0.23329385497238903, 0.4837416698692184, 0.5402931839156256, 0.19574770525589277, 0.20662257777010906, 0.5981179882818947, 0.1975801173658013, 0.3402768687966578, 0.46102027385353633, 0.4021541254740661, 0.4021541254740661, 0.2341207403727602, 0.2233812568694226, 0.5412699685682163, 0.31358042515930873, 0.17769557425694163, 0.5086971341473231, 0.18938366224325515, 0.19276551335474185, 0.6154969022905792, 0.22085273098099845, 0.21687340249485432, 0.5630749807893924, 0.231025333983782, 0.22510160747137734, 0.5449828391412294, 0.2590741166005636, 0.3022531360339909, 0.4404259982209581, 0.29731324847669127, 0.19503749100070947, 0.5066217754042819, 0.24812104531168325, 0.2921425210927883, 0.45622256718599824, 0.21597634525883708, 0.2224556356166022, 0.5615384976729764, 0.21860551846069326, 0.251163787167605, 0.5302346617982773, 0.3525367437843451, 0.26440255783825883, 0.3525367437843451, 0.1863722159467857, 0.21299681822489797, 0.6123658523965816, 0.22437837603948974, 0.3739639600658162, 0.3739639600658162, 0.24193875379382443, 0.25617044519346116, 0.5004811475538917, 0.26691471280118634, 0.26691471280118634, 0.5338294256023727, 0.22686045402252078, 0.3334161218209775, 0.43997178961943423, 0.28004685869641527, 0.2069911564277852, 0.5144339034749368, 0.21736372497521472, 0.2296673320492835, 0.5536623183330941, 0.26182812897066576, 0.1844180734489037, 0.5532542203467111, 0.21941516969343186, 0.23295931597080421, 0.5471835096058424, 0.11927792954604241, 0.23855585909208482, 0.5963896477302121, 0.17315064017576, 0.34630128035152, 0.48482179249212803, 0.26969860553218844, 0.2853182158911955, 0.4446382415530674, 0.458909476325155, 0.30593965088343666, 0.30593965088343666, 0.24451361856071216, 0.4890272371214243, 0.4890272371214243, 0.25080606451400766, 0.2274752678150302, 0.5229986926687447, 0.26644850669862613, 0.20852491828588132, 0.525173868275553, 0.3607770423467509, 0.3607770423467509, 0.7215540846935018, 0.3096233373946023, 0.21947983410250288, 0.470313930219649, 0.17666388330308874, 0.2888314282574308, 0.5327958385331247, 0.21737449632711728, 0.23741611655585856, 0.5442070723650524, 0.17857492483986218, 0.17857492483986218, 0.7142996993594487, 0.1427251455169589, 0.35681286379239724, 0.46385672293011637, 0.22044335060204923, 0.3857758635535862, 0.3857758635535862, 0.3016129244480056, 0.25313941873314755, 0.441647496513151, 0.2881139054931369, 0.28242744683208815, 0.4302753720193558, 0.154562080252906, 0.20608277367054134, 0.618248321011624, 0.24242761245681213, 0.48485522491362426, 0.48485522491362426, 0.27690878573696937, 0.28301706777528485, 0.4418324007714879, 0.6059379628473058, 0.6059379628473058, 0.34048110456831643, 0.2021606558374379, 0.4575214842636752, 0.216957304887587, 0.216957304887587, 0.650871914662761, 0.2685732702120468, 0.2685732702120468, 0.5371465404240936, 0.40727888165858595, 0.23273078951919196, 0.37818753296868696, 0.22201805274352077, 0.2879296621517535, 0.4891335224505692, 0.23070142831653737, 0.26519883815826256, 0.5045246189352313, 0.21635131922028158, 0.3894323745965068, 0.43270263844056317, 0.29166767529199084, 0.2618119290022595, 0.44553959847752933, 0.27934642870486365, 0.22275469530344733, 0.49848888570609295, 0.2692380503558374, 0.2692380503558374, 0.5384761007116748, 0.2891380837292211, 0.23885319960240006, 0.4714207886889475, 0.3425485996384148, 0.2283657330922765, 0.4404196281065333, 0.20697694322743676, 0.3794577292503007, 0.4139538864548735, 0.2115260200813325, 0.3254246462789731, 0.46644199299986144, 0.23726652450308755, 0.4745330490061751, 0.4745330490061751, 0.36083871953780683, 0.24055914635853787, 0.36083871953780683, 0.18063989102180078, 0.18063989102180078, 0.5419196730654023, 0.21643927219500703, 0.21643927219500703, 0.6493178165850211, 0.26952514142124406, 0.26952514142124406, 0.5390502828424881, 0.27070686862742976, 0.27070686862742976, 0.5414137372548595, 0.1506631230376013, 0.45198936911280385, 0.45198936911280385, 0.23798989553908903, 0.15299350427512867, 0.6119740171005147, 0.26700098069395756, 0.21296506793446615, 0.5196983374221674, 0.235671954381835, 0.22070865569092482, 0.544289989881857, 0.2049788308639136, 0.380674971604411, 0.43924035185124344, 0.24235368921363773, 0.1960440670709044, 0.5618900819984977, 0.20979156676959712, 0.23820084143631337, 0.5507028627701924, 0.48962315906520626, 0.24481157953260313, 0.48962315906520626, 0.13563905263345308, 0.36170414035587484, 0.49734319298932794, 0.2378826218017093, 0.23457869649890778, 0.5269760857968422, 0.3482396184930963, 0.26117971386982225, 0.4062795549086124, 0.20810500164123602, 0.3427611791738005, 0.45293441533680784, 0.2154303546942387, 0.17934842336613963, 0.6049029663828378, 0.3128782113645068, 0.1848825794426631, 0.5048716592472723, 0.4096237613322308, 0.24577425679933848, 0.4096237613322308, 0.2675120668009635, 0.24596747081699333, 0.4847534096393299, 0.24595842143398136, 0.26744993398646516, 0.487140951189633, 0.2133539011819345, 0.2133539011819345, 0.5750147824537504, 0.2185105124541257, 0.2552895095998696, 0.5257233121421044, 0.2942703788062008, 0.2942703788062008, 0.5885407576124017, 0.31021753905464317, 0.22254736497398311, 0.4653263085819647, 0.3956612290763327, 0.3956612290763327, 0.30848152620700636, 0.30848152620700636, 0.30848152620700636, 0.6056147204650231, 0.6056147204650231, 0.1724517415829113, 0.2155646769786391, 0.6466940309359173, 0.1822937739811323, 0.21267606964465435, 0.6076459132704409, 0.2889625649743654, 0.17489839458974749, 0.534834221136764, 0.28135348816185823, 0.2848269880157083, 0.4341874817312627, 0.21366909891594144, 0.17805758242995118, 0.605395780261834, 0.25291922347711643, 0.2856499465153315, 0.46120564281121235, 0.22479084824081808, 0.2939572630841467, 0.47984200297559243, 0.2812190968471388, 0.23066285471731607, 0.4897635956326574, 0.15451153509726465, 0.15451153509726465, 0.6180461403890586, 0.23170935496554837, 0.2272101441895183, 0.5399052931236078, 0.23278877559393957, 0.25233592468961386, 0.515333930704141, 0.3428268221294156, 0.2628338969658853, 0.3999646258176516, 0.20431597931011766, 0.4086319586202353, 0.4086319586202353, 0.22807129163128664, 0.2158531867224677, 0.5559237733512612, 0.2152318855000943, 0.2152318855000943, 0.6456956565002829, 0.29136805923392955, 0.23131510046052423, 0.4781994865289684, 0.20518395572650205, 0.23110192908142865, 0.563715920469653, 0.594773574209233, 0.594773574209233, 0.22429171264611825, 0.3249941142423346, 0.4485834252922365, 0.263664719446645, 0.2131929125081601, 0.5232916943382111, 0.48078497868629055, 0.24039248934314528, 0.48078497868629055, 0.17938864143758027, 0.17938864143758027, 0.7175545657503211, 0.41200299420072317, 0.41200299420072317, 0.41200299420072317, 0.2827205306138414, 0.2300760180167813, 0.48744919071351966, 0.607076459313148, 0.607076459313148, 0.21727682520693975, 0.3031769654050322, 0.4800301952246343, 0.1951087984889485, 0.34144039735565984, 0.4682611163734764, 0.21256459594365823, 0.21256459594365823, 0.6376937878309746, 0.20721569722922775, 0.22058445188917794, 0.5715142617128701, 0.26493388610324425, 0.22507657580452609, 0.5087668432248141, 0.47961555675917006, 0.23980777837958503, 0.47961555675917006, 0.33561656871076945, 0.19104327757382258, 0.47330541741262355, 0.20258218053863392, 0.2836150527540875, 0.5119804199067294, 0.6055868645072122, 0.6055868645072122, 0.3101843846266876, 0.3101843846266876, 0.3101843846266876, 0.31240171911097503, 0.22872268720624958, 0.46302397653948085, 0.2130899919703901, 0.20421124230495719, 0.5815581030858563, 0.23761239479222707, 0.25345322111170887, 0.5091694174119151, 0.16808091986666523, 0.34380188154545166, 0.48896267597575344, 0.21674824993150107, 0.21674824993150107, 0.6502447497945032, 0.1906799312541423, 0.23341853653524314, 0.5753273787840499, 0.21670337717248533, 0.3611722952874756, 0.3611722952874756, 0.39890399227909984, 0.39890399227909984, 0.29356761739031256, 0.18837255449211723, 0.5186361240562188, 0.19639141247493316, 0.20892703454780123, 0.5933527781157555, 0.6046041332399258, 0.6046041332399258, 0.19174538987982506, 0.21345241514923924, 0.5933253573639871, 0.2562307021712086, 0.25831387861162486, 0.4853801106170048, 0.24165766772260305, 0.3624865015839046, 0.42290091851455536, 0.4844679230695824, 0.2422339615347912, 0.4844679230695824, 0.20938240446387774, 0.2032240984502343, 0.5881182243029507, 0.3058059769734471, 0.3058059769734471, 0.3058059769734471, 0.17777291469227643, 0.21332749763073172, 0.6083784191691238, 0.49150592002784294, 0.24575296001392147, 0.49150592002784294, 0.23424003771141172, 0.2807162356700251, 0.4852115066879243, 0.22268664599100157, 0.2560896428896518, 0.5210867516189437, 0.6090112154507801, 0.6090112154507801, 0.17900818735483504, 0.35801637470967007, 0.48587936567740936, 0.23315125023077546, 0.2839887408825987, 0.4820796527328064, 0.3624247071334659, 0.24797479961763458, 0.3814996917194378, 0.27482687776199816, 0.19848607838366533, 0.5267515157104965, 0.6021660766675858, 0.6021660766675858, 0.407290694381535, 0.407290694381535, 0.407290694381535, 0.21239422438019304, 0.21239422438019304, 0.5722844379132979, 0.4657599748233599, 0.3105066498822399, 0.3105066498822399, 0.26918012692974574, 0.26918012692974574, 0.5383602538594915, 0.2232922681546668, 0.15949447725333343, 0.606079013562667, 0.24622550028772155, 0.22836458316840497, 0.5256212752256025, 0.24790581856327004, 0.3069310134592867, 0.4485914812097267, 0.2432286194888191, 0.3445738776091604, 0.4053810324813652, 0.3037634109791499, 0.22364998390772572, 0.4740044435059262, 0.31107929814124197, 0.31107929814124197, 0.31107929814124197, 0.24168672924420123, 0.36253009386630186, 0.36253009386630186, 0.6064177039057135, 0.6064177039057135, 0.22232451689366325, 0.1966716880213175, 0.5857395925852282, 0.540703753851523, 0.15230339569451998, 0.15230339569451998, 0.6853652806253399, 0.24874945846591018, 0.16583297231060679, 0.6633318892424271, 0.19764581487408464, 0.23232051923795913, 0.5721326220039292, 0.23435887301291117, 0.24531022221912197, 0.5212842222156342, 0.22544581843420666, 0.36634945495558585, 0.4086205459119996, 0.33467759926854784, 0.16733879963427392, 0.5020163989028218, 0.27056624244072747, 0.27056624244072747, 0.5411324848814549, 0.33744602336511587, 0.24327504010043235, 0.4237694246910757, 0.19001211461438464, 0.33531549637832586, 0.48061887814226706, 0.41556763844389094, 0.41556763844389094, 0.41556763844389094, 0.23002206564478458, 0.3004369836993105, 0.4694327870301726, 0.4968566943014604, 0.2484283471507302, 0.2484283471507302, 0.19217770167956882, 0.36300232539474114, 0.437738098270129], \"Term\": [\"achoo\", \"achoo\", \"achoo\", \"action\", \"action\", \"action\", \"actually\", \"actually\", \"actually\", \"addressor\", \"addressor\", \"addressor\", \"adsbygoogle\", \"adsbygoogle\", \"adsbygoogle\", \"aii\", \"aii\", \"aii\", \"aimost\", \"aimost\", \"aimost\", \"alena\", \"alena\", \"alena\", \"alpha\", \"alpha\", \"alpha\", \"already\", \"already\", \"already\", \"always\", \"always\", \"always\", \"amell\", \"amell\", \"amell\", \"another\", \"another\", \"another\", \"anything\", \"anything\", \"anything\", \"apartmentis\", \"apartmentis\", \"apartmentis\", \"away\", \"away\", \"away\", \"ballardwill\", \"ballardwill\", \"bamford\", \"bamford\", \"bamford\", \"bank\", \"bank\", \"bank\", \"barry\", \"barry\", \"barry\", \"bart\", \"bart\", \"bart\", \"basicaiiy\", \"basicaiiy\", \"basicaiiy\", \"bee\", \"bee\", \"bee\", \"beenmy\", \"beenmy\", \"beenmy\", \"believe\", \"believe\", \"believe\", \"better\", \"better\", \"better\", \"bianca\", \"bianca\", \"bianca\", \"bionumeric\", \"bionumeric\", \"bionumeric\", \"black\", \"black\", \"black\", \"block\", \"block\", \"block\", \"blood\", \"blood\", \"blood\", \"boomerang\", \"boomerang\", \"boomerang\", \"burnett\", \"burnett\", \"burnett\", \"butter\", \"butter\", \"butter\", \"byrd\", \"byrd\", \"byrd\", \"byrne\", \"byrne\", \"byrne\", \"call\", \"call\", \"call\", \"captain\", \"captain\", \"captain\", \"care\", \"care\", \"care\", \"carrie\", \"carrie\", \"carrie\", \"castaway\", \"castaway\", \"castaway\", \"cayden\", \"cayden\", \"cayden\", \"central\", \"central\", \"central\", \"certainlyhope\", \"certainlyhope\", \"character\", \"character\", \"character\", \"chattering\", \"chattering\", \"chattering\", \"chef\", \"chef\", \"chef\", \"church\", \"church\", \"church\", \"ciose\", \"ciose\", \"ciose\", \"clacking\", \"clacking\", \"clacking\", \"clearly\", \"clearly\", \"clearly\", \"com\", \"com\", \"com\", \"convincethe\", \"cool\", \"cool\", \"cool\", \"couid\", \"couid\", \"couid\", \"couture\", \"couture\", \"dad\", \"dad\", \"dad\", \"darhk\", \"darhk\", \"darhk\", \"daughter\", \"daughter\", \"daughter\", \"day\", \"day\", \"day\", \"dead\", \"dead\", \"dead\", \"death\", \"death\", \"death\", \"diaz\", \"diaz\", \"diaz\", \"diggle\", \"diggle\", \"diggle\", \"doe\", \"doe\", \"doe\", \"done\", \"done\", \"done\", \"dramatic\", \"dramatic\", \"dramatic\", \"dy\", \"dy\", \"dy\", \"eise\", \"eise\", \"eise\", \"else\", \"else\", \"else\", \"endangerthe\", \"endangerthe\", \"endangerthe\", \"enough\", \"enough\", \"enough\", \"every\", \"every\", \"every\", \"everything\", \"everything\", \"everything\", \"family\", \"family\", \"family\", \"father\", \"father\", \"father\", \"faust\", \"faust\", \"faust\", \"feiicity\", \"feiicity\", \"feiicity\", \"felicity\", \"felicity\", \"felicity\", \"fence\", \"fence\", \"fence\", \"finance\", \"finance\", \"finance\", \"fine\", \"fine\", \"fine\", \"first\", \"first\", \"first\", \"flynn\", \"flynn\", \"flynn\", \"format\", \"format\", \"format\", \"found\", \"found\", \"found\", \"friend\", \"friend\", \"friend\", \"george\", \"george\", \"george\", \"giades\", \"giades\", \"giades\", \"giri\", \"giri\", \"giri\", \"girl\", \"girl\", \"girl\", \"give\", \"give\", \"give\", \"grand\", \"grand\", \"grand\", \"gravano\", \"gravano\", \"gravano\", \"green\", \"green\", \"green\", \"gt\", \"gt\", \"guard\", \"guard\", \"guard\", \"guyand\", \"guyand\", \"guyand\", \"happenedafter\", \"happenedafter\", \"happenedafter\", \"harkness\", \"harkness\", \"harkness\", \"head\", \"head\", \"head\", \"heh\", \"heh\", \"heh\", \"heiena\", \"heiena\", \"heiena\", \"hell\", \"hell\", \"hell\", \"help\", \"help\", \"help\", \"herinvolvement\", \"herinvolvement\", \"herinvolvement\", \"home\", \"home\", \"home\", \"human\", \"human\", \"human\", \"ieft\", \"ieft\", \"ieft\", \"iike\", \"iike\", \"iike\", \"iistened\", \"iistened\", \"iistened\", \"inspire\", \"inspire\", \"inspire\", \"intern\", \"intern\", \"intern\", \"investigated\", \"investigated\", \"investigated\", \"isall\", \"isall\", \"isall\", \"iskilling\", \"iskilling\", \"iskilling\", \"jesse\", \"jesse\", \"jesse\", \"jj\", \"jj\", \"jj\", \"john\", \"john\", \"john\", \"keep\", \"keep\", \"keep\", \"kiii\", \"kiii\", \"kiii\", \"kill\", \"kill\", \"kill\", \"killed\", \"killed\", \"killed\", \"klaus\", \"klaus\", \"klaus\", \"kreisberg\", \"kreisberg\", \"kreisberg\", \"last\", \"last\", \"last\", \"laugh\", \"laugh\", \"laugh\", \"laurei\", \"laurei\", \"laurei\", \"laurel\", \"laurel\", \"laurel\", \"lead\", \"lead\", \"lead\", \"lightning\", \"lightning\", \"lightning\", \"little\", \"little\", \"little\", \"long\", \"long\", \"long\", \"lot\", \"lot\", \"lot\", \"love\", \"love\", \"love\", \"macgregor\", \"macgregor\", \"macgregor\", \"made\", \"made\", \"made\", \"mannheim\", \"mannheim\", \"markos\", \"markos\", \"markos\", \"marriageerased\", \"marriageerased\", \"masked\", \"masked\", \"masked\", \"mia\", \"mia\", \"mia\", \"might\", \"might\", \"might\", \"minute\", \"minute\", \"minute\", \"mirakuru\", \"mirakuru\", \"mirakuru\", \"mom\", \"mom\", \"mom\", \"money\", \"money\", \"money\", \"mother\", \"mother\", \"mother\", \"mourn\", \"mourn\", \"mourn\", \"move\", \"move\", \"move\", \"much\", \"much\", \"much\", \"music\", \"music\", \"music\", \"myron\", \"myron\", \"myron\", \"name\", \"name\", \"name\", \"nanite\", \"nanite\", \"nanite\", \"new\", \"new\", \"new\", \"night\", \"night\", \"night\", \"ofweapons\", \"ofweapons\", \"oiiver\", \"oiiver\", \"oiiver\", \"oliver\", \"oliver\", \"oliver\", \"onewith\", \"onewith\", \"onewith\", \"outall\", \"outall\", \"outall\", \"packet\", \"packet\", \"packet\", \"pagead\", \"pagead\", \"pagead\", \"passthat\", \"passthat\", \"past\", \"past\", \"past\", \"peopie\", \"peopie\", \"peopie\", \"persuasively\", \"persuasively\", \"persuasively\", \"phone\", \"phone\", \"phone\", \"place\", \"place\", \"place\", \"pleading\", \"pleading\", \"pleading\", \"please\", \"please\", \"please\", \"point\", \"point\", \"point\", \"possesstrue\", \"possesstrue\", \"printed\", \"printed\", \"printed\", \"prison\", \"prison\", \"prison\", \"promise\", \"promise\", \"promise\", \"put\", \"put\", \"put\", \"reaiiy\", \"reaiiy\", \"reaiiy\", \"reed\", \"reed\", \"reed\", \"rene\", \"rene\", \"rene\", \"reston\", \"reston\", \"reston\", \"rickards\", \"rickards\", \"roy\", \"roy\", \"roy\", \"run\", \"run\", \"run\", \"rushing\", \"rushing\", \"safe\", \"safe\", \"safe\", \"sara\", \"sara\", \"sara\", \"savage\", \"savage\", \"savage\", \"scrambler\", \"scrambler\", \"scrambler\", \"second\", \"second\", \"second\", \"shaped\", \"shaped\", \"shaped\", \"slade\", \"slade\", \"slade\", \"somber\", \"somber\", \"somber\", \"someone\", \"someone\", \"someone\", \"son\", \"son\", \"son\", \"spotthat\", \"spotthat\", \"stiii\", \"stiii\", \"stiii\", \"stop\", \"stop\", \"stop\", \"straight\", \"straight\", \"straight\", \"subslikescript\", \"subslikescript\", \"subslikescript\", \"suggeststhe\", \"suggeststhe\", \"tarallo\", \"tarallo\", \"tarallo\", \"team\", \"team\", \"team\", \"tender\", \"tender\", \"tender\", \"thatsince\", \"thatsince\", \"thatsince\", \"thatwe\", \"thatwe\", \"thatwe\", \"thea\", \"thea\", \"thea\", \"three\", \"three\", \"three\", \"toid\", \"toid\", \"toid\", \"took\", \"took\", \"took\", \"treasury\", \"treasury\", \"treasury\", \"truiy\", \"truiy\", \"truiy\", \"tstart\", \"tstart\", \"understand\", \"understand\", \"understand\", \"unfixable\", \"vanch\", \"vanch\", \"vanch\", \"vasquez\", \"vasquez\", \"vasquez\", \"vigilante\", \"vigilante\", \"vigilante\", \"wait\", \"wait\", \"wait\", \"waiter\", \"waiter\", \"waiter\", \"walczak\", \"walczak\", \"walczak\", \"warmer\", \"warmer\", \"warmer\", \"whoa\", \"whoa\", \"whoa\", \"wiii\", \"wiii\", \"wiii\", \"wilcott\", \"wilcott\", \"wilcott\", \"woman\", \"woman\", \"woman\", \"worldwho\", \"worldwho\", \"worldwho\", \"wouid\", \"wouid\", \"wouid\"]}, \"R\": 30, \"lambda.step\": 0.01, \"plot.opts\": {\"xlab\": \"PC1\", \"ylab\": \"PC2\"}, \"topic.order\": [1, 2, 3]};\n",
       "\n",
       "function LDAvis_load_lib(url, callback){\n",
       "  var s = document.createElement('script');\n",
       "  s.src = url;\n",
       "  s.async = true;\n",
       "  s.onreadystatechange = s.onload = callback;\n",
       "  s.onerror = function(){console.warn(\"failed to load library \" + url);};\n",
       "  document.getElementsByTagName(\"head\")[0].appendChild(s);\n",
       "}\n",
       "\n",
       "if(typeof(LDAvis) !== \"undefined\"){\n",
       "   // already loaded: just create the visualization\n",
       "   !function(LDAvis){\n",
       "       new LDAvis(\"#\" + \"ldavis_el160951398444354419208261267737\", ldavis_el160951398444354419208261267737_data);\n",
       "   }(LDAvis);\n",
       "}else if(typeof define === \"function\" && define.amd){\n",
       "   // require.js is available: use it to load d3/LDAvis\n",
       "   require.config({paths: {d3: \"https://d3js.org/d3.v5\"}});\n",
       "   require([\"d3\"], function(d3){\n",
       "      window.d3 = d3;\n",
       "      LDAvis_load_lib(\"https://cdn.jsdelivr.net/gh/bmabey/pyLDAvis@3.3.1/pyLDAvis/js/ldavis.v3.0.0.js\", function(){\n",
       "        new LDAvis(\"#\" + \"ldavis_el160951398444354419208261267737\", ldavis_el160951398444354419208261267737_data);\n",
       "      });\n",
       "    });\n",
       "}else{\n",
       "    // require.js not available: dynamically load d3 & LDAvis\n",
       "    LDAvis_load_lib(\"https://d3js.org/d3.v5.js\", function(){\n",
       "         LDAvis_load_lib(\"https://cdn.jsdelivr.net/gh/bmabey/pyLDAvis@3.3.1/pyLDAvis/js/ldavis.v3.0.0.js\", function(){\n",
       "                 new LDAvis(\"#\" + \"ldavis_el160951398444354419208261267737\", ldavis_el160951398444354419208261267737_data);\n",
       "            })\n",
       "         });\n",
       "}\n",
       "</script>"
      ],
      "text/plain": [
       "PreparedData(topic_coordinates=              x         y  topics  cluster       Freq\n",
       "topic                                                \n",
       "0      0.002406 -0.001296       1        1  24.821576\n",
       "1     -0.002578 -0.001053       2        1  24.417736\n",
       "2      0.000172  0.002348       3        1  50.760688, topic_info=          Term         Freq        Total Category  logprob  loglift\n",
       "484     oliver  2476.000000  2476.000000  Default  30.0000  30.0000\n",
       "1525  felicity   960.000000   960.000000  Default  29.0000  29.0000\n",
       "292       give   527.000000   527.000000  Default  28.0000  28.0000\n",
       "515     please   581.000000   581.000000  Default  27.0000  27.0000\n",
       "333       help   830.000000   830.000000  Default  26.0000  26.0000\n",
       "...        ...          ...          ...      ...      ...      ...\n",
       "2844      stop   275.330110   570.445150   Topic3  -6.2872  -0.0504\n",
       "415     little   270.426058   556.984220   Topic3  -6.3051  -0.0445\n",
       "515     please   275.436847   581.020182   Topic3  -6.2868  -0.0684\n",
       "637    someone   260.980141   537.909749   Topic3  -6.3407  -0.0452\n",
       "496     pagead   250.130176   512.873967   Topic3  -6.3831  -0.0400\n",
       "\n",
       "[307 rows x 6 columns], token_table=       Topic      Freq      Term\n",
       "term                            \n",
       "25198      1  0.199923     achoo\n",
       "25198      2  0.399846     achoo\n",
       "25198      3  0.399846     achoo\n",
       "3904       1  0.181341    action\n",
       "3904       2  0.344548    action\n",
       "...      ...       ...       ...\n",
       "17509      2  0.248428  worldwho\n",
       "17509      3  0.248428  worldwho\n",
       "3228       1  0.192178     wouid\n",
       "3228       2  0.363002     wouid\n",
       "3228       3  0.437738     wouid\n",
       "\n",
       "[669 rows x 3 columns], R=30, lambda_step=0.01, plot_opts={'xlab': 'PC1', 'ylab': 'PC2'}, topic_order=[1, 2, 3])"
      ]
     },
     "execution_count": 272,
     "metadata": {},
     "output_type": "execute_result"
    }
   ],
   "source": [
    "import pickle \n",
    "import pyLDAvis\n",
    "import pyLDAvis.gensim_models\n",
    "import os\n",
    "\n",
    "\n",
    "# Visualize the topics\n",
    "pyLDAvis.enable_notebook()\n",
    "\n",
    "LDAvis_data_filepath = os.path.join('Data/prepared_'+str(num_topics))\n",
    "\n",
    "# # this is a bit time consuming - make the if statement True\n",
    "# # if you want to execute visualization prep yourself\n",
    "if 1 == 1:\n",
    "    LDAvis_prepared = pyLDAvis.gensim_models.prepare(lda_model, corpus, id2word, sort_topics=False)\n",
    "    with open(LDAvis_data_filepath, 'wb') as f:\n",
    "        pickle.dump(LDAvis_prepared, f)\n",
    "\n",
    "# load the pre-prepared pyLDAvis data from disk\n",
    "with open(LDAvis_data_filepath, 'rb') as f:\n",
    "    LDAvis_prepared = pickle.load(f)\n",
    "\n",
    "pyLDAvis.save_html(LDAvis_prepared, 'Data/prepared_'+ str(num_topics) +'.html')\n",
    "\n",
    "LDAvis_prepared"
   ]
  },
  {
   "cell_type": "markdown",
   "metadata": {
    "id": "xFfAvt4k8Jed"
   },
   "source": [
    "## Topicos\n",
    "\n",
    "1 - \n",
    "2 - \n",
    "3 - "
   ]
  },
  {
   "cell_type": "code",
   "execution_count": 294,
   "metadata": {
    "id": "3X0_soJw8Jed",
    "outputId": "e332cc4e-13dd-4841-c494-823decb688a6"
   },
   "outputs": [
    {
     "name": "stderr",
     "output_type": "stream",
     "text": [
      "/home/anna/anaconda3/lib/python3.8/site-packages/ipykernel/ipkernel.py:287: DeprecationWarning: `should_run_async` will not call `transform_cell` automatically in the future. Please pass the result to `transformed_cell` argument and any exception that happen during thetransform in `preprocessing_exc_tuple` in IPython 7.17 and above.\n",
      "  and should_run_async(code)\n"
     ]
    }
   ],
   "source": [
    "topic_scores = [[topic_score[1] for topic_score in sent] for sent in doc_lda]\n",
    "\n",
    "\n",
    "\n",
    "# #topics\n",
    "# 1 - Episodios mais genericos/aventura/acao \n",
    "\n",
    "# [(0,\n",
    "#   '0.009*\"oliver\" + 0.004*\"felicity\" + 0.003*\"help\" + 0.003*\"laurel\" + '\n",
    "#   '0.003*\"please\" + 0.003*\"thea\" + 0.002*\"john\" + 0.002*\"father\" + '\n",
    "#   '0.002*\"kill\" + 0.002*\"give\"'),\n",
    "\n",
    "# #2 - Episodios mais familia \n",
    "\n",
    "#  (1,\n",
    "#   '0.007*\"oliver\" + 0.004*\"felicity\" + 0.003*\"help\" + 0.003*\"thea\" + '\n",
    "#   '0.002*\"father\" + 0.002*\"laurel\" + 0.002*\"stop\" + 0.002*\"friend\" + '\n",
    "#   '0.002*\"someone\" + 0.002*\"give\"'),\n",
    "\n",
    "\n",
    "# #3  -  Episodios com mais romance? visto que laurel e felicity foram par romantico de oliver (personagem principal)\n",
    "\n",
    "#  (2,\n",
    "#   '0.009*\"oliver\" + 0.004*\"laurel\" + 0.003*\"felicity\" + 0.003*\"help\" + '\n",
    "#   '0.003*\"thea\" + 0.003*\"father\" + 0.002*\"kill\" + 0.002*\"friend\" + '\n",
    "#   '0.002*\"john\" + 0.002*\"last\"')]"
   ]
  },
  {
   "cell_type": "markdown",
   "metadata": {
    "id": "FkQEjSAV8Jed"
   },
   "source": [
    "-----------------------------------------------------------------------------------------------------------"
   ]
  },
  {
   "cell_type": "markdown",
   "metadata": {
    "id": "qVee8VtW8Jee"
   },
   "source": [
    "# Dataframe with scores of each topic, where each line is the index of txt (script of the episode)\n"
   ]
  },
  {
   "cell_type": "code",
   "execution_count": 295,
   "metadata": {
    "id": "9gg8rxrl8Jef",
    "outputId": "0b414e3d-fbb9-4fb5-b359-bebfc37f28c8"
   },
   "outputs": [
    {
     "name": "stderr",
     "output_type": "stream",
     "text": [
      "/home/anna/anaconda3/lib/python3.8/site-packages/ipykernel/ipkernel.py:287: DeprecationWarning: `should_run_async` will not call `transform_cell` automatically in the future. Please pass the result to `transformed_cell` argument and any exception that happen during thetransform in `preprocessing_exc_tuple` in IPython 7.17 and above.\n",
      "  and should_run_async(code)\n"
     ]
    }
   ],
   "source": [
    "df_topics = pd.DataFrame(topic_scores)"
   ]
  },
  {
   "cell_type": "code",
   "execution_count": 296,
   "metadata": {
    "id": "nxKknsR38Jef",
    "outputId": "3e67e779-d743-4758-c081-1e26205f62ac"
   },
   "outputs": [
    {
     "name": "stderr",
     "output_type": "stream",
     "text": [
      "/home/anna/anaconda3/lib/python3.8/site-packages/ipykernel/ipkernel.py:287: DeprecationWarning: `should_run_async` will not call `transform_cell` automatically in the future. Please pass the result to `transformed_cell` argument and any exception that happen during thetransform in `preprocessing_exc_tuple` in IPython 7.17 and above.\n",
      "  and should_run_async(code)\n"
     ]
    },
    {
     "data": {
      "text/plain": [
       "165"
      ]
     },
     "execution_count": 296,
     "metadata": {},
     "output_type": "execute_result"
    }
   ],
   "source": [
    "len(df_topics)"
   ]
  },
  {
   "cell_type": "code",
   "execution_count": 297,
   "metadata": {
    "id": "yxBej7378Jef",
    "outputId": "1e82f748-af89-4af0-bbd4-1e72776a0002"
   },
   "outputs": [
    {
     "name": "stderr",
     "output_type": "stream",
     "text": [
      "/home/anna/anaconda3/lib/python3.8/site-packages/ipykernel/ipkernel.py:287: DeprecationWarning: `should_run_async` will not call `transform_cell` automatically in the future. Please pass the result to `transformed_cell` argument and any exception that happen during thetransform in `preprocessing_exc_tuple` in IPython 7.17 and above.\n",
      "  and should_run_async(code)\n"
     ]
    },
    {
     "data": {
      "text/html": [
       "<div>\n",
       "<style scoped>\n",
       "    .dataframe tbody tr th:only-of-type {\n",
       "        vertical-align: middle;\n",
       "    }\n",
       "\n",
       "    .dataframe tbody tr th {\n",
       "        vertical-align: top;\n",
       "    }\n",
       "\n",
       "    .dataframe thead th {\n",
       "        text-align: right;\n",
       "    }\n",
       "</style>\n",
       "<table border=\"1\" class=\"dataframe\">\n",
       "  <thead>\n",
       "    <tr style=\"text-align: right;\">\n",
       "      <th></th>\n",
       "      <th>0</th>\n",
       "      <th>1</th>\n",
       "      <th>2</th>\n",
       "    </tr>\n",
       "  </thead>\n",
       "  <tbody>\n",
       "    <tr>\n",
       "      <th>160</th>\n",
       "      <td>0.329553</td>\n",
       "      <td>0.142161</td>\n",
       "      <td>0.528286</td>\n",
       "    </tr>\n",
       "    <tr>\n",
       "      <th>161</th>\n",
       "      <td>0.838779</td>\n",
       "      <td>0.043262</td>\n",
       "      <td>0.117959</td>\n",
       "    </tr>\n",
       "    <tr>\n",
       "      <th>162</th>\n",
       "      <td>0.053331</td>\n",
       "      <td>0.066359</td>\n",
       "      <td>0.880309</td>\n",
       "    </tr>\n",
       "    <tr>\n",
       "      <th>163</th>\n",
       "      <td>0.994125</td>\n",
       "      <td>NaN</td>\n",
       "      <td>NaN</td>\n",
       "    </tr>\n",
       "    <tr>\n",
       "      <th>164</th>\n",
       "      <td>0.997348</td>\n",
       "      <td>NaN</td>\n",
       "      <td>NaN</td>\n",
       "    </tr>\n",
       "  </tbody>\n",
       "</table>\n",
       "</div>"
      ],
      "text/plain": [
       "            0         1         2\n",
       "160  0.329553  0.142161  0.528286\n",
       "161  0.838779  0.043262  0.117959\n",
       "162  0.053331  0.066359  0.880309\n",
       "163  0.994125       NaN       NaN\n",
       "164  0.997348       NaN       NaN"
      ]
     },
     "execution_count": 297,
     "metadata": {},
     "output_type": "execute_result"
    }
   ],
   "source": [
    "df_topics.tail()"
   ]
  },
  {
   "cell_type": "code",
   "execution_count": 298,
   "metadata": {
    "id": "HTMoj9ez8Jeg",
    "outputId": "9a8ddb58-9899-4bf5-efab-afbbeded06c0"
   },
   "outputs": [
    {
     "name": "stderr",
     "output_type": "stream",
     "text": [
      "/home/anna/anaconda3/lib/python3.8/site-packages/ipykernel/ipkernel.py:287: DeprecationWarning: `should_run_async` will not call `transform_cell` automatically in the future. Please pass the result to `transformed_cell` argument and any exception that happen during thetransform in `preprocessing_exc_tuple` in IPython 7.17 and above.\n",
      "  and should_run_async(code)\n"
     ]
    }
   ],
   "source": [
    "df_topics.fillna(0,  inplace=True)"
   ]
  },
  {
   "cell_type": "code",
   "execution_count": 299,
   "metadata": {
    "id": "wXzgPli78Jeg",
    "outputId": "760ef1bf-dbee-4082-e679-2c03bf3da4be"
   },
   "outputs": [
    {
     "name": "stderr",
     "output_type": "stream",
     "text": [
      "/home/anna/anaconda3/lib/python3.8/site-packages/ipykernel/ipkernel.py:287: DeprecationWarning: `should_run_async` will not call `transform_cell` automatically in the future. Please pass the result to `transformed_cell` argument and any exception that happen during thetransform in `preprocessing_exc_tuple` in IPython 7.17 and above.\n",
      "  and should_run_async(code)\n"
     ]
    },
    {
     "data": {
      "text/plain": [
       "0    0.996021\n",
       "1    0.000000\n",
       "2    0.000000\n",
       "Name: 4, dtype: float64"
      ]
     },
     "execution_count": 299,
     "metadata": {},
     "output_type": "execute_result"
    }
   ],
   "source": [
    "df_topics.loc[4,:]   #scores dos topicos do script 4 "
   ]
  },
  {
   "cell_type": "markdown",
   "metadata": {
    "id": "eM4X2D928Jeh"
   },
   "source": [
    "# Dataframe concat\n",
    "## Concatenating the dataset with the raw script, the processed script and the episode name (df_parcial) with Dataframe with scores of each topic (df_topics)"
   ]
  },
  {
   "cell_type": "code",
   "execution_count": 300,
   "metadata": {
    "id": "P-biwnH58Jeh",
    "outputId": "5b0ceaff-84d2-4a29-e579-1df1e361e110"
   },
   "outputs": [
    {
     "name": "stderr",
     "output_type": "stream",
     "text": [
      "/home/anna/anaconda3/lib/python3.8/site-packages/ipykernel/ipkernel.py:287: DeprecationWarning: `should_run_async` will not call `transform_cell` automatically in the future. Please pass the result to `transformed_cell` argument and any exception that happen during thetransform in `preprocessing_exc_tuple` in IPython 7.17 and above.\n",
      "  and should_run_async(code)\n"
     ]
    }
   ],
   "source": [
    "df_concat = pd.concat([df_parcial, df_topics], axis=1) "
   ]
  },
  {
   "cell_type": "code",
   "execution_count": 301,
   "metadata": {
    "id": "lIj1sLy88Jeh",
    "outputId": "9249d571-d066-4b3e-b983-30fea7824fb8"
   },
   "outputs": [
    {
     "name": "stderr",
     "output_type": "stream",
     "text": [
      "/home/anna/anaconda3/lib/python3.8/site-packages/ipykernel/ipkernel.py:287: DeprecationWarning: `should_run_async` will not call `transform_cell` automatically in the future. Please pass the result to `transformed_cell` argument and any exception that happen during thetransform in `preprocessing_exc_tuple` in IPython 7.17 and above.\n",
      "  and should_run_async(code)\n"
     ]
    },
    {
     "data": {
      "text/html": [
       "<div>\n",
       "<style scoped>\n",
       "    .dataframe tbody tr th:only-of-type {\n",
       "        vertical-align: middle;\n",
       "    }\n",
       "\n",
       "    .dataframe tbody tr th {\n",
       "        vertical-align: top;\n",
       "    }\n",
       "\n",
       "    .dataframe thead th {\n",
       "        text-align: right;\n",
       "    }\n",
       "</style>\n",
       "<table border=\"1\" class=\"dataframe\">\n",
       "  <thead>\n",
       "    <tr style=\"text-align: right;\">\n",
       "      <th></th>\n",
       "      <th>nome_ep</th>\n",
       "      <th>Episodios</th>\n",
       "      <th>text_processed</th>\n",
       "      <th>0</th>\n",
       "      <th>1</th>\n",
       "      <th>2</th>\n",
       "    </tr>\n",
       "  </thead>\n",
       "  <tbody>\n",
       "    <tr>\n",
       "      <th>160</th>\n",
       "      <td>/series/Arrow-2193021/season-8/episode-6-Reset</td>\n",
       "      <td>PREVIOUSLY ON \"ARROW\"...THIS PLACE LOOKSEXACTL...</td>\n",
       "      <td>previously on \"arrow\"   this place looksexactl...</td>\n",
       "      <td>0.329553</td>\n",
       "      <td>0.142161</td>\n",
       "      <td>0.528286</td>\n",
       "    </tr>\n",
       "    <tr>\n",
       "      <th>161</th>\n",
       "      <td>/series/Arrow-2193021/season-8/episode-7-Purga...</td>\n",
       "      <td>Previously on \"Arrow\"...-I need your help, roy...</td>\n",
       "      <td>previously on \"arrow\"   -i need your help  roy...</td>\n",
       "      <td>0.838779</td>\n",
       "      <td>0.043262</td>\n",
       "      <td>0.117959</td>\n",
       "    </tr>\n",
       "    <tr>\n",
       "      <th>162</th>\n",
       "      <td>/series/Arrow-2193021/season-8/episode-8-Crisi...</td>\n",
       "      <td>Previously on Crisison Infinite Earths...There...</td>\n",
       "      <td>previously on crisison infinite earths   there...</td>\n",
       "      <td>0.053331</td>\n",
       "      <td>0.066359</td>\n",
       "      <td>0.880309</td>\n",
       "    </tr>\n",
       "    <tr>\n",
       "      <th>163</th>\n",
       "      <td>/series/Arrow-2193021/season-8/episode-9-Green...</td>\n",
       "      <td>bianca!bianca bertinelli?who the hell are you...</td>\n",
       "      <td>bianca bianca bertinelli who the hell are you...</td>\n",
       "      <td>0.994125</td>\n",
       "      <td>0.000000</td>\n",
       "      <td>0.000000</td>\n",
       "    </tr>\n",
       "    <tr>\n",
       "      <th>164</th>\n",
       "      <td>/series/Arrow-2193021/season-8/episode-10-Fadeout</td>\n",
       "      <td>[Oliver]My name is Oliver Queen.[gunshot][Oliv...</td>\n",
       "      <td>[oliver]my name is oliver queen [gunshot][oliv...</td>\n",
       "      <td>0.997348</td>\n",
       "      <td>0.000000</td>\n",
       "      <td>0.000000</td>\n",
       "    </tr>\n",
       "  </tbody>\n",
       "</table>\n",
       "</div>"
      ],
      "text/plain": [
       "                                               nome_ep  \\\n",
       "160     /series/Arrow-2193021/season-8/episode-6-Reset   \n",
       "161  /series/Arrow-2193021/season-8/episode-7-Purga...   \n",
       "162  /series/Arrow-2193021/season-8/episode-8-Crisi...   \n",
       "163  /series/Arrow-2193021/season-8/episode-9-Green...   \n",
       "164  /series/Arrow-2193021/season-8/episode-10-Fadeout   \n",
       "\n",
       "                                             Episodios  \\\n",
       "160  PREVIOUSLY ON \"ARROW\"...THIS PLACE LOOKSEXACTL...   \n",
       "161  Previously on \"Arrow\"...-I need your help, roy...   \n",
       "162  Previously on Crisison Infinite Earths...There...   \n",
       "163   bianca!bianca bertinelli?who the hell are you...   \n",
       "164  [Oliver]My name is Oliver Queen.[gunshot][Oliv...   \n",
       "\n",
       "                                        text_processed         0         1  \\\n",
       "160  previously on \"arrow\"   this place looksexactl...  0.329553  0.142161   \n",
       "161  previously on \"arrow\"   -i need your help  roy...  0.838779  0.043262   \n",
       "162  previously on crisison infinite earths   there...  0.053331  0.066359   \n",
       "163   bianca bianca bertinelli who the hell are you...  0.994125  0.000000   \n",
       "164  [oliver]my name is oliver queen [gunshot][oliv...  0.997348  0.000000   \n",
       "\n",
       "            2  \n",
       "160  0.528286  \n",
       "161  0.117959  \n",
       "162  0.880309  \n",
       "163  0.000000  \n",
       "164  0.000000  "
      ]
     },
     "execution_count": 301,
     "metadata": {},
     "output_type": "execute_result"
    }
   ],
   "source": [
    "df_concat.tail()"
   ]
  },
  {
   "cell_type": "code",
   "execution_count": 302,
   "metadata": {
    "id": "gvBzj4Am8Jei",
    "outputId": "619c6e67-6b35-41bb-c618-46cc7a6afc5c"
   },
   "outputs": [
    {
     "name": "stderr",
     "output_type": "stream",
     "text": [
      "/home/anna/anaconda3/lib/python3.8/site-packages/ipykernel/ipkernel.py:287: DeprecationWarning: `should_run_async` will not call `transform_cell` automatically in the future. Please pass the result to `transformed_cell` argument and any exception that happen during thetransform in `preprocessing_exc_tuple` in IPython 7.17 and above.\n",
      "  and should_run_async(code)\n"
     ]
    }
   ],
   "source": [
    "# df_concat2.to_csv('scripts1.csv',  sep=';')"
   ]
  },
  {
   "cell_type": "markdown",
   "metadata": {
    "id": "vO23Dow-8Jei"
   },
   "source": [
    "# Dataset with ratings and amount of ratings\n",
    "## manually generated from the IMDb page ( https://www.imdb.com/title/tt2193021/episodes?ref_=tt_eps_sm )"
   ]
  },
  {
   "cell_type": "code",
   "execution_count": 303,
   "metadata": {
    "id": "Xb_gKYiO8Jei",
    "outputId": "b202c287-b9ea-4ce7-bf40-d5b56a9a36c5"
   },
   "outputs": [
    {
     "name": "stderr",
     "output_type": "stream",
     "text": [
      "/home/anna/anaconda3/lib/python3.8/site-packages/ipykernel/ipkernel.py:287: DeprecationWarning: `should_run_async` will not call `transform_cell` automatically in the future. Please pass the result to `transformed_cell` argument and any exception that happen during thetransform in `preprocessing_exc_tuple` in IPython 7.17 and above.\n",
      "  and should_run_async(code)\n"
     ]
    }
   ],
   "source": [
    "ratings = pd.read_csv('Data/ratings2.csv', sep=\",\")"
   ]
  },
  {
   "cell_type": "code",
   "execution_count": 304,
   "metadata": {
    "id": "oCOCQzdd8Jej",
    "outputId": "263ca4a2-0a21-4398-c715-5fb7a949a4d0"
   },
   "outputs": [
    {
     "name": "stderr",
     "output_type": "stream",
     "text": [
      "/home/anna/anaconda3/lib/python3.8/site-packages/ipykernel/ipkernel.py:287: DeprecationWarning: `should_run_async` will not call `transform_cell` automatically in the future. Please pass the result to `transformed_cell` argument and any exception that happen during thetransform in `preprocessing_exc_tuple` in IPython 7.17 and above.\n",
      "  and should_run_async(code)\n"
     ]
    },
    {
     "data": {
      "text/html": [
       "<div>\n",
       "<style scoped>\n",
       "    .dataframe tbody tr th:only-of-type {\n",
       "        vertical-align: middle;\n",
       "    }\n",
       "\n",
       "    .dataframe tbody tr th {\n",
       "        vertical-align: top;\n",
       "    }\n",
       "\n",
       "    .dataframe thead th {\n",
       "        text-align: right;\n",
       "    }\n",
       "</style>\n",
       "<table border=\"1\" class=\"dataframe\">\n",
       "  <thead>\n",
       "    <tr style=\"text-align: right;\">\n",
       "      <th></th>\n",
       "      <th>episodios</th>\n",
       "      <th>nota_imdb</th>\n",
       "      <th>qtd_reviews</th>\n",
       "    </tr>\n",
       "  </thead>\n",
       "  <tbody>\n",
       "    <tr>\n",
       "      <th>0</th>\n",
       "      <td>/series/Arrow-2193021/season-1/episode-1-Pilot</td>\n",
       "      <td>8.5</td>\n",
       "      <td>7572</td>\n",
       "    </tr>\n",
       "    <tr>\n",
       "      <th>1</th>\n",
       "      <td>/series/Arrow-2193021/season-1/episode-2-Honor...</td>\n",
       "      <td>8.2</td>\n",
       "      <td>5731</td>\n",
       "    </tr>\n",
       "    <tr>\n",
       "      <th>2</th>\n",
       "      <td>/series/Arrow-2193021/season-1/episode-3-Lone_...</td>\n",
       "      <td>8.4</td>\n",
       "      <td>5367</td>\n",
       "    </tr>\n",
       "    <tr>\n",
       "      <th>3</th>\n",
       "      <td>/series/Arrow-2193021/season-1/episode-4-An_In...</td>\n",
       "      <td>8.3</td>\n",
       "      <td>5071</td>\n",
       "    </tr>\n",
       "    <tr>\n",
       "      <th>4</th>\n",
       "      <td>/series/Arrow-2193021/season-1/episode-5-Damaged</td>\n",
       "      <td>8.6</td>\n",
       "      <td>5011</td>\n",
       "    </tr>\n",
       "  </tbody>\n",
       "</table>\n",
       "</div>"
      ],
      "text/plain": [
       "                                           episodios  nota_imdb  qtd_reviews\n",
       "0     /series/Arrow-2193021/season-1/episode-1-Pilot        8.5         7572\n",
       "1  /series/Arrow-2193021/season-1/episode-2-Honor...        8.2         5731\n",
       "2  /series/Arrow-2193021/season-1/episode-3-Lone_...        8.4         5367\n",
       "3  /series/Arrow-2193021/season-1/episode-4-An_In...        8.3         5071\n",
       "4   /series/Arrow-2193021/season-1/episode-5-Damaged        8.6         5011"
      ]
     },
     "execution_count": 304,
     "metadata": {},
     "output_type": "execute_result"
    }
   ],
   "source": [
    "ratings.head()"
   ]
  },
  {
   "cell_type": "code",
   "execution_count": 305,
   "metadata": {
    "id": "GWVhI3Xq8Jej",
    "outputId": "0bed2454-cde8-4872-99e7-b736be9a2fbd"
   },
   "outputs": [
    {
     "name": "stderr",
     "output_type": "stream",
     "text": [
      "/home/anna/anaconda3/lib/python3.8/site-packages/ipykernel/ipkernel.py:287: DeprecationWarning: `should_run_async` will not call `transform_cell` automatically in the future. Please pass the result to `transformed_cell` argument and any exception that happen during thetransform in `preprocessing_exc_tuple` in IPython 7.17 and above.\n",
      "  and should_run_async(code)\n"
     ]
    },
    {
     "data": {
      "text/plain": [
       "episodios      0\n",
       "nota_imdb      0\n",
       "qtd_reviews    0\n",
       "dtype: int64"
      ]
     },
     "execution_count": 305,
     "metadata": {},
     "output_type": "execute_result"
    }
   ],
   "source": [
    "ratings.isnull().sum()"
   ]
  },
  {
   "cell_type": "code",
   "execution_count": 306,
   "metadata": {
    "id": "O4bq-0HL8Jej",
    "outputId": "80dba059-1bcb-4af5-c9f3-3eb9c38733f0"
   },
   "outputs": [
    {
     "name": "stderr",
     "output_type": "stream",
     "text": [
      "/home/anna/anaconda3/lib/python3.8/site-packages/ipykernel/ipkernel.py:287: DeprecationWarning: `should_run_async` will not call `transform_cell` automatically in the future. Please pass the result to `transformed_cell` argument and any exception that happen during thetransform in `preprocessing_exc_tuple` in IPython 7.17 and above.\n",
      "  and should_run_async(code)\n"
     ]
    },
    {
     "data": {
      "text/plain": [
       "(165, 3)"
      ]
     },
     "execution_count": 306,
     "metadata": {},
     "output_type": "execute_result"
    }
   ],
   "source": [
    "ratings.shape"
   ]
  },
  {
   "cell_type": "markdown",
   "metadata": {
    "id": "b7XtSOjZ8Jej"
   },
   "source": [
    "# Final dataset\n",
    "## Dataset with the episode name, the script, the script processed , column with score value of topic 0, column with score value of topic 1, column with score value of topic 2, the imdb rating, the amount of reviews and the predominant topic "
   ]
  },
  {
   "cell_type": "code",
   "execution_count": 307,
   "metadata": {
    "id": "n3Z7Zo6C8Jek",
    "outputId": "2ad3e5b9-eb8a-443d-e2be-12cb6aee7b8b"
   },
   "outputs": [
    {
     "name": "stderr",
     "output_type": "stream",
     "text": [
      "/home/anna/anaconda3/lib/python3.8/site-packages/ipykernel/ipkernel.py:287: DeprecationWarning: `should_run_async` will not call `transform_cell` automatically in the future. Please pass the result to `transformed_cell` argument and any exception that happen during thetransform in `preprocessing_exc_tuple` in IPython 7.17 and above.\n",
      "  and should_run_async(code)\n"
     ]
    }
   ],
   "source": [
    "dataset = pd.concat([df_concat, ratings], axis=1) "
   ]
  },
  {
   "cell_type": "code",
   "execution_count": 308,
   "metadata": {
    "id": "gbynPaYt8Jek",
    "outputId": "c158d9ae-b6ce-4607-c5ac-53aa982183c0"
   },
   "outputs": [
    {
     "name": "stderr",
     "output_type": "stream",
     "text": [
      "/home/anna/anaconda3/lib/python3.8/site-packages/ipykernel/ipkernel.py:287: DeprecationWarning: `should_run_async` will not call `transform_cell` automatically in the future. Please pass the result to `transformed_cell` argument and any exception that happen during thetransform in `preprocessing_exc_tuple` in IPython 7.17 and above.\n",
      "  and should_run_async(code)\n"
     ]
    }
   ],
   "source": [
    "dataset.drop('episodios', axis=1, inplace=True)"
   ]
  },
  {
   "cell_type": "code",
   "execution_count": 309,
   "metadata": {
    "id": "Yk-Jd4ak8Jek",
    "outputId": "c0d55662-979d-4445-9cb3-00247dd262a3"
   },
   "outputs": [
    {
     "name": "stderr",
     "output_type": "stream",
     "text": [
      "/home/anna/anaconda3/lib/python3.8/site-packages/ipykernel/ipkernel.py:287: DeprecationWarning: `should_run_async` will not call `transform_cell` automatically in the future. Please pass the result to `transformed_cell` argument and any exception that happen during thetransform in `preprocessing_exc_tuple` in IPython 7.17 and above.\n",
      "  and should_run_async(code)\n"
     ]
    }
   ],
   "source": [
    "topicos = dataset.loc[:, [0, 1, 2]]"
   ]
  },
  {
   "cell_type": "code",
   "execution_count": 310,
   "metadata": {
    "id": "YRBjuPfV8Jel",
    "outputId": "4de997f3-4748-41c4-c711-1fbb6ad6d332"
   },
   "outputs": [
    {
     "name": "stderr",
     "output_type": "stream",
     "text": [
      "/home/anna/anaconda3/lib/python3.8/site-packages/ipykernel/ipkernel.py:287: DeprecationWarning: `should_run_async` will not call `transform_cell` automatically in the future. Please pass the result to `transformed_cell` argument and any exception that happen during thetransform in `preprocessing_exc_tuple` in IPython 7.17 and above.\n",
      "  and should_run_async(code)\n"
     ]
    },
    {
     "data": {
      "text/html": [
       "<div>\n",
       "<style scoped>\n",
       "    .dataframe tbody tr th:only-of-type {\n",
       "        vertical-align: middle;\n",
       "    }\n",
       "\n",
       "    .dataframe tbody tr th {\n",
       "        vertical-align: top;\n",
       "    }\n",
       "\n",
       "    .dataframe thead th {\n",
       "        text-align: right;\n",
       "    }\n",
       "</style>\n",
       "<table border=\"1\" class=\"dataframe\">\n",
       "  <thead>\n",
       "    <tr style=\"text-align: right;\">\n",
       "      <th></th>\n",
       "      <th>0</th>\n",
       "      <th>1</th>\n",
       "      <th>2</th>\n",
       "    </tr>\n",
       "  </thead>\n",
       "  <tbody>\n",
       "    <tr>\n",
       "      <th>0</th>\n",
       "      <td>0.127961</td>\n",
       "      <td>0.197430</td>\n",
       "      <td>0.674609</td>\n",
       "    </tr>\n",
       "    <tr>\n",
       "      <th>1</th>\n",
       "      <td>0.971027</td>\n",
       "      <td>0.027554</td>\n",
       "      <td>0.000000</td>\n",
       "    </tr>\n",
       "    <tr>\n",
       "      <th>2</th>\n",
       "      <td>0.507810</td>\n",
       "      <td>0.172462</td>\n",
       "      <td>0.319728</td>\n",
       "    </tr>\n",
       "    <tr>\n",
       "      <th>3</th>\n",
       "      <td>0.027088</td>\n",
       "      <td>0.040645</td>\n",
       "      <td>0.932267</td>\n",
       "    </tr>\n",
       "    <tr>\n",
       "      <th>4</th>\n",
       "      <td>0.996021</td>\n",
       "      <td>0.000000</td>\n",
       "      <td>0.000000</td>\n",
       "    </tr>\n",
       "    <tr>\n",
       "      <th>...</th>\n",
       "      <td>...</td>\n",
       "      <td>...</td>\n",
       "      <td>...</td>\n",
       "    </tr>\n",
       "    <tr>\n",
       "      <th>160</th>\n",
       "      <td>0.329553</td>\n",
       "      <td>0.142161</td>\n",
       "      <td>0.528286</td>\n",
       "    </tr>\n",
       "    <tr>\n",
       "      <th>161</th>\n",
       "      <td>0.838779</td>\n",
       "      <td>0.043262</td>\n",
       "      <td>0.117959</td>\n",
       "    </tr>\n",
       "    <tr>\n",
       "      <th>162</th>\n",
       "      <td>0.053331</td>\n",
       "      <td>0.066359</td>\n",
       "      <td>0.880309</td>\n",
       "    </tr>\n",
       "    <tr>\n",
       "      <th>163</th>\n",
       "      <td>0.994125</td>\n",
       "      <td>0.000000</td>\n",
       "      <td>0.000000</td>\n",
       "    </tr>\n",
       "    <tr>\n",
       "      <th>164</th>\n",
       "      <td>0.997348</td>\n",
       "      <td>0.000000</td>\n",
       "      <td>0.000000</td>\n",
       "    </tr>\n",
       "  </tbody>\n",
       "</table>\n",
       "<p>165 rows × 3 columns</p>\n",
       "</div>"
      ],
      "text/plain": [
       "            0         1         2\n",
       "0    0.127961  0.197430  0.674609\n",
       "1    0.971027  0.027554  0.000000\n",
       "2    0.507810  0.172462  0.319728\n",
       "3    0.027088  0.040645  0.932267\n",
       "4    0.996021  0.000000  0.000000\n",
       "..        ...       ...       ...\n",
       "160  0.329553  0.142161  0.528286\n",
       "161  0.838779  0.043262  0.117959\n",
       "162  0.053331  0.066359  0.880309\n",
       "163  0.994125  0.000000  0.000000\n",
       "164  0.997348  0.000000  0.000000\n",
       "\n",
       "[165 rows x 3 columns]"
      ]
     },
     "execution_count": 310,
     "metadata": {},
     "output_type": "execute_result"
    }
   ],
   "source": [
    "dataset.loc[:, [0, 1, 2]]"
   ]
  },
  {
   "cell_type": "code",
   "execution_count": 311,
   "metadata": {
    "id": "ZqYmqwYN8Jel",
    "outputId": "fb95bef2-56c6-4bf4-db33-36c4c735cc3c"
   },
   "outputs": [
    {
     "name": "stderr",
     "output_type": "stream",
     "text": [
      "/home/anna/anaconda3/lib/python3.8/site-packages/ipykernel/ipkernel.py:287: DeprecationWarning: `should_run_async` will not call `transform_cell` automatically in the future. Please pass the result to `transformed_cell` argument and any exception that happen during thetransform in `preprocessing_exc_tuple` in IPython 7.17 and above.\n",
      "  and should_run_async(code)\n"
     ]
    }
   ],
   "source": [
    "dataset['Topic'] = topicos.idxmax(axis=1)"
   ]
  },
  {
   "cell_type": "code",
   "execution_count": 312,
   "metadata": {
    "id": "_gBflSo08Jel",
    "outputId": "39677326-6232-4093-ac67-7914350a0230",
    "scrolled": true
   },
   "outputs": [
    {
     "name": "stderr",
     "output_type": "stream",
     "text": [
      "/home/anna/anaconda3/lib/python3.8/site-packages/ipykernel/ipkernel.py:287: DeprecationWarning: `should_run_async` will not call `transform_cell` automatically in the future. Please pass the result to `transformed_cell` argument and any exception that happen during thetransform in `preprocessing_exc_tuple` in IPython 7.17 and above.\n",
      "  and should_run_async(code)\n"
     ]
    },
    {
     "data": {
      "text/html": [
       "<div>\n",
       "<style scoped>\n",
       "    .dataframe tbody tr th:only-of-type {\n",
       "        vertical-align: middle;\n",
       "    }\n",
       "\n",
       "    .dataframe tbody tr th {\n",
       "        vertical-align: top;\n",
       "    }\n",
       "\n",
       "    .dataframe thead th {\n",
       "        text-align: right;\n",
       "    }\n",
       "</style>\n",
       "<table border=\"1\" class=\"dataframe\">\n",
       "  <thead>\n",
       "    <tr style=\"text-align: right;\">\n",
       "      <th></th>\n",
       "      <th>nome_ep</th>\n",
       "      <th>Episodios</th>\n",
       "      <th>text_processed</th>\n",
       "      <th>0</th>\n",
       "      <th>1</th>\n",
       "      <th>2</th>\n",
       "      <th>nota_imdb</th>\n",
       "      <th>qtd_reviews</th>\n",
       "      <th>Topic</th>\n",
       "    </tr>\n",
       "  </thead>\n",
       "  <tbody>\n",
       "    <tr>\n",
       "      <th>0</th>\n",
       "      <td>/series/Arrow-2193021/season-1/episode-1-Pilot</td>\n",
       "      <td>The name of the islandthey found me on is Lian...</td>\n",
       "      <td>the name of the islandthey found me on is lian...</td>\n",
       "      <td>0.127961</td>\n",
       "      <td>0.197430</td>\n",
       "      <td>0.674609</td>\n",
       "      <td>8.5</td>\n",
       "      <td>7572</td>\n",
       "      <td>2</td>\n",
       "    </tr>\n",
       "    <tr>\n",
       "      <th>1</th>\n",
       "      <td>/series/Arrow-2193021/season-1/episode-2-Honor...</td>\n",
       "      <td>[PANTING][GRUNTS][SPEAKING IN FOREIGN LANGUAGE...</td>\n",
       "      <td>[panting][grunts][speaking in foreign language...</td>\n",
       "      <td>0.971027</td>\n",
       "      <td>0.027554</td>\n",
       "      <td>0.000000</td>\n",
       "      <td>8.2</td>\n",
       "      <td>5731</td>\n",
       "      <td>0</td>\n",
       "    </tr>\n",
       "    <tr>\n",
       "      <th>2</th>\n",
       "      <td>/series/Arrow-2193021/season-1/episode-3-Lone_...</td>\n",
       "      <td>My name is Oliver Queen.To my family, I am the...</td>\n",
       "      <td>my name is oliver queen to my family  i am the...</td>\n",
       "      <td>0.507810</td>\n",
       "      <td>0.172462</td>\n",
       "      <td>0.319728</td>\n",
       "      <td>8.4</td>\n",
       "      <td>5367</td>\n",
       "      <td>0</td>\n",
       "    </tr>\n",
       "    <tr>\n",
       "      <th>3</th>\n",
       "      <td>/series/Arrow-2193021/season-1/episode-4-An_In...</td>\n",
       "      <td>My name is Oliver Queen.For 5 years, I was str...</td>\n",
       "      <td>my name is oliver queen for 5 years  i was str...</td>\n",
       "      <td>0.027088</td>\n",
       "      <td>0.040645</td>\n",
       "      <td>0.932267</td>\n",
       "      <td>8.3</td>\n",
       "      <td>5071</td>\n",
       "      <td>2</td>\n",
       "    </tr>\n",
       "    <tr>\n",
       "      <th>4</th>\n",
       "      <td>/series/Arrow-2193021/season-1/episode-5-Damaged</td>\n",
       "      <td>OLIVER:My name is Oliver Queen.For five years,...</td>\n",
       "      <td>oliver:my name is oliver queen for five years ...</td>\n",
       "      <td>0.996021</td>\n",
       "      <td>0.000000</td>\n",
       "      <td>0.000000</td>\n",
       "      <td>8.6</td>\n",
       "      <td>5011</td>\n",
       "      <td>0</td>\n",
       "    </tr>\n",
       "  </tbody>\n",
       "</table>\n",
       "</div>"
      ],
      "text/plain": [
       "                                             nome_ep  \\\n",
       "0     /series/Arrow-2193021/season-1/episode-1-Pilot   \n",
       "1  /series/Arrow-2193021/season-1/episode-2-Honor...   \n",
       "2  /series/Arrow-2193021/season-1/episode-3-Lone_...   \n",
       "3  /series/Arrow-2193021/season-1/episode-4-An_In...   \n",
       "4   /series/Arrow-2193021/season-1/episode-5-Damaged   \n",
       "\n",
       "                                           Episodios  \\\n",
       "0  The name of the islandthey found me on is Lian...   \n",
       "1  [PANTING][GRUNTS][SPEAKING IN FOREIGN LANGUAGE...   \n",
       "2  My name is Oliver Queen.To my family, I am the...   \n",
       "3  My name is Oliver Queen.For 5 years, I was str...   \n",
       "4  OLIVER:My name is Oliver Queen.For five years,...   \n",
       "\n",
       "                                      text_processed         0         1  \\\n",
       "0  the name of the islandthey found me on is lian...  0.127961  0.197430   \n",
       "1  [panting][grunts][speaking in foreign language...  0.971027  0.027554   \n",
       "2  my name is oliver queen to my family  i am the...  0.507810  0.172462   \n",
       "3  my name is oliver queen for 5 years  i was str...  0.027088  0.040645   \n",
       "4  oliver:my name is oliver queen for five years ...  0.996021  0.000000   \n",
       "\n",
       "          2  nota_imdb  qtd_reviews  Topic  \n",
       "0  0.674609        8.5         7572      2  \n",
       "1  0.000000        8.2         5731      0  \n",
       "2  0.319728        8.4         5367      0  \n",
       "3  0.932267        8.3         5071      2  \n",
       "4  0.000000        8.6         5011      0  "
      ]
     },
     "execution_count": 312,
     "metadata": {},
     "output_type": "execute_result"
    }
   ],
   "source": [
    "dataset.head()"
   ]
  },
  {
   "cell_type": "code",
   "execution_count": 313,
   "metadata": {
    "id": "EKtq7IHD8Jem",
    "outputId": "600ea8cf-9963-43cf-879f-72334e1c966f"
   },
   "outputs": [
    {
     "name": "stderr",
     "output_type": "stream",
     "text": [
      "/home/anna/anaconda3/lib/python3.8/site-packages/ipykernel/ipkernel.py:287: DeprecationWarning: `should_run_async` will not call `transform_cell` automatically in the future. Please pass the result to `transformed_cell` argument and any exception that happen during thetransform in `preprocessing_exc_tuple` in IPython 7.17 and above.\n",
      "  and should_run_async(code)\n"
     ]
    },
    {
     "data": {
      "text/plain": [
       "(165, 9)"
      ]
     },
     "execution_count": 313,
     "metadata": {},
     "output_type": "execute_result"
    }
   ],
   "source": [
    "dataset.shape"
   ]
  },
  {
   "cell_type": "code",
   "execution_count": 314,
   "metadata": {
    "id": "xUzK2Ky88Jem",
    "outputId": "448e10a8-7ccb-484e-db98-1ac3185af27f"
   },
   "outputs": [
    {
     "name": "stderr",
     "output_type": "stream",
     "text": [
      "/home/anna/anaconda3/lib/python3.8/site-packages/ipykernel/ipkernel.py:287: DeprecationWarning: `should_run_async` will not call `transform_cell` automatically in the future. Please pass the result to `transformed_cell` argument and any exception that happen during thetransform in `preprocessing_exc_tuple` in IPython 7.17 and above.\n",
      "  and should_run_async(code)\n"
     ]
    }
   ],
   "source": [
    "dataset.to_csv('Data/scripts.csv',  sep=';')"
   ]
  },
  {
   "cell_type": "code",
   "execution_count": null,
   "metadata": {},
   "outputs": [],
   "source": []
  },
  {
   "cell_type": "code",
   "execution_count": null,
   "metadata": {},
   "outputs": [],
   "source": []
  },
  {
   "cell_type": "code",
   "execution_count": null,
   "metadata": {},
   "outputs": [],
   "source": []
  },
  {
   "cell_type": "code",
   "execution_count": null,
   "metadata": {},
   "outputs": [],
   "source": []
  }
 ],
 "metadata": {
  "colab": {
   "collapsed_sections": [],
   "name": "1 - Dataset_LDA_model.ipynb",
   "provenance": []
  },
  "kernelspec": {
   "display_name": "Python 3",
   "language": "python",
   "name": "python3"
  },
  "language_info": {
   "codemirror_mode": {
    "name": "ipython",
    "version": 3
   },
   "file_extension": ".py",
   "mimetype": "text/x-python",
   "name": "python",
   "nbconvert_exporter": "python",
   "pygments_lexer": "ipython3",
   "version": "3.8.8"
  }
 },
 "nbformat": 4,
 "nbformat_minor": 4
}
