{
 "cells": [
  {
   "cell_type": "markdown",
   "metadata": {
    "id": "f0xzEC0SU3HZ"
   },
   "source": [
    "# Web Scrapping of Arrow (American TV Serie) scripts\n",
    "## From the site: https://subslikescript.com/ \n",
    "## by: Anna Luiza Gomes"
   ]
  },
  {
   "cell_type": "markdown",
   "metadata": {},
   "source": [
    "## Pre-processing the data (scripts)"
   ]
  },
  {
   "cell_type": "code",
   "execution_count": 1,
   "metadata": {
    "id": "2n4oMFqlU3He"
   },
   "outputs": [],
   "source": [
    "import requests\n",
    "import pandas as pd\n",
    "from bs4 import BeautifulSoup\n",
    "import urllib.request\n",
    "import re"
   ]
  },
  {
   "cell_type": "code",
   "execution_count": 2,
   "metadata": {
    "colab": {
     "base_uri": "https://localhost:8080/"
    },
    "id": "BudYbebxU3Hf",
    "outputId": "e6a087fa-a928-48fe-9f4b-38dae0da4635"
   },
   "outputs": [
    {
     "name": "stdout",
     "output_type": "stream",
     "text": [
      "/\n",
      "/movies\n",
      "/series\n",
      "/\n",
      "/series\n",
      "/series/Arrow-2193021/season-1/episode-1-Pilot\n",
      "/series/Arrow-2193021/season-1/episode-2-Honor_Thy_Father\n",
      "/series/Arrow-2193021/season-1/episode-3-Lone_Gunmen\n",
      "/series/Arrow-2193021/season-1/episode-4-An_Innocent_Man\n",
      "/series/Arrow-2193021/season-1/episode-5-Damaged\n",
      "/series/Arrow-2193021/season-1/episode-6-Legacies\n",
      "/series/Arrow-2193021/season-1/episode-7-Muse_of_Fire\n",
      "/series/Arrow-2193021/season-1/episode-8-Vendetta\n",
      "/series/Arrow-2193021/season-1/episode-9-Years_End\n",
      "/series/Arrow-2193021/season-1/episode-10-Burned\n",
      "/series/Arrow-2193021/season-1/episode-11-Trust_But_Verify\n",
      "/series/Arrow-2193021/season-1/episode-12-Vertigo\n",
      "/series/Arrow-2193021/season-1/episode-13-Betrayal\n",
      "/series/Arrow-2193021/season-1/episode-14-The_Odyssey\n",
      "/series/Arrow-2193021/season-1/episode-15-Dodger\n",
      "/series/Arrow-2193021/season-1/episode-16-Dead_to_Rights\n",
      "/series/Arrow-2193021/season-1/episode-17-The_Huntress_Returns\n",
      "/series/Arrow-2193021/season-1/episode-18-Salvation\n",
      "/series/Arrow-2193021/season-1/episode-19-Unfinished_Business\n",
      "/series/Arrow-2193021/season-1/episode-20-Home_Invasion\n",
      "/series/Arrow-2193021/season-1/episode-21-The_Undertaking\n",
      "/series/Arrow-2193021/season-1/episode-22-Darkness_on_the_Edge_of_Town\n",
      "/series/Arrow-2193021/season-1/episode-23-Sacrifice\n",
      "/series/Arrow-2193021/season-2/episode-1-City_of_Heroes\n",
      "/series/Arrow-2193021/season-2/episode-2-Identity\n",
      "/series/Arrow-2193021/season-2/episode-3-Broken_Dolls\n",
      "/series/Arrow-2193021/season-2/episode-4-Crucible\n",
      "/series/Arrow-2193021/season-2/episode-5-League_of_Assassins\n",
      "/series/Arrow-2193021/season-2/episode-6-Keep_Your_Enemies_Closer\n",
      "/series/Arrow-2193021/season-2/episode-7-State_v_Queen\n",
      "/series/Arrow-2193021/season-2/episode-8-The_Scientist\n",
      "/series/Arrow-2193021/season-2/episode-9-Three_Ghosts\n",
      "/series/Arrow-2193021/season-2/episode-10-Blast_Radius\n",
      "/series/Arrow-2193021/season-2/episode-11-Blind_Spot\n",
      "/series/Arrow-2193021/season-2/episode-12-Tremors\n",
      "/series/Arrow-2193021/season-2/episode-13-Heir_to_the_Demon\n",
      "/series/Arrow-2193021/season-2/episode-14-Time_of_Death\n",
      "/series/Arrow-2193021/season-2/episode-15-The_Promise\n",
      "/series/Arrow-2193021/season-2/episode-16-Suicide_Squad\n",
      "/series/Arrow-2193021/season-2/episode-17-Birds_of_Prey\n",
      "/series/Arrow-2193021/season-2/episode-18-Deathstroke\n",
      "/series/Arrow-2193021/season-2/episode-19-The_Man_Under_the_Hood\n",
      "/series/Arrow-2193021/season-2/episode-20-Seeing_Red\n",
      "/series/Arrow-2193021/season-2/episode-21-City_of_Blood\n",
      "/series/Arrow-2193021/season-2/episode-22-Streets_of_Fire\n",
      "/series/Arrow-2193021/season-2/episode-23-Unthinkable\n",
      "/series/Arrow-2193021/season-3/episode-1-The_Calm\n",
      "/series/Arrow-2193021/season-3/episode-2-Sara\n",
      "/series/Arrow-2193021/season-3/episode-3-Corto_Maltese\n",
      "/series/Arrow-2193021/season-3/episode-5-The_Secret_Origin_of_Felicity_Smoak\n",
      "/series/Arrow-2193021/season-3/episode-6-Guilty\n",
      "/series/Arrow-2193021/season-3/episode-7-Draw_Back_Your_Bow\n",
      "/series/Arrow-2193021/season-3/episode-8-The_Brave_and_the_Bold\n",
      "/series/Arrow-2193021/season-3/episode-9-The_Climb\n",
      "/series/Arrow-2193021/season-3/episode-10-Left_Behind\n",
      "/series/Arrow-2193021/season-3/episode-11-Midnight_City\n",
      "/series/Arrow-2193021/season-3/episode-12-Uprising\n",
      "/series/Arrow-2193021/season-3/episode-13-Canaries\n",
      "/series/Arrow-2193021/season-3/episode-14-The_Return\n",
      "/series/Arrow-2193021/season-3/episode-15-Nanda_Parbat\n",
      "/series/Arrow-2193021/season-3/episode-16-The_Offer\n",
      "/series/Arrow-2193021/season-3/episode-17-Suicidal_Tendencies\n",
      "/series/Arrow-2193021/season-3/episode-18-Public_Enemy\n",
      "/series/Arrow-2193021/season-3/episode-19-Broken_Arrow\n",
      "/series/Arrow-2193021/season-3/episode-20-The_Fallen\n",
      "/series/Arrow-2193021/season-3/episode-21-Al_Sah-Him\n",
      "/series/Arrow-2193021/season-3/episode-22-This_Is_Your_Sword\n",
      "/series/Arrow-2193021/season-3/episode-23-My_Name_Is_Oliver_Queen\n",
      "/series/Arrow-2193021/season-4/episode-1-Green_Arrow\n",
      "/series/Arrow-2193021/season-4/episode-2-The_Candidate\n",
      "/series/Arrow-2193021/season-4/episode-3-Restoration\n",
      "/series/Arrow-2193021/season-4/episode-4-Beyond_Redemption\n",
      "/series/Arrow-2193021/season-4/episode-5-Haunted\n",
      "/series/Arrow-2193021/season-4/episode-6-Lost_Souls\n",
      "/series/Arrow-2193021/season-4/episode-7-Brotherhood\n",
      "/series/Arrow-2193021/season-4/episode-8-Legends_of_Yesterday\n",
      "/series/Arrow-2193021/season-4/episode-9-Dark_Waters\n",
      "/series/Arrow-2193021/season-4/episode-10-Blood_Debts\n",
      "/series/Arrow-2193021/season-4/episode-11-AWOL\n",
      "/series/Arrow-2193021/season-4/episode-12-Unchained\n",
      "/series/Arrow-2193021/season-4/episode-13-Sins_of_the_Father\n",
      "/series/Arrow-2193021/season-4/episode-14-Code_of_Silence\n",
      "/series/Arrow-2193021/season-4/episode-15-Taken\n",
      "/series/Arrow-2193021/season-4/episode-16-Broken_Hearts\n",
      "/series/Arrow-2193021/season-4/episode-17-Beacon_of_Hope\n",
      "/series/Arrow-2193021/season-4/episode-18-Eleven-Fifty-Nine\n",
      "/series/Arrow-2193021/season-4/episode-19-Canary_Cry\n",
      "/series/Arrow-2193021/season-4/episode-20-Genesis\n",
      "/series/Arrow-2193021/season-4/episode-21-Monument_Point\n",
      "/series/Arrow-2193021/season-4/episode-22-Lost_in_the_Flood\n",
      "/series/Arrow-2193021/season-4/episode-23-Schism\n",
      "/series/Arrow-2193021/season-5/episode-1-Legacy\n",
      "/series/Arrow-2193021/season-5/episode-2-The_Recruits\n",
      "/series/Arrow-2193021/season-5/episode-3-A_Matter_of_Trust\n",
      "/series/Arrow-2193021/season-5/episode-4-Penance\n",
      "/series/Arrow-2193021/season-5/episode-5-Human_Target\n",
      "/series/Arrow-2193021/season-5/episode-6-So_It_Begins\n",
      "/series/Arrow-2193021/season-5/episode-7-Vigilante\n",
      "/series/Arrow-2193021/season-5/episode-8-Invasion\n",
      "/series/Arrow-2193021/season-5/episode-9-What_We_Leave_Behind\n",
      "/series/Arrow-2193021/season-5/episode-10-Who_Are_You\n",
      "/series/Arrow-2193021/season-5/episode-11-Second_Chances\n",
      "/series/Arrow-2193021/season-5/episode-12-Bratva\n",
      "/series/Arrow-2193021/season-5/episode-13-Spectre_of_the_Gun\n",
      "/series/Arrow-2193021/season-5/episode-14-The_Sin-Eater\n",
      "/series/Arrow-2193021/season-5/episode-15-Fighting_Fire_with_Fire\n",
      "/series/Arrow-2193021/season-5/episode-16-Checkmate\n",
      "/series/Arrow-2193021/season-5/episode-17-Kapiushon\n",
      "/series/Arrow-2193021/season-5/episode-18-Disbanded\n",
      "/series/Arrow-2193021/season-5/episode-19-Dangerous_Liaisons\n",
      "/series/Arrow-2193021/season-5/episode-20-Underneath\n",
      "/series/Arrow-2193021/season-5/episode-21-Honor_Thy_Fathers\n",
      "/series/Arrow-2193021/season-5/episode-22-Missing\n",
      "/series/Arrow-2193021/season-5/episode-23-Lian_Yu\n",
      "/series/Arrow-2193021/season-6/episode-1-Fallout\n",
      "/series/Arrow-2193021/season-6/episode-2-Tribute\n",
      "/series/Arrow-2193021/season-6/episode-3-Next_of_Kin\n",
      "/series/Arrow-2193021/season-6/episode-4-Reversal\n",
      "/series/Arrow-2193021/season-6/episode-5-Deathstroke_Returns\n",
      "/series/Arrow-2193021/season-6/episode-6-Promises_Kept\n",
      "/series/Arrow-2193021/season-6/episode-7-Thanksgiving\n",
      "/series/Arrow-2193021/season-6/episode-8-Crisis_on_Earth-X_Part_2\n",
      "/series/Arrow-2193021/season-6/episode-9-Irreconcilable_Differences\n",
      "/series/Arrow-2193021/season-6/episode-10-Divided\n",
      "/series/Arrow-2193021/season-6/episode-11-We_Fall\n",
      "/series/Arrow-2193021/season-6/episode-12-All_for_Nothing\n",
      "/series/Arrow-2193021/season-6/episode-13-The_Devils_Greatest_Trick\n",
      "/series/Arrow-2193021/season-6/episode-14-Collision_Course\n",
      "/series/Arrow-2193021/season-6/episode-15-Doppelgnger\n",
      "/series/Arrow-2193021/season-6/episode-16-The_Thanatos_Guild\n",
      "/series/Arrow-2193021/season-6/episode-17-Brothers_in_Arms\n",
      "/series/Arrow-2193021/season-6/episode-18-Fundamentals\n",
      "/series/Arrow-2193021/season-6/episode-19-The_Dragon\n",
      "/series/Arrow-2193021/season-6/episode-20-Shifting_Allegiances\n",
      "/series/Arrow-2193021/season-6/episode-21-Docket_No_11-19-41-73\n",
      "/series/Arrow-2193021/season-6/episode-22-The_Ties_That_Bind\n",
      "/series/Arrow-2193021/season-6/episode-23-Life_Sentence\n",
      "/series/Arrow-2193021/season-7/episode-1-Inmate_4587\n",
      "/series/Arrow-2193021/season-7/episode-2-The_Longbow_Hunters\n",
      "/series/Arrow-2193021/season-7/episode-3-Crossing_Lines\n",
      "/series/Arrow-2193021/season-7/episode-4-Level_Two\n",
      "/series/Arrow-2193021/season-7/episode-5-The_Demon\n",
      "/series/Arrow-2193021/season-7/episode-6-Episode_76\n",
      "/series/Arrow-2193021/season-7/episode-7-The_Slabside_Redemption\n",
      "/series/Arrow-2193021/season-7/episode-8-Episode_78\n",
      "/series/Arrow-2193021/season-7/episode-9-Elseworlds_Part_2\n",
      "/series/Arrow-2193021/season-7/episode-10-Episode_710\n",
      "/series/Arrow-2193021/season-7/episode-11-Past_Sins\n",
      "/series/Arrow-2193021/season-7/episode-15-Training_Day\n",
      "/series/Arrow-2193021/season-7/episode-16-Star_City_2040\n",
      "/series/Arrow-2193021/season-7/episode-17-Inheritance\n",
      "/series/Arrow-2193021/season-7/episode-18-Lost_Canary\n",
      "/series/Arrow-2193021/season-7/episode-19-Spartan\n",
      "/series/Arrow-2193021/season-7/episode-20-Confessions\n",
      "/series/Arrow-2193021/season-7/episode-21-Episode_721\n",
      "/series/Arrow-2193021/season-7/episode-22-Episode_722\n",
      "/series/Arrow-2193021/season-8/episode-1-Starling_City\n",
      "/series/Arrow-2193021/season-8/episode-2-Welcome_to_Hong_Kong\n",
      "/series/Arrow-2193021/season-8/episode-3-Leap_of_Faith\n",
      "/series/Arrow-2193021/season-8/episode-4-Present_Tense\n",
      "/series/Arrow-2193021/season-8/episode-5-Prochnost\n",
      "/series/Arrow-2193021/season-8/episode-6-Reset\n",
      "/series/Arrow-2193021/season-8/episode-7-Purgatory\n",
      "/series/Arrow-2193021/season-8/episode-8-Crisis_on_Infinite_Earths\n",
      "/series/Arrow-2193021/season-8/episode-9-Green_Arrow__the_Canaries\n",
      "/series/Arrow-2193021/season-8/episode-10-Fadeout\n",
      "/dmca\n"
     ]
    }
   ],
   "source": [
    "parser = 'html.parser'  # or 'lxml' (preferred) or 'html5lib', if installed\n",
    "resp = urllib.request.urlopen(\"https://subslikescript.com/series/Arrow-2193021\")    #missing 4 episodes from season 7 \n",
    "soup = BeautifulSoup(resp, parser, from_encoding=resp.info().get_param('charset'))\n",
    "\n",
    "for link in soup.find_all('a', href=True):\n",
    "    \n",
    "    print(link['href'])"
   ]
  },
  {
   "cell_type": "code",
   "execution_count": 3,
   "metadata": {
    "id": "0K6KOQCzU3Hg"
   },
   "outputs": [],
   "source": [
    "href_tags = soup.find_all('a',href=True)   \n",
    "hrefs = [tag.get('href') for tag in href_tags]"
   ]
  },
  {
   "cell_type": "code",
   "execution_count": 4,
   "metadata": {},
   "outputs": [
    {
     "name": "stdout",
     "output_type": "stream",
     "text": [
      "0 /\n",
      "1 /movies\n",
      "2 /series\n",
      "3 /\n",
      "4 /series\n",
      "5 /series/Arrow-2193021/season-1/episode-1-Pilot\n",
      "6 /series/Arrow-2193021/season-1/episode-2-Honor_Thy_Father\n",
      "7 /series/Arrow-2193021/season-1/episode-3-Lone_Gunmen\n",
      "8 /series/Arrow-2193021/season-1/episode-4-An_Innocent_Man\n",
      "9 /series/Arrow-2193021/season-1/episode-5-Damaged\n",
      "10 /series/Arrow-2193021/season-1/episode-6-Legacies\n",
      "11 /series/Arrow-2193021/season-1/episode-7-Muse_of_Fire\n",
      "12 /series/Arrow-2193021/season-1/episode-8-Vendetta\n",
      "13 /series/Arrow-2193021/season-1/episode-9-Years_End\n",
      "14 /series/Arrow-2193021/season-1/episode-10-Burned\n",
      "15 /series/Arrow-2193021/season-1/episode-11-Trust_But_Verify\n",
      "16 /series/Arrow-2193021/season-1/episode-12-Vertigo\n",
      "17 /series/Arrow-2193021/season-1/episode-13-Betrayal\n",
      "18 /series/Arrow-2193021/season-1/episode-14-The_Odyssey\n",
      "19 /series/Arrow-2193021/season-1/episode-15-Dodger\n",
      "20 /series/Arrow-2193021/season-1/episode-16-Dead_to_Rights\n",
      "21 /series/Arrow-2193021/season-1/episode-17-The_Huntress_Returns\n",
      "22 /series/Arrow-2193021/season-1/episode-18-Salvation\n",
      "23 /series/Arrow-2193021/season-1/episode-19-Unfinished_Business\n",
      "24 /series/Arrow-2193021/season-1/episode-20-Home_Invasion\n",
      "25 /series/Arrow-2193021/season-1/episode-21-The_Undertaking\n",
      "26 /series/Arrow-2193021/season-1/episode-22-Darkness_on_the_Edge_of_Town\n",
      "27 /series/Arrow-2193021/season-1/episode-23-Sacrifice\n",
      "28 /series/Arrow-2193021/season-2/episode-1-City_of_Heroes\n",
      "29 /series/Arrow-2193021/season-2/episode-2-Identity\n",
      "30 /series/Arrow-2193021/season-2/episode-3-Broken_Dolls\n",
      "31 /series/Arrow-2193021/season-2/episode-4-Crucible\n",
      "32 /series/Arrow-2193021/season-2/episode-5-League_of_Assassins\n",
      "33 /series/Arrow-2193021/season-2/episode-6-Keep_Your_Enemies_Closer\n",
      "34 /series/Arrow-2193021/season-2/episode-7-State_v_Queen\n",
      "35 /series/Arrow-2193021/season-2/episode-8-The_Scientist\n",
      "36 /series/Arrow-2193021/season-2/episode-9-Three_Ghosts\n",
      "37 /series/Arrow-2193021/season-2/episode-10-Blast_Radius\n",
      "38 /series/Arrow-2193021/season-2/episode-11-Blind_Spot\n",
      "39 /series/Arrow-2193021/season-2/episode-12-Tremors\n",
      "40 /series/Arrow-2193021/season-2/episode-13-Heir_to_the_Demon\n",
      "41 /series/Arrow-2193021/season-2/episode-14-Time_of_Death\n",
      "42 /series/Arrow-2193021/season-2/episode-15-The_Promise\n",
      "43 /series/Arrow-2193021/season-2/episode-16-Suicide_Squad\n",
      "44 /series/Arrow-2193021/season-2/episode-17-Birds_of_Prey\n",
      "45 /series/Arrow-2193021/season-2/episode-18-Deathstroke\n",
      "46 /series/Arrow-2193021/season-2/episode-19-The_Man_Under_the_Hood\n",
      "47 /series/Arrow-2193021/season-2/episode-20-Seeing_Red\n",
      "48 /series/Arrow-2193021/season-2/episode-21-City_of_Blood\n",
      "49 /series/Arrow-2193021/season-2/episode-22-Streets_of_Fire\n",
      "50 /series/Arrow-2193021/season-2/episode-23-Unthinkable\n",
      "51 /series/Arrow-2193021/season-3/episode-1-The_Calm\n",
      "52 /series/Arrow-2193021/season-3/episode-2-Sara\n",
      "53 /series/Arrow-2193021/season-3/episode-3-Corto_Maltese\n",
      "54 /series/Arrow-2193021/season-3/episode-5-The_Secret_Origin_of_Felicity_Smoak\n",
      "55 /series/Arrow-2193021/season-3/episode-6-Guilty\n",
      "56 /series/Arrow-2193021/season-3/episode-7-Draw_Back_Your_Bow\n",
      "57 /series/Arrow-2193021/season-3/episode-8-The_Brave_and_the_Bold\n",
      "58 /series/Arrow-2193021/season-3/episode-9-The_Climb\n",
      "59 /series/Arrow-2193021/season-3/episode-10-Left_Behind\n",
      "60 /series/Arrow-2193021/season-3/episode-11-Midnight_City\n",
      "61 /series/Arrow-2193021/season-3/episode-12-Uprising\n",
      "62 /series/Arrow-2193021/season-3/episode-13-Canaries\n",
      "63 /series/Arrow-2193021/season-3/episode-14-The_Return\n",
      "64 /series/Arrow-2193021/season-3/episode-15-Nanda_Parbat\n",
      "65 /series/Arrow-2193021/season-3/episode-16-The_Offer\n",
      "66 /series/Arrow-2193021/season-3/episode-17-Suicidal_Tendencies\n",
      "67 /series/Arrow-2193021/season-3/episode-18-Public_Enemy\n",
      "68 /series/Arrow-2193021/season-3/episode-19-Broken_Arrow\n",
      "69 /series/Arrow-2193021/season-3/episode-20-The_Fallen\n",
      "70 /series/Arrow-2193021/season-3/episode-21-Al_Sah-Him\n",
      "71 /series/Arrow-2193021/season-3/episode-22-This_Is_Your_Sword\n",
      "72 /series/Arrow-2193021/season-3/episode-23-My_Name_Is_Oliver_Queen\n",
      "73 /series/Arrow-2193021/season-4/episode-1-Green_Arrow\n",
      "74 /series/Arrow-2193021/season-4/episode-2-The_Candidate\n",
      "75 /series/Arrow-2193021/season-4/episode-3-Restoration\n",
      "76 /series/Arrow-2193021/season-4/episode-4-Beyond_Redemption\n",
      "77 /series/Arrow-2193021/season-4/episode-5-Haunted\n",
      "78 /series/Arrow-2193021/season-4/episode-6-Lost_Souls\n",
      "79 /series/Arrow-2193021/season-4/episode-7-Brotherhood\n",
      "80 /series/Arrow-2193021/season-4/episode-8-Legends_of_Yesterday\n",
      "81 /series/Arrow-2193021/season-4/episode-9-Dark_Waters\n",
      "82 /series/Arrow-2193021/season-4/episode-10-Blood_Debts\n",
      "83 /series/Arrow-2193021/season-4/episode-11-AWOL\n",
      "84 /series/Arrow-2193021/season-4/episode-12-Unchained\n",
      "85 /series/Arrow-2193021/season-4/episode-13-Sins_of_the_Father\n",
      "86 /series/Arrow-2193021/season-4/episode-14-Code_of_Silence\n",
      "87 /series/Arrow-2193021/season-4/episode-15-Taken\n",
      "88 /series/Arrow-2193021/season-4/episode-16-Broken_Hearts\n",
      "89 /series/Arrow-2193021/season-4/episode-17-Beacon_of_Hope\n",
      "90 /series/Arrow-2193021/season-4/episode-18-Eleven-Fifty-Nine\n",
      "91 /series/Arrow-2193021/season-4/episode-19-Canary_Cry\n",
      "92 /series/Arrow-2193021/season-4/episode-20-Genesis\n",
      "93 /series/Arrow-2193021/season-4/episode-21-Monument_Point\n",
      "94 /series/Arrow-2193021/season-4/episode-22-Lost_in_the_Flood\n",
      "95 /series/Arrow-2193021/season-4/episode-23-Schism\n",
      "96 /series/Arrow-2193021/season-5/episode-1-Legacy\n",
      "97 /series/Arrow-2193021/season-5/episode-2-The_Recruits\n",
      "98 /series/Arrow-2193021/season-5/episode-3-A_Matter_of_Trust\n",
      "99 /series/Arrow-2193021/season-5/episode-4-Penance\n",
      "100 /series/Arrow-2193021/season-5/episode-5-Human_Target\n",
      "101 /series/Arrow-2193021/season-5/episode-6-So_It_Begins\n",
      "102 /series/Arrow-2193021/season-5/episode-7-Vigilante\n",
      "103 /series/Arrow-2193021/season-5/episode-8-Invasion\n",
      "104 /series/Arrow-2193021/season-5/episode-9-What_We_Leave_Behind\n",
      "105 /series/Arrow-2193021/season-5/episode-10-Who_Are_You\n",
      "106 /series/Arrow-2193021/season-5/episode-11-Second_Chances\n",
      "107 /series/Arrow-2193021/season-5/episode-12-Bratva\n",
      "108 /series/Arrow-2193021/season-5/episode-13-Spectre_of_the_Gun\n",
      "109 /series/Arrow-2193021/season-5/episode-14-The_Sin-Eater\n",
      "110 /series/Arrow-2193021/season-5/episode-15-Fighting_Fire_with_Fire\n",
      "111 /series/Arrow-2193021/season-5/episode-16-Checkmate\n",
      "112 /series/Arrow-2193021/season-5/episode-17-Kapiushon\n",
      "113 /series/Arrow-2193021/season-5/episode-18-Disbanded\n",
      "114 /series/Arrow-2193021/season-5/episode-19-Dangerous_Liaisons\n",
      "115 /series/Arrow-2193021/season-5/episode-20-Underneath\n",
      "116 /series/Arrow-2193021/season-5/episode-21-Honor_Thy_Fathers\n",
      "117 /series/Arrow-2193021/season-5/episode-22-Missing\n",
      "118 /series/Arrow-2193021/season-5/episode-23-Lian_Yu\n",
      "119 /series/Arrow-2193021/season-6/episode-1-Fallout\n",
      "120 /series/Arrow-2193021/season-6/episode-2-Tribute\n",
      "121 /series/Arrow-2193021/season-6/episode-3-Next_of_Kin\n",
      "122 /series/Arrow-2193021/season-6/episode-4-Reversal\n",
      "123 /series/Arrow-2193021/season-6/episode-5-Deathstroke_Returns\n",
      "124 /series/Arrow-2193021/season-6/episode-6-Promises_Kept\n",
      "125 /series/Arrow-2193021/season-6/episode-7-Thanksgiving\n",
      "126 /series/Arrow-2193021/season-6/episode-8-Crisis_on_Earth-X_Part_2\n",
      "127 /series/Arrow-2193021/season-6/episode-9-Irreconcilable_Differences\n",
      "128 /series/Arrow-2193021/season-6/episode-10-Divided\n",
      "129 /series/Arrow-2193021/season-6/episode-11-We_Fall\n",
      "130 /series/Arrow-2193021/season-6/episode-12-All_for_Nothing\n",
      "131 /series/Arrow-2193021/season-6/episode-13-The_Devils_Greatest_Trick\n",
      "132 /series/Arrow-2193021/season-6/episode-14-Collision_Course\n",
      "133 /series/Arrow-2193021/season-6/episode-15-Doppelgnger\n",
      "134 /series/Arrow-2193021/season-6/episode-16-The_Thanatos_Guild\n",
      "135 /series/Arrow-2193021/season-6/episode-17-Brothers_in_Arms\n",
      "136 /series/Arrow-2193021/season-6/episode-18-Fundamentals\n",
      "137 /series/Arrow-2193021/season-6/episode-19-The_Dragon\n",
      "138 /series/Arrow-2193021/season-6/episode-20-Shifting_Allegiances\n",
      "139 /series/Arrow-2193021/season-6/episode-21-Docket_No_11-19-41-73\n",
      "140 /series/Arrow-2193021/season-6/episode-22-The_Ties_That_Bind\n",
      "141 /series/Arrow-2193021/season-6/episode-23-Life_Sentence\n",
      "142 /series/Arrow-2193021/season-7/episode-1-Inmate_4587\n",
      "143 /series/Arrow-2193021/season-7/episode-2-The_Longbow_Hunters\n",
      "144 /series/Arrow-2193021/season-7/episode-3-Crossing_Lines\n",
      "145 /series/Arrow-2193021/season-7/episode-4-Level_Two\n",
      "146 /series/Arrow-2193021/season-7/episode-5-The_Demon\n",
      "147 /series/Arrow-2193021/season-7/episode-6-Episode_76\n",
      "148 /series/Arrow-2193021/season-7/episode-7-The_Slabside_Redemption\n",
      "149 /series/Arrow-2193021/season-7/episode-8-Episode_78\n",
      "150 /series/Arrow-2193021/season-7/episode-9-Elseworlds_Part_2\n",
      "151 /series/Arrow-2193021/season-7/episode-10-Episode_710\n",
      "152 /series/Arrow-2193021/season-7/episode-11-Past_Sins\n",
      "153 /series/Arrow-2193021/season-7/episode-15-Training_Day\n",
      "154 /series/Arrow-2193021/season-7/episode-16-Star_City_2040\n",
      "155 /series/Arrow-2193021/season-7/episode-17-Inheritance\n",
      "156 /series/Arrow-2193021/season-7/episode-18-Lost_Canary\n",
      "157 /series/Arrow-2193021/season-7/episode-19-Spartan\n",
      "158 /series/Arrow-2193021/season-7/episode-20-Confessions\n",
      "159 /series/Arrow-2193021/season-7/episode-21-Episode_721\n",
      "160 /series/Arrow-2193021/season-7/episode-22-Episode_722\n",
      "161 /series/Arrow-2193021/season-8/episode-1-Starling_City\n",
      "162 /series/Arrow-2193021/season-8/episode-2-Welcome_to_Hong_Kong\n",
      "163 /series/Arrow-2193021/season-8/episode-3-Leap_of_Faith\n",
      "164 /series/Arrow-2193021/season-8/episode-4-Present_Tense\n",
      "165 /series/Arrow-2193021/season-8/episode-5-Prochnost\n",
      "166 /series/Arrow-2193021/season-8/episode-6-Reset\n",
      "167 /series/Arrow-2193021/season-8/episode-7-Purgatory\n",
      "168 /series/Arrow-2193021/season-8/episode-8-Crisis_on_Infinite_Earths\n",
      "169 /series/Arrow-2193021/season-8/episode-9-Green_Arrow__the_Canaries\n",
      "170 /series/Arrow-2193021/season-8/episode-10-Fadeout\n",
      "171 /dmca\n"
     ]
    }
   ],
   "source": [
    "for count, value in enumerate(hrefs):\n",
    "     print(count, value)"
   ]
  },
  {
   "cell_type": "code",
   "execution_count": 5,
   "metadata": {
    "colab": {
     "base_uri": "https://localhost:8080/",
     "height": 35
    },
    "id": "eIDuBOTVE6ma",
    "outputId": "8403c215-4c86-4b59-cf79-a939134224d6"
   },
   "outputs": [
    {
     "data": {
      "text/plain": [
       "'/series/Arrow-2193021/season-8/episode-10-Fadeout'"
      ]
     },
     "execution_count": 5,
     "metadata": {},
     "output_type": "execute_result"
    }
   ],
   "source": [
    "hrefs[170] #the last with episode name"
   ]
  },
  {
   "cell_type": "code",
   "execution_count": 6,
   "metadata": {
    "colab": {
     "base_uri": "https://localhost:8080/"
    },
    "id": "pXzlFjAtEwvQ",
    "outputId": "a1ea63bf-899d-44d8-da0c-92bf74e257e7"
   },
   "outputs": [
    {
     "data": {
      "text/plain": [
       "172"
      ]
     },
     "execution_count": 6,
     "metadata": {},
     "output_type": "execute_result"
    }
   ],
   "source": [
    "len(hrefs)"
   ]
  },
  {
   "cell_type": "markdown",
   "metadata": {},
   "source": [
    "## List with the episode's names"
   ]
  },
  {
   "cell_type": "code",
   "execution_count": 7,
   "metadata": {},
   "outputs": [],
   "source": [
    "lista=[]   #list with the episode's names\n",
    "\n",
    "for i in range(5,171):\n",
    "    lista.append(hrefs[i])\n",
    "      "
   ]
  },
  {
   "cell_type": "code",
   "execution_count": 8,
   "metadata": {},
   "outputs": [
    {
     "data": {
      "text/plain": [
       "'/series/Arrow-2193021/season-1/episode-1-Pilot'"
      ]
     },
     "execution_count": 8,
     "metadata": {},
     "output_type": "execute_result"
    }
   ],
   "source": [
    "lista[0]  #first episode"
   ]
  },
  {
   "cell_type": "code",
   "execution_count": 9,
   "metadata": {},
   "outputs": [
    {
     "data": {
      "text/plain": [
       "'/series/Arrow-2193021/season-8/episode-10-Fadeout'"
      ]
     },
     "execution_count": 9,
     "metadata": {},
     "output_type": "execute_result"
    }
   ],
   "source": [
    "lista[165] #last episode"
   ]
  },
  {
   "cell_type": "code",
   "execution_count": 10,
   "metadata": {},
   "outputs": [
    {
     "data": {
      "text/plain": [
       "'/series/Arrow-2193021/season-2/episode-18-Deathstroke'"
      ]
     },
     "execution_count": 10,
     "metadata": {},
     "output_type": "execute_result"
    }
   ],
   "source": [
    "lista[40]   #episode in portuguese"
   ]
  },
  {
   "cell_type": "code",
   "execution_count": 11,
   "metadata": {},
   "outputs": [
    {
     "data": {
      "text/plain": [
       "166"
      ]
     },
     "execution_count": 11,
     "metadata": {},
     "output_type": "execute_result"
    }
   ],
   "source": [
    "len(lista)        #its missing 4 episodes from : season 7 (12,13,14) and season 3 (episode 4)"
   ]
  },
  {
   "cell_type": "code",
   "execution_count": 12,
   "metadata": {},
   "outputs": [],
   "source": [
    "df_lista = pd.DataFrame(lista) #puting the episode's name in a list"
   ]
  },
  {
   "cell_type": "code",
   "execution_count": 13,
   "metadata": {},
   "outputs": [
    {
     "data": {
      "text/html": [
       "<div>\n",
       "<style scoped>\n",
       "    .dataframe tbody tr th:only-of-type {\n",
       "        vertical-align: middle;\n",
       "    }\n",
       "\n",
       "    .dataframe tbody tr th {\n",
       "        vertical-align: top;\n",
       "    }\n",
       "\n",
       "    .dataframe thead th {\n",
       "        text-align: right;\n",
       "    }\n",
       "</style>\n",
       "<table border=\"1\" class=\"dataframe\">\n",
       "  <thead>\n",
       "    <tr style=\"text-align: right;\">\n",
       "      <th></th>\n",
       "      <th>0</th>\n",
       "    </tr>\n",
       "  </thead>\n",
       "  <tbody>\n",
       "    <tr>\n",
       "      <th>0</th>\n",
       "      <td>/series/Arrow-2193021/season-1/episode-1-Pilot</td>\n",
       "    </tr>\n",
       "    <tr>\n",
       "      <th>1</th>\n",
       "      <td>/series/Arrow-2193021/season-1/episode-2-Honor...</td>\n",
       "    </tr>\n",
       "    <tr>\n",
       "      <th>2</th>\n",
       "      <td>/series/Arrow-2193021/season-1/episode-3-Lone_...</td>\n",
       "    </tr>\n",
       "    <tr>\n",
       "      <th>3</th>\n",
       "      <td>/series/Arrow-2193021/season-1/episode-4-An_In...</td>\n",
       "    </tr>\n",
       "    <tr>\n",
       "      <th>4</th>\n",
       "      <td>/series/Arrow-2193021/season-1/episode-5-Damaged</td>\n",
       "    </tr>\n",
       "  </tbody>\n",
       "</table>\n",
       "</div>"
      ],
      "text/plain": [
       "                                                   0\n",
       "0     /series/Arrow-2193021/season-1/episode-1-Pilot\n",
       "1  /series/Arrow-2193021/season-1/episode-2-Honor...\n",
       "2  /series/Arrow-2193021/season-1/episode-3-Lone_...\n",
       "3  /series/Arrow-2193021/season-1/episode-4-An_In...\n",
       "4   /series/Arrow-2193021/season-1/episode-5-Damaged"
      ]
     },
     "execution_count": 13,
     "metadata": {},
     "output_type": "execute_result"
    }
   ],
   "source": [
    "df_lista.head()"
   ]
  },
  {
   "cell_type": "markdown",
   "metadata": {},
   "source": [
    "## List with the scripts"
   ]
  },
  {
   "cell_type": "code",
   "execution_count": 14,
   "metadata": {
    "id": "vLRmU3IykrUI"
   },
   "outputs": [],
   "source": [
    "eps = []    #list with the scripts\n",
    "\n",
    "for i in  range(5,171):\n",
    "  url_base= 'https://subslikescript.com'\n",
    "  url_final = url_base + hrefs[i]\n",
    "  page = requests.get(url_final)\n",
    "  soup = BeautifulSoup(page.content, \"lxml\")\n",
    "  results = soup.find_all(\"div\", {\"class\": \"full-script\"})\n",
    "  eps.append(results)\n"
   ]
  },
  {
   "cell_type": "code",
   "execution_count": 15,
   "metadata": {
    "colab": {
     "base_uri": "https://localhost:8080/"
    },
    "id": "RGC2H80GU3Hi",
    "outputId": "9723e6b6-8b3e-411b-d335-73b57ef0878f"
   },
   "outputs": [
    {
     "data": {
      "text/plain": [
       "166"
      ]
     },
     "execution_count": 15,
     "metadata": {},
     "output_type": "execute_result"
    }
   ],
   "source": [
    "len(eps)"
   ]
  },
  {
   "cell_type": "code",
   "execution_count": 16,
   "metadata": {},
   "outputs": [
    {
     "data": {
      "text/plain": [
       "list"
      ]
     },
     "execution_count": 16,
     "metadata": {},
     "output_type": "execute_result"
    }
   ],
   "source": [
    "type(eps)"
   ]
  },
  {
   "cell_type": "code",
   "execution_count": 17,
   "metadata": {
    "id": "UWowL8_57Sik"
   },
   "outputs": [],
   "source": [
    "chars = ['<script async=\"\" src=\"https://pagead2.googlesyndication.com/pagead/js/adsbygoogle.js\"></script>\\n<!-- subslikescript native automated \\'subslikescript article\\' -->\\n<ins class=\"adsbygoogle\" data-ad-client=\"ca-pub-6250492176235895\" data-ad-format=\"fluid\" data-ad-layout=\"in-article\" data-ad-slot=\"8633658590\" style=\"display:block; text-align:center;\"></ins>\\n<script>\\r\\n      \\r\\n</script> ','<script async=\"\" src=\"https://pagead2.googlesyndication.com/pagead/js/adsbygoogle.js\"></script>\\n<!-- subslikescript square adaptive -->\\n<ins class=\"adsbygoogle\" data-ad-client=\"ca-pub-6250492176235895\" data-ad-format=\"auto\" data-ad-slot=\"8838522786\" data-full-width-responsive=\"true\" style=\"display:block\"></ins>\\n<script>\\r\\n      \\r\\n</script> ','OpenSubtitles recommends using Nord VPN from 3.49 USD/month ----&gt; osdb.link/vpn ','Greg, move your head!','OpenSubtitles recommends using Nord VPN from 3.49 USD/month ----&gt; osdb.link/vpn','<script async=\"\" src=\"https://pagead2.googlesyndication.com/pagead/js/adsbygoogle.js\"></script>\\n<!-- subslikescript square adaptive -->\\n<ins class=\"adsbygoogle\" data-ad-client=\"ca-pub-6250492176235895\" data-ad-format=\"auto\" data-ad-slot=\"8838522786\" data-full-width-responsive=\"true\" style=\"display:block\"></ins>\\n<script>\\r\\n      \\r\\n</script>','<script async=\"\" src=\"https://pagead2.googlesyndication.com/pagead/js/adsbygoogle.js\"></script>\\n<!-- subslikescript native automated \\'subslikescript article\\' -->\\n<ins class=\"adsbygoogle\" data-ad-client=\"ca-pub-6250492176235895\" data-ad-format=\"fluid\" data-ad-layout=\"in-article\" data-ad-slot=\"8633658590\" style=\"display:block; text-align:center;\"></ins>\\n<script>\\r\\n      \\r\\n</script>','(adsbygoogle = window.adsbygoogle || []).push({});','[<div class=\"full-script\">','<br/><br/>','<br/>', '</div>]','<script async=\"\" src=\"https://pagead2.googlesyndication.com/pagead/js/adsbygoogle.js\"></script>\\n<!-- subslikescript square adaptive -->\\n<ins class=\"adsbygoogle\" data-ad-client=\"ca-pub-6250492176235895\" data-ad-format=\"auto\" data-ad-slot=\"8838522786\" data-full-width-responsive=\"true\" style=\"display:block\"></ins>\\n<script>\\r\\n     \\r\\n</script>','<script async=\"\" src=\"https://pagead2.googlesyndication.com/pagead/js/adsbygoogle.js\"></script>\\n<!-- subslikescript native automated \\'subslikescript article\\' -->\\n<ins class=\"adsbygoogle\" data-ad-client=\"ca-pub-6250492176235895\" data-ad-format=\"fluid\" data-ad-layout=\"in-article\" data-ad-slot=\"8633658590\" style=\"display:block; text-align:center;\"></ins>\\n<script>\\r\\n     \\r\\n</script>', 'OLIVER:My name is Oliver Queen.For five years, I was strandedon an island with only one goal:Survive.Oliver Queen is alive.OLIVER:Now, I will fulfill my father\\'s dying wish......to use the list of names he left me......and bring down thosewho are poisoning my city.To do this,I must become someone else.I must become something else.','My name is Oliver Queen.After five years in hell,I have come home with only one goal:To save my city.Now others have joined my crusade.To them, I\\'m Oliver Queen.To the rest of Starling City......I am someone else.I am something else.']"
   ]
  },
  {
   "cell_type": "code",
   "execution_count": 18,
   "metadata": {
    "id": "jI66aI2tqAO-"
   },
   "outputs": [],
   "source": [
    "txt=[]\n",
    "for i in range(len(eps)):\n",
    "  txt.append(str(eps[i]))\n",
    "  for c in chars:\n",
    "    txt[i] = txt[i].replace(c,'')\n",
    "    txt[i] = txt[i].replace('1','I')\n",
    "    txt[i] = txt[i].replace('\\\\','') #does not work!"
   ]
  },
  {
   "cell_type": "code",
   "execution_count": 19,
   "metadata": {
    "colab": {
     "base_uri": "https://localhost:8080/",
     "height": 1000
    },
    "id": "kUyttTKuvpzN",
    "outputId": "2952f8cc-2efe-4d7b-a6aa-68e42f567802"
   },
   "outputs": [
    {
     "data": {
      "text/plain": [
       "166"
      ]
     },
     "execution_count": 19,
     "metadata": {},
     "output_type": "execute_result"
    }
   ],
   "source": [
    "len(txt)"
   ]
  },
  {
   "cell_type": "code",
   "execution_count": 20,
   "metadata": {
    "jupyter": {
     "outputs_hidden": true
    }
   },
   "outputs": [],
   "source": [
    "# txt[40]   # in portuguese..."
   ]
  },
  {
   "cell_type": "markdown",
   "metadata": {},
   "source": [
    "## Creating the dataframe with the scripts"
   ]
  },
  {
   "cell_type": "code",
   "execution_count": 21,
   "metadata": {},
   "outputs": [],
   "source": [
    "df_ep = pd.DataFrame(txt,columns=['Episodios'])"
   ]
  },
  {
   "cell_type": "code",
   "execution_count": 22,
   "metadata": {},
   "outputs": [
    {
     "data": {
      "text/plain": [
       "(166, 1)"
      ]
     },
     "execution_count": 22,
     "metadata": {},
     "output_type": "execute_result"
    }
   ],
   "source": [
    "df_ep.shape"
   ]
  },
  {
   "cell_type": "code",
   "execution_count": 23,
   "metadata": {},
   "outputs": [
    {
     "data": {
      "text/html": [
       "<div>\n",
       "<style scoped>\n",
       "    .dataframe tbody tr th:only-of-type {\n",
       "        vertical-align: middle;\n",
       "    }\n",
       "\n",
       "    .dataframe tbody tr th {\n",
       "        vertical-align: top;\n",
       "    }\n",
       "\n",
       "    .dataframe thead th {\n",
       "        text-align: right;\n",
       "    }\n",
       "</style>\n",
       "<table border=\"1\" class=\"dataframe\">\n",
       "  <thead>\n",
       "    <tr style=\"text-align: right;\">\n",
       "      <th></th>\n",
       "      <th>Episodios</th>\n",
       "    </tr>\n",
       "  </thead>\n",
       "  <tbody>\n",
       "    <tr>\n",
       "      <th>0</th>\n",
       "      <td>The name of the islandthey found me on is Lian...</td>\n",
       "    </tr>\n",
       "    <tr>\n",
       "      <th>1</th>\n",
       "      <td>[PANTING][GRUNTS][SPEAKING IN FOREIGN LANGUAGE...</td>\n",
       "    </tr>\n",
       "    <tr>\n",
       "      <th>2</th>\n",
       "      <td>My name is Oliver Queen.To my family, I am the...</td>\n",
       "    </tr>\n",
       "    <tr>\n",
       "      <th>3</th>\n",
       "      <td>My name is Oliver Queen.For 5 years, I was str...</td>\n",
       "    </tr>\n",
       "    <tr>\n",
       "      <th>4</th>\n",
       "      <td>OLIVER:My name is Oliver Queen.For five years,...</td>\n",
       "    </tr>\n",
       "  </tbody>\n",
       "</table>\n",
       "</div>"
      ],
      "text/plain": [
       "                                           Episodios\n",
       "0  The name of the islandthey found me on is Lian...\n",
       "1  [PANTING][GRUNTS][SPEAKING IN FOREIGN LANGUAGE...\n",
       "2  My name is Oliver Queen.To my family, I am the...\n",
       "3  My name is Oliver Queen.For 5 years, I was str...\n",
       "4  OLIVER:My name is Oliver Queen.For five years,..."
      ]
     },
     "execution_count": 23,
     "metadata": {},
     "output_type": "execute_result"
    }
   ],
   "source": [
    "df_ep.head()"
   ]
  },
  {
   "cell_type": "code",
   "execution_count": 24,
   "metadata": {},
   "outputs": [],
   "source": [
    "# Removing punctuation\n",
    "df_ep['text_processed'] = \\\n",
    "df_ep['Episodios'].map(lambda x: re.sub('[,\\.!?]', ' ', x))"
   ]
  },
  {
   "cell_type": "code",
   "execution_count": 25,
   "metadata": {},
   "outputs": [],
   "source": [
    "# Convert the titles to lowercase\n",
    "df_ep['text_processed'] = \\\n",
    "df_ep['text_processed'].map(lambda x: x.lower())     "
   ]
  },
  {
   "cell_type": "code",
   "execution_count": 26,
   "metadata": {},
   "outputs": [
    {
     "data": {
      "text/plain": [
       "0    the name of the islandthey found me on is lian...\n",
       "1    [panting][grunts][speaking in foreign language...\n",
       "2    my name is oliver queen to my family  i am the...\n",
       "3    my name is oliver queen for 5 years  i was str...\n",
       "4    oliver:my name is oliver queen for five years ...\n",
       "Name: text_processed, dtype: object"
      ]
     },
     "execution_count": 26,
     "metadata": {},
     "output_type": "execute_result"
    }
   ],
   "source": [
    "df_ep['text_processed'].head()"
   ]
  },
  {
   "cell_type": "markdown",
   "metadata": {},
   "source": [
    "## First dataset with the raw script, the processed script and the episode name\n"
   ]
  },
  {
   "cell_type": "code",
   "execution_count": 27,
   "metadata": {},
   "outputs": [],
   "source": [
    "df_parcial = pd.concat([df_lista, df_ep], axis=1) "
   ]
  },
  {
   "cell_type": "code",
   "execution_count": 28,
   "metadata": {},
   "outputs": [],
   "source": [
    "df_parcial.columns = ['nome_ep', 'Episodios','text_processed']"
   ]
  },
  {
   "cell_type": "code",
   "execution_count": 29,
   "metadata": {},
   "outputs": [],
   "source": [
    "df_parcial = df_parcial.drop(df_parcial.index[[40]]) #removing line 40"
   ]
  },
  {
   "cell_type": "code",
   "execution_count": 30,
   "metadata": {},
   "outputs": [],
   "source": [
    "df_parcial = df_parcial.reset_index(drop=True)  #reseting the index"
   ]
  },
  {
   "cell_type": "code",
   "execution_count": 31,
   "metadata": {},
   "outputs": [
    {
     "data": {
      "text/html": [
       "<div>\n",
       "<style scoped>\n",
       "    .dataframe tbody tr th:only-of-type {\n",
       "        vertical-align: middle;\n",
       "    }\n",
       "\n",
       "    .dataframe tbody tr th {\n",
       "        vertical-align: top;\n",
       "    }\n",
       "\n",
       "    .dataframe thead th {\n",
       "        text-align: right;\n",
       "    }\n",
       "</style>\n",
       "<table border=\"1\" class=\"dataframe\">\n",
       "  <thead>\n",
       "    <tr style=\"text-align: right;\">\n",
       "      <th></th>\n",
       "      <th>nome_ep</th>\n",
       "      <th>Episodios</th>\n",
       "      <th>text_processed</th>\n",
       "    </tr>\n",
       "  </thead>\n",
       "  <tbody>\n",
       "    <tr>\n",
       "      <th>160</th>\n",
       "      <td>/series/Arrow-2193021/season-8/episode-6-Reset</td>\n",
       "      <td>PREVIOUSLY ON \"ARROW\"...THIS PLACE LOOKSEXACTL...</td>\n",
       "      <td>previously on \"arrow\"   this place looksexactl...</td>\n",
       "    </tr>\n",
       "    <tr>\n",
       "      <th>161</th>\n",
       "      <td>/series/Arrow-2193021/season-8/episode-7-Purga...</td>\n",
       "      <td>Previously on \"Arrow\"...-I need your help, roy...</td>\n",
       "      <td>previously on \"arrow\"   -i need your help  roy...</td>\n",
       "    </tr>\n",
       "    <tr>\n",
       "      <th>162</th>\n",
       "      <td>/series/Arrow-2193021/season-8/episode-8-Crisi...</td>\n",
       "      <td>Previously on Crisison Infinite Earths...There...</td>\n",
       "      <td>previously on crisison infinite earths   there...</td>\n",
       "    </tr>\n",
       "    <tr>\n",
       "      <th>163</th>\n",
       "      <td>/series/Arrow-2193021/season-8/episode-9-Green...</td>\n",
       "      <td>bianca!bianca bertinelli?who the hell are you...</td>\n",
       "      <td>bianca bianca bertinelli who the hell are you...</td>\n",
       "    </tr>\n",
       "    <tr>\n",
       "      <th>164</th>\n",
       "      <td>/series/Arrow-2193021/season-8/episode-10-Fadeout</td>\n",
       "      <td>[Oliver]My name is Oliver Queen.[gunshot][Oliv...</td>\n",
       "      <td>[oliver]my name is oliver queen [gunshot][oliv...</td>\n",
       "    </tr>\n",
       "  </tbody>\n",
       "</table>\n",
       "</div>"
      ],
      "text/plain": [
       "                                               nome_ep  \\\n",
       "160     /series/Arrow-2193021/season-8/episode-6-Reset   \n",
       "161  /series/Arrow-2193021/season-8/episode-7-Purga...   \n",
       "162  /series/Arrow-2193021/season-8/episode-8-Crisi...   \n",
       "163  /series/Arrow-2193021/season-8/episode-9-Green...   \n",
       "164  /series/Arrow-2193021/season-8/episode-10-Fadeout   \n",
       "\n",
       "                                             Episodios  \\\n",
       "160  PREVIOUSLY ON \"ARROW\"...THIS PLACE LOOKSEXACTL...   \n",
       "161  Previously on \"Arrow\"...-I need your help, roy...   \n",
       "162  Previously on Crisison Infinite Earths...There...   \n",
       "163   bianca!bianca bertinelli?who the hell are you...   \n",
       "164  [Oliver]My name is Oliver Queen.[gunshot][Oliv...   \n",
       "\n",
       "                                        text_processed  \n",
       "160  previously on \"arrow\"   this place looksexactl...  \n",
       "161  previously on \"arrow\"   -i need your help  roy...  \n",
       "162  previously on crisison infinite earths   there...  \n",
       "163   bianca bianca bertinelli who the hell are you...  \n",
       "164  [oliver]my name is oliver queen [gunshot][oliv...  "
      ]
     },
     "execution_count": 31,
     "metadata": {},
     "output_type": "execute_result"
    }
   ],
   "source": [
    "df_parcial.tail()"
   ]
  },
  {
   "cell_type": "code",
   "execution_count": 32,
   "metadata": {},
   "outputs": [
    {
     "data": {
      "text/plain": [
       "(165, 3)"
      ]
     },
     "execution_count": 32,
     "metadata": {},
     "output_type": "execute_result"
    }
   ],
   "source": [
    "df_parcial.shape"
   ]
  },
  {
   "cell_type": "code",
   "execution_count": 33,
   "metadata": {},
   "outputs": [
    {
     "data": {
      "text/plain": [
       "nome_ep           0\n",
       "Episodios         0\n",
       "text_processed    0\n",
       "dtype: int64"
      ]
     },
     "execution_count": 33,
     "metadata": {},
     "output_type": "execute_result"
    }
   ],
   "source": [
    "df_parcial.isnull().sum()"
   ]
  },
  {
   "cell_type": "markdown",
   "metadata": {},
   "source": [
    "----------------------------------------------------------------------------"
   ]
  },
  {
   "cell_type": "markdown",
   "metadata": {},
   "source": [
    "# Wordcloud"
   ]
  },
  {
   "cell_type": "code",
   "execution_count": 34,
   "metadata": {},
   "outputs": [
    {
     "data": {
      "image/png": "[encoded data removed]",
      "text/plain": [
       "<PIL.Image.Image image mode=RGB size=400x200 at 0x7F0A20202AC0>"
      ]
     },
     "execution_count": 34,
     "metadata": {},
     "output_type": "execute_result"
    }
   ],
   "source": [
    "# Import the wordcloud library\n",
    "from wordcloud import WordCloud\n",
    "\n",
    "# Join the different processed texts together.\n",
    "long_string = ','.join(list(df_parcial['text_processed'].values))\n",
    "\n",
    "# Create a WordCloud object\n",
    "wordcloud = WordCloud(background_color=\"white\", max_words=1000, contour_width=3, contour_color='steelblue')\n",
    "\n",
    "# Generate a word cloud\n",
    "wordcloud.generate(long_string)\n",
    "\n",
    "# Visualize the word cloud\n",
    "wordcloud.to_image()"
   ]
  },
  {
   "cell_type": "code",
   "execution_count": 35,
   "metadata": {
    "jupyter": {
     "outputs_hidden": true
    }
   },
   "outputs": [],
   "source": [
    "# df_parcial['text_processed'].values #todo o dataset"
   ]
  },
  {
   "cell_type": "markdown",
   "metadata": {},
   "source": [
    "# Tokenization and remotion of stopwords (english) "
   ]
  },
  {
   "cell_type": "code",
   "execution_count": 36,
   "metadata": {},
   "outputs": [
    {
     "name": "stdout",
     "output_type": "stream",
     "text": [
      "['your', 'yours', 'yourself', 'yourselves', 'he', 'him', 'his', 'himself', 'she', \"she's\", 'her', 'hers', 'herself', 'it', \"it's\", 'its', 'itself', 'they', 'them', 'their', 'theirs', 'themselves', 'what', 'which', 'who', 'whom', 'this', 'that', \"that'll\", 'these', 'those', 'am', 'is', 'are', 'was', 'were', 'be', 'been', 'being', 'have', 'has', 'had', 'having', 'do', 'does', 'did', 'doing', 'a', 'an', 'the', 'and', 'but', 'if', 'or', 'because', 'as', 'until', 'while', 'of', 'at']\n"
     ]
    },
    {
     "name": "stderr",
     "output_type": "stream",
     "text": [
      "[nltk_data] Downloading package stopwords to\n",
      "[nltk_data]     /home/annagomes/nltk_data...\n",
      "[nltk_data]   Package stopwords is already up-to-date!\n"
     ]
    }
   ],
   "source": [
    "import gensim\n",
    "from gensim.utils import simple_preprocess\n",
    "import nltk\n",
    "nltk.download('stopwords')\n",
    "from nltk.corpus import stopwords\n",
    "\n",
    "stop_words = stopwords.words('english')\n",
    "stop_words.extend(['from', 'subject', 're', 'edu','arrow','really', 'look', 'tell', 'mean', 'make','way','see','take',  'use','time','man','data', 'ad', 'would', 'think','script', 'could' ,'like','want', 'come',  'one', 'yeah', 'get','go','got','right','know','gonna','need','oh','well','ok','let','back','going','hey'])\n",
    "print(stopwords.words() [620:680])\n",
    "\n",
    "\n"
   ]
  },
  {
   "cell_type": "code",
   "execution_count": 37,
   "metadata": {},
   "outputs": [
    {
     "name": "stdout",
     "output_type": "stream",
     "text": [
      "['name', 'islandthey', 'found', 'lian', 'yu', 'mandarin', 'purgatory', 'stranded', 'five', 'years', 'dreamt', 'rescueevery', 'cold', 'black', 'night', 'since', 'five', 'years', 'thought', 'goal', 'survive', 'survive', 'day', 'return', 'home', 'island', 'held', 'many', 'dangers', 'live']\n"
     ]
    }
   ],
   "source": [
    "def sent_to_words(sentences):\n",
    "    for sentence in sentences:\n",
    "        # deacc=True removes punctuations\n",
    "        yield(gensim.utils.simple_preprocess(str(sentence), deacc=True))\n",
    "\n",
    "def remove_stopwords(texts):\n",
    "    return [[word for word in simple_preprocess(str(doc)) \n",
    "             if word not in stop_words] for doc in texts]\n",
    "\n",
    "\n",
    "data = df_parcial.text_processed.values.tolist()   \n",
    "data_words = list(sent_to_words(data))\n",
    "\n",
    "# remove stop words\n",
    "data_words = remove_stopwords(data_words)\n",
    "\n",
    "print(data_words[:1][0][:30]) "
   ]
  },
  {
   "cell_type": "code",
   "execution_count": 38,
   "metadata": {},
   "outputs": [
    {
     "data": {
      "text/plain": [
       "165"
      ]
     },
     "execution_count": 38,
     "metadata": {},
     "output_type": "execute_result"
    }
   ],
   "source": [
    "len(data_words)"
   ]
  },
  {
   "cell_type": "code",
   "execution_count": 39,
   "metadata": {},
   "outputs": [
    {
     "name": "stdout",
     "output_type": "stream",
     "text": [
      "[(0, 3), (1, 2), (2, 1), (3, 2), (4, 1), (5, 1), (6, 2), (7, 1), (8, 1), (9, 2), (10, 1), (11, 1), (12, 1), (13, 1), (14, 1), (15, 1), (16, 5), (17, 1), (18, 4), (19, 2), (20, 1), (21, 1), (22, 2), (23, 1), (24, 1), (25, 1), (26, 4), (27, 1), (28, 1), (29, 1)]\n"
     ]
    }
   ],
   "source": [
    "import gensim.corpora as corpora\n",
    "\n",
    "# Create Dictionary\n",
    "id2word = corpora.Dictionary(data_words)\n",
    "\n",
    "# Create Corpus\n",
    "texts = data_words\n",
    "\n",
    "# Term Document Frequency\n",
    "corpus = [id2word.doc2bow(text) for text in texts]\n",
    "\n",
    "# View\n",
    "print(corpus[:1][0][:30])\n"
   ]
  },
  {
   "cell_type": "markdown",
   "metadata": {},
   "source": [
    "# Model training"
   ]
  },
  {
   "cell_type": "code",
   "execution_count": 40,
   "metadata": {},
   "outputs": [
    {
     "name": "stdout",
     "output_type": "stream",
     "text": [
      "[(0,\n",
      "  '0.008*\"oliver\" + 0.005*\"us\" + 0.004*\"city\" + 0.004*\"something\" + '\n",
      "  '0.004*\"good\" + 0.004*\"sorry\" + 0.003*\"thank\" + 0.003*\"never\" + 0.003*\"find\" '\n",
      "  '+ 0.003*\"help\"'),\n",
      " (1,\n",
      "  '0.008*\"oliver\" + 0.005*\"city\" + 0.005*\"good\" + 0.005*\"us\" + '\n",
      "  '0.004*\"felicity\" + 0.004*\"laurel\" + 0.003*\"sorry\" + 0.003*\"something\" + '\n",
      "  '0.003*\"queen\" + 0.003*\"uh\"'),\n",
      " (2,\n",
      "  '0.007*\"oliver\" + 0.005*\"city\" + 0.004*\"us\" + 0.003*\"good\" + 0.003*\"thea\" + '\n",
      "  '0.003*\"said\" + 0.003*\"felicity\" + 0.003*\"people\" + 0.003*\"queen\" + '\n",
      "  '0.003*\"father\"')]\n"
     ]
    }
   ],
   "source": [
    "from pprint import pprint\n",
    "\n",
    "# number of topics\n",
    "num_topics = 3\n",
    "\n",
    "# Build LDA model\n",
    "lda_model = gensim.models.LdaMulticore(corpus=corpus,\n",
    "                                       id2word=id2word,\n",
    "                                       num_topics=num_topics)\n",
    "\n",
    "# Print the Keyword in the 10 topics\n",
    "pprint(lda_model.print_topics())\n",
    "doc_lda = lda_model[corpus]"
   ]
  },
  {
   "cell_type": "code",
   "execution_count": 41,
   "metadata": {},
   "outputs": [
    {
     "data": {
      "text/html": [
       "\n",
       "<link rel=\"stylesheet\" type=\"text/css\" href=\"https://cdn.jsdelivr.net/gh/bmabey/pyLDAvis@3.3.1/pyLDAvis/js/ldavis.v1.0.0.css\">\n",
       "\n",
       "\n",
       "<div id=\"ldavis_el347171396812371856965170714706\"></div>\n",
       "<script type=\"text/javascript\">\n",
       "\n",
       "var ldavis_el347171396812371856965170714706_data = {\"mdsDat\": {\"x\": [0.003648035561048479, -0.004759433291715024, 0.0011113977306665488], \"y\": [-0.002867158522570288, -0.0012388267940819434, 0.004105985316652229], \"topics\": [1, 2, 3], \"cluster\": [1, 1, 1], \"Freq\": [19.865881882831253, 63.12787264007269, 17.006245477096062]}, \"tinfo\": {\"Term\": [\"oliver\", \"city\", \"us\", \"something\", \"never\", \"find\", \"thea\", \"thank\", \"yes\", \"mr\", \"sorry\", \"said\", \"father\", \"good\", \"life\", \"still\", \"say\", \"help\", \"maybe\", \"last\", \"thought\", \"queen\", \"two\", \"kill\", \"people\", \"okay\", \"keep\", \"sure\", \"name\", \"guy\", \"samo\", \"ti\", \"ga\", \"ali\", \"puno\", \"koji\", \"sada\", \"fotke\", \"ulice\", \"poslala\", \"kapu\", \"weaker\", \"savage\", \"svoju\", \"ovaj\", \"vasim\", \"netko\", \"nista\", \"su\", \"jako\", \"pronaci\", \"si\", \"toga\", \"bila\", \"imamo\", \"mi\", \"tocno\", \"tako\", \"pronasla\", \"prijatelj\", \"wake\", \"connor\", \"na\", \"je\", \"se\", \"ne\", \"never\", \"nobody\", \"nije\", \"might\", \"yes\", \"iike\", \"thank\", \"put\", \"wanted\", \"still\", \"used\", \"last\", \"something\", \"love\", \"find\", \"save\", \"else\", \"sorry\", \"oliver\", \"thought\", \"help\", \"us\", \"slot\", \"mr\", \"every\", \"wrong\", \"even\", \"two\", \"sara\", \"talking\", \"good\", \"city\", \"thing\", \"maybe\", \"father\", \"thea\", \"queen\", \"say\", \"felicity\", \"laurel\", \"uh\", \"said\", \"sure\", \"darhk\", \"vasquez\", \"normal\", \"crisis\", \"announce\", \"kingpin\", \"nothingi\", \"thisthe\", \"listenedto\", \"somber\", \"ended\", \"timei\", \"machin\", \"chirps\", \"aahh\", \"eric\", \"doas\", \"mathis\", \"faceoff\", \"mission\", \"curve\", \"among\", \"justmy\", \"byrne\", \"sensethat\", \"familyin\", \"twice\", \"dramatic\", \"clayton\", \"far\", \"first\", \"william\", \"gone\", \"andy\", \"almost\", \"anymore\", \"field\", \"likeyou\", \"mind\", \"uh\", \"told\", \"laurel\", \"john\", \"black\", \"stop\", \"much\", \"js\", \"felicity\", \"care\", \"always\", \"home\", \"good\", \"people\", \"mother\", \"kill\", \"listen\", \"oliver\", \"adsbygoogle\", \"queen\", \"us\", \"city\", \"guys\", \"green\", \"better\", \"sorry\", \"work\", \"someone\", \"thing\", \"something\", \"help\", \"okay\", \"even\", \"said\", \"maybe\", \"find\", \"still\", \"say\", \"thank\", \"thought\", \"thea\", \"two\", \"father\", \"ioveis\", \"commissioner\", \"purpie\", \"allowed\", \"inspire\", \"learnedmuch\", \"tools\", \"gradeoxycodone\", \"drinksand\", \"backseat\", \"dig\", \"heii\", \"reasonsfor\", \"restaurantat\", \"dadtoday\", \"venza\", \"offenses\", \"posao\", \"hamlet\", \"mobbed\", \"lived\", \"waythey\", \"millimeter\", \"milliamps\", \"restand\", \"caredso\", \"protects\", \"bratvathat\", \"deaiing\", \"americanssay\", \"iittie\", \"ieft\", \"iist\", \"chuckle\", \"holidays\", \"torture\", \"mueiier\", \"alone\", \"party\", \"helena\", \"king\", \"credit\", \"steps\", \"especially\", \"life\", \"sir\", \"name\", \"supposed\", \"mob\", \"men\", \"thea\", \"palmer\", \"wiii\", \"happy\", \"killed\", \"knew\", \"day\", \"keep\", \"said\", \"peopie\", \"mr\", \"five\", \"city\", \"kill\", \"guy\", \"father\", \"every\", \"ca\", \"ago\", \"wait\", \"say\", \"place\", \"okay\", \"people\", \"heh\", \"fine\", \"oliver\", \"sure\", \"give\", \"maybe\", \"someone\", \"us\", \"find\", \"queen\", \"made\", \"yes\", \"good\", \"felicity\", \"never\", \"something\", \"laurel\", \"sorry\", \"help\", \"two\", \"thank\", \"uh\"], \"Freq\": [2519.0, 1572.0, 1417.0, 1035.0, 722.0, 833.0, 747.0, 779.0, 679.0, 657.0, 1067.0, 743.0, 697.0, 1404.0, 567.0, 713.0, 709.0, 831.0, 740.0, 570.0, 703.0, 950.0, 671.0, 650.0, 824.0, 675.0, 472.0, 621.0, 384.0, 523.0, 6.5080245198369955, 11.987509945825435, 3.2423438141422207, 7.443192241941508, 2.1149627435213034, 2.694770558782521, 2.538239838371065, 0.864022433694924, 1.447251244199534, 1.161178043720476, 1.4347918478924986, 1.4988178813625015, 12.674666482000537, 1.7144303192232702, 2.560261590873508, 1.4032596679326508, 1.1522951954832572, 1.402301611889935, 5.037603839678244, 1.4187215955404262, 1.429706215688163, 9.895908132778098, 1.406711470337466, 1.6162999412022452, 0.8581061167232228, 9.931205671365268, 1.1108865196365287, 3.444658410791336, 0.8162577386634671, 1.3837285110598885, 15.439357161057146, 9.957811856229968, 20.088750624149718, 33.498277131462245, 14.48223093448614, 16.199187791027416, 205.1876146432363, 27.70082305725646, 4.744950276196904, 103.5464394368229, 183.5969402157225, 51.33755044287957, 207.76727564368997, 116.98497882179244, 112.94703749665626, 186.59699760804537, 70.1944720498075, 149.28844220725694, 254.3337676746176, 109.46428976496765, 204.14650436042675, 94.17484865334445, 106.5160182774453, 243.16336727379957, 507.48543655895173, 167.05182907813807, 187.215665156627, 292.3764371939915, 63.07857789146738, 148.82434072238334, 76.1849675316867, 81.65537838153558, 147.80568045829753, 145.8011910286986, 112.26571751724516, 60.498498660458644, 249.53128595801493, 263.70069817476815, 142.67128798583323, 145.6915847496602, 138.22083690215197, 137.56424480430917, 158.77752590309788, 130.6942851491535, 165.53489191810752, 140.38352203920468, 125.40900106714354, 120.98386040044655, 114.82259988925327, 279.6873567017521, 10.751969160968711, 50.97859347440565, 32.44103180352495, 4.041687185855593, 3.2185200606730415, 3.9986081210134956, 9.596438037792588, 3.985484122641313, 3.969882687754536, 18.252602703060653, 15.107936652779669, 36.44223750615568, 3.1554765137909375, 6.307819613639602, 10.217347186592683, 3.142424083334833, 14.11057359068158, 2.353802383343073, 90.37672385895817, 7.0053487059199675, 7.764720635692487, 3.1024508064777665, 5.4078374945941, 5.385529812234421, 3.0728411571779373, 31.49862845115612, 21.462009164389404, 11.464541606717733, 140.34840644378815, 446.7389110703402, 218.05452098282777, 235.7494679670818, 112.59353498940122, 113.8565952378025, 185.9376288000389, 66.22500106615854, 31.897584355560035, 164.2391503412907, 639.1911217892954, 541.949271167016, 718.8356603808527, 489.6631667227785, 155.89314174175715, 446.4925216470129, 449.74186226387667, 414.9503561705154, 750.3817654300984, 226.57783408839848, 292.56309079369663, 373.6719400969393, 970.789896341614, 577.79164642479, 253.22954210999458, 456.1143347754646, 242.7503023320156, 1636.6978714970476, 389.03325980463813, 643.38249494031, 919.4753000300415, 1012.2394227737136, 414.26235488152884, 375.8583555074861, 371.8830418161105, 693.6794948645365, 405.59140272736255, 391.4270248965191, 465.5160539420653, 646.2514057309422, 530.8916498983888, 438.022677561935, 434.856257831712, 465.1059111936602, 462.5504100278074, 491.1882085589384, 441.8618624022024, 440.51172810311846, 460.8813601950428, 434.35341646189323, 443.3216876967226, 418.3980993667489, 418.51590683134117, 0.4819585226776561, 2.158327862190327, 0.6987429587060899, 5.018462694985672, 2.2952218241707283, 0.46806812562079253, 2.278972331750043, 0.6977747661094411, 0.9495571867726592, 0.8871283439162299, 33.30160571521815, 7.817946235385253, 1.1362939873333466, 0.8845261514946342, 0.4530323203599282, 2.8827668841703313, 0.4570051865968992, 1.0823457204467792, 0.45411873994152685, 0.8821071684438861, 4.598383387051903, 0.7021500136690805, 1.1026139313951766, 0.6669885491349548, 0.6717761176750592, 0.4611617117369799, 0.6648461283214974, 0.4650988151850941, 1.360486515250171, 0.4465897238746133, 11.970415195916376, 7.660739408918412, 6.236779038146362, 4.167035803746488, 3.724748403308985, 7.684746429639279, 1.8634538782521586, 43.69428334536779, 34.98237527630503, 16.223051132816764, 7.334846500138043, 7.584023232017627, 6.612161253356838, 13.967486045853798, 135.28940112423913, 30.961921753853158, 91.05002414820537, 39.15777158095935, 4.484543037812342, 62.23244400921777, 167.0382544766139, 24.98435580476757, 20.10441737543309, 33.696426904197416, 97.26414076657503, 69.10341956657082, 71.78941199435052, 104.27680569628916, 157.52486354959925, 24.02288101824458, 138.76953045343055, 53.288399877477524, 296.5772229198473, 133.76800173865678, 109.10979297824177, 140.8215649137907, 65.47199166338224, 56.02286027438768, 64.7682311254619, 93.46474043851313, 137.8953808051955, 82.74063485878709, 128.9311145145897, 151.9485217272431, 96.03332542860494, 97.7639854786919, 375.2416382806199, 116.54728947117317, 99.85569066170795, 132.19784668329615, 106.97646710151258, 205.78654492225232, 138.36884656458417, 148.80129401427953, 87.11728415991593, 115.3770511029315, 184.61081824299288, 154.50252349116602, 118.03425428588935, 135.29103782125765, 131.6143386228029, 130.32565709454133, 113.87549666869869, 106.91858812452563, 110.72141528697006, 105.13669817908946], \"Total\": [2519.0, 1572.0, 1417.0, 1035.0, 722.0, 833.0, 747.0, 779.0, 679.0, 657.0, 1067.0, 743.0, 697.0, 1404.0, 567.0, 713.0, 709.0, 831.0, 740.0, 570.0, 703.0, 950.0, 671.0, 650.0, 824.0, 675.0, 472.0, 621.0, 384.0, 523.0, 14.133729253623223, 27.19126682740623, 7.5734813404013686, 17.854468877522528, 5.174977174257734, 6.619999187964857, 6.2472502720122165, 2.1390328176271804, 3.596543101361254, 2.919557074753417, 3.65041531367764, 3.817709207148494, 32.631744833833814, 4.427032692645922, 6.660850596879037, 3.6605592862501193, 3.0070670109517175, 3.6823261129214897, 13.25462363936662, 3.742367361091242, 3.7740801438511298, 26.23225541181973, 3.7300160182676714, 4.297056291146363, 2.281902470459842, 26.451431742567422, 2.9629407991448344, 9.188375600843585, 2.1783336342254587, 3.7261359453239877, 42.751625875592694, 27.361122568934917, 56.415246944560565, 95.92454764818305, 41.635342254820046, 48.16565876878843, 722.918294347881, 86.81205154818161, 13.446429166619644, 365.68465219995534, 679.1253657005329, 173.23369510649934, 779.370051125703, 420.0091232981701, 405.0528114785081, 713.0241690974708, 248.35134111967002, 570.8085201774103, 1035.8762112268173, 413.60662440744886, 833.7035594839493, 353.2721582726057, 416.4683005408254, 1067.1685192328775, 2519.424946336619, 703.2925758828451, 831.9828117237145, 1417.6382821462853, 235.70339901727522, 657.3318393628682, 298.1703937857479, 325.22574749834894, 673.7100636139395, 671.1178785199731, 486.12455531289527, 228.22888243304303, 1404.932000542622, 1572.5173438683291, 703.6592802791512, 740.4398414607638, 697.5583086472838, 747.9241869776457, 950.9613148576874, 709.1013940574675, 1070.419180839372, 990.8335210428602, 869.7368210355284, 743.614635143706, 621.1792212641038, 346.69859942956856, 13.535517325114037, 64.37976043336757, 41.246167536919515, 5.151553881823488, 4.108458425807844, 5.1201021043821155, 12.298000762498582, 5.111404743528612, 5.096727709493672, 23.45208566729208, 19.420507432951133, 46.872010752077315, 4.065830520681264, 8.131703287304699, 13.181613658229644, 4.066349931706758, 18.278133987264894, 3.0513015281135534, 117.199293034394, 9.098125882332413, 10.085021238329418, 4.039229744894796, 7.052969034292726, 7.0524345884023, 4.025075677476361, 41.262322095657865, 28.14256012170329, 15.036163630520178, 184.39408567871192, 588.968352568001, 287.3989816417953, 312.98344173251525, 148.67912094781934, 150.7431997269919, 247.47692251818324, 87.69071630231579, 42.006446439894816, 219.97121148592333, 869.7368210355284, 742.2912871774807, 990.8335210428602, 676.7833844005133, 210.68807159593217, 617.8338786927394, 622.5442168947839, 573.8896120432239, 1070.419180839372, 312.015546825705, 406.5107736037261, 524.8623054338798, 1404.932000542622, 824.2698182157263, 352.21511206886333, 650.0683945447372, 338.93643393813, 2519.424946336619, 556.7648023052168, 950.9613148576874, 1417.6382821462853, 1572.5173438683291, 602.3135402201272, 544.2910442085674, 538.0537792625119, 1067.1685192328775, 595.086019217044, 573.1673494456174, 703.6592802791512, 1035.8762112268173, 831.9828117237145, 675.6262369695022, 673.7100636139395, 743.614635143706, 740.4398414607638, 833.7035594839493, 713.0241690974708, 709.1013940574675, 779.370051125703, 703.2925758828451, 747.9241869776457, 671.1178785199731, 697.5583086472838, 1.5170302615797475, 6.829247552945574, 2.2738819474496235, 16.51205101058791, 7.553991515989692, 1.5536496273969187, 7.569304881444835, 2.3344547695686835, 3.1873345722705517, 2.981804839733486, 112.1061313503391, 26.366047131703947, 3.8453373708351855, 3.002506887375596, 1.5387120750323946, 9.806382080259018, 1.5561322963580315, 3.6962181665090843, 1.5517251750951897, 3.016524073353107, 15.73390257162336, 2.4050666800127902, 3.777089569518987, 2.28597924280491, 2.304249908384686, 1.5868511426359346, 2.2959147914160685, 1.607083758816602, 4.701742046449388, 1.5463934963703105, 41.75315079527626, 26.608191482805434, 21.637454191314394, 14.600355917037735, 13.161539172633013, 27.580257082544, 6.505741038517753, 164.0005060777134, 130.6226665509246, 60.145466208009495, 26.642975091690268, 27.718085394672308, 24.05146858006581, 52.552187953165564, 567.1029060946585, 122.09039710457985, 384.6234324006049, 159.12883445021976, 16.304963000204552, 260.26184707696655, 747.9241869776457, 99.99275732025556, 79.42319709034375, 138.75368476796882, 430.7419706381038, 300.770800603962, 314.4363115447816, 472.1366273465455, 743.614635143706, 96.91491387925807, 657.3318393628682, 234.40031404791927, 1572.5173438683291, 650.0683945447372, 523.5133977908304, 697.5583086472838, 298.1703937857479, 252.13419780249237, 299.0500675406138, 454.120718401927, 709.1013940574675, 398.0559829210338, 675.6262369695022, 824.2698182157263, 483.66250105830983, 497.7031226486385, 2519.424946336619, 621.1792212641038, 516.8319403390773, 740.4398414607638, 573.1673494456174, 1417.6382821462853, 833.7035594839493, 950.9613148576874, 446.2776253981924, 679.1253657005329, 1404.932000542622, 1070.419180839372, 722.918294347881, 1035.8762112268173, 990.8335210428602, 1067.1685192328775, 831.9828117237145, 671.1178785199731, 779.370051125703, 869.7368210355284], \"Category\": [\"Default\", \"Default\", \"Default\", \"Default\", \"Default\", \"Default\", \"Default\", \"Default\", \"Default\", \"Default\", \"Default\", \"Default\", \"Default\", \"Default\", \"Default\", \"Default\", \"Default\", \"Default\", \"Default\", \"Default\", \"Default\", \"Default\", \"Default\", \"Default\", \"Default\", \"Default\", \"Default\", \"Default\", \"Default\", \"Default\", \"Topic1\", \"Topic1\", \"Topic1\", \"Topic1\", \"Topic1\", \"Topic1\", \"Topic1\", \"Topic1\", \"Topic1\", \"Topic1\", \"Topic1\", \"Topic1\", \"Topic1\", \"Topic1\", \"Topic1\", \"Topic1\", \"Topic1\", \"Topic1\", \"Topic1\", \"Topic1\", \"Topic1\", \"Topic1\", \"Topic1\", \"Topic1\", \"Topic1\", \"Topic1\", \"Topic1\", \"Topic1\", \"Topic1\", \"Topic1\", \"Topic1\", \"Topic1\", \"Topic1\", \"Topic1\", \"Topic1\", \"Topic1\", \"Topic1\", \"Topic1\", \"Topic1\", \"Topic1\", \"Topic1\", \"Topic1\", \"Topic1\", \"Topic1\", \"Topic1\", \"Topic1\", \"Topic1\", \"Topic1\", \"Topic1\", \"Topic1\", \"Topic1\", \"Topic1\", \"Topic1\", \"Topic1\", \"Topic1\", \"Topic1\", \"Topic1\", \"Topic1\", \"Topic1\", \"Topic1\", \"Topic1\", \"Topic1\", \"Topic1\", \"Topic1\", \"Topic1\", \"Topic1\", \"Topic1\", \"Topic1\", \"Topic1\", \"Topic1\", \"Topic1\", \"Topic1\", \"Topic1\", \"Topic1\", \"Topic1\", \"Topic1\", \"Topic1\", \"Topic1\", \"Topic1\", \"Topic2\", \"Topic2\", \"Topic2\", \"Topic2\", \"Topic2\", \"Topic2\", \"Topic2\", \"Topic2\", \"Topic2\", \"Topic2\", \"Topic2\", \"Topic2\", \"Topic2\", \"Topic2\", \"Topic2\", \"Topic2\", \"Topic2\", \"Topic2\", \"Topic2\", \"Topic2\", \"Topic2\", \"Topic2\", \"Topic2\", \"Topic2\", \"Topic2\", \"Topic2\", \"Topic2\", \"Topic2\", \"Topic2\", \"Topic2\", \"Topic2\", \"Topic2\", \"Topic2\", \"Topic2\", \"Topic2\", \"Topic2\", \"Topic2\", \"Topic2\", \"Topic2\", \"Topic2\", \"Topic2\", \"Topic2\", \"Topic2\", \"Topic2\", \"Topic2\", \"Topic2\", \"Topic2\", \"Topic2\", \"Topic2\", \"Topic2\", \"Topic2\", \"Topic2\", \"Topic2\", \"Topic2\", \"Topic2\", \"Topic2\", \"Topic2\", \"Topic2\", \"Topic2\", \"Topic2\", \"Topic2\", \"Topic2\", \"Topic2\", \"Topic2\", \"Topic2\", \"Topic2\", \"Topic2\", \"Topic2\", \"Topic2\", \"Topic2\", \"Topic2\", \"Topic2\", \"Topic2\", \"Topic2\", \"Topic2\", \"Topic2\", \"Topic2\", \"Topic2\", \"Topic2\", \"Topic2\", \"Topic2\", \"Topic2\", \"Topic3\", \"Topic3\", \"Topic3\", \"Topic3\", \"Topic3\", \"Topic3\", \"Topic3\", \"Topic3\", \"Topic3\", \"Topic3\", \"Topic3\", \"Topic3\", \"Topic3\", \"Topic3\", \"Topic3\", \"Topic3\", \"Topic3\", \"Topic3\", \"Topic3\", \"Topic3\", \"Topic3\", \"Topic3\", \"Topic3\", \"Topic3\", \"Topic3\", \"Topic3\", \"Topic3\", \"Topic3\", \"Topic3\", \"Topic3\", \"Topic3\", \"Topic3\", \"Topic3\", \"Topic3\", \"Topic3\", \"Topic3\", \"Topic3\", \"Topic3\", \"Topic3\", \"Topic3\", \"Topic3\", \"Topic3\", \"Topic3\", \"Topic3\", \"Topic3\", \"Topic3\", \"Topic3\", \"Topic3\", \"Topic3\", \"Topic3\", \"Topic3\", \"Topic3\", \"Topic3\", \"Topic3\", \"Topic3\", \"Topic3\", \"Topic3\", \"Topic3\", \"Topic3\", \"Topic3\", \"Topic3\", \"Topic3\", \"Topic3\", \"Topic3\", \"Topic3\", \"Topic3\", \"Topic3\", \"Topic3\", \"Topic3\", \"Topic3\", \"Topic3\", \"Topic3\", \"Topic3\", \"Topic3\", \"Topic3\", \"Topic3\", \"Topic3\", \"Topic3\", \"Topic3\", \"Topic3\", \"Topic3\", \"Topic3\", \"Topic3\", \"Topic3\", \"Topic3\", \"Topic3\", \"Topic3\", \"Topic3\", \"Topic3\", \"Topic3\", \"Topic3\", \"Topic3\", \"Topic3\", \"Topic3\", \"Topic3\", \"Topic3\"], \"logprob\": [30.0, 29.0, 28.0, 27.0, 26.0, 25.0, 24.0, 23.0, 22.0, 21.0, 20.0, 19.0, 18.0, 17.0, 16.0, 15.0, 14.0, 13.0, 12.0, 11.0, 10.0, 9.0, 8.0, 7.0, 6.0, 5.0, 4.0, 3.0, 2.0, 1.0, -9.196, -8.5852, -9.8927, -9.0617, -10.32, -10.0777, -10.1376, -11.2152, -10.6994, -10.9196, -10.708, -10.6644, -8.5294, -10.5299, -10.1289, -10.7302, -10.9273, -10.7309, -9.4521, -10.7193, -10.7116, -8.7769, -10.7278, -10.5889, -11.2221, -8.7733, -10.9639, -9.8322, -11.2721, -10.7442, -8.3321, -8.7707, -8.0689, -7.5575, -8.3961, -8.2841, -5.7451, -7.7476, -9.5119, -6.429, -5.8563, -7.1306, -5.7326, -6.307, -6.3421, -5.8401, -6.8178, -6.0631, -5.5304, -6.3734, -5.7502, -6.5239, -6.4007, -5.5753, -4.8396, -5.9507, -5.8368, -5.391, -6.9246, -6.0663, -6.7359, -6.6665, -6.0731, -6.0868, -6.3482, -6.9664, -5.5494, -5.4942, -6.1085, -6.0875, -6.1402, -6.1449, -6.0015, -6.1962, -5.9598, -6.1246, -6.2374, -6.2734, -6.3256, -6.5915, -9.8501, -8.2938, -8.7458, -10.8285, -11.0563, -10.8392, -9.9638, -10.8425, -10.8464, -9.3209, -9.51, -8.6295, -11.076, -10.3834, -9.9011, -11.0802, -9.5783, -11.3692, -7.7212, -10.2785, -10.1756, -11.093, -10.5373, -10.5415, -11.1026, -8.7752, -9.1589, -9.7859, -7.2811, -6.1232, -6.8404, -6.7624, -7.5014, -7.4902, -6.9998, -8.0321, -8.7627, -7.1239, -5.765, -5.93, -5.6476, -6.0315, -7.176, -6.1238, -6.1165, -6.197, -5.6046, -6.8021, -6.5465, -6.3018, -5.3471, -5.866, -6.6909, -6.1024, -6.7332, -4.8248, -6.2615, -5.7584, -5.4014, -5.3053, -6.1987, -6.296, -6.3066, -5.6832, -6.2198, -6.2554, -6.082, -5.754, -5.9506, -6.1429, -6.1502, -6.0829, -6.0884, -6.0284, -6.1342, -6.1372, -6.092, -6.1513, -6.1309, -6.1888, -6.1885, -11.6435, -10.1443, -11.2721, -9.3005, -10.0828, -11.6727, -10.0899, -11.2735, -10.9654, -11.0334, -7.408, -8.8572, -10.7858, -11.0363, -11.7054, -9.8549, -11.6967, -10.8345, -11.703, -11.039, -9.3879, -11.2672, -10.8159, -11.3186, -11.3114, -11.6876, -11.3218, -11.6791, -10.6058, -11.7197, -8.4312, -8.8775, -9.0831, -9.4864, -9.5986, -8.8744, -10.2912, -7.1364, -7.3588, -8.1272, -8.921, -8.8876, -9.0247, -8.2769, -6.0062, -7.4808, -6.4022, -7.246, -9.413, -6.7827, -5.7954, -7.6954, -7.9127, -7.3962, -6.3362, -6.678, -6.6399, -6.2666, -5.854, -7.7346, -5.9808, -6.9379, -5.2213, -6.0175, -6.2212, -5.9661, -6.732, -6.8878, -6.7428, -6.376, -5.9871, -6.4979, -6.0543, -5.8901, -6.3489, -6.331, -4.986, -6.1553, -6.3099, -6.0293, -6.241, -5.5868, -5.9837, -5.911, -6.4463, -6.1654, -5.6954, -5.8734, -6.1426, -6.0062, -6.0337, -6.0436, -6.1785, -6.2415, -6.2066, -6.2583], \"loglift\": [30.0, 29.0, 28.0, 27.0, 26.0, 25.0, 24.0, 23.0, 22.0, 21.0, 20.0, 19.0, 18.0, 17.0, 16.0, 15.0, 14.0, 13.0, 12.0, 11.0, 10.0, 9.0, 8.0, 7.0, 6.0, 5.0, 4.0, 3.0, 2.0, 1.0, 0.8406, 0.7971, 0.7678, 0.7412, 0.7214, 0.7174, 0.7155, 0.7097, 0.7059, 0.6942, 0.6823, 0.6812, 0.6705, 0.6675, 0.66, 0.6573, 0.657, 0.6507, 0.6488, 0.6462, 0.6455, 0.6413, 0.641, 0.6384, 0.6381, 0.6365, 0.6351, 0.6351, 0.6346, 0.6256, 0.5977, 0.6054, 0.5836, 0.5641, 0.5601, 0.5265, 0.3568, 0.4739, 0.5745, 0.3544, 0.3081, 0.3999, 0.2941, 0.3379, 0.3391, 0.2756, 0.3526, 0.275, 0.2118, 0.2868, 0.2091, 0.2941, 0.2527, 0.1371, 0.0138, 0.1787, 0.1246, 0.0375, 0.298, 0.1307, 0.2517, 0.2342, 0.0993, 0.0895, 0.1506, 0.2884, -0.112, -0.1695, 0.0204, -0.0096, -0.0026, -0.077, -0.1738, -0.075, -0.2505, -0.338, -0.3204, -0.1997, -0.0721, 0.2452, 0.2298, 0.2266, 0.2199, 0.2174, 0.2159, 0.2128, 0.212, 0.2112, 0.2101, 0.2094, 0.2089, 0.2083, 0.2065, 0.206, 0.2053, 0.2023, 0.2012, 0.2005, 0.2001, 0.1986, 0.1985, 0.1961, 0.1944, 0.1904, 0.1901, 0.19, 0.189, 0.1888, 0.1871, 0.1836, 0.1839, 0.1766, 0.182, 0.1794, 0.1741, 0.1792, 0.1847, 0.1678, 0.152, 0.1454, 0.1391, 0.1364, 0.1588, 0.1352, 0.1349, 0.1357, 0.1048, 0.14, 0.1311, 0.1203, 0.0904, 0.1047, 0.1301, 0.1057, 0.1262, 0.0287, 0.1015, 0.0693, 0.0271, 0.0195, 0.0857, 0.0897, 0.0906, 0.0293, 0.0766, 0.0786, 0.0469, -0.0118, 0.0108, 0.0266, 0.0222, -0.0093, -0.0105, -0.069, -0.0185, -0.0161, -0.0653, -0.0219, -0.063, -0.0125, -0.0509, 0.6249, 0.6197, 0.5916, 0.5806, 0.5803, 0.5718, 0.5712, 0.564, 0.5606, 0.5593, 0.5577, 0.5559, 0.5525, 0.5494, 0.5489, 0.5473, 0.5463, 0.5434, 0.5428, 0.542, 0.5415, 0.5404, 0.5403, 0.5398, 0.539, 0.5358, 0.5323, 0.5317, 0.5315, 0.5295, 0.5223, 0.5265, 0.5276, 0.5177, 0.5093, 0.4937, 0.5213, 0.4489, 0.4541, 0.4613, 0.4817, 0.4755, 0.4803, 0.4465, 0.3385, 0.3996, 0.3307, 0.3695, 0.4808, 0.3408, 0.2725, 0.3847, 0.3977, 0.3563, 0.2835, 0.3008, 0.2945, 0.2614, 0.2196, 0.3768, 0.2162, 0.2903, 0.1035, 0.1906, 0.2034, 0.1715, 0.2555, 0.2674, 0.2418, 0.1908, 0.1341, 0.2007, 0.1152, 0.0806, 0.1549, 0.1441, -0.1326, 0.0983, 0.1276, 0.0486, 0.093, -0.1583, -0.0244, -0.0833, 0.1379, -0.001, -0.2579, -0.164, -0.0407, -0.264, -0.2471, -0.3311, -0.2171, -0.0653, -0.1799, -0.3413]}, \"token.table\": {\"Topic\": [1, 2, 3, 1, 2, 3, 1, 2, 3, 1, 2, 3, 1, 2, 3, 1, 2, 3, 1, 2, 3, 1, 2, 3, 2, 1, 2, 3, 1, 2, 3, 1, 2, 3, 1, 2, 3, 1, 2, 3, 1, 2, 3, 1, 2, 3, 1, 2, 3, 2, 1, 2, 3, 1, 2, 3, 1, 2, 3, 2, 2, 3, 1, 2, 3, 1, 2, 3, 1, 2, 3, 1, 2, 3, 1, 2, 3, 1, 2, 3, 1, 2, 3, 1, 2, 3, 2, 1, 2, 3, 1, 2, 3, 1, 2, 3, 1, 2, 3, 1, 2, 1, 2, 3, 1, 2, 3, 1, 2, 3, 1, 2, 3, 1, 2, 3, 1, 2, 3, 1, 2, 3, 1, 2, 3, 2, 2, 1, 2, 3, 1, 2, 3, 1, 2, 3, 1, 2, 3, 1, 2, 3, 1, 2, 3, 1, 2, 3, 1, 2, 3, 1, 2, 1, 2, 3, 1, 2, 3, 1, 2, 3, 1, 2, 3, 2, 3, 1, 2, 3, 1, 2, 3, 1, 2, 3, 2, 1, 2, 3, 1, 2, 3, 1, 2, 3, 1, 2, 3, 1, 2, 3, 1, 2, 3, 1, 2, 3, 1, 2, 3, 1, 2, 3, 1, 2, 3, 1, 2, 3, 1, 2, 1, 2, 3, 2, 1, 2, 3, 1, 2, 3, 1, 2, 3, 1, 2, 3, 2, 1, 2, 3, 1, 2, 3, 1, 2, 3, 1, 2, 3, 1, 2, 3, 2, 1, 2, 3, 1, 2, 3, 1, 2, 3, 1, 2, 3, 2, 1, 2, 3, 1, 2, 3, 1, 2, 3, 1, 2, 3, 1, 2, 3, 1, 2, 3, 1, 2, 3, 1, 2, 3, 1, 2, 3, 1, 2, 3, 1, 2, 3, 1, 2, 3, 1, 2, 3, 1, 2, 3, 1, 2, 3, 1, 2, 3, 1, 2, 3, 1, 2, 3, 1, 2, 3, 1, 2, 3, 1, 2, 3, 1, 2, 3, 1, 2, 3, 1, 2, 3, 1, 2, 3, 1, 2, 3, 1, 2, 3, 1, 2, 3, 1, 2, 3, 1, 2, 3, 1, 2, 3, 1, 2, 3, 1, 2, 3, 2, 1, 2, 3, 1, 2, 3, 1, 2, 3, 1, 2, 3, 1, 2, 3, 1, 2, 3, 1, 2, 3, 1, 2, 3, 1, 2, 3, 1, 2, 3, 1, 2, 3, 1, 2, 3, 1, 2, 1, 2, 3, 1, 2, 3, 2, 3, 1, 2, 3, 1, 2, 3, 1, 2, 3, 2, 3, 1, 2, 3, 1, 2, 3, 1, 2, 3, 1, 2, 3, 1, 2, 3, 1, 2, 3, 1, 2, 3, 1, 2, 3, 1, 2, 3, 1, 2, 3, 1, 2, 3, 1, 2, 3, 1, 2, 3, 1, 2, 3, 1, 2, 3, 1, 2, 3, 1, 2, 3, 1, 2, 3, 1, 2, 3, 1, 2, 3, 1, 2, 3, 1, 2, 3, 1, 2, 3, 1, 2, 3, 1, 2, 3, 1, 2, 3, 1, 2, 3, 1, 2, 3, 1, 2, 3, 1, 2, 3, 1, 2, 3, 1, 2, 3, 1, 2, 3, 1, 2, 3, 1, 2, 3, 1, 2, 3, 1, 2, 3, 1, 2, 3, 1, 2, 3, 1, 2, 3, 1, 2, 3, 1, 2, 3, 1, 2, 3, 1, 2, 3, 1, 2, 3, 1, 2, 3, 1, 2, 3, 1, 2, 3, 1, 2, 3, 1, 2, 3, 2, 3, 1, 2, 3, 1, 2, 3, 1, 2, 3, 1, 2, 3, 1, 2, 3, 1, 2, 3], \"Freq\": [0.12297546586103437, 0.7378527951662063, 0.12297546586103437, 0.1472794251010283, 0.6986792239548781, 0.15266769675106592, 0.20397922161216578, 0.5784984481787652, 0.2173549082752586, 0.392058707991728, 0.392058707991728, 0.22403354742384454, 0.242247313639905, 0.48449462727981, 0.30280914204988124, 0.11277457312030242, 0.7562530197479104, 0.13267596837682638, 0.24390168638287965, 0.4878033727657593, 0.2682918550211676, 0.13037784836587218, 0.7207681051169915, 0.15005752359090951, 0.6466659374520111, 0.09915695528725033, 0.7932556422980026, 0.09915695528725033, 0.12779198504051062, 0.7600260162935633, 0.11434019714150952, 0.19411618764745045, 0.7764647505898018, 0.19411618764745045, 0.12930498599379026, 0.7515852310889058, 0.11718264355687241, 0.3353673542529296, 0.3353673542529296, 0.3353673542529296, 0.13381561987853227, 0.6913807027057501, 0.17470372595252825, 0.46543490810692706, 0.46543490810692706, 0.23271745405346353, 0.1518833019715096, 0.7404310971111093, 0.10916612329202252, 0.6222451036008002, 0.14178426066211708, 0.7089213033105853, 0.14178426066211708, 0.1943409518703362, 0.5869889974859135, 0.22210394499466996, 0.16345339364928863, 0.7275278501644807, 0.11217389760245297, 0.6301788322368347, 0.7378566284896018, 0.24595220949653393, 0.2054744430236239, 0.4794403670551224, 0.2739659240314985, 0.1678836809205364, 0.6435541101953896, 0.18886914103560346, 0.1330126519733019, 0.7315695858531605, 0.1330126519733019, 0.14642901611740264, 0.4392870483522079, 0.2928580322348053, 0.36548208045212777, 0.47512670458776607, 0.18274104022606388, 0.21646516758164183, 0.505085391023831, 0.2886202234421891, 0.1212233838580152, 0.7758296566912973, 0.09697870708641217, 0.1099127460900374, 0.7693892226302618, 0.1099127460900374, 0.6498941655338261, 0.0865304908913959, 0.8076179149863618, 0.10672093876605496, 0.19717824476251702, 0.5756332629357352, 0.22898118746614882, 0.21268712535073453, 0.42537425070146906, 0.21268712535073453, 0.19624261166633733, 0.49952664787794954, 0.29436391749950597, 0.24592079304406367, 0.737762379132191, 0.14213347977944749, 0.7462007688420993, 0.10660010983458562, 0.31374177304757594, 0.6274835460951519, 0.31374177304757594, 0.2569223152423603, 0.6002857832765428, 0.14406858798637026, 0.12792039235060487, 0.7675223541036292, 0.08528026156706991, 0.07586324602797569, 0.7586324602797568, 0.15172649205595137, 0.13320092412210108, 0.5898898068264475, 0.26640184824420216, 0.21967906966699166, 0.6456783466563606, 0.13507294148443405, 0.25488781443073205, 0.5265445640213806, 0.21799615707891556, 0.6554580009785157, 0.7453276013634947, 0.13557918578560038, 0.7592434403993622, 0.1030401811970563, 0.19783292420043253, 0.600666632173777, 0.2021336399439202, 0.15507943333921825, 0.7006600903880342, 0.1448030853468604, 0.13684458864071447, 0.7526452375239296, 0.1140371572005954, 0.24469129066244255, 0.5889383515453886, 0.16552646133047583, 0.20092299093449048, 0.6027689728034714, 0.19690453111580067, 0.11885188685400197, 0.7589541917676983, 0.1222476550498306, 0.20904408852448364, 0.5631391772496294, 0.2261089120775027, 0.4675010087546462, 0.4675010087546462, 0.3961190191353941, 0.3961190191353941, 0.26407934609026273, 0.15478919500895108, 0.6520494839752063, 0.19348649376118884, 0.14697263134869906, 0.7540334999628909, 0.09904677330021025, 0.17794455525494712, 0.6911366526102146, 0.13167897088866087, 0.4283655494360943, 0.4283655494360943, 0.1782134779399943, 0.6908068835612151, 0.13044491684267626, 0.17764588335742676, 0.6131648232014407, 0.2082086159780593, 0.14444304202127708, 0.6873496482391807, 0.167686749932747, 0.6444440137014955, 0.23062450596185663, 0.5261121542254854, 0.24503853758447267, 0.12818856095797543, 0.674023723746774, 0.1984855137413813, 0.22756539765057457, 0.49305836157624494, 0.3034205302007661, 0.23276899960475556, 0.49879071343876186, 0.26602171383400636, 0.22476425878627299, 0.6382343391203795, 0.13702206150607016, 0.2279368667030939, 0.5318526889738858, 0.3039158222707919, 0.1695682831069908, 0.7125678413709501, 0.11812621969251044, 0.2254944686442624, 0.4885713487292352, 0.3006592915256832, 0.29440000092734037, 0.5195294134011889, 0.1847215692093116, 0.1386484737748975, 0.55459389509959, 0.277296947549795, 0.23950288324423527, 0.47900576648847054, 0.28740345989308236, 0.4382308240362627, 0.4382308240362627, 0.2647606892020673, 0.5295213784041346, 0.2647606892020673, 0.6591826315703537, 0.2672105390819806, 0.5344210781639612, 0.2672105390819806, 0.3440203869507126, 0.44826898905698914, 0.19807234400192542, 0.13593714343547678, 0.7240130465585176, 0.14036987637359016, 0.15682458457397802, 0.7231355844244541, 0.12023218150671648, 0.7427158615554651, 0.2739414324318462, 0.5478828648636924, 0.2739414324318462, 0.1969768804480796, 0.5824585174539988, 0.22027522114623957, 0.09229798049483676, 0.7014646517607593, 0.20613215643846877, 0.18572603891254783, 0.5873585980609325, 0.22519282218146425, 0.18766672951473276, 0.5254668426412518, 0.2627334213206259, 0.7302008902305277, 0.18286349569026447, 0.5851631862088463, 0.2294105673205136, 0.45317226102595193, 0.45317226102595193, 0.15105742034198397, 0.2610332444822127, 0.5728716170851246, 0.16643059211953162, 0.14129517928768587, 0.7256516707703295, 0.13322116904267525, 0.6436457630897529, 0.17809818802646288, 0.5819049707795322, 0.23805203350071769, 0.14283521955576836, 0.7617878376307645, 0.11902934962980696, 0.1445698812330826, 0.7169485946865116, 0.14161947549363194, 0.19564093437641938, 0.7825637375056775, 0.19564093437641938, 0.19067106754624272, 0.508456180123314, 0.3177851125770712, 0.26353543093309545, 0.5681727180667655, 0.1668251810493907, 0.10667346930019224, 0.7680489789613841, 0.10667346930019224, 0.19494591493887692, 0.6094860788893623, 0.19494591493887692, 0.10942035994448229, 0.765942519611376, 0.10942035994448229, 0.1971800973215683, 0.625304007259494, 0.1782724167564864, 0.16137593916168377, 0.5993963454576826, 0.23822162447677128, 0.37805136966961705, 0.4158565066365788, 0.18902568483480853, 0.2843980445291784, 0.5578577027303114, 0.15860660175665717, 0.437449291434945, 0.437449291434945, 0.437449291434945, 0.26475411334429916, 0.5295082266885983, 0.26475411334429916, 0.11819728511002825, 0.7455521060786396, 0.13183543339195458, 0.11092217080341041, 0.7679227209466875, 0.11945464548059583, 0.18399305781695818, 0.4906481541785551, 0.24532407708927756, 0.3315073825644694, 0.3315073825644694, 0.3315073825644694, 0.15615457178125475, 0.7183110301937717, 0.12492365742500379, 0.22667394317065362, 0.5628816038465895, 0.21146092685047552, 0.16866271848726536, 0.7228402220882801, 0.10922918911556233, 0.30742078237649517, 0.4611311735647428, 0.30742078237649517, 0.35451409119336236, 0.4431426139917029, 0.2127084547160174, 0.2235953214374797, 0.5407886844069277, 0.23659504942803086, 0.3321868818779257, 0.4567569625821479, 0.20761680117370357, 0.33254995527469355, 0.33254995527469355, 0.33254995527469355, 0.28357284855396175, 0.5533128752272425, 0.16322729819203652, 0.37184593307584957, 0.44621511969101946, 0.22310755984550973, 0.27156747374735324, 0.5431349474947065, 0.27156747374735324, 0.3225358634043996, 0.5068420710640564, 0.1843062076596569, 0.12426265562575249, 0.7921744296141722, 0.09319699171931438, 0.19530860510460038, 0.7812344204184015, 0.19530860510460038, 0.6426188842300862, 0.1613318045328075, 0.6482874347281622, 0.19093397050212996, 0.2012363975109501, 0.6497514452178014, 0.14884348928324712, 0.45039292750473336, 0.45039292750473336, 0.1501309758349111, 0.1900137620882584, 0.5600405619443406, 0.2500181080108663, 0.1607684221621133, 0.5741729362932617, 0.2679473702701888, 0.2063665869312653, 0.5468714553678531, 0.24763990431751837, 0.11525352245171833, 0.7012266944957178, 0.18440563592274933, 0.17334245171661747, 0.6205157329565871, 0.20851338394897462, 0.2705468007978696, 0.5410936015957392, 0.2705468007978696, 0.3425177088152863, 0.3425177088152863, 0.3425177088152863, 0.2683745345509797, 0.5367490691019594, 0.2683745345509797, 0.2649652264616682, 0.5299304529233364, 0.2649652264616682, 0.45906650124124165, 0.45906650124124165, 0.43555623394160137, 0.43555623394160137, 0.43555623394160137, 0.3864751346051816, 0.3864751346051816, 0.1932375673025908, 0.43977656848966845, 0.43977656848966845, 0.27856537753571636, 0.5809397616984171, 0.1404731390992074, 0.1671992304164282, 0.6761578940739832, 0.15668355554747046, 0.26005520545075234, 0.5201104109015047, 0.26005520545075234, 0.43398070511414927, 0.43398070511414927, 0.3330550228559412, 0.3330550228559412, 0.3330550228559412, 0.4802112720599732, 0.3201408480399821, 0.16007042401999105, 0.16271869094751792, 0.625323894963602, 0.21247564603064326, 0.4952691447804216, 0.28301093987452663, 0.21225820490589498, 0.23039362808552413, 0.6212399614448955, 0.14811018948355123, 0.39838507153687697, 0.5209650935482237, 0.09193501650851008, 0.2660838047912738, 0.5774584699725517, 0.15568733259063894, 0.18474085807449903, 0.621913880998886, 0.19461250697924323, 0.3362527901011609, 0.43232501584434974, 0.21616250792217487, 0.14179500532262942, 0.7089750266131472, 0.14179500532262942, 0.3812100729811513, 0.3812100729811513, 0.22872604378869077, 0.1720036997013932, 0.5733456656713107, 0.2539102233687233, 0.26728507209767727, 0.5133570432352215, 0.2206162499853844, 0.1962043210857234, 0.7848172843428936, 0.1962043210857234, 0.1308518359821821, 0.6821742382537761, 0.18668195266791315, 0.24520304380692426, 0.623626638973516, 0.13032445241706603, 0.22770536763460555, 0.650319033491425, 0.12181768638888363, 0.16631001082882962, 0.5405075351936963, 0.29104251895045186, 0.26226319962856265, 0.6198948354856936, 0.1192105452857103, 0.14081455064277362, 0.7218768918008854, 0.13595887648267796, 0.3772268557780738, 0.4526722269336886, 0.2263361134668443, 0.19481070232873304, 0.5592952421695884, 0.24508443196195448, 0.18513175596243261, 0.6278381289160758, 0.18835143867482274, 0.45176987360458193, 0.45176987360458193, 0.22588493680229096, 0.3264994957024362, 0.3264994957024362, 0.21766633046829081, 0.2628939832696354, 0.6090377279079887, 0.12706542524699044, 0.2668822078800307, 0.5915033549648757, 0.14242271670520867, 0.18451067956186393, 0.5923060220717806, 0.22328466294805274, 0.20322335540472083, 0.6622523329972021, 0.13500852282131803, 0.16262805952157547, 0.8131402976078774, 0.08131402976078773, 0.23745451854139715, 0.6170973715387207, 0.14503210114504497, 0.4413181657246338, 0.36776513810386147, 0.2206590828623169, 0.10298392083239613, 0.772379406242971, 0.10298392083239613, 0.33750252461629354, 0.33750252461629354, 0.33750252461629354, 0.26809536342539064, 0.5361907268507813, 0.26809536342539064, 0.1441482634221146, 0.7301715773344496, 0.12663492300634366, 0.26422505518343425, 0.5284501103668685, 0.26422505518343425, 0.25380474079882365, 0.4713516614835296, 0.2900625609129413, 0.14541110861599799, 0.751290727849323, 0.096940739077332, 0.21754747514993358, 0.6228414014566591, 0.1594354783633075, 0.14372163736976454, 0.7347050102342363, 0.12072617539060221, 0.278044770163191, 0.278044770163191, 0.278044770163191, 0.20597637893773293, 0.648261274807454, 0.14531210294922253, 0.28185875576274805, 0.5516378505642354, 0.1650886998038953, 0.2731822986056322, 0.5463645972112644, 0.2731822986056322, 0.14775940601022797, 0.8126767330562539, 0.07387970300511398, 0.10197440726005108, 0.6118464435603065, 0.30592322178015324, 0.1629522657772797, 0.6297884866527297, 0.20479136104441908, 0.3508638488662402, 0.467818465154987, 0.16373646280424545, 0.27897596757206, 0.6097970264628214, 0.11109662425436018, 0.4157888878135728, 0.4157888878135728, 0.2619371842484869, 0.5238743684969738, 0.2619371842484869, 0.27699715959526333, 0.47844963930090934, 0.2518155996320576, 0.1461383048752324, 0.7585273919714444, 0.09742553658348828, 0.1831667968664623, 0.6822543075943459, 0.13611477565305916, 0.25213255909394533, 0.5626860770023414, 0.18756202566744712, 0.2709367213963506, 0.5595432289707241, 0.16933545087271912], \"Term\": [\"aahh\", \"aahh\", \"aahh\", \"adsbygoogle\", \"adsbygoogle\", \"adsbygoogle\", \"ago\", \"ago\", \"ago\", \"ali\", \"ali\", \"ali\", \"allowed\", \"allowed\", \"allowed\", \"almost\", \"almost\", \"almost\", \"alone\", \"alone\", \"alone\", \"always\", \"always\", \"always\", \"americanssay\", \"among\", \"among\", \"among\", \"andy\", \"andy\", \"andy\", \"announce\", \"announce\", \"announce\", \"anymore\", \"anymore\", \"anymore\", \"backseat\", \"backseat\", \"backseat\", \"better\", \"better\", \"better\", \"bila\", \"bila\", \"bila\", \"black\", \"black\", \"black\", \"bratvathat\", \"byrne\", \"byrne\", \"byrne\", \"ca\", \"ca\", \"ca\", \"care\", \"care\", \"care\", \"caredso\", \"chirps\", \"chirps\", \"chuckle\", \"chuckle\", \"chuckle\", \"city\", \"city\", \"city\", \"clayton\", \"clayton\", \"clayton\", \"commissioner\", \"commissioner\", \"commissioner\", \"connor\", \"connor\", \"connor\", \"credit\", \"credit\", \"credit\", \"crisis\", \"crisis\", \"crisis\", \"curve\", \"curve\", \"curve\", \"dadtoday\", \"darhk\", \"darhk\", \"darhk\", \"day\", \"day\", \"day\", \"deaiing\", \"deaiing\", \"deaiing\", \"dig\", \"dig\", \"dig\", \"doas\", \"doas\", \"dramatic\", \"dramatic\", \"dramatic\", \"drinksand\", \"drinksand\", \"drinksand\", \"else\", \"else\", \"else\", \"ended\", \"ended\", \"ended\", \"eric\", \"eric\", \"eric\", \"especially\", \"especially\", \"especially\", \"even\", \"even\", \"even\", \"every\", \"every\", \"every\", \"faceoff\", \"familyin\", \"far\", \"far\", \"far\", \"father\", \"father\", \"father\", \"felicity\", \"felicity\", \"felicity\", \"field\", \"field\", \"field\", \"find\", \"find\", \"find\", \"fine\", \"fine\", \"fine\", \"first\", \"first\", \"first\", \"five\", \"five\", \"five\", \"fotke\", \"fotke\", \"ga\", \"ga\", \"ga\", \"give\", \"give\", \"give\", \"gone\", \"gone\", \"gone\", \"good\", \"good\", \"good\", \"gradeoxycodone\", \"gradeoxycodone\", \"green\", \"green\", \"green\", \"guy\", \"guy\", \"guy\", \"guys\", \"guys\", \"guys\", \"hamlet\", \"happy\", \"happy\", \"happy\", \"heh\", \"heh\", \"heh\", \"heii\", \"heii\", \"heii\", \"helena\", \"helena\", \"helena\", \"help\", \"help\", \"help\", \"holidays\", \"holidays\", \"holidays\", \"home\", \"home\", \"home\", \"ieft\", \"ieft\", \"ieft\", \"iike\", \"iike\", \"iike\", \"iist\", \"iist\", \"iist\", \"iittie\", \"iittie\", \"iittie\", \"imamo\", \"imamo\", \"inspire\", \"inspire\", \"inspire\", \"ioveis\", \"jako\", \"jako\", \"jako\", \"je\", \"je\", \"je\", \"john\", \"john\", \"john\", \"js\", \"js\", \"js\", \"justmy\", \"kapu\", \"kapu\", \"kapu\", \"keep\", \"keep\", \"keep\", \"kill\", \"kill\", \"kill\", \"killed\", \"killed\", \"killed\", \"king\", \"king\", \"king\", \"kingpin\", \"knew\", \"knew\", \"knew\", \"koji\", \"koji\", \"koji\", \"last\", \"last\", \"last\", \"laurel\", \"laurel\", \"laurel\", \"learnedmuch\", \"life\", \"life\", \"life\", \"likeyou\", \"likeyou\", \"likeyou\", \"listen\", \"listen\", \"listen\", \"listenedto\", \"listenedto\", \"listenedto\", \"lived\", \"lived\", \"lived\", \"love\", \"love\", \"love\", \"machin\", \"machin\", \"machin\", \"made\", \"made\", \"made\", \"mathis\", \"mathis\", \"mathis\", \"maybe\", \"maybe\", \"maybe\", \"men\", \"men\", \"men\", \"mi\", \"mi\", \"mi\", \"might\", \"might\", \"might\", \"milliamps\", \"milliamps\", \"milliamps\", \"millimeter\", \"millimeter\", \"millimeter\", \"mind\", \"mind\", \"mind\", \"mission\", \"mission\", \"mission\", \"mob\", \"mob\", \"mob\", \"mobbed\", \"mobbed\", \"mobbed\", \"mother\", \"mother\", \"mother\", \"mr\", \"mr\", \"mr\", \"much\", \"much\", \"much\", \"mueiier\", \"mueiier\", \"mueiier\", \"na\", \"na\", \"na\", \"name\", \"name\", \"name\", \"ne\", \"ne\", \"ne\", \"netko\", \"netko\", \"netko\", \"never\", \"never\", \"never\", \"nije\", \"nije\", \"nije\", \"nista\", \"nista\", \"nista\", \"nobody\", \"nobody\", \"nobody\", \"normal\", \"normal\", \"normal\", \"nothingi\", \"nothingi\", \"nothingi\", \"offenses\", \"okay\", \"okay\", \"okay\", \"oliver\", \"oliver\", \"oliver\", \"ovaj\", \"ovaj\", \"ovaj\", \"palmer\", \"palmer\", \"palmer\", \"party\", \"party\", \"party\", \"peopie\", \"peopie\", \"peopie\", \"people\", \"people\", \"people\", \"place\", \"place\", \"place\", \"posao\", \"posao\", \"posao\", \"poslala\", \"poslala\", \"poslala\", \"prijatelj\", \"prijatelj\", \"prijatelj\", \"pronaci\", \"pronaci\", \"pronaci\", \"pronasla\", \"pronasla\", \"protects\", \"protects\", \"protects\", \"puno\", \"puno\", \"puno\", \"purpie\", \"purpie\", \"put\", \"put\", \"put\", \"queen\", \"queen\", \"queen\", \"reasonsfor\", \"reasonsfor\", \"reasonsfor\", \"restand\", \"restand\", \"restaurantat\", \"restaurantat\", \"restaurantat\", \"sada\", \"sada\", \"sada\", \"said\", \"said\", \"said\", \"samo\", \"samo\", \"samo\", \"sara\", \"sara\", \"sara\", \"savage\", \"savage\", \"savage\", \"save\", \"save\", \"save\", \"say\", \"say\", \"say\", \"se\", \"se\", \"se\", \"sensethat\", \"sensethat\", \"sensethat\", \"si\", \"si\", \"si\", \"sir\", \"sir\", \"sir\", \"slot\", \"slot\", \"slot\", \"somber\", \"somber\", \"somber\", \"someone\", \"someone\", \"someone\", \"something\", \"something\", \"something\", \"sorry\", \"sorry\", \"sorry\", \"steps\", \"steps\", \"steps\", \"still\", \"still\", \"still\", \"stop\", \"stop\", \"stop\", \"su\", \"su\", \"su\", \"supposed\", \"supposed\", \"supposed\", \"sure\", \"sure\", \"sure\", \"svoju\", \"svoju\", \"svoju\", \"tako\", \"tako\", \"tako\", \"talking\", \"talking\", \"talking\", \"thank\", \"thank\", \"thank\", \"thea\", \"thea\", \"thea\", \"thing\", \"thing\", \"thing\", \"thisthe\", \"thisthe\", \"thisthe\", \"thought\", \"thought\", \"thought\", \"ti\", \"ti\", \"ti\", \"timei\", \"timei\", \"timei\", \"tocno\", \"tocno\", \"tocno\", \"toga\", \"toga\", \"toga\", \"told\", \"told\", \"told\", \"tools\", \"tools\", \"tools\", \"torture\", \"torture\", \"torture\", \"twice\", \"twice\", \"twice\", \"two\", \"two\", \"two\", \"uh\", \"uh\", \"uh\", \"ulice\", \"ulice\", \"ulice\", \"us\", \"us\", \"us\", \"used\", \"used\", \"used\", \"vasim\", \"vasim\", \"vasim\", \"vasquez\", \"vasquez\", \"vasquez\", \"venza\", \"venza\", \"venza\", \"wait\", \"wait\", \"wait\", \"wake\", \"wake\", \"wake\", \"wanted\", \"wanted\", \"wanted\", \"waythey\", \"waythey\", \"weaker\", \"weaker\", \"weaker\", \"wiii\", \"wiii\", \"wiii\", \"william\", \"william\", \"william\", \"work\", \"work\", \"work\", \"wrong\", \"wrong\", \"wrong\", \"yes\", \"yes\", \"yes\"]}, \"R\": 30, \"lambda.step\": 0.01, \"plot.opts\": {\"xlab\": \"PC1\", \"ylab\": \"PC2\"}, \"topic.order\": [1, 2, 3]};\n",
       "\n",
       "function LDAvis_load_lib(url, callback){\n",
       "  var s = document.createElement('script');\n",
       "  s.src = url;\n",
       "  s.async = true;\n",
       "  s.onreadystatechange = s.onload = callback;\n",
       "  s.onerror = function(){console.warn(\"failed to load library \" + url);};\n",
       "  document.getElementsByTagName(\"head\")[0].appendChild(s);\n",
       "}\n",
       "\n",
       "if(typeof(LDAvis) !== \"undefined\"){\n",
       "   // already loaded: just create the visualization\n",
       "   !function(LDAvis){\n",
       "       new LDAvis(\"#\" + \"ldavis_el347171396812371856965170714706\", ldavis_el347171396812371856965170714706_data);\n",
       "   }(LDAvis);\n",
       "}else if(typeof define === \"function\" && define.amd){\n",
       "   // require.js is available: use it to load d3/LDAvis\n",
       "   require.config({paths: {d3: \"https://d3js.org/d3.v5\"}});\n",
       "   require([\"d3\"], function(d3){\n",
       "      window.d3 = d3;\n",
       "      LDAvis_load_lib(\"https://cdn.jsdelivr.net/gh/bmabey/pyLDAvis@3.3.1/pyLDAvis/js/ldavis.v3.0.0.js\", function(){\n",
       "        new LDAvis(\"#\" + \"ldavis_el347171396812371856965170714706\", ldavis_el347171396812371856965170714706_data);\n",
       "      });\n",
       "    });\n",
       "}else{\n",
       "    // require.js not available: dynamically load d3 & LDAvis\n",
       "    LDAvis_load_lib(\"https://d3js.org/d3.v5.js\", function(){\n",
       "         LDAvis_load_lib(\"https://cdn.jsdelivr.net/gh/bmabey/pyLDAvis@3.3.1/pyLDAvis/js/ldavis.v3.0.0.js\", function(){\n",
       "                 new LDAvis(\"#\" + \"ldavis_el347171396812371856965170714706\", ldavis_el347171396812371856965170714706_data);\n",
       "            })\n",
       "         });\n",
       "}\n",
       "</script>"
      ],
      "text/plain": [
       "PreparedData(topic_coordinates=              x         y  topics  cluster       Freq\n",
       "topic                                                \n",
       "0      0.003648 -0.002867       1        1  19.865882\n",
       "1     -0.004759 -0.001239       2        1  63.127873\n",
       "2      0.001111  0.004106       3        1  17.006245, topic_info=          Term         Freq        Total Category  logprob  loglift\n",
       "512     oliver  2519.000000  2519.000000  Default  30.0000  30.0000\n",
       "141       city  1572.000000  1572.000000  Default  29.0000  29.0000\n",
       "774         us  1417.000000  1417.000000  Default  28.0000  28.0000\n",
       "673  something  1035.000000  1035.000000  Default  27.0000  27.0000\n",
       "494      never   722.000000   722.000000  Default  26.0000  26.0000\n",
       "..         ...          ...          ...      ...      ...      ...\n",
       "676      sorry   130.325657  1067.168519   Topic3  -6.0436  -0.3311\n",
       "346       help   113.875497   831.982812   Topic3  -6.1785  -0.2171\n",
       "765        two   106.918588   671.117879   Topic3  -6.2415  -0.0653\n",
       "730      thank   110.721415   779.370051   Topic3  -6.2066  -0.1799\n",
       "767         uh   105.136698   869.736821   Topic3  -6.2583  -0.3413\n",
       "\n",
       "[287 rows x 6 columns], token_table=       Topic      Freq         Term\n",
       "term                               \n",
       "13747      1  0.122975         aahh\n",
       "13747      2  0.737853         aahh\n",
       "13747      3  0.122975         aahh\n",
       "18         1  0.147279  adsbygoogle\n",
       "18         2  0.698679  adsbygoogle\n",
       "...      ...       ...          ...\n",
       "811        2  0.562686        wrong\n",
       "811        3  0.187562        wrong\n",
       "815        1  0.270937          yes\n",
       "815        2  0.559543          yes\n",
       "815        3  0.169335          yes\n",
       "\n",
       "[585 rows x 3 columns], R=30, lambda_step=0.01, plot_opts={'xlab': 'PC1', 'ylab': 'PC2'}, topic_order=[1, 2, 3])"
      ]
     },
     "execution_count": 41,
     "metadata": {},
     "output_type": "execute_result"
    }
   ],
   "source": [
    "import pickle \n",
    "import pyLDAvis\n",
    "import pyLDAvis.gensim_models\n",
    "import os\n",
    "\n",
    "\n",
    "# Visualize the topics\n",
    "pyLDAvis.enable_notebook()\n",
    "\n",
    "LDAvis_data_filepath = os.path.join('/home/annagomes/Documents/mono/prepared_'+str(num_topics))\n",
    "\n",
    "# # this is a bit time consuming - make the if statement True\n",
    "# # if you want to execute visualization prep yourself\n",
    "if 1 == 1:\n",
    "    LDAvis_prepared = pyLDAvis.gensim_models.prepare(lda_model, corpus, id2word, sort_topics=False)\n",
    "    with open(LDAvis_data_filepath, 'wb') as f:\n",
    "        pickle.dump(LDAvis_prepared, f)\n",
    "\n",
    "# load the pre-prepared pyLDAvis data from disk\n",
    "with open(LDAvis_data_filepath, 'rb') as f:\n",
    "    LDAvis_prepared = pickle.load(f)\n",
    "\n",
    "pyLDAvis.save_html(LDAvis_prepared, '/home/annagomes/Documents/mono/prepared_'+ str(num_topics) +'.html')\n",
    "\n",
    "LDAvis_prepared"
   ]
  },
  {
   "cell_type": "markdown",
   "metadata": {},
   "source": [
    "## Topicos\n",
    "\n",
    "1 - \n",
    "2 - \n",
    "3 - "
   ]
  },
  {
   "cell_type": "code",
   "execution_count": 42,
   "metadata": {},
   "outputs": [
    {
     "name": "stderr",
     "output_type": "stream",
     "text": [
      "/home/annagomes/anaconda3/lib/python3.8/site-packages/ipykernel/ipkernel.py:287: DeprecationWarning: `should_run_async` will not call `transform_cell` automatically in the future. Please pass the result to `transformed_cell` argument and any exception that happen during thetransform in `preprocessing_exc_tuple` in IPython 7.17 and above.\n",
      "  and should_run_async(code)\n"
     ]
    }
   ],
   "source": [
    "topic_scores = [[topic_score[1] for topic_score in sent] for sent in doc_lda]\n",
    "\n",
    "#topics\n",
    "#1 - Episodios mais genericos/aventura/acao (0,  '0.008*\"oliver\" + 0.005*\"us\" + 0.004*\"city\" + 0.004*\"something\" + '  '0.004*\"good\" + 0.004*\"sorry\" + 0.003*\"thank\" + 0.003*\"never\" + 0.003*\"find\" '  '+ 0.003*\"help\"')\n",
    "#2 - Episodios com mais romance? visto que laurel e felicity foram par romantico de oliver (personagem principal)(1,  '0.008*\"oliver\" + 0.005*\"city\" + 0.005*\"good\" + 0.005*\"us\" + ''0.004*\"felicity\" + 0.004*\"laurel\" + 0.003*\"sorry\" + 0.003*\"something\" + '  '0.003*\"queen\" + 0.003*\"uh\"')\n",
    "#3  - Episodios mais familia (2,  '0.007*\"oliver\" + 0.005*\"city\" + 0.004*\"us\" + 0.003*\"good\" + 0.003*\"thea\" + '0.003*\"said\" + 0.003*\"felicity\" + 0.003*\"people\" + 0.003*\"queen\" + '  '0.003*\"father\"')]"
   ]
  },
  {
   "cell_type": "markdown",
   "metadata": {},
   "source": [
    "-----------------------------------------------------------------------------------------------------------"
   ]
  },
  {
   "cell_type": "markdown",
   "metadata": {},
   "source": [
    "# Dataframe with scores of each topic, where each line is the index of txt (script of the episode)\n"
   ]
  },
  {
   "cell_type": "code",
   "execution_count": 43,
   "metadata": {},
   "outputs": [
    {
     "name": "stderr",
     "output_type": "stream",
     "text": [
      "/home/annagomes/anaconda3/lib/python3.8/site-packages/ipykernel/ipkernel.py:287: DeprecationWarning: `should_run_async` will not call `transform_cell` automatically in the future. Please pass the result to `transformed_cell` argument and any exception that happen during thetransform in `preprocessing_exc_tuple` in IPython 7.17 and above.\n",
      "  and should_run_async(code)\n"
     ]
    }
   ],
   "source": [
    "df_topics = pd.DataFrame(topic_scores)"
   ]
  },
  {
   "cell_type": "code",
   "execution_count": 44,
   "metadata": {},
   "outputs": [
    {
     "name": "stderr",
     "output_type": "stream",
     "text": [
      "/home/annagomes/anaconda3/lib/python3.8/site-packages/ipykernel/ipkernel.py:287: DeprecationWarning: `should_run_async` will not call `transform_cell` automatically in the future. Please pass the result to `transformed_cell` argument and any exception that happen during thetransform in `preprocessing_exc_tuple` in IPython 7.17 and above.\n",
      "  and should_run_async(code)\n"
     ]
    },
    {
     "data": {
      "text/plain": [
       "165"
      ]
     },
     "execution_count": 44,
     "metadata": {},
     "output_type": "execute_result"
    }
   ],
   "source": [
    "len(df_topics)"
   ]
  },
  {
   "cell_type": "code",
   "execution_count": 45,
   "metadata": {},
   "outputs": [
    {
     "name": "stderr",
     "output_type": "stream",
     "text": [
      "/home/annagomes/anaconda3/lib/python3.8/site-packages/ipykernel/ipkernel.py:287: DeprecationWarning: `should_run_async` will not call `transform_cell` automatically in the future. Please pass the result to `transformed_cell` argument and any exception that happen during thetransform in `preprocessing_exc_tuple` in IPython 7.17 and above.\n",
      "  and should_run_async(code)\n"
     ]
    },
    {
     "data": {
      "text/html": [
       "<div>\n",
       "<style scoped>\n",
       "    .dataframe tbody tr th:only-of-type {\n",
       "        vertical-align: middle;\n",
       "    }\n",
       "\n",
       "    .dataframe tbody tr th {\n",
       "        vertical-align: top;\n",
       "    }\n",
       "\n",
       "    .dataframe thead th {\n",
       "        text-align: right;\n",
       "    }\n",
       "</style>\n",
       "<table border=\"1\" class=\"dataframe\">\n",
       "  <thead>\n",
       "    <tr style=\"text-align: right;\">\n",
       "      <th></th>\n",
       "      <th>0</th>\n",
       "      <th>1</th>\n",
       "      <th>2</th>\n",
       "    </tr>\n",
       "  </thead>\n",
       "  <tbody>\n",
       "    <tr>\n",
       "      <th>160</th>\n",
       "      <td>0.226348</td>\n",
       "      <td>0.770606</td>\n",
       "      <td>NaN</td>\n",
       "    </tr>\n",
       "    <tr>\n",
       "      <th>161</th>\n",
       "      <td>0.043737</td>\n",
       "      <td>0.945267</td>\n",
       "      <td>0.010995</td>\n",
       "    </tr>\n",
       "    <tr>\n",
       "      <th>162</th>\n",
       "      <td>0.100159</td>\n",
       "      <td>0.899042</td>\n",
       "      <td>NaN</td>\n",
       "    </tr>\n",
       "    <tr>\n",
       "      <th>163</th>\n",
       "      <td>0.131416</td>\n",
       "      <td>0.762695</td>\n",
       "      <td>0.105889</td>\n",
       "    </tr>\n",
       "    <tr>\n",
       "      <th>164</th>\n",
       "      <td>0.999546</td>\n",
       "      <td>NaN</td>\n",
       "      <td>NaN</td>\n",
       "    </tr>\n",
       "  </tbody>\n",
       "</table>\n",
       "</div>"
      ],
      "text/plain": [
       "            0         1         2\n",
       "160  0.226348  0.770606       NaN\n",
       "161  0.043737  0.945267  0.010995\n",
       "162  0.100159  0.899042       NaN\n",
       "163  0.131416  0.762695  0.105889\n",
       "164  0.999546       NaN       NaN"
      ]
     },
     "execution_count": 45,
     "metadata": {},
     "output_type": "execute_result"
    }
   ],
   "source": [
    "df_topics.tail()"
   ]
  },
  {
   "cell_type": "code",
   "execution_count": 46,
   "metadata": {},
   "outputs": [
    {
     "name": "stderr",
     "output_type": "stream",
     "text": [
      "/home/annagomes/anaconda3/lib/python3.8/site-packages/ipykernel/ipkernel.py:287: DeprecationWarning: `should_run_async` will not call `transform_cell` automatically in the future. Please pass the result to `transformed_cell` argument and any exception that happen during thetransform in `preprocessing_exc_tuple` in IPython 7.17 and above.\n",
      "  and should_run_async(code)\n"
     ]
    }
   ],
   "source": [
    "df_topics.fillna(0,  inplace=True)"
   ]
  },
  {
   "cell_type": "code",
   "execution_count": 47,
   "metadata": {},
   "outputs": [
    {
     "name": "stderr",
     "output_type": "stream",
     "text": [
      "/home/annagomes/anaconda3/lib/python3.8/site-packages/ipykernel/ipkernel.py:287: DeprecationWarning: `should_run_async` will not call `transform_cell` automatically in the future. Please pass the result to `transformed_cell` argument and any exception that happen during thetransform in `preprocessing_exc_tuple` in IPython 7.17 and above.\n",
      "  and should_run_async(code)\n"
     ]
    },
    {
     "data": {
      "text/plain": [
       "0    0.755971\n",
       "1    0.149650\n",
       "2    0.094378\n",
       "Name: 4, dtype: float64"
      ]
     },
     "execution_count": 47,
     "metadata": {},
     "output_type": "execute_result"
    }
   ],
   "source": [
    "df_topics.loc[4,:]   #scores dos topicos do script 4 "
   ]
  },
  {
   "cell_type": "markdown",
   "metadata": {},
   "source": [
    "# Dataframe concat\n",
    "## Concatenating the dataset with the raw script, the processed script and the episode name (df_parcial) with Dataframe with scores of each topic (df_topics)"
   ]
  },
  {
   "cell_type": "code",
   "execution_count": 48,
   "metadata": {},
   "outputs": [
    {
     "name": "stderr",
     "output_type": "stream",
     "text": [
      "/home/annagomes/anaconda3/lib/python3.8/site-packages/ipykernel/ipkernel.py:287: DeprecationWarning: `should_run_async` will not call `transform_cell` automatically in the future. Please pass the result to `transformed_cell` argument and any exception that happen during thetransform in `preprocessing_exc_tuple` in IPython 7.17 and above.\n",
      "  and should_run_async(code)\n"
     ]
    }
   ],
   "source": [
    "df_concat = pd.concat([df_parcial, df_topics], axis=1) "
   ]
  },
  {
   "cell_type": "code",
   "execution_count": 49,
   "metadata": {},
   "outputs": [
    {
     "name": "stderr",
     "output_type": "stream",
     "text": [
      "/home/annagomes/anaconda3/lib/python3.8/site-packages/ipykernel/ipkernel.py:287: DeprecationWarning: `should_run_async` will not call `transform_cell` automatically in the future. Please pass the result to `transformed_cell` argument and any exception that happen during thetransform in `preprocessing_exc_tuple` in IPython 7.17 and above.\n",
      "  and should_run_async(code)\n"
     ]
    },
    {
     "data": {
      "text/html": [
       "<div>\n",
       "<style scoped>\n",
       "    .dataframe tbody tr th:only-of-type {\n",
       "        vertical-align: middle;\n",
       "    }\n",
       "\n",
       "    .dataframe tbody tr th {\n",
       "        vertical-align: top;\n",
       "    }\n",
       "\n",
       "    .dataframe thead th {\n",
       "        text-align: right;\n",
       "    }\n",
       "</style>\n",
       "<table border=\"1\" class=\"dataframe\">\n",
       "  <thead>\n",
       "    <tr style=\"text-align: right;\">\n",
       "      <th></th>\n",
       "      <th>nome_ep</th>\n",
       "      <th>Episodios</th>\n",
       "      <th>text_processed</th>\n",
       "      <th>0</th>\n",
       "      <th>1</th>\n",
       "      <th>2</th>\n",
       "    </tr>\n",
       "  </thead>\n",
       "  <tbody>\n",
       "    <tr>\n",
       "      <th>160</th>\n",
       "      <td>/series/Arrow-2193021/season-8/episode-6-Reset</td>\n",
       "      <td>PREVIOUSLY ON \"ARROW\"...THIS PLACE LOOKSEXACTL...</td>\n",
       "      <td>previously on \"arrow\"   this place looksexactl...</td>\n",
       "      <td>0.226348</td>\n",
       "      <td>0.770606</td>\n",
       "      <td>0.000000</td>\n",
       "    </tr>\n",
       "    <tr>\n",
       "      <th>161</th>\n",
       "      <td>/series/Arrow-2193021/season-8/episode-7-Purga...</td>\n",
       "      <td>Previously on \"Arrow\"...-I need your help, roy...</td>\n",
       "      <td>previously on \"arrow\"   -i need your help  roy...</td>\n",
       "      <td>0.043737</td>\n",
       "      <td>0.945267</td>\n",
       "      <td>0.010995</td>\n",
       "    </tr>\n",
       "    <tr>\n",
       "      <th>162</th>\n",
       "      <td>/series/Arrow-2193021/season-8/episode-8-Crisi...</td>\n",
       "      <td>Previously on Crisison Infinite Earths...There...</td>\n",
       "      <td>previously on crisison infinite earths   there...</td>\n",
       "      <td>0.100159</td>\n",
       "      <td>0.899042</td>\n",
       "      <td>0.000000</td>\n",
       "    </tr>\n",
       "    <tr>\n",
       "      <th>163</th>\n",
       "      <td>/series/Arrow-2193021/season-8/episode-9-Green...</td>\n",
       "      <td>bianca!bianca bertinelli?who the hell are you...</td>\n",
       "      <td>bianca bianca bertinelli who the hell are you...</td>\n",
       "      <td>0.131416</td>\n",
       "      <td>0.762695</td>\n",
       "      <td>0.105889</td>\n",
       "    </tr>\n",
       "    <tr>\n",
       "      <th>164</th>\n",
       "      <td>/series/Arrow-2193021/season-8/episode-10-Fadeout</td>\n",
       "      <td>[Oliver]My name is Oliver Queen.[gunshot][Oliv...</td>\n",
       "      <td>[oliver]my name is oliver queen [gunshot][oliv...</td>\n",
       "      <td>0.999546</td>\n",
       "      <td>0.000000</td>\n",
       "      <td>0.000000</td>\n",
       "    </tr>\n",
       "  </tbody>\n",
       "</table>\n",
       "</div>"
      ],
      "text/plain": [
       "                                               nome_ep  \\\n",
       "160     /series/Arrow-2193021/season-8/episode-6-Reset   \n",
       "161  /series/Arrow-2193021/season-8/episode-7-Purga...   \n",
       "162  /series/Arrow-2193021/season-8/episode-8-Crisi...   \n",
       "163  /series/Arrow-2193021/season-8/episode-9-Green...   \n",
       "164  /series/Arrow-2193021/season-8/episode-10-Fadeout   \n",
       "\n",
       "                                             Episodios  \\\n",
       "160  PREVIOUSLY ON \"ARROW\"...THIS PLACE LOOKSEXACTL...   \n",
       "161  Previously on \"Arrow\"...-I need your help, roy...   \n",
       "162  Previously on Crisison Infinite Earths...There...   \n",
       "163   bianca!bianca bertinelli?who the hell are you...   \n",
       "164  [Oliver]My name is Oliver Queen.[gunshot][Oliv...   \n",
       "\n",
       "                                        text_processed         0         1  \\\n",
       "160  previously on \"arrow\"   this place looksexactl...  0.226348  0.770606   \n",
       "161  previously on \"arrow\"   -i need your help  roy...  0.043737  0.945267   \n",
       "162  previously on crisison infinite earths   there...  0.100159  0.899042   \n",
       "163   bianca bianca bertinelli who the hell are you...  0.131416  0.762695   \n",
       "164  [oliver]my name is oliver queen [gunshot][oliv...  0.999546  0.000000   \n",
       "\n",
       "            2  \n",
       "160  0.000000  \n",
       "161  0.010995  \n",
       "162  0.000000  \n",
       "163  0.105889  \n",
       "164  0.000000  "
      ]
     },
     "execution_count": 49,
     "metadata": {},
     "output_type": "execute_result"
    }
   ],
   "source": [
    "df_concat.tail()"
   ]
  },
  {
   "cell_type": "code",
   "execution_count": 50,
   "metadata": {},
   "outputs": [
    {
     "name": "stderr",
     "output_type": "stream",
     "text": [
      "/home/annagomes/anaconda3/lib/python3.8/site-packages/ipykernel/ipkernel.py:287: DeprecationWarning: `should_run_async` will not call `transform_cell` automatically in the future. Please pass the result to `transformed_cell` argument and any exception that happen during thetransform in `preprocessing_exc_tuple` in IPython 7.17 and above.\n",
      "  and should_run_async(code)\n"
     ]
    }
   ],
   "source": [
    "# df_concat2.to_csv('scripts1.csv',  sep=';')"
   ]
  },
  {
   "cell_type": "markdown",
   "metadata": {},
   "source": [
    "# Dataset with ratings and amount of ratings\n",
    "## manually generated from the IMDb page ( https://www.imdb.com/title/tt2193021/episodes?ref_=tt_eps_sm )"
   ]
  },
  {
   "cell_type": "code",
   "execution_count": 51,
   "metadata": {},
   "outputs": [
    {
     "name": "stderr",
     "output_type": "stream",
     "text": [
      "/home/annagomes/anaconda3/lib/python3.8/site-packages/ipykernel/ipkernel.py:287: DeprecationWarning: `should_run_async` will not call `transform_cell` automatically in the future. Please pass the result to `transformed_cell` argument and any exception that happen during thetransform in `preprocessing_exc_tuple` in IPython 7.17 and above.\n",
      "  and should_run_async(code)\n"
     ]
    }
   ],
   "source": [
    "ratings = pd.read_csv('Data/ratings2.csv', sep=\",\")"
   ]
  },
  {
   "cell_type": "code",
   "execution_count": 52,
   "metadata": {},
   "outputs": [
    {
     "name": "stderr",
     "output_type": "stream",
     "text": [
      "/home/annagomes/anaconda3/lib/python3.8/site-packages/ipykernel/ipkernel.py:287: DeprecationWarning: `should_run_async` will not call `transform_cell` automatically in the future. Please pass the result to `transformed_cell` argument and any exception that happen during thetransform in `preprocessing_exc_tuple` in IPython 7.17 and above.\n",
      "  and should_run_async(code)\n"
     ]
    },
    {
     "data": {
      "text/html": [
       "<div>\n",
       "<style scoped>\n",
       "    .dataframe tbody tr th:only-of-type {\n",
       "        vertical-align: middle;\n",
       "    }\n",
       "\n",
       "    .dataframe tbody tr th {\n",
       "        vertical-align: top;\n",
       "    }\n",
       "\n",
       "    .dataframe thead th {\n",
       "        text-align: right;\n",
       "    }\n",
       "</style>\n",
       "<table border=\"1\" class=\"dataframe\">\n",
       "  <thead>\n",
       "    <tr style=\"text-align: right;\">\n",
       "      <th></th>\n",
       "      <th>episodios</th>\n",
       "      <th>nota_imdb</th>\n",
       "      <th>qtd_reviews</th>\n",
       "    </tr>\n",
       "  </thead>\n",
       "  <tbody>\n",
       "    <tr>\n",
       "      <th>0</th>\n",
       "      <td>/series/Arrow-2193021/season-1/episode-1-Pilot</td>\n",
       "      <td>8.5</td>\n",
       "      <td>7572</td>\n",
       "    </tr>\n",
       "    <tr>\n",
       "      <th>1</th>\n",
       "      <td>/series/Arrow-2193021/season-1/episode-2-Honor...</td>\n",
       "      <td>8.2</td>\n",
       "      <td>5731</td>\n",
       "    </tr>\n",
       "    <tr>\n",
       "      <th>2</th>\n",
       "      <td>/series/Arrow-2193021/season-1/episode-3-Lone_...</td>\n",
       "      <td>8.4</td>\n",
       "      <td>5367</td>\n",
       "    </tr>\n",
       "    <tr>\n",
       "      <th>3</th>\n",
       "      <td>/series/Arrow-2193021/season-1/episode-4-An_In...</td>\n",
       "      <td>8.3</td>\n",
       "      <td>5071</td>\n",
       "    </tr>\n",
       "    <tr>\n",
       "      <th>4</th>\n",
       "      <td>/series/Arrow-2193021/season-1/episode-5-Damaged</td>\n",
       "      <td>8.6</td>\n",
       "      <td>5011</td>\n",
       "    </tr>\n",
       "  </tbody>\n",
       "</table>\n",
       "</div>"
      ],
      "text/plain": [
       "                                           episodios  nota_imdb  qtd_reviews\n",
       "0     /series/Arrow-2193021/season-1/episode-1-Pilot        8.5         7572\n",
       "1  /series/Arrow-2193021/season-1/episode-2-Honor...        8.2         5731\n",
       "2  /series/Arrow-2193021/season-1/episode-3-Lone_...        8.4         5367\n",
       "3  /series/Arrow-2193021/season-1/episode-4-An_In...        8.3         5071\n",
       "4   /series/Arrow-2193021/season-1/episode-5-Damaged        8.6         5011"
      ]
     },
     "execution_count": 52,
     "metadata": {},
     "output_type": "execute_result"
    }
   ],
   "source": [
    "ratings.head()"
   ]
  },
  {
   "cell_type": "code",
   "execution_count": 53,
   "metadata": {},
   "outputs": [
    {
     "name": "stderr",
     "output_type": "stream",
     "text": [
      "/home/annagomes/anaconda3/lib/python3.8/site-packages/ipykernel/ipkernel.py:287: DeprecationWarning: `should_run_async` will not call `transform_cell` automatically in the future. Please pass the result to `transformed_cell` argument and any exception that happen during thetransform in `preprocessing_exc_tuple` in IPython 7.17 and above.\n",
      "  and should_run_async(code)\n"
     ]
    },
    {
     "data": {
      "text/plain": [
       "episodios      0\n",
       "nota_imdb      0\n",
       "qtd_reviews    0\n",
       "dtype: int64"
      ]
     },
     "execution_count": 53,
     "metadata": {},
     "output_type": "execute_result"
    }
   ],
   "source": [
    "ratings.isnull().sum()"
   ]
  },
  {
   "cell_type": "code",
   "execution_count": 54,
   "metadata": {},
   "outputs": [
    {
     "name": "stderr",
     "output_type": "stream",
     "text": [
      "/home/annagomes/anaconda3/lib/python3.8/site-packages/ipykernel/ipkernel.py:287: DeprecationWarning: `should_run_async` will not call `transform_cell` automatically in the future. Please pass the result to `transformed_cell` argument and any exception that happen during thetransform in `preprocessing_exc_tuple` in IPython 7.17 and above.\n",
      "  and should_run_async(code)\n"
     ]
    },
    {
     "data": {
      "text/plain": [
       "(165, 3)"
      ]
     },
     "execution_count": 54,
     "metadata": {},
     "output_type": "execute_result"
    }
   ],
   "source": [
    "ratings.shape"
   ]
  },
  {
   "cell_type": "markdown",
   "metadata": {},
   "source": [
    "# Final dataset\n",
    "## Dataset with the episode name, the script, the script processed , column with score value of topic 0, column with score value of topic 1, column with score value of topic 2, the imdb rating, the amount of reviews and the predominant topic "
   ]
  },
  {
   "cell_type": "code",
   "execution_count": 55,
   "metadata": {},
   "outputs": [
    {
     "name": "stderr",
     "output_type": "stream",
     "text": [
      "/home/annagomes/anaconda3/lib/python3.8/site-packages/ipykernel/ipkernel.py:287: DeprecationWarning: `should_run_async` will not call `transform_cell` automatically in the future. Please pass the result to `transformed_cell` argument and any exception that happen during thetransform in `preprocessing_exc_tuple` in IPython 7.17 and above.\n",
      "  and should_run_async(code)\n"
     ]
    }
   ],
   "source": [
    "dataset = pd.concat([df_concat, ratings], axis=1) "
   ]
  },
  {
   "cell_type": "code",
   "execution_count": 56,
   "metadata": {},
   "outputs": [
    {
     "name": "stderr",
     "output_type": "stream",
     "text": [
      "/home/annagomes/anaconda3/lib/python3.8/site-packages/ipykernel/ipkernel.py:287: DeprecationWarning: `should_run_async` will not call `transform_cell` automatically in the future. Please pass the result to `transformed_cell` argument and any exception that happen during thetransform in `preprocessing_exc_tuple` in IPython 7.17 and above.\n",
      "  and should_run_async(code)\n"
     ]
    }
   ],
   "source": [
    "dataset.drop('episodios', axis=1, inplace=True)"
   ]
  },
  {
   "cell_type": "code",
   "execution_count": 57,
   "metadata": {},
   "outputs": [
    {
     "name": "stderr",
     "output_type": "stream",
     "text": [
      "/home/annagomes/anaconda3/lib/python3.8/site-packages/ipykernel/ipkernel.py:287: DeprecationWarning: `should_run_async` will not call `transform_cell` automatically in the future. Please pass the result to `transformed_cell` argument and any exception that happen during thetransform in `preprocessing_exc_tuple` in IPython 7.17 and above.\n",
      "  and should_run_async(code)\n"
     ]
    }
   ],
   "source": [
    "topicos = dataset.loc[:, [0, 1, 2]]"
   ]
  },
  {
   "cell_type": "code",
   "execution_count": 58,
   "metadata": {},
   "outputs": [
    {
     "name": "stderr",
     "output_type": "stream",
     "text": [
      "/home/annagomes/anaconda3/lib/python3.8/site-packages/ipykernel/ipkernel.py:287: DeprecationWarning: `should_run_async` will not call `transform_cell` automatically in the future. Please pass the result to `transformed_cell` argument and any exception that happen during thetransform in `preprocessing_exc_tuple` in IPython 7.17 and above.\n",
      "  and should_run_async(code)\n"
     ]
    },
    {
     "data": {
      "text/html": [
       "<div>\n",
       "<style scoped>\n",
       "    .dataframe tbody tr th:only-of-type {\n",
       "        vertical-align: middle;\n",
       "    }\n",
       "\n",
       "    .dataframe tbody tr th {\n",
       "        vertical-align: top;\n",
       "    }\n",
       "\n",
       "    .dataframe thead th {\n",
       "        text-align: right;\n",
       "    }\n",
       "</style>\n",
       "<table border=\"1\" class=\"dataframe\">\n",
       "  <thead>\n",
       "    <tr style=\"text-align: right;\">\n",
       "      <th></th>\n",
       "      <th>0</th>\n",
       "      <th>1</th>\n",
       "      <th>2</th>\n",
       "    </tr>\n",
       "  </thead>\n",
       "  <tbody>\n",
       "    <tr>\n",
       "      <th>0</th>\n",
       "      <td>0.287473</td>\n",
       "      <td>0.652349</td>\n",
       "      <td>0.060177</td>\n",
       "    </tr>\n",
       "    <tr>\n",
       "      <th>1</th>\n",
       "      <td>0.735218</td>\n",
       "      <td>0.034977</td>\n",
       "      <td>0.229805</td>\n",
       "    </tr>\n",
       "    <tr>\n",
       "      <th>2</th>\n",
       "      <td>0.025055</td>\n",
       "      <td>0.160141</td>\n",
       "      <td>0.814804</td>\n",
       "    </tr>\n",
       "    <tr>\n",
       "      <th>3</th>\n",
       "      <td>0.100796</td>\n",
       "      <td>0.415217</td>\n",
       "      <td>0.483987</td>\n",
       "    </tr>\n",
       "    <tr>\n",
       "      <th>4</th>\n",
       "      <td>0.755971</td>\n",
       "      <td>0.149650</td>\n",
       "      <td>0.094378</td>\n",
       "    </tr>\n",
       "    <tr>\n",
       "      <th>...</th>\n",
       "      <td>...</td>\n",
       "      <td>...</td>\n",
       "      <td>...</td>\n",
       "    </tr>\n",
       "    <tr>\n",
       "      <th>160</th>\n",
       "      <td>0.226348</td>\n",
       "      <td>0.770606</td>\n",
       "      <td>0.000000</td>\n",
       "    </tr>\n",
       "    <tr>\n",
       "      <th>161</th>\n",
       "      <td>0.043737</td>\n",
       "      <td>0.945267</td>\n",
       "      <td>0.010995</td>\n",
       "    </tr>\n",
       "    <tr>\n",
       "      <th>162</th>\n",
       "      <td>0.100159</td>\n",
       "      <td>0.899042</td>\n",
       "      <td>0.000000</td>\n",
       "    </tr>\n",
       "    <tr>\n",
       "      <th>163</th>\n",
       "      <td>0.131416</td>\n",
       "      <td>0.762695</td>\n",
       "      <td>0.105889</td>\n",
       "    </tr>\n",
       "    <tr>\n",
       "      <th>164</th>\n",
       "      <td>0.999546</td>\n",
       "      <td>0.000000</td>\n",
       "      <td>0.000000</td>\n",
       "    </tr>\n",
       "  </tbody>\n",
       "</table>\n",
       "<p>165 rows × 3 columns</p>\n",
       "</div>"
      ],
      "text/plain": [
       "            0         1         2\n",
       "0    0.287473  0.652349  0.060177\n",
       "1    0.735218  0.034977  0.229805\n",
       "2    0.025055  0.160141  0.814804\n",
       "3    0.100796  0.415217  0.483987\n",
       "4    0.755971  0.149650  0.094378\n",
       "..        ...       ...       ...\n",
       "160  0.226348  0.770606  0.000000\n",
       "161  0.043737  0.945267  0.010995\n",
       "162  0.100159  0.899042  0.000000\n",
       "163  0.131416  0.762695  0.105889\n",
       "164  0.999546  0.000000  0.000000\n",
       "\n",
       "[165 rows x 3 columns]"
      ]
     },
     "execution_count": 58,
     "metadata": {},
     "output_type": "execute_result"
    }
   ],
   "source": [
    "dataset.loc[:, [0, 1, 2]]"
   ]
  },
  {
   "cell_type": "code",
   "execution_count": 59,
   "metadata": {},
   "outputs": [
    {
     "name": "stderr",
     "output_type": "stream",
     "text": [
      "/home/annagomes/anaconda3/lib/python3.8/site-packages/ipykernel/ipkernel.py:287: DeprecationWarning: `should_run_async` will not call `transform_cell` automatically in the future. Please pass the result to `transformed_cell` argument and any exception that happen during thetransform in `preprocessing_exc_tuple` in IPython 7.17 and above.\n",
      "  and should_run_async(code)\n"
     ]
    }
   ],
   "source": [
    "dataset['Topic'] = topicos.idxmax(axis=1)"
   ]
  },
  {
   "cell_type": "code",
   "execution_count": 60,
   "metadata": {
    "scrolled": true
   },
   "outputs": [
    {
     "name": "stderr",
     "output_type": "stream",
     "text": [
      "/home/annagomes/anaconda3/lib/python3.8/site-packages/ipykernel/ipkernel.py:287: DeprecationWarning: `should_run_async` will not call `transform_cell` automatically in the future. Please pass the result to `transformed_cell` argument and any exception that happen during thetransform in `preprocessing_exc_tuple` in IPython 7.17 and above.\n",
      "  and should_run_async(code)\n"
     ]
    },
    {
     "data": {
      "text/html": [
       "<div>\n",
       "<style scoped>\n",
       "    .dataframe tbody tr th:only-of-type {\n",
       "        vertical-align: middle;\n",
       "    }\n",
       "\n",
       "    .dataframe tbody tr th {\n",
       "        vertical-align: top;\n",
       "    }\n",
       "\n",
       "    .dataframe thead th {\n",
       "        text-align: right;\n",
       "    }\n",
       "</style>\n",
       "<table border=\"1\" class=\"dataframe\">\n",
       "  <thead>\n",
       "    <tr style=\"text-align: right;\">\n",
       "      <th></th>\n",
       "      <th>nome_ep</th>\n",
       "      <th>Episodios</th>\n",
       "      <th>text_processed</th>\n",
       "      <th>0</th>\n",
       "      <th>1</th>\n",
       "      <th>2</th>\n",
       "      <th>nota_imdb</th>\n",
       "      <th>qtd_reviews</th>\n",
       "      <th>Topic</th>\n",
       "    </tr>\n",
       "  </thead>\n",
       "  <tbody>\n",
       "    <tr>\n",
       "      <th>0</th>\n",
       "      <td>/series/Arrow-2193021/season-1/episode-1-Pilot</td>\n",
       "      <td>The name of the islandthey found me on is Lian...</td>\n",
       "      <td>the name of the islandthey found me on is lian...</td>\n",
       "      <td>0.287473</td>\n",
       "      <td>0.652349</td>\n",
       "      <td>0.060177</td>\n",
       "      <td>8.5</td>\n",
       "      <td>7572</td>\n",
       "      <td>1</td>\n",
       "    </tr>\n",
       "    <tr>\n",
       "      <th>1</th>\n",
       "      <td>/series/Arrow-2193021/season-1/episode-2-Honor...</td>\n",
       "      <td>[PANTING][GRUNTS][SPEAKING IN FOREIGN LANGUAGE...</td>\n",
       "      <td>[panting][grunts][speaking in foreign language...</td>\n",
       "      <td>0.735218</td>\n",
       "      <td>0.034977</td>\n",
       "      <td>0.229805</td>\n",
       "      <td>8.2</td>\n",
       "      <td>5731</td>\n",
       "      <td>0</td>\n",
       "    </tr>\n",
       "    <tr>\n",
       "      <th>2</th>\n",
       "      <td>/series/Arrow-2193021/season-1/episode-3-Lone_...</td>\n",
       "      <td>My name is Oliver Queen.To my family, I am the...</td>\n",
       "      <td>my name is oliver queen to my family  i am the...</td>\n",
       "      <td>0.025055</td>\n",
       "      <td>0.160141</td>\n",
       "      <td>0.814804</td>\n",
       "      <td>8.4</td>\n",
       "      <td>5367</td>\n",
       "      <td>2</td>\n",
       "    </tr>\n",
       "    <tr>\n",
       "      <th>3</th>\n",
       "      <td>/series/Arrow-2193021/season-1/episode-4-An_In...</td>\n",
       "      <td>My name is Oliver Queen.For 5 years, I was str...</td>\n",
       "      <td>my name is oliver queen for 5 years  i was str...</td>\n",
       "      <td>0.100796</td>\n",
       "      <td>0.415217</td>\n",
       "      <td>0.483987</td>\n",
       "      <td>8.3</td>\n",
       "      <td>5071</td>\n",
       "      <td>2</td>\n",
       "    </tr>\n",
       "    <tr>\n",
       "      <th>4</th>\n",
       "      <td>/series/Arrow-2193021/season-1/episode-5-Damaged</td>\n",
       "      <td>OLIVER:My name is Oliver Queen.For five years,...</td>\n",
       "      <td>oliver:my name is oliver queen for five years ...</td>\n",
       "      <td>0.755971</td>\n",
       "      <td>0.149650</td>\n",
       "      <td>0.094378</td>\n",
       "      <td>8.6</td>\n",
       "      <td>5011</td>\n",
       "      <td>0</td>\n",
       "    </tr>\n",
       "  </tbody>\n",
       "</table>\n",
       "</div>"
      ],
      "text/plain": [
       "                                             nome_ep  \\\n",
       "0     /series/Arrow-2193021/season-1/episode-1-Pilot   \n",
       "1  /series/Arrow-2193021/season-1/episode-2-Honor...   \n",
       "2  /series/Arrow-2193021/season-1/episode-3-Lone_...   \n",
       "3  /series/Arrow-2193021/season-1/episode-4-An_In...   \n",
       "4   /series/Arrow-2193021/season-1/episode-5-Damaged   \n",
       "\n",
       "                                           Episodios  \\\n",
       "0  The name of the islandthey found me on is Lian...   \n",
       "1  [PANTING][GRUNTS][SPEAKING IN FOREIGN LANGUAGE...   \n",
       "2  My name is Oliver Queen.To my family, I am the...   \n",
       "3  My name is Oliver Queen.For 5 years, I was str...   \n",
       "4  OLIVER:My name is Oliver Queen.For five years,...   \n",
       "\n",
       "                                      text_processed         0         1  \\\n",
       "0  the name of the islandthey found me on is lian...  0.287473  0.652349   \n",
       "1  [panting][grunts][speaking in foreign language...  0.735218  0.034977   \n",
       "2  my name is oliver queen to my family  i am the...  0.025055  0.160141   \n",
       "3  my name is oliver queen for 5 years  i was str...  0.100796  0.415217   \n",
       "4  oliver:my name is oliver queen for five years ...  0.755971  0.149650   \n",
       "\n",
       "          2  nota_imdb  qtd_reviews  Topic  \n",
       "0  0.060177        8.5         7572      1  \n",
       "1  0.229805        8.2         5731      0  \n",
       "2  0.814804        8.4         5367      2  \n",
       "3  0.483987        8.3         5071      2  \n",
       "4  0.094378        8.6         5011      0  "
      ]
     },
     "execution_count": 60,
     "metadata": {},
     "output_type": "execute_result"
    }
   ],
   "source": [
    "dataset.head()"
   ]
  },
  {
   "cell_type": "code",
   "execution_count": 61,
   "metadata": {},
   "outputs": [
    {
     "name": "stderr",
     "output_type": "stream",
     "text": [
      "/home/annagomes/anaconda3/lib/python3.8/site-packages/ipykernel/ipkernel.py:287: DeprecationWarning: `should_run_async` will not call `transform_cell` automatically in the future. Please pass the result to `transformed_cell` argument and any exception that happen during thetransform in `preprocessing_exc_tuple` in IPython 7.17 and above.\n",
      "  and should_run_async(code)\n"
     ]
    },
    {
     "data": {
      "text/plain": [
       "(165, 9)"
      ]
     },
     "execution_count": 61,
     "metadata": {},
     "output_type": "execute_result"
    }
   ],
   "source": [
    "dataset.shape"
   ]
  },
  {
   "cell_type": "code",
   "execution_count": 62,
   "metadata": {},
   "outputs": [
    {
     "name": "stderr",
     "output_type": "stream",
     "text": [
      "/home/annagomes/anaconda3/lib/python3.8/site-packages/ipykernel/ipkernel.py:287: DeprecationWarning: `should_run_async` will not call `transform_cell` automatically in the future. Please pass the result to `transformed_cell` argument and any exception that happen during thetransform in `preprocessing_exc_tuple` in IPython 7.17 and above.\n",
      "  and should_run_async(code)\n"
     ]
    }
   ],
   "source": [
    "dataset.to_csv('Data/scripts.csv',  sep=';')"
   ]
  }
 ],
 "metadata": {
  "colab": {
   "collapsed_sections": [],
   "name": "Webscrap_arrow.ipynb",
   "provenance": []
  },
  "kernelspec": {
   "display_name": "Python 3",
   "language": "python",
   "name": "python3"
  },
  "language_info": {
   "codemirror_mode": {
    "name": "ipython",
    "version": 3
   },
   "file_extension": ".py",
   "mimetype": "text/x-python",
   "name": "python",
   "nbconvert_exporter": "python",
   "pygments_lexer": "ipython3",
   "version": "3.8.5"
  }
 },
 "nbformat": 4,
 "nbformat_minor": 4
}
