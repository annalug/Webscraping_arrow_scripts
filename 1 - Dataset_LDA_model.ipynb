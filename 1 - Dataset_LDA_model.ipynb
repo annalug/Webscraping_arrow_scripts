{
 "cells": [
  {
   "cell_type": "markdown",
   "metadata": {
    "id": "f0xzEC0SU3HZ"
   },
   "source": [
    "# Web Scrapping of Arrow (American TV Serie) scripts\n",
    "## From the site: https://subslikescript.com/ \n",
    "## by: Anna Luiza Gomes"
   ]
  },
  {
   "cell_type": "markdown",
   "metadata": {
    "id": "Ef1vKOqq8Jd9"
   },
   "source": [
    "## Pre-processing the data (scripts)"
   ]
  },
  {
   "cell_type": "code",
   "execution_count": 1,
   "metadata": {
    "id": "2n4oMFqlU3He"
   },
   "outputs": [],
   "source": [
    "import requests\n",
    "import pandas as pd\n",
    "from bs4 import BeautifulSoup\n",
    "import urllib.request\n",
    "import re"
   ]
  },
  {
   "cell_type": "code",
   "execution_count": 2,
   "metadata": {
    "colab": {
     "base_uri": "https://localhost:8080/"
    },
    "id": "BudYbebxU3Hf",
    "outputId": "e6a087fa-a928-48fe-9f4b-38dae0da4635"
   },
   "outputs": [
    {
     "name": "stdout",
     "output_type": "stream",
     "text": [
      "/\n",
      "/movies\n",
      "/series\n",
      "/\n",
      "/series\n",
      "/series/Arrow-2193021/season-1/episode-1-Pilot\n",
      "/series/Arrow-2193021/season-1/episode-2-Honor_Thy_Father\n",
      "/series/Arrow-2193021/season-1/episode-3-Lone_Gunmen\n",
      "/series/Arrow-2193021/season-1/episode-4-An_Innocent_Man\n",
      "/series/Arrow-2193021/season-1/episode-5-Damaged\n",
      "/series/Arrow-2193021/season-1/episode-6-Legacies\n",
      "/series/Arrow-2193021/season-1/episode-7-Muse_of_Fire\n",
      "/series/Arrow-2193021/season-1/episode-8-Vendetta\n",
      "/series/Arrow-2193021/season-1/episode-9-Years_End\n",
      "/series/Arrow-2193021/season-1/episode-10-Burned\n",
      "/series/Arrow-2193021/season-1/episode-11-Trust_But_Verify\n",
      "/series/Arrow-2193021/season-1/episode-12-Vertigo\n",
      "/series/Arrow-2193021/season-1/episode-13-Betrayal\n",
      "/series/Arrow-2193021/season-1/episode-14-The_Odyssey\n",
      "/series/Arrow-2193021/season-1/episode-15-Dodger\n",
      "/series/Arrow-2193021/season-1/episode-16-Dead_to_Rights\n",
      "/series/Arrow-2193021/season-1/episode-17-The_Huntress_Returns\n",
      "/series/Arrow-2193021/season-1/episode-18-Salvation\n",
      "/series/Arrow-2193021/season-1/episode-19-Unfinished_Business\n",
      "/series/Arrow-2193021/season-1/episode-20-Home_Invasion\n",
      "/series/Arrow-2193021/season-1/episode-21-The_Undertaking\n",
      "/series/Arrow-2193021/season-1/episode-22-Darkness_on_the_Edge_of_Town\n",
      "/series/Arrow-2193021/season-1/episode-23-Sacrifice\n",
      "/series/Arrow-2193021/season-2/episode-1-City_of_Heroes\n",
      "/series/Arrow-2193021/season-2/episode-2-Identity\n",
      "/series/Arrow-2193021/season-2/episode-3-Broken_Dolls\n",
      "/series/Arrow-2193021/season-2/episode-4-Crucible\n",
      "/series/Arrow-2193021/season-2/episode-5-League_of_Assassins\n",
      "/series/Arrow-2193021/season-2/episode-6-Keep_Your_Enemies_Closer\n",
      "/series/Arrow-2193021/season-2/episode-7-State_v_Queen\n",
      "/series/Arrow-2193021/season-2/episode-8-The_Scientist\n",
      "/series/Arrow-2193021/season-2/episode-9-Three_Ghosts\n",
      "/series/Arrow-2193021/season-2/episode-10-Blast_Radius\n",
      "/series/Arrow-2193021/season-2/episode-11-Blind_Spot\n",
      "/series/Arrow-2193021/season-2/episode-12-Tremors\n",
      "/series/Arrow-2193021/season-2/episode-13-Heir_to_the_Demon\n",
      "/series/Arrow-2193021/season-2/episode-14-Time_of_Death\n",
      "/series/Arrow-2193021/season-2/episode-15-The_Promise\n",
      "/series/Arrow-2193021/season-2/episode-16-Suicide_Squad\n",
      "/series/Arrow-2193021/season-2/episode-17-Birds_of_Prey\n",
      "/series/Arrow-2193021/season-2/episode-18-Deathstroke\n",
      "/series/Arrow-2193021/season-2/episode-19-The_Man_Under_the_Hood\n",
      "/series/Arrow-2193021/season-2/episode-20-Seeing_Red\n",
      "/series/Arrow-2193021/season-2/episode-21-City_of_Blood\n",
      "/series/Arrow-2193021/season-2/episode-22-Streets_of_Fire\n",
      "/series/Arrow-2193021/season-2/episode-23-Unthinkable\n",
      "/series/Arrow-2193021/season-3/episode-1-The_Calm\n",
      "/series/Arrow-2193021/season-3/episode-2-Sara\n",
      "/series/Arrow-2193021/season-3/episode-3-Corto_Maltese\n",
      "/series/Arrow-2193021/season-3/episode-5-The_Secret_Origin_of_Felicity_Smoak\n",
      "/series/Arrow-2193021/season-3/episode-6-Guilty\n",
      "/series/Arrow-2193021/season-3/episode-7-Draw_Back_Your_Bow\n",
      "/series/Arrow-2193021/season-3/episode-8-The_Brave_and_the_Bold\n",
      "/series/Arrow-2193021/season-3/episode-9-The_Climb\n",
      "/series/Arrow-2193021/season-3/episode-10-Left_Behind\n",
      "/series/Arrow-2193021/season-3/episode-11-Midnight_City\n",
      "/series/Arrow-2193021/season-3/episode-12-Uprising\n",
      "/series/Arrow-2193021/season-3/episode-13-Canaries\n",
      "/series/Arrow-2193021/season-3/episode-14-The_Return\n",
      "/series/Arrow-2193021/season-3/episode-15-Nanda_Parbat\n",
      "/series/Arrow-2193021/season-3/episode-16-The_Offer\n",
      "/series/Arrow-2193021/season-3/episode-17-Suicidal_Tendencies\n",
      "/series/Arrow-2193021/season-3/episode-18-Public_Enemy\n",
      "/series/Arrow-2193021/season-3/episode-19-Broken_Arrow\n",
      "/series/Arrow-2193021/season-3/episode-20-The_Fallen\n",
      "/series/Arrow-2193021/season-3/episode-21-Al_Sah-Him\n",
      "/series/Arrow-2193021/season-3/episode-22-This_Is_Your_Sword\n",
      "/series/Arrow-2193021/season-3/episode-23-My_Name_Is_Oliver_Queen\n",
      "/series/Arrow-2193021/season-4/episode-1-Green_Arrow\n",
      "/series/Arrow-2193021/season-4/episode-2-The_Candidate\n",
      "/series/Arrow-2193021/season-4/episode-3-Restoration\n",
      "/series/Arrow-2193021/season-4/episode-4-Beyond_Redemption\n",
      "/series/Arrow-2193021/season-4/episode-5-Haunted\n",
      "/series/Arrow-2193021/season-4/episode-6-Lost_Souls\n",
      "/series/Arrow-2193021/season-4/episode-7-Brotherhood\n",
      "/series/Arrow-2193021/season-4/episode-8-Legends_of_Yesterday\n",
      "/series/Arrow-2193021/season-4/episode-9-Dark_Waters\n",
      "/series/Arrow-2193021/season-4/episode-10-Blood_Debts\n",
      "/series/Arrow-2193021/season-4/episode-11-AWOL\n",
      "/series/Arrow-2193021/season-4/episode-12-Unchained\n",
      "/series/Arrow-2193021/season-4/episode-13-Sins_of_the_Father\n",
      "/series/Arrow-2193021/season-4/episode-14-Code_of_Silence\n",
      "/series/Arrow-2193021/season-4/episode-15-Taken\n",
      "/series/Arrow-2193021/season-4/episode-16-Broken_Hearts\n",
      "/series/Arrow-2193021/season-4/episode-17-Beacon_of_Hope\n",
      "/series/Arrow-2193021/season-4/episode-18-Eleven-Fifty-Nine\n",
      "/series/Arrow-2193021/season-4/episode-19-Canary_Cry\n",
      "/series/Arrow-2193021/season-4/episode-20-Genesis\n",
      "/series/Arrow-2193021/season-4/episode-21-Monument_Point\n",
      "/series/Arrow-2193021/season-4/episode-22-Lost_in_the_Flood\n",
      "/series/Arrow-2193021/season-4/episode-23-Schism\n",
      "/series/Arrow-2193021/season-5/episode-1-Legacy\n",
      "/series/Arrow-2193021/season-5/episode-2-The_Recruits\n",
      "/series/Arrow-2193021/season-5/episode-3-A_Matter_of_Trust\n",
      "/series/Arrow-2193021/season-5/episode-4-Penance\n",
      "/series/Arrow-2193021/season-5/episode-5-Human_Target\n",
      "/series/Arrow-2193021/season-5/episode-6-So_It_Begins\n",
      "/series/Arrow-2193021/season-5/episode-7-Vigilante\n",
      "/series/Arrow-2193021/season-5/episode-8-Invasion\n",
      "/series/Arrow-2193021/season-5/episode-9-What_We_Leave_Behind\n",
      "/series/Arrow-2193021/season-5/episode-10-Who_Are_You\n",
      "/series/Arrow-2193021/season-5/episode-11-Second_Chances\n",
      "/series/Arrow-2193021/season-5/episode-12-Bratva\n",
      "/series/Arrow-2193021/season-5/episode-13-Spectre_of_the_Gun\n",
      "/series/Arrow-2193021/season-5/episode-14-The_Sin-Eater\n",
      "/series/Arrow-2193021/season-5/episode-15-Fighting_Fire_with_Fire\n",
      "/series/Arrow-2193021/season-5/episode-16-Checkmate\n",
      "/series/Arrow-2193021/season-5/episode-17-Kapiushon\n",
      "/series/Arrow-2193021/season-5/episode-18-Disbanded\n",
      "/series/Arrow-2193021/season-5/episode-19-Dangerous_Liaisons\n",
      "/series/Arrow-2193021/season-5/episode-20-Underneath\n",
      "/series/Arrow-2193021/season-5/episode-21-Honor_Thy_Fathers\n",
      "/series/Arrow-2193021/season-5/episode-22-Missing\n",
      "/series/Arrow-2193021/season-5/episode-23-Lian_Yu\n",
      "/series/Arrow-2193021/season-6/episode-1-Fallout\n",
      "/series/Arrow-2193021/season-6/episode-2-Tribute\n",
      "/series/Arrow-2193021/season-6/episode-3-Next_of_Kin\n",
      "/series/Arrow-2193021/season-6/episode-4-Reversal\n",
      "/series/Arrow-2193021/season-6/episode-5-Deathstroke_Returns\n",
      "/series/Arrow-2193021/season-6/episode-6-Promises_Kept\n",
      "/series/Arrow-2193021/season-6/episode-7-Thanksgiving\n",
      "/series/Arrow-2193021/season-6/episode-8-Crisis_on_Earth-X_Part_2\n",
      "/series/Arrow-2193021/season-6/episode-9-Irreconcilable_Differences\n",
      "/series/Arrow-2193021/season-6/episode-10-Divided\n",
      "/series/Arrow-2193021/season-6/episode-11-We_Fall\n",
      "/series/Arrow-2193021/season-6/episode-12-All_for_Nothing\n",
      "/series/Arrow-2193021/season-6/episode-13-The_Devils_Greatest_Trick\n",
      "/series/Arrow-2193021/season-6/episode-14-Collision_Course\n",
      "/series/Arrow-2193021/season-6/episode-15-Doppelgnger\n",
      "/series/Arrow-2193021/season-6/episode-16-The_Thanatos_Guild\n",
      "/series/Arrow-2193021/season-6/episode-17-Brothers_in_Arms\n",
      "/series/Arrow-2193021/season-6/episode-18-Fundamentals\n",
      "/series/Arrow-2193021/season-6/episode-19-The_Dragon\n",
      "/series/Arrow-2193021/season-6/episode-20-Shifting_Allegiances\n",
      "/series/Arrow-2193021/season-6/episode-21-Docket_No_11-19-41-73\n",
      "/series/Arrow-2193021/season-6/episode-22-The_Ties_That_Bind\n",
      "/series/Arrow-2193021/season-6/episode-23-Life_Sentence\n",
      "/series/Arrow-2193021/season-7/episode-1-Inmate_4587\n",
      "/series/Arrow-2193021/season-7/episode-2-The_Longbow_Hunters\n",
      "/series/Arrow-2193021/season-7/episode-3-Crossing_Lines\n",
      "/series/Arrow-2193021/season-7/episode-4-Level_Two\n",
      "/series/Arrow-2193021/season-7/episode-5-The_Demon\n",
      "/series/Arrow-2193021/season-7/episode-6-Episode_76\n",
      "/series/Arrow-2193021/season-7/episode-7-The_Slabside_Redemption\n",
      "/series/Arrow-2193021/season-7/episode-8-Episode_78\n",
      "/series/Arrow-2193021/season-7/episode-9-Elseworlds_Part_2\n",
      "/series/Arrow-2193021/season-7/episode-10-Episode_710\n",
      "/series/Arrow-2193021/season-7/episode-11-Past_Sins\n",
      "/series/Arrow-2193021/season-7/episode-15-Training_Day\n",
      "/series/Arrow-2193021/season-7/episode-16-Star_City_2040\n",
      "/series/Arrow-2193021/season-7/episode-17-Inheritance\n",
      "/series/Arrow-2193021/season-7/episode-18-Lost_Canary\n",
      "/series/Arrow-2193021/season-7/episode-19-Spartan\n",
      "/series/Arrow-2193021/season-7/episode-20-Confessions\n",
      "/series/Arrow-2193021/season-7/episode-21-Episode_721\n",
      "/series/Arrow-2193021/season-7/episode-22-Episode_722\n",
      "/series/Arrow-2193021/season-8/episode-1-Starling_City\n",
      "/series/Arrow-2193021/season-8/episode-2-Welcome_to_Hong_Kong\n",
      "/series/Arrow-2193021/season-8/episode-3-Leap_of_Faith\n",
      "/series/Arrow-2193021/season-8/episode-4-Present_Tense\n",
      "/series/Arrow-2193021/season-8/episode-5-Prochnost\n",
      "/series/Arrow-2193021/season-8/episode-6-Reset\n",
      "/series/Arrow-2193021/season-8/episode-7-Purgatory\n",
      "/series/Arrow-2193021/season-8/episode-8-Crisis_on_Infinite_Earths\n",
      "/series/Arrow-2193021/season-8/episode-9-Green_Arrow__the_Canaries\n",
      "/series/Arrow-2193021/season-8/episode-10-Fadeout\n",
      "/dmca\n"
     ]
    }
   ],
   "source": [
    "parser = 'html.parser'  # or 'lxml' (preferred) or 'html5lib', if installed\n",
    "resp = urllib.request.urlopen(\"https://subslikescript.com/series/Arrow-2193021\")    #missing 4 episodes from season 7 \n",
    "soup = BeautifulSoup(resp, parser, from_encoding=resp.info().get_param('charset'))\n",
    "\n",
    "for link in soup.find_all('a', href=True):\n",
    "    \n",
    "    print(link['href'])"
   ]
  },
  {
   "cell_type": "code",
   "execution_count": 3,
   "metadata": {
    "id": "0K6KOQCzU3Hg"
   },
   "outputs": [],
   "source": [
    "href_tags = soup.find_all('a',href=True)   \n",
    "hrefs = [tag.get('href') for tag in href_tags]"
   ]
  },
  {
   "cell_type": "code",
   "execution_count": 4,
   "metadata": {
    "id": "i43-rb0z8JeD",
    "outputId": "5bd5d10d-9d8b-4505-bbef-22744a1e2131"
   },
   "outputs": [
    {
     "name": "stdout",
     "output_type": "stream",
     "text": [
      "0 /\n",
      "1 /movies\n",
      "2 /series\n",
      "3 /\n",
      "4 /series\n",
      "5 /series/Arrow-2193021/season-1/episode-1-Pilot\n",
      "6 /series/Arrow-2193021/season-1/episode-2-Honor_Thy_Father\n",
      "7 /series/Arrow-2193021/season-1/episode-3-Lone_Gunmen\n",
      "8 /series/Arrow-2193021/season-1/episode-4-An_Innocent_Man\n",
      "9 /series/Arrow-2193021/season-1/episode-5-Damaged\n",
      "10 /series/Arrow-2193021/season-1/episode-6-Legacies\n",
      "11 /series/Arrow-2193021/season-1/episode-7-Muse_of_Fire\n",
      "12 /series/Arrow-2193021/season-1/episode-8-Vendetta\n",
      "13 /series/Arrow-2193021/season-1/episode-9-Years_End\n",
      "14 /series/Arrow-2193021/season-1/episode-10-Burned\n",
      "15 /series/Arrow-2193021/season-1/episode-11-Trust_But_Verify\n",
      "16 /series/Arrow-2193021/season-1/episode-12-Vertigo\n",
      "17 /series/Arrow-2193021/season-1/episode-13-Betrayal\n",
      "18 /series/Arrow-2193021/season-1/episode-14-The_Odyssey\n",
      "19 /series/Arrow-2193021/season-1/episode-15-Dodger\n",
      "20 /series/Arrow-2193021/season-1/episode-16-Dead_to_Rights\n",
      "21 /series/Arrow-2193021/season-1/episode-17-The_Huntress_Returns\n",
      "22 /series/Arrow-2193021/season-1/episode-18-Salvation\n",
      "23 /series/Arrow-2193021/season-1/episode-19-Unfinished_Business\n",
      "24 /series/Arrow-2193021/season-1/episode-20-Home_Invasion\n",
      "25 /series/Arrow-2193021/season-1/episode-21-The_Undertaking\n",
      "26 /series/Arrow-2193021/season-1/episode-22-Darkness_on_the_Edge_of_Town\n",
      "27 /series/Arrow-2193021/season-1/episode-23-Sacrifice\n",
      "28 /series/Arrow-2193021/season-2/episode-1-City_of_Heroes\n",
      "29 /series/Arrow-2193021/season-2/episode-2-Identity\n",
      "30 /series/Arrow-2193021/season-2/episode-3-Broken_Dolls\n",
      "31 /series/Arrow-2193021/season-2/episode-4-Crucible\n",
      "32 /series/Arrow-2193021/season-2/episode-5-League_of_Assassins\n",
      "33 /series/Arrow-2193021/season-2/episode-6-Keep_Your_Enemies_Closer\n",
      "34 /series/Arrow-2193021/season-2/episode-7-State_v_Queen\n",
      "35 /series/Arrow-2193021/season-2/episode-8-The_Scientist\n",
      "36 /series/Arrow-2193021/season-2/episode-9-Three_Ghosts\n",
      "37 /series/Arrow-2193021/season-2/episode-10-Blast_Radius\n",
      "38 /series/Arrow-2193021/season-2/episode-11-Blind_Spot\n",
      "39 /series/Arrow-2193021/season-2/episode-12-Tremors\n",
      "40 /series/Arrow-2193021/season-2/episode-13-Heir_to_the_Demon\n",
      "41 /series/Arrow-2193021/season-2/episode-14-Time_of_Death\n",
      "42 /series/Arrow-2193021/season-2/episode-15-The_Promise\n",
      "43 /series/Arrow-2193021/season-2/episode-16-Suicide_Squad\n",
      "44 /series/Arrow-2193021/season-2/episode-17-Birds_of_Prey\n",
      "45 /series/Arrow-2193021/season-2/episode-18-Deathstroke\n",
      "46 /series/Arrow-2193021/season-2/episode-19-The_Man_Under_the_Hood\n",
      "47 /series/Arrow-2193021/season-2/episode-20-Seeing_Red\n",
      "48 /series/Arrow-2193021/season-2/episode-21-City_of_Blood\n",
      "49 /series/Arrow-2193021/season-2/episode-22-Streets_of_Fire\n",
      "50 /series/Arrow-2193021/season-2/episode-23-Unthinkable\n",
      "51 /series/Arrow-2193021/season-3/episode-1-The_Calm\n",
      "52 /series/Arrow-2193021/season-3/episode-2-Sara\n",
      "53 /series/Arrow-2193021/season-3/episode-3-Corto_Maltese\n",
      "54 /series/Arrow-2193021/season-3/episode-5-The_Secret_Origin_of_Felicity_Smoak\n",
      "55 /series/Arrow-2193021/season-3/episode-6-Guilty\n",
      "56 /series/Arrow-2193021/season-3/episode-7-Draw_Back_Your_Bow\n",
      "57 /series/Arrow-2193021/season-3/episode-8-The_Brave_and_the_Bold\n",
      "58 /series/Arrow-2193021/season-3/episode-9-The_Climb\n",
      "59 /series/Arrow-2193021/season-3/episode-10-Left_Behind\n",
      "60 /series/Arrow-2193021/season-3/episode-11-Midnight_City\n",
      "61 /series/Arrow-2193021/season-3/episode-12-Uprising\n",
      "62 /series/Arrow-2193021/season-3/episode-13-Canaries\n",
      "63 /series/Arrow-2193021/season-3/episode-14-The_Return\n",
      "64 /series/Arrow-2193021/season-3/episode-15-Nanda_Parbat\n",
      "65 /series/Arrow-2193021/season-3/episode-16-The_Offer\n",
      "66 /series/Arrow-2193021/season-3/episode-17-Suicidal_Tendencies\n",
      "67 /series/Arrow-2193021/season-3/episode-18-Public_Enemy\n",
      "68 /series/Arrow-2193021/season-3/episode-19-Broken_Arrow\n",
      "69 /series/Arrow-2193021/season-3/episode-20-The_Fallen\n",
      "70 /series/Arrow-2193021/season-3/episode-21-Al_Sah-Him\n",
      "71 /series/Arrow-2193021/season-3/episode-22-This_Is_Your_Sword\n",
      "72 /series/Arrow-2193021/season-3/episode-23-My_Name_Is_Oliver_Queen\n",
      "73 /series/Arrow-2193021/season-4/episode-1-Green_Arrow\n",
      "74 /series/Arrow-2193021/season-4/episode-2-The_Candidate\n",
      "75 /series/Arrow-2193021/season-4/episode-3-Restoration\n",
      "76 /series/Arrow-2193021/season-4/episode-4-Beyond_Redemption\n",
      "77 /series/Arrow-2193021/season-4/episode-5-Haunted\n",
      "78 /series/Arrow-2193021/season-4/episode-6-Lost_Souls\n",
      "79 /series/Arrow-2193021/season-4/episode-7-Brotherhood\n",
      "80 /series/Arrow-2193021/season-4/episode-8-Legends_of_Yesterday\n",
      "81 /series/Arrow-2193021/season-4/episode-9-Dark_Waters\n",
      "82 /series/Arrow-2193021/season-4/episode-10-Blood_Debts\n",
      "83 /series/Arrow-2193021/season-4/episode-11-AWOL\n",
      "84 /series/Arrow-2193021/season-4/episode-12-Unchained\n",
      "85 /series/Arrow-2193021/season-4/episode-13-Sins_of_the_Father\n",
      "86 /series/Arrow-2193021/season-4/episode-14-Code_of_Silence\n",
      "87 /series/Arrow-2193021/season-4/episode-15-Taken\n",
      "88 /series/Arrow-2193021/season-4/episode-16-Broken_Hearts\n",
      "89 /series/Arrow-2193021/season-4/episode-17-Beacon_of_Hope\n",
      "90 /series/Arrow-2193021/season-4/episode-18-Eleven-Fifty-Nine\n",
      "91 /series/Arrow-2193021/season-4/episode-19-Canary_Cry\n",
      "92 /series/Arrow-2193021/season-4/episode-20-Genesis\n",
      "93 /series/Arrow-2193021/season-4/episode-21-Monument_Point\n",
      "94 /series/Arrow-2193021/season-4/episode-22-Lost_in_the_Flood\n",
      "95 /series/Arrow-2193021/season-4/episode-23-Schism\n",
      "96 /series/Arrow-2193021/season-5/episode-1-Legacy\n",
      "97 /series/Arrow-2193021/season-5/episode-2-The_Recruits\n",
      "98 /series/Arrow-2193021/season-5/episode-3-A_Matter_of_Trust\n",
      "99 /series/Arrow-2193021/season-5/episode-4-Penance\n",
      "100 /series/Arrow-2193021/season-5/episode-5-Human_Target\n",
      "101 /series/Arrow-2193021/season-5/episode-6-So_It_Begins\n",
      "102 /series/Arrow-2193021/season-5/episode-7-Vigilante\n",
      "103 /series/Arrow-2193021/season-5/episode-8-Invasion\n",
      "104 /series/Arrow-2193021/season-5/episode-9-What_We_Leave_Behind\n",
      "105 /series/Arrow-2193021/season-5/episode-10-Who_Are_You\n",
      "106 /series/Arrow-2193021/season-5/episode-11-Second_Chances\n",
      "107 /series/Arrow-2193021/season-5/episode-12-Bratva\n",
      "108 /series/Arrow-2193021/season-5/episode-13-Spectre_of_the_Gun\n",
      "109 /series/Arrow-2193021/season-5/episode-14-The_Sin-Eater\n",
      "110 /series/Arrow-2193021/season-5/episode-15-Fighting_Fire_with_Fire\n",
      "111 /series/Arrow-2193021/season-5/episode-16-Checkmate\n",
      "112 /series/Arrow-2193021/season-5/episode-17-Kapiushon\n",
      "113 /series/Arrow-2193021/season-5/episode-18-Disbanded\n",
      "114 /series/Arrow-2193021/season-5/episode-19-Dangerous_Liaisons\n",
      "115 /series/Arrow-2193021/season-5/episode-20-Underneath\n",
      "116 /series/Arrow-2193021/season-5/episode-21-Honor_Thy_Fathers\n",
      "117 /series/Arrow-2193021/season-5/episode-22-Missing\n",
      "118 /series/Arrow-2193021/season-5/episode-23-Lian_Yu\n",
      "119 /series/Arrow-2193021/season-6/episode-1-Fallout\n",
      "120 /series/Arrow-2193021/season-6/episode-2-Tribute\n",
      "121 /series/Arrow-2193021/season-6/episode-3-Next_of_Kin\n",
      "122 /series/Arrow-2193021/season-6/episode-4-Reversal\n",
      "123 /series/Arrow-2193021/season-6/episode-5-Deathstroke_Returns\n",
      "124 /series/Arrow-2193021/season-6/episode-6-Promises_Kept\n",
      "125 /series/Arrow-2193021/season-6/episode-7-Thanksgiving\n",
      "126 /series/Arrow-2193021/season-6/episode-8-Crisis_on_Earth-X_Part_2\n",
      "127 /series/Arrow-2193021/season-6/episode-9-Irreconcilable_Differences\n",
      "128 /series/Arrow-2193021/season-6/episode-10-Divided\n",
      "129 /series/Arrow-2193021/season-6/episode-11-We_Fall\n",
      "130 /series/Arrow-2193021/season-6/episode-12-All_for_Nothing\n",
      "131 /series/Arrow-2193021/season-6/episode-13-The_Devils_Greatest_Trick\n",
      "132 /series/Arrow-2193021/season-6/episode-14-Collision_Course\n",
      "133 /series/Arrow-2193021/season-6/episode-15-Doppelgnger\n",
      "134 /series/Arrow-2193021/season-6/episode-16-The_Thanatos_Guild\n",
      "135 /series/Arrow-2193021/season-6/episode-17-Brothers_in_Arms\n",
      "136 /series/Arrow-2193021/season-6/episode-18-Fundamentals\n",
      "137 /series/Arrow-2193021/season-6/episode-19-The_Dragon\n",
      "138 /series/Arrow-2193021/season-6/episode-20-Shifting_Allegiances\n",
      "139 /series/Arrow-2193021/season-6/episode-21-Docket_No_11-19-41-73\n",
      "140 /series/Arrow-2193021/season-6/episode-22-The_Ties_That_Bind\n",
      "141 /series/Arrow-2193021/season-6/episode-23-Life_Sentence\n",
      "142 /series/Arrow-2193021/season-7/episode-1-Inmate_4587\n",
      "143 /series/Arrow-2193021/season-7/episode-2-The_Longbow_Hunters\n",
      "144 /series/Arrow-2193021/season-7/episode-3-Crossing_Lines\n",
      "145 /series/Arrow-2193021/season-7/episode-4-Level_Two\n",
      "146 /series/Arrow-2193021/season-7/episode-5-The_Demon\n",
      "147 /series/Arrow-2193021/season-7/episode-6-Episode_76\n",
      "148 /series/Arrow-2193021/season-7/episode-7-The_Slabside_Redemption\n",
      "149 /series/Arrow-2193021/season-7/episode-8-Episode_78\n",
      "150 /series/Arrow-2193021/season-7/episode-9-Elseworlds_Part_2\n",
      "151 /series/Arrow-2193021/season-7/episode-10-Episode_710\n",
      "152 /series/Arrow-2193021/season-7/episode-11-Past_Sins\n",
      "153 /series/Arrow-2193021/season-7/episode-15-Training_Day\n",
      "154 /series/Arrow-2193021/season-7/episode-16-Star_City_2040\n",
      "155 /series/Arrow-2193021/season-7/episode-17-Inheritance\n",
      "156 /series/Arrow-2193021/season-7/episode-18-Lost_Canary\n",
      "157 /series/Arrow-2193021/season-7/episode-19-Spartan\n",
      "158 /series/Arrow-2193021/season-7/episode-20-Confessions\n",
      "159 /series/Arrow-2193021/season-7/episode-21-Episode_721\n",
      "160 /series/Arrow-2193021/season-7/episode-22-Episode_722\n",
      "161 /series/Arrow-2193021/season-8/episode-1-Starling_City\n",
      "162 /series/Arrow-2193021/season-8/episode-2-Welcome_to_Hong_Kong\n",
      "163 /series/Arrow-2193021/season-8/episode-3-Leap_of_Faith\n",
      "164 /series/Arrow-2193021/season-8/episode-4-Present_Tense\n",
      "165 /series/Arrow-2193021/season-8/episode-5-Prochnost\n",
      "166 /series/Arrow-2193021/season-8/episode-6-Reset\n",
      "167 /series/Arrow-2193021/season-8/episode-7-Purgatory\n",
      "168 /series/Arrow-2193021/season-8/episode-8-Crisis_on_Infinite_Earths\n",
      "169 /series/Arrow-2193021/season-8/episode-9-Green_Arrow__the_Canaries\n",
      "170 /series/Arrow-2193021/season-8/episode-10-Fadeout\n",
      "171 /dmca\n"
     ]
    }
   ],
   "source": [
    "for count, value in enumerate(hrefs):\n",
    "     print(count, value)"
   ]
  },
  {
   "cell_type": "code",
   "execution_count": 5,
   "metadata": {
    "colab": {
     "base_uri": "https://localhost:8080/",
     "height": 35
    },
    "id": "eIDuBOTVE6ma",
    "outputId": "8403c215-4c86-4b59-cf79-a939134224d6"
   },
   "outputs": [
    {
     "data": {
      "text/plain": [
       "'/series/Arrow-2193021/season-8/episode-10-Fadeout'"
      ]
     },
     "execution_count": 5,
     "metadata": {},
     "output_type": "execute_result"
    }
   ],
   "source": [
    "hrefs[170] #the last with episode name"
   ]
  },
  {
   "cell_type": "code",
   "execution_count": 6,
   "metadata": {
    "colab": {
     "base_uri": "https://localhost:8080/"
    },
    "id": "pXzlFjAtEwvQ",
    "outputId": "a1ea63bf-899d-44d8-da0c-92bf74e257e7"
   },
   "outputs": [
    {
     "data": {
      "text/plain": [
       "172"
      ]
     },
     "execution_count": 6,
     "metadata": {},
     "output_type": "execute_result"
    }
   ],
   "source": [
    "len(hrefs)"
   ]
  },
  {
   "cell_type": "markdown",
   "metadata": {
    "id": "ad1hBscC8JeH"
   },
   "source": [
    "## List with the episode's names"
   ]
  },
  {
   "cell_type": "code",
   "execution_count": 7,
   "metadata": {
    "id": "XPKHB4SR8JeI"
   },
   "outputs": [],
   "source": [
    "lista=[]   #list with the episode's names\n",
    "\n",
    "for i in range(5,171):\n",
    "    lista.append(hrefs[i])\n",
    "      "
   ]
  },
  {
   "cell_type": "code",
   "execution_count": 8,
   "metadata": {
    "id": "4I6W6bIM8JeJ",
    "outputId": "add9e7b3-0dae-41ef-f4d8-66c81a8eddbe"
   },
   "outputs": [
    {
     "data": {
      "text/plain": [
       "'/series/Arrow-2193021/season-1/episode-1-Pilot'"
      ]
     },
     "execution_count": 8,
     "metadata": {},
     "output_type": "execute_result"
    }
   ],
   "source": [
    "lista[0]  #first episode"
   ]
  },
  {
   "cell_type": "code",
   "execution_count": 9,
   "metadata": {
    "id": "TF8CNQ9R8JeK",
    "outputId": "ba198049-055f-4f9c-99c3-6a2e326dfd9f"
   },
   "outputs": [
    {
     "data": {
      "text/plain": [
       "'/series/Arrow-2193021/season-8/episode-10-Fadeout'"
      ]
     },
     "execution_count": 9,
     "metadata": {},
     "output_type": "execute_result"
    }
   ],
   "source": [
    "lista[165] #last episode"
   ]
  },
  {
   "cell_type": "code",
   "execution_count": 10,
   "metadata": {
    "id": "tSz8aMzQ8JeL",
    "outputId": "ff9fac58-3776-476d-deaf-e494a723f599"
   },
   "outputs": [
    {
     "data": {
      "text/plain": [
       "'/series/Arrow-2193021/season-2/episode-18-Deathstroke'"
      ]
     },
     "execution_count": 10,
     "metadata": {},
     "output_type": "execute_result"
    }
   ],
   "source": [
    "lista[40]   #episode in portuguese"
   ]
  },
  {
   "cell_type": "code",
   "execution_count": 11,
   "metadata": {
    "id": "fCZ8nmH48JeM",
    "outputId": "59ff95d2-347b-407c-c097-55ea4a27d23e"
   },
   "outputs": [
    {
     "data": {
      "text/plain": [
       "166"
      ]
     },
     "execution_count": 11,
     "metadata": {},
     "output_type": "execute_result"
    }
   ],
   "source": [
    "len(lista)        #its missing 4 episodes from : season 7 (12,13,14) and season 3 (episode 4)"
   ]
  },
  {
   "cell_type": "code",
   "execution_count": 12,
   "metadata": {
    "id": "CqIPGkwO8JeM"
   },
   "outputs": [],
   "source": [
    "df_lista = pd.DataFrame(lista) #puting the episode's name in a list"
   ]
  },
  {
   "cell_type": "code",
   "execution_count": 13,
   "metadata": {
    "id": "Qxl9joAR8JeN",
    "outputId": "e5989d54-53e2-476a-857f-408e8d27d079"
   },
   "outputs": [
    {
     "data": {
      "text/html": [
       "<div>\n",
       "<style scoped>\n",
       "    .dataframe tbody tr th:only-of-type {\n",
       "        vertical-align: middle;\n",
       "    }\n",
       "\n",
       "    .dataframe tbody tr th {\n",
       "        vertical-align: top;\n",
       "    }\n",
       "\n",
       "    .dataframe thead th {\n",
       "        text-align: right;\n",
       "    }\n",
       "</style>\n",
       "<table border=\"1\" class=\"dataframe\">\n",
       "  <thead>\n",
       "    <tr style=\"text-align: right;\">\n",
       "      <th></th>\n",
       "      <th>0</th>\n",
       "    </tr>\n",
       "  </thead>\n",
       "  <tbody>\n",
       "    <tr>\n",
       "      <th>0</th>\n",
       "      <td>/series/Arrow-2193021/season-1/episode-1-Pilot</td>\n",
       "    </tr>\n",
       "    <tr>\n",
       "      <th>1</th>\n",
       "      <td>/series/Arrow-2193021/season-1/episode-2-Honor...</td>\n",
       "    </tr>\n",
       "    <tr>\n",
       "      <th>2</th>\n",
       "      <td>/series/Arrow-2193021/season-1/episode-3-Lone_...</td>\n",
       "    </tr>\n",
       "    <tr>\n",
       "      <th>3</th>\n",
       "      <td>/series/Arrow-2193021/season-1/episode-4-An_In...</td>\n",
       "    </tr>\n",
       "    <tr>\n",
       "      <th>4</th>\n",
       "      <td>/series/Arrow-2193021/season-1/episode-5-Damaged</td>\n",
       "    </tr>\n",
       "  </tbody>\n",
       "</table>\n",
       "</div>"
      ],
      "text/plain": [
       "                                                   0\n",
       "0     /series/Arrow-2193021/season-1/episode-1-Pilot\n",
       "1  /series/Arrow-2193021/season-1/episode-2-Honor...\n",
       "2  /series/Arrow-2193021/season-1/episode-3-Lone_...\n",
       "3  /series/Arrow-2193021/season-1/episode-4-An_In...\n",
       "4   /series/Arrow-2193021/season-1/episode-5-Damaged"
      ]
     },
     "execution_count": 13,
     "metadata": {},
     "output_type": "execute_result"
    }
   ],
   "source": [
    "df_lista.head()"
   ]
  },
  {
   "cell_type": "markdown",
   "metadata": {
    "id": "tU7GKlsG8JeO"
   },
   "source": [
    "## List with the scripts"
   ]
  },
  {
   "cell_type": "code",
   "execution_count": 14,
   "metadata": {
    "id": "vLRmU3IykrUI"
   },
   "outputs": [],
   "source": [
    "eps = []    #list with the scripts\n",
    "\n",
    "for i in  range(5,171):\n",
    "  url_base= 'https://subslikescript.com'\n",
    "  url_final = url_base + hrefs[i]\n",
    "  page = requests.get(url_final)\n",
    "  soup = BeautifulSoup(page.content, \"lxml\")\n",
    "  results = soup.find_all(\"div\", {\"class\": \"full-script\"})\n",
    "  eps.append(results)\n"
   ]
  },
  {
   "cell_type": "code",
   "execution_count": 15,
   "metadata": {
    "colab": {
     "base_uri": "https://localhost:8080/"
    },
    "id": "RGC2H80GU3Hi",
    "outputId": "9723e6b6-8b3e-411b-d335-73b57ef0878f"
   },
   "outputs": [
    {
     "data": {
      "text/plain": [
       "166"
      ]
     },
     "execution_count": 15,
     "metadata": {},
     "output_type": "execute_result"
    }
   ],
   "source": [
    "len(eps)"
   ]
  },
  {
   "cell_type": "code",
   "execution_count": 16,
   "metadata": {
    "id": "AtDiVzrQ8JeP",
    "outputId": "66c3963f-b667-4367-b055-322861ae7474"
   },
   "outputs": [
    {
     "data": {
      "text/plain": [
       "list"
      ]
     },
     "execution_count": 16,
     "metadata": {},
     "output_type": "execute_result"
    }
   ],
   "source": [
    "type(eps)"
   ]
  },
  {
   "cell_type": "code",
   "execution_count": 17,
   "metadata": {
    "id": "UWowL8_57Sik"
   },
   "outputs": [],
   "source": [
    "chars = ['<script async=\"\" src=\"https://pagead2.googlesyndication.com/pagead/js/adsbygoogle.js\"></script>\\n<!-- subslikescript native automated \\'subslikescript article\\' -->\\n<ins class=\"adsbygoogle\" data-ad-client=\"ca-pub-6250492176235895\" data-ad-format=\"fluid\" data-ad-layout=\"in-article\" data-ad-slot=\"8633658590\" style=\"display:block; text-align:center;\"></ins>\\n<script>\\r\\n      \\r\\n</script> ','<script async=\"\" src=\"https://pagead2.googlesyndication.com/pagead/js/adsbygoogle.js\"></script>\\n<!-- subslikescript square adaptive -->\\n<ins class=\"adsbygoogle\" data-ad-client=\"ca-pub-6250492176235895\" data-ad-format=\"auto\" data-ad-slot=\"8838522786\" data-full-width-responsive=\"true\" style=\"display:block\"></ins>\\n<script>\\r\\n      \\r\\n</script> ','OpenSubtitles recommends using Nord VPN from 3.49 USD/month ----&gt; osdb.link/vpn ','Greg, move your head!','OpenSubtitles recommends using Nord VPN from 3.49 USD/month ----&gt; osdb.link/vpn','<script async=\"\" src=\"https://pagead2.googlesyndication.com/pagead/js/adsbygoogle.js\"></script>\\n<!-- subslikescript square adaptive -->\\n<ins class=\"adsbygoogle\" data-ad-client=\"ca-pub-6250492176235895\" data-ad-format=\"auto\" data-ad-slot=\"8838522786\" data-full-width-responsive=\"true\" style=\"display:block\"></ins>\\n<script>\\r\\n      \\r\\n</script>','<script async=\"\" src=\"https://pagead2.googlesyndication.com/pagead/js/adsbygoogle.js\"></script>\\n<!-- subslikescript native automated \\'subslikescript article\\' -->\\n<ins class=\"adsbygoogle\" data-ad-client=\"ca-pub-6250492176235895\" data-ad-format=\"fluid\" data-ad-layout=\"in-article\" data-ad-slot=\"8633658590\" style=\"display:block; text-align:center;\"></ins>\\n<script>\\r\\n      \\r\\n</script>','(adsbygoogle = window.adsbygoogle || []).push({});','[<div class=\"full-script\">','<br/><br/>','<br/>', '</div>]','<script async=\"\" src=\"https://pagead2.googlesyndication.com/pagead/js/adsbygoogle.js\"></script>\\n<!-- subslikescript square adaptive -->\\n<ins class=\"adsbygoogle\" data-ad-client=\"ca-pub-6250492176235895\" data-ad-format=\"auto\" data-ad-slot=\"8838522786\" data-full-width-responsive=\"true\" style=\"display:block\"></ins>\\n<script>\\r\\n     \\r\\n</script>','<script async=\"\" src=\"https://pagead2.googlesyndication.com/pagead/js/adsbygoogle.js\"></script>\\n<!-- subslikescript native automated \\'subslikescript article\\' -->\\n<ins class=\"adsbygoogle\" data-ad-client=\"ca-pub-6250492176235895\" data-ad-format=\"fluid\" data-ad-layout=\"in-article\" data-ad-slot=\"8633658590\" style=\"display:block; text-align:center;\"></ins>\\n<script>\\r\\n     \\r\\n</script>', 'OLIVER:My name is Oliver Queen.For five years, I was strandedon an island with only one goal:Survive.Oliver Queen is alive.OLIVER:Now, I will fulfill my father\\'s dying wish......to use the list of names he left me......and bring down thosewho are poisoning my city.To do this,I must become someone else.I must become something else.','My name is Oliver Queen.After five years in hell,I have come home with only one goal:To save my city.Now others have joined my crusade.To them, I\\'m Oliver Queen.To the rest of Starling City......I am someone else.I am something else.']"
   ]
  },
  {
   "cell_type": "code",
   "execution_count": 18,
   "metadata": {
    "id": "jI66aI2tqAO-"
   },
   "outputs": [],
   "source": [
    "txt=[]\n",
    "for i in range(len(eps)):\n",
    "  txt.append(str(eps[i]))\n",
    "  for c in chars:\n",
    "    txt[i] = txt[i].replace(c,'')\n",
    "    txt[i] = txt[i].replace('1','I')\n",
    "    txt[i] = txt[i].replace('\\\\','') #does not work!"
   ]
  },
  {
   "cell_type": "code",
   "execution_count": 19,
   "metadata": {
    "colab": {
     "base_uri": "https://localhost:8080/",
     "height": 1000
    },
    "id": "kUyttTKuvpzN",
    "outputId": "2952f8cc-2efe-4d7b-a6aa-68e42f567802"
   },
   "outputs": [
    {
     "data": {
      "text/plain": [
       "166"
      ]
     },
     "execution_count": 19,
     "metadata": {},
     "output_type": "execute_result"
    }
   ],
   "source": [
    "len(txt)"
   ]
  },
  {
   "cell_type": "code",
   "execution_count": 20,
   "metadata": {
    "id": "GnJZzPEh8JeT"
   },
   "outputs": [],
   "source": [
    "# txt[40]   # in portuguese..."
   ]
  },
  {
   "cell_type": "markdown",
   "metadata": {
    "id": "TCG0Ptul8JeT"
   },
   "source": [
    "## Creating the dataframe with the scripts"
   ]
  },
  {
   "cell_type": "code",
   "execution_count": 21,
   "metadata": {
    "id": "THYAAJw78JeT"
   },
   "outputs": [],
   "source": [
    "df_ep = pd.DataFrame(txt,columns=['Episodios'])"
   ]
  },
  {
   "cell_type": "code",
   "execution_count": 22,
   "metadata": {
    "id": "d-q1Xg118JeU",
    "outputId": "5278b3d3-f8c8-4be7-c7b2-393be60e26b1"
   },
   "outputs": [
    {
     "data": {
      "text/plain": [
       "(166, 1)"
      ]
     },
     "execution_count": 22,
     "metadata": {},
     "output_type": "execute_result"
    }
   ],
   "source": [
    "df_ep.shape"
   ]
  },
  {
   "cell_type": "code",
   "execution_count": 23,
   "metadata": {
    "id": "EzycWYj78JeU",
    "outputId": "7058800b-362f-4379-dcc5-51f324938130"
   },
   "outputs": [
    {
     "data": {
      "text/html": [
       "<div>\n",
       "<style scoped>\n",
       "    .dataframe tbody tr th:only-of-type {\n",
       "        vertical-align: middle;\n",
       "    }\n",
       "\n",
       "    .dataframe tbody tr th {\n",
       "        vertical-align: top;\n",
       "    }\n",
       "\n",
       "    .dataframe thead th {\n",
       "        text-align: right;\n",
       "    }\n",
       "</style>\n",
       "<table border=\"1\" class=\"dataframe\">\n",
       "  <thead>\n",
       "    <tr style=\"text-align: right;\">\n",
       "      <th></th>\n",
       "      <th>Episodios</th>\n",
       "    </tr>\n",
       "  </thead>\n",
       "  <tbody>\n",
       "    <tr>\n",
       "      <th>0</th>\n",
       "      <td>The name of the islandthey found me on is Lian...</td>\n",
       "    </tr>\n",
       "    <tr>\n",
       "      <th>1</th>\n",
       "      <td>[PANTING][GRUNTS][SPEAKING IN FOREIGN LANGUAGE...</td>\n",
       "    </tr>\n",
       "    <tr>\n",
       "      <th>2</th>\n",
       "      <td>My name is Oliver Queen.To my family, I am the...</td>\n",
       "    </tr>\n",
       "    <tr>\n",
       "      <th>3</th>\n",
       "      <td>My name is Oliver Queen.For 5 years, I was str...</td>\n",
       "    </tr>\n",
       "    <tr>\n",
       "      <th>4</th>\n",
       "      <td>OLIVER:My name is Oliver Queen.For five years,...</td>\n",
       "    </tr>\n",
       "  </tbody>\n",
       "</table>\n",
       "</div>"
      ],
      "text/plain": [
       "                                           Episodios\n",
       "0  The name of the islandthey found me on is Lian...\n",
       "1  [PANTING][GRUNTS][SPEAKING IN FOREIGN LANGUAGE...\n",
       "2  My name is Oliver Queen.To my family, I am the...\n",
       "3  My name is Oliver Queen.For 5 years, I was str...\n",
       "4  OLIVER:My name is Oliver Queen.For five years,..."
      ]
     },
     "execution_count": 23,
     "metadata": {},
     "output_type": "execute_result"
    }
   ],
   "source": [
    "df_ep.head()"
   ]
  },
  {
   "cell_type": "code",
   "execution_count": 24,
   "metadata": {
    "id": "H3fTQjWp8JeV"
   },
   "outputs": [],
   "source": [
    "# Removing punctuation\n",
    "df_ep['text_processed'] = \\\n",
    "df_ep['Episodios'].map(lambda x: re.sub('[,\\.!?]', ' ', x))"
   ]
  },
  {
   "cell_type": "code",
   "execution_count": 25,
   "metadata": {
    "id": "oIqRqaPG8JeV"
   },
   "outputs": [],
   "source": [
    "# Convert the titles to lowercase\n",
    "df_ep['text_processed'] = \\\n",
    "df_ep['text_processed'].map(lambda x: x.lower())     "
   ]
  },
  {
   "cell_type": "code",
   "execution_count": 26,
   "metadata": {
    "id": "98T7yREv8JeW",
    "outputId": "eb1f45d4-92c7-48cd-a795-4315cfac5e94"
   },
   "outputs": [
    {
     "data": {
      "text/plain": [
       "0    the name of the islandthey found me on is lian...\n",
       "1    [panting][grunts][speaking in foreign language...\n",
       "2    my name is oliver queen to my family  i am the...\n",
       "3    my name is oliver queen for 5 years  i was str...\n",
       "4    oliver:my name is oliver queen for five years ...\n",
       "Name: text_processed, dtype: object"
      ]
     },
     "execution_count": 26,
     "metadata": {},
     "output_type": "execute_result"
    }
   ],
   "source": [
    "df_ep['text_processed'].head()"
   ]
  },
  {
   "cell_type": "markdown",
   "metadata": {
    "id": "5kP7fC8H8JeW"
   },
   "source": [
    "## First dataset with the raw script, the processed script and the episode name\n"
   ]
  },
  {
   "cell_type": "code",
   "execution_count": 27,
   "metadata": {
    "id": "1CAVBXuk8JeW"
   },
   "outputs": [],
   "source": [
    "df_parcial = pd.concat([df_lista, df_ep], axis=1) "
   ]
  },
  {
   "cell_type": "code",
   "execution_count": 28,
   "metadata": {
    "id": "qQTgSs0p8JeX"
   },
   "outputs": [],
   "source": [
    "df_parcial.columns = ['nome_ep', 'Episodios','text_processed']"
   ]
  },
  {
   "cell_type": "code",
   "execution_count": 29,
   "metadata": {
    "id": "xM7lOyTG8JeX"
   },
   "outputs": [],
   "source": [
    "df_parcial = df_parcial.drop(df_parcial.index[[40]]) #removing line 40"
   ]
  },
  {
   "cell_type": "code",
   "execution_count": 30,
   "metadata": {
    "id": "BDCUUE-E8JeX"
   },
   "outputs": [],
   "source": [
    "df_parcial = df_parcial.reset_index(drop=True)  #reseting the index"
   ]
  },
  {
   "cell_type": "code",
   "execution_count": 31,
   "metadata": {
    "id": "apm8PaB98JeX",
    "outputId": "a124386a-5821-416f-e482-7dd3f93c77d5"
   },
   "outputs": [
    {
     "data": {
      "text/html": [
       "<div>\n",
       "<style scoped>\n",
       "    .dataframe tbody tr th:only-of-type {\n",
       "        vertical-align: middle;\n",
       "    }\n",
       "\n",
       "    .dataframe tbody tr th {\n",
       "        vertical-align: top;\n",
       "    }\n",
       "\n",
       "    .dataframe thead th {\n",
       "        text-align: right;\n",
       "    }\n",
       "</style>\n",
       "<table border=\"1\" class=\"dataframe\">\n",
       "  <thead>\n",
       "    <tr style=\"text-align: right;\">\n",
       "      <th></th>\n",
       "      <th>nome_ep</th>\n",
       "      <th>Episodios</th>\n",
       "      <th>text_processed</th>\n",
       "    </tr>\n",
       "  </thead>\n",
       "  <tbody>\n",
       "    <tr>\n",
       "      <th>160</th>\n",
       "      <td>/series/Arrow-2193021/season-8/episode-6-Reset</td>\n",
       "      <td>PREVIOUSLY ON \"ARROW\"...THIS PLACE LOOKSEXACTL...</td>\n",
       "      <td>previously on \"arrow\"   this place looksexactl...</td>\n",
       "    </tr>\n",
       "    <tr>\n",
       "      <th>161</th>\n",
       "      <td>/series/Arrow-2193021/season-8/episode-7-Purga...</td>\n",
       "      <td>Previously on \"Arrow\"...-I need your help, roy...</td>\n",
       "      <td>previously on \"arrow\"   -i need your help  roy...</td>\n",
       "    </tr>\n",
       "    <tr>\n",
       "      <th>162</th>\n",
       "      <td>/series/Arrow-2193021/season-8/episode-8-Crisi...</td>\n",
       "      <td>Previously on Crisison Infinite Earths...There...</td>\n",
       "      <td>previously on crisison infinite earths   there...</td>\n",
       "    </tr>\n",
       "    <tr>\n",
       "      <th>163</th>\n",
       "      <td>/series/Arrow-2193021/season-8/episode-9-Green...</td>\n",
       "      <td>bianca!bianca bertinelli?who the hell are you...</td>\n",
       "      <td>bianca bianca bertinelli who the hell are you...</td>\n",
       "    </tr>\n",
       "    <tr>\n",
       "      <th>164</th>\n",
       "      <td>/series/Arrow-2193021/season-8/episode-10-Fadeout</td>\n",
       "      <td>[Oliver]My name is Oliver Queen.[gunshot][Oliv...</td>\n",
       "      <td>[oliver]my name is oliver queen [gunshot][oliv...</td>\n",
       "    </tr>\n",
       "  </tbody>\n",
       "</table>\n",
       "</div>"
      ],
      "text/plain": [
       "                                               nome_ep  \\\n",
       "160     /series/Arrow-2193021/season-8/episode-6-Reset   \n",
       "161  /series/Arrow-2193021/season-8/episode-7-Purga...   \n",
       "162  /series/Arrow-2193021/season-8/episode-8-Crisi...   \n",
       "163  /series/Arrow-2193021/season-8/episode-9-Green...   \n",
       "164  /series/Arrow-2193021/season-8/episode-10-Fadeout   \n",
       "\n",
       "                                             Episodios  \\\n",
       "160  PREVIOUSLY ON \"ARROW\"...THIS PLACE LOOKSEXACTL...   \n",
       "161  Previously on \"Arrow\"...-I need your help, roy...   \n",
       "162  Previously on Crisison Infinite Earths...There...   \n",
       "163   bianca!bianca bertinelli?who the hell are you...   \n",
       "164  [Oliver]My name is Oliver Queen.[gunshot][Oliv...   \n",
       "\n",
       "                                        text_processed  \n",
       "160  previously on \"arrow\"   this place looksexactl...  \n",
       "161  previously on \"arrow\"   -i need your help  roy...  \n",
       "162  previously on crisison infinite earths   there...  \n",
       "163   bianca bianca bertinelli who the hell are you...  \n",
       "164  [oliver]my name is oliver queen [gunshot][oliv...  "
      ]
     },
     "execution_count": 31,
     "metadata": {},
     "output_type": "execute_result"
    }
   ],
   "source": [
    "df_parcial.tail()"
   ]
  },
  {
   "cell_type": "code",
   "execution_count": 32,
   "metadata": {
    "id": "zIbPG2_f8JeY",
    "outputId": "334e8e1b-7448-4b2d-a798-10507a5cacb3"
   },
   "outputs": [
    {
     "data": {
      "text/plain": [
       "(165, 3)"
      ]
     },
     "execution_count": 32,
     "metadata": {},
     "output_type": "execute_result"
    }
   ],
   "source": [
    "df_parcial.shape"
   ]
  },
  {
   "cell_type": "code",
   "execution_count": 33,
   "metadata": {
    "id": "6ubeKTbr8JeY",
    "outputId": "3ca32944-8786-4126-f9d2-a3a09f781f5a"
   },
   "outputs": [
    {
     "data": {
      "text/plain": [
       "nome_ep           0\n",
       "Episodios         0\n",
       "text_processed    0\n",
       "dtype: int64"
      ]
     },
     "execution_count": 33,
     "metadata": {},
     "output_type": "execute_result"
    }
   ],
   "source": [
    "df_parcial.isnull().sum()"
   ]
  },
  {
   "cell_type": "markdown",
   "metadata": {
    "id": "hOAtCwYM8JeZ"
   },
   "source": [
    "----------------------------------------------------------------------------"
   ]
  },
  {
   "cell_type": "markdown",
   "metadata": {
    "id": "79m0dKva8JeZ"
   },
   "source": [
    "# Wordcloud"
   ]
  },
  {
   "cell_type": "code",
   "execution_count": 34,
   "metadata": {
    "id": "Oauz0Xqd8JeZ",
    "outputId": "468ae34b-8deb-4535-fd5b-7ed7b639e4f6"
   },
   "outputs": [
    {
     "data": {
      "image/png": "[encoded data removed]",
      "text/plain": [
       "<PIL.Image.Image image mode=RGB size=400x200 at 0x7F42249C23D0>"
      ]
     },
     "execution_count": 34,
     "metadata": {},
     "output_type": "execute_result"
    }
   ],
   "source": [
    "# Import the wordcloud library\n",
    "from wordcloud import WordCloud\n",
    "\n",
    "# Join the different processed texts together.\n",
    "long_string = ','.join(list(df_parcial['text_processed'].values))\n",
    "\n",
    "# Create a WordCloud object\n",
    "wordcloud = WordCloud(background_color=\"white\", max_words=1000, contour_width=3, contour_color='steelblue')\n",
    "\n",
    "# Generate a word cloud\n",
    "wordcloud.generate(long_string)\n",
    "\n",
    "# Visualize the word cloud\n",
    "wordcloud.to_image()"
   ]
  },
  {
   "cell_type": "code",
   "execution_count": 35,
   "metadata": {
    "id": "5bz9C2r38JeZ"
   },
   "outputs": [],
   "source": [
    "# df_parcial['text_processed'].values #todo o dataset"
   ]
  },
  {
   "cell_type": "markdown",
   "metadata": {
    "id": "arNBBjNQ8Jea"
   },
   "source": [
    "# Tokenization and remotion of stopwords (english) "
   ]
  },
  {
   "cell_type": "code",
   "execution_count": 36,
   "metadata": {
    "id": "LKY7Dlux8Jea",
    "outputId": "5fe9eb44-8da7-4a08-93de-ed6988f4b681"
   },
   "outputs": [
    {
     "name": "stdout",
     "output_type": "stream",
     "text": [
      "['your', 'yours', 'yourself', 'yourselves', 'he', 'him', 'his', 'himself', 'she', \"she's\", 'her', 'hers', 'herself', 'it', \"it's\", 'its', 'itself', 'they', 'them', 'their', 'theirs', 'themselves', 'what', 'which', 'who', 'whom', 'this', 'that', \"that'll\", 'these', 'those', 'am', 'is', 'are', 'was', 'were', 'be', 'been', 'being', 'have', 'has', 'had', 'having', 'do', 'does', 'did', 'doing', 'a', 'an', 'the', 'and', 'but', 'if', 'or', 'because', 'as', 'until', 'while', 'of', 'at']\n"
     ]
    },
    {
     "name": "stderr",
     "output_type": "stream",
     "text": [
      "[nltk_data] Downloading package stopwords to /home/anna/nltk_data...\n",
      "[nltk_data]   Package stopwords is already up-to-date!\n"
     ]
    }
   ],
   "source": [
    "import gensim\n",
    "from gensim.utils import simple_preprocess\n",
    "import nltk\n",
    "nltk.download('stopwords')\n",
    "from nltk.corpus import stopwords\n",
    "\n",
    "stop_words = stopwords.words('english')\n",
    "stop_words.extend(['from', 'subject', 're', 'edu','arrow','really', 'look', 'tell', 'mean', 'make','way','see','take',  'use','time','man','data', 'ad', 'would', 'think','script', 'could' ,'like','want', 'come',  'one', 'yeah', 'get','go','got','right','know','gonna','need','oh','well','ok','let','back','going','hey'])\n",
    "print(stopwords.words() [620:680])\n",
    "\n",
    "\n"
   ]
  },
  {
   "cell_type": "code",
   "execution_count": 37,
   "metadata": {
    "id": "DKyrgehD8Jea",
    "outputId": "889d0855-821e-4078-aaec-c78349f21075"
   },
   "outputs": [
    {
     "name": "stdout",
     "output_type": "stream",
     "text": [
      "['name', 'islandthey', 'found', 'lian', 'yu', 'mandarin', 'purgatory', 'stranded', 'five', 'years', 'dreamt', 'rescueevery', 'cold', 'black', 'night', 'since', 'five', 'years', 'thought', 'goal', 'survive', 'survive', 'day', 'return', 'home', 'island', 'held', 'many', 'dangers', 'live']\n"
     ]
    }
   ],
   "source": [
    "def sent_to_words(sentences):\n",
    "    for sentence in sentences:\n",
    "        # deacc=True removes punctuations\n",
    "        yield(gensim.utils.simple_preprocess(str(sentence), deacc=True))\n",
    "\n",
    "def remove_stopwords(texts):\n",
    "    return [[word for word in simple_preprocess(str(doc)) \n",
    "             if word not in stop_words] for doc in texts]\n",
    "\n",
    "\n",
    "data = df_parcial.text_processed.values.tolist()   \n",
    "data_words = list(sent_to_words(data))\n",
    "\n",
    "# remove stop words\n",
    "data_words = remove_stopwords(data_words)\n",
    "\n",
    "print(data_words[:1][0][:30]) "
   ]
  },
  {
   "cell_type": "code",
   "execution_count": 38,
   "metadata": {
    "id": "0DMc8gWc8Jeb",
    "outputId": "54777416-c22d-413a-fbbf-1d05282174a7"
   },
   "outputs": [
    {
     "data": {
      "text/plain": [
       "165"
      ]
     },
     "execution_count": 38,
     "metadata": {},
     "output_type": "execute_result"
    }
   ],
   "source": [
    "len(data_words)"
   ]
  },
  {
   "cell_type": "code",
   "execution_count": 39,
   "metadata": {
    "id": "OL6EEK4B8Jeb",
    "outputId": "dc56cf6f-64db-44da-ce38-7b7c367d429f"
   },
   "outputs": [
    {
     "name": "stdout",
     "output_type": "stream",
     "text": [
      "[(0, 3), (1, 2), (2, 1), (3, 2), (4, 1), (5, 1), (6, 2), (7, 1), (8, 1), (9, 2), (10, 1), (11, 1), (12, 1), (13, 1), (14, 1), (15, 1), (16, 5), (17, 1), (18, 4), (19, 2), (20, 1), (21, 1), (22, 2), (23, 1), (24, 1), (25, 1), (26, 4), (27, 1), (28, 1), (29, 1)]\n"
     ]
    }
   ],
   "source": [
    "import gensim.corpora as corpora\n",
    "\n",
    "# Create Dictionary\n",
    "id2word = corpora.Dictionary(data_words)\n",
    "\n",
    "# Create Corpus\n",
    "texts = data_words\n",
    "\n",
    "# Term Document Frequency\n",
    "corpus = [id2word.doc2bow(text) for text in texts]\n",
    "\n",
    "# View\n",
    "print(corpus[:1][0][:30])\n"
   ]
  },
  {
   "cell_type": "markdown",
   "metadata": {
    "id": "ZFwVudto8Jec"
   },
   "source": [
    "# Model training"
   ]
  },
  {
   "cell_type": "code",
   "execution_count": 40,
   "metadata": {
    "id": "hbLmDPow8Jec",
    "outputId": "4ae9fed3-3b93-4a33-b113-35fb81f97ac0"
   },
   "outputs": [
    {
     "name": "stdout",
     "output_type": "stream",
     "text": [
      "[(0,\n",
      "  '0.008*\"oliver\" + 0.004*\"good\" + 0.004*\"us\" + 0.004*\"city\" + '\n",
      "  '0.004*\"something\" + 0.003*\"felicity\" + 0.003*\"sorry\" + 0.003*\"queen\" + '\n",
      "  '0.003*\"thank\" + 0.003*\"find\"'),\n",
      " (1,\n",
      "  '0.007*\"oliver\" + 0.005*\"city\" + 0.004*\"us\" + 0.004*\"good\" + '\n",
      "  '0.003*\"something\" + 0.003*\"sorry\" + 0.003*\"queen\" + 0.003*\"laurel\" + '\n",
      "  '0.003*\"thea\" + 0.003*\"help\"'),\n",
      " (2,\n",
      "  '0.008*\"oliver\" + 0.006*\"city\" + 0.005*\"us\" + 0.004*\"good\" + 0.004*\"sorry\" + '\n",
      "  '0.003*\"felicity\" + 0.003*\"laurel\" + 0.003*\"something\" + 0.003*\"find\" + '\n",
      "  '0.003*\"never\"')]\n"
     ]
    }
   ],
   "source": [
    "from pprint import pprint\n",
    "\n",
    "# number of topics\n",
    "num_topics = 3\n",
    "\n",
    "# Build LDA model\n",
    "lda_model = gensim.models.LdaMulticore(corpus=corpus,\n",
    "                                       id2word=id2word,\n",
    "                                       num_topics=num_topics)\n",
    "\n",
    "# Print the Keyword in the 10 topics\n",
    "pprint(lda_model.print_topics())\n",
    "doc_lda = lda_model[corpus]"
   ]
  },
  {
   "cell_type": "code",
   "execution_count": 67,
   "metadata": {
    "id": "nhxtXWpp8Jec",
    "outputId": "d0ce177b-cbce-4520-bfc8-21a38ae06e74"
   },
   "outputs": [
    {
     "name": "stderr",
     "output_type": "stream",
     "text": [
      "/home/anna/anaconda3/lib/python3.8/site-packages/ipykernel/ipkernel.py:287: DeprecationWarning: `should_run_async` will not call `transform_cell` automatically in the future. Please pass the result to `transformed_cell` argument and any exception that happen during thetransform in `preprocessing_exc_tuple` in IPython 7.17 and above.\n",
      "  and should_run_async(code)\n"
     ]
    },
    {
     "data": {
      "text/html": [
       "\n",
       "<link rel=\"stylesheet\" type=\"text/css\" href=\"https://cdn.jsdelivr.net/gh/bmabey/pyLDAvis@3.3.1/pyLDAvis/js/ldavis.v1.0.0.css\">\n",
       "\n",
       "\n",
       "<div id=\"ldavis_el85081399218171161124963017888\"></div>\n",
       "<script type=\"text/javascript\">\n",
       "\n",
       "var ldavis_el85081399218171161124963017888_data = {\"mdsDat\": {\"x\": [-0.002673122781128009, 0.001022427129604891, 0.00165069565152312], \"y\": [0.0002973831453365497, -0.002046626053204201, 0.0017492429078676524], \"topics\": [1, 2, 3], \"cluster\": [1, 1, 1], \"Freq\": [20.208818704430463, 27.333471215533976, 52.45771008003556]}, \"tinfo\": {\"Term\": [\"oliver\", \"something\", \"good\", \"queen\", \"us\", \"thea\", \"thought\", \"felicity\", \"dead\", \"guy\", \"thank\", \"okay\", \"people\", \"better\", \"find\", \"city\", \"pagead\", \"laurel\", \"uh\", \"move\", \"maybe\", \"diaz\", \"sorry\", \"new\", \"green\", \"thing\", \"said\", \"roy\", \"help\", \"two\", \"rasmus\", \"blackstar\", \"hutchinson\", \"nextappointment\", \"caroutside\", \"taylor\", \"koji\", \"diggie\", \"moore\", \"malfunctioned\", \"bertineiii\", \"jos\", \"rasmuswas\", \"inflicting\", \"waiked\", \"representedby\", \"thisisland\", \"pratiti\", \"newww\", \"piease\", \"se\", \"decian\", \"replayingthat\", \"teiiing\", \"bareiy\", \"fordand\", \"comfortablewith\", \"hourthat\", \"katsu\", \"iie\", \"taik\", \"maicoim\", \"iate\", \"meriyn\", \"feei\", \"coid\", \"oiiver\", \"couid\", \"aiways\", \"iisten\", \"weii\", \"iittie\", \"shouid\", \"guy\", \"wouid\", \"iife\", \"sam\", \"james\", \"new\", \"hmm\", \"something\", \"thought\", \"church\", \"chuckles\", \"pagead\", \"lance\", \"ii\", \"thank\", \"good\", \"diaz\", \"stay\", \"adsbygoogle\", \"oliver\", \"roy\", \"queen\", \"green\", \"felicity\", \"better\", \"article\", \"dead\", \"thea\", \"find\", \"anything\", \"us\", \"two\", \"stop\", \"father\", \"home\", \"uh\", \"sorry\", \"laurel\", \"thing\", \"guys\", \"city\", \"people\", \"yes\", \"maybe\", \"say\", \"still\", \"said\", \"help\", \"mr\", \"never\", \"okay\", \"told\", \"sure\", \"cassamento\", \"announcements\", \"isthrough\", \"himled\", \"thinktwice\", \"queenie\", \"tirelessly\", \"puppies\", \"agoi\", \"crawler\", \"shabu\", \"wouldabsolutely\", \"barrera\", \"waywe\", \"sisterkilled\", \"confirmtheir\", \"senator\", \"convenient\", \"clinton\", \"heliport\", \"nonalcoholic\", \"infor\", \"weeksafter\", \"grows\", \"kang\", \"thinkingin\", \"chastise\", \"allay\", \"dinnerand\", \"scraper\", \"dunbar\", \"timeto\", \"securityis\", \"bandages\", \"light\", \"move\", \"dead\", \"decision\", \"genesis\", \"may\", \"hall\", \"else\", \"figured\", \"position\", \"um\", \"darhk\", \"thea\", \"alive\", \"kill\", \"okay\", \"couple\", \"everyone\", \"gone\", \"force\", \"merlyn\", \"slade\", \"mayor\", \"argus\", \"better\", \"people\", \"mom\", \"play\", \"diaz\", \"mm\", \"eyes\", \"help\", \"first\", \"hell\", \"everything\", \"maybe\", \"said\", \"city\", \"killed\", \"block\", \"queen\", \"something\", \"mr\", \"us\", \"oliver\", \"even\", \"good\", \"last\", \"told\", \"life\", \"laurel\", \"uh\", \"thing\", \"sorry\", \"find\", \"still\", \"never\", \"felicity\", \"yes\", \"please\", \"thank\", \"father\", \"say\", \"checkpoint\", \"relay\", \"gotham\", \"ruelle\", \"zetas\", \"bingsley\", \"cygnus\", \"savage\", \"backdoor\", \"bruce\", \"inputs\", \"tent\", \"markovians\", \"tarkov\", \"kendra\", \"thesepeople\", \"evilplans\", \"justrelieved\", \"languages\", \"gauntlets\", \"chay\", \"burnwith\", \"convention\", \"wolfman\", \"jay\", \"arkham\", \"uranium\", \"kate\", \"ondeploying\", \"methe\", \"proud\", \"targets\", \"markovian\", \"horus\", \"wayne\", \"ins\", \"john\", \"face\", \"da\", \"live\", \"days\", \"yep\", \"hard\", \"upwith\", \"trust\", \"city\", \"long\", \"talk\", \"pub\", \"wrong\", \"fine\", \"display\", \"oliver\", \"say\", \"never\", \"sorry\", \"client\", \"left\", \"name\", \"work\", \"felicity\", \"found\", \"us\", \"ha\", \"looks\", \"sara\", \"put\", \"good\", \"yes\", \"wanted\", \"laurel\", \"father\", \"find\", \"still\", \"heh\", \"thank\", \"help\", \"even\", \"uh\", \"two\", \"sure\", \"said\", \"last\", \"life\", \"queen\", \"something\", \"maybe\", \"mr\", \"told\", \"people\", \"thought\", \"thing\", \"thea\"], \"Freq\": [2514.0, 1006.0, 1318.0, 895.0, 1411.0, 763.0, 697.0, 1012.0, 477.0, 517.0, 803.0, 657.0, 772.0, 490.0, 872.0, 1620.0, 509.0, 911.0, 785.0, 404.0, 747.0, 405.0, 1067.0, 452.0, 502.0, 680.0, 759.0, 393.0, 834.0, 677.0, 3.4465553238176354, 5.686676517227387, 1.3627976812500977, 0.5285656725862072, 0.526658031306779, 2.875602918505793, 2.4092234432772752, 11.69618719238146, 1.0273031717308607, 0.78449747382786, 4.928927687900762, 2.6622357936287218, 0.5104226032617137, 1.3202925370635894, 2.0404850496646945, 0.512116985203339, 0.5107646016765259, 0.7820740452827742, 1.268249780021097, 18.652155273069166, 14.763952621796577, 5.345292536221139, 0.5034508094744418, 2.8681029324426768, 1.277088557518525, 0.7783758683942449, 0.5046712488019963, 0.5117007941438695, 1.282990255953376, 2.0004295685424225, 15.130800942947985, 9.757208839181695, 5.320565136776832, 17.64675163329297, 9.824818400155602, 2.508696667737437, 60.58058638120982, 26.10891444595152, 15.327820519855385, 3.6993207610476624, 39.96136923637698, 13.31445009216949, 12.46974320980819, 134.77349314627446, 26.202481223647574, 15.762307841622098, 20.322942291778222, 40.86577021483899, 114.74009447599462, 71.37261570958728, 238.13273887524753, 166.9418816123322, 20.19005934782538, 28.187535464635914, 121.57729354661616, 88.64295778593481, 50.286615006706064, 178.2419327886985, 277.19181159268965, 95.29542785510053, 84.30989081413493, 118.90541247176553, 491.3313718814828, 92.58457249369968, 192.3870764939229, 114.55641390563898, 212.60211965097253, 110.57127411256296, 61.29117195534778, 106.84024210939823, 157.4338271059798, 175.92175476399774, 109.500787972644, 263.8072666640126, 141.39067363239423, 119.52276365125549, 148.1719715723264, 105.10227762767775, 155.19954445822574, 196.89288388546782, 170.709335200238, 136.050360669066, 118.85187410971497, 245.77115203155816, 143.8607924990745, 138.80936029048024, 138.9995213806073, 136.03483173306043, 133.2687665977102, 136.40732866669725, 141.45102679659595, 129.36334555488202, 133.20821590301134, 125.42277927821732, 125.5109386585543, 123.20205785882433, 3.49492629463377, 2.087030692814909, 1.0210944038624452, 0.9857443663473467, 0.9931597844595418, 1.3802194021507541, 1.0057538730446336, 2.2805155451362884, 0.9970563109173919, 1.02114008290224, 0.9930948383379355, 0.6573769360653537, 1.6469365057294045, 1.2767298847782051, 0.6632781221061812, 0.9662514582811302, 2.5692011359554083, 4.555994353969024, 1.6510020205506428, 0.9678002908202509, 0.6614133897048597, 1.3116417567411074, 0.6439634746864747, 1.6262219843968324, 3.6827360280075765, 0.645574885101729, 0.6554332086286051, 0.6434148846716464, 0.9475438443577467, 0.6565514218892392, 4.862803364735102, 13.101660588333628, 1.5893887829797875, 1.2777852391844293, 27.06843883944532, 143.8208944775751, 167.21459473355478, 15.867929290473262, 7.9022568086994704, 68.60781252187496, 26.246767161680033, 144.1689761465256, 26.71760069332364, 36.36502160480284, 124.65190523300932, 94.9535431225715, 247.3077202387949, 82.27115863942608, 202.46686015752866, 214.022649557216, 25.512873739703625, 87.03286120353572, 90.59292468500367, 28.095104560852082, 89.6056485856523, 83.68984268314627, 109.92343886769997, 27.848090296251883, 156.2546359854712, 238.13371207897782, 108.2190573969906, 37.460000691480396, 128.27328427563413, 59.287698227265025, 47.063808636571125, 247.25369020350703, 158.2844924158056, 139.0503547452746, 145.0031123417508, 221.7462523498185, 224.7739483782254, 443.1725170049118, 135.5128774215782, 90.10807242463402, 256.40815383553456, 284.66362217171996, 206.18625983663333, 373.3668622999842, 615.2628034964614, 196.3793665734726, 344.37517564728375, 178.39213278311905, 193.04608948964702, 177.33894785030697, 247.37140950443094, 211.91950628555918, 188.4870766261942, 264.4819140040347, 224.95081505136636, 195.0834472371667, 205.6547144457296, 231.36659915793618, 189.29306746830918, 169.3833077380324, 191.55583465935777, 179.49312063037755, 176.12628285898063, 2.7538936523030197, 5.433806391143119, 12.868851833549703, 2.0057895208394694, 4.003689404094784, 3.289204822849966, 13.181072439149188, 26.27408562699977, 1.9548635495429172, 10.929178085784278, 2.5676200608047233, 1.9192926975743925, 4.443873189188097, 6.216265913106255, 10.117781059309035, 2.497493064591648, 1.2449367562186058, 1.238385759396635, 2.458286150933816, 4.305958293735127, 7.414369809590554, 1.2308296072161455, 2.4546465456250655, 3.6709552477511815, 4.2767896836071735, 2.440940441901303, 4.914093308961659, 4.9118195378425575, 1.2215854596175182, 22.31766348416188, 40.166935013998526, 30.09268500849021, 5.435392083808642, 5.5138354926431346, 7.830637861133679, 339.92801688390387, 397.23901480963264, 123.55669919328375, 71.0719260643863, 112.58547590873823, 104.52761808751315, 30.988736330190598, 129.9758591974983, 21.983843439564623, 212.93814577844938, 932.0247559540252, 267.4882413888986, 276.11596744933763, 164.9068900301597, 215.0560642004778, 315.2094039358179, 165.26331775052145, 1407.9349918048997, 427.399227030228, 460.5457132975493, 606.6144019024309, 175.67819154995755, 193.31733569105074, 257.5082652187694, 339.0215208209305, 568.6165465472743, 216.99116883614755, 774.0946276974864, 186.44543054116963, 154.2378123789261, 287.06605966893346, 260.85906246150967, 696.8631194566036, 406.10838243687346, 242.51197341181842, 493.48453730269614, 400.8620803516682, 471.64678958924463, 397.1858864018171, 272.17576830445046, 433.92203081591055, 445.7402025660281, 368.47079053901996, 418.5560489076565, 366.25852679294195, 343.549780839111, 398.14487980020425, 334.00946492282003, 331.7899044020977, 446.8758567948577, 484.07098805509054, 386.8424125283261, 370.87166604914705, 356.44440433837656, 390.4297830376423, 361.74205994026767, 356.18550688559156, 358.90854485677096], \"Total\": [2514.0, 1006.0, 1318.0, 895.0, 1411.0, 763.0, 697.0, 1012.0, 477.0, 517.0, 803.0, 657.0, 772.0, 490.0, 872.0, 1620.0, 509.0, 911.0, 785.0, 404.0, 747.0, 405.0, 1067.0, 452.0, 502.0, 680.0, 759.0, 393.0, 834.0, 677.0, 10.370898115104747, 17.113837623422114, 4.101557395831996, 1.6071557917819126, 1.618758886545507, 8.856357558181063, 7.490947315328997, 36.378376737454836, 3.222389955437051, 2.463428861765567, 15.537710555401812, 8.408946499706904, 1.614560471451972, 4.176427372870226, 6.460647178558959, 1.6225407982327034, 1.6232756031478277, 2.487672177263568, 4.043522821460321, 59.675439466332705, 47.269649263052784, 17.114989948954186, 1.6121376101470726, 9.188446232052408, 4.093871760494378, 2.4953128573121717, 1.619747560296209, 1.6476096813579746, 4.135614390085559, 6.475147289735485, 49.152324365657364, 31.79008340530129, 17.4062235256248, 59.02493800050188, 32.59663822485851, 8.206234718473729, 213.14430755315516, 90.07168496550761, 52.700268365716646, 12.252843334162046, 144.39305323887876, 46.081806165770814, 43.34380426799612, 517.3225133068237, 93.96638192708669, 55.532048815017774, 72.60429347255825, 152.0154500302637, 452.0101668387571, 279.40972185344606, 1006.867349102058, 697.8264056301002, 72.93452526822927, 104.5413112435167, 509.5078025242095, 368.39291601766087, 199.79048405766375, 803.7197982639668, 1318.430106696577, 405.11733637114867, 353.5720292803892, 518.1562251989444, 2514.529167182844, 393.926247904838, 895.6710871243151, 502.47407761787633, 1012.5852653561831, 490.7269273122132, 251.93090470804276, 477.1148654811052, 763.6500922015457, 872.5193594046087, 500.4788620747388, 1411.2687566614832, 677.0698503368635, 558.4623152348274, 728.5271725543721, 483.35993918370343, 785.6750996514413, 1067.9891997919335, 911.5652820073651, 680.7229441808518, 569.1216907028064, 1620.9684249904951, 772.4242876156947, 734.2108101956628, 747.5881862587519, 739.5603416222691, 725.5381002366939, 759.3261568451269, 834.444919566131, 706.4212714406624, 799.4086436462903, 657.7614247155577, 675.0014324865779, 631.6093346078925, 8.373925581134042, 5.115683393235962, 2.5076822558769525, 2.4725789431361216, 2.494554814846639, 3.4708543052073555, 2.5401057589532297, 5.761157042651821, 2.5359149173487614, 2.599301570283788, 2.5296796082696527, 1.676023975485677, 4.205965869739471, 3.2669435660836985, 1.6996895126429816, 2.4829299110744114, 6.60247626363807, 11.719557485897136, 4.260132148145685, 2.5053796863227005, 1.7135840566961549, 3.398603076154237, 1.6697049268940436, 4.216991968096618, 9.561542160487939, 1.6779762852942555, 1.7037382045485083, 1.6749173413533178, 2.466664296896351, 1.71109085812907, 12.686808746326667, 34.64616308338571, 4.158085940679658, 3.3438953469435946, 73.27127755841357, 404.87379733389287, 477.1148654811052, 43.21475108809411, 21.248011517560613, 196.78970479859055, 73.19096303400471, 424.2101780453894, 74.64716094707599, 103.97660735289281, 371.5441462475428, 280.24091104561194, 763.6500922015457, 242.7484277024239, 620.6515345250243, 657.7614247155577, 72.15384361610639, 259.59848330642114, 271.26278163816824, 80.12620894712987, 268.36363563589623, 250.76140802010138, 336.1114856441825, 79.8115941931929, 490.7269273122132, 772.4242876156947, 337.59011029564135, 109.35659229046746, 405.11733637114867, 178.79535717713514, 139.7464472410935, 834.444919566131, 515.9173213421243, 448.5433554536643, 470.25477548404626, 747.5881862587519, 759.3261568451269, 1620.9684249904951, 441.98924885814165, 282.8191254665956, 895.6710871243151, 1006.867349102058, 706.4212714406624, 1411.2687566614832, 2514.529167182844, 675.2249263670396, 1318.430106696577, 613.2993323395109, 675.0014324865779, 610.0526001329838, 911.5652820073651, 785.6750996514413, 680.7229441808518, 1067.9891997919335, 872.5193594046087, 725.5381002366939, 799.4086436462903, 1012.5852653561831, 734.2108101956628, 594.5286615927962, 803.7197982639668, 728.5271725543721, 739.5603416222691, 3.8857497386390762, 7.7313310136874165, 18.342028768439473, 2.893906040970851, 5.789630101451342, 4.791934600741385, 19.241034627720232, 38.42562671517465, 2.879504094633927, 16.155222657085506, 3.807051828969417, 2.8647933010596844, 6.66338780494544, 9.351146395480377, 15.2375505159038, 3.7724811823554703, 1.892033353256294, 1.8880771176076148, 3.7541144328223375, 6.582872801552931, 11.343703083957454, 1.885959191513361, 3.7612941898123937, 5.625076372652808, 6.555450485138527, 3.7470224215680674, 7.569263603962473, 7.568408694629964, 1.883690276000846, 34.41493250825113, 62.22123924919162, 46.81540986266545, 8.382318806321134, 8.505626596034745, 12.13428225678516, 554.6614113758504, 650.9194790639101, 197.81924208178066, 112.91742981468147, 180.87955516608133, 168.55148137110848, 49.06730473674352, 212.2191559602645, 34.619515176491056, 351.3153348916929, 1620.9684249904951, 448.33269456785536, 463.75515412870595, 273.7616358981294, 360.3252253081683, 535.1124738878947, 275.56983705847085, 2514.529167182844, 739.5603416222691, 799.4086436462903, 1067.9891997919335, 294.3228399269044, 325.23370149530996, 438.9641740405089, 585.6642091576695, 1012.5852653561831, 369.1941456096392, 1411.2687566614832, 316.43238553744686, 258.80394460348805, 501.45518880617806, 452.8251154334114, 1318.430106696577, 734.2108101956628, 421.07434112206334, 911.5652820073651, 728.5271725543721, 872.5193594046087, 725.5381002366939, 478.1778779486071, 803.7197982639668, 834.444919566131, 675.2249263670396, 785.6750996514413, 677.0698503368635, 631.6093346078925, 759.3261568451269, 613.2993323395109, 610.0526001329838, 895.6710871243151, 1006.867349102058, 747.5881862587519, 706.4212714406624, 675.0014324865779, 772.4242876156947, 697.8264056301002, 680.7229441808518, 763.6500922015457], \"Category\": [\"Default\", \"Default\", \"Default\", \"Default\", \"Default\", \"Default\", \"Default\", \"Default\", \"Default\", \"Default\", \"Default\", \"Default\", \"Default\", \"Default\", \"Default\", \"Default\", \"Default\", \"Default\", \"Default\", \"Default\", \"Default\", \"Default\", \"Default\", \"Default\", \"Default\", \"Default\", \"Default\", \"Default\", \"Default\", \"Default\", \"Topic1\", \"Topic1\", \"Topic1\", \"Topic1\", \"Topic1\", \"Topic1\", \"Topic1\", \"Topic1\", \"Topic1\", \"Topic1\", \"Topic1\", \"Topic1\", \"Topic1\", \"Topic1\", \"Topic1\", \"Topic1\", \"Topic1\", \"Topic1\", \"Topic1\", \"Topic1\", \"Topic1\", \"Topic1\", \"Topic1\", \"Topic1\", \"Topic1\", \"Topic1\", \"Topic1\", \"Topic1\", \"Topic1\", \"Topic1\", \"Topic1\", \"Topic1\", \"Topic1\", \"Topic1\", \"Topic1\", \"Topic1\", \"Topic1\", \"Topic1\", \"Topic1\", \"Topic1\", \"Topic1\", \"Topic1\", \"Topic1\", \"Topic1\", \"Topic1\", \"Topic1\", \"Topic1\", \"Topic1\", \"Topic1\", \"Topic1\", \"Topic1\", \"Topic1\", \"Topic1\", \"Topic1\", \"Topic1\", \"Topic1\", \"Topic1\", \"Topic1\", \"Topic1\", \"Topic1\", \"Topic1\", \"Topic1\", \"Topic1\", \"Topic1\", \"Topic1\", \"Topic1\", \"Topic1\", \"Topic1\", \"Topic1\", \"Topic1\", \"Topic1\", \"Topic1\", \"Topic1\", \"Topic1\", \"Topic1\", \"Topic1\", \"Topic1\", \"Topic1\", \"Topic1\", \"Topic1\", \"Topic1\", \"Topic1\", \"Topic1\", \"Topic1\", \"Topic1\", \"Topic1\", \"Topic1\", \"Topic1\", \"Topic1\", \"Topic1\", \"Topic1\", \"Topic1\", \"Topic1\", \"Topic1\", \"Topic1\", \"Topic1\", \"Topic2\", \"Topic2\", \"Topic2\", \"Topic2\", \"Topic2\", \"Topic2\", \"Topic2\", \"Topic2\", \"Topic2\", \"Topic2\", \"Topic2\", \"Topic2\", \"Topic2\", \"Topic2\", \"Topic2\", \"Topic2\", \"Topic2\", \"Topic2\", \"Topic2\", \"Topic2\", \"Topic2\", \"Topic2\", \"Topic2\", \"Topic2\", \"Topic2\", \"Topic2\", \"Topic2\", \"Topic2\", \"Topic2\", \"Topic2\", \"Topic2\", \"Topic2\", \"Topic2\", \"Topic2\", \"Topic2\", \"Topic2\", \"Topic2\", \"Topic2\", \"Topic2\", \"Topic2\", \"Topic2\", \"Topic2\", \"Topic2\", \"Topic2\", \"Topic2\", \"Topic2\", \"Topic2\", \"Topic2\", \"Topic2\", \"Topic2\", \"Topic2\", \"Topic2\", \"Topic2\", \"Topic2\", \"Topic2\", \"Topic2\", \"Topic2\", \"Topic2\", \"Topic2\", \"Topic2\", \"Topic2\", \"Topic2\", \"Topic2\", \"Topic2\", \"Topic2\", \"Topic2\", \"Topic2\", \"Topic2\", \"Topic2\", \"Topic2\", \"Topic2\", \"Topic2\", \"Topic2\", \"Topic2\", \"Topic2\", \"Topic2\", \"Topic2\", \"Topic2\", \"Topic2\", \"Topic2\", \"Topic2\", \"Topic2\", \"Topic2\", \"Topic2\", \"Topic2\", \"Topic2\", \"Topic2\", \"Topic2\", \"Topic2\", \"Topic2\", \"Topic2\", \"Topic2\", \"Topic2\", \"Topic2\", \"Topic2\", \"Topic2\", \"Topic2\", \"Topic3\", \"Topic3\", \"Topic3\", \"Topic3\", \"Topic3\", \"Topic3\", \"Topic3\", \"Topic3\", \"Topic3\", \"Topic3\", \"Topic3\", \"Topic3\", \"Topic3\", \"Topic3\", \"Topic3\", \"Topic3\", \"Topic3\", \"Topic3\", \"Topic3\", \"Topic3\", \"Topic3\", \"Topic3\", \"Topic3\", \"Topic3\", \"Topic3\", \"Topic3\", \"Topic3\", \"Topic3\", \"Topic3\", \"Topic3\", \"Topic3\", \"Topic3\", \"Topic3\", \"Topic3\", \"Topic3\", \"Topic3\", \"Topic3\", \"Topic3\", \"Topic3\", \"Topic3\", \"Topic3\", \"Topic3\", \"Topic3\", \"Topic3\", \"Topic3\", \"Topic3\", \"Topic3\", \"Topic3\", \"Topic3\", \"Topic3\", \"Topic3\", \"Topic3\", \"Topic3\", \"Topic3\", \"Topic3\", \"Topic3\", \"Topic3\", \"Topic3\", \"Topic3\", \"Topic3\", \"Topic3\", \"Topic3\", \"Topic3\", \"Topic3\", \"Topic3\", \"Topic3\", \"Topic3\", \"Topic3\", \"Topic3\", \"Topic3\", \"Topic3\", \"Topic3\", \"Topic3\", \"Topic3\", \"Topic3\", \"Topic3\", \"Topic3\", \"Topic3\", \"Topic3\", \"Topic3\", \"Topic3\", \"Topic3\", \"Topic3\", \"Topic3\", \"Topic3\", \"Topic3\", \"Topic3\", \"Topic3\", \"Topic3\", \"Topic3\", \"Topic3\", \"Topic3\", \"Topic3\"], \"logprob\": [30.0, 29.0, 28.0, 27.0, 26.0, 25.0, 24.0, 23.0, 22.0, 21.0, 20.0, 19.0, 18.0, 17.0, 16.0, 15.0, 14.0, 13.0, 12.0, 11.0, 10.0, 9.0, 8.0, 7.0, 6.0, 5.0, 4.0, 3.0, 2.0, 1.0, -9.8488, -9.348, -10.7766, -11.7237, -11.7273, -10.0299, -10.2068, -8.6269, -11.0592, -11.3289, -9.491, -10.107, -11.7587, -10.8083, -10.373, -11.7553, -11.758, -11.3319, -10.8485, -8.1602, -8.394, -9.4099, -11.7724, -10.0325, -10.8416, -11.3367, -11.77, -11.7562, -10.8369, -10.3928, -8.3694, -8.8081, -9.4146, -8.2156, -8.8012, -10.1664, -6.9822, -7.8239, -8.3565, -9.778, -7.3982, -8.4973, -8.5628, -6.1825, -7.8203, -8.3285, -8.0744, -7.3759, -6.3435, -6.8182, -5.6133, -5.9685, -8.081, -7.7473, -6.2856, -6.6015, -7.1684, -5.903, -5.4614, -6.5292, -6.6516, -6.3078, -4.889, -6.558, -5.8266, -6.3451, -5.7267, -6.3805, -6.9705, -6.4148, -6.0271, -5.9161, -6.3902, -5.5109, -6.1346, -6.3026, -6.0878, -6.4312, -6.0414, -5.8035, -5.9462, -6.1731, -6.3083, -5.5817, -6.1173, -6.153, -6.1517, -6.1732, -6.1938, -6.1705, -6.1342, -6.2235, -6.1942, -6.2545, -6.2537, -6.2723, -10.1368, -10.6524, -11.3673, -11.4025, -11.395, -11.0659, -11.3824, -10.5637, -11.3911, -11.3672, -11.3951, -11.8076, -10.8892, -11.1438, -11.7987, -11.4225, -10.4445, -9.8717, -10.8868, -11.4209, -11.8015, -11.1169, -11.8282, -10.9019, -10.0845, -11.8257, -11.8106, -11.8291, -11.442, -11.8089, -9.8065, -8.8154, -10.9248, -11.143, -8.0898, -6.4196, -6.2689, -8.6238, -9.321, -7.1597, -8.1206, -6.4171, -8.1028, -7.7945, -6.5626, -6.8347, -5.8775, -6.9781, -6.0776, -6.0221, -8.149, -6.9219, -6.8818, -8.0525, -6.8927, -6.961, -6.6884, -8.0614, -6.3366, -5.9153, -6.704, -7.7649, -6.534, -7.3057, -7.5366, -5.8777, -6.3237, -6.4533, -6.4114, -5.9866, -5.973, -5.2942, -6.4791, -6.8871, -5.8414, -5.7368, -6.0594, -5.4656, -4.9661, -6.1081, -5.5464, -6.2042, -6.1252, -6.2101, -5.8772, -6.0319, -6.1491, -5.8104, -5.9723, -6.1147, -6.0619, -5.9441, -6.1448, -6.256, -6.133, -6.198, -6.2169, -11.027, -10.3474, -9.4852, -11.344, -10.6528, -10.8494, -9.4612, -8.7714, -11.3697, -9.6486, -11.0971, -11.3881, -10.5485, -10.2129, -9.7257, -11.1247, -11.8209, -11.8262, -11.1406, -10.58, -10.0366, -11.8323, -11.142, -10.7396, -10.5868, -11.1476, -10.4479, -10.4484, -11.8399, -8.9347, -8.347, -8.6357, -10.3471, -10.3328, -9.982, -6.2113, -6.0555, -7.2233, -7.7763, -7.3163, -7.3906, -8.6064, -7.1727, -8.9497, -6.679, -5.2027, -6.451, -6.4192, -6.9347, -6.6691, -6.2868, -6.9325, -4.7902, -5.9823, -5.9076, -5.6321, -6.8714, -6.7757, -6.489, -6.214, -5.6968, -6.6602, -5.3883, -6.8119, -7.0015, -6.3803, -6.4761, -5.4934, -6.0334, -6.549, -5.8385, -6.0464, -5.8838, -6.0556, -6.4336, -5.9672, -5.9403, -6.1307, -6.0032, -6.1367, -6.2007, -6.0532, -6.2289, -6.2355, -5.9378, -5.8578, -6.082, -6.1242, -6.1639, -6.0728, -6.1491, -6.1646, -6.157], \"loglift\": [30.0, 29.0, 28.0, 27.0, 26.0, 25.0, 24.0, 23.0, 22.0, 21.0, 20.0, 19.0, 18.0, 17.0, 16.0, 15.0, 14.0, 13.0, 12.0, 11.0, 10.0, 9.0, 8.0, 7.0, 6.0, 5.0, 4.0, 3.0, 2.0, 1.0, 0.4974, 0.4973, 0.4972, 0.487, 0.4762, 0.4742, 0.4647, 0.4643, 0.4559, 0.4548, 0.4509, 0.4489, 0.4475, 0.4474, 0.4465, 0.4459, 0.4428, 0.4419, 0.4396, 0.4361, 0.4354, 0.4353, 0.4352, 0.4348, 0.4341, 0.4341, 0.4329, 0.4297, 0.4286, 0.4244, 0.4209, 0.4179, 0.4138, 0.3916, 0.3998, 0.4139, 0.3411, 0.3607, 0.3641, 0.4014, 0.3144, 0.3575, 0.3532, 0.254, 0.322, 0.3397, 0.3258, 0.2854, 0.228, 0.2343, 0.1573, 0.1687, 0.3147, 0.2883, 0.1662, 0.1745, 0.2195, 0.0929, 0.0396, 0.1519, 0.1655, 0.1271, -0.0337, 0.151, 0.061, 0.1206, 0.0382, 0.1088, 0.1855, 0.1026, 0.0199, -0.0023, 0.0794, -0.078, 0.0328, 0.0574, 0.0064, 0.0732, -0.0228, -0.0918, -0.0761, -0.0111, 0.0328, -0.2873, -0.0816, -0.0666, -0.0833, -0.0941, -0.0955, -0.1177, -0.1758, -0.0985, -0.1929, -0.0581, -0.0833, -0.0354, 0.4232, 0.4005, 0.3986, 0.3774, 0.3761, 0.3749, 0.3706, 0.3703, 0.3636, 0.3627, 0.362, 0.3611, 0.3595, 0.3575, 0.3561, 0.3533, 0.3532, 0.3522, 0.3491, 0.3459, 0.3451, 0.345, 0.3443, 0.3442, 0.343, 0.3419, 0.3418, 0.3403, 0.3403, 0.3392, 0.3381, 0.3246, 0.3354, 0.3351, 0.3013, 0.2621, 0.2486, 0.2952, 0.3079, 0.2433, 0.2715, 0.2178, 0.2696, 0.2465, 0.2049, 0.2148, 0.1696, 0.2151, 0.1769, 0.1743, 0.2574, 0.2042, 0.2003, 0.2491, 0.2001, 0.1997, 0.1794, 0.2442, 0.1527, 0.1204, 0.1594, 0.2257, 0.147, 0.1932, 0.2087, 0.0807, 0.1155, 0.1259, 0.1205, 0.0817, 0.0797, 0.0002, 0.1148, 0.1533, 0.0463, 0.0338, 0.0656, -0.0326, -0.1107, 0.0621, -0.0454, 0.0622, 0.0453, 0.0616, -0.0072, -0.0133, 0.0129, -0.0987, -0.0584, -0.0164, -0.0606, -0.1792, -0.0584, 0.0415, -0.137, -0.1038, -0.1378, 0.3009, 0.2925, 0.2908, 0.2786, 0.2763, 0.2689, 0.2669, 0.265, 0.2579, 0.2544, 0.2513, 0.2446, 0.2401, 0.2368, 0.2357, 0.2327, 0.2266, 0.2234, 0.2218, 0.2207, 0.2199, 0.2184, 0.2184, 0.2184, 0.2181, 0.2166, 0.2132, 0.2128, 0.2121, 0.2121, 0.2075, 0.2032, 0.212, 0.2117, 0.2072, 0.1555, 0.1513, 0.1745, 0.1822, 0.171, 0.1674, 0.1856, 0.1549, 0.1911, 0.1445, 0.0917, 0.1287, 0.1266, 0.1383, 0.1291, 0.1159, 0.1339, 0.0652, 0.0968, 0.0937, 0.0795, 0.1291, 0.125, 0.1118, 0.0985, 0.0681, 0.1137, 0.0446, 0.1162, 0.1276, 0.0874, 0.0936, 0.0076, 0.053, 0.0934, 0.0315, 0.0478, 0.03, 0.0427, 0.0816, 0.0288, 0.0181, 0.0395, 0.0154, 0.0307, 0.0362, -0.0005, 0.0375, 0.0361, -0.0501, -0.0872, -0.0137, 0.0008, 0.0066, -0.0371, -0.0119, -0.0025, -0.1099]}, \"token.table\": {\"Topic\": [1, 2, 3, 2, 3, 1, 2, 3, 1, 2, 3, 2, 3, 1, 2, 3, 1, 2, 3, 1, 2, 3, 1, 2, 3, 1, 2, 3, 2, 3, 1, 2, 3, 1, 2, 3, 1, 2, 3, 1, 2, 3, 1, 2, 3, 1, 2, 3, 1, 2, 3, 1, 2, 3, 1, 2, 3, 3, 1, 3, 1, 2, 3, 2, 3, 1, 2, 3, 1, 2, 3, 1, 2, 3, 1, 2, 3, 1, 2, 3, 1, 2, 3, 1, 2, 3, 1, 2, 3, 1, 3, 1, 2, 3, 1, 2, 3, 1, 2, 3, 1, 2, 3, 1, 2, 3, 2, 3, 1, 2, 3, 1, 2, 3, 1, 2, 3, 1, 2, 3, 1, 2, 3, 1, 2, 3, 1, 2, 3, 1, 2, 3, 1, 2, 3, 1, 2, 3, 1, 2, 3, 1, 2, 3, 1, 2, 3, 1, 2, 3, 1, 2, 3, 1, 2, 3, 3, 1, 2, 3, 1, 2, 3, 1, 2, 3, 1, 2, 3, 1, 2, 3, 1, 2, 3, 1, 2, 3, 1, 2, 3, 1, 2, 3, 1, 2, 3, 1, 2, 3, 1, 2, 3, 1, 2, 3, 1, 2, 3, 1, 2, 3, 1, 2, 3, 1, 2, 3, 1, 2, 3, 1, 2, 3, 1, 2, 3, 1, 2, 3, 1, 2, 3, 1, 2, 3, 1, 2, 3, 1, 2, 3, 1, 2, 3, 1, 2, 3, 1, 2, 3, 1, 2, 3, 1, 2, 3, 1, 2, 3, 1, 2, 3, 1, 3, 1, 2, 3, 1, 2, 3, 1, 2, 3, 1, 2, 3, 1, 2, 3, 1, 2, 3, 1, 2, 3, 1, 2, 3, 1, 2, 3, 1, 2, 3, 1, 2, 3, 2, 3, 1, 2, 3, 1, 2, 3, 1, 2, 3, 1, 2, 3, 3, 1, 2, 3, 1, 2, 3, 1, 2, 3, 1, 2, 3, 1, 2, 3, 1, 2, 3, 1, 2, 3, 1, 2, 3, 1, 2, 3, 1, 2, 3, 1, 2, 3, 1, 2, 3, 1, 2, 3, 1, 2, 3, 1, 2, 3, 1, 2, 3, 1, 2, 3, 1, 2, 3, 1, 2, 3, 1, 2, 3, 1, 2, 3, 1, 2, 3, 1, 2, 3, 1, 2, 3, 1, 2, 3, 1, 2, 3, 1, 2, 3, 1, 2, 3, 1, 2, 3, 1, 2, 3, 1, 2, 3, 1, 2, 3, 1, 2, 3, 1, 2, 3, 1, 2, 3, 1, 2, 3, 1, 3, 2, 3, 1, 2, 3, 1, 2, 3, 1, 2, 3, 3, 1, 2, 3, 1, 2, 3, 1, 2, 3, 1, 2, 3, 1, 2, 3, 1, 2, 3, 1, 2, 3, 1, 2, 3, 1, 2, 3, 1, 2, 3, 1, 2, 3, 1, 2, 3, 2, 3, 1, 2, 3, 1, 3, 1, 2, 3, 1, 3, 1, 3, 1, 2, 3, 3, 1, 2, 3, 1, 2, 3, 1, 2, 3, 1, 2, 3, 1, 2, 3, 2, 3, 1, 2, 3, 1, 2, 3, 1, 2, 3, 2, 3, 1, 2, 3, 2, 3, 1, 2, 3, 1, 2, 3, 1, 2, 3, 1, 2, 3, 1, 2, 3, 1, 2, 3, 1, 2, 3, 1, 2, 3, 1, 2, 3, 1, 2, 3, 1, 2, 3, 1, 2, 3, 1, 2, 3, 2, 3, 1, 2, 3, 1, 2, 3, 1, 2, 3, 1, 2, 3, 2, 3, 1, 2, 3, 1, 3, 1, 2, 3, 1, 2, 3, 2, 3, 1, 2, 3, 1, 2, 3, 1, 2, 3, 1, 2, 3, 1, 2, 3, 1, 2, 3, 1, 2, 3, 1, 2, 3, 1, 2, 3, 1, 2, 3, 1, 2, 3, 1, 2, 3, 2, 3, 1, 2, 3, 1, 2, 3, 1, 2, 3, 1, 2, 3, 2, 3, 1, 2, 3, 1, 2, 3, 1, 2, 3, 1, 2, 3], \"Freq\": [0.2296604657298295, 0.24316990489040774, 0.5268681272625501, 0.39433499647751435, 0.39433499647751435, 0.28462853160265916, 0.2656532961624819, 0.4554056505642547, 0.16477964606648032, 0.3377982744362847, 0.494338938199441, 0.5970443885857729, 0.5970443885857729, 0.19547730442470618, 0.39095460884941236, 0.39095460884941236, 0.21978950228585917, 0.243766538898862, 0.5374852374081465, 0.20047212640898024, 0.3508262212157154, 0.4510622844202055, 0.26687857383610647, 0.26687857383610647, 0.5337571476722129, 0.24212988109057748, 0.30167001578498176, 0.45647436599043295, 0.3472820204921884, 0.6945640409843769, 0.2990524212768876, 0.2990524212768876, 0.2990524212768876, 0.24426754390548852, 0.24426754390548852, 0.48853508781097704, 0.2377575165777422, 0.4755150331554844, 0.4755150331554844, 0.32179773089296665, 0.25743818471437335, 0.45051682325015335, 0.22619504621024988, 0.31789574061981063, 0.4564656788387025, 0.20868398325913814, 0.20868398325913814, 0.6260519497774144, 0.3505934865122455, 0.23372899100816363, 0.46745798201632727, 0.20507806855109773, 0.3182245891310137, 0.4738010549283982, 0.18569846195739262, 0.18569846195739262, 0.6808943605104396, 0.5302341665185047, 0.6177572264230394, 0.6177572264230394, 0.1194183051080536, 0.35825491532416076, 0.35825491532416076, 0.5869446358192106, 0.5869446358192106, 0.17630926913350276, 0.17630926913350276, 0.6170824419672597, 0.2573505931316705, 0.2573505931316705, 0.7720517793950116, 0.2678367017491993, 0.23913991227607082, 0.48784542104318446, 0.274218553235886, 0.3016404085594746, 0.4250387575156233, 0.15176113007965747, 0.2732934171759685, 0.5749649318465071, 0.13590518496605317, 0.268412740307955, 0.5979828138506339, 0.2347345024109808, 0.4694690048219616, 0.4694690048219616, 0.3655756998086411, 0.24371713320576072, 0.48743426641152143, 0.6173801551009136, 0.6173801551009136, 0.40274999126627814, 0.40274999126627814, 0.40274999126627814, 0.17065490761120655, 0.4266372690280164, 0.4266372690280164, 0.2658659359080546, 0.2658659359080546, 0.5317318718161091, 0.28865897212821695, 0.2331476313343291, 0.47739753082743575, 0.20788913311129079, 0.36034116405957073, 0.443496817304087, 0.3847187303821855, 0.3847187303821855, 0.15591677152734557, 0.15591677152734557, 0.6756393432851642, 0.19483263156189526, 0.1771205741471775, 0.6287780382224801, 0.19982806861088692, 0.33899404496489743, 0.4603182294786502, 0.17205425763152568, 0.2076516902449448, 0.6229550707348344, 0.22426465352762612, 0.3500205340104071, 0.42547406230007573, 0.292141568000484, 0.23371325440038723, 0.40899819520067765, 0.18512197336719224, 0.3702439467343845, 0.4396646867470816, 0.23449996203807397, 0.3159578435881418, 0.44925255885188903, 0.32986628531022144, 0.24739971398266608, 0.4123328566377768, 0.4054057948859265, 0.4054057948859265, 0.4054057948859265, 0.1814422091101027, 0.21773065093212327, 0.598759290063339, 0.15764405690903782, 0.39411014227259455, 0.39411014227259455, 0.16972718648984464, 0.3394543729796893, 0.4903229831928845, 0.16290867784138358, 0.29027364415373796, 0.5450035767784468, 0.22342195247550345, 0.3351329287132552, 0.4429918023221189, 0.20839767102657467, 0.3083434928454421, 0.4827170543166576, 0.5285319089533727, 0.1717396075092678, 0.3363233980389828, 0.48659555460959214, 0.1567087188979536, 0.22242527843580512, 0.6268348755918144, 0.2031495949301113, 0.24570119927358058, 0.5504255916687475, 0.30678010201597733, 0.2761020918143796, 0.4294921428223683, 0.21035265600578926, 0.22812893679501087, 0.5619279871703947, 0.20094535156715249, 0.3617016328208745, 0.44207977344773547, 0.2017147219748788, 0.2578739343428848, 0.5409622089326295, 0.15884511041655774, 0.2522834106615917, 0.5886612915437139, 0.18607632662974455, 0.30625062091145455, 0.5078333080936779, 0.19968497461994453, 0.34944870558490293, 0.4492911928948752, 0.40075135150674085, 0.40075135150674085, 0.40075135150674085, 0.17064192579752313, 0.24106557771396125, 0.5877666333025797, 0.15190936087419088, 0.15190936087419088, 0.6076374434967635, 0.18825291000497452, 0.37650582000994903, 0.4235690475111927, 0.18800957393420759, 0.3354680632943704, 0.4792400904205292, 0.2100983575792605, 0.26091637186738487, 0.5286590441615328, 0.1635587882820248, 0.1635587882820248, 0.7087547492221075, 0.22886752794331353, 0.2746410335319762, 0.49554795180769623, 0.2371358559763537, 0.4742717119527074, 0.4742717119527074, 0.2609590662062132, 0.24936088548593704, 0.48905662037164394, 0.209094121598225, 0.2723494861153351, 0.5183425703485409, 0.15485140661811717, 0.25597885583811203, 0.5878032985912203, 0.2049433342341863, 0.35523511267258956, 0.43721244636626405, 0.15078751894570544, 0.23560549835266476, 0.6125742957169283, 0.19867083857486664, 0.23213119033484417, 0.5688259799196181, 0.3991410984367648, 0.3991410984367648, 0.3991410984367648, 0.18950230555534497, 0.3098920055552112, 0.49939431111055615, 0.16897460418755123, 0.29600515769024927, 0.5344870458698429, 0.40443602529901007, 0.40443602529901007, 0.40443602529901007, 0.25410712100146754, 0.2040014915082204, 0.5404250038200225, 0.21722942157209724, 0.24205564118033693, 0.5399702764792131, 0.11756923357841643, 0.23513846715683287, 0.7054154014704986, 0.6069398664711603, 0.6069398664711603, 0.24380982721738828, 0.24380982721738828, 0.48761965443477656, 0.28725357873516816, 0.22980286298813454, 0.4596057259762691, 0.25026216957144437, 0.26527789974573107, 0.4855086089686021, 0.30887328280090776, 0.30887328280090776, 0.46330992420136163, 0.2881219105258917, 0.2521066717101552, 0.45019048519670574, 0.3264548391676269, 0.24484112937572017, 0.4080685489595336, 0.2821069980033962, 0.21700538307953557, 0.4774118427749783, 0.2394390972762818, 0.2394390972762818, 0.4788781945525636, 0.2942385378911537, 0.2942385378911537, 0.2942385378911537, 0.26267044551129837, 0.26267044551129837, 0.7880113365338951, 0.1604582510602882, 0.22716561386063272, 0.6129865770842471, 0.3987746045801539, 0.3987746045801539, 0.26970942750778026, 0.23681803390927045, 0.49337090397764677, 0.15254481782251894, 0.15254481782251894, 0.6101792712900758, 0.1520925447528046, 0.23658840294880715, 0.6099064673420548, 0.35676288344854684, 0.11892096114951561, 0.47568384459806246, 0.529639383198024, 0.10458563934721683, 0.41834255738886733, 0.41834255738886733, 0.13212817123757245, 0.2642563424751449, 0.6606408561878622, 0.2418020409246404, 0.2418020409246404, 0.4836040818492808, 0.13125469201316523, 0.19688203801974782, 0.6562734600658261, 0.15306495628453112, 0.3254644333628977, 0.5204208513674058, 0.2081498593861223, 0.3076997921360069, 0.4841746729198932, 0.2669889288778373, 0.13349446443891866, 0.5339778577556746, 0.24158987898598278, 0.2687348092091269, 0.4913232370389088, 0.2663744054408596, 0.2663744054408596, 0.5327488108817192, 0.1646830424789837, 0.2902334808045455, 0.5445954078017876, 0.18758941720930788, 0.2709624915245558, 0.5408279689133847, 0.1875574386035134, 0.21830455968605658, 0.5934194368930834, 0.16555949434193587, 0.29013891582695694, 0.5442153675398288, 0.15012703976985448, 0.368493643071461, 0.47767694472226424, 0.15479914230378747, 0.22667017265911737, 0.6247251100117137, 0.149442592101343, 0.2520449687679367, 0.5955398819560982, 0.19319643708137715, 0.20865215204788734, 0.5950450262106417, 0.3145635031058902, 0.25165080248471217, 0.44038890434824624, 0.4059382495353606, 0.4059382495353606, 0.4059382495353606, 0.23859746285142405, 0.11929873142571203, 0.5964936571285602, 0.150073810690985, 0.150073810690985, 0.60029524276394, 0.1829363992229427, 0.35062809851064014, 0.4725856979926019, 0.18593124203261546, 0.29695493331827794, 0.5176646810548359, 0.17553699447944227, 0.32727236258879067, 0.49685895047570944, 0.30495584764268535, 0.2541298730355711, 0.4404917799283233, 0.16768292728398562, 0.33536585456797124, 0.49559620730600196, 0.17434292508234542, 0.17434292508234542, 0.6392573919685999, 0.2293124421535214, 0.3299861972453113, 0.4418459251250778, 0.20735204576549401, 0.31991458489533364, 0.47098536109590783, 0.31032867338502196, 0.31032867338502196, 0.31032867338502196, 0.21241186899797615, 0.35566638529893685, 0.43223345435634686, 0.18261058268661673, 0.291610697933667, 0.5251823734630605, 0.15946631670570044, 0.2551461067291207, 0.5877472815724387, 0.1663729821501001, 0.2576904836309821, 0.5766762764751591, 0.2544190561116809, 0.22344630145460673, 0.5221121499335365, 0.2473091025213626, 0.2473091025213626, 0.4946182050427252, 0.6222172144812814, 0.6222172144812814, 0.5835721895825946, 0.5835721895825946, 0.28619108199634874, 0.28619108199634874, 0.43163245153547675, 0.19003850834526362, 0.3253459262870913, 0.4834579652303506, 0.19526518379983338, 0.24457859070651228, 0.5599457816500314, 0.5308728365488207, 0.2394467747021462, 0.2669242734384581, 0.4945949772536135, 0.18642603852410777, 0.30812081367178923, 0.5049038543361253, 0.31838894141230906, 0.28487431600048707, 0.4021755049418641, 0.18288792272236326, 0.33834265703637206, 0.4755085990781445, 0.19174853520868726, 0.2842587934234048, 0.5231034600868574, 0.19235095767378455, 0.3462317238128122, 0.4616422984170829, 0.40198222625136926, 0.40198222625136926, 0.40198222625136926, 0.14464514221511474, 0.22500355455684512, 0.6428672987338432, 0.16437657472482792, 0.23378001738642193, 0.602714107324369, 0.17357624390320506, 0.3471524878064101, 0.3471524878064101, 0.15458506521441742, 0.26941968508798464, 0.5763814574423278, 0.21436440537166884, 0.2858192071622251, 0.4990671312559165, 0.28811350522541107, 0.5762270104508221, 0.2892709933800849, 0.2892709933800849, 0.38569465784011314, 0.6193636086610627, 0.6193636086610627, 0.12934383461652554, 0.12934383461652554, 0.6467191730826277, 0.6202944424258992, 0.6202944424258992, 0.6163173222449725, 0.6163173222449725, 0.2360848013927376, 0.30716409643571235, 0.45947687152780115, 0.6911074415287642, 0.17910617035116666, 0.29631535536038606, 0.5241489397041496, 0.27546580296328155, 0.16527948177796892, 0.5509316059265631, 0.193437025212421, 0.23531514407284204, 0.572334291092421, 0.13012149514338178, 0.18217009320073452, 0.6766317747455853, 0.1838930406972283, 0.23797922913758957, 0.5773700616008565, 0.5844225017328498, 0.5844225017328498, 0.31732835410996796, 0.16924178885864957, 0.5288805901832799, 0.24049526976264116, 0.4809905395252823, 0.4809905395252823, 0.1514583256447762, 0.4543749769343286, 0.4543749769343286, 0.3953069775045617, 0.3953069775045617, 0.2768561782395384, 0.23071348186628202, 0.48449831191919224, 0.588342748814765, 0.588342748814765, 0.12362348833802607, 0.3349797748514255, 0.5463360613648249, 0.23637671855409015, 0.28305615457107436, 0.4806988730259648, 0.18445879418853645, 0.24719351099377473, 0.568357807474323, 0.23757535394120907, 0.27717124626474393, 0.48363554195174707, 0.1833122202081615, 0.26876603714730446, 0.5471800858845122, 0.2148757341836777, 0.27396656108418904, 0.5121204998044319, 0.19474063041889536, 0.2612374310497377, 0.544640462309756, 0.3051737673362294, 0.2441390138689835, 0.44758819209313644, 0.17250482132172185, 0.2328815087843245, 0.5951416335599404, 0.1495234159122975, 0.19224439188723963, 0.6408146396241321, 0.21387751997622942, 0.10693875998811471, 0.6416325599286882, 0.33873971102586625, 0.22582647401724418, 0.45165294803448836, 0.3264969859142218, 0.2176646572761479, 0.5441616431903697, 0.34906532336210816, 0.6981306467242163, 0.2214702193282779, 0.23888922534286156, 0.5399891864520933, 0.20559154199455515, 0.32344656606786704, 0.47011059602576627, 0.2650775316460605, 0.2650775316460605, 0.530155063292121, 0.19978759517744132, 0.27617696980411005, 0.5229734109056552, 0.5959559790945655, 0.5959559790945655, 0.40087313136932545, 0.40087313136932545, 0.40087313136932545, 0.6160383351174733, 0.6160383351174733, 0.23931453245769319, 0.24218057476257576, 0.5187536571837421, 0.17317934991991227, 0.3752219248264766, 0.43294837479978066, 0.3936843954135584, 0.3936843954135584, 0.18666627052307103, 0.2859253191345453, 0.5274062881445498, 0.13662939027354992, 0.25902655239360506, 0.6062929193388779, 0.2082503008069966, 0.24960497047079735, 0.5405646106053954, 0.1972825663798745, 0.2698316391776348, 0.5332993246010802, 0.14803086135383767, 0.33643377580417655, 0.5167622796352151, 0.14442721033237724, 0.2310835365318036, 0.6354797254624599, 0.1321132480412632, 0.2642264960825264, 0.6605662402063159, 0.18706571569296415, 0.2643011816419531, 0.5484426664634631, 0.30956651009165587, 0.30956651009165587, 0.46434976513748377, 0.1781158163191392, 0.24698726529587303, 0.577095244874011, 0.16482227441855118, 0.16482227441855118, 0.6592890976742047, 0.30609650267046584, 0.30609650267046584, 0.30609650267046584, 0.5989082165914087, 0.5989082165914087, 0.27702163714084926, 0.2423939324982431, 0.4847878649964862, 0.17777536405757208, 0.17777536405757208, 0.7111014562302883, 0.17416123164961936, 0.24758214303132164, 0.5788299757766762, 0.2766947015175569, 0.23412628589947118, 0.4788946757034638, 0.5966501760275957, 0.5966501760275957, 0.18316785882407616, 0.21924637647124268, 0.5966831764723692, 0.1834215278032267, 0.2038016975591408, 0.6317852624333364, 0.18931892321628624, 0.25741925530847554, 0.5529746965885771, 0.17272260619021593, 0.17272260619021593, 0.6908904247608637], \"Term\": [\"adsbygoogle\", \"adsbygoogle\", \"adsbygoogle\", \"agoi\", \"agoi\", \"aiways\", \"aiways\", \"aiways\", \"alive\", \"alive\", \"alive\", \"allay\", \"allay\", \"announcements\", \"announcements\", \"announcements\", \"anything\", \"anything\", \"anything\", \"argus\", \"argus\", \"argus\", \"arkham\", \"arkham\", \"arkham\", \"article\", \"article\", \"article\", \"backdoor\", \"backdoor\", \"bandages\", \"bandages\", \"bandages\", \"bareiy\", \"bareiy\", \"bareiy\", \"barrera\", \"barrera\", \"barrera\", \"bertineiii\", \"bertineiii\", \"bertineiii\", \"better\", \"better\", \"better\", \"bingsley\", \"bingsley\", \"bingsley\", \"blackstar\", \"blackstar\", \"blackstar\", \"block\", \"block\", \"block\", \"bruce\", \"bruce\", \"bruce\", \"burnwith\", \"caroutside\", \"caroutside\", \"cassamento\", \"cassamento\", \"cassamento\", \"chastise\", \"chastise\", \"chay\", \"chay\", \"chay\", \"checkpoint\", \"checkpoint\", \"checkpoint\", \"chuckles\", \"chuckles\", \"chuckles\", \"church\", \"church\", \"church\", \"city\", \"city\", \"city\", \"client\", \"client\", \"client\", \"clinton\", \"clinton\", \"clinton\", \"coid\", \"coid\", \"coid\", \"comfortablewith\", \"comfortablewith\", \"confirmtheir\", \"confirmtheir\", \"confirmtheir\", \"convenient\", \"convenient\", \"convenient\", \"convention\", \"convention\", \"convention\", \"couid\", \"couid\", \"couid\", \"couple\", \"couple\", \"couple\", \"crawler\", \"crawler\", \"cygnus\", \"cygnus\", \"cygnus\", \"da\", \"da\", \"da\", \"darhk\", \"darhk\", \"darhk\", \"days\", \"days\", \"days\", \"dead\", \"dead\", \"dead\", \"decian\", \"decian\", \"decian\", \"decision\", \"decision\", \"decision\", \"diaz\", \"diaz\", \"diaz\", \"diggie\", \"diggie\", \"diggie\", \"dinnerand\", \"dinnerand\", \"dinnerand\", \"display\", \"display\", \"display\", \"dunbar\", \"dunbar\", \"dunbar\", \"else\", \"else\", \"else\", \"even\", \"even\", \"even\", \"everyone\", \"everyone\", \"everyone\", \"everything\", \"everything\", \"everything\", \"evilplans\", \"eyes\", \"eyes\", \"eyes\", \"face\", \"face\", \"face\", \"father\", \"father\", \"father\", \"feei\", \"feei\", \"feei\", \"felicity\", \"felicity\", \"felicity\", \"figured\", \"figured\", \"figured\", \"find\", \"find\", \"find\", \"fine\", \"fine\", \"fine\", \"first\", \"first\", \"first\", \"force\", \"force\", \"force\", \"fordand\", \"fordand\", \"fordand\", \"found\", \"found\", \"found\", \"gauntlets\", \"gauntlets\", \"gauntlets\", \"genesis\", \"genesis\", \"genesis\", \"gone\", \"gone\", \"gone\", \"good\", \"good\", \"good\", \"gotham\", \"gotham\", \"gotham\", \"green\", \"green\", \"green\", \"grows\", \"grows\", \"grows\", \"guy\", \"guy\", \"guy\", \"guys\", \"guys\", \"guys\", \"ha\", \"ha\", \"ha\", \"hall\", \"hall\", \"hall\", \"hard\", \"hard\", \"hard\", \"heh\", \"heh\", \"heh\", \"heliport\", \"heliport\", \"heliport\", \"hell\", \"hell\", \"hell\", \"help\", \"help\", \"help\", \"himled\", \"himled\", \"himled\", \"hmm\", \"hmm\", \"hmm\", \"home\", \"home\", \"home\", \"horus\", \"horus\", \"horus\", \"hourthat\", \"hourthat\", \"hutchinson\", \"hutchinson\", \"hutchinson\", \"iate\", \"iate\", \"iate\", \"ii\", \"ii\", \"ii\", \"iie\", \"iie\", \"iie\", \"iife\", \"iife\", \"iife\", \"iisten\", \"iisten\", \"iisten\", \"iittie\", \"iittie\", \"iittie\", \"inflicting\", \"inflicting\", \"inflicting\", \"infor\", \"infor\", \"infor\", \"inputs\", \"inputs\", \"inputs\", \"ins\", \"ins\", \"ins\", \"isthrough\", \"isthrough\", \"james\", \"james\", \"james\", \"jay\", \"jay\", \"jay\", \"john\", \"john\", \"john\", \"jos\", \"jos\", \"jos\", \"justrelieved\", \"kang\", \"kang\", \"kang\", \"kate\", \"kate\", \"kate\", \"katsu\", \"katsu\", \"katsu\", \"kendra\", \"kendra\", \"kendra\", \"kill\", \"kill\", \"kill\", \"killed\", \"killed\", \"killed\", \"koji\", \"koji\", \"koji\", \"lance\", \"lance\", \"lance\", \"languages\", \"languages\", \"languages\", \"last\", \"last\", \"last\", \"laurel\", \"laurel\", \"laurel\", \"left\", \"left\", \"left\", \"life\", \"life\", \"life\", \"light\", \"light\", \"light\", \"live\", \"live\", \"live\", \"long\", \"long\", \"long\", \"looks\", \"looks\", \"looks\", \"maicoim\", \"maicoim\", \"maicoim\", \"malfunctioned\", \"malfunctioned\", \"malfunctioned\", \"markovian\", \"markovian\", \"markovian\", \"markovians\", \"markovians\", \"markovians\", \"may\", \"may\", \"may\", \"maybe\", \"maybe\", \"maybe\", \"mayor\", \"mayor\", \"mayor\", \"meriyn\", \"meriyn\", \"meriyn\", \"merlyn\", \"merlyn\", \"merlyn\", \"methe\", \"methe\", \"methe\", \"mm\", \"mm\", \"mm\", \"mom\", \"mom\", \"mom\", \"moore\", \"moore\", \"moore\", \"move\", \"move\", \"move\", \"mr\", \"mr\", \"mr\", \"name\", \"name\", \"name\", \"never\", \"never\", \"never\", \"new\", \"new\", \"new\", \"newww\", \"newww\", \"newww\", \"nextappointment\", \"nextappointment\", \"nonalcoholic\", \"nonalcoholic\", \"oiiver\", \"oiiver\", \"oiiver\", \"okay\", \"okay\", \"okay\", \"oliver\", \"oliver\", \"oliver\", \"ondeploying\", \"pagead\", \"pagead\", \"pagead\", \"people\", \"people\", \"people\", \"piease\", \"piease\", \"piease\", \"play\", \"play\", \"play\", \"please\", \"please\", \"please\", \"position\", \"position\", \"position\", \"pratiti\", \"pratiti\", \"pratiti\", \"proud\", \"proud\", \"proud\", \"pub\", \"pub\", \"pub\", \"puppies\", \"puppies\", \"puppies\", \"put\", \"put\", \"put\", \"queen\", \"queen\", \"queen\", \"queenie\", \"queenie\", \"rasmus\", \"rasmus\", \"rasmus\", \"rasmuswas\", \"rasmuswas\", \"relay\", \"relay\", \"relay\", \"replayingthat\", \"replayingthat\", \"representedby\", \"representedby\", \"roy\", \"roy\", \"roy\", \"ruelle\", \"said\", \"said\", \"said\", \"sam\", \"sam\", \"sam\", \"sara\", \"sara\", \"sara\", \"savage\", \"savage\", \"savage\", \"say\", \"say\", \"say\", \"scraper\", \"scraper\", \"se\", \"se\", \"se\", \"securityis\", \"securityis\", \"securityis\", \"senator\", \"senator\", \"senator\", \"shabu\", \"shabu\", \"shouid\", \"shouid\", \"shouid\", \"sisterkilled\", \"sisterkilled\", \"slade\", \"slade\", \"slade\", \"something\", \"something\", \"something\", \"sorry\", \"sorry\", \"sorry\", \"stay\", \"stay\", \"stay\", \"still\", \"still\", \"still\", \"stop\", \"stop\", \"stop\", \"sure\", \"sure\", \"sure\", \"taik\", \"taik\", \"taik\", \"talk\", \"talk\", \"talk\", \"targets\", \"targets\", \"targets\", \"tarkov\", \"tarkov\", \"tarkov\", \"taylor\", \"taylor\", \"taylor\", \"teiiing\", \"teiiing\", \"teiiing\", \"tent\", \"tent\", \"thank\", \"thank\", \"thank\", \"thea\", \"thea\", \"thea\", \"thesepeople\", \"thesepeople\", \"thesepeople\", \"thing\", \"thing\", \"thing\", \"thinkingin\", \"thinkingin\", \"thinktwice\", \"thinktwice\", \"thinktwice\", \"thisisland\", \"thisisland\", \"thought\", \"thought\", \"thought\", \"timeto\", \"timeto\", \"timeto\", \"tirelessly\", \"tirelessly\", \"told\", \"told\", \"told\", \"trust\", \"trust\", \"trust\", \"two\", \"two\", \"two\", \"uh\", \"uh\", \"uh\", \"um\", \"um\", \"um\", \"upwith\", \"upwith\", \"upwith\", \"uranium\", \"uranium\", \"uranium\", \"us\", \"us\", \"us\", \"waiked\", \"waiked\", \"waiked\", \"wanted\", \"wanted\", \"wanted\", \"wayne\", \"wayne\", \"wayne\", \"waywe\", \"waywe\", \"waywe\", \"weeksafter\", \"weeksafter\", \"weii\", \"weii\", \"weii\", \"wolfman\", \"wolfman\", \"wolfman\", \"work\", \"work\", \"work\", \"wouid\", \"wouid\", \"wouid\", \"wouldabsolutely\", \"wouldabsolutely\", \"wrong\", \"wrong\", \"wrong\", \"yep\", \"yep\", \"yep\", \"yes\", \"yes\", \"yes\", \"zetas\", \"zetas\", \"zetas\"]}, \"R\": 30, \"lambda.step\": 0.01, \"plot.opts\": {\"xlab\": \"PC1\", \"ylab\": \"PC2\"}, \"topic.order\": [1, 2, 3]};\n",
       "\n",
       "function LDAvis_load_lib(url, callback){\n",
       "  var s = document.createElement('script');\n",
       "  s.src = url;\n",
       "  s.async = true;\n",
       "  s.onreadystatechange = s.onload = callback;\n",
       "  s.onerror = function(){console.warn(\"failed to load library \" + url);};\n",
       "  document.getElementsByTagName(\"head\")[0].appendChild(s);\n",
       "}\n",
       "\n",
       "if(typeof(LDAvis) !== \"undefined\"){\n",
       "   // already loaded: just create the visualization\n",
       "   !function(LDAvis){\n",
       "       new LDAvis(\"#\" + \"ldavis_el85081399218171161124963017888\", ldavis_el85081399218171161124963017888_data);\n",
       "   }(LDAvis);\n",
       "}else if(typeof define === \"function\" && define.amd){\n",
       "   // require.js is available: use it to load d3/LDAvis\n",
       "   require.config({paths: {d3: \"https://d3js.org/d3.v5\"}});\n",
       "   require([\"d3\"], function(d3){\n",
       "      window.d3 = d3;\n",
       "      LDAvis_load_lib(\"https://cdn.jsdelivr.net/gh/bmabey/pyLDAvis@3.3.1/pyLDAvis/js/ldavis.v3.0.0.js\", function(){\n",
       "        new LDAvis(\"#\" + \"ldavis_el85081399218171161124963017888\", ldavis_el85081399218171161124963017888_data);\n",
       "      });\n",
       "    });\n",
       "}else{\n",
       "    // require.js not available: dynamically load d3 & LDAvis\n",
       "    LDAvis_load_lib(\"https://d3js.org/d3.v5.js\", function(){\n",
       "         LDAvis_load_lib(\"https://cdn.jsdelivr.net/gh/bmabey/pyLDAvis@3.3.1/pyLDAvis/js/ldavis.v3.0.0.js\", function(){\n",
       "                 new LDAvis(\"#\" + \"ldavis_el85081399218171161124963017888\", ldavis_el85081399218171161124963017888_data);\n",
       "            })\n",
       "         });\n",
       "}\n",
       "</script>"
      ],
      "text/plain": [
       "PreparedData(topic_coordinates=              x         y  topics  cluster       Freq\n",
       "topic                                                \n",
       "0     -0.002673  0.000297       1        1  20.208819\n",
       "1      0.001022 -0.002047       2        1  27.333471\n",
       "2      0.001651  0.001749       3        1  52.457710, topic_info=           Term         Freq        Total Category  logprob  loglift\n",
       "512      oliver  2514.000000  2514.000000  Default  30.0000  30.0000\n",
       "673   something  1006.000000  1006.000000  Default  29.0000  29.0000\n",
       "307        good  1318.000000  1318.000000  Default  28.0000  28.0000\n",
       "568       queen   895.000000   895.000000  Default  27.0000  27.0000\n",
       "774          us  1411.000000  1411.000000  Default  26.0000  26.0000\n",
       "...         ...          ...          ...      ...      ...      ...\n",
       "746        told   356.444404   675.001432   Topic3  -6.1639   0.0066\n",
       "533      people   390.429783   772.424288   Topic3  -6.0728  -0.0371\n",
       "741     thought   361.742060   697.826406   Topic3  -6.1491  -0.0119\n",
       "735       thing   356.185507   680.722944   Topic3  -6.1646  -0.0025\n",
       "3109       thea   358.908545   763.650092   Topic3  -6.1570  -0.1099\n",
       "\n",
       "[316 rows x 6 columns], token_table=       Topic      Freq         Term\n",
       "term                               \n",
       "18         1  0.229660  adsbygoogle\n",
       "18         2  0.243170  adsbygoogle\n",
       "18         3  0.526868  adsbygoogle\n",
       "6845       2  0.394335         agoi\n",
       "6845       3  0.394335         agoi\n",
       "...      ...       ...          ...\n",
       "815        2  0.257419          yes\n",
       "815        3  0.552975          yes\n",
       "43763      1  0.172723        zetas\n",
       "43763      2  0.172723        zetas\n",
       "43763      3  0.690890        zetas\n",
       "\n",
       "[644 rows x 3 columns], R=30, lambda_step=0.01, plot_opts={'xlab': 'PC1', 'ylab': 'PC2'}, topic_order=[1, 2, 3])"
      ]
     },
     "execution_count": 67,
     "metadata": {},
     "output_type": "execute_result"
    }
   ],
   "source": [
    "import pickle \n",
    "import pyLDAvis\n",
    "import pyLDAvis.gensim_models\n",
    "import os\n",
    "\n",
    "\n",
    "# Visualize the topics\n",
    "pyLDAvis.enable_notebook()\n",
    "\n",
    "LDAvis_data_filepath = os.path.join('Data/prepared_'+str(num_topics))\n",
    "\n",
    "# # this is a bit time consuming - make the if statement True\n",
    "# # if you want to execute visualization prep yourself\n",
    "if 1 == 1:\n",
    "    LDAvis_prepared = pyLDAvis.gensim_models.prepare(lda_model, corpus, id2word, sort_topics=False)\n",
    "    with open(LDAvis_data_filepath, 'wb') as f:\n",
    "        pickle.dump(LDAvis_prepared, f)\n",
    "\n",
    "# load the pre-prepared pyLDAvis data from disk\n",
    "with open(LDAvis_data_filepath, 'rb') as f:\n",
    "    LDAvis_prepared = pickle.load(f)\n",
    "\n",
    "pyLDAvis.save_html(LDAvis_prepared, 'Data/prepared_'+ str(num_topics) +'.html')\n",
    "\n",
    "LDAvis_prepared"
   ]
  },
  {
   "cell_type": "markdown",
   "metadata": {
    "id": "xFfAvt4k8Jed"
   },
   "source": [
    "## Topicos\n",
    "\n",
    "1 - \n",
    "2 - \n",
    "3 - "
   ]
  },
  {
   "cell_type": "code",
   "execution_count": 46,
   "metadata": {
    "id": "3X0_soJw8Jed",
    "outputId": "e332cc4e-13dd-4841-c494-823decb688a6"
   },
   "outputs": [
    {
     "name": "stderr",
     "output_type": "stream",
     "text": [
      "/home/anna/anaconda3/lib/python3.8/site-packages/ipykernel/ipkernel.py:287: DeprecationWarning: `should_run_async` will not call `transform_cell` automatically in the future. Please pass the result to `transformed_cell` argument and any exception that happen during thetransform in `preprocessing_exc_tuple` in IPython 7.17 and above.\n",
      "  and should_run_async(code)\n"
     ]
    }
   ],
   "source": [
    "topic_scores = [[topic_score[1] for topic_score in sent] for sent in doc_lda]\n",
    "\n",
    "#topics\n",
    "#1 - Episodios mais genericos/aventura/acao (0,  '0.008*\"oliver\" + 0.005*\"us\" + 0.004*\"city\" + 0.004*\"something\" + '  '0.004*\"good\" + 0.004*\"sorry\" + 0.003*\"thank\" + 0.003*\"never\" + 0.003*\"find\" '  '+ 0.003*\"help\"')\n",
    "#2 - Episodios com mais romance? visto que laurel e felicity foram par romantico de oliver (personagem principal)(1,  '0.008*\"oliver\" + 0.005*\"city\" + 0.005*\"good\" + 0.005*\"us\" + ''0.004*\"felicity\" + 0.004*\"laurel\" + 0.003*\"sorry\" + 0.003*\"something\" + '  '0.003*\"queen\" + 0.003*\"uh\"')\n",
    "#3  - Episodios mais familia (2,  '0.007*\"oliver\" + 0.005*\"city\" + 0.004*\"us\" + 0.003*\"good\" + 0.003*\"thea\" + '0.003*\"said\" + 0.003*\"felicity\" + 0.003*\"people\" + 0.003*\"queen\" + '  '0.003*\"father\"')]"
   ]
  },
  {
   "cell_type": "markdown",
   "metadata": {
    "id": "FkQEjSAV8Jed"
   },
   "source": [
    "-----------------------------------------------------------------------------------------------------------"
   ]
  },
  {
   "cell_type": "markdown",
   "metadata": {
    "id": "qVee8VtW8Jee"
   },
   "source": [
    "# Dataframe with scores of each topic, where each line is the index of txt (script of the episode)\n"
   ]
  },
  {
   "cell_type": "code",
   "execution_count": 47,
   "metadata": {
    "id": "9gg8rxrl8Jef",
    "outputId": "0b414e3d-fbb9-4fb5-b359-bebfc37f28c8"
   },
   "outputs": [
    {
     "name": "stderr",
     "output_type": "stream",
     "text": [
      "/home/anna/anaconda3/lib/python3.8/site-packages/ipykernel/ipkernel.py:287: DeprecationWarning: `should_run_async` will not call `transform_cell` automatically in the future. Please pass the result to `transformed_cell` argument and any exception that happen during thetransform in `preprocessing_exc_tuple` in IPython 7.17 and above.\n",
      "  and should_run_async(code)\n"
     ]
    }
   ],
   "source": [
    "df_topics = pd.DataFrame(topic_scores)"
   ]
  },
  {
   "cell_type": "code",
   "execution_count": 48,
   "metadata": {
    "id": "nxKknsR38Jef",
    "outputId": "3e67e779-d743-4758-c081-1e26205f62ac"
   },
   "outputs": [
    {
     "name": "stderr",
     "output_type": "stream",
     "text": [
      "/home/anna/anaconda3/lib/python3.8/site-packages/ipykernel/ipkernel.py:287: DeprecationWarning: `should_run_async` will not call `transform_cell` automatically in the future. Please pass the result to `transformed_cell` argument and any exception that happen during thetransform in `preprocessing_exc_tuple` in IPython 7.17 and above.\n",
      "  and should_run_async(code)\n"
     ]
    },
    {
     "data": {
      "text/plain": [
       "165"
      ]
     },
     "execution_count": 48,
     "metadata": {},
     "output_type": "execute_result"
    }
   ],
   "source": [
    "len(df_topics)"
   ]
  },
  {
   "cell_type": "code",
   "execution_count": 49,
   "metadata": {
    "id": "yxBej7378Jef",
    "outputId": "1e82f748-af89-4af0-bbd4-1e72776a0002"
   },
   "outputs": [
    {
     "name": "stderr",
     "output_type": "stream",
     "text": [
      "/home/anna/anaconda3/lib/python3.8/site-packages/ipykernel/ipkernel.py:287: DeprecationWarning: `should_run_async` will not call `transform_cell` automatically in the future. Please pass the result to `transformed_cell` argument and any exception that happen during thetransform in `preprocessing_exc_tuple` in IPython 7.17 and above.\n",
      "  and should_run_async(code)\n"
     ]
    },
    {
     "data": {
      "text/html": [
       "<div>\n",
       "<style scoped>\n",
       "    .dataframe tbody tr th:only-of-type {\n",
       "        vertical-align: middle;\n",
       "    }\n",
       "\n",
       "    .dataframe tbody tr th {\n",
       "        vertical-align: top;\n",
       "    }\n",
       "\n",
       "    .dataframe thead th {\n",
       "        text-align: right;\n",
       "    }\n",
       "</style>\n",
       "<table border=\"1\" class=\"dataframe\">\n",
       "  <thead>\n",
       "    <tr style=\"text-align: right;\">\n",
       "      <th></th>\n",
       "      <th>0</th>\n",
       "      <th>1</th>\n",
       "      <th>2</th>\n",
       "    </tr>\n",
       "  </thead>\n",
       "  <tbody>\n",
       "    <tr>\n",
       "      <th>160</th>\n",
       "      <td>0.146809</td>\n",
       "      <td>0.329372</td>\n",
       "      <td>0.523819</td>\n",
       "    </tr>\n",
       "    <tr>\n",
       "      <th>161</th>\n",
       "      <td>0.730483</td>\n",
       "      <td>0.267691</td>\n",
       "      <td>NaN</td>\n",
       "    </tr>\n",
       "    <tr>\n",
       "      <th>162</th>\n",
       "      <td>0.100775</td>\n",
       "      <td>0.896346</td>\n",
       "      <td>NaN</td>\n",
       "    </tr>\n",
       "    <tr>\n",
       "      <th>163</th>\n",
       "      <td>0.104895</td>\n",
       "      <td>0.885359</td>\n",
       "      <td>NaN</td>\n",
       "    </tr>\n",
       "    <tr>\n",
       "      <th>164</th>\n",
       "      <td>0.269644</td>\n",
       "      <td>0.186685</td>\n",
       "      <td>0.543671</td>\n",
       "    </tr>\n",
       "  </tbody>\n",
       "</table>\n",
       "</div>"
      ],
      "text/plain": [
       "            0         1         2\n",
       "160  0.146809  0.329372  0.523819\n",
       "161  0.730483  0.267691       NaN\n",
       "162  0.100775  0.896346       NaN\n",
       "163  0.104895  0.885359       NaN\n",
       "164  0.269644  0.186685  0.543671"
      ]
     },
     "execution_count": 49,
     "metadata": {},
     "output_type": "execute_result"
    }
   ],
   "source": [
    "df_topics.tail()"
   ]
  },
  {
   "cell_type": "code",
   "execution_count": 50,
   "metadata": {
    "id": "HTMoj9ez8Jeg",
    "outputId": "9a8ddb58-9899-4bf5-efab-afbbeded06c0"
   },
   "outputs": [
    {
     "name": "stderr",
     "output_type": "stream",
     "text": [
      "/home/anna/anaconda3/lib/python3.8/site-packages/ipykernel/ipkernel.py:287: DeprecationWarning: `should_run_async` will not call `transform_cell` automatically in the future. Please pass the result to `transformed_cell` argument and any exception that happen during thetransform in `preprocessing_exc_tuple` in IPython 7.17 and above.\n",
      "  and should_run_async(code)\n"
     ]
    }
   ],
   "source": [
    "df_topics.fillna(0,  inplace=True)"
   ]
  },
  {
   "cell_type": "code",
   "execution_count": 51,
   "metadata": {
    "id": "wXzgPli78Jeg",
    "outputId": "760ef1bf-dbee-4082-e679-2c03bf3da4be"
   },
   "outputs": [
    {
     "name": "stderr",
     "output_type": "stream",
     "text": [
      "/home/anna/anaconda3/lib/python3.8/site-packages/ipykernel/ipkernel.py:287: DeprecationWarning: `should_run_async` will not call `transform_cell` automatically in the future. Please pass the result to `transformed_cell` argument and any exception that happen during thetransform in `preprocessing_exc_tuple` in IPython 7.17 and above.\n",
      "  and should_run_async(code)\n"
     ]
    },
    {
     "data": {
      "text/plain": [
       "0    0.985026\n",
       "1    0.010082\n",
       "2    0.000000\n",
       "Name: 4, dtype: float64"
      ]
     },
     "execution_count": 51,
     "metadata": {},
     "output_type": "execute_result"
    }
   ],
   "source": [
    "df_topics.loc[4,:]   #scores dos topicos do script 4 "
   ]
  },
  {
   "cell_type": "markdown",
   "metadata": {
    "id": "eM4X2D928Jeh"
   },
   "source": [
    "# Dataframe concat\n",
    "## Concatenating the dataset with the raw script, the processed script and the episode name (df_parcial) with Dataframe with scores of each topic (df_topics)"
   ]
  },
  {
   "cell_type": "code",
   "execution_count": 52,
   "metadata": {
    "id": "P-biwnH58Jeh",
    "outputId": "5b0ceaff-84d2-4a29-e579-1df1e361e110"
   },
   "outputs": [
    {
     "name": "stderr",
     "output_type": "stream",
     "text": [
      "/home/anna/anaconda3/lib/python3.8/site-packages/ipykernel/ipkernel.py:287: DeprecationWarning: `should_run_async` will not call `transform_cell` automatically in the future. Please pass the result to `transformed_cell` argument and any exception that happen during thetransform in `preprocessing_exc_tuple` in IPython 7.17 and above.\n",
      "  and should_run_async(code)\n"
     ]
    }
   ],
   "source": [
    "df_concat = pd.concat([df_parcial, df_topics], axis=1) "
   ]
  },
  {
   "cell_type": "code",
   "execution_count": 53,
   "metadata": {
    "id": "lIj1sLy88Jeh",
    "outputId": "9249d571-d066-4b3e-b983-30fea7824fb8"
   },
   "outputs": [
    {
     "name": "stderr",
     "output_type": "stream",
     "text": [
      "/home/anna/anaconda3/lib/python3.8/site-packages/ipykernel/ipkernel.py:287: DeprecationWarning: `should_run_async` will not call `transform_cell` automatically in the future. Please pass the result to `transformed_cell` argument and any exception that happen during thetransform in `preprocessing_exc_tuple` in IPython 7.17 and above.\n",
      "  and should_run_async(code)\n"
     ]
    },
    {
     "data": {
      "text/html": [
       "<div>\n",
       "<style scoped>\n",
       "    .dataframe tbody tr th:only-of-type {\n",
       "        vertical-align: middle;\n",
       "    }\n",
       "\n",
       "    .dataframe tbody tr th {\n",
       "        vertical-align: top;\n",
       "    }\n",
       "\n",
       "    .dataframe thead th {\n",
       "        text-align: right;\n",
       "    }\n",
       "</style>\n",
       "<table border=\"1\" class=\"dataframe\">\n",
       "  <thead>\n",
       "    <tr style=\"text-align: right;\">\n",
       "      <th></th>\n",
       "      <th>nome_ep</th>\n",
       "      <th>Episodios</th>\n",
       "      <th>text_processed</th>\n",
       "      <th>0</th>\n",
       "      <th>1</th>\n",
       "      <th>2</th>\n",
       "    </tr>\n",
       "  </thead>\n",
       "  <tbody>\n",
       "    <tr>\n",
       "      <th>160</th>\n",
       "      <td>/series/Arrow-2193021/season-8/episode-6-Reset</td>\n",
       "      <td>PREVIOUSLY ON \"ARROW\"...THIS PLACE LOOKSEXACTL...</td>\n",
       "      <td>previously on \"arrow\"   this place looksexactl...</td>\n",
       "      <td>0.146809</td>\n",
       "      <td>0.329372</td>\n",
       "      <td>0.523819</td>\n",
       "    </tr>\n",
       "    <tr>\n",
       "      <th>161</th>\n",
       "      <td>/series/Arrow-2193021/season-8/episode-7-Purga...</td>\n",
       "      <td>Previously on \"Arrow\"...-I need your help, roy...</td>\n",
       "      <td>previously on \"arrow\"   -i need your help  roy...</td>\n",
       "      <td>0.730483</td>\n",
       "      <td>0.267691</td>\n",
       "      <td>0.000000</td>\n",
       "    </tr>\n",
       "    <tr>\n",
       "      <th>162</th>\n",
       "      <td>/series/Arrow-2193021/season-8/episode-8-Crisi...</td>\n",
       "      <td>Previously on Crisison Infinite Earths...There...</td>\n",
       "      <td>previously on crisison infinite earths   there...</td>\n",
       "      <td>0.100775</td>\n",
       "      <td>0.896346</td>\n",
       "      <td>0.000000</td>\n",
       "    </tr>\n",
       "    <tr>\n",
       "      <th>163</th>\n",
       "      <td>/series/Arrow-2193021/season-8/episode-9-Green...</td>\n",
       "      <td>bianca!bianca bertinelli?who the hell are you...</td>\n",
       "      <td>bianca bianca bertinelli who the hell are you...</td>\n",
       "      <td>0.104895</td>\n",
       "      <td>0.885359</td>\n",
       "      <td>0.000000</td>\n",
       "    </tr>\n",
       "    <tr>\n",
       "      <th>164</th>\n",
       "      <td>/series/Arrow-2193021/season-8/episode-10-Fadeout</td>\n",
       "      <td>[Oliver]My name is Oliver Queen.[gunshot][Oliv...</td>\n",
       "      <td>[oliver]my name is oliver queen [gunshot][oliv...</td>\n",
       "      <td>0.269644</td>\n",
       "      <td>0.186685</td>\n",
       "      <td>0.543671</td>\n",
       "    </tr>\n",
       "  </tbody>\n",
       "</table>\n",
       "</div>"
      ],
      "text/plain": [
       "                                               nome_ep  \\\n",
       "160     /series/Arrow-2193021/season-8/episode-6-Reset   \n",
       "161  /series/Arrow-2193021/season-8/episode-7-Purga...   \n",
       "162  /series/Arrow-2193021/season-8/episode-8-Crisi...   \n",
       "163  /series/Arrow-2193021/season-8/episode-9-Green...   \n",
       "164  /series/Arrow-2193021/season-8/episode-10-Fadeout   \n",
       "\n",
       "                                             Episodios  \\\n",
       "160  PREVIOUSLY ON \"ARROW\"...THIS PLACE LOOKSEXACTL...   \n",
       "161  Previously on \"Arrow\"...-I need your help, roy...   \n",
       "162  Previously on Crisison Infinite Earths...There...   \n",
       "163   bianca!bianca bertinelli?who the hell are you...   \n",
       "164  [Oliver]My name is Oliver Queen.[gunshot][Oliv...   \n",
       "\n",
       "                                        text_processed         0         1  \\\n",
       "160  previously on \"arrow\"   this place looksexactl...  0.146809  0.329372   \n",
       "161  previously on \"arrow\"   -i need your help  roy...  0.730483  0.267691   \n",
       "162  previously on crisison infinite earths   there...  0.100775  0.896346   \n",
       "163   bianca bianca bertinelli who the hell are you...  0.104895  0.885359   \n",
       "164  [oliver]my name is oliver queen [gunshot][oliv...  0.269644  0.186685   \n",
       "\n",
       "            2  \n",
       "160  0.523819  \n",
       "161  0.000000  \n",
       "162  0.000000  \n",
       "163  0.000000  \n",
       "164  0.543671  "
      ]
     },
     "execution_count": 53,
     "metadata": {},
     "output_type": "execute_result"
    }
   ],
   "source": [
    "df_concat.tail()"
   ]
  },
  {
   "cell_type": "code",
   "execution_count": null,
   "metadata": {
    "id": "gvBzj4Am8Jei",
    "outputId": "619c6e67-6b35-41bb-c618-46cc7a6afc5c"
   },
   "outputs": [],
   "source": [
    "# df_concat2.to_csv('scripts1.csv',  sep=';')"
   ]
  },
  {
   "cell_type": "markdown",
   "metadata": {
    "id": "vO23Dow-8Jei"
   },
   "source": [
    "# Dataset with ratings and amount of ratings\n",
    "## manually generated from the IMDb page ( https://www.imdb.com/title/tt2193021/episodes?ref_=tt_eps_sm )"
   ]
  },
  {
   "cell_type": "code",
   "execution_count": 54,
   "metadata": {
    "id": "Xb_gKYiO8Jei",
    "outputId": "b202c287-b9ea-4ce7-bf40-d5b56a9a36c5"
   },
   "outputs": [
    {
     "name": "stderr",
     "output_type": "stream",
     "text": [
      "/home/anna/anaconda3/lib/python3.8/site-packages/ipykernel/ipkernel.py:287: DeprecationWarning: `should_run_async` will not call `transform_cell` automatically in the future. Please pass the result to `transformed_cell` argument and any exception that happen during thetransform in `preprocessing_exc_tuple` in IPython 7.17 and above.\n",
      "  and should_run_async(code)\n"
     ]
    }
   ],
   "source": [
    "ratings = pd.read_csv('Data/ratings2.csv', sep=\",\")"
   ]
  },
  {
   "cell_type": "code",
   "execution_count": 55,
   "metadata": {
    "id": "oCOCQzdd8Jej",
    "outputId": "263ca4a2-0a21-4398-c715-5fb7a949a4d0"
   },
   "outputs": [
    {
     "name": "stderr",
     "output_type": "stream",
     "text": [
      "/home/anna/anaconda3/lib/python3.8/site-packages/ipykernel/ipkernel.py:287: DeprecationWarning: `should_run_async` will not call `transform_cell` automatically in the future. Please pass the result to `transformed_cell` argument and any exception that happen during thetransform in `preprocessing_exc_tuple` in IPython 7.17 and above.\n",
      "  and should_run_async(code)\n"
     ]
    },
    {
     "data": {
      "text/html": [
       "<div>\n",
       "<style scoped>\n",
       "    .dataframe tbody tr th:only-of-type {\n",
       "        vertical-align: middle;\n",
       "    }\n",
       "\n",
       "    .dataframe tbody tr th {\n",
       "        vertical-align: top;\n",
       "    }\n",
       "\n",
       "    .dataframe thead th {\n",
       "        text-align: right;\n",
       "    }\n",
       "</style>\n",
       "<table border=\"1\" class=\"dataframe\">\n",
       "  <thead>\n",
       "    <tr style=\"text-align: right;\">\n",
       "      <th></th>\n",
       "      <th>episodios</th>\n",
       "      <th>nota_imdb</th>\n",
       "      <th>qtd_reviews</th>\n",
       "    </tr>\n",
       "  </thead>\n",
       "  <tbody>\n",
       "    <tr>\n",
       "      <th>0</th>\n",
       "      <td>/series/Arrow-2193021/season-1/episode-1-Pilot</td>\n",
       "      <td>8.5</td>\n",
       "      <td>7572</td>\n",
       "    </tr>\n",
       "    <tr>\n",
       "      <th>1</th>\n",
       "      <td>/series/Arrow-2193021/season-1/episode-2-Honor...</td>\n",
       "      <td>8.2</td>\n",
       "      <td>5731</td>\n",
       "    </tr>\n",
       "    <tr>\n",
       "      <th>2</th>\n",
       "      <td>/series/Arrow-2193021/season-1/episode-3-Lone_...</td>\n",
       "      <td>8.4</td>\n",
       "      <td>5367</td>\n",
       "    </tr>\n",
       "    <tr>\n",
       "      <th>3</th>\n",
       "      <td>/series/Arrow-2193021/season-1/episode-4-An_In...</td>\n",
       "      <td>8.3</td>\n",
       "      <td>5071</td>\n",
       "    </tr>\n",
       "    <tr>\n",
       "      <th>4</th>\n",
       "      <td>/series/Arrow-2193021/season-1/episode-5-Damaged</td>\n",
       "      <td>8.6</td>\n",
       "      <td>5011</td>\n",
       "    </tr>\n",
       "  </tbody>\n",
       "</table>\n",
       "</div>"
      ],
      "text/plain": [
       "                                           episodios  nota_imdb  qtd_reviews\n",
       "0     /series/Arrow-2193021/season-1/episode-1-Pilot        8.5         7572\n",
       "1  /series/Arrow-2193021/season-1/episode-2-Honor...        8.2         5731\n",
       "2  /series/Arrow-2193021/season-1/episode-3-Lone_...        8.4         5367\n",
       "3  /series/Arrow-2193021/season-1/episode-4-An_In...        8.3         5071\n",
       "4   /series/Arrow-2193021/season-1/episode-5-Damaged        8.6         5011"
      ]
     },
     "execution_count": 55,
     "metadata": {},
     "output_type": "execute_result"
    }
   ],
   "source": [
    "ratings.head()"
   ]
  },
  {
   "cell_type": "code",
   "execution_count": 56,
   "metadata": {
    "id": "GWVhI3Xq8Jej",
    "outputId": "0bed2454-cde8-4872-99e7-b736be9a2fbd"
   },
   "outputs": [
    {
     "name": "stderr",
     "output_type": "stream",
     "text": [
      "/home/anna/anaconda3/lib/python3.8/site-packages/ipykernel/ipkernel.py:287: DeprecationWarning: `should_run_async` will not call `transform_cell` automatically in the future. Please pass the result to `transformed_cell` argument and any exception that happen during thetransform in `preprocessing_exc_tuple` in IPython 7.17 and above.\n",
      "  and should_run_async(code)\n"
     ]
    },
    {
     "data": {
      "text/plain": [
       "episodios      0\n",
       "nota_imdb      0\n",
       "qtd_reviews    0\n",
       "dtype: int64"
      ]
     },
     "execution_count": 56,
     "metadata": {},
     "output_type": "execute_result"
    }
   ],
   "source": [
    "ratings.isnull().sum()"
   ]
  },
  {
   "cell_type": "code",
   "execution_count": 57,
   "metadata": {
    "id": "O4bq-0HL8Jej",
    "outputId": "80dba059-1bcb-4af5-c9f3-3eb9c38733f0"
   },
   "outputs": [
    {
     "name": "stderr",
     "output_type": "stream",
     "text": [
      "/home/anna/anaconda3/lib/python3.8/site-packages/ipykernel/ipkernel.py:287: DeprecationWarning: `should_run_async` will not call `transform_cell` automatically in the future. Please pass the result to `transformed_cell` argument and any exception that happen during thetransform in `preprocessing_exc_tuple` in IPython 7.17 and above.\n",
      "  and should_run_async(code)\n"
     ]
    },
    {
     "data": {
      "text/plain": [
       "(165, 3)"
      ]
     },
     "execution_count": 57,
     "metadata": {},
     "output_type": "execute_result"
    }
   ],
   "source": [
    "ratings.shape"
   ]
  },
  {
   "cell_type": "markdown",
   "metadata": {
    "id": "b7XtSOjZ8Jej"
   },
   "source": [
    "# Final dataset\n",
    "## Dataset with the episode name, the script, the script processed , column with score value of topic 0, column with score value of topic 1, column with score value of topic 2, the imdb rating, the amount of reviews and the predominant topic "
   ]
  },
  {
   "cell_type": "code",
   "execution_count": 58,
   "metadata": {
    "id": "n3Z7Zo6C8Jek",
    "outputId": "2ad3e5b9-eb8a-443d-e2be-12cb6aee7b8b"
   },
   "outputs": [
    {
     "name": "stderr",
     "output_type": "stream",
     "text": [
      "/home/anna/anaconda3/lib/python3.8/site-packages/ipykernel/ipkernel.py:287: DeprecationWarning: `should_run_async` will not call `transform_cell` automatically in the future. Please pass the result to `transformed_cell` argument and any exception that happen during thetransform in `preprocessing_exc_tuple` in IPython 7.17 and above.\n",
      "  and should_run_async(code)\n"
     ]
    }
   ],
   "source": [
    "dataset = pd.concat([df_concat, ratings], axis=1) "
   ]
  },
  {
   "cell_type": "code",
   "execution_count": 59,
   "metadata": {
    "id": "gbynPaYt8Jek",
    "outputId": "c158d9ae-b6ce-4607-c5ac-53aa982183c0"
   },
   "outputs": [
    {
     "name": "stderr",
     "output_type": "stream",
     "text": [
      "/home/anna/anaconda3/lib/python3.8/site-packages/ipykernel/ipkernel.py:287: DeprecationWarning: `should_run_async` will not call `transform_cell` automatically in the future. Please pass the result to `transformed_cell` argument and any exception that happen during thetransform in `preprocessing_exc_tuple` in IPython 7.17 and above.\n",
      "  and should_run_async(code)\n"
     ]
    }
   ],
   "source": [
    "dataset.drop('episodios', axis=1, inplace=True)"
   ]
  },
  {
   "cell_type": "code",
   "execution_count": 60,
   "metadata": {
    "id": "Yk-Jd4ak8Jek",
    "outputId": "c0d55662-979d-4445-9cb3-00247dd262a3"
   },
   "outputs": [
    {
     "name": "stderr",
     "output_type": "stream",
     "text": [
      "/home/anna/anaconda3/lib/python3.8/site-packages/ipykernel/ipkernel.py:287: DeprecationWarning: `should_run_async` will not call `transform_cell` automatically in the future. Please pass the result to `transformed_cell` argument and any exception that happen during thetransform in `preprocessing_exc_tuple` in IPython 7.17 and above.\n",
      "  and should_run_async(code)\n"
     ]
    }
   ],
   "source": [
    "topicos = dataset.loc[:, [0, 1, 2]]"
   ]
  },
  {
   "cell_type": "code",
   "execution_count": 61,
   "metadata": {
    "id": "YRBjuPfV8Jel",
    "outputId": "4de997f3-4748-41c4-c711-1fbb6ad6d332"
   },
   "outputs": [
    {
     "name": "stderr",
     "output_type": "stream",
     "text": [
      "/home/anna/anaconda3/lib/python3.8/site-packages/ipykernel/ipkernel.py:287: DeprecationWarning: `should_run_async` will not call `transform_cell` automatically in the future. Please pass the result to `transformed_cell` argument and any exception that happen during thetransform in `preprocessing_exc_tuple` in IPython 7.17 and above.\n",
      "  and should_run_async(code)\n"
     ]
    },
    {
     "data": {
      "text/html": [
       "<div>\n",
       "<style scoped>\n",
       "    .dataframe tbody tr th:only-of-type {\n",
       "        vertical-align: middle;\n",
       "    }\n",
       "\n",
       "    .dataframe tbody tr th {\n",
       "        vertical-align: top;\n",
       "    }\n",
       "\n",
       "    .dataframe thead th {\n",
       "        text-align: right;\n",
       "    }\n",
       "</style>\n",
       "<table border=\"1\" class=\"dataframe\">\n",
       "  <thead>\n",
       "    <tr style=\"text-align: right;\">\n",
       "      <th></th>\n",
       "      <th>0</th>\n",
       "      <th>1</th>\n",
       "      <th>2</th>\n",
       "    </tr>\n",
       "  </thead>\n",
       "  <tbody>\n",
       "    <tr>\n",
       "      <th>0</th>\n",
       "      <td>0.160072</td>\n",
       "      <td>0.018992</td>\n",
       "      <td>0.820936</td>\n",
       "    </tr>\n",
       "    <tr>\n",
       "      <th>1</th>\n",
       "      <td>0.950948</td>\n",
       "      <td>0.042689</td>\n",
       "      <td>0.000000</td>\n",
       "    </tr>\n",
       "    <tr>\n",
       "      <th>2</th>\n",
       "      <td>0.089079</td>\n",
       "      <td>0.041158</td>\n",
       "      <td>0.869763</td>\n",
       "    </tr>\n",
       "    <tr>\n",
       "      <th>3</th>\n",
       "      <td>0.792778</td>\n",
       "      <td>0.020530</td>\n",
       "      <td>0.186692</td>\n",
       "    </tr>\n",
       "    <tr>\n",
       "      <th>4</th>\n",
       "      <td>0.985026</td>\n",
       "      <td>0.010082</td>\n",
       "      <td>0.000000</td>\n",
       "    </tr>\n",
       "    <tr>\n",
       "      <th>...</th>\n",
       "      <td>...</td>\n",
       "      <td>...</td>\n",
       "      <td>...</td>\n",
       "    </tr>\n",
       "    <tr>\n",
       "      <th>160</th>\n",
       "      <td>0.146809</td>\n",
       "      <td>0.329372</td>\n",
       "      <td>0.523819</td>\n",
       "    </tr>\n",
       "    <tr>\n",
       "      <th>161</th>\n",
       "      <td>0.730483</td>\n",
       "      <td>0.267691</td>\n",
       "      <td>0.000000</td>\n",
       "    </tr>\n",
       "    <tr>\n",
       "      <th>162</th>\n",
       "      <td>0.100775</td>\n",
       "      <td>0.896346</td>\n",
       "      <td>0.000000</td>\n",
       "    </tr>\n",
       "    <tr>\n",
       "      <th>163</th>\n",
       "      <td>0.104895</td>\n",
       "      <td>0.885359</td>\n",
       "      <td>0.000000</td>\n",
       "    </tr>\n",
       "    <tr>\n",
       "      <th>164</th>\n",
       "      <td>0.269644</td>\n",
       "      <td>0.186685</td>\n",
       "      <td>0.543671</td>\n",
       "    </tr>\n",
       "  </tbody>\n",
       "</table>\n",
       "<p>165 rows × 3 columns</p>\n",
       "</div>"
      ],
      "text/plain": [
       "            0         1         2\n",
       "0    0.160072  0.018992  0.820936\n",
       "1    0.950948  0.042689  0.000000\n",
       "2    0.089079  0.041158  0.869763\n",
       "3    0.792778  0.020530  0.186692\n",
       "4    0.985026  0.010082  0.000000\n",
       "..        ...       ...       ...\n",
       "160  0.146809  0.329372  0.523819\n",
       "161  0.730483  0.267691  0.000000\n",
       "162  0.100775  0.896346  0.000000\n",
       "163  0.104895  0.885359  0.000000\n",
       "164  0.269644  0.186685  0.543671\n",
       "\n",
       "[165 rows x 3 columns]"
      ]
     },
     "execution_count": 61,
     "metadata": {},
     "output_type": "execute_result"
    }
   ],
   "source": [
    "dataset.loc[:, [0, 1, 2]]"
   ]
  },
  {
   "cell_type": "code",
   "execution_count": 62,
   "metadata": {
    "id": "ZqYmqwYN8Jel",
    "outputId": "fb95bef2-56c6-4bf4-db33-36c4c735cc3c"
   },
   "outputs": [
    {
     "name": "stderr",
     "output_type": "stream",
     "text": [
      "/home/anna/anaconda3/lib/python3.8/site-packages/ipykernel/ipkernel.py:287: DeprecationWarning: `should_run_async` will not call `transform_cell` automatically in the future. Please pass the result to `transformed_cell` argument and any exception that happen during thetransform in `preprocessing_exc_tuple` in IPython 7.17 and above.\n",
      "  and should_run_async(code)\n"
     ]
    }
   ],
   "source": [
    "dataset['Topic'] = topicos.idxmax(axis=1)"
   ]
  },
  {
   "cell_type": "code",
   "execution_count": 63,
   "metadata": {
    "id": "_gBflSo08Jel",
    "outputId": "39677326-6232-4093-ac67-7914350a0230",
    "scrolled": true
   },
   "outputs": [
    {
     "name": "stderr",
     "output_type": "stream",
     "text": [
      "/home/anna/anaconda3/lib/python3.8/site-packages/ipykernel/ipkernel.py:287: DeprecationWarning: `should_run_async` will not call `transform_cell` automatically in the future. Please pass the result to `transformed_cell` argument and any exception that happen during thetransform in `preprocessing_exc_tuple` in IPython 7.17 and above.\n",
      "  and should_run_async(code)\n"
     ]
    },
    {
     "data": {
      "text/html": [
       "<div>\n",
       "<style scoped>\n",
       "    .dataframe tbody tr th:only-of-type {\n",
       "        vertical-align: middle;\n",
       "    }\n",
       "\n",
       "    .dataframe tbody tr th {\n",
       "        vertical-align: top;\n",
       "    }\n",
       "\n",
       "    .dataframe thead th {\n",
       "        text-align: right;\n",
       "    }\n",
       "</style>\n",
       "<table border=\"1\" class=\"dataframe\">\n",
       "  <thead>\n",
       "    <tr style=\"text-align: right;\">\n",
       "      <th></th>\n",
       "      <th>nome_ep</th>\n",
       "      <th>Episodios</th>\n",
       "      <th>text_processed</th>\n",
       "      <th>0</th>\n",
       "      <th>1</th>\n",
       "      <th>2</th>\n",
       "      <th>nota_imdb</th>\n",
       "      <th>qtd_reviews</th>\n",
       "      <th>Topic</th>\n",
       "    </tr>\n",
       "  </thead>\n",
       "  <tbody>\n",
       "    <tr>\n",
       "      <th>0</th>\n",
       "      <td>/series/Arrow-2193021/season-1/episode-1-Pilot</td>\n",
       "      <td>The name of the islandthey found me on is Lian...</td>\n",
       "      <td>the name of the islandthey found me on is lian...</td>\n",
       "      <td>0.160072</td>\n",
       "      <td>0.018992</td>\n",
       "      <td>0.820936</td>\n",
       "      <td>8.5</td>\n",
       "      <td>7572</td>\n",
       "      <td>2</td>\n",
       "    </tr>\n",
       "    <tr>\n",
       "      <th>1</th>\n",
       "      <td>/series/Arrow-2193021/season-1/episode-2-Honor...</td>\n",
       "      <td>[PANTING][GRUNTS][SPEAKING IN FOREIGN LANGUAGE...</td>\n",
       "      <td>[panting][grunts][speaking in foreign language...</td>\n",
       "      <td>0.950948</td>\n",
       "      <td>0.042689</td>\n",
       "      <td>0.000000</td>\n",
       "      <td>8.2</td>\n",
       "      <td>5731</td>\n",
       "      <td>0</td>\n",
       "    </tr>\n",
       "    <tr>\n",
       "      <th>2</th>\n",
       "      <td>/series/Arrow-2193021/season-1/episode-3-Lone_...</td>\n",
       "      <td>My name is Oliver Queen.To my family, I am the...</td>\n",
       "      <td>my name is oliver queen to my family  i am the...</td>\n",
       "      <td>0.089079</td>\n",
       "      <td>0.041158</td>\n",
       "      <td>0.869763</td>\n",
       "      <td>8.4</td>\n",
       "      <td>5367</td>\n",
       "      <td>2</td>\n",
       "    </tr>\n",
       "    <tr>\n",
       "      <th>3</th>\n",
       "      <td>/series/Arrow-2193021/season-1/episode-4-An_In...</td>\n",
       "      <td>My name is Oliver Queen.For 5 years, I was str...</td>\n",
       "      <td>my name is oliver queen for 5 years  i was str...</td>\n",
       "      <td>0.792778</td>\n",
       "      <td>0.020530</td>\n",
       "      <td>0.186692</td>\n",
       "      <td>8.3</td>\n",
       "      <td>5071</td>\n",
       "      <td>0</td>\n",
       "    </tr>\n",
       "    <tr>\n",
       "      <th>4</th>\n",
       "      <td>/series/Arrow-2193021/season-1/episode-5-Damaged</td>\n",
       "      <td>OLIVER:My name is Oliver Queen.For five years,...</td>\n",
       "      <td>oliver:my name is oliver queen for five years ...</td>\n",
       "      <td>0.985026</td>\n",
       "      <td>0.010082</td>\n",
       "      <td>0.000000</td>\n",
       "      <td>8.6</td>\n",
       "      <td>5011</td>\n",
       "      <td>0</td>\n",
       "    </tr>\n",
       "  </tbody>\n",
       "</table>\n",
       "</div>"
      ],
      "text/plain": [
       "                                             nome_ep  \\\n",
       "0     /series/Arrow-2193021/season-1/episode-1-Pilot   \n",
       "1  /series/Arrow-2193021/season-1/episode-2-Honor...   \n",
       "2  /series/Arrow-2193021/season-1/episode-3-Lone_...   \n",
       "3  /series/Arrow-2193021/season-1/episode-4-An_In...   \n",
       "4   /series/Arrow-2193021/season-1/episode-5-Damaged   \n",
       "\n",
       "                                           Episodios  \\\n",
       "0  The name of the islandthey found me on is Lian...   \n",
       "1  [PANTING][GRUNTS][SPEAKING IN FOREIGN LANGUAGE...   \n",
       "2  My name is Oliver Queen.To my family, I am the...   \n",
       "3  My name is Oliver Queen.For 5 years, I was str...   \n",
       "4  OLIVER:My name is Oliver Queen.For five years,...   \n",
       "\n",
       "                                      text_processed         0         1  \\\n",
       "0  the name of the islandthey found me on is lian...  0.160072  0.018992   \n",
       "1  [panting][grunts][speaking in foreign language...  0.950948  0.042689   \n",
       "2  my name is oliver queen to my family  i am the...  0.089079  0.041158   \n",
       "3  my name is oliver queen for 5 years  i was str...  0.792778  0.020530   \n",
       "4  oliver:my name is oliver queen for five years ...  0.985026  0.010082   \n",
       "\n",
       "          2  nota_imdb  qtd_reviews  Topic  \n",
       "0  0.820936        8.5         7572      2  \n",
       "1  0.000000        8.2         5731      0  \n",
       "2  0.869763        8.4         5367      2  \n",
       "3  0.186692        8.3         5071      0  \n",
       "4  0.000000        8.6         5011      0  "
      ]
     },
     "execution_count": 63,
     "metadata": {},
     "output_type": "execute_result"
    }
   ],
   "source": [
    "dataset.head()"
   ]
  },
  {
   "cell_type": "code",
   "execution_count": 64,
   "metadata": {
    "id": "EKtq7IHD8Jem",
    "outputId": "600ea8cf-9963-43cf-879f-72334e1c966f"
   },
   "outputs": [
    {
     "name": "stderr",
     "output_type": "stream",
     "text": [
      "/home/anna/anaconda3/lib/python3.8/site-packages/ipykernel/ipkernel.py:287: DeprecationWarning: `should_run_async` will not call `transform_cell` automatically in the future. Please pass the result to `transformed_cell` argument and any exception that happen during thetransform in `preprocessing_exc_tuple` in IPython 7.17 and above.\n",
      "  and should_run_async(code)\n"
     ]
    },
    {
     "data": {
      "text/plain": [
       "(165, 9)"
      ]
     },
     "execution_count": 64,
     "metadata": {},
     "output_type": "execute_result"
    }
   ],
   "source": [
    "dataset.shape"
   ]
  },
  {
   "cell_type": "code",
   "execution_count": 65,
   "metadata": {
    "id": "xUzK2Ky88Jem",
    "outputId": "448e10a8-7ccb-484e-db98-1ac3185af27f"
   },
   "outputs": [
    {
     "name": "stderr",
     "output_type": "stream",
     "text": [
      "/home/anna/anaconda3/lib/python3.8/site-packages/ipykernel/ipkernel.py:287: DeprecationWarning: `should_run_async` will not call `transform_cell` automatically in the future. Please pass the result to `transformed_cell` argument and any exception that happen during thetransform in `preprocessing_exc_tuple` in IPython 7.17 and above.\n",
      "  and should_run_async(code)\n"
     ]
    }
   ],
   "source": [
    "dataset.to_csv('Data/scripts.csv',  sep=';')"
   ]
  }
 ],
 "metadata": {
  "colab": {
   "collapsed_sections": [],
   "name": "1 - Dataset_LDA_model.ipynb",
   "provenance": []
  },
  "kernelspec": {
   "display_name": "Python 3",
   "language": "python",
   "name": "python3"
  },
  "language_info": {
   "codemirror_mode": {
    "name": "ipython",
    "version": 3
   },
   "file_extension": ".py",
   "mimetype": "text/x-python",
   "name": "python",
   "nbconvert_exporter": "python",
   "pygments_lexer": "ipython3",
   "version": "3.8.8"
  }
 },
 "nbformat": 4,
 "nbformat_minor": 4
}
