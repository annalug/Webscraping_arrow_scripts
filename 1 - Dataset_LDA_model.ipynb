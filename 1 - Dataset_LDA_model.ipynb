{
 "cells": [
  {
   "cell_type": "markdown",
   "metadata": {
    "id": "f0xzEC0SU3HZ"
   },
   "source": [
    "# Web Scrapping of Arrow (American TV Serie) scripts\n",
    "## From the site: https://subslikescript.com/ \n",
    "## by: Anna Luiza Gomes"
   ]
  },
  {
   "cell_type": "markdown",
   "metadata": {
    "id": "Ef1vKOqq8Jd9"
   },
   "source": [
    "## Pre-processing the data (scripts)"
   ]
  },
  {
   "cell_type": "code",
   "execution_count": 3,
   "metadata": {},
   "outputs": [],
   "source": [
    "# configuração para não exibir os warnings\n",
    "\n",
    "import warnings\n",
    "warnings.filterwarnings(\"ignore\")\n",
    "\n",
    "# ignorando future warnings\n",
    "from warnings import simplefilter\n",
    "simplefilter(action='ignore', category=FutureWarning)"
   ]
  },
  {
   "cell_type": "code",
   "execution_count": 1,
   "metadata": {
    "id": "2n4oMFqlU3He"
   },
   "outputs": [],
   "source": [
    "import requests\n",
    "import pandas as pd\n",
    "from bs4 import BeautifulSoup\n",
    "import urllib.request\n",
    "import re\n",
    "from nltk.stem import WordNetLemmatizer\n",
    "import nltk\n",
    "nltk.download('wordnet')"
   ]
  },
  {
   "cell_type": "code",
   "execution_count": 2,
   "metadata": {
    "colab": {
     "base_uri": "https://localhost:8080/"
    },
    "id": "BudYbebxU3Hf",
    "outputId": "e6a087fa-a928-48fe-9f4b-38dae0da4635"
   },
   "outputs": [
    {
     "name": "stdout",
     "output_type": "stream",
     "text": [
      "/\n",
      "/movies\n",
      "/series\n",
      "/\n",
      "/series\n",
      "/series/Arrow-2193021/season-1/episode-1-Pilot\n",
      "/series/Arrow-2193021/season-1/episode-2-Honor_Thy_Father\n",
      "/series/Arrow-2193021/season-1/episode-3-Lone_Gunmen\n",
      "/series/Arrow-2193021/season-1/episode-4-An_Innocent_Man\n",
      "/series/Arrow-2193021/season-1/episode-5-Damaged\n",
      "/series/Arrow-2193021/season-1/episode-6-Legacies\n",
      "/series/Arrow-2193021/season-1/episode-7-Muse_of_Fire\n",
      "/series/Arrow-2193021/season-1/episode-8-Vendetta\n",
      "/series/Arrow-2193021/season-1/episode-9-Years_End\n",
      "/series/Arrow-2193021/season-1/episode-10-Burned\n",
      "/series/Arrow-2193021/season-1/episode-11-Trust_But_Verify\n",
      "/series/Arrow-2193021/season-1/episode-12-Vertigo\n",
      "/series/Arrow-2193021/season-1/episode-13-Betrayal\n",
      "/series/Arrow-2193021/season-1/episode-14-The_Odyssey\n",
      "/series/Arrow-2193021/season-1/episode-15-Dodger\n",
      "/series/Arrow-2193021/season-1/episode-16-Dead_to_Rights\n",
      "/series/Arrow-2193021/season-1/episode-17-The_Huntress_Returns\n",
      "/series/Arrow-2193021/season-1/episode-18-Salvation\n",
      "/series/Arrow-2193021/season-1/episode-19-Unfinished_Business\n",
      "/series/Arrow-2193021/season-1/episode-20-Home_Invasion\n",
      "/series/Arrow-2193021/season-1/episode-21-The_Undertaking\n",
      "/series/Arrow-2193021/season-1/episode-22-Darkness_on_the_Edge_of_Town\n",
      "/series/Arrow-2193021/season-1/episode-23-Sacrifice\n",
      "/series/Arrow-2193021/season-2/episode-1-City_of_Heroes\n",
      "/series/Arrow-2193021/season-2/episode-2-Identity\n",
      "/series/Arrow-2193021/season-2/episode-3-Broken_Dolls\n",
      "/series/Arrow-2193021/season-2/episode-4-Crucible\n",
      "/series/Arrow-2193021/season-2/episode-5-League_of_Assassins\n",
      "/series/Arrow-2193021/season-2/episode-6-Keep_Your_Enemies_Closer\n",
      "/series/Arrow-2193021/season-2/episode-7-State_v_Queen\n",
      "/series/Arrow-2193021/season-2/episode-8-The_Scientist\n",
      "/series/Arrow-2193021/season-2/episode-9-Three_Ghosts\n",
      "/series/Arrow-2193021/season-2/episode-10-Blast_Radius\n",
      "/series/Arrow-2193021/season-2/episode-11-Blind_Spot\n",
      "/series/Arrow-2193021/season-2/episode-12-Tremors\n",
      "/series/Arrow-2193021/season-2/episode-13-Heir_to_the_Demon\n",
      "/series/Arrow-2193021/season-2/episode-14-Time_of_Death\n",
      "/series/Arrow-2193021/season-2/episode-15-The_Promise\n",
      "/series/Arrow-2193021/season-2/episode-16-Suicide_Squad\n",
      "/series/Arrow-2193021/season-2/episode-17-Birds_of_Prey\n",
      "/series/Arrow-2193021/season-2/episode-18-Deathstroke\n",
      "/series/Arrow-2193021/season-2/episode-19-The_Man_Under_the_Hood\n",
      "/series/Arrow-2193021/season-2/episode-20-Seeing_Red\n",
      "/series/Arrow-2193021/season-2/episode-21-City_of_Blood\n",
      "/series/Arrow-2193021/season-2/episode-22-Streets_of_Fire\n",
      "/series/Arrow-2193021/season-2/episode-23-Unthinkable\n",
      "/series/Arrow-2193021/season-3/episode-1-The_Calm\n",
      "/series/Arrow-2193021/season-3/episode-2-Sara\n",
      "/series/Arrow-2193021/season-3/episode-3-Corto_Maltese\n",
      "/series/Arrow-2193021/season-3/episode-5-The_Secret_Origin_of_Felicity_Smoak\n",
      "/series/Arrow-2193021/season-3/episode-6-Guilty\n",
      "/series/Arrow-2193021/season-3/episode-7-Draw_Back_Your_Bow\n",
      "/series/Arrow-2193021/season-3/episode-8-The_Brave_and_the_Bold\n",
      "/series/Arrow-2193021/season-3/episode-9-The_Climb\n",
      "/series/Arrow-2193021/season-3/episode-10-Left_Behind\n",
      "/series/Arrow-2193021/season-3/episode-11-Midnight_City\n",
      "/series/Arrow-2193021/season-3/episode-12-Uprising\n",
      "/series/Arrow-2193021/season-3/episode-13-Canaries\n",
      "/series/Arrow-2193021/season-3/episode-14-The_Return\n",
      "/series/Arrow-2193021/season-3/episode-15-Nanda_Parbat\n",
      "/series/Arrow-2193021/season-3/episode-16-The_Offer\n",
      "/series/Arrow-2193021/season-3/episode-17-Suicidal_Tendencies\n",
      "/series/Arrow-2193021/season-3/episode-18-Public_Enemy\n",
      "/series/Arrow-2193021/season-3/episode-19-Broken_Arrow\n",
      "/series/Arrow-2193021/season-3/episode-20-The_Fallen\n",
      "/series/Arrow-2193021/season-3/episode-21-Al_Sah-Him\n",
      "/series/Arrow-2193021/season-3/episode-22-This_Is_Your_Sword\n",
      "/series/Arrow-2193021/season-3/episode-23-My_Name_Is_Oliver_Queen\n",
      "/series/Arrow-2193021/season-4/episode-1-Green_Arrow\n",
      "/series/Arrow-2193021/season-4/episode-2-The_Candidate\n",
      "/series/Arrow-2193021/season-4/episode-3-Restoration\n",
      "/series/Arrow-2193021/season-4/episode-4-Beyond_Redemption\n",
      "/series/Arrow-2193021/season-4/episode-5-Haunted\n",
      "/series/Arrow-2193021/season-4/episode-6-Lost_Souls\n",
      "/series/Arrow-2193021/season-4/episode-7-Brotherhood\n",
      "/series/Arrow-2193021/season-4/episode-8-Legends_of_Yesterday\n",
      "/series/Arrow-2193021/season-4/episode-9-Dark_Waters\n",
      "/series/Arrow-2193021/season-4/episode-10-Blood_Debts\n",
      "/series/Arrow-2193021/season-4/episode-11-AWOL\n",
      "/series/Arrow-2193021/season-4/episode-12-Unchained\n",
      "/series/Arrow-2193021/season-4/episode-13-Sins_of_the_Father\n",
      "/series/Arrow-2193021/season-4/episode-14-Code_of_Silence\n",
      "/series/Arrow-2193021/season-4/episode-15-Taken\n",
      "/series/Arrow-2193021/season-4/episode-16-Broken_Hearts\n",
      "/series/Arrow-2193021/season-4/episode-17-Beacon_of_Hope\n",
      "/series/Arrow-2193021/season-4/episode-18-Eleven-Fifty-Nine\n",
      "/series/Arrow-2193021/season-4/episode-19-Canary_Cry\n",
      "/series/Arrow-2193021/season-4/episode-20-Genesis\n",
      "/series/Arrow-2193021/season-4/episode-21-Monument_Point\n",
      "/series/Arrow-2193021/season-4/episode-22-Lost_in_the_Flood\n",
      "/series/Arrow-2193021/season-4/episode-23-Schism\n",
      "/series/Arrow-2193021/season-5/episode-1-Legacy\n",
      "/series/Arrow-2193021/season-5/episode-2-The_Recruits\n",
      "/series/Arrow-2193021/season-5/episode-3-A_Matter_of_Trust\n",
      "/series/Arrow-2193021/season-5/episode-4-Penance\n",
      "/series/Arrow-2193021/season-5/episode-5-Human_Target\n",
      "/series/Arrow-2193021/season-5/episode-6-So_It_Begins\n",
      "/series/Arrow-2193021/season-5/episode-7-Vigilante\n",
      "/series/Arrow-2193021/season-5/episode-8-Invasion\n",
      "/series/Arrow-2193021/season-5/episode-9-What_We_Leave_Behind\n",
      "/series/Arrow-2193021/season-5/episode-10-Who_Are_You\n",
      "/series/Arrow-2193021/season-5/episode-11-Second_Chances\n",
      "/series/Arrow-2193021/season-5/episode-12-Bratva\n",
      "/series/Arrow-2193021/season-5/episode-13-Spectre_of_the_Gun\n",
      "/series/Arrow-2193021/season-5/episode-14-The_Sin-Eater\n",
      "/series/Arrow-2193021/season-5/episode-15-Fighting_Fire_with_Fire\n",
      "/series/Arrow-2193021/season-5/episode-16-Checkmate\n",
      "/series/Arrow-2193021/season-5/episode-17-Kapiushon\n",
      "/series/Arrow-2193021/season-5/episode-18-Disbanded\n",
      "/series/Arrow-2193021/season-5/episode-19-Dangerous_Liaisons\n",
      "/series/Arrow-2193021/season-5/episode-20-Underneath\n",
      "/series/Arrow-2193021/season-5/episode-21-Honor_Thy_Fathers\n",
      "/series/Arrow-2193021/season-5/episode-22-Missing\n",
      "/series/Arrow-2193021/season-5/episode-23-Lian_Yu\n",
      "/series/Arrow-2193021/season-6/episode-1-Fallout\n",
      "/series/Arrow-2193021/season-6/episode-2-Tribute\n",
      "/series/Arrow-2193021/season-6/episode-3-Next_of_Kin\n",
      "/series/Arrow-2193021/season-6/episode-4-Reversal\n",
      "/series/Arrow-2193021/season-6/episode-5-Deathstroke_Returns\n",
      "/series/Arrow-2193021/season-6/episode-6-Promises_Kept\n",
      "/series/Arrow-2193021/season-6/episode-7-Thanksgiving\n",
      "/series/Arrow-2193021/season-6/episode-8-Crisis_on_Earth-X_Part_2\n",
      "/series/Arrow-2193021/season-6/episode-9-Irreconcilable_Differences\n",
      "/series/Arrow-2193021/season-6/episode-10-Divided\n",
      "/series/Arrow-2193021/season-6/episode-11-We_Fall\n",
      "/series/Arrow-2193021/season-6/episode-12-All_for_Nothing\n",
      "/series/Arrow-2193021/season-6/episode-13-The_Devils_Greatest_Trick\n",
      "/series/Arrow-2193021/season-6/episode-14-Collision_Course\n",
      "/series/Arrow-2193021/season-6/episode-15-Doppelgnger\n",
      "/series/Arrow-2193021/season-6/episode-16-The_Thanatos_Guild\n",
      "/series/Arrow-2193021/season-6/episode-17-Brothers_in_Arms\n",
      "/series/Arrow-2193021/season-6/episode-18-Fundamentals\n",
      "/series/Arrow-2193021/season-6/episode-19-The_Dragon\n",
      "/series/Arrow-2193021/season-6/episode-20-Shifting_Allegiances\n",
      "/series/Arrow-2193021/season-6/episode-21-Docket_No_11-19-41-73\n",
      "/series/Arrow-2193021/season-6/episode-22-The_Ties_That_Bind\n",
      "/series/Arrow-2193021/season-6/episode-23-Life_Sentence\n",
      "/series/Arrow-2193021/season-7/episode-1-Inmate_4587\n",
      "/series/Arrow-2193021/season-7/episode-2-The_Longbow_Hunters\n",
      "/series/Arrow-2193021/season-7/episode-3-Crossing_Lines\n",
      "/series/Arrow-2193021/season-7/episode-4-Level_Two\n",
      "/series/Arrow-2193021/season-7/episode-5-The_Demon\n",
      "/series/Arrow-2193021/season-7/episode-6-Episode_76\n",
      "/series/Arrow-2193021/season-7/episode-7-The_Slabside_Redemption\n",
      "/series/Arrow-2193021/season-7/episode-8-Episode_78\n",
      "/series/Arrow-2193021/season-7/episode-9-Elseworlds_Part_2\n",
      "/series/Arrow-2193021/season-7/episode-10-Episode_710\n",
      "/series/Arrow-2193021/season-7/episode-11-Past_Sins\n",
      "/series/Arrow-2193021/season-7/episode-15-Training_Day\n",
      "/series/Arrow-2193021/season-7/episode-16-Star_City_2040\n",
      "/series/Arrow-2193021/season-7/episode-17-Inheritance\n",
      "/series/Arrow-2193021/season-7/episode-18-Lost_Canary\n",
      "/series/Arrow-2193021/season-7/episode-19-Spartan\n",
      "/series/Arrow-2193021/season-7/episode-20-Confessions\n",
      "/series/Arrow-2193021/season-7/episode-21-Episode_721\n",
      "/series/Arrow-2193021/season-7/episode-22-Episode_722\n",
      "/series/Arrow-2193021/season-8/episode-1-Starling_City\n",
      "/series/Arrow-2193021/season-8/episode-2-Welcome_to_Hong_Kong\n",
      "/series/Arrow-2193021/season-8/episode-3-Leap_of_Faith\n",
      "/series/Arrow-2193021/season-8/episode-4-Present_Tense\n",
      "/series/Arrow-2193021/season-8/episode-5-Prochnost\n",
      "/series/Arrow-2193021/season-8/episode-6-Reset\n",
      "/series/Arrow-2193021/season-8/episode-7-Purgatory\n",
      "/series/Arrow-2193021/season-8/episode-8-Crisis_on_Infinite_Earths\n",
      "/series/Arrow-2193021/season-8/episode-9-Green_Arrow__the_Canaries\n",
      "/series/Arrow-2193021/season-8/episode-10-Fadeout\n",
      "/dmca\n"
     ]
    }
   ],
   "source": [
    "parser = 'html.parser'  # or 'lxml' (preferred) or 'html5lib', if installed\n",
    "resp = urllib.request.urlopen(\"https://subslikescript.com/series/Arrow-2193021\")    #missing 4 episodes from season 7 \n",
    "soup = BeautifulSoup(resp, parser, from_encoding=resp.info().get_param('charset'))\n",
    "\n",
    "for link in soup.find_all('a', href=True):\n",
    "    \n",
    "    print(link['href'])"
   ]
  },
  {
   "cell_type": "code",
   "execution_count": 4,
   "metadata": {
    "id": "0K6KOQCzU3Hg"
   },
   "outputs": [],
   "source": [
    "href_tags = soup.find_all('a',href=True)   \n",
    "hrefs = [tag.get('href') for tag in href_tags]"
   ]
  },
  {
   "cell_type": "code",
   "execution_count": 5,
   "metadata": {
    "id": "i43-rb0z8JeD",
    "outputId": "5bd5d10d-9d8b-4505-bbef-22744a1e2131"
   },
   "outputs": [
    {
     "name": "stdout",
     "output_type": "stream",
     "text": [
      "0 /\n",
      "1 /movies\n",
      "2 /series\n",
      "3 /\n",
      "4 /series\n",
      "5 /series/Arrow-2193021/season-1/episode-1-Pilot\n",
      "6 /series/Arrow-2193021/season-1/episode-2-Honor_Thy_Father\n",
      "7 /series/Arrow-2193021/season-1/episode-3-Lone_Gunmen\n",
      "8 /series/Arrow-2193021/season-1/episode-4-An_Innocent_Man\n",
      "9 /series/Arrow-2193021/season-1/episode-5-Damaged\n",
      "10 /series/Arrow-2193021/season-1/episode-6-Legacies\n",
      "11 /series/Arrow-2193021/season-1/episode-7-Muse_of_Fire\n",
      "12 /series/Arrow-2193021/season-1/episode-8-Vendetta\n",
      "13 /series/Arrow-2193021/season-1/episode-9-Years_End\n",
      "14 /series/Arrow-2193021/season-1/episode-10-Burned\n",
      "15 /series/Arrow-2193021/season-1/episode-11-Trust_But_Verify\n",
      "16 /series/Arrow-2193021/season-1/episode-12-Vertigo\n",
      "17 /series/Arrow-2193021/season-1/episode-13-Betrayal\n",
      "18 /series/Arrow-2193021/season-1/episode-14-The_Odyssey\n",
      "19 /series/Arrow-2193021/season-1/episode-15-Dodger\n",
      "20 /series/Arrow-2193021/season-1/episode-16-Dead_to_Rights\n",
      "21 /series/Arrow-2193021/season-1/episode-17-The_Huntress_Returns\n",
      "22 /series/Arrow-2193021/season-1/episode-18-Salvation\n",
      "23 /series/Arrow-2193021/season-1/episode-19-Unfinished_Business\n",
      "24 /series/Arrow-2193021/season-1/episode-20-Home_Invasion\n",
      "25 /series/Arrow-2193021/season-1/episode-21-The_Undertaking\n",
      "26 /series/Arrow-2193021/season-1/episode-22-Darkness_on_the_Edge_of_Town\n",
      "27 /series/Arrow-2193021/season-1/episode-23-Sacrifice\n",
      "28 /series/Arrow-2193021/season-2/episode-1-City_of_Heroes\n",
      "29 /series/Arrow-2193021/season-2/episode-2-Identity\n",
      "30 /series/Arrow-2193021/season-2/episode-3-Broken_Dolls\n",
      "31 /series/Arrow-2193021/season-2/episode-4-Crucible\n",
      "32 /series/Arrow-2193021/season-2/episode-5-League_of_Assassins\n",
      "33 /series/Arrow-2193021/season-2/episode-6-Keep_Your_Enemies_Closer\n",
      "34 /series/Arrow-2193021/season-2/episode-7-State_v_Queen\n",
      "35 /series/Arrow-2193021/season-2/episode-8-The_Scientist\n",
      "36 /series/Arrow-2193021/season-2/episode-9-Three_Ghosts\n",
      "37 /series/Arrow-2193021/season-2/episode-10-Blast_Radius\n",
      "38 /series/Arrow-2193021/season-2/episode-11-Blind_Spot\n",
      "39 /series/Arrow-2193021/season-2/episode-12-Tremors\n",
      "40 /series/Arrow-2193021/season-2/episode-13-Heir_to_the_Demon\n",
      "41 /series/Arrow-2193021/season-2/episode-14-Time_of_Death\n",
      "42 /series/Arrow-2193021/season-2/episode-15-The_Promise\n",
      "43 /series/Arrow-2193021/season-2/episode-16-Suicide_Squad\n",
      "44 /series/Arrow-2193021/season-2/episode-17-Birds_of_Prey\n",
      "45 /series/Arrow-2193021/season-2/episode-18-Deathstroke\n",
      "46 /series/Arrow-2193021/season-2/episode-19-The_Man_Under_the_Hood\n",
      "47 /series/Arrow-2193021/season-2/episode-20-Seeing_Red\n",
      "48 /series/Arrow-2193021/season-2/episode-21-City_of_Blood\n",
      "49 /series/Arrow-2193021/season-2/episode-22-Streets_of_Fire\n",
      "50 /series/Arrow-2193021/season-2/episode-23-Unthinkable\n",
      "51 /series/Arrow-2193021/season-3/episode-1-The_Calm\n",
      "52 /series/Arrow-2193021/season-3/episode-2-Sara\n",
      "53 /series/Arrow-2193021/season-3/episode-3-Corto_Maltese\n",
      "54 /series/Arrow-2193021/season-3/episode-5-The_Secret_Origin_of_Felicity_Smoak\n",
      "55 /series/Arrow-2193021/season-3/episode-6-Guilty\n",
      "56 /series/Arrow-2193021/season-3/episode-7-Draw_Back_Your_Bow\n",
      "57 /series/Arrow-2193021/season-3/episode-8-The_Brave_and_the_Bold\n",
      "58 /series/Arrow-2193021/season-3/episode-9-The_Climb\n",
      "59 /series/Arrow-2193021/season-3/episode-10-Left_Behind\n",
      "60 /series/Arrow-2193021/season-3/episode-11-Midnight_City\n",
      "61 /series/Arrow-2193021/season-3/episode-12-Uprising\n",
      "62 /series/Arrow-2193021/season-3/episode-13-Canaries\n",
      "63 /series/Arrow-2193021/season-3/episode-14-The_Return\n",
      "64 /series/Arrow-2193021/season-3/episode-15-Nanda_Parbat\n",
      "65 /series/Arrow-2193021/season-3/episode-16-The_Offer\n",
      "66 /series/Arrow-2193021/season-3/episode-17-Suicidal_Tendencies\n",
      "67 /series/Arrow-2193021/season-3/episode-18-Public_Enemy\n",
      "68 /series/Arrow-2193021/season-3/episode-19-Broken_Arrow\n",
      "69 /series/Arrow-2193021/season-3/episode-20-The_Fallen\n",
      "70 /series/Arrow-2193021/season-3/episode-21-Al_Sah-Him\n",
      "71 /series/Arrow-2193021/season-3/episode-22-This_Is_Your_Sword\n",
      "72 /series/Arrow-2193021/season-3/episode-23-My_Name_Is_Oliver_Queen\n",
      "73 /series/Arrow-2193021/season-4/episode-1-Green_Arrow\n",
      "74 /series/Arrow-2193021/season-4/episode-2-The_Candidate\n",
      "75 /series/Arrow-2193021/season-4/episode-3-Restoration\n",
      "76 /series/Arrow-2193021/season-4/episode-4-Beyond_Redemption\n",
      "77 /series/Arrow-2193021/season-4/episode-5-Haunted\n",
      "78 /series/Arrow-2193021/season-4/episode-6-Lost_Souls\n",
      "79 /series/Arrow-2193021/season-4/episode-7-Brotherhood\n",
      "80 /series/Arrow-2193021/season-4/episode-8-Legends_of_Yesterday\n",
      "81 /series/Arrow-2193021/season-4/episode-9-Dark_Waters\n",
      "82 /series/Arrow-2193021/season-4/episode-10-Blood_Debts\n",
      "83 /series/Arrow-2193021/season-4/episode-11-AWOL\n",
      "84 /series/Arrow-2193021/season-4/episode-12-Unchained\n",
      "85 /series/Arrow-2193021/season-4/episode-13-Sins_of_the_Father\n",
      "86 /series/Arrow-2193021/season-4/episode-14-Code_of_Silence\n",
      "87 /series/Arrow-2193021/season-4/episode-15-Taken\n",
      "88 /series/Arrow-2193021/season-4/episode-16-Broken_Hearts\n",
      "89 /series/Arrow-2193021/season-4/episode-17-Beacon_of_Hope\n",
      "90 /series/Arrow-2193021/season-4/episode-18-Eleven-Fifty-Nine\n",
      "91 /series/Arrow-2193021/season-4/episode-19-Canary_Cry\n",
      "92 /series/Arrow-2193021/season-4/episode-20-Genesis\n",
      "93 /series/Arrow-2193021/season-4/episode-21-Monument_Point\n",
      "94 /series/Arrow-2193021/season-4/episode-22-Lost_in_the_Flood\n",
      "95 /series/Arrow-2193021/season-4/episode-23-Schism\n",
      "96 /series/Arrow-2193021/season-5/episode-1-Legacy\n",
      "97 /series/Arrow-2193021/season-5/episode-2-The_Recruits\n",
      "98 /series/Arrow-2193021/season-5/episode-3-A_Matter_of_Trust\n",
      "99 /series/Arrow-2193021/season-5/episode-4-Penance\n",
      "100 /series/Arrow-2193021/season-5/episode-5-Human_Target\n",
      "101 /series/Arrow-2193021/season-5/episode-6-So_It_Begins\n",
      "102 /series/Arrow-2193021/season-5/episode-7-Vigilante\n",
      "103 /series/Arrow-2193021/season-5/episode-8-Invasion\n",
      "104 /series/Arrow-2193021/season-5/episode-9-What_We_Leave_Behind\n",
      "105 /series/Arrow-2193021/season-5/episode-10-Who_Are_You\n",
      "106 /series/Arrow-2193021/season-5/episode-11-Second_Chances\n",
      "107 /series/Arrow-2193021/season-5/episode-12-Bratva\n",
      "108 /series/Arrow-2193021/season-5/episode-13-Spectre_of_the_Gun\n",
      "109 /series/Arrow-2193021/season-5/episode-14-The_Sin-Eater\n",
      "110 /series/Arrow-2193021/season-5/episode-15-Fighting_Fire_with_Fire\n",
      "111 /series/Arrow-2193021/season-5/episode-16-Checkmate\n",
      "112 /series/Arrow-2193021/season-5/episode-17-Kapiushon\n",
      "113 /series/Arrow-2193021/season-5/episode-18-Disbanded\n",
      "114 /series/Arrow-2193021/season-5/episode-19-Dangerous_Liaisons\n",
      "115 /series/Arrow-2193021/season-5/episode-20-Underneath\n",
      "116 /series/Arrow-2193021/season-5/episode-21-Honor_Thy_Fathers\n",
      "117 /series/Arrow-2193021/season-5/episode-22-Missing\n",
      "118 /series/Arrow-2193021/season-5/episode-23-Lian_Yu\n",
      "119 /series/Arrow-2193021/season-6/episode-1-Fallout\n",
      "120 /series/Arrow-2193021/season-6/episode-2-Tribute\n",
      "121 /series/Arrow-2193021/season-6/episode-3-Next_of_Kin\n",
      "122 /series/Arrow-2193021/season-6/episode-4-Reversal\n",
      "123 /series/Arrow-2193021/season-6/episode-5-Deathstroke_Returns\n",
      "124 /series/Arrow-2193021/season-6/episode-6-Promises_Kept\n",
      "125 /series/Arrow-2193021/season-6/episode-7-Thanksgiving\n",
      "126 /series/Arrow-2193021/season-6/episode-8-Crisis_on_Earth-X_Part_2\n",
      "127 /series/Arrow-2193021/season-6/episode-9-Irreconcilable_Differences\n",
      "128 /series/Arrow-2193021/season-6/episode-10-Divided\n",
      "129 /series/Arrow-2193021/season-6/episode-11-We_Fall\n",
      "130 /series/Arrow-2193021/season-6/episode-12-All_for_Nothing\n",
      "131 /series/Arrow-2193021/season-6/episode-13-The_Devils_Greatest_Trick\n",
      "132 /series/Arrow-2193021/season-6/episode-14-Collision_Course\n",
      "133 /series/Arrow-2193021/season-6/episode-15-Doppelgnger\n",
      "134 /series/Arrow-2193021/season-6/episode-16-The_Thanatos_Guild\n",
      "135 /series/Arrow-2193021/season-6/episode-17-Brothers_in_Arms\n",
      "136 /series/Arrow-2193021/season-6/episode-18-Fundamentals\n",
      "137 /series/Arrow-2193021/season-6/episode-19-The_Dragon\n",
      "138 /series/Arrow-2193021/season-6/episode-20-Shifting_Allegiances\n",
      "139 /series/Arrow-2193021/season-6/episode-21-Docket_No_11-19-41-73\n",
      "140 /series/Arrow-2193021/season-6/episode-22-The_Ties_That_Bind\n",
      "141 /series/Arrow-2193021/season-6/episode-23-Life_Sentence\n",
      "142 /series/Arrow-2193021/season-7/episode-1-Inmate_4587\n",
      "143 /series/Arrow-2193021/season-7/episode-2-The_Longbow_Hunters\n",
      "144 /series/Arrow-2193021/season-7/episode-3-Crossing_Lines\n",
      "145 /series/Arrow-2193021/season-7/episode-4-Level_Two\n",
      "146 /series/Arrow-2193021/season-7/episode-5-The_Demon\n",
      "147 /series/Arrow-2193021/season-7/episode-6-Episode_76\n",
      "148 /series/Arrow-2193021/season-7/episode-7-The_Slabside_Redemption\n",
      "149 /series/Arrow-2193021/season-7/episode-8-Episode_78\n",
      "150 /series/Arrow-2193021/season-7/episode-9-Elseworlds_Part_2\n",
      "151 /series/Arrow-2193021/season-7/episode-10-Episode_710\n",
      "152 /series/Arrow-2193021/season-7/episode-11-Past_Sins\n",
      "153 /series/Arrow-2193021/season-7/episode-15-Training_Day\n",
      "154 /series/Arrow-2193021/season-7/episode-16-Star_City_2040\n",
      "155 /series/Arrow-2193021/season-7/episode-17-Inheritance\n",
      "156 /series/Arrow-2193021/season-7/episode-18-Lost_Canary\n",
      "157 /series/Arrow-2193021/season-7/episode-19-Spartan\n",
      "158 /series/Arrow-2193021/season-7/episode-20-Confessions\n",
      "159 /series/Arrow-2193021/season-7/episode-21-Episode_721\n",
      "160 /series/Arrow-2193021/season-7/episode-22-Episode_722\n",
      "161 /series/Arrow-2193021/season-8/episode-1-Starling_City\n",
      "162 /series/Arrow-2193021/season-8/episode-2-Welcome_to_Hong_Kong\n",
      "163 /series/Arrow-2193021/season-8/episode-3-Leap_of_Faith\n",
      "164 /series/Arrow-2193021/season-8/episode-4-Present_Tense\n",
      "165 /series/Arrow-2193021/season-8/episode-5-Prochnost\n",
      "166 /series/Arrow-2193021/season-8/episode-6-Reset\n",
      "167 /series/Arrow-2193021/season-8/episode-7-Purgatory\n",
      "168 /series/Arrow-2193021/season-8/episode-8-Crisis_on_Infinite_Earths\n",
      "169 /series/Arrow-2193021/season-8/episode-9-Green_Arrow__the_Canaries\n",
      "170 /series/Arrow-2193021/season-8/episode-10-Fadeout\n",
      "171 /dmca\n"
     ]
    }
   ],
   "source": [
    "for count, value in enumerate(hrefs):\n",
    "     print(count, value)"
   ]
  },
  {
   "cell_type": "code",
   "execution_count": 6,
   "metadata": {
    "colab": {
     "base_uri": "https://localhost:8080/",
     "height": 35
    },
    "id": "eIDuBOTVE6ma",
    "outputId": "8403c215-4c86-4b59-cf79-a939134224d6"
   },
   "outputs": [
    {
     "data": {
      "text/plain": [
       "'/series/Arrow-2193021/season-8/episode-10-Fadeout'"
      ]
     },
     "execution_count": 6,
     "metadata": {},
     "output_type": "execute_result"
    }
   ],
   "source": [
    "hrefs[170] #the last with episode name"
   ]
  },
  {
   "cell_type": "code",
   "execution_count": 7,
   "metadata": {
    "colab": {
     "base_uri": "https://localhost:8080/"
    },
    "id": "pXzlFjAtEwvQ",
    "outputId": "a1ea63bf-899d-44d8-da0c-92bf74e257e7"
   },
   "outputs": [
    {
     "data": {
      "text/plain": [
       "172"
      ]
     },
     "execution_count": 7,
     "metadata": {},
     "output_type": "execute_result"
    }
   ],
   "source": [
    "len(hrefs)"
   ]
  },
  {
   "cell_type": "markdown",
   "metadata": {
    "id": "ad1hBscC8JeH"
   },
   "source": [
    "## List with the episode's names"
   ]
  },
  {
   "cell_type": "code",
   "execution_count": 8,
   "metadata": {
    "id": "XPKHB4SR8JeI"
   },
   "outputs": [],
   "source": [
    "lista=[]   #list with the episode's names\n",
    "\n",
    "for i in range(5,171):\n",
    "    lista.append(hrefs[i])\n",
    "      "
   ]
  },
  {
   "cell_type": "code",
   "execution_count": 9,
   "metadata": {
    "id": "4I6W6bIM8JeJ",
    "outputId": "add9e7b3-0dae-41ef-f4d8-66c81a8eddbe"
   },
   "outputs": [
    {
     "data": {
      "text/plain": [
       "'/series/Arrow-2193021/season-1/episode-1-Pilot'"
      ]
     },
     "execution_count": 9,
     "metadata": {},
     "output_type": "execute_result"
    }
   ],
   "source": [
    "lista[0]  #first episode"
   ]
  },
  {
   "cell_type": "code",
   "execution_count": 10,
   "metadata": {
    "id": "TF8CNQ9R8JeK",
    "outputId": "ba198049-055f-4f9c-99c3-6a2e326dfd9f"
   },
   "outputs": [
    {
     "data": {
      "text/plain": [
       "'/series/Arrow-2193021/season-8/episode-10-Fadeout'"
      ]
     },
     "execution_count": 10,
     "metadata": {},
     "output_type": "execute_result"
    }
   ],
   "source": [
    "lista[165] #last episode"
   ]
  },
  {
   "cell_type": "code",
   "execution_count": 11,
   "metadata": {
    "id": "tSz8aMzQ8JeL",
    "outputId": "ff9fac58-3776-476d-deaf-e494a723f599"
   },
   "outputs": [
    {
     "data": {
      "text/plain": [
       "'/series/Arrow-2193021/season-2/episode-18-Deathstroke'"
      ]
     },
     "execution_count": 11,
     "metadata": {},
     "output_type": "execute_result"
    }
   ],
   "source": [
    "lista[40]   #episode in portuguese"
   ]
  },
  {
   "cell_type": "code",
   "execution_count": 12,
   "metadata": {
    "id": "fCZ8nmH48JeM",
    "outputId": "59ff95d2-347b-407c-c097-55ea4a27d23e"
   },
   "outputs": [
    {
     "data": {
      "text/plain": [
       "166"
      ]
     },
     "execution_count": 12,
     "metadata": {},
     "output_type": "execute_result"
    }
   ],
   "source": [
    "len(lista)        #its missing 4 episodes from : season 7 (12,13,14) and season 3 (episode 4)"
   ]
  },
  {
   "cell_type": "code",
   "execution_count": 13,
   "metadata": {
    "id": "CqIPGkwO8JeM"
   },
   "outputs": [],
   "source": [
    "df_lista = pd.DataFrame(lista) #puting the episode's name in a list"
   ]
  },
  {
   "cell_type": "code",
   "execution_count": 14,
   "metadata": {
    "id": "Qxl9joAR8JeN",
    "outputId": "e5989d54-53e2-476a-857f-408e8d27d079"
   },
   "outputs": [
    {
     "data": {
      "text/html": [
       "<div>\n",
       "<style scoped>\n",
       "    .dataframe tbody tr th:only-of-type {\n",
       "        vertical-align: middle;\n",
       "    }\n",
       "\n",
       "    .dataframe tbody tr th {\n",
       "        vertical-align: top;\n",
       "    }\n",
       "\n",
       "    .dataframe thead th {\n",
       "        text-align: right;\n",
       "    }\n",
       "</style>\n",
       "<table border=\"1\" class=\"dataframe\">\n",
       "  <thead>\n",
       "    <tr style=\"text-align: right;\">\n",
       "      <th></th>\n",
       "      <th>0</th>\n",
       "    </tr>\n",
       "  </thead>\n",
       "  <tbody>\n",
       "    <tr>\n",
       "      <th>0</th>\n",
       "      <td>/series/Arrow-2193021/season-1/episode-1-Pilot</td>\n",
       "    </tr>\n",
       "    <tr>\n",
       "      <th>1</th>\n",
       "      <td>/series/Arrow-2193021/season-1/episode-2-Honor...</td>\n",
       "    </tr>\n",
       "    <tr>\n",
       "      <th>2</th>\n",
       "      <td>/series/Arrow-2193021/season-1/episode-3-Lone_...</td>\n",
       "    </tr>\n",
       "    <tr>\n",
       "      <th>3</th>\n",
       "      <td>/series/Arrow-2193021/season-1/episode-4-An_In...</td>\n",
       "    </tr>\n",
       "    <tr>\n",
       "      <th>4</th>\n",
       "      <td>/series/Arrow-2193021/season-1/episode-5-Damaged</td>\n",
       "    </tr>\n",
       "  </tbody>\n",
       "</table>\n",
       "</div>"
      ],
      "text/plain": [
       "                                                   0\n",
       "0     /series/Arrow-2193021/season-1/episode-1-Pilot\n",
       "1  /series/Arrow-2193021/season-1/episode-2-Honor...\n",
       "2  /series/Arrow-2193021/season-1/episode-3-Lone_...\n",
       "3  /series/Arrow-2193021/season-1/episode-4-An_In...\n",
       "4   /series/Arrow-2193021/season-1/episode-5-Damaged"
      ]
     },
     "execution_count": 14,
     "metadata": {},
     "output_type": "execute_result"
    }
   ],
   "source": [
    "df_lista.head()"
   ]
  },
  {
   "cell_type": "markdown",
   "metadata": {
    "id": "tU7GKlsG8JeO"
   },
   "source": [
    "## List with the scripts"
   ]
  },
  {
   "cell_type": "code",
   "execution_count": 15,
   "metadata": {
    "id": "vLRmU3IykrUI"
   },
   "outputs": [],
   "source": [
    "eps = []    #list with the scripts\n",
    "\n",
    "for i in  range(5,171):\n",
    "  url_base= 'https://subslikescript.com'\n",
    "  url_final = url_base + hrefs[i]\n",
    "  page = requests.get(url_final)\n",
    "  soup = BeautifulSoup(page.content, \"lxml\")\n",
    "  results = soup.find_all(\"div\", {\"class\": \"full-script\"})\n",
    "  eps.append(results)\n"
   ]
  },
  {
   "cell_type": "code",
   "execution_count": 16,
   "metadata": {
    "colab": {
     "base_uri": "https://localhost:8080/"
    },
    "id": "RGC2H80GU3Hi",
    "outputId": "9723e6b6-8b3e-411b-d335-73b57ef0878f"
   },
   "outputs": [
    {
     "data": {
      "text/plain": [
       "166"
      ]
     },
     "execution_count": 16,
     "metadata": {},
     "output_type": "execute_result"
    }
   ],
   "source": [
    "len(eps)"
   ]
  },
  {
   "cell_type": "code",
   "execution_count": 17,
   "metadata": {
    "id": "AtDiVzrQ8JeP",
    "outputId": "66c3963f-b667-4367-b055-322861ae7474"
   },
   "outputs": [
    {
     "data": {
      "text/plain": [
       "list"
      ]
     },
     "execution_count": 17,
     "metadata": {},
     "output_type": "execute_result"
    }
   ],
   "source": [
    "type(eps)"
   ]
  },
  {
   "cell_type": "code",
   "execution_count": 18,
   "metadata": {
    "id": "UWowL8_57Sik"
   },
   "outputs": [],
   "source": [
    "chars = ['<script async=\"\" src=\"https://pagead2.googlesyndication.com/pagead/js/adsbygoogle.js\"></script>\\n<!-- subslikescript native automated \\'subslikescript article\\' -->\\n<ins class=\"adsbygoogle\" data-ad-client=\"ca-pub-6250492176235895\" data-ad-format=\"fluid\" data-ad-layout=\"in-article\" data-ad-slot=\"8633658590\" style=\"display:block; text-align:center;\"></ins>\\n<script>\\r\\n      \\r\\n</script> ','<script async=\"\" src=\"https://pagead2.googlesyndication.com/pagead/js/adsbygoogle.js\"></script>\\n<!-- subslikescript square adaptive -->\\n<ins class=\"adsbygoogle\" data-ad-client=\"ca-pub-6250492176235895\" data-ad-format=\"auto\" data-ad-slot=\"8838522786\" data-full-width-responsive=\"true\" style=\"display:block\"></ins>\\n<script>\\r\\n      \\r\\n</script> ','OpenSubtitles recommends using Nord VPN from 3.49 USD/month ----&gt; osdb.link/vpn ','Greg, move your head!','OpenSubtitles recommends using Nord VPN from 3.49 USD/month ----&gt; osdb.link/vpn','<script async=\"\" src=\"https://pagead2.googlesyndication.com/pagead/js/adsbygoogle.js\"></script>\\n<!-- subslikescript square adaptive -->\\n<ins class=\"adsbygoogle\" data-ad-client=\"ca-pub-6250492176235895\" data-ad-format=\"auto\" data-ad-slot=\"8838522786\" data-full-width-responsive=\"true\" style=\"display:block\"></ins>\\n<script>\\r\\n      \\r\\n</script>','<script async=\"\" src=\"https://pagead2.googlesyndication.com/pagead/js/adsbygoogle.js\"></script>\\n<!-- subslikescript native automated \\'subslikescript article\\' -->\\n<ins class=\"adsbygoogle\" data-ad-client=\"ca-pub-6250492176235895\" data-ad-format=\"fluid\" data-ad-layout=\"in-article\" data-ad-slot=\"8633658590\" style=\"display:block; text-align:center;\"></ins>\\n<script>\\r\\n      \\r\\n</script>','(adsbygoogle = window.adsbygoogle || []).push({});','[<div class=\"full-script\">','<br/><br/>','<br/>', '</div>]','<script async=\"\" src=\"https://pagead2.googlesyndication.com/pagead/js/adsbygoogle.js\"></script>\\n<!-- subslikescript square adaptive -->\\n<ins class=\"adsbygoogle\" data-ad-client=\"ca-pub-6250492176235895\" data-ad-format=\"auto\" data-ad-slot=\"8838522786\" data-full-width-responsive=\"true\" style=\"display:block\"></ins>\\n<script>\\r\\n     \\r\\n</script>','<script async=\"\" src=\"https://pagead2.googlesyndication.com/pagead/js/adsbygoogle.js\"></script>\\n<!-- subslikescript native automated \\'subslikescript article\\' -->\\n<ins class=\"adsbygoogle\" data-ad-client=\"ca-pub-6250492176235895\" data-ad-format=\"fluid\" data-ad-layout=\"in-article\" data-ad-slot=\"8633658590\" style=\"display:block; text-align:center;\"></ins>\\n<script>\\r\\n     \\r\\n</script>', 'OLIVER:My name is Oliver Queen.For five years, I was strandedon an island with only one goal:Survive.Oliver Queen is alive.OLIVER:Now, I will fulfill my father\\'s dying wish......to use the list of names he left me......and bring down thosewho are poisoning my city.To do this,I must become someone else.I must become something else.','My name is Oliver Queen.After five years in hell,I have come home with only one goal:To save my city.Now others have joined my crusade.To them, I\\'m Oliver Queen.To the rest of Starling City......I am someone else.I am something else.']"
   ]
  },
  {
   "cell_type": "code",
   "execution_count": 19,
   "metadata": {
    "id": "jI66aI2tqAO-"
   },
   "outputs": [],
   "source": [
    "txt=[]\n",
    "for i in range(len(eps)):\n",
    "  txt.append(str(eps[i]))\n",
    "  for c in chars:\n",
    "    txt[i] = txt[i].replace(c,'')\n",
    "    txt[i] = txt[i].replace('1','I')\n",
    "    txt[i] = txt[i].replace('\\\\','') #does not work!"
   ]
  },
  {
   "cell_type": "code",
   "execution_count": 20,
   "metadata": {
    "colab": {
     "base_uri": "https://localhost:8080/",
     "height": 1000
    },
    "id": "kUyttTKuvpzN",
    "outputId": "2952f8cc-2efe-4d7b-a6aa-68e42f567802"
   },
   "outputs": [
    {
     "data": {
      "text/plain": [
       "166"
      ]
     },
     "execution_count": 20,
     "metadata": {},
     "output_type": "execute_result"
    }
   ],
   "source": [
    "len(txt)"
   ]
  },
  {
   "cell_type": "code",
   "execution_count": 21,
   "metadata": {
    "id": "GnJZzPEh8JeT"
   },
   "outputs": [],
   "source": [
    "# txt[40]   # in portuguese..."
   ]
  },
  {
   "cell_type": "markdown",
   "metadata": {
    "id": "TCG0Ptul8JeT"
   },
   "source": [
    "## Creating the dataframe with the scripts"
   ]
  },
  {
   "cell_type": "code",
   "execution_count": 22,
   "metadata": {
    "id": "THYAAJw78JeT"
   },
   "outputs": [],
   "source": [
    "df_ep = pd.DataFrame(txt,columns=['Episodios'])"
   ]
  },
  {
   "cell_type": "code",
   "execution_count": 23,
   "metadata": {
    "id": "d-q1Xg118JeU",
    "outputId": "5278b3d3-f8c8-4be7-c7b2-393be60e26b1"
   },
   "outputs": [
    {
     "data": {
      "text/plain": [
       "(166, 1)"
      ]
     },
     "execution_count": 23,
     "metadata": {},
     "output_type": "execute_result"
    }
   ],
   "source": [
    "df_ep.shape"
   ]
  },
  {
   "cell_type": "code",
   "execution_count": 24,
   "metadata": {
    "id": "EzycWYj78JeU",
    "outputId": "7058800b-362f-4379-dcc5-51f324938130"
   },
   "outputs": [
    {
     "data": {
      "text/html": [
       "<div>\n",
       "<style scoped>\n",
       "    .dataframe tbody tr th:only-of-type {\n",
       "        vertical-align: middle;\n",
       "    }\n",
       "\n",
       "    .dataframe tbody tr th {\n",
       "        vertical-align: top;\n",
       "    }\n",
       "\n",
       "    .dataframe thead th {\n",
       "        text-align: right;\n",
       "    }\n",
       "</style>\n",
       "<table border=\"1\" class=\"dataframe\">\n",
       "  <thead>\n",
       "    <tr style=\"text-align: right;\">\n",
       "      <th></th>\n",
       "      <th>Episodios</th>\n",
       "    </tr>\n",
       "  </thead>\n",
       "  <tbody>\n",
       "    <tr>\n",
       "      <th>0</th>\n",
       "      <td>The name of the islandthey found me on is Lian...</td>\n",
       "    </tr>\n",
       "    <tr>\n",
       "      <th>1</th>\n",
       "      <td>[PANTING][GRUNTS][SPEAKING IN FOREIGN LANGUAGE...</td>\n",
       "    </tr>\n",
       "    <tr>\n",
       "      <th>2</th>\n",
       "      <td>My name is Oliver Queen.To my family, I am the...</td>\n",
       "    </tr>\n",
       "    <tr>\n",
       "      <th>3</th>\n",
       "      <td>My name is Oliver Queen.For 5 years, I was str...</td>\n",
       "    </tr>\n",
       "    <tr>\n",
       "      <th>4</th>\n",
       "      <td>OLIVER:My name is Oliver Queen.For five years,...</td>\n",
       "    </tr>\n",
       "  </tbody>\n",
       "</table>\n",
       "</div>"
      ],
      "text/plain": [
       "                                           Episodios\n",
       "0  The name of the islandthey found me on is Lian...\n",
       "1  [PANTING][GRUNTS][SPEAKING IN FOREIGN LANGUAGE...\n",
       "2  My name is Oliver Queen.To my family, I am the...\n",
       "3  My name is Oliver Queen.For 5 years, I was str...\n",
       "4  OLIVER:My name is Oliver Queen.For five years,..."
      ]
     },
     "execution_count": 24,
     "metadata": {},
     "output_type": "execute_result"
    }
   ],
   "source": [
    "df_ep.head()"
   ]
  },
  {
   "cell_type": "code",
   "execution_count": 25,
   "metadata": {
    "id": "H3fTQjWp8JeV"
   },
   "outputs": [],
   "source": [
    "# Removing punctuation\n",
    "df_ep['text_processed'] = \\\n",
    "df_ep['Episodios'].map(lambda x: re.sub('[,\\.!?]', ' ', x))"
   ]
  },
  {
   "cell_type": "code",
   "execution_count": 26,
   "metadata": {
    "id": "oIqRqaPG8JeV"
   },
   "outputs": [],
   "source": [
    "# Convert the titles to lowercase\n",
    "df_ep['text_processed'] = \\\n",
    "df_ep['text_processed'].map(lambda x: x.lower())     "
   ]
  },
  {
   "cell_type": "code",
   "execution_count": 27,
   "metadata": {
    "id": "98T7yREv8JeW",
    "outputId": "eb1f45d4-92c7-48cd-a795-4315cfac5e94"
   },
   "outputs": [
    {
     "data": {
      "text/plain": [
       "0    the name of the islandthey found me on is lian...\n",
       "1    [panting][grunts][speaking in foreign language...\n",
       "2    my name is oliver queen to my family  i am the...\n",
       "3    my name is oliver queen for 5 years  i was str...\n",
       "4    oliver:my name is oliver queen for five years ...\n",
       "Name: text_processed, dtype: object"
      ]
     },
     "execution_count": 27,
     "metadata": {},
     "output_type": "execute_result"
    }
   ],
   "source": [
    "df_ep['text_processed'].head()"
   ]
  },
  {
   "cell_type": "markdown",
   "metadata": {
    "id": "5kP7fC8H8JeW"
   },
   "source": [
    "## First dataset with the raw script, the processed script and the episode name\n"
   ]
  },
  {
   "cell_type": "code",
   "execution_count": 28,
   "metadata": {
    "id": "1CAVBXuk8JeW"
   },
   "outputs": [],
   "source": [
    "df_parcial = pd.concat([df_lista, df_ep], axis=1) "
   ]
  },
  {
   "cell_type": "code",
   "execution_count": 29,
   "metadata": {
    "id": "qQTgSs0p8JeX"
   },
   "outputs": [],
   "source": [
    "df_parcial.columns = ['nome_ep', 'Episodios','text_processed']"
   ]
  },
  {
   "cell_type": "code",
   "execution_count": 30,
   "metadata": {
    "id": "xM7lOyTG8JeX"
   },
   "outputs": [],
   "source": [
    "df_parcial = df_parcial.drop(df_parcial.index[[40]]) #removing line 40"
   ]
  },
  {
   "cell_type": "code",
   "execution_count": 31,
   "metadata": {
    "id": "BDCUUE-E8JeX"
   },
   "outputs": [],
   "source": [
    "df_parcial = df_parcial.reset_index(drop=True)  #reseting the index"
   ]
  },
  {
   "cell_type": "code",
   "execution_count": 32,
   "metadata": {
    "id": "apm8PaB98JeX",
    "outputId": "a124386a-5821-416f-e482-7dd3f93c77d5"
   },
   "outputs": [
    {
     "data": {
      "text/html": [
       "<div>\n",
       "<style scoped>\n",
       "    .dataframe tbody tr th:only-of-type {\n",
       "        vertical-align: middle;\n",
       "    }\n",
       "\n",
       "    .dataframe tbody tr th {\n",
       "        vertical-align: top;\n",
       "    }\n",
       "\n",
       "    .dataframe thead th {\n",
       "        text-align: right;\n",
       "    }\n",
       "</style>\n",
       "<table border=\"1\" class=\"dataframe\">\n",
       "  <thead>\n",
       "    <tr style=\"text-align: right;\">\n",
       "      <th></th>\n",
       "      <th>nome_ep</th>\n",
       "      <th>Episodios</th>\n",
       "      <th>text_processed</th>\n",
       "    </tr>\n",
       "  </thead>\n",
       "  <tbody>\n",
       "    <tr>\n",
       "      <th>160</th>\n",
       "      <td>/series/Arrow-2193021/season-8/episode-6-Reset</td>\n",
       "      <td>PREVIOUSLY ON \"ARROW\"...THIS PLACE LOOKSEXACTL...</td>\n",
       "      <td>previously on \"arrow\"   this place looksexactl...</td>\n",
       "    </tr>\n",
       "    <tr>\n",
       "      <th>161</th>\n",
       "      <td>/series/Arrow-2193021/season-8/episode-7-Purga...</td>\n",
       "      <td>Previously on \"Arrow\"...-I need your help, roy...</td>\n",
       "      <td>previously on \"arrow\"   -i need your help  roy...</td>\n",
       "    </tr>\n",
       "    <tr>\n",
       "      <th>162</th>\n",
       "      <td>/series/Arrow-2193021/season-8/episode-8-Crisi...</td>\n",
       "      <td>Previously on Crisison Infinite Earths...There...</td>\n",
       "      <td>previously on crisison infinite earths   there...</td>\n",
       "    </tr>\n",
       "    <tr>\n",
       "      <th>163</th>\n",
       "      <td>/series/Arrow-2193021/season-8/episode-9-Green...</td>\n",
       "      <td>bianca!bianca bertinelli?who the hell are you...</td>\n",
       "      <td>bianca bianca bertinelli who the hell are you...</td>\n",
       "    </tr>\n",
       "    <tr>\n",
       "      <th>164</th>\n",
       "      <td>/series/Arrow-2193021/season-8/episode-10-Fadeout</td>\n",
       "      <td>[Oliver]My name is Oliver Queen.[gunshot][Oliv...</td>\n",
       "      <td>[oliver]my name is oliver queen [gunshot][oliv...</td>\n",
       "    </tr>\n",
       "  </tbody>\n",
       "</table>\n",
       "</div>"
      ],
      "text/plain": [
       "                                               nome_ep  \\\n",
       "160     /series/Arrow-2193021/season-8/episode-6-Reset   \n",
       "161  /series/Arrow-2193021/season-8/episode-7-Purga...   \n",
       "162  /series/Arrow-2193021/season-8/episode-8-Crisi...   \n",
       "163  /series/Arrow-2193021/season-8/episode-9-Green...   \n",
       "164  /series/Arrow-2193021/season-8/episode-10-Fadeout   \n",
       "\n",
       "                                             Episodios  \\\n",
       "160  PREVIOUSLY ON \"ARROW\"...THIS PLACE LOOKSEXACTL...   \n",
       "161  Previously on \"Arrow\"...-I need your help, roy...   \n",
       "162  Previously on Crisison Infinite Earths...There...   \n",
       "163   bianca!bianca bertinelli?who the hell are you...   \n",
       "164  [Oliver]My name is Oliver Queen.[gunshot][Oliv...   \n",
       "\n",
       "                                        text_processed  \n",
       "160  previously on \"arrow\"   this place looksexactl...  \n",
       "161  previously on \"arrow\"   -i need your help  roy...  \n",
       "162  previously on crisison infinite earths   there...  \n",
       "163   bianca bianca bertinelli who the hell are you...  \n",
       "164  [oliver]my name is oliver queen [gunshot][oliv...  "
      ]
     },
     "execution_count": 32,
     "metadata": {},
     "output_type": "execute_result"
    }
   ],
   "source": [
    "df_parcial.tail()"
   ]
  },
  {
   "cell_type": "code",
   "execution_count": 33,
   "metadata": {
    "id": "zIbPG2_f8JeY",
    "outputId": "334e8e1b-7448-4b2d-a798-10507a5cacb3"
   },
   "outputs": [
    {
     "data": {
      "text/plain": [
       "(165, 3)"
      ]
     },
     "execution_count": 33,
     "metadata": {},
     "output_type": "execute_result"
    }
   ],
   "source": [
    "df_parcial.shape"
   ]
  },
  {
   "cell_type": "code",
   "execution_count": 34,
   "metadata": {
    "id": "6ubeKTbr8JeY",
    "outputId": "3ca32944-8786-4126-f9d2-a3a09f781f5a"
   },
   "outputs": [
    {
     "data": {
      "text/plain": [
       "nome_ep           0\n",
       "Episodios         0\n",
       "text_processed    0\n",
       "dtype: int64"
      ]
     },
     "execution_count": 34,
     "metadata": {},
     "output_type": "execute_result"
    }
   ],
   "source": [
    "df_parcial.isnull().sum()"
   ]
  },
  {
   "cell_type": "markdown",
   "metadata": {
    "id": "hOAtCwYM8JeZ"
   },
   "source": [
    "----------------------------------------------------------------------------"
   ]
  },
  {
   "cell_type": "markdown",
   "metadata": {
    "id": "79m0dKva8JeZ"
   },
   "source": [
    "# Wordcloud"
   ]
  },
  {
   "cell_type": "code",
   "execution_count": 37,
   "metadata": {
    "id": "Oauz0Xqd8JeZ",
    "outputId": "468ae34b-8deb-4535-fd5b-7ed7b639e4f6"
   },
   "outputs": [
    {
     "data": {
      "image/png": "[encoded data removed]",
      "text/plain": [
       "<PIL.Image.Image image mode=RGB size=400x200 at 0x7FE1D9F54670>"
      ]
     },
     "execution_count": 37,
     "metadata": {},
     "output_type": "execute_result"
    }
   ],
   "source": [
    "# Import the wordcloud library\n",
    "from wordcloud import WordCloud\n",
    "\n",
    "# Join the different processed texts together.\n",
    "long_string = ','.join(list(df_parcial['text_processed'].values))\n",
    "\n",
    "# Create a WordCloud object\n",
    "wordcloud = WordCloud(background_color=\"white\", max_words=1000, contour_width=3, contour_color='steelblue')\n",
    "\n",
    "# Generate a word cloud\n",
    "wordcloud.generate(long_string)\n",
    "\n",
    "# Visualize the word cloud\n",
    "wordcloud.to_image()"
   ]
  },
  {
   "cell_type": "code",
   "execution_count": 38,
   "metadata": {
    "id": "5bz9C2r38JeZ"
   },
   "outputs": [],
   "source": [
    "# df_parcial['text_processed'].values #todo o dataset"
   ]
  },
  {
   "cell_type": "markdown",
   "metadata": {
    "id": "arNBBjNQ8Jea"
   },
   "source": [
    "# Tokenization and remotion of stopwords (english) "
   ]
  },
  {
   "cell_type": "code",
   "execution_count": 41,
   "metadata": {
    "id": "LKY7Dlux8Jea",
    "outputId": "5fe9eb44-8da7-4a08-93de-ed6988f4b681"
   },
   "outputs": [
    {
     "name": "stderr",
     "output_type": "stream",
     "text": [
      "[nltk_data] Downloading package stopwords to /home/anna/nltk_data...\n"
     ]
    },
    {
     "name": "stdout",
     "output_type": "stream",
     "text": [
      "['your', 'yours', 'yourself', 'yourselves', 'he', 'him', 'his', 'himself', 'she', \"she's\", 'her', 'hers', 'herself', 'it', \"it's\", 'its', 'itself', 'they', 'them', 'their', 'theirs', 'themselves', 'what', 'which', 'who', 'whom', 'this', 'that', \"that'll\", 'these', 'those', 'am', 'is', 'are', 'was', 'were', 'be', 'been', 'being', 'have', 'has', 'had', 'having', 'do', 'does', 'did', 'doing', 'a', 'an', 'the', 'and', 'but', 'if', 'or', 'because', 'as', 'until', 'while', 'of', 'at']\n"
     ]
    },
    {
     "name": "stderr",
     "output_type": "stream",
     "text": [
      "[nltk_data]   Unzipping corpora/stopwords.zip.\n"
     ]
    }
   ],
   "source": [
    "import gensim\n",
    "from gensim.utils import simple_preprocess\n",
    "import nltk\n",
    "nltk.download('stopwords')\n",
    "from nltk.corpus import stopwords\n",
    "\n",
    "stop_words = stopwords.words('english')\n",
    "stop_words.extend(['from', 'subject','still','work','yes','life','sure','told','said','even','people','year','city','okay','never','good','sorry', 'wa','thought','say','find','mr','uh','two','ha','guy','thing','re','queen','something','thank','maybe','edu','arrow','really', 'look', 'tell', 'mean', 'make','way','see','take',  'use','time','man','data', 'ad', 'would', 'think','script', 'could' ,'like','want', 'come',  'one', 'yeah', 'get','go','got','right','know','gonna','need','oh','well','ok','let','back','going','hey'])\n",
    "print(stopwords.words() [620:680])\n",
    "\n",
    "\n"
   ]
  },
  {
   "cell_type": "code",
   "execution_count": 46,
   "metadata": {
    "id": "DKyrgehD8Jea",
    "outputId": "889d0855-821e-4078-aaec-c78349f21075",
    "scrolled": false
   },
   "outputs": [
    {
     "name": "stdout",
     "output_type": "stream",
     "text": [
      "['name', 'islandthey', 'found', 'lian', 'yu', 'mandarin', 'purgatory', 'stranded', 'five', 'dreamt', 'rescueevery', 'cold', 'black', 'night', 'since', 'five', 'goal', 'survive', 'survive', 'day', 'return', 'home', 'island', 'held', 'many', 'danger', 'live', 'myselfmore', 'forge', 'weapon']\n"
     ]
    }
   ],
   "source": [
    "lemmatizer = WordNetLemmatizer()\n",
    "\n",
    "def sent_to_words(sentences):\n",
    "    for sentence in sentences:\n",
    "        # deacc=True removes punctuations\n",
    "        yield(gensim.utils.simple_preprocess(str(sentence), deacc=True))\n",
    "\n",
    "def remove_stopwords(texts):\n",
    "    return [[word for word in simple_preprocess(str(doc)) \n",
    "             if word not in stop_words] for doc in texts]\n",
    "\n",
    "def Lemmatize(list1):\n",
    "    lemma_list_of_words = []\n",
    "    for i in range(len(list1)):\n",
    "        l1 = list1[i]\n",
    "        l2 = ' '.join([lemmatizer.lemmatize(word) for word in l1])\n",
    "        lemma_list_of_words.append(l2)\n",
    "        lemma_list_of_words[i] = re.sub(\"[^\\w]\", \" \",  str(lemma_list_of_words[i])).split()\n",
    "        \n",
    "    return lemma_list_of_words\n",
    "\n",
    "\n",
    "\n",
    "data = df_parcial.text_processed.values.tolist()   \n",
    "data_words = list(sent_to_words(data))\n",
    "data_words = Lemmatize(data_words)\n",
    "\n",
    "# remove stop words\n",
    "data_words = remove_stopwords(data_words)\n",
    "\n",
    "print(data_words[:1][0][:30]) "
   ]
  },
  {
   "cell_type": "code",
   "execution_count": 47,
   "metadata": {},
   "outputs": [
    {
     "data": {
      "text/plain": [
       "['name',\n",
       " 'islandthey',\n",
       " 'found',\n",
       " 'lian',\n",
       " 'yu',\n",
       " 'mandarin',\n",
       " 'purgatory',\n",
       " 'stranded',\n",
       " 'five',\n",
       " 'dreamt',\n",
       " 'rescueevery',\n",
       " 'cold',\n",
       " 'black',\n",
       " 'night',\n",
       " 'since',\n",
       " 'five',\n",
       " 'goal',\n",
       " 'survive',\n",
       " 'survive',\n",
       " 'day',\n",
       " 'return',\n",
       " 'home',\n",
       " 'island',\n",
       " 'held',\n",
       " 'many',\n",
       " 'danger',\n",
       " 'live',\n",
       " 'myselfmore',\n",
       " 'forge',\n",
       " 'weapon',\n",
       " 'returning',\n",
       " 'boy',\n",
       " 'shipwrecked',\n",
       " 'async',\n",
       " 'src',\n",
       " 'http',\n",
       " 'pagead',\n",
       " 'com',\n",
       " 'pagead',\n",
       " 'adsbygoogle',\n",
       " 'subslikescript',\n",
       " 'native',\n",
       " 'automated',\n",
       " 'subslikescript',\n",
       " 'article',\n",
       " 'class',\n",
       " 'adsbygoogle',\n",
       " 'client',\n",
       " 'ca',\n",
       " 'pub',\n",
       " 'format',\n",
       " 'fluid',\n",
       " 'layout',\n",
       " 'article',\n",
       " 'slot',\n",
       " 'style',\n",
       " 'display',\n",
       " 'block',\n",
       " 'text',\n",
       " 'align',\n",
       " 'center',\n",
       " 'bring',\n",
       " 'justiceto',\n",
       " 'poisoned',\n",
       " 'name',\n",
       " 'oliver',\n",
       " 'oliver',\n",
       " 'alive',\n",
       " 'starling',\n",
       " 'residentwas',\n",
       " 'found',\n",
       " 'fisherman',\n",
       " 'north',\n",
       " 'china',\n",
       " 'seafive',\n",
       " 'day',\n",
       " 'ago',\n",
       " 'five',\n",
       " 'waspresumed',\n",
       " 'dead',\n",
       " 'following',\n",
       " 'accident',\n",
       " 'sea',\n",
       " 'whichclaimed',\n",
       " 'gambit',\n",
       " 'atabloid',\n",
       " 'presence',\n",
       " 'fixture',\n",
       " 'club',\n",
       " 'scene',\n",
       " 'disappearance',\n",
       " 'acquitted',\n",
       " 'assault',\n",
       " 'stemming',\n",
       " 'highly',\n",
       " 'altercation',\n",
       " 'paparazzo',\n",
       " 'son',\n",
       " 'starling',\n",
       " 'citybillionaire',\n",
       " 'robert',\n",
       " 'also',\n",
       " 'board',\n",
       " 'nowofficially',\n",
       " 'confirmed',\n",
       " 'deceased',\n",
       " 'twenty',\n",
       " 'percent',\n",
       " 'body',\n",
       " 'scovered',\n",
       " 'scar',\n",
       " 'tissue',\n",
       " 'async',\n",
       " 'src',\n",
       " 'http',\n",
       " 'pagead',\n",
       " 'com',\n",
       " 'pagead',\n",
       " 'adsbygoogle',\n",
       " 'subslikescript',\n",
       " 'square',\n",
       " 'adaptive',\n",
       " 'class',\n",
       " 'adsbygoogle',\n",
       " 'client',\n",
       " 'ca',\n",
       " 'pub',\n",
       " 'format',\n",
       " 'auto',\n",
       " 'slot',\n",
       " 'full',\n",
       " 'width',\n",
       " 'responsive',\n",
       " 'true',\n",
       " 'style',\n",
       " 'display',\n",
       " 'block',\n",
       " 'second',\n",
       " 'degree',\n",
       " 'burnson',\n",
       " 'arm',\n",
       " 'ray',\n",
       " 'show',\n",
       " 'least',\n",
       " 'fracturesthat',\n",
       " 'properly',\n",
       " 'healed',\n",
       " 'anything',\n",
       " 'aboutwhat',\n",
       " 'happened',\n",
       " 'barely',\n",
       " 'anything',\n",
       " 'moira',\n",
       " 'prepare',\n",
       " 'oliver',\n",
       " 'lostmight',\n",
       " 'found',\n",
       " 'oliver',\n",
       " 'mom',\n",
       " 'beautiful',\n",
       " 'boy',\n",
       " 'room',\n",
       " 'exactly',\n",
       " 'left',\n",
       " 'heart',\n",
       " 'change',\n",
       " 'oliver',\n",
       " 'damn',\n",
       " 'walter',\n",
       " 'walter',\n",
       " 'steele',\n",
       " 'remember',\n",
       " 'walter',\n",
       " 'father',\n",
       " 'friendfrom',\n",
       " 'company',\n",
       " 'raisa',\n",
       " 'welcome',\n",
       " 'home',\n",
       " 'oliver',\n",
       " 'merlyn',\n",
       " 'phoned',\n",
       " 'join',\n",
       " 'dinner',\n",
       " 'wonderful',\n",
       " 'oliver',\n",
       " 'hear',\n",
       " 'si',\n",
       " 'knew',\n",
       " 'knew',\n",
       " 'alive',\n",
       " 'missed',\n",
       " 'much',\n",
       " 'whole',\n",
       " 'laurel',\n",
       " 'lawyer',\n",
       " 'miracle',\n",
       " 'worker',\n",
       " 'win',\n",
       " 'win',\n",
       " 'class',\n",
       " 'actionagainst',\n",
       " 'swindled',\n",
       " 'hundred',\n",
       " 'peopleout',\n",
       " 'saving',\n",
       " 'fit',\n",
       " 'calleda',\n",
       " 'legal',\n",
       " 'aid',\n",
       " 'office',\n",
       " 'bankrupt',\n",
       " 'process',\n",
       " 'legal',\n",
       " 'aid',\n",
       " 'office',\n",
       " 'hunt',\n",
       " 'army',\n",
       " 'lawyersand',\n",
       " 'ready',\n",
       " 'bury',\n",
       " 'army',\n",
       " 'love',\n",
       " 'odds',\n",
       " 'hate',\n",
       " 'news',\n",
       " 'detail',\n",
       " 'castaway',\n",
       " 'storyyou',\n",
       " 'heard',\n",
       " 'son',\n",
       " 'wealthy',\n",
       " 'billionairewill',\n",
       " 'soon',\n",
       " 'become',\n",
       " 'legendary',\n",
       " 'stow',\n",
       " 'jessica',\n",
       " 'detailsand',\n",
       " 'complete',\n",
       " 'castaway',\n",
       " 'story',\n",
       " 'gambit',\n",
       " 'last',\n",
       " 'heardfrom',\n",
       " 'five',\n",
       " 'ago',\n",
       " 'reportedly',\n",
       " 'confirmed',\n",
       " 'survivor',\n",
       " 'accidentthat',\n",
       " 'took',\n",
       " 'seven',\n",
       " 'including',\n",
       " 'local',\n",
       " 'resident',\n",
       " 'sara',\n",
       " 'lance',\n",
       " 'survived',\n",
       " 'sister',\n",
       " 'laurel',\n",
       " 'five',\n",
       " 'everything',\n",
       " 'familiaris',\n",
       " 'unrecognizable',\n",
       " 'face',\n",
       " 'mirroris',\n",
       " 'stranger',\n",
       " 'storm',\n",
       " 'category',\n",
       " 'captain',\n",
       " 'recommending',\n",
       " 'head',\n",
       " 'inform',\n",
       " 'crew',\n",
       " 'trouble',\n",
       " 'ollie',\n",
       " 'keep',\n",
       " 'bottle',\n",
       " 'openeron',\n",
       " 'minute',\n",
       " 'sara',\n",
       " 'son',\n",
       " 'finish',\n",
       " 'either',\n",
       " 'yacht',\n",
       " 'suck',\n",
       " 'tommy',\n",
       " 'merlyn',\n",
       " 'missed',\n",
       " 'buddy',\n",
       " 'else',\n",
       " 'miss',\n",
       " 'super',\n",
       " 'bowl',\n",
       " 'winner',\n",
       " 'giant',\n",
       " 'steelers',\n",
       " 'saint',\n",
       " 'packer',\n",
       " 'giant',\n",
       " 'black',\n",
       " 'president',\n",
       " 'new',\n",
       " 'lost',\n",
       " 'dead',\n",
       " 'cold',\n",
       " 'tomorrow',\n",
       " 'lot',\n",
       " 'catch',\n",
       " 'great',\n",
       " 'idea',\n",
       " 'hoping',\n",
       " 'swingby',\n",
       " 'office',\n",
       " 'plenty',\n",
       " 'consolidatedisn',\n",
       " 'anywhere',\n",
       " 'oliver',\n",
       " 'dude',\n",
       " 'speak',\n",
       " 'russian',\n",
       " 'took',\n",
       " 'russian',\n",
       " 'college',\n",
       " 'realize',\n",
       " 'wanted',\n",
       " 'sleepwith',\n",
       " 'mother',\n",
       " 'walter',\n",
       " 'anything',\n",
       " 'oliver',\n",
       " 'walter',\n",
       " 'marriedand',\n",
       " 'either',\n",
       " 'anything',\n",
       " 'disrespect',\n",
       " 'father',\n",
       " 'believed',\n",
       " 'robert',\n",
       " 'gone',\n",
       " 'fine',\n",
       " 'may',\n",
       " 'excused',\n",
       " 'forget',\n",
       " 'tomorrow',\n",
       " 'buddy',\n",
       " 'sara',\n",
       " 'three',\n",
       " 'getting',\n",
       " 'closer',\n",
       " 'scientific',\n",
       " 'science',\n",
       " 'ivy',\n",
       " 'league',\n",
       " 'drop',\n",
       " 'happen',\n",
       " 'lot',\n",
       " 'science',\n",
       " 'fermentation',\n",
       " 'biology',\n",
       " 'laurel',\n",
       " 'kill',\n",
       " 'kill',\n",
       " 'sister',\n",
       " 'close',\n",
       " 'sara',\n",
       " 'fine',\n",
       " 'sara',\n",
       " 'sara',\n",
       " 'aah',\n",
       " 'sara',\n",
       " 'oliver',\n",
       " 'oliver',\n",
       " 'sara',\n",
       " 'dad',\n",
       " 'sara',\n",
       " 'gone',\n",
       " 'oliver',\n",
       " 'wake',\n",
       " 'oliver',\n",
       " 'oliver',\n",
       " 'oliver',\n",
       " 'sweetheart',\n",
       " 'home',\n",
       " 'home',\n",
       " 'roxies',\n",
       " 'daddy',\n",
       " 'acl',\n",
       " 'tear',\n",
       " 'ollie',\n",
       " 'called',\n",
       " 'speedy',\n",
       " 'worst',\n",
       " 'nickname',\n",
       " 'ever',\n",
       " 'always',\n",
       " 'chasing',\n",
       " 'kid',\n",
       " 'fit',\n",
       " 'pretty',\n",
       " 'doe',\n",
       " 'school',\n",
       " 'speedy',\n",
       " 'froma',\n",
       " 'deserted',\n",
       " 'island',\n",
       " 'souvenir',\n",
       " 'hozen',\n",
       " 'buddhism',\n",
       " 'symbolizes',\n",
       " 'reconnecting',\n",
       " 'kept',\n",
       " 'hope',\n",
       " 'dayit',\n",
       " 'reconnect',\n",
       " 'rock',\n",
       " 'sweet',\n",
       " 'shirt',\n",
       " 'friend',\n",
       " 'castawayand',\n",
       " 'crappy',\n",
       " 'shirt',\n",
       " 'himget',\n",
       " 'much',\n",
       " 'trouble',\n",
       " 'slow',\n",
       " 'ahem',\n",
       " 'awaits',\n",
       " 'noticedhow',\n",
       " 'hot',\n",
       " 'sister',\n",
       " 'gotten',\n",
       " 'funeral',\n",
       " 'blew',\n",
       " 'lucky',\n",
       " 'fish',\n",
       " 'barrel',\n",
       " 'sad',\n",
       " 'huggy',\n",
       " 'counting',\n",
       " 'another',\n",
       " 'target',\n",
       " 'rich',\n",
       " 'environmentfor',\n",
       " 'welcome',\n",
       " 'home',\n",
       " 'bash',\n",
       " 'came',\n",
       " 'dead',\n",
       " 'call',\n",
       " 'party',\n",
       " 'care',\n",
       " 'everything',\n",
       " 'gone',\n",
       " 'crap',\n",
       " 'dad',\n",
       " 'sold',\n",
       " 'factory',\n",
       " 'wanna',\n",
       " 'drive',\n",
       " 'throughthis',\n",
       " 'neighborhood',\n",
       " 'anyway',\n",
       " 'reason',\n",
       " 'miss',\n",
       " 'steak',\n",
       " 'palm',\n",
       " 'drink',\n",
       " 'station',\n",
       " 'meaningless',\n",
       " 'sex',\n",
       " 'laurel',\n",
       " 'everyone',\n",
       " 'happy',\n",
       " 'alive',\n",
       " 'wanna',\n",
       " 'seethe',\n",
       " 'person',\n",
       " 'laurel',\n",
       " 'thisfrom',\n",
       " 'hunt',\n",
       " 'lawyer',\n",
       " 'filed',\n",
       " 'change',\n",
       " 'venue',\n",
       " 'front',\n",
       " 'judge',\n",
       " 'grell',\n",
       " 'hunt',\n",
       " 'funded',\n",
       " 'grell',\n",
       " 'election',\n",
       " 'campaign',\n",
       " 'mm',\n",
       " 'hm',\n",
       " 'grell',\n",
       " 'pocket',\n",
       " 'fun',\n",
       " 'friend',\n",
       " 'lot',\n",
       " 'adam',\n",
       " 'hunt',\n",
       " 'smarter',\n",
       " 'richer',\n",
       " 'willingto',\n",
       " 'commit',\n",
       " 'felony',\n",
       " 'outside',\n",
       " 'law',\n",
       " 'justice',\n",
       " 'dad',\n",
       " 'favorite',\n",
       " 'jingle',\n",
       " 'hello',\n",
       " 'laurel',\n",
       " 'went',\n",
       " 'law',\n",
       " 'school',\n",
       " 'everyone',\n",
       " 'proud',\n",
       " 'adam',\n",
       " 'hunt',\n",
       " 'heavy',\n",
       " 'hitter',\n",
       " 'wannaget',\n",
       " 'ring',\n",
       " 'five',\n",
       " 'wanna',\n",
       " 'talk',\n",
       " 'aboutadam',\n",
       " 'hunt',\n",
       " 'ollie',\n",
       " 'apologize',\n",
       " 'fault',\n",
       " 'wanted',\n",
       " 'ask',\n",
       " 'blame',\n",
       " 'falling',\n",
       " 'spell',\n",
       " 'possibly',\n",
       " 'blame',\n",
       " 'herfor',\n",
       " 'meant',\n",
       " 'sister',\n",
       " 'angrybecause',\n",
       " 'dead',\n",
       " 'grievebecause',\n",
       " 'angry',\n",
       " 'happens',\n",
       " 'sisterdies',\n",
       " 'screwing',\n",
       " 'boyfriend',\n",
       " 'buried',\n",
       " 'empty',\n",
       " 'coffin',\n",
       " 'bodywas',\n",
       " 'bottom',\n",
       " 'ocean',\n",
       " 'left',\n",
       " 'late',\n",
       " 'thisbut',\n",
       " 'hoped',\n",
       " 'rot',\n",
       " 'hella',\n",
       " 'whole',\n",
       " 'lot',\n",
       " 'longer',\n",
       " 'five',\n",
       " 'wasgonna',\n",
       " 'tommy',\n",
       " 'took',\n",
       " 'care',\n",
       " 'call',\n",
       " 'lost',\n",
       " 'sick',\n",
       " 'fishlet',\n",
       " 'leggy',\n",
       " 'model',\n",
       " 'eat',\n",
       " 'sushi',\n",
       " 'hell',\n",
       " 'son',\n",
       " 'drink',\n",
       " 'hell',\n",
       " 'anybody',\n",
       " 'making',\n",
       " 'build',\n",
       " 'failed',\n",
       " 'father',\n",
       " 'survive',\n",
       " 'accident',\n",
       " 'ask',\n",
       " 'question',\n",
       " 'give',\n",
       " 'answer',\n",
       " 'island',\n",
       " 'anything',\n",
       " 'kill',\n",
       " 'delusional',\n",
       " 'zip',\n",
       " 'cuffed',\n",
       " 'chair',\n",
       " 'anymore',\n",
       " 'killed',\n",
       " 'nobody',\n",
       " 'secret',\n",
       " 'story',\n",
       " 'green',\n",
       " 'hood',\n",
       " 'flew',\n",
       " 'single',\n",
       " 'handedly',\n",
       " 'took',\n",
       " 'outthree',\n",
       " 'armed',\n",
       " 'kidnapper',\n",
       " 'ask',\n",
       " 'hood',\n",
       " 'saw',\n",
       " 'movement',\n",
       " 'everything',\n",
       " 'blurry',\n",
       " 'kind',\n",
       " 'funny',\n",
       " 'day',\n",
       " 'backand',\n",
       " 'somebody',\n",
       " 'gunning',\n",
       " 'popular',\n",
       " 'able',\n",
       " 'identify',\n",
       " 'men',\n",
       " 'scrubbed',\n",
       " 'identity',\n",
       " 'untraceable',\n",
       " 'weapon',\n",
       " 'pro',\n",
       " 'figured',\n",
       " 'pay',\n",
       " 'king',\n",
       " 'ransomto',\n",
       " 'boy',\n",
       " 'ransom',\n",
       " 'parent',\n",
       " 'anythingto',\n",
       " 'keep',\n",
       " 'child',\n",
       " 'safe',\n",
       " 'tone',\n",
       " 'appropriate',\n",
       " 'detective',\n",
       " 'oliver',\n",
       " 'anything',\n",
       " 'else',\n",
       " 'touch',\n",
       " 'gentleman',\n",
       " 'coming',\n",
       " 'luck',\n",
       " 'seems',\n",
       " 'run',\n",
       " 'doe',\n",
       " 'different',\n",
       " 'read',\n",
       " 'book',\n",
       " 'missed',\n",
       " 'raisa',\n",
       " 'kitchen',\n",
       " 'island',\n",
       " 'friend',\n",
       " 'either',\n",
       " 'seem',\n",
       " 'different',\n",
       " 'boy',\n",
       " 'heart',\n",
       " 'hope',\n",
       " 'wanna',\n",
       " 'personyou',\n",
       " 'always',\n",
       " 'oliver',\n",
       " 'wanna',\n",
       " 'introduce',\n",
       " 'someone',\n",
       " 'john',\n",
       " 'diggle',\n",
       " 'accompany',\n",
       " 'babysitter',\n",
       " 'darling',\n",
       " 'oliver',\n",
       " 'grown',\n",
       " 'hedoesn',\n",
       " 'feel',\n",
       " 'armed',\n",
       " 'protection',\n",
       " 'understandbut',\n",
       " 'call',\n",
       " 'diggle',\n",
       " 'dig',\n",
       " 'ex',\n",
       " 'military',\n",
       " 'sir',\n",
       " 'th',\n",
       " 'airborne',\n",
       " 'kandahar',\n",
       " 'retired',\n",
       " 'private',\n",
       " 'sectora',\n",
       " 'little',\n",
       " 'four',\n",
       " 'confusion',\n",
       " 'ability',\n",
       " 'keep',\n",
       " 'harmwill',\n",
       " 'outweigh',\n",
       " 'comfort',\n",
       " 'agreement',\n",
       " 'sir',\n",
       " 'sir',\n",
       " 'abduction',\n",
       " 'unexpected',\n",
       " 'forced',\n",
       " 'move',\n",
       " 'plan',\n",
       " 'police',\n",
       " 'true',\n",
       " 'green',\n",
       " 'hoodwas',\n",
       " 'warehouse',\n",
       " 'beginning',\n",
       " 'suit',\n",
       " 'alleges',\n",
       " 'huntcommitted',\n",
       " 'act',\n",
       " 'fraud',\n",
       " 'theft',\n",
       " 'underprivileged',\n",
       " 'laurel',\n",
       " 'lance',\n",
       " 'attorney',\n",
       " 'adam',\n",
       " 'hunt',\n",
       " 'crime',\n",
       " 'deeper',\n",
       " 'thanfraud',\n",
       " 'theft',\n",
       " 'able',\n",
       " 'bully',\n",
       " 'bribe',\n",
       " 'kill',\n",
       " 'anyone',\n",
       " 'gotten',\n",
       " 'met',\n",
       " 'yet',\n",
       " 'remind',\n",
       " 'grell',\n",
       " 'put',\n",
       " 'bench',\n",
       " 'turn',\n",
       " 'cautionary',\n",
       " 'tale',\n",
       " 'hunt',\n",
       " 'attorney',\n",
       " 'laurel',\n",
       " 'lance',\n",
       " 'problemanymore',\n",
       " 'fix',\n",
       " 'situation',\n",
       " 'car',\n",
       " 'missed',\n",
       " 'transfer',\n",
       " 'millioninto',\n",
       " 'starling',\n",
       " 'bank',\n",
       " 'account',\n",
       " 'ii',\n",
       " 'tomorrow',\n",
       " 'night',\n",
       " 'dead',\n",
       " 'wearing',\n",
       " 'hood',\n",
       " 'green',\n",
       " 'hood',\n",
       " 'bow',\n",
       " 'believe',\n",
       " 'maniac',\n",
       " 'put',\n",
       " 'menin',\n",
       " 'hospital',\n",
       " 'thanks',\n",
       " 'statement',\n",
       " 'put',\n",
       " 'apb',\n",
       " 'robin',\n",
       " 'hood',\n",
       " 'pal',\n",
       " 'grocerwho',\n",
       " 'taken',\n",
       " 'register',\n",
       " 'front',\n",
       " 'line',\n",
       " 'first',\n",
       " 'coordinate',\n",
       " 'drakon',\n",
       " 'new',\n",
       " 'head',\n",
       " 'security',\n",
       " 'thanks',\n",
       " 'telling',\n",
       " 'truth',\n",
       " 'first',\n",
       " 'timefor',\n",
       " 'everything',\n",
       " 'hooded',\n",
       " 'comeslooking',\n",
       " 'trouble',\n",
       " 'put',\n",
       " 'seatbelt',\n",
       " 'sir',\n",
       " 'miss',\n",
       " 'party',\n",
       " 'everybody',\n",
       " 'hour',\n",
       " 'lady',\n",
       " 'please',\n",
       " 'give',\n",
       " 'mana',\n",
       " 'proper',\n",
       " 'homecoming',\n",
       " 'much',\n",
       " 'everybody',\n",
       " 'ollie',\n",
       " 'ollie',\n",
       " 'ollie',\n",
       " 'missed',\n",
       " 'tequila',\n",
       " 'hell',\n",
       " 'across',\n",
       " 'street',\n",
       " 'party',\n",
       " 'guythey',\n",
       " 'rescued',\n",
       " 'island',\n",
       " 'oliver',\n",
       " 'bye',\n",
       " 'doe',\n",
       " 'wipe',\n",
       " 'rough',\n",
       " 'estimate',\n",
       " 'sex',\n",
       " 'day',\n",
       " 'wing',\n",
       " 'highly',\n",
       " 'recommend',\n",
       " 'carmen',\n",
       " 'golden',\n",
       " 'chick',\n",
       " 'twilight',\n",
       " 'twilight',\n",
       " 'better',\n",
       " 'knowing',\n",
       " 'minute',\n",
       " 'ollie',\n",
       " 'party',\n",
       " 'sick',\n",
       " 'believe',\n",
       " 'somebody',\n",
       " 'miss',\n",
       " 'anymore',\n",
       " 'ollie',\n",
       " 'love',\n",
       " 'comeback',\n",
       " 'judge',\n",
       " 'especially',\n",
       " 'beeneasy',\n",
       " 'away',\n",
       " 'away',\n",
       " 'died',\n",
       " 'brother',\n",
       " 'father',\n",
       " 'died',\n",
       " 'went',\n",
       " 'funeral',\n",
       " 'mom',\n",
       " 'walter',\n",
       " 'act',\n",
       " 'cool',\n",
       " 'forget',\n",
       " 'last',\n",
       " 'five',\n",
       " 'kind',\n",
       " 'permanently',\n",
       " 'turned',\n",
       " 'outa',\n",
       " 'major',\n",
       " 'disappointment',\n",
       " 'best',\n",
       " 'dowith',\n",
       " 'bounce',\n",
       " 'fun',\n",
       " 'dip',\n",
       " 'must',\n",
       " 'dropped',\n",
       " 'tommy',\n",
       " 'made',\n",
       " 'point',\n",
       " 'havetoo',\n",
       " 'many',\n",
       " 'leave',\n",
       " 'left',\n",
       " 'place',\n",
       " 'quieterthat',\n",
       " 'saying',\n",
       " 'thatyou',\n",
       " 'died',\n",
       " 'wrong',\n",
       " 'trade',\n",
       " 'place',\n",
       " 'sara',\n",
       " 'beenafraid',\n",
       " 'ask',\n",
       " 'died',\n",
       " 'suffer',\n",
       " 'aah',\n",
       " 'sara',\n",
       " 'aah',\n",
       " 'every',\n",
       " 'day',\n",
       " 'guess',\n",
       " 'thingin',\n",
       " 'common',\n",
       " 'believe',\n",
       " 'someone',\n",
       " 'talk',\n",
       " 'happened',\n",
       " 'wrong',\n",
       " 'asked',\n",
       " 'somebody',\n",
       " 'laurel',\n",
       " 'always',\n",
       " 'saw',\n",
       " 'best',\n",
       " 'looking',\n",
       " 'wonderingif',\n",
       " 'island',\n",
       " 'changed',\n",
       " 'somehow',\n",
       " 'made',\n",
       " 'better',\n",
       " 'person',\n",
       " 'stay',\n",
       " 'away',\n",
       " 'otherwise',\n",
       " 'hurt',\n",
       " 'worse',\n",
       " 'gotta',\n",
       " 'roll',\n",
       " 'five',\n",
       " 'debaucheryto',\n",
       " 'catch',\n",
       " 'oliver',\n",
       " 'wrong',\n",
       " 'island',\n",
       " 'change',\n",
       " 'least',\n",
       " 'honest',\n",
       " 'help',\n",
       " 'sir',\n",
       " 'second',\n",
       " 'believe',\n",
       " 'full',\n",
       " 'crap',\n",
       " 'party',\n",
       " 'locked',\n",
       " 'cover',\n",
       " 'elevator',\n",
       " 'hang',\n",
       " 'ready',\n",
       " 'stay',\n",
       " 'corner',\n",
       " 'stay',\n",
       " 'alert',\n",
       " 'past',\n",
       " 'getting',\n",
       " 'clear',\n",
       " 'missed',\n",
       " 'unit',\n",
       " 'converge',\n",
       " 'unit',\n",
       " 'converge',\n",
       " 'lay',\n",
       " 'weaponsor',\n",
       " 'open',\n",
       " 'fire',\n",
       " 'repeat',\n",
       " 'lay',\n",
       " 'weapon',\n",
       " 'saw',\n",
       " 'move',\n",
       " 'search',\n",
       " 'building',\n",
       " ...]"
      ]
     },
     "execution_count": 47,
     "metadata": {},
     "output_type": "execute_result"
    }
   ],
   "source": [
    "data_words[0]"
   ]
  },
  {
   "cell_type": "code",
   "execution_count": 48,
   "metadata": {
    "id": "OL6EEK4B8Jeb",
    "outputId": "dc56cf6f-64db-44da-ce38-7b7c367d429f"
   },
   "outputs": [
    {
     "name": "stdout",
     "output_type": "stream",
     "text": [
      "[(0, 3), (1, 2), (2, 1), (3, 2), (4, 1), (5, 1), (6, 2), (7, 1), (8, 1), (9, 2), (10, 1), (11, 1), (12, 1), (13, 2), (14, 1), (15, 5), (16, 1), (17, 4), (18, 2), (19, 1), (20, 1), (21, 2), (22, 1), (23, 1), (24, 1), (25, 4), (26, 1), (27, 1), (28, 1), (29, 4)]\n"
     ]
    }
   ],
   "source": [
    "import gensim.corpora as corpora\n",
    "\n",
    "# Create Dictionary\n",
    "id2word = corpora.Dictionary(data_words)\n",
    "\n",
    "# Create Corpus\n",
    "texts = data_words\n",
    "\n",
    "# Term Document Frequency\n",
    "corpus = [id2word.doc2bow(text) for text in texts]\n",
    "\n",
    "# View\n",
    "print(corpus[:1][0][:30])\n"
   ]
  },
  {
   "cell_type": "markdown",
   "metadata": {
    "id": "ZFwVudto8Jec"
   },
   "source": [
    "# Model training"
   ]
  },
  {
   "cell_type": "code",
   "execution_count": 49,
   "metadata": {
    "id": "hbLmDPow8Jec",
    "outputId": "4ae9fed3-3b93-4a33-b113-35fb81f97ac0"
   },
   "outputs": [
    {
     "name": "stdout",
     "output_type": "stream",
     "text": [
      "[(0,\n",
      "  '0.009*\"oliver\" + 0.004*\"felicity\" + 0.003*\"thea\" + 0.003*\"help\" + '\n",
      "  '0.003*\"john\" + 0.003*\"laurel\" + 0.003*\"father\" + 0.002*\"friend\" + '\n",
      "  '0.002*\"please\" + 0.002*\"much\"'),\n",
      " (1,\n",
      "  '0.007*\"oliver\" + 0.003*\"felicity\" + 0.003*\"thea\" + 0.003*\"help\" + '\n",
      "  '0.002*\"kill\" + 0.002*\"laurel\" + 0.002*\"friend\" + 0.002*\"father\" + '\n",
      "  '0.002*\"last\" + 0.002*\"someone\"'),\n",
      " (2,\n",
      "  '0.009*\"oliver\" + 0.004*\"laurel\" + 0.004*\"felicity\" + 0.003*\"help\" + '\n",
      "  '0.002*\"father\" + 0.002*\"thea\" + 0.002*\"last\" + 0.002*\"give\" + 0.002*\"stop\" '\n",
      "  '+ 0.002*\"friend\"')]\n"
     ]
    }
   ],
   "source": [
    "from pprint import pprint\n",
    "\n",
    "# number of topics\n",
    "num_topics = 3\n",
    "\n",
    "# Build LDA model\n",
    "lda_model = gensim.models.LdaMulticore(corpus=corpus,\n",
    "                                       id2word=id2word,\n",
    "                                       num_topics=num_topics)\n",
    "\n",
    "# Print the Keyword in the 10 topics\n",
    "pprint(lda_model.print_topics())\n",
    "doc_lda = lda_model[corpus]"
   ]
  },
  {
   "cell_type": "code",
   "execution_count": 52,
   "metadata": {
    "id": "nhxtXWpp8Jec",
    "outputId": "d0ce177b-cbce-4520-bfc8-21a38ae06e74"
   },
   "outputs": [
    {
     "data": {
      "text/html": [
       "\n",
       "<link rel=\"stylesheet\" type=\"text/css\" href=\"https://cdn.jsdelivr.net/gh/bmabey/pyLDAvis@3.3.1/pyLDAvis/js/ldavis.v1.0.0.css\">\n",
       "\n",
       "\n",
       "<div id=\"ldavis_el301841406075899740801862570541\"></div>\n",
       "<script type=\"text/javascript\">\n",
       "\n",
       "var ldavis_el301841406075899740801862570541_data = {\"mdsDat\": {\"x\": [-0.0011482006594854158, -0.0018717298063991538, 0.00301993046588457], \"y\": [0.0018565835919493942, -0.0015819749176576982, -0.00027460867429169645], \"topics\": [1, 2, 3], \"cluster\": [1, 1, 1], \"Freq\": [16.5610932898158, 17.774930590195563, 65.66397611998863]}, \"tinfo\": {\"Term\": [\"oliver\", \"felicity\", \"thea\", \"john\", \"father\", \"help\", \"kill\", \"friend\", \"someone\", \"please\", \"everything\", \"day\", \"adsbygoogle\", \"night\", \"name\", \"much\", \"dead\", \"better\", \"home\", \"last\", \"nothing\", \"diaz\", \"laurel\", \"stop\", \"hell\", \"move\", \"fine\", \"little\", \"found\", \"wait\", \"kao\", \"acknowledged\", \"mogu\", \"nemas\", \"svoju\", \"jos\", \"soldiersmine\", \"dominator\", \"shotand\", \"kapu\", \"legwarmers\", \"su\", \"reci\", \"naci\", \"tamo\", \"rekla\", \"nanotech\", \"mozes\", \"dumber\", \"moj\", \"bred\", \"moze\", \"tata\", \"taj\", \"umrijeti\", \"governmentset\", \"itseriously\", \"ako\", \"znam\", \"moram\", \"ide\", \"foxtrot\", \"na\", \"dobro\", \"skyhawk\", \"ali\", \"ne\", \"po\", \"yorke\", \"john\", \"je\", \"sam\", \"za\", \"bi\", \"diaz\", \"thea\", \"ii\", \"always\", \"si\", \"mi\", \"today\", \"vertigo\", \"minute\", \"malcolm\", \"move\", \"oliver\", \"name\", \"around\", \"father\", \"shado\", \"identity\", \"someone\", \"felicity\", \"bring\", \"came\", \"together\", \"nothing\", \"sister\", \"adsbygoogle\", \"much\", \"help\", \"roy\", \"dead\", \"wait\", \"please\", \"everything\", \"place\", \"hell\", \"else\", \"put\", \"green\", \"friend\", \"wanted\", \"stop\", \"better\", \"little\", \"kill\", \"laurel\", \"fine\", \"pagead\", \"give\", \"last\", \"keep\", \"bora\", \"skyhawk\", \"breatheand\", \"nije\", \"yourseif\", \"controi\", \"purpie\", \"piate\", \"saivati\", \"foxtrot\", \"stvar\", \"mislis\", \"nodeii\", \"bertineiii\", \"vidjela\", \"eariier\", \"iateiy\", \"ciub\", \"nickela\", \"iose\", \"commissioner\", \"cieaned\", \"firefiy\", \"njega\", \"resoived\", \"typicai\", \"otoka\", \"niskorist\", \"gdje\", \"responsibiefor\", \"je\", \"se\", \"probabiy\", \"sto\", \"grunting\", \"heiena\", \"aii\", \"ii\", \"ti\", \"smo\", \"giades\", \"couidn\", \"ra\", \"poiice\", \"wouid\", \"iittie\", \"found\", \"na\", \"floyd\", \"taik\", \"couid\", \"night\", \"day\", \"ne\", \"reaiiy\", \"iook\", \"kill\", \"home\", \"oiiver\", \"best\", \"gone\", \"nothing\", \"five\", \"someone\", \"everything\", \"minute\", \"nice\", \"hard\", \"friend\", \"pub\", \"client\", \"family\", \"thea\", \"last\", \"oliver\", \"phone\", \"problem\", \"felicity\", \"used\", \"hell\", \"father\", \"better\", \"fine\", \"help\", \"first\", \"actually\", \"pagead\", \"long\", \"please\", \"dead\", \"adsbygoogle\", \"new\", \"laurel\", \"heh\", \"keep\", \"stop\", \"john\", \"little\", \"give\", \"much\", \"anything\", \"vince\", \"diver\", \"supposedly\", \"sentimental\", \"sonus\", \"aldrichin\", \"viable\", \"taylor\", \"maximize\", \"boland\", \"morrison\", \"bogus\", \"caitlin\", \"transmit\", \"tina\", \"sean\", \"boomerang\", \"lightning\", \"harkness\", \"cayden\", \"mercs\", \"receiver\", \"withstand\", \"sobel\", \"pre\", \"gregor\", \"closer\", \"building\", \"absolutelyno\", \"advisement\", \"laurel\", \"earth\", \"bianca\", \"gotham\", \"talk\", \"anything\", \"dinah\", \"sara\", \"made\", \"um\", \"catch\", \"oliver\", \"give\", \"might\", \"lance\", \"matter\", \"miss\", \"rene\", \"com\", \"call\", \"secret\", \"million\", \"gave\", \"merlyn\", \"death\", \"keep\", \"killed\", \"kind\", \"security\", \"last\", \"help\", \"little\", \"son\", \"stop\", \"felicity\", \"heh\", \"love\", \"doe\", \"much\", \"first\", \"green\", \"father\", \"pagead\", \"please\", \"dad\", \"friend\", \"kill\", \"thea\", \"fine\", \"john\", \"adsbygoogle\", \"better\"], \"Freq\": [2558.0, 1005.0, 742.0, 599.0, 721.0, 857.0, 623.0, 632.0, 521.0, 596.0, 461.0, 479.0, 515.0, 435.0, 473.0, 576.0, 494.0, 506.0, 487.0, 627.0, 378.0, 415.0, 994.0, 601.0, 441.0, 431.0, 517.0, 586.0, 329.0, 452.0, 2.56493672455474, 0.6234028041439267, 2.2626483962742894, 0.8104806400142388, 1.2304323028423747, 2.011839709475277, 0.4052170846820932, 1.3497256239906672, 0.599450829660042, 1.000810103694925, 0.40732750225649356, 3.5339272585118318, 0.9817682057971016, 0.6060386811900539, 0.7988612205767625, 1.3791366260855225, 1.7899665131856122, 1.156968705729836, 0.4032738823862839, 1.179891737446115, 0.5965135595457215, 1.1768189645384, 0.7748694517554985, 1.3385165342439178, 0.783826515822206, 0.39276215985208773, 0.604735921756639, 1.7367736947338126, 0.7802473973059808, 0.7842736530788533, 0.9738538763544422, 1.2966160837548404, 16.063819700751903, 2.8030454834178946, 1.0935386402562948, 4.7772091792478895, 11.757063218929687, 1.7990094030086545, 2.951689895539425, 136.37755339736304, 22.21887539650749, 15.38226234799312, 4.116698726498073, 3.080506537484552, 89.57438642986914, 149.9753947883076, 38.53607873244089, 73.17617060765316, 7.821518857729091, 6.560584063516056, 31.98999491728068, 18.276979402260796, 56.4778945886651, 47.035387394271964, 83.17244631362671, 418.99892911553735, 89.98239206101614, 49.1976946763058, 130.64380676421746, 16.915173254027124, 10.515734998112656, 96.51662155594825, 172.19316261968115, 42.95305691987462, 59.38931226339167, 41.82913973926321, 70.76123446515474, 48.7130196759624, 92.08211629082369, 100.38700510546107, 141.37649521894957, 73.67970232606393, 86.66197363316942, 79.92652147981477, 101.09799445556114, 80.43507940751363, 75.15386589719469, 77.28312332318826, 73.84059724486296, 78.48523066674599, 87.46195050073231, 101.54414642901199, 71.16600735542855, 95.34424418410795, 83.77183582662562, 92.95216773620164, 95.782345227245, 130.9516199169272, 80.57158540473357, 80.43705278498578, 82.46734898515294, 80.38678506994692, 78.41078767213358, 0.6965679586860991, 1.3024831878190866, 0.6774749434407437, 3.8896229353818446, 5.283906770990578, 1.1659392800030977, 0.6731244040379244, 0.6764891480303048, 2.229347351682662, 1.445146560540544, 0.648366942647636, 0.6406139453062668, 1.3650907898670133, 4.294339211655805, 1.0432163077549923, 1.367041920872094, 1.2852169889837506, 2.7006934223635297, 1.063059877671554, 4.275952531479772, 2.047900465278303, 0.4396904456815756, 0.9247447343737131, 1.2633104662117154, 0.43792656441922656, 0.6397387931854028, 0.6392177750190707, 0.6319802801794063, 1.6921847878440324, 0.6739541108536542, 26.005262373277414, 11.593939869314289, 3.992747949787817, 9.202316007204704, 29.05533703867658, 5.652686182238513, 56.98901304442013, 46.64764685798256, 8.563128733339598, 2.3781605490362545, 7.0892428258297535, 5.309124201096837, 40.89568776379983, 6.483559867462738, 22.275885618030458, 10.953686799330432, 77.03459695936012, 15.848269109757759, 5.448507026210737, 12.535942222600584, 22.124227280577834, 94.83739585502748, 102.01037118414284, 11.907322396452182, 28.83993609796606, 11.498934667518617, 124.77790033011287, 99.70366555178643, 48.61262189842329, 60.072185468977686, 55.58245784500676, 77.32943553916644, 51.58884662299112, 102.34459519221294, 91.14240667589792, 57.92732395665536, 49.3101247386925, 41.41526827450395, 119.51524197353368, 53.62299205782247, 58.42527476495233, 84.5527001526621, 132.90827887957232, 112.07385196385621, 361.14290738347086, 57.95776061977202, 55.781044399957054, 159.32526289462467, 53.57774135665042, 80.70893699868294, 117.30351514321062, 89.12287614948617, 90.33401879965889, 131.08740128465612, 91.32193712812766, 73.51229541406728, 90.08667565510062, 76.88529197214847, 96.52057832392086, 84.1118935156012, 86.04622069482673, 80.31889031605054, 121.58895386357041, 81.5027341034279, 87.08591876282843, 90.03249429147562, 88.08640036104521, 86.56110355639598, 84.62369891916302, 82.39670548343052, 81.39998321136792, 49.61339214595455, 2.562454488747278, 6.705053155224324, 6.557810874043152, 20.34061600176598, 6.527626655716055, 6.502841880644286, 8.958645348533741, 3.2403413189860597, 11.221108205036726, 8.792283144887215, 4.001962013043086, 13.608947373898605, 3.9963079579299574, 19.984768240142216, 5.551921624139523, 20.529446744021374, 11.771190331846032, 33.01570002379514, 178.57106723395358, 6.249161393714891, 7.009600981328955, 3.1088696475142608, 17.037092976665445, 6.160361415708236, 23.11894895344937, 19.181270339142134, 109.72302890817701, 3.0559145607662974, 1.5331512229598123, 742.3102480811144, 102.75383911284791, 26.203072487883947, 14.395024390247775, 360.8496732204853, 397.44226929422604, 212.91149847333608, 381.0636060648985, 353.7759246798521, 287.1039365235067, 80.5783068546822, 1778.0646092851118, 421.07515385002654, 302.5361207491323, 293.2973006515959, 182.53725541020992, 156.21937004146287, 229.64250271711316, 230.2151961880877, 356.3360033717703, 142.8375893872712, 81.22156995532228, 148.13038405988428, 208.0540475842035, 187.53688211802904, 387.323265408537, 333.03657884603126, 300.14677341427273, 139.0531334722005, 435.00267743195155, 584.6449334678263, 407.4600693202668, 330.9109857110305, 416.3380553041188, 673.7032153783747, 340.91902201669103, 333.04977547266384, 327.2710573783452, 393.4970129294697, 361.2286304041903, 356.9570473210658, 473.2480172418254, 361.42778355002685, 398.96670258627637, 325.57292794656365, 411.1058603435, 402.99978785125614, 459.82829628606515, 346.8456002874518, 374.64500762009436, 337.1870516715635, 333.3387414710385], \"Total\": [2558.0, 1005.0, 742.0, 599.0, 721.0, 857.0, 623.0, 632.0, 521.0, 596.0, 461.0, 479.0, 515.0, 435.0, 473.0, 576.0, 494.0, 506.0, 487.0, 627.0, 378.0, 415.0, 994.0, 601.0, 441.0, 431.0, 517.0, 586.0, 329.0, 452.0, 8.360634484962382, 2.0895208065983697, 7.89973988475695, 2.8394777303372676, 4.322481332475373, 7.115217111935798, 1.437930682488549, 4.815134458960402, 2.142714773366924, 3.5938853437652987, 1.4630252618783033, 12.730834789093812, 3.5381280485151194, 2.1867416072291395, 2.8919700037604903, 5.007625059822458, 6.5118977379039045, 4.224267417920142, 1.4767707387074487, 4.321129139656252, 2.186351936672303, 4.3196486281348525, 2.849073317312148, 4.938051208896587, 2.895267189594135, 1.452735315674667, 2.240526737003802, 6.436594009919036, 2.894402664521015, 2.910958416597225, 3.618553031981622, 4.836149978781763, 62.47021248767908, 10.615168640240206, 4.072915725319971, 18.361674723303352, 46.683522540898096, 6.782505158317662, 11.317676324116398, 599.1089613785026, 92.07281373206871, 63.964051128043934, 16.19676818159241, 11.966135284360176, 415.72582508460187, 742.7119699539451, 177.2052966363523, 357.30005039286596, 32.470844217223814, 26.9737681515329, 148.59139161252594, 81.88639712262999, 276.40728573153086, 230.705961474865, 431.19702236232854, 2558.2064457841198, 473.0369613943213, 245.3472827775163, 721.1953391492534, 76.57954642993536, 45.62114581337124, 521.3988536944405, 1005.2216408926805, 215.1299286916598, 310.22276922256697, 210.7391701004073, 378.03794346352936, 249.91423546814514, 515.3153886572139, 576.2807235183614, 857.108829971432, 408.8576360340905, 494.9777119570041, 452.8847333716552, 596.5852753657584, 461.56967821992504, 425.3287673467534, 441.25573391210685, 417.39145436589706, 455.0300235704146, 522.6608936259373, 632.1652487460457, 403.61435756074854, 601.7147937797024, 506.2334534471503, 586.9733406128644, 623.560033408614, 994.8508218616121, 517.7512044918443, 531.9515119901132, 588.1662017543425, 627.4633144657547, 552.8199718434989, 2.1740377961573136, 4.072915725319971, 2.125137148454161, 12.533701857947113, 17.15520013470464, 3.8115202020578725, 2.236369843373871, 2.2501227271595123, 7.448998663090407, 4.836149978781763, 2.176896787771028, 2.1690756265182722, 4.631924960995795, 14.58783571047247, 3.5508697580904816, 4.660943479116893, 4.394208309969663, 9.237228932407543, 3.645833607694404, 14.671862193364266, 7.0372358111657665, 1.5144770415212376, 3.1876361976989362, 4.356626355717552, 1.5112714472524942, 2.2088053758886246, 2.2127604533300556, 2.1964287268587412, 5.894913174394073, 2.3481677915527843, 92.07281373206871, 40.8770499596793, 14.014169693544858, 32.66651770387662, 105.23642849840184, 20.142989424183043, 213.19776344909218, 177.2052966363523, 31.22228462849427, 8.350302188795784, 25.941908359833363, 19.295651708025094, 163.37992484544782, 23.960874325456654, 88.07702487386696, 41.77315418221819, 329.3440603163623, 62.47021248767908, 20.06303120831532, 48.87770467263476, 90.85168243490864, 435.6135324727643, 479.7282664742073, 46.683522540898096, 123.76118603655445, 45.29648352096861, 623.560033408614, 487.1364348239568, 221.65942679100425, 281.9600169600777, 260.7845799448179, 378.03794346352936, 241.0181593072533, 521.3988536944405, 461.56967821992504, 276.40728573153086, 230.88937077834697, 189.56012947461878, 632.1652487460457, 254.56562446342676, 281.5173202566731, 436.63935426849196, 742.7119699539451, 627.4633144657547, 2558.2064457841198, 286.57983179372405, 274.4709748816097, 1005.2216408926805, 261.56819273072045, 441.25573391210685, 721.1953391492534, 506.2334534471503, 517.7512044918443, 857.108829971432, 529.1908083279071, 393.6596234222819, 531.9515119901132, 424.2600568611387, 596.5852753657584, 494.9777119570041, 515.3153886572139, 463.4989456862354, 994.8508218616121, 488.5954276896583, 552.8199718434989, 601.7147937797024, 599.1089613785026, 586.9733406128644, 588.1662017543425, 576.2807235183614, 543.6420710477587, 60.62654456290022, 3.16379938625051, 8.35474605776531, 8.24813640008329, 25.66071786941104, 8.241479918259326, 8.215541316188832, 11.3208812018414, 4.109203169461224, 14.27079134058292, 11.19145914779245, 5.098005997860928, 17.342180322984852, 5.094897311053378, 25.487418590914945, 7.10162082114614, 26.33742120796548, 15.122231455366075, 42.44130641332555, 229.98158386116768, 8.058801509454184, 9.047061460189969, 4.0203021660991025, 22.063787252013547, 7.991230569716277, 30.004451441464802, 24.9347051525838, 142.70829642618332, 3.9802952788364707, 1.9973526417089502, 994.8508218616121, 136.55925300374395, 34.39142587671739, 18.78658797319209, 489.46122513688454, 543.6420710477587, 288.195886978243, 526.2211721817475, 489.69089230619943, 395.9854904902052, 108.341809015358, 2558.2064457841198, 588.1662017543425, 420.563484351428, 407.36917479533145, 250.45964129759165, 213.42181311032226, 317.8531361393011, 319.1650454088973, 501.04814628731, 195.31413469018486, 109.35310676384827, 203.18130174674303, 288.42649379886507, 259.68690671994057, 552.8199718434989, 472.48055048044336, 424.41640241748007, 191.09139314513772, 627.4633144657547, 857.108829971432, 586.9733406128644, 471.56850318165976, 601.7147937797024, 1005.2216408926805, 488.5954276896583, 479.04109221447226, 470.2215803405385, 576.2807235183614, 529.1908083279071, 522.6608936259373, 721.1953391492534, 531.9515119901132, 596.5852753657584, 473.7084548492699, 632.1652487460457, 623.560033408614, 742.7119699539451, 517.7512044918443, 599.1089613785026, 515.3153886572139, 506.2334534471503], \"Category\": [\"Default\", \"Default\", \"Default\", \"Default\", \"Default\", \"Default\", \"Default\", \"Default\", \"Default\", \"Default\", \"Default\", \"Default\", \"Default\", \"Default\", \"Default\", \"Default\", \"Default\", \"Default\", \"Default\", \"Default\", \"Default\", \"Default\", \"Default\", \"Default\", \"Default\", \"Default\", \"Default\", \"Default\", \"Default\", \"Default\", \"Topic1\", \"Topic1\", \"Topic1\", \"Topic1\", \"Topic1\", \"Topic1\", \"Topic1\", \"Topic1\", \"Topic1\", \"Topic1\", \"Topic1\", \"Topic1\", \"Topic1\", \"Topic1\", \"Topic1\", \"Topic1\", \"Topic1\", \"Topic1\", \"Topic1\", \"Topic1\", \"Topic1\", \"Topic1\", \"Topic1\", \"Topic1\", \"Topic1\", \"Topic1\", \"Topic1\", \"Topic1\", \"Topic1\", \"Topic1\", \"Topic1\", \"Topic1\", \"Topic1\", \"Topic1\", \"Topic1\", \"Topic1\", \"Topic1\", \"Topic1\", \"Topic1\", \"Topic1\", \"Topic1\", \"Topic1\", \"Topic1\", \"Topic1\", \"Topic1\", \"Topic1\", \"Topic1\", \"Topic1\", \"Topic1\", \"Topic1\", \"Topic1\", \"Topic1\", \"Topic1\", \"Topic1\", \"Topic1\", \"Topic1\", \"Topic1\", \"Topic1\", \"Topic1\", \"Topic1\", \"Topic1\", \"Topic1\", \"Topic1\", \"Topic1\", \"Topic1\", \"Topic1\", \"Topic1\", \"Topic1\", \"Topic1\", \"Topic1\", \"Topic1\", \"Topic1\", \"Topic1\", \"Topic1\", \"Topic1\", \"Topic1\", \"Topic1\", \"Topic1\", \"Topic1\", \"Topic1\", \"Topic1\", \"Topic1\", \"Topic1\", \"Topic1\", \"Topic1\", \"Topic1\", \"Topic1\", \"Topic1\", \"Topic1\", \"Topic1\", \"Topic1\", \"Topic1\", \"Topic1\", \"Topic2\", \"Topic2\", \"Topic2\", \"Topic2\", \"Topic2\", \"Topic2\", \"Topic2\", \"Topic2\", \"Topic2\", \"Topic2\", \"Topic2\", \"Topic2\", \"Topic2\", \"Topic2\", \"Topic2\", \"Topic2\", \"Topic2\", \"Topic2\", \"Topic2\", \"Topic2\", \"Topic2\", \"Topic2\", \"Topic2\", \"Topic2\", \"Topic2\", \"Topic2\", \"Topic2\", \"Topic2\", \"Topic2\", \"Topic2\", \"Topic2\", \"Topic2\", \"Topic2\", \"Topic2\", \"Topic2\", \"Topic2\", \"Topic2\", \"Topic2\", \"Topic2\", \"Topic2\", \"Topic2\", \"Topic2\", \"Topic2\", \"Topic2\", \"Topic2\", \"Topic2\", \"Topic2\", \"Topic2\", \"Topic2\", \"Topic2\", \"Topic2\", \"Topic2\", \"Topic2\", \"Topic2\", \"Topic2\", \"Topic2\", \"Topic2\", \"Topic2\", \"Topic2\", \"Topic2\", \"Topic2\", \"Topic2\", \"Topic2\", \"Topic2\", \"Topic2\", \"Topic2\", \"Topic2\", \"Topic2\", \"Topic2\", \"Topic2\", \"Topic2\", \"Topic2\", \"Topic2\", \"Topic2\", \"Topic2\", \"Topic2\", \"Topic2\", \"Topic2\", \"Topic2\", \"Topic2\", \"Topic2\", \"Topic2\", \"Topic2\", \"Topic2\", \"Topic2\", \"Topic2\", \"Topic2\", \"Topic2\", \"Topic2\", \"Topic2\", \"Topic2\", \"Topic2\", \"Topic2\", \"Topic2\", \"Topic2\", \"Topic2\", \"Topic2\", \"Topic2\", \"Topic2\", \"Topic2\", \"Topic2\", \"Topic3\", \"Topic3\", \"Topic3\", \"Topic3\", \"Topic3\", \"Topic3\", \"Topic3\", \"Topic3\", \"Topic3\", \"Topic3\", \"Topic3\", \"Topic3\", \"Topic3\", \"Topic3\", \"Topic3\", \"Topic3\", \"Topic3\", \"Topic3\", \"Topic3\", \"Topic3\", \"Topic3\", \"Topic3\", \"Topic3\", \"Topic3\", \"Topic3\", \"Topic3\", \"Topic3\", \"Topic3\", \"Topic3\", \"Topic3\", \"Topic3\", \"Topic3\", \"Topic3\", \"Topic3\", \"Topic3\", \"Topic3\", \"Topic3\", \"Topic3\", \"Topic3\", \"Topic3\", \"Topic3\", \"Topic3\", \"Topic3\", \"Topic3\", \"Topic3\", \"Topic3\", \"Topic3\", \"Topic3\", \"Topic3\", \"Topic3\", \"Topic3\", \"Topic3\", \"Topic3\", \"Topic3\", \"Topic3\", \"Topic3\", \"Topic3\", \"Topic3\", \"Topic3\", \"Topic3\", \"Topic3\", \"Topic3\", \"Topic3\", \"Topic3\", \"Topic3\", \"Topic3\", \"Topic3\", \"Topic3\", \"Topic3\", \"Topic3\", \"Topic3\", \"Topic3\", \"Topic3\", \"Topic3\", \"Topic3\", \"Topic3\", \"Topic3\", \"Topic3\", \"Topic3\", \"Topic3\", \"Topic3\", \"Topic3\"], \"logprob\": [30.0, 29.0, 28.0, 27.0, 26.0, 25.0, 24.0, 23.0, 22.0, 21.0, 20.0, 19.0, 18.0, 17.0, 16.0, 15.0, 14.0, 13.0, 12.0, 11.0, 10.0, 9.0, 8.0, 7.0, 6.0, 5.0, 4.0, 3.0, 2.0, 1.0, -9.8431, -11.2576, -9.9685, -10.9952, -10.5777, -10.086, -11.6884, -10.4852, -11.2968, -10.7843, -11.6832, -9.5227, -10.8035, -11.2859, -11.0096, -10.4636, -10.2029, -10.6393, -11.6932, -10.6196, -11.3017, -10.6222, -11.0401, -10.4935, -11.0286, -11.7196, -11.288, -10.233, -11.0332, -11.0281, -10.8116, -10.5253, -8.0085, -9.7544, -10.6956, -9.2212, -8.3206, -10.1978, -9.7027, -5.8696, -7.6841, -8.0518, -9.37, -9.66, -6.29, -5.7746, -7.1335, -6.4922, -8.7282, -8.904, -7.3196, -7.8794, -6.7512, -6.9342, -6.3641, -4.7472, -6.2854, -6.8892, -5.9126, -7.9569, -8.4322, -6.2153, -5.6364, -7.025, -6.7009, -7.0515, -6.5258, -6.8991, -6.2624, -6.176, -5.8336, -6.4853, -6.323, -6.404, -6.169, -6.3976, -6.4655, -6.4376, -6.4832, -6.4222, -6.3139, -6.1646, -6.52, -6.2276, -6.357, -6.253, -6.223, -5.9102, -6.3959, -6.3976, -6.3727, -6.3982, -6.4231, -11.2174, -10.5915, -11.2452, -9.4975, -9.1911, -10.7023, -11.2516, -11.2466, -10.0541, -10.4876, -11.2891, -11.3011, -10.5446, -9.3985, -10.8135, -10.5431, -10.6049, -9.8623, -10.7946, -9.4028, -10.139, -11.6775, -10.934, -10.6221, -11.6815, -11.3025, -11.3033, -11.3147, -10.3298, -11.2504, -7.5975, -8.4053, -9.4713, -8.6363, -7.4866, -9.1237, -6.8129, -7.0132, -8.7083, -9.9895, -8.8972, -9.1864, -7.1448, -8.9865, -7.7523, -8.4621, -6.5115, -8.0927, -9.1605, -8.3272, -7.7591, -6.3036, -6.2307, -8.3786, -7.494, -8.4135, -6.0293, -6.2536, -6.9719, -6.7602, -6.8379, -6.5077, -6.9125, -6.2274, -6.3434, -6.7966, -6.9577, -7.1321, -6.0724, -6.8738, -6.788, -6.4184, -5.9661, -6.1366, -4.9665, -6.7961, -6.8344, -5.7848, -6.8747, -6.4649, -6.091, -6.3658, -6.3523, -5.9799, -6.3414, -6.5583, -6.355, -6.5135, -6.286, -6.4236, -6.4009, -6.4698, -6.0551, -6.4552, -6.3889, -6.3556, -6.3775, -6.3949, -6.4176, -6.4442, -6.4564, -8.2583, -11.2216, -10.2597, -10.2819, -9.1499, -10.2865, -10.2903, -9.9699, -10.9869, -9.7448, -9.9887, -10.7758, -9.5518, -10.7772, -9.1676, -10.4484, -9.1407, -9.6969, -8.6656, -6.9776, -10.3301, -10.2153, -11.0283, -9.3272, -10.3444, -9.0219, -9.2086, -7.4646, -11.0455, -11.7352, -5.5528, -7.5302, -8.8967, -9.4957, -6.2741, -6.1775, -6.8017, -6.2196, -6.2939, -6.5027, -7.7733, -4.6793, -6.1197, -6.4504, -6.4814, -6.9556, -7.1113, -6.726, -6.7235, -6.2867, -7.2008, -7.7654, -7.1645, -6.8248, -6.9286, -6.2033, -6.3543, -6.4583, -7.2277, -6.0872, -5.7916, -6.1526, -6.3607, -6.1311, -5.6498, -6.3309, -6.3543, -6.3718, -6.1875, -6.273, -6.2849, -6.0029, -6.2725, -6.1737, -6.377, -6.1437, -6.1636, -6.0317, -6.3137, -6.2366, -6.3419, -6.3534], \"loglift\": [30.0, 29.0, 28.0, 27.0, 26.0, 25.0, 24.0, 23.0, 22.0, 21.0, 20.0, 19.0, 18.0, 17.0, 16.0, 15.0, 14.0, 13.0, 12.0, 11.0, 10.0, 9.0, 8.0, 7.0, 6.0, 5.0, 4.0, 3.0, 2.0, 1.0, 0.6165, 0.5886, 0.5478, 0.5444, 0.5417, 0.5349, 0.5316, 0.5263, 0.5243, 0.5197, 0.5195, 0.5165, 0.5161, 0.5149, 0.5116, 0.5086, 0.5067, 0.5031, 0.5001, 0.5, 0.4992, 0.4978, 0.4961, 0.4927, 0.4915, 0.4901, 0.4884, 0.4881, 0.4872, 0.4866, 0.4855, 0.4818, 0.44, 0.4665, 0.4832, 0.4517, 0.4192, 0.471, 0.4541, 0.3181, 0.3765, 0.373, 0.4284, 0.4411, 0.2632, 0.1983, 0.2724, 0.2124, 0.3747, 0.3843, 0.2623, 0.2984, 0.2101, 0.2079, 0.1525, -0.0111, 0.1386, 0.1913, 0.0897, 0.288, 0.3306, 0.1113, 0.0338, 0.187, 0.1449, 0.1811, 0.1224, 0.1629, 0.076, 0.0506, -0.004, 0.0845, 0.0556, 0.0636, 0.023, 0.0509, 0.0648, 0.056, 0.066, 0.0407, 0.0104, -0.0305, 0.0627, -0.0442, -0.0008, -0.0448, -0.0753, -0.2297, -0.0622, -0.091, -0.1665, -0.2567, -0.155, 0.5892, 0.5873, 0.5842, 0.5573, 0.5497, 0.5429, 0.5267, 0.5256, 0.521, 0.5195, 0.5162, 0.5078, 0.5056, 0.5045, 0.5025, 0.5008, 0.498, 0.4976, 0.4949, 0.4945, 0.493, 0.4906, 0.4899, 0.4894, 0.4887, 0.4882, 0.4856, 0.4817, 0.4793, 0.4792, 0.4631, 0.4673, 0.4718, 0.4605, 0.4404, 0.4567, 0.408, 0.3927, 0.4337, 0.4714, 0.4301, 0.4369, 0.3423, 0.4202, 0.3527, 0.3888, 0.2745, 0.3558, 0.4238, 0.3667, 0.3148, 0.2028, 0.1792, 0.3611, 0.2708, 0.3564, 0.1185, 0.141, 0.2101, 0.1812, 0.1816, 0.1405, 0.1858, 0.0992, 0.1052, 0.1647, 0.1836, 0.2063, 0.0617, 0.1698, 0.1549, 0.0856, 0.0067, 0.0049, -0.2304, 0.1291, 0.134, -0.1146, 0.1418, 0.0286, -0.0888, -0.0096, -0.0186, -0.1503, -0.0296, 0.0493, -0.0484, 0.0193, -0.0941, -0.045, -0.0625, -0.0254, -0.3746, -0.0635, -0.1208, -0.1722, -0.1897, -0.1867, -0.2114, -0.2177, -0.1715, 0.2201, 0.2098, 0.2007, 0.1913, 0.1883, 0.1875, 0.1868, 0.1866, 0.1831, 0.1802, 0.1793, 0.1786, 0.1782, 0.1778, 0.1774, 0.1744, 0.1715, 0.1701, 0.1695, 0.1676, 0.1663, 0.1655, 0.1635, 0.1621, 0.1604, 0.1599, 0.1583, 0.1578, 0.1563, 0.1561, 0.1278, 0.1362, 0.1487, 0.1544, 0.1158, 0.1074, 0.1179, 0.0979, 0.0955, 0.0991, 0.1246, 0.0568, 0.0864, 0.0912, 0.0921, 0.1043, 0.1086, 0.0956, 0.0939, 0.0798, 0.1077, 0.1232, 0.1046, 0.094, 0.0951, 0.0648, 0.0709, 0.0742, 0.1027, 0.0543, 0.0381, 0.0556, 0.0664, 0.0523, 0.0204, 0.0607, 0.0571, 0.0582, 0.0391, 0.0388, 0.0393, -0.0007, 0.0341, 0.0183, 0.0456, -0.0097, -0.0159, -0.0588, 0.02, -0.0488, -0.0035, 0.0028]}, \"token.table\": {\"Topic\": [3, 1, 2, 3, 1, 2, 3, 1, 2, 3, 3, 1, 2, 3, 1, 2, 3, 1, 2, 3, 1, 2, 3, 1, 2, 3, 1, 2, 3, 1, 2, 3, 1, 2, 3, 1, 2, 3, 1, 2, 3, 1, 2, 3, 1, 2, 3, 1, 2, 3, 1, 2, 3, 1, 2, 3, 2, 3, 2, 3, 1, 2, 3, 1, 2, 3, 1, 2, 3, 1, 2, 3, 1, 2, 3, 1, 2, 3, 1, 2, 3, 1, 2, 3, 3, 1, 2, 3, 1, 2, 3, 1, 2, 3, 1, 2, 3, 1, 2, 3, 1, 2, 3, 1, 2, 3, 1, 2, 3, 1, 2, 3, 1, 2, 3, 1, 2, 3, 1, 2, 3, 1, 2, 3, 1, 2, 3, 3, 1, 2, 3, 1, 2, 3, 1, 2, 3, 3, 1, 2, 3, 1, 2, 3, 1, 2, 3, 1, 2, 3, 1, 2, 3, 1, 2, 3, 1, 2, 3, 1, 2, 3, 2, 3, 1, 2, 3, 1, 2, 3, 1, 2, 3, 1, 2, 3, 1, 2, 3, 1, 2, 3, 1, 2, 3, 1, 2, 3, 1, 2, 3, 1, 2, 3, 1, 2, 3, 1, 2, 3, 3, 1, 2, 3, 1, 2, 3, 1, 2, 3, 1, 2, 3, 1, 2, 3, 1, 2, 3, 1, 2, 3, 1, 2, 3, 1, 2, 3, 1, 2, 3, 1, 2, 3, 1, 2, 3, 1, 2, 3, 1, 2, 3, 1, 2, 3, 1, 2, 3, 1, 2, 3, 1, 3, 1, 2, 3, 1, 2, 3, 1, 2, 3, 1, 2, 3, 1, 2, 3, 1, 2, 3, 1, 2, 3, 1, 2, 3, 1, 2, 3, 1, 2, 3, 1, 2, 3, 1, 2, 3, 3, 1, 2, 3, 1, 2, 3, 1, 2, 3, 1, 2, 3, 1, 2, 3, 1, 2, 3, 1, 2, 3, 2, 3, 1, 2, 3, 1, 2, 3, 1, 2, 3, 1, 2, 3, 1, 2, 3, 1, 2, 3, 2, 3, 1, 2, 3, 1, 2, 3, 1, 2, 3, 1, 2, 3, 1, 2, 3, 1, 2, 3, 1, 2, 3, 1, 2, 3, 1, 2, 3, 1, 2, 3, 1, 2, 3, 1, 2, 3, 1, 2, 3, 1, 2, 3, 1, 2, 3, 1, 2, 3, 1, 2, 3, 1, 2, 3, 1, 2, 3, 1, 2, 3, 2, 3, 1, 2, 3, 1, 2, 3, 1, 2, 3, 1, 2, 3, 1, 2, 3, 2, 3, 1, 2, 3, 1, 2, 3, 2, 3, 1, 2, 3, 1, 2, 3, 1, 2, 3, 1, 2, 3, 1, 2, 3, 1, 2, 3, 1, 2, 3, 1, 2, 3, 2, 3, 1, 2, 3, 1, 2, 3, 1, 2, 3, 1, 2, 3, 1, 2, 3, 1, 2, 3, 1, 2, 3, 3, 2, 3, 1, 2, 3, 1, 2, 3, 1, 2, 3, 1, 2, 3, 1, 2, 3, 1, 2, 3, 1, 2, 3, 1, 2, 3, 1, 2, 3, 1, 2, 3, 1, 2, 3, 1, 2, 3, 1, 2, 3, 1, 2, 3, 1, 2, 3, 1, 2, 3, 3, 1, 2, 3, 1, 2, 3, 1, 2, 3, 1, 2, 3, 1, 2, 3, 2, 3, 1, 2, 3, 1, 2, 3, 1, 2, 3, 1, 2, 3, 1, 2, 3, 1, 2, 3, 1, 2, 3, 1, 2, 3, 1, 2, 3, 1, 2, 3, 1, 2, 3, 1, 2, 3, 1, 2, 3, 1, 2, 3, 1, 2, 3, 2, 3, 1, 2, 3, 1, 2, 3, 1, 2, 3, 1, 2, 3, 1, 2, 3, 1, 2, 3, 1, 2, 3, 1, 2, 3, 1, 2, 3, 2, 3, 1, 2, 3, 1, 2, 3, 1, 2, 3, 1, 2, 3, 1, 2, 3], \"Freq\": [0.7537129257598615, 0.47857862761747155, 0.47857862761747155, 0.47857862761747155, 0.152415936077949, 0.1879796544961371, 0.6604690563377791, 0.1785314431221034, 0.16688808813587927, 0.6539684383929223, 1.0013254335943325, 0.14540490246466514, 0.2673574013059972, 0.5863100905833272, 0.31072334171114785, 0.31072334171114785, 0.4660850125667218, 0.1213374308884088, 0.1213374308884088, 0.8493620162188615, 0.27230631602760885, 0.21784505282208708, 0.49015136884969596, 0.20431007473895826, 0.16512732067943203, 0.6297228330995289, 0.1195639621391439, 0.148995091281087, 0.7302598918344635, 0.19971690513660081, 0.15080664265416796, 0.6480609778922353, 0.137100529488704, 0.274201058977408, 0.548402117954816, 0.16314369851422256, 0.21279612849681204, 0.6242019769239819, 0.1659313493172166, 0.1758082153480033, 0.6577992776503944, 0.25070751154894777, 0.25070751154894777, 0.5014150230978955, 0.14538507411479393, 0.11630805929183514, 0.7560023853969284, 0.1961551242622292, 0.1961551242622292, 0.7846204970489168, 0.07007319889516042, 0.14014639779032084, 0.7708051878467647, 0.07593757886193964, 0.11390636829290944, 0.7973445780503661, 0.45997360384788816, 0.45997360384788816, 0.47055786527820415, 0.47055786527820415, 0.4573829049325113, 0.4573829049325113, 0.4573829049325113, 0.19987920909707915, 0.1719890868974867, 0.6275277494908299, 0.09810221515216236, 0.13313872056364892, 0.7708031190527043, 0.11532575274570607, 0.11532575274570607, 0.8072802692199424, 0.13371968441847304, 0.1556736624573268, 0.7105105619847224, 0.19018591107241034, 0.16439799092699878, 0.6414745136171128, 0.10153051808873428, 0.15691080068258934, 0.7476338150170434, 0.11305253039606573, 0.10870435615006321, 0.7783231900344526, 0.6602939315577449, 0.21651514914643677, 0.32477272371965515, 0.5412878728660919, 0.1349828137229835, 0.20602639989297486, 0.6571531720724197, 0.12031423598723132, 0.12031423598723132, 0.761990161252465, 0.12532700737561697, 0.1535255840351308, 0.7206302924097976, 0.14210124924524067, 0.28420249849048135, 0.5684049969809627, 0.2623625081299822, 0.2623625081299822, 0.5247250162599644, 0.1320834097772211, 0.2421529179249054, 0.6273961964418003, 0.20730059085469466, 0.2591257385683683, 0.5182514771367366, 0.14565921146996463, 0.1667692421177856, 0.6881869991189633, 0.15008496482637654, 0.21262036683736676, 0.6378611005121003, 0.1757654898359488, 0.1697046108760885, 0.6545749276649128, 0.13477768456669154, 0.14247926654193105, 0.7239487056725146, 0.21648883607768327, 0.12989330164660995, 0.6542773712569984, 0.14226434814836636, 0.11797531309864527, 0.739080637941513, 0.9482269998020854, 0.28261444558002935, 0.18840963038668623, 0.5652288911600587, 0.16162592951382654, 0.14248601680824183, 0.6954168283029116, 0.20767852040748666, 0.20767852040748666, 0.62303556122246, 0.6771531787495026, 0.21454883640628689, 0.21454883640628689, 0.6436465092188607, 0.11716525719104029, 0.13181091433992032, 0.7542513431673218, 0.17729160294482102, 0.17729160294482102, 0.6444789350291467, 0.17332161052806905, 0.19715333197567853, 0.6282908381642502, 0.13512295541670433, 0.19466866458338758, 0.6710343379168536, 0.1816428821552453, 0.16223066574170764, 0.6558555974002368, 0.1711065430776605, 0.158174071798535, 0.6704988955485068, 0.15644579731977412, 0.17382866368863792, 0.6702060699995261, 0.3137120856896629, 0.6274241713793258, 0.14550517278124722, 0.17196065874147398, 0.682173602260133, 0.1701116634441334, 0.21575137802670577, 0.618210679345753, 0.1993716681426564, 0.24921458517832046, 0.548272087392305, 0.1761076241796685, 0.23379805279024954, 0.5920859778454372, 0.20677605210496433, 0.20677605210496433, 0.41355210420992866, 0.16135021689712586, 0.18982378458485397, 0.6501464622031249, 0.13288624380236705, 0.13780795653578806, 0.7284134845463083, 0.16963778268079208, 0.33927556536158415, 0.5089133480423762, 0.1541906610923551, 0.2698336569116215, 0.5782149790963317, 0.13941637543166527, 0.14451697453282375, 0.7157840738625741, 0.17255621482497935, 0.21473662289330764, 0.6135332082665933, 0.10645892712683863, 0.10645892712683863, 0.7452124898878705, 0.6883566395132265, 0.16645592019797248, 0.14923634224645807, 0.6830432587434043, 0.09998516406316081, 0.13331355208421442, 0.7665529244842328, 0.13303378117029704, 0.27556997528132954, 0.5891496023256011, 0.17408724129626926, 0.21629020888324363, 0.6066676590627564, 0.09424780568828334, 0.11780975711035419, 0.7775443969283375, 0.13508108398001892, 0.16782801342972048, 0.6979189338967644, 0.24822532021970664, 0.297870384263648, 0.4964506404394133, 0.1745019816905938, 0.18356701970049477, 0.6413514392004941, 0.16450653064057177, 0.15283940080790712, 0.682527095210883, 0.13959128313728802, 0.2052812987313059, 0.6548473429528658, 0.22757227911366446, 0.22757227911366446, 0.4551445582273289, 0.27635355656301425, 0.27635355656301425, 0.5527071131260285, 0.24111625878488951, 0.1972769390058187, 0.5699111571279207, 0.22008371499206897, 0.2652290924263395, 0.5191718404941115, 0.21544937594947233, 0.2633270150493551, 0.5266540300987101, 0.15453738250474933, 0.24284445822174894, 0.5960727610897474, 0.13631534795252864, 0.2726306959050573, 0.5452613918101146, 0.44632361822973554, 0.44632361822973554, 0.23894132380943475, 0.28238520086569563, 0.4778826476188695, 0.22700378189482376, 0.14688480004959184, 0.6259295456658743, 0.28108769817367824, 0.28108769817367824, 0.4216315472605173, 0.3588244415415917, 0.23921629436106112, 0.47843258872212224, 0.2782503904123731, 0.2782503904123731, 0.5565007808247462, 0.1410947577380245, 0.15737492209241194, 0.70004706723866, 0.15395470340718895, 0.20046185339477726, 0.6462890153447619, 0.15238722509696234, 0.1418047789096733, 0.7047909160734508, 0.13430206673287703, 0.15786383282636424, 0.706852982804616, 0.13010311844686828, 0.14974132500488616, 0.719249315187404, 0.12749749372696784, 0.17849649121775496, 0.6932676221403875, 0.13167803365218775, 0.12263145118753363, 0.745840465419262, 0.683515196939355, 0.13225561359135965, 0.13225561359135965, 0.793533681548158, 0.1584399044476157, 0.14821797512841467, 0.6933875388191353, 0.16263609756358435, 0.18149245670139125, 0.6552584800387892, 0.15865027287883252, 0.14612525133576681, 0.6951386956401477, 0.14294731860405852, 0.13477890039811233, 0.7229050112262388, 0.20372252064722032, 0.1863844337836271, 0.6111675619416609, 0.1157871178356545, 0.15571371019277674, 0.7306566401353369, 0.24335618336708198, 0.7300685501012459, 0.1240879302991704, 0.1240879302991704, 0.7445275817950223, 0.13521642719547375, 0.14561769082589482, 0.72115427837586, 0.2595113875330835, 0.22243833217121442, 0.519022775066167, 0.11413259064567435, 0.1664433613582751, 0.7204619784508194, 0.13717031407615154, 0.11888093886599801, 0.7407196960112183, 0.20259958000669973, 0.2098352792926533, 0.5860916421622385, 0.46102588022952734, 0.46102588022952734, 0.13119558676753537, 0.13588114343780447, 0.7309468405619827, 0.25317289292766804, 0.25317289292766804, 0.5063457858553361, 0.23142099383763165, 0.23142099383763165, 0.4628419876752633, 0.34352946929724726, 0.34352946929724726, 0.34352946929724726, 0.08935385339786127, 0.08935385339786127, 0.8041846805807514, 0.19248741455885174, 0.16001965788627434, 0.6470360079749354, 0.23150031080925723, 0.23150031080925723, 0.46300062161851446, 0.23672743722563838, 0.23672743722563838, 0.47345487445127676, 0.17352653996384076, 0.1422917627703494, 0.6819593020578942, 0.2561220678280174, 0.2561220678280174, 0.4962365064167837, 0.457301400720645, 0.457301400720645, 0.457301400720645, 0.19025997405089967, 0.15854997837574974, 0.6511119111964122, 0.307130130185947, 0.307130130185947, 0.4606951952789205, 0.25705001137151, 0.25705001137151, 0.4926791884620609, 0.352177440701823, 0.352177440701823, 0.352177440701823, 0.15534015917425678, 0.1726001768602853, 0.6709831875443591, 0.16024990615752457, 0.2122228486951001, 0.6236753104509065, 0.2742856936448046, 0.2742856936448046, 0.5485713872896092, 0.1561016702442584, 0.21808321578241982, 0.6244066809770336, 0.2393546642485214, 0.3191395523313619, 0.4787093284970428, 0.45528452062733965, 0.45528452062733965, 0.2295354061492144, 0.2295354061492144, 0.4590708122984288, 0.21589296208827505, 0.21589296208827505, 0.6476788862648252, 0.1878118353663344, 0.20368325807334856, 0.60840453710221, 0.1443656173945257, 0.22105985163536748, 0.6361110016446289, 0.16378662507496405, 0.14111449081637714, 0.695018184685647, 0.451924201056227, 0.451924201056227, 0.1503896467945125, 0.16918835264382656, 0.6786332811602376, 0.15353487970385352, 0.20238688688235237, 0.6455443805730205, 0.444420203364805, 0.444420203364805, 0.17633418136247417, 0.1669296916898089, 0.6583142770865703, 0.16929683679852517, 0.1625920115787816, 0.6688063156694212, 0.29487629619379185, 0.14743814809689593, 0.5897525923875837, 0.16693881640831013, 0.2504082246124652, 0.5425511533270079, 0.1251371727140022, 0.1251371727140022, 0.7508230362840133, 0.21406905051120126, 0.28542540068160166, 0.49949445119280295, 0.12387466476069302, 0.20402885960584732, 0.670380538704927, 0.15320214613502578, 0.21212604849465108, 0.6363781454839532, 0.447153230474331, 0.447153230474331, 0.17141726031168078, 0.14284771692640066, 0.68347138406324, 0.1836210907085374, 0.25094882396833446, 0.569225381196466, 0.177761709503188, 0.23432225343602056, 0.5898456724423966, 0.11053312773438395, 0.11053312773438395, 0.7737318941406877, 0.28263533322929896, 0.28263533322929896, 0.5652706664585979, 0.19969546203114782, 0.19969546203114782, 0.39939092406229565, 0.13528260416834453, 0.1415748183157094, 0.7236046269469592, 0.6616944969204636, 0.42586394532680527, 0.42586394532680527, 0.18099209474916078, 0.15408786444860986, 0.6652682401590775, 0.134246231638485, 0.26849246327697, 0.53698492655394, 0.23450672268979394, 0.218872941177141, 0.5315485714301996, 0.13112357245893674, 0.14632630549765405, 0.7240301609689116, 0.2201724441679991, 0.2935632588906655, 0.4892720981511091, 0.14081292499063738, 0.14081292499063738, 0.8448775499438242, 0.10751910010666174, 0.16383862873396074, 0.732153872154887, 0.12036125553038929, 0.15175984392962127, 0.7274006312488743, 0.12123950811360273, 0.12123950811360273, 0.8486765567952191, 0.22199139055431397, 0.18281643928002325, 0.5876242691143605, 0.466697673637945, 0.466697673637945, 0.466697673637945, 0.24637486929756158, 0.24637486929756158, 0.49274973859512317, 0.1960672624679105, 0.16405628084049653, 0.6402196325482792, 0.24552435342163612, 0.24552435342163612, 0.49104870684327223, 0.23951229006820227, 0.23951229006820227, 0.47902458013640453, 0.09064626925359241, 0.13596940388038864, 0.7704932886555356, 0.6954438153231101, 0.18603800010815844, 0.19562758774259958, 0.6194873611848987, 0.1399584568407343, 0.15904370095537987, 0.7019128668830765, 0.11691021331777167, 0.11691021331777167, 0.7794014221184777, 0.2448990759443765, 0.2755114604374235, 0.489798151888753, 0.15788210790572826, 0.14957252327911097, 0.6913574409345574, 0.4593695050760407, 0.4593695050760407, 0.31419777777861824, 0.23564833333396368, 0.47129666666792736, 0.11969244703380914, 0.11969244703380914, 0.8378471292366639, 0.2313485988908426, 0.2313485988908426, 0.4626971977816852, 0.14321458110366425, 0.26596993633537647, 0.593317550286609, 0.20250903801855288, 0.20250903801855288, 0.40501807603710577, 0.13892826746589143, 0.12258376541108068, 0.7375456552233354, 0.3457850526456632, 0.3457850526456632, 0.3457850526456632, 0.35099131844855885, 0.35099131844855885, 0.35099131844855885, 0.08833234641110312, 0.08833234641110312, 0.794991117699928, 0.2019625454660457, 0.17907345697989385, 0.6193518060958735, 0.16014202866618127, 0.2882556515991263, 0.5444828974650163, 0.0784700887956109, 0.11770513319341636, 0.784700887956109, 0.21535567876936465, 0.208625813807822, 0.5720385217311248, 0.19929849766414556, 0.18031768836279838, 0.6216215046191207, 0.1962748096670173, 0.1962748096670173, 0.7850992386680692, 0.45273341459416266, 0.45273341459416266, 0.12626725271702036, 0.148995358206084, 0.7247740305956968, 0.3453912659923391, 0.3453912659923391, 0.3453912659923391, 0.14910069757659627, 0.206447119721441, 0.6461030228319172, 0.2198167294263036, 0.18318060785525297, 0.5861779451368095, 0.1217205247363904, 0.1217205247363904, 0.8520436731547328, 0.28162114302321267, 0.28162114302321267, 0.5632422860464253, 0.09896655076185287, 0.0824721256348774, 0.8247212563487739, 0.17664538922390396, 0.16560505239740997, 0.6557960074937434, 0.17591049146291504, 0.16600004123965223, 0.6565673272911619, 0.24873752237640873, 0.7462125671292262, 0.18165917868948486, 0.24978137069804165, 0.5676849334046401, 0.2650720796465451, 0.17671471976436343, 0.618501519175272, 0.17487408928159676, 0.29145681546932795, 0.5246222678447903, 0.24696284809126245, 0.24696284809126245, 0.4939256961825249, 0.34549443042524514, 0.34549443042524514, 0.34549443042524514], \"Term\": [\"absolutelyno\", \"acknowledged\", \"acknowledged\", \"acknowledged\", \"actually\", \"actually\", \"actually\", \"adsbygoogle\", \"adsbygoogle\", \"adsbygoogle\", \"advisement\", \"aii\", \"aii\", \"aii\", \"ako\", \"ako\", \"ako\", \"aldrichin\", \"aldrichin\", \"aldrichin\", \"ali\", \"ali\", \"ali\", \"always\", \"always\", \"always\", \"anything\", \"anything\", \"anything\", \"around\", \"around\", \"around\", \"bertineiii\", \"bertineiii\", \"bertineiii\", \"best\", \"best\", \"best\", \"better\", \"better\", \"better\", \"bi\", \"bi\", \"bi\", \"bianca\", \"bianca\", \"bianca\", \"bogus\", \"bogus\", \"bogus\", \"boland\", \"boland\", \"boland\", \"boomerang\", \"boomerang\", \"boomerang\", \"bora\", \"bora\", \"breatheand\", \"breatheand\", \"bred\", \"bred\", \"bred\", \"bring\", \"bring\", \"bring\", \"building\", \"building\", \"building\", \"caitlin\", \"caitlin\", \"caitlin\", \"call\", \"call\", \"call\", \"came\", \"came\", \"came\", \"catch\", \"catch\", \"catch\", \"cayden\", \"cayden\", \"cayden\", \"cieaned\", \"ciub\", \"ciub\", \"ciub\", \"client\", \"client\", \"client\", \"closer\", \"closer\", \"closer\", \"com\", \"com\", \"com\", \"commissioner\", \"commissioner\", \"commissioner\", \"controi\", \"controi\", \"controi\", \"couid\", \"couid\", \"couid\", \"couidn\", \"couidn\", \"couidn\", \"dad\", \"dad\", \"dad\", \"day\", \"day\", \"day\", \"dead\", \"dead\", \"dead\", \"death\", \"death\", \"death\", \"diaz\", \"diaz\", \"diaz\", \"dinah\", \"dinah\", \"dinah\", \"diver\", \"dobro\", \"dobro\", \"dobro\", \"doe\", \"doe\", \"doe\", \"dominator\", \"dominator\", \"dominator\", \"dumber\", \"eariier\", \"eariier\", \"eariier\", \"earth\", \"earth\", \"earth\", \"else\", \"else\", \"else\", \"everything\", \"everything\", \"everything\", \"family\", \"family\", \"family\", \"father\", \"father\", \"father\", \"felicity\", \"felicity\", \"felicity\", \"fine\", \"fine\", \"fine\", \"firefiy\", \"firefiy\", \"first\", \"first\", \"first\", \"five\", \"five\", \"five\", \"floyd\", \"floyd\", \"floyd\", \"found\", \"found\", \"found\", \"foxtrot\", \"foxtrot\", \"foxtrot\", \"friend\", \"friend\", \"friend\", \"gave\", \"gave\", \"gave\", \"gdje\", \"gdje\", \"gdje\", \"giades\", \"giades\", \"giades\", \"give\", \"give\", \"give\", \"gone\", \"gone\", \"gone\", \"gotham\", \"gotham\", \"gotham\", \"governmentset\", \"green\", \"green\", \"green\", \"gregor\", \"gregor\", \"gregor\", \"grunting\", \"grunting\", \"grunting\", \"hard\", \"hard\", \"hard\", \"harkness\", \"harkness\", \"harkness\", \"heh\", \"heh\", \"heh\", \"heiena\", \"heiena\", \"heiena\", \"hell\", \"hell\", \"hell\", \"help\", \"help\", \"help\", \"home\", \"home\", \"home\", \"iateiy\", \"iateiy\", \"iateiy\", \"ide\", \"ide\", \"ide\", \"identity\", \"identity\", \"identity\", \"ii\", \"ii\", \"ii\", \"iittie\", \"iittie\", \"iittie\", \"iook\", \"iook\", \"iook\", \"iose\", \"iose\", \"iose\", \"itseriously\", \"itseriously\", \"je\", \"je\", \"je\", \"john\", \"john\", \"john\", \"jos\", \"jos\", \"jos\", \"kao\", \"kao\", \"kao\", \"kapu\", \"kapu\", \"kapu\", \"keep\", \"keep\", \"keep\", \"kill\", \"kill\", \"kill\", \"killed\", \"killed\", \"killed\", \"kind\", \"kind\", \"kind\", \"lance\", \"lance\", \"lance\", \"last\", \"last\", \"last\", \"laurel\", \"laurel\", \"laurel\", \"legwarmers\", \"lightning\", \"lightning\", \"lightning\", \"little\", \"little\", \"little\", \"long\", \"long\", \"long\", \"love\", \"love\", \"love\", \"made\", \"made\", \"made\", \"malcolm\", \"malcolm\", \"malcolm\", \"matter\", \"matter\", \"matter\", \"maximize\", \"maximize\", \"mercs\", \"mercs\", \"mercs\", \"merlyn\", \"merlyn\", \"merlyn\", \"mi\", \"mi\", \"mi\", \"might\", \"might\", \"might\", \"million\", \"million\", \"million\", \"minute\", \"minute\", \"minute\", \"mislis\", \"mislis\", \"miss\", \"miss\", \"miss\", \"mogu\", \"mogu\", \"mogu\", \"moj\", \"moj\", \"moj\", \"moram\", \"moram\", \"moram\", \"morrison\", \"morrison\", \"morrison\", \"move\", \"move\", \"move\", \"moze\", \"moze\", \"moze\", \"mozes\", \"mozes\", \"mozes\", \"much\", \"much\", \"much\", \"na\", \"na\", \"na\", \"naci\", \"naci\", \"naci\", \"name\", \"name\", \"name\", \"nanotech\", \"nanotech\", \"nanotech\", \"ne\", \"ne\", \"ne\", \"nemas\", \"nemas\", \"nemas\", \"new\", \"new\", \"new\", \"nice\", \"nice\", \"nice\", \"nickela\", \"nickela\", \"nickela\", \"night\", \"night\", \"night\", \"nije\", \"nije\", \"nije\", \"niskorist\", \"niskorist\", \"njega\", \"njega\", \"njega\", \"nodeii\", \"nodeii\", \"nodeii\", \"nothing\", \"nothing\", \"nothing\", \"oiiver\", \"oiiver\", \"oiiver\", \"oliver\", \"oliver\", \"oliver\", \"otoka\", \"otoka\", \"pagead\", \"pagead\", \"pagead\", \"phone\", \"phone\", \"phone\", \"piate\", \"piate\", \"place\", \"place\", \"place\", \"please\", \"please\", \"please\", \"po\", \"po\", \"po\", \"poiice\", \"poiice\", \"poiice\", \"pre\", \"pre\", \"pre\", \"probabiy\", \"probabiy\", \"probabiy\", \"problem\", \"problem\", \"problem\", \"pub\", \"pub\", \"pub\", \"purpie\", \"purpie\", \"put\", \"put\", \"put\", \"ra\", \"ra\", \"ra\", \"reaiiy\", \"reaiiy\", \"reaiiy\", \"receiver\", \"receiver\", \"receiver\", \"reci\", \"reci\", \"reci\", \"rekla\", \"rekla\", \"rekla\", \"rene\", \"rene\", \"rene\", \"resoived\", \"responsibiefor\", \"responsibiefor\", \"roy\", \"roy\", \"roy\", \"saivati\", \"saivati\", \"saivati\", \"sam\", \"sam\", \"sam\", \"sara\", \"sara\", \"sara\", \"se\", \"se\", \"se\", \"sean\", \"sean\", \"sean\", \"secret\", \"secret\", \"secret\", \"security\", \"security\", \"security\", \"sentimental\", \"sentimental\", \"sentimental\", \"shado\", \"shado\", \"shado\", \"shotand\", \"shotand\", \"shotand\", \"si\", \"si\", \"si\", \"sister\", \"sister\", \"sister\", \"skyhawk\", \"skyhawk\", \"skyhawk\", \"smo\", \"smo\", \"smo\", \"sobel\", \"sobel\", \"sobel\", \"soldiersmine\", \"someone\", \"someone\", \"someone\", \"son\", \"son\", \"son\", \"sonus\", \"sonus\", \"sonus\", \"sto\", \"sto\", \"sto\", \"stop\", \"stop\", \"stop\", \"stvar\", \"stvar\", \"su\", \"su\", \"su\", \"supposedly\", \"supposedly\", \"supposedly\", \"svoju\", \"svoju\", \"svoju\", \"taik\", \"taik\", \"taik\", \"taj\", \"taj\", \"taj\", \"talk\", \"talk\", \"talk\", \"tamo\", \"tamo\", \"tamo\", \"tata\", \"tata\", \"tata\", \"taylor\", \"taylor\", \"taylor\", \"thea\", \"thea\", \"thea\", \"ti\", \"ti\", \"ti\", \"tina\", \"tina\", \"tina\", \"today\", \"today\", \"today\", \"together\", \"together\", \"together\", \"transmit\", \"transmit\", \"transmit\", \"typicai\", \"typicai\", \"um\", \"um\", \"um\", \"umrijeti\", \"umrijeti\", \"umrijeti\", \"used\", \"used\", \"used\", \"vertigo\", \"vertigo\", \"vertigo\", \"viable\", \"viable\", \"viable\", \"vidjela\", \"vidjela\", \"vidjela\", \"vince\", \"vince\", \"vince\", \"wait\", \"wait\", \"wait\", \"wanted\", \"wanted\", \"wanted\", \"withstand\", \"withstand\", \"wouid\", \"wouid\", \"wouid\", \"yorke\", \"yorke\", \"yorke\", \"yourseif\", \"yourseif\", \"yourseif\", \"za\", \"za\", \"za\", \"znam\", \"znam\", \"znam\"]}, \"R\": 30, \"lambda.step\": 0.01, \"plot.opts\": {\"xlab\": \"PC1\", \"ylab\": \"PC2\"}, \"topic.order\": [1, 2, 3]};\n",
       "\n",
       "function LDAvis_load_lib(url, callback){\n",
       "  var s = document.createElement('script');\n",
       "  s.src = url;\n",
       "  s.async = true;\n",
       "  s.onreadystatechange = s.onload = callback;\n",
       "  s.onerror = function(){console.warn(\"failed to load library \" + url);};\n",
       "  document.getElementsByTagName(\"head\")[0].appendChild(s);\n",
       "}\n",
       "\n",
       "if(typeof(LDAvis) !== \"undefined\"){\n",
       "   // already loaded: just create the visualization\n",
       "   !function(LDAvis){\n",
       "       new LDAvis(\"#\" + \"ldavis_el301841406075899740801862570541\", ldavis_el301841406075899740801862570541_data);\n",
       "   }(LDAvis);\n",
       "}else if(typeof define === \"function\" && define.amd){\n",
       "   // require.js is available: use it to load d3/LDAvis\n",
       "   require.config({paths: {d3: \"https://d3js.org/d3.v5\"}});\n",
       "   require([\"d3\"], function(d3){\n",
       "      window.d3 = d3;\n",
       "      LDAvis_load_lib(\"https://cdn.jsdelivr.net/gh/bmabey/pyLDAvis@3.3.1/pyLDAvis/js/ldavis.v3.0.0.js\", function(){\n",
       "        new LDAvis(\"#\" + \"ldavis_el301841406075899740801862570541\", ldavis_el301841406075899740801862570541_data);\n",
       "      });\n",
       "    });\n",
       "}else{\n",
       "    // require.js not available: dynamically load d3 & LDAvis\n",
       "    LDAvis_load_lib(\"https://d3js.org/d3.v5.js\", function(){\n",
       "         LDAvis_load_lib(\"https://cdn.jsdelivr.net/gh/bmabey/pyLDAvis@3.3.1/pyLDAvis/js/ldavis.v3.0.0.js\", function(){\n",
       "                 new LDAvis(\"#\" + \"ldavis_el301841406075899740801862570541\", ldavis_el301841406075899740801862570541_data);\n",
       "            })\n",
       "         });\n",
       "}\n",
       "</script>"
      ],
      "text/plain": [
       "PreparedData(topic_coordinates=              x         y  topics  cluster       Freq\n",
       "topic                                                \n",
       "0     -0.001148  0.001857       1        1  16.561093\n",
       "1     -0.001872 -0.001582       2        1  17.774931\n",
       "2      0.003020 -0.000275       3        1  65.663976, topic_info=             Term         Freq        Total Category  logprob  loglift\n",
       "484        oliver  2558.000000  2558.000000  Default  30.0000  30.0000\n",
       "1525     felicity  1005.000000  1005.000000  Default  29.0000  29.0000\n",
       "2949         thea   742.000000   742.000000  Default  28.0000  28.0000\n",
       "376          john   599.000000   599.000000  Default  27.0000  27.0000\n",
       "242        father   721.000000   721.000000  Default  26.0000  26.0000\n",
       "...           ...          ...          ...      ...      ...      ...\n",
       "2949         thea   459.828296   742.711970   Topic3  -6.0317  -0.0588\n",
       "254          fine   346.845600   517.751204   Topic3  -6.3137   0.0200\n",
       "376          john   374.645008   599.108961   Topic3  -6.2366  -0.0488\n",
       "17    adsbygoogle   337.187052   515.315389   Topic3  -6.3419  -0.0035\n",
       "83         better   333.338741   506.233453   Topic3  -6.3534   0.0028\n",
       "\n",
       "[306 rows x 6 columns], token_table=       Topic      Freq          Term\n",
       "term                                \n",
       "24774      3  0.753713  absolutelyno\n",
       "8656       1  0.478579  acknowledged\n",
       "8656       2  0.478579  acknowledged\n",
       "8656       3  0.478579  acknowledged\n",
       "3274       1  0.152416      actually\n",
       "...      ...       ...           ...\n",
       "11010      2  0.246963            za\n",
       "11010      3  0.493926            za\n",
       "11082      1  0.345494          znam\n",
       "11082      2  0.345494          znam\n",
       "11082      3  0.345494          znam\n",
       "\n",
       "[628 rows x 3 columns], R=30, lambda_step=0.01, plot_opts={'xlab': 'PC1', 'ylab': 'PC2'}, topic_order=[1, 2, 3])"
      ]
     },
     "execution_count": 52,
     "metadata": {},
     "output_type": "execute_result"
    }
   ],
   "source": [
    "import pickle \n",
    "import pyLDAvis\n",
    "import pyLDAvis.gensim_models\n",
    "import os\n",
    "\n",
    "\n",
    "# Visualize the topics\n",
    "pyLDAvis.enable_notebook()\n",
    "\n",
    "LDAvis_data_filepath = os.path.join('Data/prepared_'+str(num_topics))\n",
    "\n",
    "# # this is a bit time consuming - make the if statement True\n",
    "# # if you want to execute visualization prep yourself\n",
    "if 1 == 1:\n",
    "    LDAvis_prepared = pyLDAvis.gensim_models.prepare(lda_model, corpus, id2word, sort_topics=False)\n",
    "    with open(LDAvis_data_filepath, 'wb') as f:\n",
    "        pickle.dump(LDAvis_prepared, f)\n",
    "\n",
    "# load the pre-prepared pyLDAvis data from disk\n",
    "with open(LDAvis_data_filepath, 'rb') as f:\n",
    "    LDAvis_prepared = pickle.load(f)\n",
    "\n",
    "pyLDAvis.save_html(LDAvis_prepared, 'Data/prepared_'+ str(num_topics) +'.html')\n",
    "\n",
    "LDAvis_prepared"
   ]
  },
  {
   "cell_type": "markdown",
   "metadata": {
    "id": "xFfAvt4k8Jed"
   },
   "source": [
    "## Topicos\n",
    "\n",
    "1 - \n",
    "2 - \n",
    "3 - "
   ]
  },
  {
   "cell_type": "code",
   "execution_count": 53,
   "metadata": {},
   "outputs": [
    {
     "name": "stderr",
     "output_type": "stream",
     "text": [
      "/home/anna/anaconda3/lib/python3.8/site-packages/ipykernel/ipkernel.py:287: DeprecationWarning: `should_run_async` will not call `transform_cell` automatically in the future. Please pass the result to `transformed_cell` argument and any exception that happen during thetransform in `preprocessing_exc_tuple` in IPython 7.17 and above.\n",
      "  and should_run_async(code)\n"
     ]
    }
   ],
   "source": [
    "topic_scores = [[topic_score[1] for topic_score in sent] for sent in doc_lda]\n"
   ]
  },
  {
   "cell_type": "code",
   "execution_count": 54,
   "metadata": {},
   "outputs": [
    {
     "name": "stderr",
     "output_type": "stream",
     "text": [
      "/home/anna/anaconda3/lib/python3.8/site-packages/ipykernel/ipkernel.py:287: DeprecationWarning: `should_run_async` will not call `transform_cell` automatically in the future. Please pass the result to `transformed_cell` argument and any exception that happen during thetransform in `preprocessing_exc_tuple` in IPython 7.17 and above.\n",
      "  and should_run_async(code)\n"
     ]
    }
   ],
   "source": [
    "# Topics\n",
    "\n",
    "\n",
    "# [(0,\n",
    "#   '0.009*\"oliver\" + 0.004*\"felicity\" + 0.003*\"thea\" + 0.003*\"help\" + '\n",
    "#   '0.003*\"john\" + 0.003*\"laurel\" + 0.003*\"father\" + 0.002*\"friend\" + '\n",
    "#   '0.002*\"please\" + 0.002*\"much\"'),  -> more romantic episode? lover on second place\n",
    "#  (1,\n",
    "#   '0.007*\"oliver\" + 0.003*\"felicity\" + 0.003*\"thea\" + 0.003*\"help\" + '\n",
    "#   '0.002*\"kill\" + 0.002*\"laurel\" + 0.002*\"friend\" + 0.002*\"father\" + '\n",
    "#   '0.002*\"last\" + 0.002*\"someone\"'), -> a more generic episode (action,family,lovers,etc)\n",
    "#  (2,\n",
    "#   '0.009*\"oliver\" + 0.004*\"laurel\" + 0.004*\"felicity\" + 0.003*\"help\" + '\n",
    "#   '0.002*\"father\" + 0.002*\"thea\" + 0.002*\"last\" + 0.002*\"give\" + 0.002*\"stop\" '\n",
    "#   '+ 0.002*\"friend\"')] -> possible a family episode (sister,lovers,father)"
   ]
  },
  {
   "cell_type": "markdown",
   "metadata": {
    "id": "FkQEjSAV8Jed"
   },
   "source": [
    "-----------------------------------------------------------------------------------------------------------"
   ]
  },
  {
   "cell_type": "markdown",
   "metadata": {
    "id": "qVee8VtW8Jee"
   },
   "source": [
    "# Dataframe with scores of each topic, where each line is the index of txt (script of the episode)\n"
   ]
  },
  {
   "cell_type": "code",
   "execution_count": 55,
   "metadata": {
    "id": "9gg8rxrl8Jef",
    "outputId": "0b414e3d-fbb9-4fb5-b359-bebfc37f28c8"
   },
   "outputs": [
    {
     "name": "stderr",
     "output_type": "stream",
     "text": [
      "/home/anna/anaconda3/lib/python3.8/site-packages/ipykernel/ipkernel.py:287: DeprecationWarning: `should_run_async` will not call `transform_cell` automatically in the future. Please pass the result to `transformed_cell` argument and any exception that happen during thetransform in `preprocessing_exc_tuple` in IPython 7.17 and above.\n",
      "  and should_run_async(code)\n"
     ]
    }
   ],
   "source": [
    "df_topics = pd.DataFrame(topic_scores)"
   ]
  },
  {
   "cell_type": "code",
   "execution_count": 56,
   "metadata": {
    "id": "nxKknsR38Jef",
    "outputId": "3e67e779-d743-4758-c081-1e26205f62ac"
   },
   "outputs": [
    {
     "name": "stderr",
     "output_type": "stream",
     "text": [
      "/home/anna/anaconda3/lib/python3.8/site-packages/ipykernel/ipkernel.py:287: DeprecationWarning: `should_run_async` will not call `transform_cell` automatically in the future. Please pass the result to `transformed_cell` argument and any exception that happen during thetransform in `preprocessing_exc_tuple` in IPython 7.17 and above.\n",
      "  and should_run_async(code)\n"
     ]
    },
    {
     "data": {
      "text/plain": [
       "165"
      ]
     },
     "execution_count": 56,
     "metadata": {},
     "output_type": "execute_result"
    }
   ],
   "source": [
    "len(df_topics)"
   ]
  },
  {
   "cell_type": "code",
   "execution_count": 57,
   "metadata": {
    "id": "yxBej7378Jef",
    "outputId": "1e82f748-af89-4af0-bbd4-1e72776a0002"
   },
   "outputs": [
    {
     "name": "stderr",
     "output_type": "stream",
     "text": [
      "/home/anna/anaconda3/lib/python3.8/site-packages/ipykernel/ipkernel.py:287: DeprecationWarning: `should_run_async` will not call `transform_cell` automatically in the future. Please pass the result to `transformed_cell` argument and any exception that happen during thetransform in `preprocessing_exc_tuple` in IPython 7.17 and above.\n",
      "  and should_run_async(code)\n"
     ]
    },
    {
     "data": {
      "text/html": [
       "<div>\n",
       "<style scoped>\n",
       "    .dataframe tbody tr th:only-of-type {\n",
       "        vertical-align: middle;\n",
       "    }\n",
       "\n",
       "    .dataframe tbody tr th {\n",
       "        vertical-align: top;\n",
       "    }\n",
       "\n",
       "    .dataframe thead th {\n",
       "        text-align: right;\n",
       "    }\n",
       "</style>\n",
       "<table border=\"1\" class=\"dataframe\">\n",
       "  <thead>\n",
       "    <tr style=\"text-align: right;\">\n",
       "      <th></th>\n",
       "      <th>0</th>\n",
       "      <th>1</th>\n",
       "      <th>2</th>\n",
       "    </tr>\n",
       "  </thead>\n",
       "  <tbody>\n",
       "    <tr>\n",
       "      <th>160</th>\n",
       "      <td>0.999569</td>\n",
       "      <td>NaN</td>\n",
       "      <td>NaN</td>\n",
       "    </tr>\n",
       "    <tr>\n",
       "      <th>161</th>\n",
       "      <td>0.661472</td>\n",
       "      <td>0.121092</td>\n",
       "      <td>0.217435</td>\n",
       "    </tr>\n",
       "    <tr>\n",
       "      <th>162</th>\n",
       "      <td>0.021154</td>\n",
       "      <td>0.167041</td>\n",
       "      <td>0.811806</td>\n",
       "    </tr>\n",
       "    <tr>\n",
       "      <th>163</th>\n",
       "      <td>0.040381</td>\n",
       "      <td>0.959077</td>\n",
       "      <td>NaN</td>\n",
       "    </tr>\n",
       "    <tr>\n",
       "      <th>164</th>\n",
       "      <td>0.195369</td>\n",
       "      <td>0.296078</td>\n",
       "      <td>0.508553</td>\n",
       "    </tr>\n",
       "  </tbody>\n",
       "</table>\n",
       "</div>"
      ],
      "text/plain": [
       "            0         1         2\n",
       "160  0.999569       NaN       NaN\n",
       "161  0.661472  0.121092  0.217435\n",
       "162  0.021154  0.167041  0.811806\n",
       "163  0.040381  0.959077       NaN\n",
       "164  0.195369  0.296078  0.508553"
      ]
     },
     "execution_count": 57,
     "metadata": {},
     "output_type": "execute_result"
    }
   ],
   "source": [
    "df_topics.tail()"
   ]
  },
  {
   "cell_type": "code",
   "execution_count": 58,
   "metadata": {
    "id": "HTMoj9ez8Jeg",
    "outputId": "9a8ddb58-9899-4bf5-efab-afbbeded06c0"
   },
   "outputs": [
    {
     "name": "stderr",
     "output_type": "stream",
     "text": [
      "/home/anna/anaconda3/lib/python3.8/site-packages/ipykernel/ipkernel.py:287: DeprecationWarning: `should_run_async` will not call `transform_cell` automatically in the future. Please pass the result to `transformed_cell` argument and any exception that happen during thetransform in `preprocessing_exc_tuple` in IPython 7.17 and above.\n",
      "  and should_run_async(code)\n"
     ]
    }
   ],
   "source": [
    "df_topics.fillna(0,  inplace=True)"
   ]
  },
  {
   "cell_type": "code",
   "execution_count": 59,
   "metadata": {
    "id": "wXzgPli78Jeg",
    "outputId": "760ef1bf-dbee-4082-e679-2c03bf3da4be"
   },
   "outputs": [
    {
     "name": "stderr",
     "output_type": "stream",
     "text": [
      "/home/anna/anaconda3/lib/python3.8/site-packages/ipykernel/ipkernel.py:287: DeprecationWarning: `should_run_async` will not call `transform_cell` automatically in the future. Please pass the result to `transformed_cell` argument and any exception that happen during thetransform in `preprocessing_exc_tuple` in IPython 7.17 and above.\n",
      "  and should_run_async(code)\n"
     ]
    },
    {
     "data": {
      "text/plain": [
       "0    0.067190\n",
       "1    0.908645\n",
       "2    0.024165\n",
       "Name: 4, dtype: float64"
      ]
     },
     "execution_count": 59,
     "metadata": {},
     "output_type": "execute_result"
    }
   ],
   "source": [
    "df_topics.loc[4,:]   #scores dos topicos do script 4 "
   ]
  },
  {
   "cell_type": "markdown",
   "metadata": {
    "id": "eM4X2D928Jeh"
   },
   "source": [
    "# Dataframe concat\n",
    "## Concatenating the dataset with the raw script, the processed script and the episode name (df_parcial) with Dataframe with scores of each topic (df_topics)"
   ]
  },
  {
   "cell_type": "code",
   "execution_count": 60,
   "metadata": {
    "id": "P-biwnH58Jeh",
    "outputId": "5b0ceaff-84d2-4a29-e579-1df1e361e110"
   },
   "outputs": [
    {
     "name": "stderr",
     "output_type": "stream",
     "text": [
      "/home/anna/anaconda3/lib/python3.8/site-packages/ipykernel/ipkernel.py:287: DeprecationWarning: `should_run_async` will not call `transform_cell` automatically in the future. Please pass the result to `transformed_cell` argument and any exception that happen during thetransform in `preprocessing_exc_tuple` in IPython 7.17 and above.\n",
      "  and should_run_async(code)\n"
     ]
    }
   ],
   "source": [
    "df_concat = pd.concat([df_parcial, df_topics], axis=1) "
   ]
  },
  {
   "cell_type": "code",
   "execution_count": 61,
   "metadata": {
    "id": "lIj1sLy88Jeh",
    "outputId": "9249d571-d066-4b3e-b983-30fea7824fb8"
   },
   "outputs": [
    {
     "name": "stderr",
     "output_type": "stream",
     "text": [
      "/home/anna/anaconda3/lib/python3.8/site-packages/ipykernel/ipkernel.py:287: DeprecationWarning: `should_run_async` will not call `transform_cell` automatically in the future. Please pass the result to `transformed_cell` argument and any exception that happen during thetransform in `preprocessing_exc_tuple` in IPython 7.17 and above.\n",
      "  and should_run_async(code)\n"
     ]
    },
    {
     "data": {
      "text/html": [
       "<div>\n",
       "<style scoped>\n",
       "    .dataframe tbody tr th:only-of-type {\n",
       "        vertical-align: middle;\n",
       "    }\n",
       "\n",
       "    .dataframe tbody tr th {\n",
       "        vertical-align: top;\n",
       "    }\n",
       "\n",
       "    .dataframe thead th {\n",
       "        text-align: right;\n",
       "    }\n",
       "</style>\n",
       "<table border=\"1\" class=\"dataframe\">\n",
       "  <thead>\n",
       "    <tr style=\"text-align: right;\">\n",
       "      <th></th>\n",
       "      <th>nome_ep</th>\n",
       "      <th>Episodios</th>\n",
       "      <th>text_processed</th>\n",
       "      <th>0</th>\n",
       "      <th>1</th>\n",
       "      <th>2</th>\n",
       "    </tr>\n",
       "  </thead>\n",
       "  <tbody>\n",
       "    <tr>\n",
       "      <th>160</th>\n",
       "      <td>/series/Arrow-2193021/season-8/episode-6-Reset</td>\n",
       "      <td>PREVIOUSLY ON \"ARROW\"...THIS PLACE LOOKSEXACTL...</td>\n",
       "      <td>previously on \"arrow\"   this place looksexactl...</td>\n",
       "      <td>0.999569</td>\n",
       "      <td>0.000000</td>\n",
       "      <td>0.000000</td>\n",
       "    </tr>\n",
       "    <tr>\n",
       "      <th>161</th>\n",
       "      <td>/series/Arrow-2193021/season-8/episode-7-Purga...</td>\n",
       "      <td>Previously on \"Arrow\"...-I need your help, roy...</td>\n",
       "      <td>previously on \"arrow\"   -i need your help  roy...</td>\n",
       "      <td>0.661472</td>\n",
       "      <td>0.121092</td>\n",
       "      <td>0.217435</td>\n",
       "    </tr>\n",
       "    <tr>\n",
       "      <th>162</th>\n",
       "      <td>/series/Arrow-2193021/season-8/episode-8-Crisi...</td>\n",
       "      <td>Previously on Crisison Infinite Earths...There...</td>\n",
       "      <td>previously on crisison infinite earths   there...</td>\n",
       "      <td>0.021154</td>\n",
       "      <td>0.167041</td>\n",
       "      <td>0.811806</td>\n",
       "    </tr>\n",
       "    <tr>\n",
       "      <th>163</th>\n",
       "      <td>/series/Arrow-2193021/season-8/episode-9-Green...</td>\n",
       "      <td>bianca!bianca bertinelli?who the hell are you...</td>\n",
       "      <td>bianca bianca bertinelli who the hell are you...</td>\n",
       "      <td>0.040381</td>\n",
       "      <td>0.959077</td>\n",
       "      <td>0.000000</td>\n",
       "    </tr>\n",
       "    <tr>\n",
       "      <th>164</th>\n",
       "      <td>/series/Arrow-2193021/season-8/episode-10-Fadeout</td>\n",
       "      <td>[Oliver]My name is Oliver Queen.[gunshot][Oliv...</td>\n",
       "      <td>[oliver]my name is oliver queen [gunshot][oliv...</td>\n",
       "      <td>0.195369</td>\n",
       "      <td>0.296078</td>\n",
       "      <td>0.508553</td>\n",
       "    </tr>\n",
       "  </tbody>\n",
       "</table>\n",
       "</div>"
      ],
      "text/plain": [
       "                                               nome_ep  \\\n",
       "160     /series/Arrow-2193021/season-8/episode-6-Reset   \n",
       "161  /series/Arrow-2193021/season-8/episode-7-Purga...   \n",
       "162  /series/Arrow-2193021/season-8/episode-8-Crisi...   \n",
       "163  /series/Arrow-2193021/season-8/episode-9-Green...   \n",
       "164  /series/Arrow-2193021/season-8/episode-10-Fadeout   \n",
       "\n",
       "                                             Episodios  \\\n",
       "160  PREVIOUSLY ON \"ARROW\"...THIS PLACE LOOKSEXACTL...   \n",
       "161  Previously on \"Arrow\"...-I need your help, roy...   \n",
       "162  Previously on Crisison Infinite Earths...There...   \n",
       "163   bianca!bianca bertinelli?who the hell are you...   \n",
       "164  [Oliver]My name is Oliver Queen.[gunshot][Oliv...   \n",
       "\n",
       "                                        text_processed         0         1  \\\n",
       "160  previously on \"arrow\"   this place looksexactl...  0.999569  0.000000   \n",
       "161  previously on \"arrow\"   -i need your help  roy...  0.661472  0.121092   \n",
       "162  previously on crisison infinite earths   there...  0.021154  0.167041   \n",
       "163   bianca bianca bertinelli who the hell are you...  0.040381  0.959077   \n",
       "164  [oliver]my name is oliver queen [gunshot][oliv...  0.195369  0.296078   \n",
       "\n",
       "            2  \n",
       "160  0.000000  \n",
       "161  0.217435  \n",
       "162  0.811806  \n",
       "163  0.000000  \n",
       "164  0.508553  "
      ]
     },
     "execution_count": 61,
     "metadata": {},
     "output_type": "execute_result"
    }
   ],
   "source": [
    "df_concat.tail()"
   ]
  },
  {
   "cell_type": "code",
   "execution_count": 302,
   "metadata": {
    "id": "gvBzj4Am8Jei",
    "outputId": "619c6e67-6b35-41bb-c618-46cc7a6afc5c"
   },
   "outputs": [
    {
     "name": "stderr",
     "output_type": "stream",
     "text": [
      "/home/anna/anaconda3/lib/python3.8/site-packages/ipykernel/ipkernel.py:287: DeprecationWarning: `should_run_async` will not call `transform_cell` automatically in the future. Please pass the result to `transformed_cell` argument and any exception that happen during thetransform in `preprocessing_exc_tuple` in IPython 7.17 and above.\n",
      "  and should_run_async(code)\n"
     ]
    }
   ],
   "source": [
    "# df_concat2.to_csv('scripts1.csv',  sep=';')"
   ]
  },
  {
   "cell_type": "markdown",
   "metadata": {
    "id": "vO23Dow-8Jei"
   },
   "source": [
    "# Dataset with ratings and amount of ratings\n",
    "## manually generated from the IMDb page ( https://www.imdb.com/title/tt2193021/episodes?ref_=tt_eps_sm )"
   ]
  },
  {
   "cell_type": "code",
   "execution_count": 62,
   "metadata": {
    "id": "Xb_gKYiO8Jei",
    "outputId": "b202c287-b9ea-4ce7-bf40-d5b56a9a36c5"
   },
   "outputs": [
    {
     "name": "stderr",
     "output_type": "stream",
     "text": [
      "/home/anna/anaconda3/lib/python3.8/site-packages/ipykernel/ipkernel.py:287: DeprecationWarning: `should_run_async` will not call `transform_cell` automatically in the future. Please pass the result to `transformed_cell` argument and any exception that happen during thetransform in `preprocessing_exc_tuple` in IPython 7.17 and above.\n",
      "  and should_run_async(code)\n"
     ]
    }
   ],
   "source": [
    "ratings = pd.read_csv('Data/ratings2.csv', sep=\",\")"
   ]
  },
  {
   "cell_type": "code",
   "execution_count": 63,
   "metadata": {
    "id": "oCOCQzdd8Jej",
    "outputId": "263ca4a2-0a21-4398-c715-5fb7a949a4d0"
   },
   "outputs": [
    {
     "name": "stderr",
     "output_type": "stream",
     "text": [
      "/home/anna/anaconda3/lib/python3.8/site-packages/ipykernel/ipkernel.py:287: DeprecationWarning: `should_run_async` will not call `transform_cell` automatically in the future. Please pass the result to `transformed_cell` argument and any exception that happen during thetransform in `preprocessing_exc_tuple` in IPython 7.17 and above.\n",
      "  and should_run_async(code)\n"
     ]
    },
    {
     "data": {
      "text/html": [
       "<div>\n",
       "<style scoped>\n",
       "    .dataframe tbody tr th:only-of-type {\n",
       "        vertical-align: middle;\n",
       "    }\n",
       "\n",
       "    .dataframe tbody tr th {\n",
       "        vertical-align: top;\n",
       "    }\n",
       "\n",
       "    .dataframe thead th {\n",
       "        text-align: right;\n",
       "    }\n",
       "</style>\n",
       "<table border=\"1\" class=\"dataframe\">\n",
       "  <thead>\n",
       "    <tr style=\"text-align: right;\">\n",
       "      <th></th>\n",
       "      <th>episodios</th>\n",
       "      <th>nota_imdb</th>\n",
       "      <th>qtd_reviews</th>\n",
       "    </tr>\n",
       "  </thead>\n",
       "  <tbody>\n",
       "    <tr>\n",
       "      <th>0</th>\n",
       "      <td>/series/Arrow-2193021/season-1/episode-1-Pilot</td>\n",
       "      <td>8.5</td>\n",
       "      <td>7572</td>\n",
       "    </tr>\n",
       "    <tr>\n",
       "      <th>1</th>\n",
       "      <td>/series/Arrow-2193021/season-1/episode-2-Honor...</td>\n",
       "      <td>8.2</td>\n",
       "      <td>5731</td>\n",
       "    </tr>\n",
       "    <tr>\n",
       "      <th>2</th>\n",
       "      <td>/series/Arrow-2193021/season-1/episode-3-Lone_...</td>\n",
       "      <td>8.4</td>\n",
       "      <td>5367</td>\n",
       "    </tr>\n",
       "    <tr>\n",
       "      <th>3</th>\n",
       "      <td>/series/Arrow-2193021/season-1/episode-4-An_In...</td>\n",
       "      <td>8.3</td>\n",
       "      <td>5071</td>\n",
       "    </tr>\n",
       "    <tr>\n",
       "      <th>4</th>\n",
       "      <td>/series/Arrow-2193021/season-1/episode-5-Damaged</td>\n",
       "      <td>8.6</td>\n",
       "      <td>5011</td>\n",
       "    </tr>\n",
       "  </tbody>\n",
       "</table>\n",
       "</div>"
      ],
      "text/plain": [
       "                                           episodios  nota_imdb  qtd_reviews\n",
       "0     /series/Arrow-2193021/season-1/episode-1-Pilot        8.5         7572\n",
       "1  /series/Arrow-2193021/season-1/episode-2-Honor...        8.2         5731\n",
       "2  /series/Arrow-2193021/season-1/episode-3-Lone_...        8.4         5367\n",
       "3  /series/Arrow-2193021/season-1/episode-4-An_In...        8.3         5071\n",
       "4   /series/Arrow-2193021/season-1/episode-5-Damaged        8.6         5011"
      ]
     },
     "execution_count": 63,
     "metadata": {},
     "output_type": "execute_result"
    }
   ],
   "source": [
    "ratings.head()"
   ]
  },
  {
   "cell_type": "code",
   "execution_count": 64,
   "metadata": {
    "id": "GWVhI3Xq8Jej",
    "outputId": "0bed2454-cde8-4872-99e7-b736be9a2fbd"
   },
   "outputs": [
    {
     "name": "stderr",
     "output_type": "stream",
     "text": [
      "/home/anna/anaconda3/lib/python3.8/site-packages/ipykernel/ipkernel.py:287: DeprecationWarning: `should_run_async` will not call `transform_cell` automatically in the future. Please pass the result to `transformed_cell` argument and any exception that happen during thetransform in `preprocessing_exc_tuple` in IPython 7.17 and above.\n",
      "  and should_run_async(code)\n"
     ]
    },
    {
     "data": {
      "text/plain": [
       "episodios      0\n",
       "nota_imdb      0\n",
       "qtd_reviews    0\n",
       "dtype: int64"
      ]
     },
     "execution_count": 64,
     "metadata": {},
     "output_type": "execute_result"
    }
   ],
   "source": [
    "ratings.isnull().sum()"
   ]
  },
  {
   "cell_type": "code",
   "execution_count": 65,
   "metadata": {
    "id": "O4bq-0HL8Jej",
    "outputId": "80dba059-1bcb-4af5-c9f3-3eb9c38733f0"
   },
   "outputs": [
    {
     "name": "stderr",
     "output_type": "stream",
     "text": [
      "/home/anna/anaconda3/lib/python3.8/site-packages/ipykernel/ipkernel.py:287: DeprecationWarning: `should_run_async` will not call `transform_cell` automatically in the future. Please pass the result to `transformed_cell` argument and any exception that happen during thetransform in `preprocessing_exc_tuple` in IPython 7.17 and above.\n",
      "  and should_run_async(code)\n"
     ]
    },
    {
     "data": {
      "text/plain": [
       "(165, 3)"
      ]
     },
     "execution_count": 65,
     "metadata": {},
     "output_type": "execute_result"
    }
   ],
   "source": [
    "ratings.shape"
   ]
  },
  {
   "cell_type": "markdown",
   "metadata": {
    "id": "b7XtSOjZ8Jej"
   },
   "source": [
    "# Final dataset\n",
    "## Dataset with the episode name, the script, the script processed , column with score value of topic 0, column with score value of topic 1, column with score value of topic 2, the imdb rating, the amount of reviews and the predominant topic "
   ]
  },
  {
   "cell_type": "code",
   "execution_count": 66,
   "metadata": {
    "id": "n3Z7Zo6C8Jek",
    "outputId": "2ad3e5b9-eb8a-443d-e2be-12cb6aee7b8b"
   },
   "outputs": [
    {
     "name": "stderr",
     "output_type": "stream",
     "text": [
      "/home/anna/anaconda3/lib/python3.8/site-packages/ipykernel/ipkernel.py:287: DeprecationWarning: `should_run_async` will not call `transform_cell` automatically in the future. Please pass the result to `transformed_cell` argument and any exception that happen during thetransform in `preprocessing_exc_tuple` in IPython 7.17 and above.\n",
      "  and should_run_async(code)\n"
     ]
    }
   ],
   "source": [
    "dataset = pd.concat([df_concat, ratings], axis=1) "
   ]
  },
  {
   "cell_type": "code",
   "execution_count": 67,
   "metadata": {
    "id": "gbynPaYt8Jek",
    "outputId": "c158d9ae-b6ce-4607-c5ac-53aa982183c0"
   },
   "outputs": [
    {
     "name": "stderr",
     "output_type": "stream",
     "text": [
      "/home/anna/anaconda3/lib/python3.8/site-packages/ipykernel/ipkernel.py:287: DeprecationWarning: `should_run_async` will not call `transform_cell` automatically in the future. Please pass the result to `transformed_cell` argument and any exception that happen during thetransform in `preprocessing_exc_tuple` in IPython 7.17 and above.\n",
      "  and should_run_async(code)\n"
     ]
    }
   ],
   "source": [
    "dataset.drop('episodios', axis=1, inplace=True)"
   ]
  },
  {
   "cell_type": "code",
   "execution_count": 68,
   "metadata": {
    "id": "Yk-Jd4ak8Jek",
    "outputId": "c0d55662-979d-4445-9cb3-00247dd262a3"
   },
   "outputs": [
    {
     "name": "stderr",
     "output_type": "stream",
     "text": [
      "/home/anna/anaconda3/lib/python3.8/site-packages/ipykernel/ipkernel.py:287: DeprecationWarning: `should_run_async` will not call `transform_cell` automatically in the future. Please pass the result to `transformed_cell` argument and any exception that happen during thetransform in `preprocessing_exc_tuple` in IPython 7.17 and above.\n",
      "  and should_run_async(code)\n"
     ]
    }
   ],
   "source": [
    "topicos = dataset.loc[:, [0, 1, 2]]"
   ]
  },
  {
   "cell_type": "code",
   "execution_count": 69,
   "metadata": {
    "id": "YRBjuPfV8Jel",
    "outputId": "4de997f3-4748-41c4-c711-1fbb6ad6d332"
   },
   "outputs": [
    {
     "name": "stderr",
     "output_type": "stream",
     "text": [
      "/home/anna/anaconda3/lib/python3.8/site-packages/ipykernel/ipkernel.py:287: DeprecationWarning: `should_run_async` will not call `transform_cell` automatically in the future. Please pass the result to `transformed_cell` argument and any exception that happen during thetransform in `preprocessing_exc_tuple` in IPython 7.17 and above.\n",
      "  and should_run_async(code)\n"
     ]
    },
    {
     "data": {
      "text/html": [
       "<div>\n",
       "<style scoped>\n",
       "    .dataframe tbody tr th:only-of-type {\n",
       "        vertical-align: middle;\n",
       "    }\n",
       "\n",
       "    .dataframe tbody tr th {\n",
       "        vertical-align: top;\n",
       "    }\n",
       "\n",
       "    .dataframe thead th {\n",
       "        text-align: right;\n",
       "    }\n",
       "</style>\n",
       "<table border=\"1\" class=\"dataframe\">\n",
       "  <thead>\n",
       "    <tr style=\"text-align: right;\">\n",
       "      <th></th>\n",
       "      <th>0</th>\n",
       "      <th>1</th>\n",
       "      <th>2</th>\n",
       "    </tr>\n",
       "  </thead>\n",
       "  <tbody>\n",
       "    <tr>\n",
       "      <th>0</th>\n",
       "      <td>0.015196</td>\n",
       "      <td>0.191026</td>\n",
       "      <td>0.793778</td>\n",
       "    </tr>\n",
       "    <tr>\n",
       "      <th>1</th>\n",
       "      <td>0.014313</td>\n",
       "      <td>0.947105</td>\n",
       "      <td>0.038582</td>\n",
       "    </tr>\n",
       "    <tr>\n",
       "      <th>2</th>\n",
       "      <td>0.049773</td>\n",
       "      <td>0.876113</td>\n",
       "      <td>0.074114</td>\n",
       "    </tr>\n",
       "    <tr>\n",
       "      <th>3</th>\n",
       "      <td>0.110172</td>\n",
       "      <td>0.204996</td>\n",
       "      <td>0.684832</td>\n",
       "    </tr>\n",
       "    <tr>\n",
       "      <th>4</th>\n",
       "      <td>0.067190</td>\n",
       "      <td>0.908645</td>\n",
       "      <td>0.024165</td>\n",
       "    </tr>\n",
       "    <tr>\n",
       "      <th>...</th>\n",
       "      <td>...</td>\n",
       "      <td>...</td>\n",
       "      <td>...</td>\n",
       "    </tr>\n",
       "    <tr>\n",
       "      <th>160</th>\n",
       "      <td>0.999569</td>\n",
       "      <td>0.000000</td>\n",
       "      <td>0.000000</td>\n",
       "    </tr>\n",
       "    <tr>\n",
       "      <th>161</th>\n",
       "      <td>0.661472</td>\n",
       "      <td>0.121092</td>\n",
       "      <td>0.217435</td>\n",
       "    </tr>\n",
       "    <tr>\n",
       "      <th>162</th>\n",
       "      <td>0.021154</td>\n",
       "      <td>0.167041</td>\n",
       "      <td>0.811806</td>\n",
       "    </tr>\n",
       "    <tr>\n",
       "      <th>163</th>\n",
       "      <td>0.040381</td>\n",
       "      <td>0.959077</td>\n",
       "      <td>0.000000</td>\n",
       "    </tr>\n",
       "    <tr>\n",
       "      <th>164</th>\n",
       "      <td>0.195369</td>\n",
       "      <td>0.296078</td>\n",
       "      <td>0.508553</td>\n",
       "    </tr>\n",
       "  </tbody>\n",
       "</table>\n",
       "<p>165 rows × 3 columns</p>\n",
       "</div>"
      ],
      "text/plain": [
       "            0         1         2\n",
       "0    0.015196  0.191026  0.793778\n",
       "1    0.014313  0.947105  0.038582\n",
       "2    0.049773  0.876113  0.074114\n",
       "3    0.110172  0.204996  0.684832\n",
       "4    0.067190  0.908645  0.024165\n",
       "..        ...       ...       ...\n",
       "160  0.999569  0.000000  0.000000\n",
       "161  0.661472  0.121092  0.217435\n",
       "162  0.021154  0.167041  0.811806\n",
       "163  0.040381  0.959077  0.000000\n",
       "164  0.195369  0.296078  0.508553\n",
       "\n",
       "[165 rows x 3 columns]"
      ]
     },
     "execution_count": 69,
     "metadata": {},
     "output_type": "execute_result"
    }
   ],
   "source": [
    "dataset.loc[:, [0, 1, 2]]"
   ]
  },
  {
   "cell_type": "code",
   "execution_count": 70,
   "metadata": {
    "id": "ZqYmqwYN8Jel",
    "outputId": "fb95bef2-56c6-4bf4-db33-36c4c735cc3c"
   },
   "outputs": [
    {
     "name": "stderr",
     "output_type": "stream",
     "text": [
      "/home/anna/anaconda3/lib/python3.8/site-packages/ipykernel/ipkernel.py:287: DeprecationWarning: `should_run_async` will not call `transform_cell` automatically in the future. Please pass the result to `transformed_cell` argument and any exception that happen during thetransform in `preprocessing_exc_tuple` in IPython 7.17 and above.\n",
      "  and should_run_async(code)\n"
     ]
    }
   ],
   "source": [
    "dataset['Topic'] = topicos.idxmax(axis=1)"
   ]
  },
  {
   "cell_type": "code",
   "execution_count": 71,
   "metadata": {
    "id": "_gBflSo08Jel",
    "outputId": "39677326-6232-4093-ac67-7914350a0230",
    "scrolled": true
   },
   "outputs": [
    {
     "name": "stderr",
     "output_type": "stream",
     "text": [
      "/home/anna/anaconda3/lib/python3.8/site-packages/ipykernel/ipkernel.py:287: DeprecationWarning: `should_run_async` will not call `transform_cell` automatically in the future. Please pass the result to `transformed_cell` argument and any exception that happen during thetransform in `preprocessing_exc_tuple` in IPython 7.17 and above.\n",
      "  and should_run_async(code)\n"
     ]
    },
    {
     "data": {
      "text/html": [
       "<div>\n",
       "<style scoped>\n",
       "    .dataframe tbody tr th:only-of-type {\n",
       "        vertical-align: middle;\n",
       "    }\n",
       "\n",
       "    .dataframe tbody tr th {\n",
       "        vertical-align: top;\n",
       "    }\n",
       "\n",
       "    .dataframe thead th {\n",
       "        text-align: right;\n",
       "    }\n",
       "</style>\n",
       "<table border=\"1\" class=\"dataframe\">\n",
       "  <thead>\n",
       "    <tr style=\"text-align: right;\">\n",
       "      <th></th>\n",
       "      <th>nome_ep</th>\n",
       "      <th>Episodios</th>\n",
       "      <th>text_processed</th>\n",
       "      <th>0</th>\n",
       "      <th>1</th>\n",
       "      <th>2</th>\n",
       "      <th>nota_imdb</th>\n",
       "      <th>qtd_reviews</th>\n",
       "      <th>Topic</th>\n",
       "    </tr>\n",
       "  </thead>\n",
       "  <tbody>\n",
       "    <tr>\n",
       "      <th>0</th>\n",
       "      <td>/series/Arrow-2193021/season-1/episode-1-Pilot</td>\n",
       "      <td>The name of the islandthey found me on is Lian...</td>\n",
       "      <td>the name of the islandthey found me on is lian...</td>\n",
       "      <td>0.015196</td>\n",
       "      <td>0.191026</td>\n",
       "      <td>0.793778</td>\n",
       "      <td>8.5</td>\n",
       "      <td>7572</td>\n",
       "      <td>2</td>\n",
       "    </tr>\n",
       "    <tr>\n",
       "      <th>1</th>\n",
       "      <td>/series/Arrow-2193021/season-1/episode-2-Honor...</td>\n",
       "      <td>[PANTING][GRUNTS][SPEAKING IN FOREIGN LANGUAGE...</td>\n",
       "      <td>[panting][grunts][speaking in foreign language...</td>\n",
       "      <td>0.014313</td>\n",
       "      <td>0.947105</td>\n",
       "      <td>0.038582</td>\n",
       "      <td>8.2</td>\n",
       "      <td>5731</td>\n",
       "      <td>1</td>\n",
       "    </tr>\n",
       "    <tr>\n",
       "      <th>2</th>\n",
       "      <td>/series/Arrow-2193021/season-1/episode-3-Lone_...</td>\n",
       "      <td>My name is Oliver Queen.To my family, I am the...</td>\n",
       "      <td>my name is oliver queen to my family  i am the...</td>\n",
       "      <td>0.049773</td>\n",
       "      <td>0.876113</td>\n",
       "      <td>0.074114</td>\n",
       "      <td>8.4</td>\n",
       "      <td>5367</td>\n",
       "      <td>1</td>\n",
       "    </tr>\n",
       "    <tr>\n",
       "      <th>3</th>\n",
       "      <td>/series/Arrow-2193021/season-1/episode-4-An_In...</td>\n",
       "      <td>My name is Oliver Queen.For 5 years, I was str...</td>\n",
       "      <td>my name is oliver queen for 5 years  i was str...</td>\n",
       "      <td>0.110172</td>\n",
       "      <td>0.204996</td>\n",
       "      <td>0.684832</td>\n",
       "      <td>8.3</td>\n",
       "      <td>5071</td>\n",
       "      <td>2</td>\n",
       "    </tr>\n",
       "    <tr>\n",
       "      <th>4</th>\n",
       "      <td>/series/Arrow-2193021/season-1/episode-5-Damaged</td>\n",
       "      <td>OLIVER:My name is Oliver Queen.For five years,...</td>\n",
       "      <td>oliver:my name is oliver queen for five years ...</td>\n",
       "      <td>0.067190</td>\n",
       "      <td>0.908645</td>\n",
       "      <td>0.024165</td>\n",
       "      <td>8.6</td>\n",
       "      <td>5011</td>\n",
       "      <td>1</td>\n",
       "    </tr>\n",
       "  </tbody>\n",
       "</table>\n",
       "</div>"
      ],
      "text/plain": [
       "                                             nome_ep  \\\n",
       "0     /series/Arrow-2193021/season-1/episode-1-Pilot   \n",
       "1  /series/Arrow-2193021/season-1/episode-2-Honor...   \n",
       "2  /series/Arrow-2193021/season-1/episode-3-Lone_...   \n",
       "3  /series/Arrow-2193021/season-1/episode-4-An_In...   \n",
       "4   /series/Arrow-2193021/season-1/episode-5-Damaged   \n",
       "\n",
       "                                           Episodios  \\\n",
       "0  The name of the islandthey found me on is Lian...   \n",
       "1  [PANTING][GRUNTS][SPEAKING IN FOREIGN LANGUAGE...   \n",
       "2  My name is Oliver Queen.To my family, I am the...   \n",
       "3  My name is Oliver Queen.For 5 years, I was str...   \n",
       "4  OLIVER:My name is Oliver Queen.For five years,...   \n",
       "\n",
       "                                      text_processed         0         1  \\\n",
       "0  the name of the islandthey found me on is lian...  0.015196  0.191026   \n",
       "1  [panting][grunts][speaking in foreign language...  0.014313  0.947105   \n",
       "2  my name is oliver queen to my family  i am the...  0.049773  0.876113   \n",
       "3  my name is oliver queen for 5 years  i was str...  0.110172  0.204996   \n",
       "4  oliver:my name is oliver queen for five years ...  0.067190  0.908645   \n",
       "\n",
       "          2  nota_imdb  qtd_reviews  Topic  \n",
       "0  0.793778        8.5         7572      2  \n",
       "1  0.038582        8.2         5731      1  \n",
       "2  0.074114        8.4         5367      1  \n",
       "3  0.684832        8.3         5071      2  \n",
       "4  0.024165        8.6         5011      1  "
      ]
     },
     "execution_count": 71,
     "metadata": {},
     "output_type": "execute_result"
    }
   ],
   "source": [
    "dataset.head()"
   ]
  },
  {
   "cell_type": "code",
   "execution_count": 72,
   "metadata": {
    "id": "EKtq7IHD8Jem",
    "outputId": "600ea8cf-9963-43cf-879f-72334e1c966f"
   },
   "outputs": [
    {
     "name": "stderr",
     "output_type": "stream",
     "text": [
      "/home/anna/anaconda3/lib/python3.8/site-packages/ipykernel/ipkernel.py:287: DeprecationWarning: `should_run_async` will not call `transform_cell` automatically in the future. Please pass the result to `transformed_cell` argument and any exception that happen during thetransform in `preprocessing_exc_tuple` in IPython 7.17 and above.\n",
      "  and should_run_async(code)\n"
     ]
    },
    {
     "data": {
      "text/plain": [
       "(165, 9)"
      ]
     },
     "execution_count": 72,
     "metadata": {},
     "output_type": "execute_result"
    }
   ],
   "source": [
    "dataset.shape"
   ]
  },
  {
   "cell_type": "code",
   "execution_count": 74,
   "metadata": {
    "id": "xUzK2Ky88Jem",
    "outputId": "448e10a8-7ccb-484e-db98-1ac3185af27f"
   },
   "outputs": [
    {
     "name": "stderr",
     "output_type": "stream",
     "text": [
      "/home/anna/anaconda3/lib/python3.8/site-packages/ipykernel/ipkernel.py:287: DeprecationWarning: `should_run_async` will not call `transform_cell` automatically in the future. Please pass the result to `transformed_cell` argument and any exception that happen during thetransform in `preprocessing_exc_tuple` in IPython 7.17 and above.\n",
      "  and should_run_async(code)\n"
     ]
    }
   ],
   "source": [
    "#dataset.to_csv('Data/scripts.csv',  sep=';')"
   ]
  }
 ],
 "metadata": {
  "colab": {
   "collapsed_sections": [],
   "name": "1 - Dataset_LDA_model.ipynb",
   "provenance": []
  },
  "kernelspec": {
   "display_name": "Python 3",
   "language": "python",
   "name": "python3"
  },
  "language_info": {
   "codemirror_mode": {
    "name": "ipython",
    "version": 3
   },
   "file_extension": ".py",
   "mimetype": "text/x-python",
   "name": "python",
   "nbconvert_exporter": "python",
   "pygments_lexer": "ipython3",
   "version": "3.8.8"
  }
 },
 "nbformat": 4,
 "nbformat_minor": 4
}